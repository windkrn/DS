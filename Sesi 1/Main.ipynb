{
 "cells": [
  {
   "cell_type": "markdown",
   "id": "57cc045a",
   "metadata": {
    "toc": true
   },
   "source": [
    "<h1>Sesi 1<span class=\"tocSkip\"></span></h1>\n",
    "<div class=\"toc\"><ul class=\"toc-item\"><li><span><a href=\"#Integer\" data-toc-modified-id=\"Integer-1\"><span class=\"toc-item-num\">1&nbsp;&nbsp;</span><strong>Integer</strong></a></span></li><li><span><a href=\"#Floating-Point-Number\" data-toc-modified-id=\"Floating-Point-Number-2\"><span class=\"toc-item-num\">2&nbsp;&nbsp;</span><strong>Floating-Point Number</strong></a></span></li><li><span><a href=\"#String\" data-toc-modified-id=\"String-3\"><span class=\"toc-item-num\">3&nbsp;&nbsp;</span>String</a></span></li><li><span><a href=\"#Boolean-Type,-Boolean-Context,-and-&quot;Truthiness&quot;\" data-toc-modified-id=\"Boolean-Type,-Boolean-Context,-and-&quot;Truthiness&quot;-4\"><span class=\"toc-item-num\">4&nbsp;&nbsp;</span><strong>Boolean Type, Boolean Context, and \"Truthiness</strong>\"</a></span></li><li><span><a href=\"#Variable-Assigment\" data-toc-modified-id=\"Variable-Assigment-5\"><span class=\"toc-item-num\">5&nbsp;&nbsp;</span>Variable Assigment</a></span></li><li><span><a href=\"#Variable-Types-in-Python\" data-toc-modified-id=\"Variable-Types-in-Python-6\"><span class=\"toc-item-num\">6&nbsp;&nbsp;</span>Variable Types in Python</a></span></li><li><span><a href=\"#Variable-Names\" data-toc-modified-id=\"Variable-Names-7\"><span class=\"toc-item-num\">7&nbsp;&nbsp;</span>Variable Names</a></span></li><li><span><a href=\"#Operators-and-Expressions-in-Python\" data-toc-modified-id=\"Operators-and-Expressions-in-Python-8\"><span class=\"toc-item-num\">8&nbsp;&nbsp;</span>Operators and Expressions in Python</a></span></li><li><span><a href=\"#Arithmetic-Operatos\" data-toc-modified-id=\"Arithmetic-Operatos-9\"><span class=\"toc-item-num\">9&nbsp;&nbsp;</span>Arithmetic Operatos</a></span></li><li><span><a href=\"#Comparison-Operators\" data-toc-modified-id=\"Comparison-Operators-10\"><span class=\"toc-item-num\">10&nbsp;&nbsp;</span>Comparison Operators</a></span></li><li><span><a href=\"#String-Manipulation\" data-toc-modified-id=\"String-Manipulation-11\"><span class=\"toc-item-num\">11&nbsp;&nbsp;</span>String Manipulation</a></span></li><li><span><a href=\"#Python-Lists\" data-toc-modified-id=\"Python-Lists-12\"><span class=\"toc-item-num\">12&nbsp;&nbsp;</span>Python Lists</a></span></li><li><span><a href=\"#Modifying-a-Single-List-Value\" data-toc-modified-id=\"Modifying-a-Single-List-Value-13\"><span class=\"toc-item-num\">13&nbsp;&nbsp;</span>Modifying a Single List Value</a></span></li><li><span><a href=\"#Modifying-Multiple-List-Values\" data-toc-modified-id=\"Modifying-Multiple-List-Values-14\"><span class=\"toc-item-num\">14&nbsp;&nbsp;</span>Modifying Multiple List Values</a></span></li><li><span><a href=\"#Python-Tuples\" data-toc-modified-id=\"Python-Tuples-15\"><span class=\"toc-item-num\">15&nbsp;&nbsp;</span>Python Tuples</a></span></li><li><span><a href=\"#Python-Dictionary-=-Defining-a-Dictionary\" data-toc-modified-id=\"Python-Dictionary-=-Defining-a-Dictionary-16\"><span class=\"toc-item-num\">16&nbsp;&nbsp;</span>Python Dictionary = Defining a Dictionary</a></span></li><li><span><a href=\"#Building-a-Dictionary-Incrementally\" data-toc-modified-id=\"Building-a-Dictionary-Incrementally-17\"><span class=\"toc-item-num\">17&nbsp;&nbsp;</span>Building a Dictionary Incrementally</a></span></li><li><span><a href=\"#Line-Continuation\" data-toc-modified-id=\"Line-Continuation-18\"><span class=\"toc-item-num\">18&nbsp;&nbsp;</span>Line Continuation</a></span></li></ul></div>"
   ]
  },
  {
   "cell_type": "markdown",
   "id": "4c881f8e",
   "metadata": {},
   "source": [
    "# __Integer__"
   ]
  },
  {
   "cell_type": "code",
   "execution_count": 3,
   "id": "693e1268",
   "metadata": {},
   "outputs": [
    {
     "name": "stdout",
     "output_type": "stream",
     "text": [
      "1231231232311111111111111141\n"
     ]
    }
   ],
   "source": [
    "print(1231231232311111111111111141)"
   ]
  },
  {
   "cell_type": "code",
   "execution_count": 2,
   "id": "995da847",
   "metadata": {},
   "outputs": [
    {
     "name": "stdout",
     "output_type": "stream",
     "text": [
      "10\n",
      "<class 'int'>\n"
     ]
    }
   ],
   "source": [
    "#Python interprets a sequence of decimal digits without any perfix to be a decimal number\n",
    "print(10)\n",
    "print(type(10))"
   ]
  },
  {
   "cell_type": "markdown",
   "id": "d66a8563",
   "metadata": {},
   "source": [
    "# __Floating-Point Number__"
   ]
  },
  {
   "cell_type": "code",
   "execution_count": 3,
   "id": "4edd5ac4",
   "metadata": {},
   "outputs": [
    {
     "name": "stdout",
     "output_type": "stream",
     "text": [
      "4.2\n",
      "<class 'float'>\n",
      "4.0\n"
     ]
    }
   ],
   "source": [
    "print(4.2)\n",
    "print(type(4.2))\n",
    "print(4.)"
   ]
  },
  {
   "cell_type": "markdown",
   "id": "7698981d",
   "metadata": {},
   "source": [
    "# String"
   ]
  },
  {
   "cell_type": "code",
   "execution_count": 4,
   "id": "5c9490c3",
   "metadata": {},
   "outputs": [
    {
     "name": "stdout",
     "output_type": "stream",
     "text": [
      "Hacktiv8\n",
      "<class 'str'>\n"
     ]
    }
   ],
   "source": [
    "print(\"Hacktiv8\")\n",
    "print(type(\"Hacktiv8\"))"
   ]
  },
  {
   "cell_type": "code",
   "execution_count": 5,
   "id": "3997c577",
   "metadata": {},
   "outputs": [
    {
     "name": "stdout",
     "output_type": "stream",
     "text": [
      "\n"
     ]
    }
   ],
   "source": [
    "#String juga dapat berisi kosong\n",
    "print(\"\")"
   ]
  },
  {
   "cell_type": "markdown",
   "id": "2506a20d",
   "metadata": {},
   "source": [
    "# __Boolean Type, Boolean Context, and \"Truthiness__\""
   ]
  },
  {
   "cell_type": "code",
   "execution_count": 7,
   "id": "576c1da3",
   "metadata": {},
   "outputs": [
    {
     "name": "stdout",
     "output_type": "stream",
     "text": [
      "<class 'bool'>\n",
      "<class 'bool'>\n"
     ]
    }
   ],
   "source": [
    "print(type(True))\n",
    "print(type(False))"
   ]
  },
  {
   "cell_type": "markdown",
   "id": "4f9cf5b5",
   "metadata": {},
   "source": [
    "# Variable Assigment"
   ]
  },
  {
   "cell_type": "code",
   "execution_count": 8,
   "id": "37c9a04a",
   "metadata": {},
   "outputs": [
    {
     "name": "stdout",
     "output_type": "stream",
     "text": [
      "300\n"
     ]
    }
   ],
   "source": [
    "n=300"
   ]
  },
  {
   "cell_type": "code",
   "execution_count": 10,
   "id": "5f3b4ea8",
   "metadata": {},
   "outputs": [
    {
     "name": "stdout",
     "output_type": "stream",
     "text": [
      "300\n"
     ]
    },
    {
     "data": {
      "text/plain": [
       "300"
      ]
     },
     "execution_count": 10,
     "metadata": {},
     "output_type": "execute_result"
    }
   ],
   "source": [
    "print(n)\n",
    "n"
   ]
  },
  {
   "cell_type": "code",
   "execution_count": 11,
   "id": "1e148b65",
   "metadata": {},
   "outputs": [
    {
     "name": "stdout",
     "output_type": "stream",
     "text": [
      "1000\n"
     ]
    },
    {
     "data": {
      "text/plain": [
       "1000"
      ]
     },
     "execution_count": 11,
     "metadata": {},
     "output_type": "execute_result"
    }
   ],
   "source": [
    "#Later, if you change the value of n and use it again, the new values will be substituted instead:\n",
    "n=1000\n",
    "print(n)\n",
    "n"
   ]
  },
  {
   "cell_type": "code",
   "execution_count": 12,
   "id": "d0952055",
   "metadata": {},
   "outputs": [
    {
     "name": "stdout",
     "output_type": "stream",
     "text": [
      "300 300 300\n"
     ]
    }
   ],
   "source": [
    "#Memungkinkan chained assigment, yang memungkinkan menetapkan nilai yang sama ke beberapa variabel secara bersamaan\n",
    "a=b=c=300\n",
    "print(a,b,c)"
   ]
  },
  {
   "cell_type": "markdown",
   "id": "1c57962b",
   "metadata": {},
   "source": [
    "# Variable Types in Python"
   ]
  },
  {
   "cell_type": "code",
   "execution_count": 13,
   "id": "2fa3c2c9",
   "metadata": {},
   "outputs": [
    {
     "name": "stdout",
     "output_type": "stream",
     "text": [
      "23.5\n",
      "Now I'am a String\n"
     ]
    }
   ],
   "source": [
    "#Variabel python dapat diberi value dari satu jenis dan kemudian diberi value dari jenis yang berbeda\n",
    "var=23.5\n",
    "print(var)\n",
    "\n",
    "var=\"Now I'am a String\"\n",
    "print(var)"
   ]
  },
  {
   "cell_type": "markdown",
   "id": "5a3e911c",
   "metadata": {},
   "source": [
    "# Variable Names"
   ]
  },
  {
   "cell_type": "code",
   "execution_count": 15,
   "id": "e89f4444",
   "metadata": {},
   "outputs": [
    {
     "name": "stdout",
     "output_type": "stream",
     "text": [
      "Hacktiv8 54 True\n"
     ]
    }
   ],
   "source": [
    "name = \"Hacktiv8\"\n",
    "Age = 54\n",
    "has_laptops = True\n",
    "print(name, Age, has_laptops)"
   ]
  },
  {
   "cell_type": "code",
   "execution_count": 16,
   "id": "be5aeaa5",
   "metadata": {},
   "outputs": [
    {
     "name": "stdout",
     "output_type": "stream",
     "text": [
      "1 2 3 4 5 6 7 8\n"
     ]
    }
   ],
   "source": [
    "#Perhatikan bahwa case disini sangat berperan. \n",
    "#Huruf besar dan kecil tidak sama, penggunaan karakter garis bawah penting\n",
    "age = 1\n",
    "Age = 2\n",
    "aGe = 3\n",
    "AGE = 4\n",
    "a_g_e = 5\n",
    "_age = 6\n",
    "age_=7\n",
    "_AGE_=8\n",
    "\n",
    "print(age,Age,aGe,AGE,a_g_e,_age,age_, _AGE_)\n"
   ]
  },
  {
   "cell_type": "markdown",
   "id": "8a726131",
   "metadata": {},
   "source": [
    "# Operators and Expressions in Python"
   ]
  },
  {
   "cell_type": "code",
   "execution_count": 17,
   "id": "cea69674",
   "metadata": {},
   "outputs": [
    {
     "data": {
      "text/plain": [
       "30"
      ]
     },
     "execution_count": 17,
     "metadata": {},
     "output_type": "execute_result"
    }
   ],
   "source": [
    "a = 10\n",
    "b = 20\n",
    "a+b"
   ]
  },
  {
   "cell_type": "code",
   "execution_count": 18,
   "id": "9b05b858",
   "metadata": {},
   "outputs": [
    {
     "data": {
      "text/plain": [
       "25"
      ]
     },
     "execution_count": 18,
     "metadata": {},
     "output_type": "execute_result"
    }
   ],
   "source": [
    "a = 10\n",
    "b = 20\n",
    "a+b-5"
   ]
  },
  {
   "cell_type": "markdown",
   "id": "6b2eb0b8",
   "metadata": {},
   "source": [
    "# Arithmetic Operatos"
   ]
  },
  {
   "cell_type": "code",
   "execution_count": 19,
   "id": "a61e8bb6",
   "metadata": {},
   "outputs": [
    {
     "name": "stdout",
     "output_type": "stream",
     "text": [
      "7\n",
      "1\n",
      "12\n",
      "1.3333333333333333\n",
      "1\n",
      "64\n"
     ]
    }
   ],
   "source": [
    "a = 4\n",
    "b = 3\n",
    "print(a + b)\n",
    "print(a - b)\n",
    "print(a * b)\n",
    "print(a / b)\n",
    "print(a % b)\n",
    "print(a ** b)"
   ]
  },
  {
   "cell_type": "code",
   "execution_count": 20,
   "id": "20435937",
   "metadata": {},
   "outputs": [
    {
     "data": {
      "text/plain": [
       "2.0"
      ]
     },
     "execution_count": 20,
     "metadata": {},
     "output_type": "execute_result"
    }
   ],
   "source": [
    "10/5"
   ]
  },
  {
   "cell_type": "markdown",
   "id": "76ad4e7b",
   "metadata": {},
   "source": [
    "# Comparison Operators"
   ]
  },
  {
   "cell_type": "code",
   "execution_count": 1,
   "id": "f3424f05",
   "metadata": {},
   "outputs": [
    {
     "name": "stdout",
     "output_type": "stream",
     "text": [
      "False\n",
      "True\n",
      "True\n",
      "False\n"
     ]
    }
   ],
   "source": [
    "a = 10\n",
    "b = 20\n",
    "\n",
    "print(a == b)\n",
    "print(a != b)\n",
    "print(a <= b)\n",
    "print(a >= b)\n"
   ]
  },
  {
   "cell_type": "code",
   "execution_count": 2,
   "id": "1f879238",
   "metadata": {},
   "outputs": [
    {
     "name": "stdout",
     "output_type": "stream",
     "text": [
      "True\n",
      "False\n",
      "True\n",
      "True\n"
     ]
    }
   ],
   "source": [
    "a = 20\n",
    "b = 20\n",
    "\n",
    "print(a == b)\n",
    "print(a != b)\n",
    "print(a <= b)\n",
    "print(a >= b)"
   ]
  },
  {
   "cell_type": "markdown",
   "id": "b7e806dd",
   "metadata": {},
   "source": [
    "# String Manipulation"
   ]
  },
  {
   "cell_type": "code",
   "execution_count": 3,
   "id": "4e83d747",
   "metadata": {},
   "outputs": [
    {
     "name": "stdout",
     "output_type": "stream",
     "text": [
      "foobar\n",
      "foobarbaz\n",
      "Hacktiv8PTP\n"
     ]
    }
   ],
   "source": [
    "# + Operators\n",
    "s = \"foo\"\n",
    "t = \"bar\"\n",
    "u = \"baz\"\n",
    "\n",
    "print(s+t)\n",
    "print(s+t+u)\n",
    "print(\"Hacktiv8\" + \"PTP\")\n"
   ]
  },
  {
   "cell_type": "code",
   "execution_count": 5,
   "id": "b5631515",
   "metadata": {},
   "outputs": [
    {
     "data": {
      "text/plain": [
       "'foo-foo-foo-foo-'"
      ]
     },
     "execution_count": 5,
     "metadata": {},
     "output_type": "execute_result"
    }
   ],
   "source": [
    "# * Operator\n",
    "s =\"foo-\"\n",
    "s*4"
   ]
  },
  {
   "cell_type": "code",
   "execution_count": 6,
   "id": "45bcbf38",
   "metadata": {},
   "outputs": [
    {
     "name": "stdout",
     "output_type": "stream",
     "text": [
      "True\n",
      "False\n"
     ]
    }
   ],
   "source": [
    "# in Opeators\n",
    "s = \"foo\"\n",
    "print( s in \"That food for us\")\n",
    "print( s in \"That good for us\")\n"
   ]
  },
  {
   "cell_type": "code",
   "execution_count": 7,
   "id": "97f4a471",
   "metadata": {},
   "outputs": [
    {
     "name": "stdout",
     "output_type": "stream",
     "text": [
      "Hacktiv8\n",
      "hacktiv8\n",
      "hACKtiv8\n",
      "Hacktiv8\n",
      "HACKTIV8\n"
     ]
    }
   ],
   "source": [
    "#Case connversion\n",
    "s = \"HackTIV8\"\n",
    "\n",
    "print(s.capitalize())\n",
    "print(s.lower())\n",
    "print(s.swapcase())\n",
    "print(s.title())\n",
    "print(s.upper())"
   ]
  },
  {
   "cell_type": "markdown",
   "id": "a30368e5",
   "metadata": {},
   "source": [
    "# Python Lists\n",
    "list adalah kumpulan objek yang arbitrary, aga mirip dengan array tapi lebih fleksibel. List didefinisikan dalam python dengan menyertakan squence object yang dipisahkan koma dalam tanda kurung siku([])"
   ]
  },
  {
   "cell_type": "code",
   "execution_count": 8,
   "id": "da903be1",
   "metadata": {},
   "outputs": [
    {
     "name": "stdout",
     "output_type": "stream",
     "text": [
      "['foo', 'bar', 'baz', 'qux']\n"
     ]
    }
   ],
   "source": [
    "a = [\"foo\",\"bar\",\"baz\",\"qux\"]\n",
    "print(a)"
   ]
  },
  {
   "cell_type": "markdown",
   "id": "4194f79c",
   "metadata": {},
   "source": [
    "Lists Can Contain Arbitrary Objects"
   ]
  },
  {
   "cell_type": "code",
   "execution_count": 9,
   "id": "ec91a4a2",
   "metadata": {},
   "outputs": [
    {
     "name": "stdout",
     "output_type": "stream",
     "text": [
      "[21.42, 'foorbar', 3, 4, 'bark', False, 3.14159]\n"
     ]
    }
   ],
   "source": [
    "a = [21.42, \"foorbar\", 3,4, \"bark\", False, 3.14159]\n",
    "print(a)"
   ]
  },
  {
   "cell_type": "markdown",
   "id": "8ed4ec9f",
   "metadata": {},
   "source": [
    "List Elements Can Be Accessed by Index"
   ]
  },
  {
   "cell_type": "code",
   "execution_count": 10,
   "id": "3061c72d",
   "metadata": {},
   "outputs": [
    {
     "name": "stdout",
     "output_type": "stream",
     "text": [
      "foo\n",
      "corge\n"
     ]
    }
   ],
   "source": [
    "a = [\"foo\",\"bar\",\"baz\",\"qux\",\"quux\",\"corge\"]\n",
    "print(a[0])\n",
    "print(a[5])"
   ]
  },
  {
   "cell_type": "code",
   "execution_count": 11,
   "id": "c4f36954",
   "metadata": {},
   "outputs": [
    {
     "name": "stdout",
     "output_type": "stream",
     "text": [
      "corge\n",
      "bar\n"
     ]
    }
   ],
   "source": [
    "print(a[-1])\n",
    "print(a[-5])"
   ]
  },
  {
   "cell_type": "code",
   "execution_count": 12,
   "id": "758b4401",
   "metadata": {},
   "outputs": [
    {
     "name": "stdout",
     "output_type": "stream",
     "text": [
      "['foo', 'bar', 'baz', 'qux', 'quux', 'corge']\n",
      "['foo', 'bar', 'baz', 'qux', 'quux', 'corge', 'grault', 'graply']\n",
      "['foo', 'bar', 'baz', 'qux', 'quux', 'corge', 'foo', 'bar', 'baz', 'qux', 'quux', 'corge']\n"
     ]
    }
   ],
   "source": [
    "#The Concatenation (+) adn Replication (*) operators :\n",
    "print(a)\n",
    "print(a+[\"grault\",\"graply\"])\n",
    "print(a*2)"
   ]
  },
  {
   "cell_type": "code",
   "execution_count": 13,
   "id": "7f51c7a9",
   "metadata": {},
   "outputs": [
    {
     "name": "stdout",
     "output_type": "stream",
     "text": [
      "['foo', 'bar', 'baz', 'qux', 'quux', 'corge']\n",
      "6\n",
      "bar\n",
      "qux\n"
     ]
    }
   ],
   "source": [
    "#len(), mix(), max()\n",
    "print(a)\n",
    "print(len(a))\n",
    "print(min(a))\n",
    "print(max(a))"
   ]
  },
  {
   "cell_type": "markdown",
   "id": "1806a8df",
   "metadata": {},
   "source": [
    "# Modifying a Single List Value\n",
    "Satu nilai dalam list dapat diganti dengan pengindeksan dan assignment sederhana"
   ]
  },
  {
   "cell_type": "code",
   "execution_count": 14,
   "id": "a0608f6c",
   "metadata": {},
   "outputs": [
    {
     "name": "stdout",
     "output_type": "stream",
     "text": [
      "['foo', 'bar', 'baz', 'qux', 'quux', 'corge']\n",
      "['foo', 'bar', 10, 'qux', 'quux', 20]\n"
     ]
    }
   ],
   "source": [
    "a = [\"foo\",\"bar\",\"baz\",\"qux\",\"quux\",\"corge\"]\n",
    "\n",
    "print(a)\n",
    "a[2] = 10\n",
    "a[-1]= 20\n",
    "\n",
    "print(a)"
   ]
  },
  {
   "cell_type": "code",
   "execution_count": 15,
   "id": "be008c09",
   "metadata": {},
   "outputs": [],
   "source": [
    "#A list item can be deleted with the del command\n",
    "del a[3]"
   ]
  },
  {
   "cell_type": "code",
   "execution_count": 16,
   "id": "05bd9d84",
   "metadata": {},
   "outputs": [
    {
     "name": "stdout",
     "output_type": "stream",
     "text": [
      "['foo', 'bar', 10, 'quux', 20]\n"
     ]
    }
   ],
   "source": [
    "print(a)"
   ]
  },
  {
   "cell_type": "markdown",
   "id": "4bdb029c",
   "metadata": {},
   "source": [
    "# Modifying Multiple List Values\n",
    "Jika kalian ingin mengubah beberapa elemen yang bersebelahan dari list. Python memungkinkan hal ini dengan slice"
   ]
  },
  {
   "cell_type": "code",
   "execution_count": 18,
   "id": "b03ab127",
   "metadata": {},
   "outputs": [
    {
     "name": "stdout",
     "output_type": "stream",
     "text": [
      "['bar', 'baz', 'qux']\n",
      "['foo', 1.1, 2.2, 3.3, 4.4, 5.5, 'quux', 'corge']\n"
     ]
    }
   ],
   "source": [
    "a = [\"foo\",\"bar\",\"baz\",\"qux\",\"quux\",\"corge\"]\n",
    "print(a[1:4])\n",
    "a[1:4] = [1.1, 2.2, 3.3, 4.4, 5.5]\n",
    "print(a)"
   ]
  },
  {
   "cell_type": "markdown",
   "id": "79091ef3",
   "metadata": {},
   "source": [
    "# Python Tuples\n",
    "Tuples adalah tipe lain dari kumpulan objek beruntun.\n",
    "Tuples didefinisikan dengan mengapit elemen dalam tanda kurung().\n",
    "Tuples tidak bisa diubah"
   ]
  },
  {
   "cell_type": "code",
   "execution_count": 19,
   "id": "6521c483",
   "metadata": {},
   "outputs": [
    {
     "name": "stdout",
     "output_type": "stream",
     "text": [
      "('foo', 'bar', 'baz', 'qux', 'quux', 'corge')\n"
     ]
    }
   ],
   "source": [
    "t = (\"foo\",\"bar\",\"baz\",\"qux\",\"quux\",\"corge\")\n",
    "print(t)"
   ]
  },
  {
   "cell_type": "code",
   "execution_count": 20,
   "id": "a70defc9",
   "metadata": {},
   "outputs": [
    {
     "name": "stdout",
     "output_type": "stream",
     "text": [
      "foo\n",
      "corge\n"
     ]
    }
   ],
   "source": [
    "print(t[0])\n",
    "print(t[-1])"
   ]
  },
  {
   "cell_type": "code",
   "execution_count": 21,
   "id": "9b16085b",
   "metadata": {},
   "outputs": [
    {
     "data": {
      "text/plain": [
       "'foo'"
      ]
     },
     "execution_count": 21,
     "metadata": {},
     "output_type": "execute_result"
    }
   ],
   "source": [
    "#Packing and unpacking\n",
    "(s1, s2, s3, s4) = (\"foo\",\"bar\",\"baz\",\"qux\")\n",
    "s1"
   ]
  },
  {
   "cell_type": "markdown",
   "id": "da5e159a",
   "metadata": {},
   "source": [
    "# Python Dictionary = Defining a Dictionary\n",
    "Dictionary adalah implementasi python dari struktur data (Associative array)\n",
    "Dictionary terdiir dari key-value pairs. setiap key value pairs memetakan key ke value terkait."
   ]
  },
  {
   "cell_type": "code",
   "execution_count": 22,
   "id": "c4ec5e0b",
   "metadata": {},
   "outputs": [],
   "source": [
    "MLB_team = {\n",
    "    \"Colorado\" : \"Rockies\",\n",
    "    \"Boston\" : \"Red Sox\",\n",
    "    \"Minnesota\" : \"Twins\",\n",
    "    \"Milwaukee\" : \"Brewers\",\n",
    "    \"Seattle\" : \"Marianers\"\n",
    "}"
   ]
  },
  {
   "cell_type": "code",
   "execution_count": 24,
   "id": "e6e86b79",
   "metadata": {},
   "outputs": [
    {
     "name": "stdout",
     "output_type": "stream",
     "text": [
      "Twins\n",
      "Rockies\n"
     ]
    }
   ],
   "source": [
    "print(MLB_team[\"Minnesota\"])\n",
    "print(MLB_team[\"Colorado\"])\n",
    "\n",
    "#eror\n",
    "#MLB_team[\"Toronto\"]"
   ]
  },
  {
   "cell_type": "code",
   "execution_count": 25,
   "id": "ee1aed36",
   "metadata": {},
   "outputs": [
    {
     "data": {
      "text/plain": [
       "{'Colorado': 'Rockies',\n",
       " 'Boston': 'Red Sox',\n",
       " 'Minnesota': 'Twins',\n",
       " 'Milwaukee': 'Brewers',\n",
       " 'Seattle': 'Marianers',\n",
       " 'Kansas City': 'Royals'}"
      ]
     },
     "execution_count": 25,
     "metadata": {},
     "output_type": "execute_result"
    }
   ],
   "source": [
    "#Adding an entry to an existing dictionary is simply a matter assigning a new and value:\n",
    "MLB_team[\"Kansas City\"] = \"Royals\"\n",
    "MLB_team"
   ]
  },
  {
   "cell_type": "code",
   "execution_count": 26,
   "id": "8a27d865",
   "metadata": {},
   "outputs": [
    {
     "data": {
      "text/plain": [
       "{'Colorado': 'Rockies',\n",
       " 'Boston': 'Red Sox',\n",
       " 'Minnesota': 'Twins',\n",
       " 'Milwaukee': 'Brewers',\n",
       " 'Seattle': 'Seahawks',\n",
       " 'Kansas City': 'Royals'}"
      ]
     },
     "execution_count": 26,
     "metadata": {},
     "output_type": "execute_result"
    }
   ],
   "source": [
    "#If you want to update an entry, you can just assign a new balue to an existing key:\n",
    "MLB_team[\"Seattle\"] = \"Seahawks\"\n",
    "MLB_team"
   ]
  },
  {
   "cell_type": "code",
   "execution_count": 27,
   "id": "4815af16",
   "metadata": {},
   "outputs": [
    {
     "data": {
      "text/plain": [
       "{'Colorado': 'Rockies',\n",
       " 'Boston': 'Red Sox',\n",
       " 'Minnesota': 'Twins',\n",
       " 'Milwaukee': 'Brewers',\n",
       " 'Kansas City': 'Royals'}"
      ]
     },
     "execution_count": 27,
     "metadata": {},
     "output_type": "execute_result"
    }
   ],
   "source": [
    "#To delete an entry, use the del statement, specifying the key to delete:\n",
    "del MLB_team[\"Seattle\"]\n",
    "MLB_team"
   ]
  },
  {
   "cell_type": "markdown",
   "id": "5fc9c3d3",
   "metadata": {},
   "source": [
    "# Building a Dictionary Incrementally\n",
    "Ketika ingin membuat dictionary sambil jalan. Kita bisa memulai dengan membuat dictionary kosong, yang ditentukan dengan tanda kurung kurawal ksong. kemudian menambahkan kunci dan nilai baru satu persatuu"
   ]
  },
  {
   "cell_type": "code",
   "execution_count": 28,
   "id": "f463ecd6",
   "metadata": {},
   "outputs": [],
   "source": [
    "person = {}\n",
    "type(person)\n",
    "\n",
    "person[\"fname\"] = \"Hack\"\n",
    "person[\"lname\"] = \"PTP\"\n",
    "person[\"age\"]=51\n",
    "person[\"spouse\"]=\"Edna\"\n",
    "person[\"children\"]= [\"Ralph\",\"Betty\",\"Joey\"]\n",
    "person[\"pets\"]={\"dog\":\"fido\", \"cat\":\"sox\"}"
   ]
  },
  {
   "cell_type": "code",
   "execution_count": 29,
   "id": "39e1f930",
   "metadata": {},
   "outputs": [
    {
     "data": {
      "text/plain": [
       "{'fname': 'Hack',\n",
       " 'lname': 'PTP',\n",
       " 'age': 51,\n",
       " 'spouse': 'Edna',\n",
       " 'children': ['Ralph', 'Betty', 'Joey'],\n",
       " 'pets': {'dog': 'fido', 'cat': 'sox'}}"
      ]
     },
     "execution_count": 29,
     "metadata": {},
     "output_type": "execute_result"
    }
   ],
   "source": [
    "person"
   ]
  },
  {
   "cell_type": "code",
   "execution_count": 31,
   "id": "fafc9033",
   "metadata": {},
   "outputs": [
    {
     "name": "stdout",
     "output_type": "stream",
     "text": [
      "Hack\n",
      "PTP\n"
     ]
    }
   ],
   "source": [
    "print(person[\"fname\"])\n",
    "print(person[\"lname\"])"
   ]
  },
  {
   "cell_type": "code",
   "execution_count": 32,
   "id": "e2fb14fb",
   "metadata": {},
   "outputs": [
    {
     "name": "stdout",
     "output_type": "stream",
     "text": [
      "['Ralph', 'Betty', 'Joey']\n",
      "Betty\n"
     ]
    }
   ],
   "source": [
    "print(person[\"children\"])\n",
    "print(person[\"children\"][1])"
   ]
  },
  {
   "cell_type": "code",
   "execution_count": 33,
   "id": "205a10ac",
   "metadata": {},
   "outputs": [
    {
     "name": "stdout",
     "output_type": "stream",
     "text": [
      "{'dog': 'fido', 'cat': 'sox'}\n",
      "sox\n"
     ]
    }
   ],
   "source": [
    "print(person[\"pets\"])\n",
    "print(person[\"pets\"][\"cat\"])"
   ]
  },
  {
   "cell_type": "code",
   "execution_count": 35,
   "id": "219d7634",
   "metadata": {},
   "outputs": [
    {
     "name": "stdout",
     "output_type": "stream",
     "text": [
      "dict_items([('a', 10), ('b', 20), ('c', 30)])\n",
      "dict_keys(['a', 'b', 'c'])\n",
      "dict_values([10, 20, 30])\n"
     ]
    }
   ],
   "source": [
    "#Built-in methods\n",
    "d={\"a\":10, \"b\":20, \"c\":30}\n",
    "\n",
    "print(d.items())\n",
    "print(d.keys())\n",
    "print(d.values())"
   ]
  },
  {
   "cell_type": "markdown",
   "id": "b1eb1566",
   "metadata": {},
   "source": [
    "# Line Continuation\n",
    "Misal memiliki assignment statement dengan banyak terms"
   ]
  },
  {
   "cell_type": "code",
   "execution_count": 37,
   "id": "2597bb48",
   "metadata": {},
   "outputs": [
    {
     "data": {
      "text/plain": [
       "True"
      ]
     },
     "execution_count": 37,
     "metadata": {},
     "output_type": "execute_result"
    }
   ],
   "source": [
    "person1_age = 42\n",
    "person2_age = 16\n",
    "person3_age = 71\n",
    "\n",
    "someone_is_of_working_age = (\n",
    "    (person1_age >= 18 and person1_age<=65)\n",
    "    or (person2_age >= 18 and person2_age <=65)\n",
    "    or (person3_age >= 18 and person3_ager <=65)\n",
    ")\n",
    "someone_is_of_working_age"
   ]
  }
 ],
 "metadata": {
  "kernelspec": {
   "display_name": "Python 3 (ipykernel)",
   "language": "python",
   "name": "python3"
  },
  "language_info": {
   "codemirror_mode": {
    "name": "ipython",
    "version": 3
   },
   "file_extension": ".py",
   "mimetype": "text/x-python",
   "name": "python",
   "nbconvert_exporter": "python",
   "pygments_lexer": "ipython3",
   "version": "3.8.7"
  },
  "toc": {
   "base_numbering": 1,
   "nav_menu": {},
   "number_sections": true,
   "sideBar": false,
   "skip_h1_title": false,
   "title_cell": "Sesi 1",
   "title_sidebar": "Contents",
   "toc_cell": true,
   "toc_position": {
    "height": "calc(100% - 180px)",
    "left": "10px",
    "top": "150px",
    "width": "165px"
   },
   "toc_section_display": false,
   "toc_window_display": true
  }
 },
 "nbformat": 4,
 "nbformat_minor": 5
}
