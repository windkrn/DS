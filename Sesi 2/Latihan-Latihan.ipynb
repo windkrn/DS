{
 "cells": [
  {
   "cell_type": "markdown",
   "id": "215583d0",
   "metadata": {},
   "source": [
    "# Latihan 1"
   ]
  },
  {
   "cell_type": "code",
   "execution_count": 1,
   "id": "204b700f",
   "metadata": {},
   "outputs": [
    {
     "name": "stdout",
     "output_type": "stream",
     "text": [
      "panjang segiempat    :  5\n",
      "lebar segiempat      : 10\n",
      "keliling_segiempat   :  30\n",
      "luas segi empat      :  50\n"
     ]
    }
   ],
   "source": [
    "panjang = 5\n",
    "lebar   = 10\n",
    "keliling_segiempat = 2*panjang  + 2 *lebar\n",
    "luas_segiempat     = panjang * lebar\n",
    "print(\"panjang segiempat    : \", panjang)\n",
    "print(\"lebar segiempat      :\" , lebar)\n",
    "print(\"keliling_segiempat   : \", keliling_segiempat)\n",
    "print(\"luas segi empat      : \", luas_segiempat)\n"
   ]
  },
  {
   "cell_type": "markdown",
   "id": "7d3c5689",
   "metadata": {},
   "source": [
    "# Latihan 2"
   ]
  },
  {
   "cell_type": "code",
   "execution_count": 3,
   "id": "6fcfd0ec",
   "metadata": {},
   "outputs": [
    {
     "name": "stdout",
     "output_type": "stream",
     "text": [
      "nilai panjang : 2\n",
      "nilai lebar   : 2\n",
      "panjang segiempat    :  2\n",
      "lebar segiempat      :  2\n",
      "keliling segiempat   :  8\n",
      "luas segiempat       :  4\n"
     ]
    }
   ],
   "source": [
    "panjang = int(input(\"nilai panjang : \"))\n",
    "lebar   = int(input(\"nilai lebar   : \"))\n",
    "keliling_segiempat = (2*(panjang)) + (2*(lebar))\n",
    "luas_segiempat= int((panjang)*(lebar))\n",
    "print(\"panjang segiempat    : \", panjang)\n",
    "print(\"lebar segiempat      : \" , lebar)\n",
    "print(\"keliling segiempat   : \",keliling_segiempat)\n",
    "print(\"luas segiempat       : \", luas_segiempat)"
   ]
  },
  {
   "cell_type": "markdown",
   "id": "9a10f015",
   "metadata": {},
   "source": [
    "# Latihan 3"
   ]
  },
  {
   "cell_type": "code",
   "execution_count": 4,
   "id": "1d8fe614",
   "metadata": {},
   "outputs": [
    {
     "name": "stdout",
     "output_type": "stream",
     "text": [
      "luas segitiga :  60.0\n"
     ]
    }
   ],
   "source": [
    "alas   = 10\n",
    "tinggi = 12\n",
    "luas_segitiga = (alas*tinggi)/2\n",
    "print(\"luas segitiga : \", luas_segitiga)"
   ]
  },
  {
   "cell_type": "markdown",
   "id": "ea582e4b",
   "metadata": {},
   "source": [
    "# Latihan 4"
   ]
  },
  {
   "cell_type": "code",
   "execution_count": 6,
   "id": "256f0b9b",
   "metadata": {},
   "outputs": [
    {
     "name": "stdout",
     "output_type": "stream",
     "text": [
      "nilai alas    : 1\n",
      "nilai tinggi  : 2\n",
      "luas segitiga    :  1.0\n",
      "keliling segitiga:  3\n"
     ]
    }
   ],
   "source": [
    "alas   = int(input(\"nilai alas    : \"))\n",
    "tinggi = int(input(\"nilai tinggi  : \"))\n",
    "keliling_segitiga = 3*(alas)\n",
    "luas_segitiga     = (alas)*(tinggi)/2\n",
    "print(\"luas segitiga    : \", luas_segitiga)\n",
    "print(\"keliling segitiga: \", keliling_segitiga)"
   ]
  },
  {
   "cell_type": "markdown",
   "id": "232e6972",
   "metadata": {},
   "source": [
    "# Latihan 5"
   ]
  },
  {
   "cell_type": "code",
   "execution_count": 8,
   "id": "8e7dc2fd",
   "metadata": {},
   "outputs": [
    {
     "name": "stdout",
     "output_type": "stream",
     "text": [
      "Perhitungan  2 dimensi\n",
      "1. segiempat\n",
      "2. segitiga\n",
      "3. persegi\n",
      "4. lingkaran\n",
      "masukan pilihan anda :1\n",
      "segiempat\n",
      "nilai panjang : 2\n",
      "nilai lebar   : 2\n",
      "panjang segiempat    :  2\n",
      "lebar segiempat      :  2\n",
      "keliling_segiempat   :  8\n",
      "luas segi empat      :  4\n"
     ]
    }
   ],
   "source": [
    "print(\"Perhitungan  2 dimensi\")\n",
    "print(\"1. segiempat\")\n",
    "print(\"2. segitiga\")\n",
    "print(\"3. persegi\")\n",
    "print(\"4. lingkaran\")\n",
    "\n",
    "pil = int(input(\"masukan pilihan anda :\"))\n",
    "if pil == 1:\n",
    "    print(\"segiempat\")\n",
    "    panjang = input(\"nilai panjang : \")\n",
    "    lebar   = input(\"nilai lebar   : \")\n",
    "    keliling_segiempat = 2* int(panjang)  + 2 *int(lebar)\n",
    "    luas_segiempat= int(panjang) * int(lebar)\n",
    "    print(\"panjang segiempat    : \", panjang)\n",
    "    print(\"lebar segiempat      : \", lebar)\n",
    "    print(\"keliling_segiempat   : \",keliling_segiempat)\n",
    "    print(\"luas segi empat      : \", luas_segiempat)\n",
    "\n",
    "elif pil ==2:\n",
    "    print(\"segitiga\")\n",
    "    alas   = input(\"nilai alas    : \")\n",
    "    tinggi = input(\"nilai tinggi  : \")\n",
    "    keliling_segitiga= 3*int(alas)\n",
    "    luas_segitiga = (int(alas)*int(tinggi))/2\n",
    "    print(\"luas segitiga    : \", luas_segitiga)\n",
    "    print(\"keliling segitiga: \", keliling_segitiga)\n",
    "\n",
    "elif pil == 3:\n",
    "    print(\"Persegi\")\n",
    "    s = input(\"nilai sisi : \")\n",
    "    keliling_persegi = 4 * int(s)\n",
    "    luas_persegi = int(s) * int(s)\n",
    "    print(\"luas segitiga    : \", luas_persegi)\n",
    "    print(\"keliling segitiga: \", keliling_persegi)\n",
    "\n",
    "elif pil == 4 :\n",
    "    print(\"lingkaran\")\n",
    "    r = float(input(\"nilai jari-jari : \"))\n",
    "    phi=3.14\n",
    "    keliling_lingkaran = 2*phi* (r)\n",
    "    luas_lingkaran = phi* (r) * (r)\n",
    "    print(\"luas lingkaran     : \", luas_lingkaran)\n",
    "    print(\"keliling lingkarana: \", keliling_lingkaran)\n",
    "\n",
    "else:\n",
    "    print(\"belum ada\")"
   ]
  },
  {
   "cell_type": "markdown",
   "id": "07521754",
   "metadata": {},
   "source": [
    "# Latihan 6"
   ]
  },
  {
   "cell_type": "code",
   "execution_count": 9,
   "id": "8cc3f4cb",
   "metadata": {},
   "outputs": [
    {
     "name": "stdout",
     "output_type": "stream",
     "text": [
      "Perhitungan  2 dimensi\n",
      "1. segiempat\n",
      "2. segitiga\n",
      "3. persegi\n",
      "4. lingkaran\n",
      "masukan pilihan anda :1\n",
      "segiempat\n",
      "nilai panjang :2\n",
      "nilai lebar :2\n",
      "panjang segiempat    :  2\n",
      "lebar segiempat      :  2\n",
      "keliling_segiempat   :  8\n",
      "luas segi empat      :  4\n",
      "Apa anda ingin mengulang ? (Y/T) : t\n",
      "Program Selesai\n"
     ]
    }
   ],
   "source": [
    "print(\"Perhitungan  2 dimensi\")\n",
    "print(\"1. segiempat\")\n",
    "print(\"2. segitiga\")\n",
    "print(\"3. persegi\")\n",
    "print(\"4. lingkaran\")\n",
    "\n",
    "ulang = \"Y\"\n",
    "\n",
    "while ulang==\"Y\" or ulang ==\"y\":\n",
    "    pil = (int(input(\"masukan pilihan anda :\")))\n",
    "    if  pil == 1:\n",
    "        print(\"segiempat\")\n",
    "        panjang = input(\"nilai panjang :\")\n",
    "        lebar = input(\"nilai lebar :\")\n",
    "        keliling_segiempat = 2* int(panjang)  + 2 *int(lebar)\n",
    "        luas_segiempat= int(panjang) * int(lebar)\n",
    "        print(\"panjang segiempat    : \", panjang)\n",
    "        print(\"lebar segiempat      : \", lebar)\n",
    "        print(\"keliling_segiempat   : \",keliling_segiempat)\n",
    "        print(\"luas segi empat      : \", luas_segiempat)\n",
    "\n",
    "    elif pil == 2:\n",
    "        print(\"segitiga\")\n",
    "        alas   = input(\"nilai alas    :\")\n",
    "        tinggi = input(\"nilai tinggi  :\")\n",
    "        keliling_segitiga= 3*int(alas)\n",
    "        luas_segitiga = (int(alas)*int(tinggi))/2\n",
    "        print(\"luas segitiga    : \", luas_segitiga)\n",
    "        print(\"keliling segitiga: \", keliling_segitiga)\n",
    "\n",
    "    elif pil == 3 :\n",
    "        print(\"Persegi\")\n",
    "        s = input(\"nilai sisi :\")\n",
    "        keliling_persegi = 4 * int(s)\n",
    "        luas_persegi = int(s) * int(s)\n",
    "        print(\"luas segitiga    : \", luas_persegi)\n",
    "        print(\"keliling segitiga: \", keliling_persegi)\n",
    "\n",
    "    elif pil == 4 :\n",
    "        print(\"lingkaran\")\n",
    "        r = float(input(\"nilai jari-jari : \"))\n",
    "        phi=3.14\n",
    "        keliling_lingkaran = 2*phi* (r)\n",
    "        luas_lingkaran = phi* (r) * (r)\n",
    "        print(\"luas lingkaran   : \", luas_lingkaran)\n",
    "        print(\"keliling lingkarana: \", keliling_lingkaran)\n",
    "\n",
    "    else:\n",
    "        print(\"belum ada\")\n",
    "    \n",
    "    ulang= input(\"Apa anda ingin mengulang ? (Y/T) : \")\n",
    "\n",
    "else:\n",
    "    print(\"Program Selesai\")"
   ]
  },
  {
   "cell_type": "markdown",
   "id": "7fbcf1cc",
   "metadata": {},
   "source": [
    "# Latihan 7"
   ]
  },
  {
   "cell_type": "code",
   "execution_count": 10,
   "id": "2edd4e6e",
   "metadata": {},
   "outputs": [
    {
     "name": "stdout",
     "output_type": "stream",
     "text": [
      "Perhitungan  2 dimensi\n",
      "1. segiempat\n",
      "2. segitiga\n",
      "3. persegi\n",
      "4. lingkaran\n",
      "masukan pilihan anda : 1\n",
      "nilai panjang :2\n",
      "nilai lebar   :2\n",
      "keliling_segiempat   :  8\n",
      "luas segi empat      :  4\n",
      "Apa anda ingin mengulang ? (Y/T) : t\n",
      "Program Selesai\n"
     ]
    }
   ],
   "source": [
    "def segiempat(p,l) :\n",
    "    #fungsi menghitung segiempat\n",
    "    keliling_segiempat = 2*int(p) + 2*int(l)\n",
    "    luas_segiempat = int(p)* int(l)\n",
    "    print(\"keliling_segiempat   : \",keliling_segiempat)\n",
    "    print(\"luas segi empat      : \", luas_segiempat)\n",
    "\n",
    "def segitiga(a,t) :\n",
    "    keliling_segitiga= 3*int(a)\n",
    "    luas_segitiga = (int(a)*int(t))/2\n",
    "    print(\"luas segitiga    : \", luas_segitiga)\n",
    "    print(\"keliling segitiga: \", keliling_segitiga)\n",
    "\n",
    "def persegi(s) :\n",
    "    keliling_persegi = 4 * int(s)\n",
    "    luas_persegi = int(s) * int(s)\n",
    "    print(\"luas segitiga    : \", luas_persegi)\n",
    "    print(\"keliling segitiga: \", keliling_persegi)\n",
    "\n",
    "def lingkaran(r) :\n",
    "    keliling_lingkaran = 2* 22/7 * float(r)\n",
    "    luas_lingkaran = 22/7* float(r) * float(r)\n",
    "    print(\"luas lingkaran     : \", luas_lingkaran)\n",
    "    print(\"keliling lingkarana: \", keliling_lingkaran)\n",
    "\n",
    "print(\"Perhitungan  2 dimensi\")\n",
    "print(\"1. segiempat\")\n",
    "print(\"2. segitiga\")\n",
    "print(\"3. persegi\")\n",
    "print(\"4. lingkaran\")\n",
    "\n",
    "ulang = \"Y\"\n",
    "\n",
    "while ulang==\"Y\" or ulang ==\"y\":\n",
    "    pil = int(input(\"masukan pilihan anda : \"))\n",
    "\n",
    "    if pil == 1 :\n",
    "        p = input(\"nilai panjang :\")\n",
    "        l = input(\"nilai lebar   :\")\n",
    "        segiempat(p,l)\n",
    "\n",
    "    elif pil == 2:\n",
    "        a   = input(\"nilai alas    :\")\n",
    "        t = input(\"nilai tinggi    :\")\n",
    "        segitiga(a,t)\n",
    "\n",
    "    elif pil ==3 :\n",
    "        s = input(\"nilai sisi :\")\n",
    "        persegi(s)\n",
    "\n",
    "    elif pil == 4 :\n",
    "        r = input(\"nilai jari-jari :\")\n",
    "        lingkaran(r)\n",
    "        \n",
    "    else:\n",
    "        print(\"belum ada\")\n",
    "\n",
    "    ulang= input(\"Apa anda ingin mengulang ? (Y/T) : \")\n",
    "\n",
    "else :\n",
    "    print(\"Program Selesai\")"
   ]
  },
  {
   "cell_type": "code",
   "execution_count": null,
   "id": "bb7cd1e7",
   "metadata": {},
   "outputs": [],
   "source": []
  }
 ],
 "metadata": {
  "kernelspec": {
   "display_name": "Python 3 (ipykernel)",
   "language": "python",
   "name": "python3"
  },
  "language_info": {
   "codemirror_mode": {
    "name": "ipython",
    "version": 3
   },
   "file_extension": ".py",
   "mimetype": "text/x-python",
   "name": "python",
   "nbconvert_exporter": "python",
   "pygments_lexer": "ipython3",
   "version": "3.8.7"
  }
 },
 "nbformat": 4,
 "nbformat_minor": 5
}
