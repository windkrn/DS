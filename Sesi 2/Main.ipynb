{
 "cells": [
  {
   "cell_type": "markdown",
   "id": "0ef4b9c2",
   "metadata": {
    "toc": true
   },
   "source": [
    "<h1>Sesi 2<span class=\"tocSkip\"></span></h1>\n",
    "<div class=\"toc\"><ul class=\"toc-item\"><li><span><a href=\"#Introduction-to-the-if-Statement\" data-toc-modified-id=\"Introduction-to-the-if-Statement-1\"><span class=\"toc-item-num\">1&nbsp;&nbsp;</span>Introduction to the if Statement</a></span></li><li><span><a href=\"#Grouping-Statements:-Indentation-and-Blocks\" data-toc-modified-id=\"Grouping-Statements:-Indentation-and-Blocks-2\"><span class=\"toc-item-num\">2&nbsp;&nbsp;</span>Grouping Statements: Indentation and Blocks</a></span></li><li><span><a href=\"#The-else-and-elif-Clauses\" data-toc-modified-id=\"The-else-and-elif-Clauses-3\"><span class=\"toc-item-num\">3&nbsp;&nbsp;</span>The else and elif Clauses</a></span></li><li><span><a href=\"#One-Line-if-Statements\" data-toc-modified-id=\"One-Line-if-Statements-4\"><span class=\"toc-item-num\">4&nbsp;&nbsp;</span>One-Line if Statements</a></span></li><li><span><a href=\"#Multiple-statements\" data-toc-modified-id=\"Multiple-statements-5\"><span class=\"toc-item-num\">5&nbsp;&nbsp;</span>Multiple statements</a></span></li><li><span><a href=\"#Conditional-Expressions\" data-toc-modified-id=\"Conditional-Expressions-6\"><span class=\"toc-item-num\">6&nbsp;&nbsp;</span>Conditional Expressions</a></span></li><li><span><a href=\"#The-Python-pass-Statement\" data-toc-modified-id=\"The-Python-pass-Statement-7\"><span class=\"toc-item-num\">7&nbsp;&nbsp;</span>The Python pass Statement</a></span></li><li><span><a href=\"#Python-While-Loops\" data-toc-modified-id=\"Python-While-Loops-8\"><span class=\"toc-item-num\">8&nbsp;&nbsp;</span>Python While Loops</a></span></li><li><span><a href=\"#The-Python-break-Statements\" data-toc-modified-id=\"The-Python-break-Statements-9\"><span class=\"toc-item-num\">9&nbsp;&nbsp;</span>The Python break Statements</a></span></li><li><span><a href=\"#The-Python-Continue-Statement\" data-toc-modified-id=\"The-Python-Continue-Statement-10\"><span class=\"toc-item-num\">10&nbsp;&nbsp;</span>The Python Continue Statement</a></span></li><li><span><a href=\"#The-Else-Clause-while\" data-toc-modified-id=\"The-Else-Clause-while-11\"><span class=\"toc-item-num\">11&nbsp;&nbsp;</span>The Else Clause while</a></span></li><li><span><a href=\"#Infinite-Loops.\" data-toc-modified-id=\"Infinite-Loops.-12\"><span class=\"toc-item-num\">12&nbsp;&nbsp;</span>Infinite Loops.</a></span></li><li><span><a href=\"#Nested-while-loops\" data-toc-modified-id=\"Nested-while-loops-13\"><span class=\"toc-item-num\">13&nbsp;&nbsp;</span>Nested while loops</a></span></li><li><span><a href=\"#One-Line-while-loops\" data-toc-modified-id=\"One-Line-while-loops-14\"><span class=\"toc-item-num\">14&nbsp;&nbsp;</span>One Line while loops</a></span></li><li><span><a href=\"#The-Python-for-loop\" data-toc-modified-id=\"The-Python-for-loop-15\"><span class=\"toc-item-num\">15&nbsp;&nbsp;</span>The Python for loop</a></span></li><li><span><a href=\"#The-range()-Function\" data-toc-modified-id=\"The-range()-Function-16\"><span class=\"toc-item-num\">16&nbsp;&nbsp;</span>The range() Function</a></span></li><li><span><a href=\"#The-break-and-continue-Statements\" data-toc-modified-id=\"The-break-and-continue-Statements-17\"><span class=\"toc-item-num\">17&nbsp;&nbsp;</span>The break and continue Statements</a></span></li><li><span><a href=\"#The-else-clause-for\" data-toc-modified-id=\"The-else-clause-for-18\"><span class=\"toc-item-num\">18&nbsp;&nbsp;</span>The else clause for</a></span></li><li><span><a href=\"#Contoh-Penggunaan\" data-toc-modified-id=\"Contoh-Penggunaan-19\"><span class=\"toc-item-num\">19&nbsp;&nbsp;</span>Contoh Penggunaan</a></span></li></ul></div>"
   ]
  },
  {
   "cell_type": "markdown",
   "id": "22eb6d8b",
   "metadata": {},
   "source": [
    "# Introduction to the if Statement"
   ]
  },
  {
   "cell_type": "code",
   "execution_count": 1,
   "id": "38105485",
   "metadata": {},
   "outputs": [
    {
     "name": "stdout",
     "output_type": "stream",
     "text": [
      "yes\n",
      "yes\n",
      "yes\n"
     ]
    }
   ],
   "source": [
    "x = 0\n",
    "y = 5\n",
    "\n",
    "if x < y: \n",
    "    print('yes')\n",
    "if y < x:\n",
    "    print('yes')\n",
    "if x:\n",
    "    print('yes')\n",
    "if y:\n",
    "    print('yes')\n",
    "if 'aul' in 'grault':\n",
    "    print('yes')\n",
    "if 'quux' in ['foo','bar','baz']:\n",
    "    print('yes')"
   ]
  },
  {
   "cell_type": "markdown",
   "id": "9518139e",
   "metadata": {},
   "source": [
    "# Grouping Statements: Indentation and Blocks"
   ]
  },
  {
   "cell_type": "code",
   "execution_count": 7,
   "id": "f420f690",
   "metadata": {},
   "outputs": [
    {
     "name": "stdout",
     "output_type": "stream",
     "text": [
      "After conditional\n"
     ]
    }
   ],
   "source": [
    "# Grouping Statements: Indentation and Blocks\n",
    "if 'foo' in ['bar', 'baz', 'qux']:\n",
    "    print('Expression was true')\n",
    "    print('Executing statement in suite')\n",
    "    print('...')\n",
    "    print('Done')\n",
    "print('After conditional')"
   ]
  },
  {
   "cell_type": "code",
   "execution_count": 8,
   "id": "9f749408",
   "metadata": {},
   "outputs": [
    {
     "name": "stdout",
     "output_type": "stream",
     "text": [
      "Outer condition is true\n",
      "Between inner conditions\n",
      "Inner condition 2\n",
      "End of outer condition\n",
      "After outer condition\n"
     ]
    }
   ],
   "source": [
    "# Berikut ini skrip yang lebih rumit:\n",
    "# Does line execute?                        Yes    No\n",
    "#                                           ---    --\n",
    "if 'foo' in ['foo', 'bar', 'baz']:        #  x\n",
    "    print('Outer condition is true')      #  x\n",
    "\n",
    "    if 10 > 20:                           #  x\n",
    "        print('Inner condition 1')        #        x\n",
    "\n",
    "    print('Between inner conditions')     #  x\n",
    "\n",
    "    if 10 < 20:                           #  x\n",
    "        print('Inner condition 2')        #  x\n",
    "\n",
    "    print('End of outer condition')       #  x\n",
    "print('After outer condition')            #  x"
   ]
  },
  {
   "cell_type": "markdown",
   "id": "65bf7ccf",
   "metadata": {},
   "source": [
    "# The else and elif Clauses"
   ]
  },
  {
   "cell_type": "code",
   "execution_count": 9,
   "id": "bb0e48d8",
   "metadata": {},
   "outputs": [
    {
     "name": "stdout",
     "output_type": "stream",
     "text": [
      "(second suite)\n",
      "x is large\n"
     ]
    }
   ],
   "source": [
    "#Contoh1\n",
    "x = 120\n",
    "if x < 50:\n",
    "    print('(first suite)')\n",
    "    print('x is small')\n",
    "else:\n",
    "    print('(second suite)')\n",
    "    print('x is large')"
   ]
  },
  {
   "cell_type": "code",
   "execution_count": 6,
   "id": "68fffccc",
   "metadata": {},
   "outputs": [
    {
     "name": "stdout",
     "output_type": "stream",
     "text": [
      "(first suite)\n",
      "x is small\n"
     ]
    }
   ],
   "source": [
    "x = 20\n",
    "if x <50:\n",
    "    print('(first suite)')\n",
    "    print('x is small')\n",
    "else:\n",
    "    print('(second suite)')\n",
    "    print('x is large')"
   ]
  },
  {
   "cell_type": "code",
   "execution_count": 10,
   "id": "05875046",
   "metadata": {},
   "outputs": [
    {
     "name": "stdout",
     "output_type": "stream",
     "text": [
      "uang tidak cukup\n"
     ]
    }
   ],
   "source": [
    "hargaBuku = 20000\n",
    "hargaMajalah = 5000\n",
    "uang = 2000\n",
    "if uang > hargaBuku:\n",
    "    print(\"beli buku\")\n",
    "else:\n",
    "    print(\"uang tidak cukup\")"
   ]
  },
  {
   "cell_type": "code",
   "execution_count": 11,
   "id": "ce5e8f2f",
   "metadata": {},
   "outputs": [
    {
     "name": "stdout",
     "output_type": "stream",
     "text": [
      "uang tidak cukup\n"
     ]
    }
   ],
   "source": [
    "hargaBuku = 20000\n",
    "hargaMajalah = 5000\n",
    "uang = 2000\n",
    "\n",
    "if uang > hargaBuku:\n",
    "    print(\"beli buku\")\n",
    "elif uang > hargaMajalah:\n",
    "    print(\"beli majalah\")\n",
    "else:\n",
    "    print(\"uang tidak cukup\")"
   ]
  },
  {
   "cell_type": "code",
   "execution_count": 12,
   "id": "a5cc15da",
   "metadata": {},
   "outputs": [
    {
     "name": "stdout",
     "output_type": "stream",
     "text": [
      "Hello Hacktiv8\n"
     ]
    }
   ],
   "source": [
    "name = 'Hacktiv8'\n",
    "if name == 'Fred':\n",
    "    print('Hello Fred')\n",
    "elif name == 'Xander':\n",
    "    print('Hello Xander')\n",
    "elif name == 'Hacktiv8':\n",
    "    print('Hello Hacktiv8')\n",
    "elif name == 'Arnold':\n",
    "    print('Hello Arnold')\n",
    "else:\n",
    "    print(\"I don't know who you are!\")\n"
   ]
  },
  {
   "cell_type": "code",
   "execution_count": 14,
   "id": "e036103d",
   "metadata": {},
   "outputs": [
    {
     "name": "stdout",
     "output_type": "stream",
     "text": [
      "foo\n"
     ]
    }
   ],
   "source": [
    "if 'a' in 'bar':\n",
    "    print('foo')\n",
    "elif 1/0:\n",
    "    print(\"This won't happen\")\n",
    "#elif var:\n",
    "#    print(\"This won't either\")"
   ]
  },
  {
   "cell_type": "markdown",
   "id": "ab624861",
   "metadata": {},
   "source": [
    "# One-Line if Statements"
   ]
  },
  {
   "cell_type": "code",
   "execution_count": 16,
   "id": "207f98d5",
   "metadata": {},
   "outputs": [
    {
     "name": "stdout",
     "output_type": "stream",
     "text": [
      "1\n",
      "2\n",
      "3\n"
     ]
    }
   ],
   "source": [
    "if 'f' in 'foo': print('1'); print('2'); print('3')\n",
    "\n",
    "if 'z' in 'foo': print('11'); print('22'); print('33') #Tidak akan keluar hasilnya"
   ]
  },
  {
   "cell_type": "markdown",
   "id": "3d74ee1d",
   "metadata": {},
   "source": [
    "# Multiple statements"
   ]
  },
  {
   "cell_type": "code",
   "execution_count": 17,
   "id": "d77f362f",
   "metadata": {},
   "outputs": [
    {
     "name": "stdout",
     "output_type": "stream",
     "text": [
      "qux\n",
      "quux\n"
     ]
    }
   ],
   "source": [
    "# Contoh 1\n",
    "x = 2\n",
    "if x == 1: \n",
    "    print('foo'); \n",
    "    print('bar'); \n",
    "    print('baz')\n",
    "elif x == 2: \n",
    "    print('qux'); \n",
    "    print('quux')\n",
    "else: \n",
    "    print('corge'); \n",
    "    print('grault')"
   ]
  },
  {
   "cell_type": "code",
   "execution_count": 18,
   "id": "b4659904",
   "metadata": {},
   "outputs": [
    {
     "name": "stdout",
     "output_type": "stream",
     "text": [
      "corge\n",
      "grault\n"
     ]
    }
   ],
   "source": [
    "#Contoh 2\n",
    "x = 3\n",
    "if x == 1: \n",
    "    print('foo'); \n",
    "    print('bar'); \n",
    "    print('baz')\n",
    "elif x == 2: \n",
    "    print('qux'); \n",
    "    print('quux')\n",
    "else: \n",
    "    print('corge'); \n",
    "    print('grault')\n"
   ]
  },
  {
   "cell_type": "markdown",
   "id": "12987c46",
   "metadata": {},
   "source": [
    "# Conditional Expressions"
   ]
  },
  {
   "cell_type": "code",
   "execution_count": 19,
   "id": "5c8fb7f4",
   "metadata": {},
   "outputs": [
    {
     "name": "stdout",
     "output_type": "stream",
     "text": [
      "Let's go to the beach\n"
     ]
    }
   ],
   "source": [
    "#Contoh1\n",
    "raining = False\n",
    "print(\"Let's go to the\", 'beach' if not raining else 'library')"
   ]
  },
  {
   "cell_type": "code",
   "execution_count": 20,
   "id": "0243dbe8",
   "metadata": {},
   "outputs": [
    {
     "name": "stdout",
     "output_type": "stream",
     "text": [
      "Let's go to the library\n"
     ]
    }
   ],
   "source": [
    "#Contoh2\n",
    "raining = True\n",
    "print(\"Let's go to the\", 'beach' if not raining else 'library')"
   ]
  },
  {
   "cell_type": "code",
   "execution_count": 21,
   "id": "d54de028",
   "metadata": {},
   "outputs": [],
   "source": [
    "#Contoh3\n",
    "age = 12\n",
    "s = 'teen' if age < 21 else 'adult'"
   ]
  },
  {
   "cell_type": "code",
   "execution_count": 22,
   "id": "737c7107",
   "metadata": {},
   "outputs": [
    {
     "name": "stdout",
     "output_type": "stream",
     "text": [
      "no\n"
     ]
    }
   ],
   "source": [
    "#Contoh4\n",
    "print('yes' if ('qux' in ['foo', 'bar', 'baz']) else 'no')"
   ]
  },
  {
   "cell_type": "markdown",
   "id": "4921cfe4",
   "metadata": {},
   "source": [
    "# The Python pass Statement"
   ]
  },
  {
   "cell_type": "code",
   "execution_count": 23,
   "id": "fbc62302",
   "metadata": {},
   "outputs": [
    {
     "name": "stdout",
     "output_type": "stream",
     "text": [
      "foo\n"
     ]
    }
   ],
   "source": [
    "if True:\n",
    "    pass\n",
    "print('foo')"
   ]
  },
  {
   "cell_type": "markdown",
   "id": "0cc6121c",
   "metadata": {},
   "source": [
    "# Python While Loops"
   ]
  },
  {
   "cell_type": "code",
   "execution_count": 24,
   "id": "aec59183",
   "metadata": {},
   "outputs": [
    {
     "name": "stdout",
     "output_type": "stream",
     "text": [
      "4\n",
      "3\n",
      "2\n",
      "1\n",
      "0\n"
     ]
    }
   ],
   "source": [
    "#Contoh1\n",
    "n = 5\n",
    "while n > 0:\n",
    "    n -= 1\n",
    "    print(n)"
   ]
  },
  {
   "cell_type": "code",
   "execution_count": 25,
   "id": "e081892e",
   "metadata": {},
   "outputs": [
    {
     "name": "stdout",
     "output_type": "stream",
     "text": [
      "1\n",
      "2\n",
      "3\n",
      "4\n",
      "5\n"
     ]
    }
   ],
   "source": [
    "#Contoh2\n",
    "i = 1\n",
    "while i < 6:\n",
    "  print(i)\n",
    "  i += 1"
   ]
  },
  {
   "cell_type": "markdown",
   "id": "ec9a0507",
   "metadata": {},
   "source": [
    "# The Python break Statements"
   ]
  },
  {
   "cell_type": "code",
   "execution_count": 27,
   "id": "6e026ac1",
   "metadata": {},
   "outputs": [
    {
     "name": "stdout",
     "output_type": "stream",
     "text": [
      "4\n",
      "3\n",
      "Loop ended.\n"
     ]
    }
   ],
   "source": [
    "n = 5\n",
    "while n > 0:\n",
    "    n -= 1\n",
    "    if n == 2:\n",
    "        break # Break Statement\n",
    "    print(n)\n",
    "print('Loop ended.')"
   ]
  },
  {
   "cell_type": "markdown",
   "id": "2671cf56",
   "metadata": {},
   "source": [
    "# The Python Continue Statement"
   ]
  },
  {
   "cell_type": "code",
   "execution_count": 28,
   "id": "ac8582bc",
   "metadata": {},
   "outputs": [
    {
     "name": "stdout",
     "output_type": "stream",
     "text": [
      "4\n",
      "3\n",
      "1\n",
      "0\n",
      "Loop ended.\n"
     ]
    }
   ],
   "source": [
    "n = 5\n",
    "while n > 0:\n",
    "    n -= 1\n",
    "    if n == 2:\n",
    "        continue\n",
    "    print(n)\n",
    "print('Loop ended.')"
   ]
  },
  {
   "cell_type": "markdown",
   "id": "d6e832a1",
   "metadata": {},
   "source": [
    "# The Else Clause while"
   ]
  },
  {
   "cell_type": "code",
   "execution_count": 29,
   "id": "53ba939f",
   "metadata": {},
   "outputs": [
    {
     "name": "stdout",
     "output_type": "stream",
     "text": [
      "4\n",
      "3\n",
      "2\n",
      "1\n",
      "0\n",
      "Loop done.\n"
     ]
    }
   ],
   "source": [
    "# Contoh1\n",
    "n = 5\n",
    "while n > 0:\n",
    "    n -= 1\n",
    "    print(n)\n",
    "else:\n",
    "    print('Loop done.')"
   ]
  },
  {
   "cell_type": "code",
   "execution_count": 30,
   "id": "7f38e399",
   "metadata": {},
   "outputs": [
    {
     "name": "stdout",
     "output_type": "stream",
     "text": [
      "4\n",
      "3\n",
      "2\n"
     ]
    }
   ],
   "source": [
    "# Contoh2\n",
    "n = 5\n",
    "while n > 0:\n",
    "    n -= 1\n",
    "    print(n)\n",
    "    if n == 2:\n",
    "        break\n",
    "else:\n",
    "    print('Loop done.')"
   ]
  },
  {
   "cell_type": "markdown",
   "id": "eedafd64",
   "metadata": {},
   "source": [
    "# Infinite Loops."
   ]
  },
  {
   "cell_type": "code",
   "execution_count": 31,
   "id": "b3e2edb1",
   "metadata": {},
   "outputs": [],
   "source": [
    "#while True:\n",
    "#    print('foo')"
   ]
  },
  {
   "cell_type": "markdown",
   "id": "b93d2ba7",
   "metadata": {},
   "source": [
    "# Nested while loops"
   ]
  },
  {
   "cell_type": "code",
   "execution_count": 32,
   "id": "0d643250",
   "metadata": {},
   "outputs": [
    {
     "name": "stdout",
     "output_type": "stream",
     "text": [
      "father\n"
     ]
    }
   ],
   "source": [
    "age = 20\n",
    "gender = 'M'\n",
    "if age < 18:\n",
    "    if gender == 'M':\n",
    "        print('son')\n",
    "    else:\n",
    "        print('daughter')\n",
    "elif age >= 18 and age < 65:\n",
    "    if gender == 'M':\n",
    "        print('father')\n",
    "    else:\n",
    "        print('mother')\n",
    "else:\n",
    "    if gender == 'M':\n",
    "        print('grandfather')\n",
    "    else:\n",
    "        print('grandmother')"
   ]
  },
  {
   "cell_type": "code",
   "execution_count": 33,
   "id": "00f341d4",
   "metadata": {},
   "outputs": [
    {
     "name": "stdout",
     "output_type": "stream",
     "text": [
      "foo\n",
      "> baz\n",
      "> qux\n",
      "bar\n",
      "> baz\n",
      "> qux\n"
     ]
    }
   ],
   "source": [
    "a = ['foo', 'bar']\n",
    "\n",
    "while len(a):\n",
    "    print(a.pop(0))\n",
    "    \n",
    "    b = ['baz', 'qux']\n",
    "    \n",
    "    while len(b):\n",
    "        print('>', b.pop(0))"
   ]
  },
  {
   "cell_type": "markdown",
   "id": "4fe2b0c9",
   "metadata": {},
   "source": [
    "# One Line while loops"
   ]
  },
  {
   "cell_type": "code",
   "execution_count": 34,
   "id": "f2f0e633",
   "metadata": {},
   "outputs": [
    {
     "name": "stdout",
     "output_type": "stream",
     "text": [
      "4\n",
      "3\n",
      "2\n",
      "1\n",
      "0\n"
     ]
    }
   ],
   "source": [
    "n = 5\n",
    "while n > 0: n -= 1; print(n)\n"
   ]
  },
  {
   "cell_type": "markdown",
   "id": "6446496b",
   "metadata": {},
   "source": [
    "# The Python for loop"
   ]
  },
  {
   "cell_type": "code",
   "execution_count": 35,
   "id": "920263f2",
   "metadata": {},
   "outputs": [
    {
     "name": "stdout",
     "output_type": "stream",
     "text": [
      "foo\n",
      "bar\n",
      "baz\n"
     ]
    }
   ],
   "source": [
    "a = ['foo', 'bar', 'baz']\n",
    "for i in a:\n",
    "    print(i)\n"
   ]
  },
  {
   "cell_type": "code",
   "execution_count": 36,
   "id": "13b190bd",
   "metadata": {},
   "outputs": [
    {
     "name": "stdout",
     "output_type": "stream",
     "text": [
      "foo\n",
      "bar\n",
      "baz\n",
      "1\n",
      "2\n",
      "3\n",
      "1\n",
      "2\n",
      "3\n",
      "foo : 1\n",
      "bar : 2\n",
      "baz : 3\n"
     ]
    }
   ],
   "source": [
    "d = {'foo': 1, 'bar': 2, 'baz': 3}\n",
    "for k in d:\n",
    "    print(k)\n",
    "for k in d:\n",
    "    print(d[k])\n",
    "for k in d.values():\n",
    "    print(k)\n",
    "for k, v in d.items(): \n",
    "    print(k, \":\", v) "
   ]
  },
  {
   "cell_type": "markdown",
   "id": "bc779428",
   "metadata": {},
   "source": [
    "# The range() Function"
   ]
  },
  {
   "cell_type": "code",
   "execution_count": 37,
   "id": "a928d919",
   "metadata": {},
   "outputs": [
    {
     "name": "stdout",
     "output_type": "stream",
     "text": [
      "0\n",
      "1\n",
      "2\n",
      "3\n",
      "4\n"
     ]
    }
   ],
   "source": [
    "for n in (0, 1, 2, 3, 4):\n",
    "    print(n)"
   ]
  },
  {
   "cell_type": "markdown",
   "id": "3b0fd856",
   "metadata": {},
   "source": [
    "# The break and continue Statements"
   ]
  },
  {
   "cell_type": "code",
   "execution_count": 40,
   "id": "8da29c69",
   "metadata": {},
   "outputs": [
    {
     "name": "stdout",
     "output_type": "stream",
     "text": [
      "foo\n"
     ]
    }
   ],
   "source": [
    "#Break\n",
    "for i in ['foo', 'bar', 'baz', 'qux']:\n",
    "    if 'b' in i:\n",
    "        break\n",
    "    print(i)\n",
    "\n"
   ]
  },
  {
   "cell_type": "code",
   "execution_count": 41,
   "id": "c18f1085",
   "metadata": {},
   "outputs": [
    {
     "name": "stdout",
     "output_type": "stream",
     "text": [
      "foo\n",
      "qux\n"
     ]
    }
   ],
   "source": [
    "#Continue\n",
    "for i in ['foo', 'bar', 'baz', 'qux']:\n",
    "    if 'b' in i:\n",
    "        continue\n",
    "    print(i)"
   ]
  },
  {
   "cell_type": "markdown",
   "id": "756bb64e",
   "metadata": {},
   "source": [
    "# The else clause for"
   ]
  },
  {
   "cell_type": "code",
   "execution_count": 42,
   "id": "1d8b4f83",
   "metadata": {},
   "outputs": [
    {
     "name": "stdout",
     "output_type": "stream",
     "text": [
      "foo\n",
      "bar\n",
      "baz\n",
      "qux\n",
      "Done.\n"
     ]
    }
   ],
   "source": [
    "for i in ['foo', 'bar', 'baz', 'qux']:\n",
    "    print(i)\n",
    "else:\n",
    "    print('Done.')  # Will execute"
   ]
  },
  {
   "cell_type": "code",
   "execution_count": 44,
   "id": "c27ad3a7",
   "metadata": {},
   "outputs": [
    {
     "name": "stdout",
     "output_type": "stream",
     "text": [
      "foo\n"
     ]
    }
   ],
   "source": [
    "# Klausa else tidak akan dijalankan jika list berhenti dengan pernyataan break:\n",
    "for i in ['foo', 'bar', 'baz', 'qux']:\n",
    "    if i == 'bar':\n",
    "        break\n",
    "    print(i)\n",
    "else:\n",
    "    print('Done.')  # Will not execute"
   ]
  },
  {
   "cell_type": "markdown",
   "id": "bc4d7982",
   "metadata": {},
   "source": [
    "# Contoh Penggunaan"
   ]
  },
  {
   "cell_type": "code",
   "execution_count": 46,
   "id": "5cb82c53",
   "metadata": {},
   "outputs": [
    {
     "name": "stdout",
     "output_type": "stream",
     "text": [
      "Ketikan temperatur yang ingin dikonversi, eg. 45F, 120C: 45C\n",
      "Temperaturnya adalah 113 derajat\n"
     ]
    }
   ],
   "source": [
    "temp = input(\"Ketikan temperatur yang ingin dikonversi, eg. 45F, 120C: \")\n",
    "degree = int(temp[:-1])\n",
    "i_convertion = temp[-1]\n",
    "\n",
    "if i_convertion == \"C\":\n",
    "    result = int(round((9 * degree) / 5 + 32))\n",
    "elif i_convertion == \"F\":\n",
    "    result = int(round((degree - 32) * 5 / 9))\n",
    "else:\n",
    "    print(\"Masukan input yang benar\")\n",
    "\n",
    "print(\"Temperaturnya adalah\", result, \"derajat\")\n"
   ]
  },
  {
   "cell_type": "code",
   "execution_count": 47,
   "id": "1aea9e7b",
   "metadata": {},
   "outputs": [
    {
     "name": "stdout",
     "output_type": "stream",
     "text": [
      "Ketikan karakter: M\n",
      "m\n",
      "Ketikan karakter: L\n",
      "l\n",
      "Ketikan karakter: STOP\n",
      "stop\n"
     ]
    }
   ],
   "source": [
    "while True:\n",
    "    msg = input(\"Ketikan karakter: \").lower()\n",
    "    print(msg)\n",
    "    if msg == \"stop\":\n",
    "        break"
   ]
  },
  {
   "cell_type": "code",
   "execution_count": null,
   "id": "29629a4f",
   "metadata": {},
   "outputs": [],
   "source": []
  }
 ],
 "metadata": {
  "kernelspec": {
   "display_name": "Python 3 (ipykernel)",
   "language": "python",
   "name": "python3"
  },
  "language_info": {
   "codemirror_mode": {
    "name": "ipython",
    "version": 3
   },
   "file_extension": ".py",
   "mimetype": "text/x-python",
   "name": "python",
   "nbconvert_exporter": "python",
   "pygments_lexer": "ipython3",
   "version": "3.8.7"
  },
  "toc": {
   "base_numbering": 1,
   "nav_menu": {},
   "number_sections": true,
   "sideBar": true,
   "skip_h1_title": false,
   "title_cell": "Sesi 2",
   "title_sidebar": "Contents",
   "toc_cell": true,
   "toc_position": {},
   "toc_section_display": true,
   "toc_window_display": true
  }
 },
 "nbformat": 4,
 "nbformat_minor": 5
}
