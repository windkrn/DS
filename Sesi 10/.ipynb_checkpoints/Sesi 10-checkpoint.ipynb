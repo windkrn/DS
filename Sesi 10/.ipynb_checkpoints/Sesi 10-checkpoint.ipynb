{
 "cells": [
  {
   "cell_type": "markdown",
   "id": "03e44e0c",
   "metadata": {
    "toc": true
   },
   "source": [
    "<h1>Table of Contents<span class=\"tocSkip\"></span></h1>\n",
    "<div class=\"toc\"><ul class=\"toc-item\"><li><span><a href=\"#Introduction\" data-toc-modified-id=\"Introduction-1\"><span class=\"toc-item-num\">1&nbsp;&nbsp;</span>Introduction</a></span></li><li><span><a href=\"#Probability-Distributions\" data-toc-modified-id=\"Probability-Distributions-2\"><span class=\"toc-item-num\">2&nbsp;&nbsp;</span>Probability Distributions</a></span></li><li><span><a href=\"#Random-Variable\" data-toc-modified-id=\"Random-Variable-3\"><span class=\"toc-item-num\">3&nbsp;&nbsp;</span>Random Variable</a></span></li><li><span><a href=\"#Unifrom-Distribution\" data-toc-modified-id=\"Unifrom-Distribution-4\"><span class=\"toc-item-num\">4&nbsp;&nbsp;</span>Unifrom Distribution</a></span></li><li><span><a href=\"#Normal-Distribution\" data-toc-modified-id=\"Normal-Distribution-5\"><span class=\"toc-item-num\">5&nbsp;&nbsp;</span>Normal Distribution</a></span></li><li><span><a href=\"#Gamma-distribution\" data-toc-modified-id=\"Gamma-distribution-6\"><span class=\"toc-item-num\">6&nbsp;&nbsp;</span>Gamma distribution</a></span></li><li><span><a href=\"#Exponential-Distribution\" data-toc-modified-id=\"Exponential-Distribution-7\"><span class=\"toc-item-num\">7&nbsp;&nbsp;</span>Exponential Distribution</a></span></li><li><span><a href=\"#Poisson-Distrbution\" data-toc-modified-id=\"Poisson-Distrbution-8\"><span class=\"toc-item-num\">8&nbsp;&nbsp;</span>Poisson Distrbution</a></span></li><li><span><a href=\"#Binomial-Dsitribution\" data-toc-modified-id=\"Binomial-Dsitribution-9\"><span class=\"toc-item-num\">9&nbsp;&nbsp;</span>Binomial Dsitribution</a></span></li><li><span><a href=\"#Bernoulli-distrbution\" data-toc-modified-id=\"Bernoulli-distrbution-10\"><span class=\"toc-item-num\">10&nbsp;&nbsp;</span>Bernoulli distrbution</a></span></li><li><span><a href=\"#Confidence-Intervals\" data-toc-modified-id=\"Confidence-Intervals-11\"><span class=\"toc-item-num\">11&nbsp;&nbsp;</span>Confidence Intervals</a></span><ul class=\"toc-item\"><li><span><a href=\"#CI-for-the-population-Proportion-in-Python\" data-toc-modified-id=\"CI-for-the-population-Proportion-in-Python-11.1\"><span class=\"toc-item-num\">11.1&nbsp;&nbsp;</span>CI for the population Proportion in Python</a></span></li><li><span><a href=\"#Calculation-of-CI-of-mean\" data-toc-modified-id=\"Calculation-of-CI-of-mean-11.2\"><span class=\"toc-item-num\">11.2&nbsp;&nbsp;</span>Calculation of CI of mean</a></span></li><li><span><a href=\"#Other-Example-of-Confidence-Intervals\" data-toc-modified-id=\"Other-Example-of-Confidence-Intervals-11.3\"><span class=\"toc-item-num\">11.3&nbsp;&nbsp;</span>Other Example of Confidence Intervals</a></span></li></ul></li><li><span><a href=\"#Hypothesis-Testing\" data-toc-modified-id=\"Hypothesis-Testing-12\"><span class=\"toc-item-num\">12&nbsp;&nbsp;</span>Hypothesis Testing</a></span><ul class=\"toc-item\"><li><span><a href=\"#One-Population-Proportion\" data-toc-modified-id=\"One-Population-Proportion-12.1\"><span class=\"toc-item-num\">12.1&nbsp;&nbsp;</span>One Population Proportion</a></span></li><li><span><a href=\"#Difference-in-Population-Means\" data-toc-modified-id=\"Difference-in-Population-Means-12.2\"><span class=\"toc-item-num\">12.2&nbsp;&nbsp;</span>Difference in Population Means</a></span></li><li><span><a href=\"#Hypothesis-for-One-Proportion\" data-toc-modified-id=\"Hypothesis-for-One-Proportion-12.3\"><span class=\"toc-item-num\">12.3&nbsp;&nbsp;</span>Hypothesis for One Proportion</a></span></li></ul></li></ul></div>"
   ]
  },
  {
   "cell_type": "markdown",
   "id": "b7101806",
   "metadata": {},
   "source": [
    "# Introduction"
   ]
  },
  {
   "cell_type": "markdown",
   "id": "c097656e",
   "metadata": {},
   "source": [
    "**Inferential statistics** mengambil data sebagai sampel dari populasi yang lebih besar untuk membuat kesimpulan. Tujuan utama dari metode ini adalah untuk menarik kesimpulan dari sampel dan menggeneralisasikannya untuk populasi yang lebih besar"
   ]
  },
  {
   "cell_type": "markdown",
   "id": "80874545",
   "metadata": {},
   "source": [
    "# Probability Distributions"
   ]
  },
  {
   "cell_type": "markdown",
   "id": "20fff519",
   "metadata": {},
   "source": [
    "Probability distribution adalah fungsi di bawah teori dan statistik probabilitas - yang memberi kita seberapa besar kemungkinan hasil yang berbeda dalam sebuah eksperimen. "
   ]
  },
  {
   "cell_type": "markdown",
   "id": "802aefd6",
   "metadata": {},
   "source": [
    "# Random Variable"
   ]
  },
  {
   "cell_type": "markdown",
   "id": "4068d46b",
   "metadata": {},
   "source": [
    "Random variabel adalah kemungkinan nilainya merupakan hasil numerik dari fenomena acak. Ada dua jenis variabel acak, diskrit dan kontinu"
   ]
  },
  {
   "cell_type": "code",
   "execution_count": 1,
   "id": "2f0b9c5a",
   "metadata": {},
   "outputs": [],
   "source": [
    "# for inline plots in jupyter\n",
    "%matplotlib inline\n",
    "\n",
    "#import matplotlib\n",
    "import matplotlib.pyplot as plt\n",
    "\n",
    "# for latex equations\n",
    "from IPython.display import Math, Latex\n",
    "\n",
    "# for displaying images\n",
    "from IPython.core.display import Image\n"
   ]
  },
  {
   "cell_type": "code",
   "execution_count": 2,
   "id": "7fc4855a",
   "metadata": {},
   "outputs": [],
   "source": [
    "# import seaborn\n",
    "import seaborn as sns"
   ]
  },
  {
   "cell_type": "code",
   "execution_count": 3,
   "id": "333ea1fc",
   "metadata": {},
   "outputs": [],
   "source": [
    "sns.set(color_codes=True)\n",
    "sns.set(rc={'figure.figsize':(5,5)})"
   ]
  },
  {
   "cell_type": "markdown",
   "id": "1df42c4e",
   "metadata": {},
   "source": [
    "# Unifrom Distribution"
   ]
  },
  {
   "cell_type": "markdown",
   "id": "4794ffaf",
   "metadata": {},
   "source": [
    "kita perlu mengimpor uniform function dari scipy.stats module"
   ]
  },
  {
   "cell_type": "code",
   "execution_count": 4,
   "id": "03410f8d",
   "metadata": {},
   "outputs": [],
   "source": [
    "from scipy.stats import uniform"
   ]
  },
  {
   "cell_type": "markdown",
   "id": "ad29a6c8",
   "metadata": {},
   "source": [
    "Unifrom fucntion menghasilkan uniform continuous variabel antara interval yang ditentukan melalui argumen loc dan scale-nya. Argumen size menjelaskan jumlah variasi acak"
   ]
  },
  {
   "cell_type": "code",
   "execution_count": 5,
   "id": "2e9a7509",
   "metadata": {},
   "outputs": [],
   "source": [
    "n = 10000\n",
    "start = 10\n",
    "width = 20\n",
    "\n",
    "data_uniform = uniform.rvs(size=n, loc=start, scale=width)"
   ]
  },
  {
   "cell_type": "code",
   "execution_count": 6,
   "id": "cdbf69f1",
   "metadata": {},
   "outputs": [
    {
     "data": {
      "text/plain": [
       "array([28.45041906, 13.75193515, 12.16724464, ..., 26.91284273,\n",
       "       10.44686991, 11.2954004 ])"
      ]
     },
     "execution_count": 6,
     "metadata": {},
     "output_type": "execute_result"
    }
   ],
   "source": [
    "data_uniform"
   ]
  },
  {
   "cell_type": "code",
   "execution_count": 7,
   "id": "25d349ef",
   "metadata": {},
   "outputs": [
    {
     "data": {
      "text/plain": [
       "10000"
      ]
     },
     "execution_count": 7,
     "metadata": {},
     "output_type": "execute_result"
    }
   ],
   "source": [
    "len(data_uniform)"
   ]
  },
  {
   "cell_type": "code",
   "execution_count": 8,
   "id": "41912155",
   "metadata": {},
   "outputs": [
    {
     "data": {
      "text/plain": [
       "29.998215965136936"
      ]
     },
     "execution_count": 8,
     "metadata": {},
     "output_type": "execute_result"
    }
   ],
   "source": [
    "max(data_uniform)"
   ]
  },
  {
   "cell_type": "code",
   "execution_count": 9,
   "id": "b77ead9a",
   "metadata": {},
   "outputs": [
    {
     "data": {
      "text/plain": [
       "10.001137171054584"
      ]
     },
     "execution_count": 9,
     "metadata": {},
     "output_type": "execute_result"
    }
   ],
   "source": [
    "min(data_uniform)"
   ]
  },
  {
   "cell_type": "markdown",
   "id": "0a432d2e",
   "metadata": {},
   "source": [
    "kita menggunakan distplot seaborn karena dapat menggunakan banyak argumen untuk menyesuaikan plot."
   ]
  },
  {
   "cell_type": "code",
   "execution_count": 10,
   "id": "51a727ed",
   "metadata": {},
   "outputs": [
    {
     "data": {
      "text/plain": [
       "<seaborn.axisgrid.FacetGrid at 0x2359737cd90>"
      ]
     },
     "execution_count": 10,
     "metadata": {},
     "output_type": "execute_result"
    },
    {
     "data": {
      "image/png": "[encoded data removed]",
      "text/plain": [
       "<Figure size 360x360 with 1 Axes>"
      ]
     },
     "metadata": {},
     "output_type": "display_data"
    }
   ],
   "source": [
    "ax = sns.displot(\n",
    "    data = data_uniform,\n",
    "    bins = 100,\n",
    "    kde = True,\n",
    "    color='skyblue',\n",
    "    # hist_kws={'linewidth':15, 'alpha':1}\n",
    ")\n",
    "ax.set(xlabel='Unifrom Distribution', ylabel='Frequency')"
   ]
  },
  {
   "cell_type": "markdown",
   "id": "b4aa21fd",
   "metadata": {},
   "source": [
    "# Normal Distribution"
   ]
  },
  {
   "cell_type": "markdown",
   "id": "103d1f66",
   "metadata": {},
   "source": [
    "Normal Distribution atau Gaussian distribution, ada di mana-mana dalam Data Science. Distribution normal memiliki kurva kerapatan berbentuk lonceng yang dijelaskan dengan mean dan deviasi standarnya"
   ]
  },
  {
   "cell_type": "markdown",
   "id": "6630dd58",
   "metadata": {},
   "source": [
    "Kita dapat membuat menggunakan scipy.stats module yaitu norm.rvs(). Argumen loc sesuai dengan rata-rata distrbusi, scale sesuai dengan standard deviation dan size sesuai dengan jumlah varias acak"
   ]
  },
  {
   "cell_type": "code",
   "execution_count": 11,
   "id": "c5024694",
   "metadata": {},
   "outputs": [],
   "source": [
    "import numpy as np\n",
    "from scipy.stats import norm\n",
    "data_normal = norm.rvs(size=1000, loc=0, scale=1)"
   ]
  },
  {
   "cell_type": "code",
   "execution_count": 12,
   "id": "d2d553c1",
   "metadata": {},
   "outputs": [
    {
     "data": {
      "text/plain": [
       "array([ 1.33357147e+00, -5.17265237e-01,  2.29065550e-01, -2.17683107e-01,\n",
       "        1.48203454e+00, -2.78582676e-01, -2.23574975e+00, -3.15664702e-01,\n",
       "        1.37333291e+00,  2.01592956e+00, -1.18798085e+00, -1.46515998e-01,\n",
       "        1.82693429e-01, -1.37436961e-01,  9.14654857e-01, -1.43893840e+00,\n",
       "        8.11853813e-01,  4.87216981e-01,  1.65635372e+00, -1.32891525e+00,\n",
       "       -1.00059063e+00, -7.62170684e-01,  8.00149965e-01, -1.17577907e+00,\n",
       "       -2.32291809e+00,  4.71810840e-01,  1.21026309e+00,  3.21990267e+00,\n",
       "        8.50487325e-01, -1.00917467e+00, -1.98444417e+00,  2.04143841e-01,\n",
       "       -9.24350118e-01, -2.04266876e+00, -1.34952776e-01,  1.00990556e+00,\n",
       "        2.26170092e-01, -1.36098594e+00, -4.84966623e-01, -1.68193842e+00,\n",
       "        2.61630941e-01,  8.96202450e-01,  6.51907767e-01,  5.27669962e-01,\n",
       "        2.01983451e+00, -1.31270375e+00,  8.42062156e-01, -1.56875706e+00,\n",
       "        4.99257466e-01,  4.56047766e-01, -5.81338071e-01, -2.64203920e+00,\n",
       "       -6.87071072e-01, -1.23930625e-01, -8.16937941e-01,  1.31278291e-01,\n",
       "        6.41424545e-01,  1.27924297e-01, -8.82554181e-02,  8.69392210e-01,\n",
       "       -4.65662428e-01,  1.23554237e+00, -1.22575971e+00,  5.57607251e-01,\n",
       "        4.26356163e-01, -1.04717336e+00,  1.91728309e+00, -1.17935638e+00,\n",
       "       -2.98766943e+00,  7.34861453e-01, -1.05200204e+00, -1.50904221e+00,\n",
       "       -5.20965551e-01,  1.33586223e+00,  9.05159473e-01, -7.59717340e-01,\n",
       "        5.53094622e-01,  2.60984668e-01,  1.66917048e+00, -3.18159902e-01,\n",
       "        4.77950037e-01,  1.65475396e+00, -4.07360815e-01, -5.36951684e-02,\n",
       "        1.01676797e+00, -6.26231569e-01,  1.08777830e+00, -6.66305163e-01,\n",
       "        6.79021226e-01,  3.43865745e-01,  2.77740617e-01,  9.36234650e-01,\n",
       "        9.79461336e-01, -4.28141653e-01,  4.07227433e-01,  5.66035966e-01,\n",
       "        1.21944119e-01,  1.05019776e+00,  8.49407385e-01,  4.58532687e-01,\n",
       "       -2.99443249e-01,  9.42954061e-01, -8.11782638e-01,  1.88190190e-01,\n",
       "       -3.08783410e-01,  1.66565173e+00,  3.80530052e-01, -4.31619216e-01,\n",
       "        2.14748996e+00,  2.02844815e+00,  2.68068288e-01, -5.65005740e-01,\n",
       "       -3.15084968e-01, -1.40011278e+00, -1.13549478e+00,  3.03589465e-02,\n",
       "       -8.06858295e-02, -9.61908511e-01, -1.90180450e-01,  5.73807798e-02,\n",
       "        1.28501385e+00, -5.64571328e-01, -6.44022221e-01,  1.72133461e+00,\n",
       "       -1.04876859e+00, -1.86544238e+00,  1.22651075e+00,  1.65655926e-01,\n",
       "        1.09323985e-01,  8.30536044e-02,  3.82171337e-01, -1.60003150e-01,\n",
       "       -1.02222781e-01,  5.86457931e-02, -2.68529931e-01, -5.10567764e-01,\n",
       "       -3.53844893e-01,  1.73982869e-01, -7.43084182e-01, -7.87060960e-01,\n",
       "       -3.77073821e-01, -4.85548311e-01, -3.30380403e-01,  8.40082261e-01,\n",
       "        1.11770684e+00, -3.57536910e-01,  4.47848531e-01, -1.78119903e+00,\n",
       "       -3.68593116e-01, -6.12484713e-01, -1.41920389e+00,  1.65449727e+00,\n",
       "        1.10587841e+00, -8.59176207e-01,  7.38888438e-02,  2.14221050e+00,\n",
       "        1.07385501e+00,  1.53541908e-01,  9.26180119e-02, -4.75179500e-01,\n",
       "        1.72696576e+00, -2.60868707e+00, -4.67723848e-02, -1.15167312e-01,\n",
       "        3.14877232e-01,  1.07599438e+00,  1.93907340e+00,  2.65145437e-01,\n",
       "        8.65526863e-01,  1.50304908e+00,  9.29461585e-01,  2.05424320e-01,\n",
       "       -1.15474673e+00,  1.83063013e+00,  5.52974774e-01,  5.12807461e-02,\n",
       "        1.35487170e+00, -5.94414642e-01, -1.24246343e+00, -7.16404611e-01,\n",
       "        4.72676272e-01, -8.35024751e-01,  9.78424237e-02,  1.31000962e+00,\n",
       "        7.80726637e-01,  5.09894093e-01, -4.20091138e-01,  1.67039829e+00,\n",
       "       -4.84881971e-01, -5.22216151e-01,  2.71138029e-01,  1.41357991e+00,\n",
       "       -1.59007303e-01,  4.11096472e-01, -4.42614665e-02, -5.88524684e-01,\n",
       "       -1.57359753e+00,  5.51063362e-01, -1.58587161e+00,  5.28986404e-01,\n",
       "        1.29353766e+00, -9.46556602e-01, -1.39328639e+00, -7.89103058e-03,\n",
       "       -3.45448177e-02, -9.95592151e-01, -1.24258128e+00,  2.00331841e-01,\n",
       "        6.40438924e-01,  4.39602714e-01,  2.59634398e-01, -1.08797134e+00,\n",
       "       -4.99771041e-01,  3.19627843e-01,  1.62207544e+00,  1.79083459e-01,\n",
       "       -9.21235030e-01, -9.49711398e-01, -1.36940567e+00, -3.98142598e-01,\n",
       "       -1.32241297e+00, -1.13392080e+00, -1.67162896e+00, -7.87576005e-01,\n",
       "        7.75503888e-01, -5.55633134e-01,  1.49134854e-01, -3.81927791e-01,\n",
       "       -2.46896574e-01,  4.26235871e-01,  6.95207621e-01,  2.04315436e-01,\n",
       "       -1.78754810e+00, -7.06359662e-01, -1.96279361e+00, -7.07962132e-01,\n",
       "       -8.34775872e-02,  7.64723206e-01, -3.60933499e-01, -6.44666287e-01,\n",
       "        7.54521323e-01,  9.93202104e-01,  9.16180929e-01, -1.87191498e-01,\n",
       "        3.30218066e-01,  1.88072961e+00,  2.18636330e-01, -1.66554874e+00,\n",
       "        1.40782196e+00,  6.37026538e-01, -8.02144986e-01, -8.63294588e-01,\n",
       "        5.85769812e-01,  2.58374790e-01, -2.75205805e-01, -1.10500397e+00,\n",
       "       -8.29881823e-01, -1.10535790e+00,  8.42057261e-01, -9.52191098e-02,\n",
       "        1.63672748e-01,  4.19447749e-01,  5.85968131e-01, -2.24340759e-01,\n",
       "        5.96631776e-01,  8.17607719e-01, -6.85288418e-01,  1.44853597e+00,\n",
       "        5.90139806e-01, -1.93354258e-01, -6.48709427e-01, -6.32530318e-01,\n",
       "        1.16207897e+00, -8.28377200e-01,  5.12519430e-01, -2.34431725e-01,\n",
       "       -1.14799246e+00, -9.13506800e-01,  9.85276482e-02, -1.01272833e+00,\n",
       "        2.50339529e-01, -1.22690933e+00,  1.01923263e+00, -6.78821612e-01,\n",
       "        2.41936207e-01,  8.47367329e-01,  1.44139830e+00, -3.62049395e-02,\n",
       "       -5.22633524e-02, -9.29142391e-01, -9.83488974e-01,  1.86563078e+00,\n",
       "        7.44575559e-01, -5.67524553e-01,  8.71752998e-01,  1.00179736e+00,\n",
       "        7.90529846e-01,  3.25056384e-01,  7.35836485e-02, -8.62436349e-01,\n",
       "       -1.02457544e+00, -3.84105261e-01, -4.56054801e-01,  8.61849822e-01,\n",
       "       -5.21842878e-01,  1.74411470e+00, -4.15784183e-02, -7.22659606e-01,\n",
       "        1.73347214e+00, -4.49018223e-01,  3.68790737e-01,  1.41780000e-01,\n",
       "        1.92889921e-01,  7.59595237e-01,  5.31690872e-02,  1.72771410e+00,\n",
       "       -2.93316836e-01,  2.03044321e-01,  1.00874099e-01,  6.90188686e-01,\n",
       "       -6.50334348e-01,  1.70921927e-01, -2.45895640e-03, -3.90284701e-01,\n",
       "        1.25198647e+00,  5.20480011e-01,  5.99709927e-01, -1.50181776e+00,\n",
       "       -6.44464116e-01,  4.47275418e-01, -7.56445322e-02, -1.84878400e+00,\n",
       "       -1.84053430e+00,  5.68252119e-01,  2.11039625e-01, -2.12452630e-01,\n",
       "       -3.46032624e-01, -1.78271303e+00, -2.01741131e+00,  4.36749150e-01,\n",
       "       -1.96986117e-01,  1.43383736e+00,  3.51103769e-01, -5.07887059e-01,\n",
       "       -1.12094326e+00,  1.22844462e+00, -6.72965176e-02,  8.02429678e-01,\n",
       "       -2.99005480e-01,  2.40559893e+00,  2.37115430e-02, -1.34143191e+00,\n",
       "        8.64227829e-01, -1.19218578e+00,  1.17150467e-01,  1.77585775e-01,\n",
       "        1.80922709e+00,  5.99088124e-01, -1.47744606e-01, -3.54517512e-01,\n",
       "        2.81936848e-01,  9.52171868e-01,  2.70357964e-01,  6.13754060e-01,\n",
       "        4.26801579e-01,  9.50795809e-01,  9.88735927e-01, -3.98798534e-01,\n",
       "       -8.75823229e-02, -2.34156318e-01, -3.15488594e-01, -1.46578538e+00,\n",
       "        4.59270420e-01,  8.92732110e-01, -7.57328647e-02,  1.88694299e+00,\n",
       "        1.50691670e-01, -1.22491665e+00, -7.91147518e-01, -6.33394301e-01,\n",
       "       -2.34444017e-01,  1.01404758e+00, -6.44624520e-01,  1.51172057e-02,\n",
       "        5.84875674e-01,  3.47565299e+00,  1.80930838e-01,  8.73916052e-01,\n",
       "        5.24974466e-01, -1.62961559e+00,  6.40906901e-01, -5.10670874e-01,\n",
       "       -9.80477334e-01,  8.27723028e-01, -1.57087197e-01,  2.07401540e-01,\n",
       "        3.29999655e-01, -5.24975257e-01,  7.88831282e-01,  2.10768639e+00,\n",
       "       -4.76823912e-01,  2.26746345e+00, -9.03966512e-01, -2.20541065e+00,\n",
       "       -6.48750180e-02,  5.39239512e-01, -5.37944978e-01, -4.83610455e-01,\n",
       "       -8.15641435e-02,  1.43322049e+00, -1.88941779e+00,  9.06028309e-01,\n",
       "        1.97309278e-01, -2.68848826e+00, -7.97587929e-01,  6.96776293e-01,\n",
       "       -4.09591696e-01, -3.42070823e-01, -9.84924915e-01, -2.06811915e-01,\n",
       "        3.84302936e-01, -6.45580544e-01,  3.74706364e-01, -2.03312647e+00,\n",
       "        1.60085210e-01, -2.37543980e+00,  2.41294206e-02,  7.66484393e-01,\n",
       "       -1.85245845e+00, -1.70876492e+00, -1.72094292e-01,  1.34985857e+00,\n",
       "       -6.21843527e-01, -4.89757677e-01, -1.18399537e+00,  1.22174293e+00,\n",
       "        4.15538387e-01, -1.51217537e+00, -3.98190571e-01, -7.76506024e-01,\n",
       "        1.41705092e+00, -7.93789385e-01, -1.21085763e+00, -1.27754096e+00,\n",
       "        1.16540768e+00, -4.13572534e-01, -1.17398135e+00,  7.54862536e-01,\n",
       "       -2.20783218e-01,  1.06123096e-01, -1.46707792e+00, -7.93285965e-01,\n",
       "       -5.18952615e-01,  7.91619010e-02,  3.37859918e-01,  1.10467313e+00,\n",
       "        1.38690873e-01,  1.71158881e-01,  1.67819631e+00, -2.75239493e-01,\n",
       "       -9.51202594e-01,  2.43058061e-01, -1.41509015e+00, -2.66110442e+00,\n",
       "        5.23424483e-01, -1.57382829e+00, -8.22229703e-01,  7.42384194e-02,\n",
       "        1.55388483e-01, -4.05133391e-01, -6.18841881e-01,  2.29417562e-01,\n",
       "        1.44883783e-01, -7.04137230e-01,  1.14933755e-02, -1.97870643e+00,\n",
       "        9.78400097e-02,  1.98818095e-02, -3.72200048e-01, -2.84523743e-01,\n",
       "        1.26550385e+00, -1.57166527e-01,  9.19493355e-01, -1.12433941e+00,\n",
       "        2.83155847e-01,  2.40580454e-02,  9.51059011e-01, -1.62858983e+00,\n",
       "        9.16161749e-01,  6.07402611e-01,  4.45790199e-01, -1.10057253e+00,\n",
       "        1.03231540e+00,  2.02997721e-02, -1.05735852e+00,  5.83161887e-01,\n",
       "       -1.19822157e+00,  2.14587990e+00, -1.34537219e+00, -4.85985072e-01,\n",
       "        7.76267668e-01,  5.19554452e-01, -1.33195417e+00,  4.19467441e-01,\n",
       "        9.69444572e-01, -1.17719237e-01, -7.95678132e-01, -3.11611329e-02,\n",
       "       -3.23300128e-01, -1.66093023e+00,  3.05016590e-01,  6.55603794e-02,\n",
       "        2.43305380e-01, -7.82756862e-02,  1.05839859e+00,  1.94775330e+00,\n",
       "       -3.92600883e-01,  8.50266636e-01, -2.55061986e-01, -3.73421431e-01,\n",
       "        1.05753850e+00, -8.72300234e-01,  1.25428997e+00, -9.80445796e-02,\n",
       "        1.53846208e+00, -1.71852011e-01,  1.20548552e-01,  1.09758919e-01,\n",
       "       -2.66099775e-01,  1.05050266e+00, -2.07642114e+00,  8.73930376e-01,\n",
       "        1.10040589e+00, -6.26408210e-01, -1.57985050e+00, -6.55086127e-01,\n",
       "        5.99476323e-01, -9.54159834e-02,  3.89605700e-01,  9.48065508e-01,\n",
       "       -6.93239421e-02,  1.46887469e-01, -1.25825273e+00,  1.74279143e-01,\n",
       "       -3.13012475e-01, -1.44632686e+00, -1.43258686e+00,  1.16408267e+00,\n",
       "       -5.52804599e-01, -1.94615112e-01, -1.14370318e+00, -3.96199527e-01,\n",
       "        5.53758900e-01, -6.29368509e-02, -1.92906310e-01, -7.69507253e-01,\n",
       "        1.95153094e+00,  1.71986052e-01, -1.06618368e+00,  1.06911523e+00,\n",
       "       -6.42267164e-01,  1.22275140e+00, -8.34699264e-01,  5.81251631e-01,\n",
       "       -2.20809058e-01, -2.62359653e-02,  5.38936422e-01, -5.73494666e-01,\n",
       "        7.68082508e-01,  8.50943621e-01,  8.66254416e-01,  1.19271909e+00,\n",
       "       -2.67785282e-01, -1.98666757e-02,  8.02984019e-01, -6.34452112e-01,\n",
       "       -3.21986307e-03, -9.50426264e-01,  6.04157603e-01, -1.03982497e+00,\n",
       "        1.15253025e+00,  1.45752200e+00,  9.21276849e-02, -8.08500821e-01,\n",
       "        5.71713760e-02, -9.87022703e-01, -1.22392390e+00,  5.32998316e-01,\n",
       "       -4.58285650e-01, -1.38974369e+00,  5.93601736e-02,  7.01551772e-01,\n",
       "       -9.24426351e-01,  1.33334231e+00,  1.34495986e+00,  5.54302423e-03,\n",
       "       -1.90102794e-01,  5.41092512e-01,  2.24682284e-01,  1.64765704e+00,\n",
       "       -7.04962056e-01,  1.51674871e+00,  8.52634103e-01, -1.02836011e+00,\n",
       "       -1.53624986e+00, -5.96615013e-02,  1.34722160e+00,  1.93932147e-01,\n",
       "        1.84301828e+00,  1.34531023e+00, -4.52967277e-01,  1.25297885e+00,\n",
       "        5.35255702e-02,  4.64102037e-01, -2.32124816e+00, -3.43523241e-01,\n",
       "       -3.04345293e-01,  9.29398973e-01,  5.01795187e-01,  2.75568643e+00,\n",
       "        1.56828815e+00,  6.28305634e-01,  4.29486315e-01, -8.61001944e-01,\n",
       "       -3.35763608e-01,  5.67309439e-01, -1.42151978e+00,  9.82430508e-01,\n",
       "       -2.81263845e-01,  1.18482843e-01,  8.20966133e-01,  9.89637027e-01,\n",
       "        5.82287228e-02,  1.88206867e+00,  9.78271247e-01, -7.47457577e-01,\n",
       "       -3.27538142e-01, -5.36510959e-01, -1.23894249e+00,  2.15999393e+00,\n",
       "       -1.28016864e+00,  4.28643576e-01,  9.07605293e-01, -8.10165459e-01,\n",
       "        3.59411438e-01,  1.16106762e+00, -1.18688325e+00, -1.21078538e+00,\n",
       "        9.06459780e-03, -1.14764727e+00,  5.32108281e-01,  5.90887823e-01,\n",
       "       -7.88528868e-01,  6.31649925e-01, -4.49158529e-01,  6.92858988e-01,\n",
       "       -6.08563424e-01,  2.62144635e-01, -2.01063412e+00, -6.35893020e-01,\n",
       "        7.87287520e-01,  8.72746000e-01, -4.51232798e-01, -9.68267624e-01,\n",
       "       -6.83458142e-01,  1.43407998e+00, -2.52701491e+00,  1.19995907e-01,\n",
       "        1.04611240e+00, -1.03579286e+00,  7.21182267e-01, -8.72221704e-01,\n",
       "       -2.80281840e-02, -1.62028455e+00, -2.42693431e+00,  9.90162157e-02,\n",
       "        5.07707754e-01, -2.04362154e+00,  4.08333099e-02,  1.91174032e+00,\n",
       "       -1.10153880e+00,  7.09696518e-01, -1.16359174e+00, -4.92055496e-01,\n",
       "       -1.27798341e+00, -2.95014057e-01, -1.25820372e-01, -1.01850904e+00,\n",
       "       -4.06019970e-02,  7.10855629e-01,  7.23030591e-01,  6.59640119e-01,\n",
       "        2.38133506e-03,  9.68713240e-01,  3.66851036e-01,  1.14333146e+00,\n",
       "       -1.28721971e+00, -1.38877902e+00, -1.60301980e+00, -4.72511066e-01,\n",
       "       -8.65712131e-01, -1.04807806e-01,  1.78462272e+00, -1.59643523e-01,\n",
       "       -1.26292835e+00,  2.18379558e+00,  4.12984090e-01, -1.96703710e+00,\n",
       "       -6.68062205e-02, -1.38496108e-01, -2.36264308e-01,  2.31730421e-01,\n",
       "        1.00138853e+00, -7.52695437e-02, -1.04420453e+00, -3.72954160e-01,\n",
       "       -1.11444968e-01, -5.74038556e-01,  1.18725793e+00, -1.66973482e-01,\n",
       "        1.24539602e+00,  1.61894263e+00, -9.94801921e-01,  1.12951478e+00,\n",
       "       -1.48611654e+00, -2.47183073e-01, -8.98792932e-01,  2.15605200e-01,\n",
       "        6.35387759e-01, -1.65536312e+00,  1.50934120e+00,  1.96705741e+00,\n",
       "        1.67170835e+00, -9.66163001e-02,  3.09800615e-01, -8.70681176e-02,\n",
       "        1.00610714e+00,  8.62686382e-01, -4.44033537e-01, -1.66520468e+00,\n",
       "        6.79454478e-01,  3.32928741e-01, -9.62288077e-01, -8.50639933e-01,\n",
       "       -1.22259117e+00,  9.01252922e-01, -2.65734397e-01,  1.88745820e+00,\n",
       "        2.81018314e-01, -7.80371381e-01,  1.35933980e-01,  1.43038099e+00,\n",
       "        1.03654381e+00, -1.26301516e-01, -5.87972447e-01,  3.77838868e-01,\n",
       "       -7.77838833e-01,  2.56707598e-01, -1.01767773e+00,  7.28068954e-01,\n",
       "        1.07936326e+00, -2.91370367e-02, -4.58703316e-01,  2.51645897e-01,\n",
       "        1.67988966e+00, -6.05046251e-01,  1.97948144e+00,  5.21696621e-01,\n",
       "        5.86358235e-01, -1.06028468e+00,  1.38444428e+00, -1.83443227e-01,\n",
       "        8.33773789e-01, -2.44929952e-01,  4.75807439e-01,  6.74668297e-01,\n",
       "        1.14109784e+00, -6.07699333e-01,  2.72418096e-01, -1.09965031e+00,\n",
       "        2.42081770e-01, -4.42169665e-02,  5.57675761e-01, -4.60773689e-01,\n",
       "       -1.62024997e-01, -6.12480976e-01,  6.08403328e-01,  1.12844860e+00,\n",
       "        1.33232460e-01,  1.68871205e-01,  3.15554870e+00,  1.00073744e+00,\n",
       "       -3.94374395e-01, -1.41183052e-01,  1.11622253e+00, -4.75101814e-01,\n",
       "        8.35434475e-01,  2.08980225e+00,  2.97004970e-02,  1.93669750e-01,\n",
       "        5.42713427e-01, -1.07141223e+00, -8.69465009e-01,  1.16920393e+00,\n",
       "        4.54232527e-02, -1.05819061e+00,  2.54361325e-01, -1.27183428e+00,\n",
       "        1.09136241e-01,  3.74306281e-01,  1.98309453e-01, -1.40255337e+00,\n",
       "       -4.25595796e-01,  7.25929088e-01,  6.65158982e-01, -3.90058797e-01,\n",
       "       -1.54143563e+00, -3.52524386e-01, -3.22768543e-01,  1.58499293e-01,\n",
       "       -4.48479219e-01,  6.55609959e-01, -1.19852626e-01,  2.00492426e+00,\n",
       "       -8.78003245e-02,  9.43807008e-01, -2.17233415e+00,  2.02216298e-01,\n",
       "       -1.04209240e+00, -4.19520154e-01,  1.92097513e+00,  2.57670403e-01,\n",
       "        1.39208696e+00, -3.61220371e-01, -1.16447052e-01, -8.81469619e-01,\n",
       "        2.63192509e-01,  6.67543087e-01, -5.08761348e-01, -8.68891328e-01,\n",
       "        3.53879450e-01, -3.73228340e-01, -1.20758844e+00, -8.62678609e-01,\n",
       "        9.28534399e-01, -9.95102829e-02, -7.83536256e-01,  7.85191716e-01,\n",
       "       -1.47972333e+00, -9.38562218e-01, -3.19213886e+00, -3.80611320e-02,\n",
       "       -4.14245278e-02, -1.12847229e+00, -9.96572484e-01, -1.65274542e+00,\n",
       "       -1.05205955e+00,  1.68221268e+00, -9.80206093e-01, -1.57698544e-01,\n",
       "        2.02046307e-01, -1.47028827e+00, -2.19388555e+00,  1.20429566e-03,\n",
       "        1.99961434e+00,  3.84395182e-01, -9.27020478e-01,  2.05223052e+00,\n",
       "        9.38587150e-01,  5.69853108e-01,  3.94420067e-01,  1.16525786e+00,\n",
       "        8.73433575e-01, -8.47166723e-01, -3.85438711e-01,  4.72542351e-01,\n",
       "        4.26418845e-01, -1.05811392e+00, -2.34731710e-01, -1.86206207e-01,\n",
       "       -7.98154502e-01, -3.07136587e-01, -2.09338117e-01, -1.70149073e+00,\n",
       "       -9.19114173e-01,  1.58319232e-01,  1.23158008e+00,  1.17477609e-01,\n",
       "       -2.46421287e+00, -9.43987163e-01,  1.24167780e-01,  6.13565096e-01,\n",
       "       -1.75004497e-01,  2.74134412e-01, -1.76038576e+00, -4.78580988e-01,\n",
       "       -1.20226378e+00, -9.90147369e-01, -1.27933578e-01, -2.20833272e-01,\n",
       "        7.17109792e-01, -9.89400159e-01,  4.62682109e-01, -6.20458886e-01,\n",
       "       -1.07524643e+00, -6.59487890e-01, -1.43634358e+00,  6.90533701e-01,\n",
       "        1.03084416e+00, -2.16017235e+00,  1.86321333e+00,  4.62461687e-01,\n",
       "       -7.17224504e-01,  6.83619080e-01,  2.39955836e-01,  9.58814955e-01,\n",
       "        1.44186978e+00, -1.08057082e+00,  5.54755188e-01, -2.46242720e-01,\n",
       "        2.11886395e+00,  1.51901260e+00, -5.05377501e-02,  5.98580891e-01,\n",
       "       -1.51228486e+00,  8.36917783e-02, -8.27098620e-01, -1.52957088e+00,\n",
       "       -6.76196570e-01, -1.96386545e+00,  1.57673122e-01, -1.79251860e-01,\n",
       "       -1.63788315e+00, -1.36814367e-01,  5.36150195e-01, -4.10632281e-01,\n",
       "       -8.34537236e-02,  8.97638787e-01, -1.83729058e+00, -1.88782234e+00,\n",
       "        8.66801936e-01, -1.32132460e+00,  1.39508235e+00,  1.37243271e+00,\n",
       "       -6.42148938e-01,  1.45453061e+00,  7.96647504e-01,  2.19262099e+00,\n",
       "        1.71251210e-02, -3.57358142e-01, -3.67799006e-01,  6.58474838e-02,\n",
       "       -1.23805432e+00, -7.18074507e-01, -1.84665603e+00,  1.15602816e+00,\n",
       "       -6.89250230e-01,  3.39758818e-01, -3.73476576e-01,  7.73912844e-01,\n",
       "       -8.52055184e-01, -2.17109579e+00, -1.12567277e+00,  5.68209938e-02,\n",
       "       -9.98302514e-01, -3.51007278e-01, -1.31783563e+00,  1.28151597e+00,\n",
       "       -1.05823339e+00,  1.84386212e-01,  1.55658171e-01, -1.29077369e+00,\n",
       "        1.75690459e-01, -1.03267525e+00, -4.78498298e-01, -8.41040707e-02,\n",
       "        8.70866565e-01, -1.01399376e+00, -9.41652282e-01, -1.25401193e+00,\n",
       "        6.71999250e-01, -1.46887838e+00, -1.46279799e-01,  1.01629998e+00,\n",
       "        6.70477551e-01,  5.28146502e-01,  2.13927316e-01,  1.44501765e+00,\n",
       "       -9.13239019e-02, -8.71641374e-01, -7.70254157e-01,  1.50348386e-01,\n",
       "        2.96347610e-01,  5.51028838e-02,  1.40742882e+00, -7.82100424e-01,\n",
       "        4.02824881e-01, -1.29460950e+00,  2.79445322e-01,  3.37772075e-01])"
      ]
     },
     "execution_count": 12,
     "metadata": {},
     "output_type": "execute_result"
    }
   ],
   "source": [
    "data_normal"
   ]
  },
  {
   "cell_type": "code",
   "execution_count": 13,
   "id": "0e6458d7",
   "metadata": {},
   "outputs": [
    {
     "data": {
      "text/plain": [
       "-0.020589877488742837"
      ]
     },
     "execution_count": 13,
     "metadata": {},
     "output_type": "execute_result"
    }
   ],
   "source": [
    "np.mean(data_normal)"
   ]
  },
  {
   "cell_type": "markdown",
   "id": "7a0a861a",
   "metadata": {},
   "source": [
    "visualisasikan dengan fungsi distplot"
   ]
  },
  {
   "cell_type": "code",
   "execution_count": 14,
   "id": "1510a386",
   "metadata": {},
   "outputs": [
    {
     "data": {
      "text/plain": [
       "<seaborn.axisgrid.FacetGrid at 0x2359b5fabe0>"
      ]
     },
     "execution_count": 14,
     "metadata": {},
     "output_type": "execute_result"
    },
    {
     "data": {
      "image/png": "[encoded data removed]",
      "text/plain": [
       "<Figure size 360x360 with 1 Axes>"
      ]
     },
     "metadata": {},
     "output_type": "display_data"
    }
   ],
   "source": [
    "ax = sns.displot(\n",
    "    data = data_normal,\n",
    "    bins = 100,\n",
    "    kde = True,\n",
    "    color='skyblue',\n",
    "    # hist_kws={'linewidth':15, 'alpha':1}\n",
    ")\n",
    "ax.set(xlabel='Normal Distribution', ylabel='Frequency')\n"
   ]
  },
  {
   "cell_type": "markdown",
   "id": "3e116b53",
   "metadata": {},
   "source": [
    "# Gamma distribution"
   ]
  },
  {
   "cell_type": "markdown",
   "id": "9c16a99c",
   "metadata": {},
   "source": [
    "Gamma distribution adalah two parameter family dari continuous probability distributions. Meskipun jarang digunakan dalam bentuk mentah, tetapi distrbusi lain yang populer digunakan seperti exponential, chi squeared, erlang distributions adalah kasus khusus dari gamma"
   ]
  },
  {
   "cell_type": "markdown",
   "id": "3e879889",
   "metadata": {},
   "source": [
    "kita dapat membuat gamma drv menggunakan metode gamma.rvs9() modul scipy.stats yang mengambil \n",
    "- parameter shape a sebagai argumennya. ketika a bil bulat, gamma tereduksi menjadi distribusi Erlang, ketika a=1 menjadi distribusi eksponensial. \n",
    "- Untuk menggeser gunakan argumen loc, \n",
    "- untuk scale gunakan argumen scale, \n",
    "- size menentukan jumlah variasi acak dalam distribusi"
   ]
  },
  {
   "cell_type": "code",
   "execution_count": 15,
   "id": "f75d6a86",
   "metadata": {},
   "outputs": [],
   "source": [
    "from scipy.stats import gamma\n",
    "data_gama = gamma.rvs(a=5, size=10000)"
   ]
  },
  {
   "cell_type": "code",
   "execution_count": 16,
   "id": "7e5eb968",
   "metadata": {},
   "outputs": [
    {
     "data": {
      "text/plain": [
       "array([7.38439437, 6.99595386, 6.7525881 , ..., 3.85221975, 4.65539048,\n",
       "       4.01388494])"
      ]
     },
     "execution_count": 16,
     "metadata": {},
     "output_type": "execute_result"
    }
   ],
   "source": [
    "data_gama"
   ]
  },
  {
   "cell_type": "code",
   "execution_count": 17,
   "id": "9bfeb85e",
   "metadata": {},
   "outputs": [
    {
     "data": {
      "text/plain": [
       "4.973684783187919"
      ]
     },
     "execution_count": 17,
     "metadata": {},
     "output_type": "execute_result"
    }
   ],
   "source": [
    "np.mean(data_gama)"
   ]
  },
  {
   "cell_type": "code",
   "execution_count": 18,
   "id": "c5406da3",
   "metadata": {},
   "outputs": [
    {
     "data": {
      "text/plain": [
       "<seaborn.axisgrid.FacetGrid at 0x2359743f3d0>"
      ]
     },
     "execution_count": 18,
     "metadata": {},
     "output_type": "execute_result"
    },
    {
     "data": {
      "image/png": "[encoded data removed]",
      "text/plain": [
       "<Figure size 360x360 with 1 Axes>"
      ]
     },
     "metadata": {},
     "output_type": "display_data"
    }
   ],
   "source": [
    "ax = sns.displot(\n",
    "    data = data_gama,\n",
    "    bins = 100,\n",
    "    kde = True,\n",
    "    color='skyblue',\n",
    "    # hist_kws={'linewidth':15, 'alpha':1}\n",
    ")\n",
    "ax.set(xlabel='Gamma Distribution', ylabel='Frequency')\n"
   ]
  },
  {
   "cell_type": "markdown",
   "id": "699b677e",
   "metadata": {},
   "source": [
    "# Exponential Distribution"
   ]
  },
  {
   "cell_type": "markdown",
   "id": "434bd665",
   "metadata": {},
   "source": [
    "Exponential distribution menggambarkan waktu antara peristiwa dalam Poisson point process yaitu proses dimana peristiwa terjadi terus menerus dan independen pada tingkat rata-rata yang konstan"
   ]
  },
  {
   "cell_type": "code",
   "execution_count": 19,
   "id": "a71b6393",
   "metadata": {},
   "outputs": [],
   "source": [
    "from scipy.stats import expon # exponentially distributed random\n",
    "\n",
    "data_expon = expon.rvs(scale=1, loc=0, size=10000)"
   ]
  },
  {
   "cell_type": "code",
   "execution_count": 20,
   "id": "7a434ad3",
   "metadata": {},
   "outputs": [
    {
     "data": {
      "text/plain": [
       "0.9910227802913112"
      ]
     },
     "execution_count": 20,
     "metadata": {},
     "output_type": "execute_result"
    }
   ],
   "source": [
    "np.mean(data_expon)"
   ]
  },
  {
   "cell_type": "code",
   "execution_count": 21,
   "id": "19a401d9",
   "metadata": {},
   "outputs": [
    {
     "data": {
      "text/plain": [
       "<seaborn.axisgrid.FacetGrid at 0x2359b851760>"
      ]
     },
     "execution_count": 21,
     "metadata": {},
     "output_type": "execute_result"
    },
    {
     "data": {
      "image/png": "[encoded data removed]",
      "text/plain": [
       "<Figure size 360x360 with 1 Axes>"
      ]
     },
     "metadata": {},
     "output_type": "display_data"
    }
   ],
   "source": [
    "ax = sns.displot(\n",
    "    data = data_expon,\n",
    "    bins = 100,\n",
    "    kde = True,\n",
    "    color='skyblue',\n",
    "    # hist_kws={'linewidth':15, 'alpha':1}\n",
    ")\n",
    "ax.set(xlabel='Exponential Distribution', ylabel='Frequency')\n"
   ]
  },
  {
   "cell_type": "markdown",
   "id": "e8912cce",
   "metadata": {},
   "source": [
    "# Poisson Distrbution"
   ]
  },
  {
   "cell_type": "markdown",
   "id": "e9bd2c73",
   "metadata": {},
   "source": [
    "Poison random variable biasanya digunakan untuk memodelkan berapa kali suatu peristiwa terjadi dalam interval waktu. misal, jumlah pengguna yang berkunjung di situs web dalam suatu interval dapat dianggap sebagai proses Poisson."
   ]
  },
  {
   "cell_type": "code",
   "execution_count": 22,
   "id": "50dca06a",
   "metadata": {},
   "outputs": [],
   "source": [
    "from scipy.stats import poisson\n",
    "\n",
    "data_poisson = poisson.rvs(mu=3, size=10000)"
   ]
  },
  {
   "cell_type": "code",
   "execution_count": 23,
   "id": "de52307a",
   "metadata": {},
   "outputs": [
    {
     "data": {
      "text/plain": [
       "array([3, 3, 1, ..., 4, 1, 4])"
      ]
     },
     "execution_count": 23,
     "metadata": {},
     "output_type": "execute_result"
    }
   ],
   "source": [
    "data_poisson"
   ]
  },
  {
   "cell_type": "code",
   "execution_count": 24,
   "id": "095e8b13",
   "metadata": {},
   "outputs": [
    {
     "data": {
      "text/plain": [
       "2.9953"
      ]
     },
     "execution_count": 24,
     "metadata": {},
     "output_type": "execute_result"
    }
   ],
   "source": [
    "np.mean(data_poisson)"
   ]
  },
  {
   "cell_type": "code",
   "execution_count": 25,
   "id": "e43a8a5e",
   "metadata": {},
   "outputs": [
    {
     "data": {
      "text/plain": [
       "[3,\n",
       " 3,\n",
       " 1,\n",
       " 3,\n",
       " 5,\n",
       " 4,\n",
       " 4,\n",
       " 3,\n",
       " 5,\n",
       " 3,\n",
       " 2,\n",
       " 1,\n",
       " 4,\n",
       " 3,\n",
       " 6,\n",
       " 8,\n",
       " 6,\n",
       " 5,\n",
       " 1,\n",
       " 0,\n",
       " 5,\n",
       " 3,\n",
       " 2,\n",
       " 2,\n",
       " 6,\n",
       " 2,\n",
       " 4,\n",
       " 2,\n",
       " 5,\n",
       " 3,\n",
       " 5,\n",
       " 3,\n",
       " 4,\n",
       " 1,\n",
       " 2,\n",
       " 1,\n",
       " 6,\n",
       " 2,\n",
       " 4,\n",
       " 3,\n",
       " 5,\n",
       " 2,\n",
       " 2,\n",
       " 1,\n",
       " 2,\n",
       " 4,\n",
       " 4,\n",
       " 4,\n",
       " 1,\n",
       " 7,\n",
       " 4,\n",
       " 4,\n",
       " 7,\n",
       " 6,\n",
       " 2,\n",
       " 4,\n",
       " 1,\n",
       " 5,\n",
       " 6,\n",
       " 1,\n",
       " 3,\n",
       " 5,\n",
       " 4,\n",
       " 5,\n",
       " 1,\n",
       " 2,\n",
       " 4,\n",
       " 2,\n",
       " 3,\n",
       " 3,\n",
       " 3,\n",
       " 2,\n",
       " 3,\n",
       " 1,\n",
       " 4,\n",
       " 2,\n",
       " 2,\n",
       " 2,\n",
       " 1,\n",
       " 3,\n",
       " 3,\n",
       " 3,\n",
       " 2,\n",
       " 2,\n",
       " 4,\n",
       " 2,\n",
       " 0,\n",
       " 1,\n",
       " 4,\n",
       " 6,\n",
       " 3,\n",
       " 5,\n",
       " 3,\n",
       " 4,\n",
       " 3,\n",
       " 3,\n",
       " 4,\n",
       " 2,\n",
       " 4,\n",
       " 0,\n",
       " 3,\n",
       " 3,\n",
       " 6,\n",
       " 0,\n",
       " 2,\n",
       " 2,\n",
       " 5,\n",
       " 1,\n",
       " 8,\n",
       " 2,\n",
       " 4,\n",
       " 5,\n",
       " 3,\n",
       " 4,\n",
       " 2,\n",
       " 3,\n",
       " 3,\n",
       " 4,\n",
       " 5,\n",
       " 1,\n",
       " 2,\n",
       " 3,\n",
       " 2,\n",
       " 1,\n",
       " 7,\n",
       " 4,\n",
       " 4,\n",
       " 5,\n",
       " 1,\n",
       " 1,\n",
       " 2,\n",
       " 1,\n",
       " 2,\n",
       " 4,\n",
       " 3,\n",
       " 6,\n",
       " 1,\n",
       " 4,\n",
       " 6,\n",
       " 0,\n",
       " 5,\n",
       " 2,\n",
       " 4,\n",
       " 3,\n",
       " 0,\n",
       " 3,\n",
       " 2,\n",
       " 7,\n",
       " 4,\n",
       " 0,\n",
       " 3,\n",
       " 1,\n",
       " 4,\n",
       " 7,\n",
       " 1,\n",
       " 3,\n",
       " 8,\n",
       " 6,\n",
       " 4,\n",
       " 3,\n",
       " 3,\n",
       " 2,\n",
       " 3,\n",
       " 5,\n",
       " 5,\n",
       " 2,\n",
       " 5,\n",
       " 0,\n",
       " 4,\n",
       " 2,\n",
       " 3,\n",
       " 2,\n",
       " 0,\n",
       " 6,\n",
       " 5,\n",
       " 4,\n",
       " 2,\n",
       " 1,\n",
       " 0,\n",
       " 4,\n",
       " 2,\n",
       " 3,\n",
       " 2,\n",
       " 1,\n",
       " 1,\n",
       " 4,\n",
       " 2,\n",
       " 3,\n",
       " 2,\n",
       " 2,\n",
       " 3,\n",
       " 3,\n",
       " 5,\n",
       " 1,\n",
       " 3,\n",
       " 1,\n",
       " 2,\n",
       " 2,\n",
       " 1,\n",
       " 4,\n",
       " 4,\n",
       " 2,\n",
       " 3,\n",
       " 2,\n",
       " 4,\n",
       " 3,\n",
       " 3,\n",
       " 7,\n",
       " 0,\n",
       " 3,\n",
       " 3,\n",
       " 2,\n",
       " 6,\n",
       " 2,\n",
       " 4,\n",
       " 4,\n",
       " 5,\n",
       " 2,\n",
       " 6,\n",
       " 4,\n",
       " 3,\n",
       " 6,\n",
       " 2,\n",
       " 4,\n",
       " 4,\n",
       " 3,\n",
       " 3,\n",
       " 4,\n",
       " 2,\n",
       " 2,\n",
       " 0,\n",
       " 3,\n",
       " 1,\n",
       " 1,\n",
       " 3,\n",
       " 7,\n",
       " 2,\n",
       " 3,\n",
       " 1,\n",
       " 5,\n",
       " 2,\n",
       " 5,\n",
       " 3,\n",
       " 4,\n",
       " 0,\n",
       " 0,\n",
       " 3,\n",
       " 7,\n",
       " 3,\n",
       " 6,\n",
       " 3,\n",
       " 2,\n",
       " 4,\n",
       " 7,\n",
       " 4,\n",
       " 3,\n",
       " 1,\n",
       " 1,\n",
       " 4,\n",
       " 2,\n",
       " 0,\n",
       " 3,\n",
       " 3,\n",
       " 0,\n",
       " 7,\n",
       " 4,\n",
       " 3,\n",
       " 4,\n",
       " 1,\n",
       " 1,\n",
       " 3,\n",
       " 4,\n",
       " 5,\n",
       " 5,\n",
       " 1,\n",
       " 0,\n",
       " 4,\n",
       " 3,\n",
       " 3,\n",
       " 3,\n",
       " 3,\n",
       " 3,\n",
       " 1,\n",
       " 4,\n",
       " 3,\n",
       " 1,\n",
       " 4,\n",
       " 5,\n",
       " 2,\n",
       " 4,\n",
       " 1,\n",
       " 1,\n",
       " 4,\n",
       " 7,\n",
       " 4,\n",
       " 2,\n",
       " 2,\n",
       " 5,\n",
       " 2,\n",
       " 3,\n",
       " 3,\n",
       " 1,\n",
       " 5,\n",
       " 4,\n",
       " 3,\n",
       " 1,\n",
       " 2,\n",
       " 3,\n",
       " 3,\n",
       " 5,\n",
       " 3,\n",
       " 4,\n",
       " 4,\n",
       " 3,\n",
       " 6,\n",
       " 2,\n",
       " 1,\n",
       " 7,\n",
       " 5,\n",
       " 3,\n",
       " 1,\n",
       " 3,\n",
       " 4,\n",
       " 0,\n",
       " 5,\n",
       " 5,\n",
       " 3,\n",
       " 4,\n",
       " 4,\n",
       " 2,\n",
       " 2,\n",
       " 6,\n",
       " 3,\n",
       " 3,\n",
       " 2,\n",
       " 4,\n",
       " 0,\n",
       " 4,\n",
       " 2,\n",
       " 0,\n",
       " 4,\n",
       " 5,\n",
       " 2,\n",
       " 2,\n",
       " 1,\n",
       " 3,\n",
       " 2,\n",
       " 4,\n",
       " 7,\n",
       " 1,\n",
       " 3,\n",
       " 3,\n",
       " 4,\n",
       " 2,\n",
       " 4,\n",
       " 1,\n",
       " 5,\n",
       " 3,\n",
       " 8,\n",
       " 4,\n",
       " 2,\n",
       " 4,\n",
       " 3,\n",
       " 4,\n",
       " 2,\n",
       " 3,\n",
       " 2,\n",
       " 0,\n",
       " 3,\n",
       " 3,\n",
       " 4,\n",
       " 1,\n",
       " 1,\n",
       " 3,\n",
       " 2,\n",
       " 6,\n",
       " 2,\n",
       " 5,\n",
       " 5,\n",
       " 4,\n",
       " 6,\n",
       " 9,\n",
       " 0,\n",
       " 4,\n",
       " 4,\n",
       " 2,\n",
       " 4,\n",
       " 3,\n",
       " 5,\n",
       " 5,\n",
       " 4,\n",
       " 4,\n",
       " 3,\n",
       " 2,\n",
       " 1,\n",
       " 5,\n",
       " 3,\n",
       " 4,\n",
       " 4,\n",
       " 3,\n",
       " 5,\n",
       " 6,\n",
       " 5,\n",
       " 0,\n",
       " 2,\n",
       " 7,\n",
       " 2,\n",
       " 3,\n",
       " 1,\n",
       " 4,\n",
       " 4,\n",
       " 3,\n",
       " 4,\n",
       " 2,\n",
       " 1,\n",
       " 5,\n",
       " 1,\n",
       " 4,\n",
       " 3,\n",
       " 2,\n",
       " 3,\n",
       " 3,\n",
       " 3,\n",
       " 3,\n",
       " 5,\n",
       " 2,\n",
       " 2,\n",
       " 7,\n",
       " 2,\n",
       " 7,\n",
       " 1,\n",
       " 3,\n",
       " 2,\n",
       " 2,\n",
       " 6,\n",
       " 3,\n",
       " 4,\n",
       " 2,\n",
       " 1,\n",
       " 2,\n",
       " 3,\n",
       " 2,\n",
       " 4,\n",
       " 5,\n",
       " 1,\n",
       " 1,\n",
       " 1,\n",
       " 3,\n",
       " 3,\n",
       " 5,\n",
       " 3,\n",
       " 6,\n",
       " 2,\n",
       " 2,\n",
       " 3,\n",
       " 1,\n",
       " 4,\n",
       " 3,\n",
       " 1,\n",
       " 3,\n",
       " 3,\n",
       " 6,\n",
       " 5,\n",
       " 2,\n",
       " 4,\n",
       " 2,\n",
       " 1,\n",
       " 5,\n",
       " 3,\n",
       " 4,\n",
       " 1,\n",
       " 2,\n",
       " 4,\n",
       " 1,\n",
       " 4,\n",
       " 0,\n",
       " 7,\n",
       " 6,\n",
       " 0,\n",
       " 3,\n",
       " 3,\n",
       " 6,\n",
       " 4,\n",
       " 2,\n",
       " 2,\n",
       " 8,\n",
       " 2,\n",
       " 4,\n",
       " 3,\n",
       " 5,\n",
       " 4,\n",
       " 5,\n",
       " 5,\n",
       " 3,\n",
       " 2,\n",
       " 2,\n",
       " 1,\n",
       " 5,\n",
       " 4,\n",
       " 3,\n",
       " 3,\n",
       " 6,\n",
       " 4,\n",
       " 1,\n",
       " 1,\n",
       " 2,\n",
       " 3,\n",
       " 4,\n",
       " 1,\n",
       " 3,\n",
       " 3,\n",
       " 2,\n",
       " 4,\n",
       " 1,\n",
       " 3,\n",
       " 2,\n",
       " 2,\n",
       " 3,\n",
       " 1,\n",
       " 1,\n",
       " 0,\n",
       " 2,\n",
       " 3,\n",
       " 7,\n",
       " 2,\n",
       " 4,\n",
       " 4,\n",
       " 1,\n",
       " 3,\n",
       " 2,\n",
       " 3,\n",
       " 4,\n",
       " 3,\n",
       " 4,\n",
       " 1,\n",
       " 0,\n",
       " 5,\n",
       " 2,\n",
       " 2,\n",
       " 1,\n",
       " 6,\n",
       " 1,\n",
       " 4,\n",
       " 3,\n",
       " 1,\n",
       " 2,\n",
       " 2,\n",
       " 2,\n",
       " 2,\n",
       " 0,\n",
       " 3,\n",
       " 3,\n",
       " 0,\n",
       " 7,\n",
       " 2,\n",
       " 6,\n",
       " 5,\n",
       " 2,\n",
       " 3,\n",
       " 2,\n",
       " 1,\n",
       " 1,\n",
       " 7,\n",
       " 4,\n",
       " 5,\n",
       " 2,\n",
       " 3,\n",
       " 4,\n",
       " 3,\n",
       " 6,\n",
       " 2,\n",
       " 2,\n",
       " 2,\n",
       " 6,\n",
       " 7,\n",
       " 4,\n",
       " 4,\n",
       " 2,\n",
       " 4,\n",
       " 2,\n",
       " 2,\n",
       " 1,\n",
       " 0,\n",
       " 2,\n",
       " 3,\n",
       " 0,\n",
       " 5,\n",
       " 6,\n",
       " 3,\n",
       " 5,\n",
       " 4,\n",
       " 6,\n",
       " 4,\n",
       " 3,\n",
       " 1,\n",
       " 2,\n",
       " 1,\n",
       " 3,\n",
       " 3,\n",
       " 5,\n",
       " 5,\n",
       " 1,\n",
       " 3,\n",
       " 3,\n",
       " 3,\n",
       " 5,\n",
       " 1,\n",
       " 4,\n",
       " 2,\n",
       " 3,\n",
       " 3,\n",
       " 1,\n",
       " 2,\n",
       " 3,\n",
       " 4,\n",
       " 3,\n",
       " 1,\n",
       " 2,\n",
       " 3,\n",
       " 0,\n",
       " 3,\n",
       " 2,\n",
       " 3,\n",
       " 4,\n",
       " 2,\n",
       " 3,\n",
       " 3,\n",
       " 3,\n",
       " 4,\n",
       " 2,\n",
       " 4,\n",
       " 6,\n",
       " 5,\n",
       " 2,\n",
       " 1,\n",
       " 1,\n",
       " 4,\n",
       " 2,\n",
       " 4,\n",
       " 7,\n",
       " 2,\n",
       " 4,\n",
       " 3,\n",
       " 3,\n",
       " 2,\n",
       " 0,\n",
       " 3,\n",
       " 2,\n",
       " 4,\n",
       " 3,\n",
       " 4,\n",
       " 3,\n",
       " 0,\n",
       " 7,\n",
       " 4,\n",
       " 2,\n",
       " 1,\n",
       " 3,\n",
       " 3,\n",
       " 4,\n",
       " 4,\n",
       " 3,\n",
       " 3,\n",
       " 3,\n",
       " 2,\n",
       " 3,\n",
       " 4,\n",
       " 2,\n",
       " 2,\n",
       " 4,\n",
       " 5,\n",
       " 3,\n",
       " 4,\n",
       " 3,\n",
       " 4,\n",
       " 2,\n",
       " 6,\n",
       " 1,\n",
       " 1,\n",
       " 2,\n",
       " 2,\n",
       " 3,\n",
       " 2,\n",
       " 5,\n",
       " 3,\n",
       " 3,\n",
       " 4,\n",
       " 6,\n",
       " 2,\n",
       " 2,\n",
       " 5,\n",
       " 5,\n",
       " 4,\n",
       " 5,\n",
       " 0,\n",
       " 4,\n",
       " 3,\n",
       " 2,\n",
       " 5,\n",
       " 4,\n",
       " 3,\n",
       " 3,\n",
       " 1,\n",
       " 0,\n",
       " 2,\n",
       " 2,\n",
       " 1,\n",
       " 2,\n",
       " 2,\n",
       " 2,\n",
       " 2,\n",
       " 1,\n",
       " 4,\n",
       " 0,\n",
       " 3,\n",
       " 4,\n",
       " 8,\n",
       " 0,\n",
       " 3,\n",
       " 3,\n",
       " 5,\n",
       " 4,\n",
       " 2,\n",
       " 4,\n",
       " 4,\n",
       " 2,\n",
       " 5,\n",
       " 9,\n",
       " 4,\n",
       " 4,\n",
       " 2,\n",
       " 5,\n",
       " 2,\n",
       " 4,\n",
       " 2,\n",
       " 8,\n",
       " 4,\n",
       " 0,\n",
       " 4,\n",
       " 7,\n",
       " 2,\n",
       " 1,\n",
       " 4,\n",
       " 3,\n",
       " 3,\n",
       " 4,\n",
       " 3,\n",
       " 5,\n",
       " 1,\n",
       " 2,\n",
       " 3,\n",
       " 6,\n",
       " 1,\n",
       " 2,\n",
       " 1,\n",
       " 4,\n",
       " 4,\n",
       " 3,\n",
       " 2,\n",
       " 3,\n",
       " 1,\n",
       " 5,\n",
       " 2,\n",
       " 2,\n",
       " 4,\n",
       " 4,\n",
       " 3,\n",
       " 1,\n",
       " 2,\n",
       " 6,\n",
       " 4,\n",
       " 4,\n",
       " 7,\n",
       " 9,\n",
       " 0,\n",
       " 3,\n",
       " 3,\n",
       " 4,\n",
       " 3,\n",
       " 2,\n",
       " 4,\n",
       " 5,\n",
       " 1,\n",
       " 1,\n",
       " 0,\n",
       " 5,\n",
       " 7,\n",
       " 4,\n",
       " 3,\n",
       " 6,\n",
       " 0,\n",
       " 6,\n",
       " 2,\n",
       " 4,\n",
       " 2,\n",
       " 6,\n",
       " 3,\n",
       " 2,\n",
       " 2,\n",
       " 2,\n",
       " 9,\n",
       " 3,\n",
       " 2,\n",
       " 2,\n",
       " 3,\n",
       " 6,\n",
       " 2,\n",
       " 1,\n",
       " 2,\n",
       " 4,\n",
       " 3,\n",
       " 5,\n",
       " 2,\n",
       " 2,\n",
       " 2,\n",
       " 4,\n",
       " 5,\n",
       " 1,\n",
       " 4,\n",
       " 4,\n",
       " 2,\n",
       " 3,\n",
       " 1,\n",
       " 4,\n",
       " 4,\n",
       " 3,\n",
       " 3,\n",
       " 7,\n",
       " 3,\n",
       " 2,\n",
       " 1,\n",
       " 2,\n",
       " 2,\n",
       " 5,\n",
       " 6,\n",
       " 1,\n",
       " 2,\n",
       " 3,\n",
       " 1,\n",
       " 3,\n",
       " 6,\n",
       " 0,\n",
       " 3,\n",
       " 4,\n",
       " 3,\n",
       " 1,\n",
       " 4,\n",
       " 4,\n",
       " 2,\n",
       " 3,\n",
       " 5,\n",
       " 6,\n",
       " 4,\n",
       " 2,\n",
       " 2,\n",
       " 2,\n",
       " 2,\n",
       " 2,\n",
       " 3,\n",
       " 2,\n",
       " 2,\n",
       " 4,\n",
       " 3,\n",
       " 0,\n",
       " 3,\n",
       " 2,\n",
       " 3,\n",
       " 1,\n",
       " 2,\n",
       " 2,\n",
       " 3,\n",
       " 4,\n",
       " 2,\n",
       " 2,\n",
       " 4,\n",
       " 3,\n",
       " 2,\n",
       " 3,\n",
       " 1,\n",
       " 3,\n",
       " 2,\n",
       " 4,\n",
       " 3,\n",
       " 5,\n",
       " 5,\n",
       " 4,\n",
       " 4,\n",
       " 1,\n",
       " 5,\n",
       " 8,\n",
       " 8,\n",
       " 5,\n",
       " 4,\n",
       " 4,\n",
       " 3,\n",
       " 8,\n",
       " 3,\n",
       " 4,\n",
       " 3,\n",
       " 2,\n",
       " 2,\n",
       " 1,\n",
       " 4,\n",
       " 6,\n",
       " 2,\n",
       " 1,\n",
       " 4,\n",
       " 2,\n",
       " 2,\n",
       " 3,\n",
       " 2,\n",
       " 3,\n",
       " 1,\n",
       " 2,\n",
       " 2,\n",
       " 4,\n",
       " 3,\n",
       " 3,\n",
       " 2,\n",
       " 4,\n",
       " 3,\n",
       " 4,\n",
       " 4,\n",
       " 1,\n",
       " 0,\n",
       " 1,\n",
       " 6,\n",
       " 1,\n",
       " 7,\n",
       " 1,\n",
       " 5,\n",
       " 1,\n",
       " 5,\n",
       " 4,\n",
       " 0,\n",
       " 1,\n",
       " 4,\n",
       " 4,\n",
       " 1,\n",
       " 2,\n",
       " 3,\n",
       " 4,\n",
       " 3,\n",
       " 6,\n",
       " 2,\n",
       " 5,\n",
       " 4,\n",
       " 0,\n",
       " 1,\n",
       " 4,\n",
       " 7,\n",
       " 6,\n",
       " 2,\n",
       " 4,\n",
       " 4,\n",
       " 4,\n",
       " 7,\n",
       " 2,\n",
       " 3,\n",
       " 4,\n",
       " 4,\n",
       " 5,\n",
       " 3,\n",
       " 5,\n",
       " 0,\n",
       " 3,\n",
       " 3,\n",
       " 3,\n",
       " 3,\n",
       " 1,\n",
       " 2,\n",
       " 7,\n",
       " 6,\n",
       " 4,\n",
       " 2,\n",
       " 2,\n",
       " 2,\n",
       " 2,\n",
       " 1,\n",
       " 5,\n",
       " 3,\n",
       " 2,\n",
       " 1,\n",
       " 0,\n",
       " 6,\n",
       " 4,\n",
       " 5,\n",
       " 4,\n",
       " 3,\n",
       " 2,\n",
       " 2,\n",
       " 2,\n",
       " 2,\n",
       " 1,\n",
       " 7,\n",
       " 6,\n",
       " 2,\n",
       " 3,\n",
       " 2,\n",
       " 5,\n",
       " ...]"
      ]
     },
     "execution_count": 25,
     "metadata": {},
     "output_type": "execute_result"
    }
   ],
   "source": [
    "list(data_poisson)"
   ]
  },
  {
   "cell_type": "code",
   "execution_count": 26,
   "id": "ca2421e2",
   "metadata": {},
   "outputs": [
    {
     "data": {
      "text/plain": [
       "<seaborn.axisgrid.FacetGrid at 0x2359b8c3d00>"
      ]
     },
     "execution_count": 26,
     "metadata": {},
     "output_type": "execute_result"
    },
    {
     "data": {
      "image/png": "[encoded data removed]",
      "text/plain": [
       "<Figure size 360x360 with 1 Axes>"
      ]
     },
     "metadata": {},
     "output_type": "display_data"
    }
   ],
   "source": [
    "ax = sns.displot(\n",
    "    data = data_poisson,\n",
    "    bins = 30,\n",
    "    kde = True,\n",
    "    color='skyblue',\n",
    "    # hist_kws={'linewidth':15, 'alpha':1}\n",
    ")\n",
    "ax.set(xlabel='Poisson Distribution', ylabel='Frequency')\n"
   ]
  },
  {
   "cell_type": "markdown",
   "id": "a5c6bf68",
   "metadata": {},
   "source": [
    "# Binomial Dsitribution"
   ]
  },
  {
   "cell_type": "markdown",
   "id": "0c058116",
   "metadata": {},
   "source": [
    "Distribusi dimana hanya dua hasil yang mungkin, seperti sukses atau gagal, dan dimana probabilitas keberhasilan dan kegagalan sama untuk semua percobaan. Hasil tidak harus sama kemungkinanya, dan setiap percobaan tidak bergantung satu sama lain. \n",
    "\n",
    "Parameternya n (jumlah total percobaan) dan p (probabilitas keberhasilan pada setiap percobaan)"
   ]
  },
  {
   "cell_type": "code",
   "execution_count": 27,
   "id": "4f09eb80",
   "metadata": {},
   "outputs": [],
   "source": [
    "from scipy.stats import binom\n",
    "data_binom = binom.rvs(n=10, p=0.8, size=10000)"
   ]
  },
  {
   "cell_type": "code",
   "execution_count": 28,
   "id": "48499614",
   "metadata": {},
   "outputs": [
    {
     "data": {
      "text/plain": [
       "array([7, 7, 7, ..., 9, 8, 8])"
      ]
     },
     "execution_count": 28,
     "metadata": {},
     "output_type": "execute_result"
    }
   ],
   "source": [
    "data_binom"
   ]
  },
  {
   "cell_type": "code",
   "execution_count": 29,
   "id": "c6d5b3be",
   "metadata": {},
   "outputs": [
    {
     "data": {
      "text/plain": [
       "<seaborn.axisgrid.FacetGrid at 0x2359b8c3910>"
      ]
     },
     "execution_count": 29,
     "metadata": {},
     "output_type": "execute_result"
    },
    {
     "data": {
      "image/png": "[encoded data removed]",
      "text/plain": [
       "<Figure size 360x360 with 1 Axes>"
      ]
     },
     "metadata": {},
     "output_type": "display_data"
    }
   ],
   "source": [
    "ax = sns.displot(\n",
    "    data = data_binom,\n",
    "    kde = False,\n",
    "    color='skyblue',\n",
    ")\n",
    "ax.set(xlabel='Binomial Distribution', ylabel='Frequency')\n"
   ]
  },
  {
   "cell_type": "code",
   "execution_count": 30,
   "id": "ccc20b94",
   "metadata": {},
   "outputs": [
    {
     "data": {
      "text/plain": [
       "[7,\n",
       " 7,\n",
       " 7,\n",
       " 7,\n",
       " 8,\n",
       " 8,\n",
       " 7,\n",
       " 9,\n",
       " 5,\n",
       " 10,\n",
       " 9,\n",
       " 9,\n",
       " 8,\n",
       " 6,\n",
       " 8,\n",
       " 9,\n",
       " 7,\n",
       " 6,\n",
       " 9,\n",
       " 10,\n",
       " 6,\n",
       " 8,\n",
       " 9,\n",
       " 7,\n",
       " 8,\n",
       " 9,\n",
       " 8,\n",
       " 7,\n",
       " 8,\n",
       " 9,\n",
       " 9,\n",
       " 7,\n",
       " 8,\n",
       " 9,\n",
       " 5,\n",
       " 10,\n",
       " 8,\n",
       " 9,\n",
       " 6,\n",
       " 8,\n",
       " 7,\n",
       " 10,\n",
       " 9,\n",
       " 8,\n",
       " 7,\n",
       " 6,\n",
       " 10,\n",
       " 6,\n",
       " 8,\n",
       " 10,\n",
       " 9,\n",
       " 9,\n",
       " 8,\n",
       " 7,\n",
       " 9,\n",
       " 9,\n",
       " 10,\n",
       " 9,\n",
       " 8,\n",
       " 9,\n",
       " 7,\n",
       " 9,\n",
       " 10,\n",
       " 9,\n",
       " 7,\n",
       " 9,\n",
       " 8,\n",
       " 8,\n",
       " 7,\n",
       " 8,\n",
       " 10,\n",
       " 6,\n",
       " 6,\n",
       " 10,\n",
       " 7,\n",
       " 9,\n",
       " 7,\n",
       " 8,\n",
       " 8,\n",
       " 7,\n",
       " 9,\n",
       " 8,\n",
       " 9,\n",
       " 9,\n",
       " 8,\n",
       " 10,\n",
       " 7,\n",
       " 7,\n",
       " 10,\n",
       " 9,\n",
       " 9,\n",
       " 7,\n",
       " 10,\n",
       " 10,\n",
       " 9,\n",
       " 10,\n",
       " 10,\n",
       " 8,\n",
       " 6,\n",
       " 9,\n",
       " 9,\n",
       " 10,\n",
       " 8,\n",
       " 9,\n",
       " 8,\n",
       " 7,\n",
       " 6,\n",
       " 9,\n",
       " 10,\n",
       " 7,\n",
       " 6,\n",
       " 6,\n",
       " 8,\n",
       " 10,\n",
       " 7,\n",
       " 9,\n",
       " 9,\n",
       " 6,\n",
       " 8,\n",
       " 6,\n",
       " 9,\n",
       " 9,\n",
       " 9,\n",
       " 8,\n",
       " 8,\n",
       " 7,\n",
       " 8,\n",
       " 10,\n",
       " 6,\n",
       " 9,\n",
       " 8,\n",
       " 8,\n",
       " 9,\n",
       " 8,\n",
       " 9,\n",
       " 7,\n",
       " 9,\n",
       " 8,\n",
       " 7,\n",
       " 7,\n",
       " 4,\n",
       " 8,\n",
       " 8,\n",
       " 9,\n",
       " 8,\n",
       " 6,\n",
       " 6,\n",
       " 7,\n",
       " 7,\n",
       " 7,\n",
       " 10,\n",
       " 10,\n",
       " 9,\n",
       " 7,\n",
       " 8,\n",
       " 7,\n",
       " 8,\n",
       " 9,\n",
       " 7,\n",
       " 10,\n",
       " 7,\n",
       " 9,\n",
       " 8,\n",
       " 8,\n",
       " 7,\n",
       " 9,\n",
       " 7,\n",
       " 6,\n",
       " 9,\n",
       " 9,\n",
       " 8,\n",
       " 9,\n",
       " 8,\n",
       " 9,\n",
       " 5,\n",
       " 7,\n",
       " 10,\n",
       " 5,\n",
       " 7,\n",
       " 8,\n",
       " 7,\n",
       " 10,\n",
       " 7,\n",
       " 8,\n",
       " 7,\n",
       " 7,\n",
       " 8,\n",
       " 8,\n",
       " 8,\n",
       " 6,\n",
       " 8,\n",
       " 8,\n",
       " 9,\n",
       " 7,\n",
       " 8,\n",
       " 7,\n",
       " 10,\n",
       " 8,\n",
       " 9,\n",
       " 8,\n",
       " 10,\n",
       " 7,\n",
       " 10,\n",
       " 8,\n",
       " 8,\n",
       " 8,\n",
       " 8,\n",
       " 8,\n",
       " 9,\n",
       " 10,\n",
       " 9,\n",
       " 8,\n",
       " 9,\n",
       " 9,\n",
       " 9,\n",
       " 10,\n",
       " 5,\n",
       " 9,\n",
       " 9,\n",
       " 9,\n",
       " 8,\n",
       " 7,\n",
       " 9,\n",
       " 8,\n",
       " 7,\n",
       " 7,\n",
       " 10,\n",
       " 10,\n",
       " 8,\n",
       " 10,\n",
       " 10,\n",
       " 7,\n",
       " 8,\n",
       " 6,\n",
       " 7,\n",
       " 7,\n",
       " 8,\n",
       " 10,\n",
       " 10,\n",
       " 9,\n",
       " 10,\n",
       " 10,\n",
       " 7,\n",
       " 7,\n",
       " 8,\n",
       " 7,\n",
       " 8,\n",
       " 8,\n",
       " 9,\n",
       " 5,\n",
       " 8,\n",
       " 9,\n",
       " 8,\n",
       " 9,\n",
       " 9,\n",
       " 9,\n",
       " 9,\n",
       " 8,\n",
       " 7,\n",
       " 6,\n",
       " 8,\n",
       " 9,\n",
       " 7,\n",
       " 8,\n",
       " 10,\n",
       " 8,\n",
       " 6,\n",
       " 10,\n",
       " 8,\n",
       " 9,\n",
       " 8,\n",
       " 9,\n",
       " 9,\n",
       " 9,\n",
       " 9,\n",
       " 9,\n",
       " 8,\n",
       " 8,\n",
       " 8,\n",
       " 10,\n",
       " 10,\n",
       " 7,\n",
       " 8,\n",
       " 9,\n",
       " 9,\n",
       " 8,\n",
       " 10,\n",
       " 10,\n",
       " 10,\n",
       " 9,\n",
       " 6,\n",
       " 8,\n",
       " 8,\n",
       " 7,\n",
       " 9,\n",
       " 10,\n",
       " 7,\n",
       " 6,\n",
       " 6,\n",
       " 6,\n",
       " 7,\n",
       " 7,\n",
       " 9,\n",
       " 9,\n",
       " 6,\n",
       " 9,\n",
       " 9,\n",
       " 8,\n",
       " 9,\n",
       " 8,\n",
       " 6,\n",
       " 7,\n",
       " 10,\n",
       " 7,\n",
       " 8,\n",
       " 9,\n",
       " 9,\n",
       " 9,\n",
       " 9,\n",
       " 7,\n",
       " 7,\n",
       " 8,\n",
       " 9,\n",
       " 9,\n",
       " 9,\n",
       " 9,\n",
       " 9,\n",
       " 9,\n",
       " 8,\n",
       " 9,\n",
       " 9,\n",
       " 8,\n",
       " 8,\n",
       " 8,\n",
       " 6,\n",
       " 3,\n",
       " 6,\n",
       " 8,\n",
       " 6,\n",
       " 8,\n",
       " 7,\n",
       " 6,\n",
       " 7,\n",
       " 8,\n",
       " 6,\n",
       " 7,\n",
       " 10,\n",
       " 10,\n",
       " 8,\n",
       " 8,\n",
       " 8,\n",
       " 8,\n",
       " 7,\n",
       " 9,\n",
       " 4,\n",
       " 8,\n",
       " 7,\n",
       " 4,\n",
       " 6,\n",
       " 5,\n",
       " 9,\n",
       " 9,\n",
       " 10,\n",
       " 8,\n",
       " 7,\n",
       " 6,\n",
       " 7,\n",
       " 8,\n",
       " 9,\n",
       " 8,\n",
       " 9,\n",
       " 7,\n",
       " 8,\n",
       " 8,\n",
       " 8,\n",
       " 6,\n",
       " 9,\n",
       " 6,\n",
       " 9,\n",
       " 9,\n",
       " 8,\n",
       " 9,\n",
       " 9,\n",
       " 9,\n",
       " 7,\n",
       " 9,\n",
       " 8,\n",
       " 8,\n",
       " 6,\n",
       " 8,\n",
       " 7,\n",
       " 7,\n",
       " 7,\n",
       " 6,\n",
       " 9,\n",
       " 10,\n",
       " 6,\n",
       " 7,\n",
       " 8,\n",
       " 9,\n",
       " 6,\n",
       " 9,\n",
       " 9,\n",
       " 7,\n",
       " 7,\n",
       " 9,\n",
       " 8,\n",
       " 9,\n",
       " 10,\n",
       " 7,\n",
       " 7,\n",
       " 9,\n",
       " 9,\n",
       " 7,\n",
       " 8,\n",
       " 9,\n",
       " 9,\n",
       " 6,\n",
       " 9,\n",
       " 9,\n",
       " 9,\n",
       " 8,\n",
       " 7,\n",
       " 10,\n",
       " 7,\n",
       " 9,\n",
       " 8,\n",
       " 9,\n",
       " 8,\n",
       " 7,\n",
       " 9,\n",
       " 9,\n",
       " 7,\n",
       " 8,\n",
       " 7,\n",
       " 10,\n",
       " 8,\n",
       " 8,\n",
       " 10,\n",
       " 9,\n",
       " 7,\n",
       " 9,\n",
       " 7,\n",
       " 9,\n",
       " 10,\n",
       " 6,\n",
       " 5,\n",
       " 6,\n",
       " 7,\n",
       " 8,\n",
       " 9,\n",
       " 7,\n",
       " 6,\n",
       " 6,\n",
       " 7,\n",
       " 7,\n",
       " 5,\n",
       " 9,\n",
       " 9,\n",
       " 8,\n",
       " 7,\n",
       " 9,\n",
       " 8,\n",
       " 7,\n",
       " 8,\n",
       " 10,\n",
       " 9,\n",
       " 7,\n",
       " 10,\n",
       " 8,\n",
       " 6,\n",
       " 7,\n",
       " 9,\n",
       " 9,\n",
       " 7,\n",
       " 8,\n",
       " 7,\n",
       " 9,\n",
       " 9,\n",
       " 7,\n",
       " 7,\n",
       " 8,\n",
       " 8,\n",
       " 7,\n",
       " 7,\n",
       " 9,\n",
       " 10,\n",
       " 7,\n",
       " 9,\n",
       " 7,\n",
       " 8,\n",
       " 9,\n",
       " 8,\n",
       " 9,\n",
       " 9,\n",
       " 6,\n",
       " 7,\n",
       " 5,\n",
       " 7,\n",
       " 8,\n",
       " 7,\n",
       " 10,\n",
       " 9,\n",
       " 7,\n",
       " 9,\n",
       " 9,\n",
       " 6,\n",
       " 9,\n",
       " 8,\n",
       " 8,\n",
       " 7,\n",
       " 9,\n",
       " 7,\n",
       " 8,\n",
       " 9,\n",
       " 7,\n",
       " 7,\n",
       " 8,\n",
       " 9,\n",
       " 8,\n",
       " 9,\n",
       " 7,\n",
       " 7,\n",
       " 4,\n",
       " 7,\n",
       " 9,\n",
       " 10,\n",
       " 6,\n",
       " 8,\n",
       " 6,\n",
       " 8,\n",
       " 6,\n",
       " 9,\n",
       " 7,\n",
       " 8,\n",
       " 9,\n",
       " 7,\n",
       " 9,\n",
       " 7,\n",
       " 7,\n",
       " 10,\n",
       " 9,\n",
       " 7,\n",
       " 6,\n",
       " 8,\n",
       " 8,\n",
       " 6,\n",
       " 7,\n",
       " 9,\n",
       " 9,\n",
       " 7,\n",
       " 10,\n",
       " 9,\n",
       " 9,\n",
       " 9,\n",
       " 4,\n",
       " 8,\n",
       " 7,\n",
       " 7,\n",
       " 7,\n",
       " 6,\n",
       " 6,\n",
       " 9,\n",
       " 7,\n",
       " 7,\n",
       " 9,\n",
       " 9,\n",
       " 7,\n",
       " 8,\n",
       " 7,\n",
       " 9,\n",
       " 9,\n",
       " 9,\n",
       " 7,\n",
       " 8,\n",
       " 8,\n",
       " 8,\n",
       " 7,\n",
       " 9,\n",
       " 9,\n",
       " 9,\n",
       " 8,\n",
       " 8,\n",
       " 8,\n",
       " 7,\n",
       " 7,\n",
       " 9,\n",
       " 8,\n",
       " 8,\n",
       " 8,\n",
       " 9,\n",
       " 6,\n",
       " 6,\n",
       " 7,\n",
       " 9,\n",
       " 6,\n",
       " 7,\n",
       " 10,\n",
       " 6,\n",
       " 7,\n",
       " 8,\n",
       " 8,\n",
       " 8,\n",
       " 7,\n",
       " 7,\n",
       " 7,\n",
       " 9,\n",
       " 9,\n",
       " 9,\n",
       " 9,\n",
       " 8,\n",
       " 7,\n",
       " 7,\n",
       " 8,\n",
       " 9,\n",
       " 10,\n",
       " 7,\n",
       " 8,\n",
       " 7,\n",
       " 8,\n",
       " 9,\n",
       " 9,\n",
       " 9,\n",
       " 6,\n",
       " 6,\n",
       " 10,\n",
       " 8,\n",
       " 9,\n",
       " 8,\n",
       " 9,\n",
       " 7,\n",
       " 7,\n",
       " 7,\n",
       " 9,\n",
       " 9,\n",
       " 8,\n",
       " 10,\n",
       " 7,\n",
       " 9,\n",
       " 9,\n",
       " 10,\n",
       " 5,\n",
       " 7,\n",
       " 9,\n",
       " 10,\n",
       " 8,\n",
       " 6,\n",
       " 9,\n",
       " 7,\n",
       " 10,\n",
       " 10,\n",
       " 6,\n",
       " 10,\n",
       " 9,\n",
       " 7,\n",
       " 9,\n",
       " 8,\n",
       " 9,\n",
       " 7,\n",
       " 8,\n",
       " 9,\n",
       " 8,\n",
       " 9,\n",
       " 7,\n",
       " 8,\n",
       " 9,\n",
       " 9,\n",
       " 10,\n",
       " 6,\n",
       " 8,\n",
       " 7,\n",
       " 9,\n",
       " 9,\n",
       " 9,\n",
       " 7,\n",
       " 6,\n",
       " 10,\n",
       " 7,\n",
       " 8,\n",
       " 10,\n",
       " 10,\n",
       " 6,\n",
       " 8,\n",
       " 9,\n",
       " 7,\n",
       " 7,\n",
       " 10,\n",
       " 7,\n",
       " 10,\n",
       " 8,\n",
       " 8,\n",
       " 7,\n",
       " 8,\n",
       " 8,\n",
       " 8,\n",
       " 4,\n",
       " 7,\n",
       " 9,\n",
       " 8,\n",
       " 8,\n",
       " 9,\n",
       " 9,\n",
       " 7,\n",
       " 7,\n",
       " 7,\n",
       " 7,\n",
       " 10,\n",
       " 7,\n",
       " 9,\n",
       " 8,\n",
       " 9,\n",
       " 8,\n",
       " 9,\n",
       " 7,\n",
       " 6,\n",
       " 7,\n",
       " 8,\n",
       " 9,\n",
       " 8,\n",
       " 7,\n",
       " 7,\n",
       " 8,\n",
       " 8,\n",
       " 6,\n",
       " 9,\n",
       " 7,\n",
       " 9,\n",
       " 9,\n",
       " 10,\n",
       " 9,\n",
       " 7,\n",
       " 10,\n",
       " 6,\n",
       " 7,\n",
       " 8,\n",
       " 8,\n",
       " 9,\n",
       " 6,\n",
       " 9,\n",
       " 9,\n",
       " 9,\n",
       " 9,\n",
       " 9,\n",
       " 6,\n",
       " 7,\n",
       " 8,\n",
       " 8,\n",
       " 9,\n",
       " 6,\n",
       " 6,\n",
       " 9,\n",
       " 8,\n",
       " 9,\n",
       " 7,\n",
       " 7,\n",
       " 8,\n",
       " 8,\n",
       " 8,\n",
       " 6,\n",
       " 7,\n",
       " 8,\n",
       " 7,\n",
       " 9,\n",
       " 10,\n",
       " 8,\n",
       " 5,\n",
       " 6,\n",
       " 8,\n",
       " 7,\n",
       " 9,\n",
       " 9,\n",
       " 7,\n",
       " 9,\n",
       " 9,\n",
       " 6,\n",
       " 8,\n",
       " 9,\n",
       " 7,\n",
       " 9,\n",
       " 8,\n",
       " 10,\n",
       " 7,\n",
       " 7,\n",
       " 9,\n",
       " 9,\n",
       " 8,\n",
       " 8,\n",
       " 9,\n",
       " 5,\n",
       " 8,\n",
       " 9,\n",
       " 7,\n",
       " 10,\n",
       " 8,\n",
       " 9,\n",
       " 6,\n",
       " 8,\n",
       " 8,\n",
       " 8,\n",
       " 8,\n",
       " 9,\n",
       " 10,\n",
       " 9,\n",
       " 6,\n",
       " 7,\n",
       " 9,\n",
       " 9,\n",
       " 7,\n",
       " 9,\n",
       " 8,\n",
       " 5,\n",
       " 9,\n",
       " 8,\n",
       " 8,\n",
       " 10,\n",
       " 5,\n",
       " 9,\n",
       " 9,\n",
       " 7,\n",
       " 8,\n",
       " 8,\n",
       " 8,\n",
       " 7,\n",
       " 8,\n",
       " 10,\n",
       " 7,\n",
       " 7,\n",
       " 7,\n",
       " 8,\n",
       " 9,\n",
       " 9,\n",
       " 7,\n",
       " 7,\n",
       " 6,\n",
       " 7,\n",
       " 7,\n",
       " 7,\n",
       " 9,\n",
       " 6,\n",
       " 8,\n",
       " 10,\n",
       " 7,\n",
       " 8,\n",
       " 8,\n",
       " 8,\n",
       " 8,\n",
       " 8,\n",
       " 7,\n",
       " 6,\n",
       " 7,\n",
       " 8,\n",
       " 9,\n",
       " 9,\n",
       " 8,\n",
       " 7,\n",
       " 7,\n",
       " 8,\n",
       " 7,\n",
       " 7,\n",
       " 10,\n",
       " 8,\n",
       " 7,\n",
       " 8,\n",
       " 7,\n",
       " 7,\n",
       " 9,\n",
       " 10,\n",
       " 7,\n",
       " 8,\n",
       " 6,\n",
       " 9,\n",
       " 9,\n",
       " 8,\n",
       " 7,\n",
       " 7,\n",
       " 7,\n",
       " 7,\n",
       " 9,\n",
       " 6,\n",
       " 9,\n",
       " 8,\n",
       " 7,\n",
       " 7,\n",
       " 8,\n",
       " 7,\n",
       " 8,\n",
       " 9,\n",
       " 9,\n",
       " 8,\n",
       " 8,\n",
       " 6,\n",
       " 6,\n",
       " 8,\n",
       " 10,\n",
       " 10,\n",
       " 9,\n",
       " 6,\n",
       " 10,\n",
       " 8,\n",
       " 9,\n",
       " 7,\n",
       " 5,\n",
       " 10,\n",
       " 8,\n",
       " 9,\n",
       " 7,\n",
       " 7,\n",
       " 7,\n",
       " 8,\n",
       " 7,\n",
       " 10,\n",
       " 9,\n",
       " 7,\n",
       " 8,\n",
       " 10,\n",
       " 9,\n",
       " 9,\n",
       " 8,\n",
       " 8,\n",
       " 6,\n",
       " 7,\n",
       " 8,\n",
       " 7,\n",
       " 8,\n",
       " 9,\n",
       " 6,\n",
       " 9,\n",
       " 8,\n",
       " 5,\n",
       " 10,\n",
       " 9,\n",
       " 9,\n",
       " 9,\n",
       " 9,\n",
       " 10,\n",
       " 9,\n",
       " 9,\n",
       " 8,\n",
       " 9,\n",
       " 6,\n",
       " 9,\n",
       " 7,\n",
       " 6,\n",
       " 7,\n",
       " 10,\n",
       " 6,\n",
       " 9,\n",
       " 9,\n",
       " 8,\n",
       " 8,\n",
       " 6,\n",
       " 7,\n",
       " 8,\n",
       " 8,\n",
       " 9,\n",
       " 9,\n",
       " 6,\n",
       " 9,\n",
       " 5,\n",
       " 8,\n",
       " 9,\n",
       " 10,\n",
       " 9,\n",
       " 9,\n",
       " 9,\n",
       " 9,\n",
       " 7,\n",
       " 8,\n",
       " 7,\n",
       " 10,\n",
       " 10,\n",
       " 7,\n",
       " 10,\n",
       " 8,\n",
       " 7,\n",
       " 7,\n",
       " 8,\n",
       " 10,\n",
       " 9,\n",
       " 7,\n",
       " 8,\n",
       " 8,\n",
       " 8,\n",
       " 7,\n",
       " 8,\n",
       " 8,\n",
       " 9,\n",
       " 7,\n",
       " 8,\n",
       " 5,\n",
       " 10,\n",
       " 5,\n",
       " 6,\n",
       " 8,\n",
       " 9,\n",
       " 9,\n",
       " 9,\n",
       " 9,\n",
       " 10,\n",
       " 9,\n",
       " ...]"
      ]
     },
     "execution_count": 30,
     "metadata": {},
     "output_type": "execute_result"
    }
   ],
   "source": [
    "list(data_binom)"
   ]
  },
  {
   "cell_type": "markdown",
   "id": "98009ab7",
   "metadata": {},
   "source": [
    "# Bernoulli distrbution"
   ]
  },
  {
   "cell_type": "markdown",
   "id": "0b4d18a0",
   "metadata": {},
   "source": [
    "Bernoulli distribution hanya memiliki dua kemungkinan hasil, yaitu 1 (berhasil) dan 0 (gagal) dan dalam sekali percobaan. misalnya lemparan koin"
   ]
  },
  {
   "cell_type": "code",
   "execution_count": 31,
   "id": "900a1c16",
   "metadata": {},
   "outputs": [],
   "source": [
    "from scipy.stats import bernoulli\n",
    "\n",
    "data_bern = bernoulli.rvs(size=10000, p=0.6)"
   ]
  },
  {
   "cell_type": "code",
   "execution_count": 32,
   "id": "6023fa7b",
   "metadata": {},
   "outputs": [
    {
     "data": {
      "text/plain": [
       "<seaborn.axisgrid.FacetGrid at 0x2359bb65cd0>"
      ]
     },
     "execution_count": 32,
     "metadata": {},
     "output_type": "execute_result"
    },
    {
     "data": {
      "image/png": "[encoded data removed]",
      "text/plain": [
       "<Figure size 360x360 with 1 Axes>"
      ]
     },
     "metadata": {},
     "output_type": "display_data"
    }
   ],
   "source": [
    "ax = sns.displot(\n",
    "    data = data_bern,\n",
    "    kde = False,\n",
    "    color='skyblue',\n",
    ")\n",
    "ax.set(xlabel='Bernoulli Distribution', ylabel='Frequency')\n"
   ]
  },
  {
   "cell_type": "markdown",
   "id": "9491517c",
   "metadata": {},
   "source": [
    "# Confidence Intervals"
   ]
  },
  {
   "cell_type": "markdown",
   "id": "a9408f56",
   "metadata": {},
   "source": [
    "Intinya : Seberapa yakin sampel kita menentukan populasi. Paling tinggi 80%-90%. "
   ]
  },
  {
   "cell_type": "markdown",
   "id": "4475bda0",
   "metadata": {},
   "source": [
    "## CI for the population Proportion in Python"
   ]
  },
  {
   "cell_type": "code",
   "execution_count": 33,
   "id": "411e2cae",
   "metadata": {},
   "outputs": [
    {
     "data": {
      "text/html": [
       "<div>\n",
       "<style scoped>\n",
       "    .dataframe tbody tr th:only-of-type {\n",
       "        vertical-align: middle;\n",
       "    }\n",
       "\n",
       "    .dataframe tbody tr th {\n",
       "        vertical-align: top;\n",
       "    }\n",
       "\n",
       "    .dataframe thead th {\n",
       "        text-align: right;\n",
       "    }\n",
       "</style>\n",
       "<table border=\"1\" class=\"dataframe\">\n",
       "  <thead>\n",
       "    <tr style=\"text-align: right;\">\n",
       "      <th></th>\n",
       "      <th>age</th>\n",
       "      <th>sex</th>\n",
       "      <th>cp</th>\n",
       "      <th>trestbps</th>\n",
       "      <th>chol</th>\n",
       "      <th>fbs</th>\n",
       "      <th>restecg</th>\n",
       "      <th>thalach</th>\n",
       "      <th>exang</th>\n",
       "      <th>oldpeak</th>\n",
       "      <th>slope</th>\n",
       "      <th>ca</th>\n",
       "      <th>thal</th>\n",
       "      <th>target</th>\n",
       "    </tr>\n",
       "  </thead>\n",
       "  <tbody>\n",
       "    <tr>\n",
       "      <th>0</th>\n",
       "      <td>52</td>\n",
       "      <td>1</td>\n",
       "      <td>0</td>\n",
       "      <td>125</td>\n",
       "      <td>212</td>\n",
       "      <td>0</td>\n",
       "      <td>1</td>\n",
       "      <td>168</td>\n",
       "      <td>0</td>\n",
       "      <td>1.0</td>\n",
       "      <td>2</td>\n",
       "      <td>2</td>\n",
       "      <td>3</td>\n",
       "      <td>0</td>\n",
       "    </tr>\n",
       "    <tr>\n",
       "      <th>1</th>\n",
       "      <td>53</td>\n",
       "      <td>1</td>\n",
       "      <td>0</td>\n",
       "      <td>140</td>\n",
       "      <td>203</td>\n",
       "      <td>1</td>\n",
       "      <td>0</td>\n",
       "      <td>155</td>\n",
       "      <td>1</td>\n",
       "      <td>3.1</td>\n",
       "      <td>0</td>\n",
       "      <td>0</td>\n",
       "      <td>3</td>\n",
       "      <td>0</td>\n",
       "    </tr>\n",
       "    <tr>\n",
       "      <th>2</th>\n",
       "      <td>70</td>\n",
       "      <td>1</td>\n",
       "      <td>0</td>\n",
       "      <td>145</td>\n",
       "      <td>174</td>\n",
       "      <td>0</td>\n",
       "      <td>1</td>\n",
       "      <td>125</td>\n",
       "      <td>1</td>\n",
       "      <td>2.6</td>\n",
       "      <td>0</td>\n",
       "      <td>0</td>\n",
       "      <td>3</td>\n",
       "      <td>0</td>\n",
       "    </tr>\n",
       "    <tr>\n",
       "      <th>3</th>\n",
       "      <td>61</td>\n",
       "      <td>1</td>\n",
       "      <td>0</td>\n",
       "      <td>148</td>\n",
       "      <td>203</td>\n",
       "      <td>0</td>\n",
       "      <td>1</td>\n",
       "      <td>161</td>\n",
       "      <td>0</td>\n",
       "      <td>0.0</td>\n",
       "      <td>2</td>\n",
       "      <td>1</td>\n",
       "      <td>3</td>\n",
       "      <td>0</td>\n",
       "    </tr>\n",
       "    <tr>\n",
       "      <th>4</th>\n",
       "      <td>62</td>\n",
       "      <td>0</td>\n",
       "      <td>0</td>\n",
       "      <td>138</td>\n",
       "      <td>294</td>\n",
       "      <td>1</td>\n",
       "      <td>1</td>\n",
       "      <td>106</td>\n",
       "      <td>0</td>\n",
       "      <td>1.9</td>\n",
       "      <td>1</td>\n",
       "      <td>3</td>\n",
       "      <td>2</td>\n",
       "      <td>0</td>\n",
       "    </tr>\n",
       "    <tr>\n",
       "      <th>...</th>\n",
       "      <td>...</td>\n",
       "      <td>...</td>\n",
       "      <td>...</td>\n",
       "      <td>...</td>\n",
       "      <td>...</td>\n",
       "      <td>...</td>\n",
       "      <td>...</td>\n",
       "      <td>...</td>\n",
       "      <td>...</td>\n",
       "      <td>...</td>\n",
       "      <td>...</td>\n",
       "      <td>...</td>\n",
       "      <td>...</td>\n",
       "      <td>...</td>\n",
       "    </tr>\n",
       "    <tr>\n",
       "      <th>1020</th>\n",
       "      <td>59</td>\n",
       "      <td>1</td>\n",
       "      <td>1</td>\n",
       "      <td>140</td>\n",
       "      <td>221</td>\n",
       "      <td>0</td>\n",
       "      <td>1</td>\n",
       "      <td>164</td>\n",
       "      <td>1</td>\n",
       "      <td>0.0</td>\n",
       "      <td>2</td>\n",
       "      <td>0</td>\n",
       "      <td>2</td>\n",
       "      <td>1</td>\n",
       "    </tr>\n",
       "    <tr>\n",
       "      <th>1021</th>\n",
       "      <td>60</td>\n",
       "      <td>1</td>\n",
       "      <td>0</td>\n",
       "      <td>125</td>\n",
       "      <td>258</td>\n",
       "      <td>0</td>\n",
       "      <td>0</td>\n",
       "      <td>141</td>\n",
       "      <td>1</td>\n",
       "      <td>2.8</td>\n",
       "      <td>1</td>\n",
       "      <td>1</td>\n",
       "      <td>3</td>\n",
       "      <td>0</td>\n",
       "    </tr>\n",
       "    <tr>\n",
       "      <th>1022</th>\n",
       "      <td>47</td>\n",
       "      <td>1</td>\n",
       "      <td>0</td>\n",
       "      <td>110</td>\n",
       "      <td>275</td>\n",
       "      <td>0</td>\n",
       "      <td>0</td>\n",
       "      <td>118</td>\n",
       "      <td>1</td>\n",
       "      <td>1.0</td>\n",
       "      <td>1</td>\n",
       "      <td>1</td>\n",
       "      <td>2</td>\n",
       "      <td>0</td>\n",
       "    </tr>\n",
       "    <tr>\n",
       "      <th>1023</th>\n",
       "      <td>50</td>\n",
       "      <td>0</td>\n",
       "      <td>0</td>\n",
       "      <td>110</td>\n",
       "      <td>254</td>\n",
       "      <td>0</td>\n",
       "      <td>0</td>\n",
       "      <td>159</td>\n",
       "      <td>0</td>\n",
       "      <td>0.0</td>\n",
       "      <td>2</td>\n",
       "      <td>0</td>\n",
       "      <td>2</td>\n",
       "      <td>1</td>\n",
       "    </tr>\n",
       "    <tr>\n",
       "      <th>1024</th>\n",
       "      <td>54</td>\n",
       "      <td>1</td>\n",
       "      <td>0</td>\n",
       "      <td>120</td>\n",
       "      <td>188</td>\n",
       "      <td>0</td>\n",
       "      <td>1</td>\n",
       "      <td>113</td>\n",
       "      <td>0</td>\n",
       "      <td>1.4</td>\n",
       "      <td>1</td>\n",
       "      <td>1</td>\n",
       "      <td>3</td>\n",
       "      <td>0</td>\n",
       "    </tr>\n",
       "  </tbody>\n",
       "</table>\n",
       "<p>1025 rows × 14 columns</p>\n",
       "</div>"
      ],
      "text/plain": [
       "      age  sex  cp  trestbps  chol  fbs  restecg  thalach  exang  oldpeak  \\\n",
       "0      52    1   0       125   212    0        1      168      0      1.0   \n",
       "1      53    1   0       140   203    1        0      155      1      3.1   \n",
       "2      70    1   0       145   174    0        1      125      1      2.6   \n",
       "3      61    1   0       148   203    0        1      161      0      0.0   \n",
       "4      62    0   0       138   294    1        1      106      0      1.9   \n",
       "...   ...  ...  ..       ...   ...  ...      ...      ...    ...      ...   \n",
       "1020   59    1   1       140   221    0        1      164      1      0.0   \n",
       "1021   60    1   0       125   258    0        0      141      1      2.8   \n",
       "1022   47    1   0       110   275    0        0      118      1      1.0   \n",
       "1023   50    0   0       110   254    0        0      159      0      0.0   \n",
       "1024   54    1   0       120   188    0        1      113      0      1.4   \n",
       "\n",
       "      slope  ca  thal  target  \n",
       "0         2   2     3       0  \n",
       "1         0   0     3       0  \n",
       "2         0   0     3       0  \n",
       "3         2   1     3       0  \n",
       "4         1   3     2       0  \n",
       "...     ...  ..   ...     ...  \n",
       "1020      2   0     2       1  \n",
       "1021      1   1     3       0  \n",
       "1022      1   1     2       0  \n",
       "1023      2   0     2       1  \n",
       "1024      1   1     3       0  \n",
       "\n",
       "[1025 rows x 14 columns]"
      ]
     },
     "execution_count": 33,
     "metadata": {},
     "output_type": "execute_result"
    }
   ],
   "source": [
    "import pandas as pd\n",
    "import numpy as np\n",
    "df = pd.read_csv('Data/heart.csv')\n",
    "df"
   ]
  },
  {
   "cell_type": "markdown",
   "id": "90cda619",
   "metadata": {},
   "source": [
    "Kolom terakhir yaitu 'target' menandakan jika seseorang menderita penyakit jantung/tidak"
   ]
  },
  {
   "cell_type": "markdown",
   "id": "0e33c300",
   "metadata": {},
   "source": [
    "**We are going to construct a CI for the female population proportion that has heart disease**"
   ]
  },
  {
   "cell_type": "markdown",
   "id": "84f158b2",
   "metadata": {},
   "source": [
    "Pertama, ganti 1 dan 0 menajdi pria dan wanita di kolom baru \"Sex1\""
   ]
  },
  {
   "cell_type": "code",
   "execution_count": 34,
   "id": "d98145d3",
   "metadata": {},
   "outputs": [],
   "source": [
    "df['Sex1']= df.sex.replace({1:\"Male\", 0:\"Female\"})"
   ]
  },
  {
   "cell_type": "markdown",
   "id": "a1bb65c2",
   "metadata": {},
   "source": [
    "Buat dataframe dengan dua kolom ini dan drop semua nilai null"
   ]
  },
  {
   "cell_type": "code",
   "execution_count": 35,
   "id": "7d8ebea1",
   "metadata": {},
   "outputs": [
    {
     "data": {
      "text/html": [
       "<div>\n",
       "<style scoped>\n",
       "    .dataframe tbody tr th:only-of-type {\n",
       "        vertical-align: middle;\n",
       "    }\n",
       "\n",
       "    .dataframe tbody tr th {\n",
       "        vertical-align: top;\n",
       "    }\n",
       "\n",
       "    .dataframe thead th {\n",
       "        text-align: right;\n",
       "    }\n",
       "</style>\n",
       "<table border=\"1\" class=\"dataframe\">\n",
       "  <thead>\n",
       "    <tr style=\"text-align: right;\">\n",
       "      <th></th>\n",
       "      <th>target</th>\n",
       "      <th>Sex1</th>\n",
       "    </tr>\n",
       "  </thead>\n",
       "  <tbody>\n",
       "    <tr>\n",
       "      <th>0</th>\n",
       "      <td>0</td>\n",
       "      <td>Male</td>\n",
       "    </tr>\n",
       "    <tr>\n",
       "      <th>1</th>\n",
       "      <td>0</td>\n",
       "      <td>Male</td>\n",
       "    </tr>\n",
       "    <tr>\n",
       "      <th>2</th>\n",
       "      <td>0</td>\n",
       "      <td>Male</td>\n",
       "    </tr>\n",
       "    <tr>\n",
       "      <th>3</th>\n",
       "      <td>0</td>\n",
       "      <td>Male</td>\n",
       "    </tr>\n",
       "    <tr>\n",
       "      <th>4</th>\n",
       "      <td>0</td>\n",
       "      <td>Female</td>\n",
       "    </tr>\n",
       "    <tr>\n",
       "      <th>...</th>\n",
       "      <td>...</td>\n",
       "      <td>...</td>\n",
       "    </tr>\n",
       "    <tr>\n",
       "      <th>1020</th>\n",
       "      <td>1</td>\n",
       "      <td>Male</td>\n",
       "    </tr>\n",
       "    <tr>\n",
       "      <th>1021</th>\n",
       "      <td>0</td>\n",
       "      <td>Male</td>\n",
       "    </tr>\n",
       "    <tr>\n",
       "      <th>1022</th>\n",
       "      <td>0</td>\n",
       "      <td>Male</td>\n",
       "    </tr>\n",
       "    <tr>\n",
       "      <th>1023</th>\n",
       "      <td>1</td>\n",
       "      <td>Female</td>\n",
       "    </tr>\n",
       "    <tr>\n",
       "      <th>1024</th>\n",
       "      <td>0</td>\n",
       "      <td>Male</td>\n",
       "    </tr>\n",
       "  </tbody>\n",
       "</table>\n",
       "<p>1025 rows × 2 columns</p>\n",
       "</div>"
      ],
      "text/plain": [
       "      target    Sex1\n",
       "0          0    Male\n",
       "1          0    Male\n",
       "2          0    Male\n",
       "3          0    Male\n",
       "4          0  Female\n",
       "...      ...     ...\n",
       "1020       1    Male\n",
       "1021       0    Male\n",
       "1022       0    Male\n",
       "1023       1  Female\n",
       "1024       0    Male\n",
       "\n",
       "[1025 rows x 2 columns]"
      ]
     },
     "execution_count": 35,
     "metadata": {},
     "output_type": "execute_result"
    }
   ],
   "source": [
    "dx = df[[\"target\",\"Sex1\"]].dropna()\n",
    "dx"
   ]
  },
  {
   "cell_type": "markdown",
   "id": "1f253970",
   "metadata": {},
   "source": [
    "Kita membutuhkan jumlah wanita yang memiliki penyakit jantung. baris dibawah menunjukan jumlah pria dan wanita yangg menderita penyakit jantung dan yang tidak menderita"
   ]
  },
  {
   "cell_type": "code",
   "execution_count": 36,
   "id": "205355b1",
   "metadata": {},
   "outputs": [
    {
     "data": {
      "text/html": [
       "<div>\n",
       "<style scoped>\n",
       "    .dataframe tbody tr th:only-of-type {\n",
       "        vertical-align: middle;\n",
       "    }\n",
       "\n",
       "    .dataframe tbody tr th {\n",
       "        vertical-align: top;\n",
       "    }\n",
       "\n",
       "    .dataframe thead th {\n",
       "        text-align: right;\n",
       "    }\n",
       "</style>\n",
       "<table border=\"1\" class=\"dataframe\">\n",
       "  <thead>\n",
       "    <tr style=\"text-align: right;\">\n",
       "      <th>Sex1</th>\n",
       "      <th>Female</th>\n",
       "      <th>Male</th>\n",
       "    </tr>\n",
       "    <tr>\n",
       "      <th>target</th>\n",
       "      <th></th>\n",
       "      <th></th>\n",
       "    </tr>\n",
       "  </thead>\n",
       "  <tbody>\n",
       "    <tr>\n",
       "      <th>0</th>\n",
       "      <td>86</td>\n",
       "      <td>413</td>\n",
       "    </tr>\n",
       "    <tr>\n",
       "      <th>1</th>\n",
       "      <td>226</td>\n",
       "      <td>300</td>\n",
       "    </tr>\n",
       "  </tbody>\n",
       "</table>\n",
       "</div>"
      ],
      "text/plain": [
       "Sex1    Female  Male\n",
       "target              \n",
       "0           86   413\n",
       "1          226   300"
      ]
     },
     "execution_count": 36,
     "metadata": {},
     "output_type": "execute_result"
    }
   ],
   "source": [
    "pd.crosstab(dx.target, dx.Sex1)"
   ]
  },
  {
   "cell_type": "markdown",
   "id": "1c820684",
   "metadata": {},
   "source": [
    "Wanita penderita penyakit jantung berjumlah 226. Hitung proporsi penduduk wanita yang menderita penyakitt jantungg"
   ]
  },
  {
   "cell_type": "code",
   "execution_count": 37,
   "id": "c2261b32",
   "metadata": {},
   "outputs": [
    {
     "data": {
      "text/plain": [
       "0.7243589743589743"
      ]
     },
     "execution_count": 37,
     "metadata": {},
     "output_type": "execute_result"
    }
   ],
   "source": [
    "p_fm = 226/(86+226)\n",
    "p_fm"
   ]
  },
  {
   "cell_type": "markdown",
   "id": "4affe6f4",
   "metadata": {},
   "source": [
    "Hitung populasi wanita"
   ]
  },
  {
   "cell_type": "code",
   "execution_count": 38,
   "id": "5a363779",
   "metadata": {},
   "outputs": [
    {
     "data": {
      "text/plain": [
       "312"
      ]
     },
     "execution_count": 38,
     "metadata": {},
     "output_type": "execute_result"
    }
   ],
   "source": [
    "n = 86+226\n",
    "n"
   ]
  },
  {
   "cell_type": "markdown",
   "id": "90398dab",
   "metadata": {},
   "source": [
    "Hitung standard error"
   ]
  },
  {
   "cell_type": "code",
   "execution_count": 39,
   "id": "eacc921a",
   "metadata": {},
   "outputs": [
    {
     "data": {
      "text/plain": [
       "0.02529714756803247"
      ]
     },
     "execution_count": 39,
     "metadata": {},
     "output_type": "execute_result"
    }
   ],
   "source": [
    "se_female = np.sqrt(p_fm * (1 - p_fm)/n)\n",
    "se_female"
   ]
  },
  {
   "cell_type": "markdown",
   "id": "9619ddb8",
   "metadata": {},
   "source": [
    "Sekarang, buat CI menggunakan rumus diatas. szcore 1.96 untuk confidence interval 95%"
   ]
  },
  {
   "cell_type": "code",
   "execution_count": 40,
   "id": "2cb7cce9",
   "metadata": {},
   "outputs": [
    {
     "data": {
      "text/plain": [
       "(0.6747765651256307, 0.773941383592318)"
      ]
     },
     "execution_count": 40,
     "metadata": {},
     "output_type": "execute_result"
    }
   ],
   "source": [
    "z_score = 1.96\n",
    "lcb = p_fm - z_score * se_female #lower limit of the CI\n",
    "ucb = p_fm + z_score * se_female #upper limit of the CI\n",
    "lcb, ucb"
   ]
  },
  {
   "cell_type": "markdown",
   "id": "007fc816",
   "metadata": {},
   "source": [
    "Confidence interval adalah 0,67 dan 0.77"
   ]
  },
  {
   "cell_type": "markdown",
   "id": "8b49b108",
   "metadata": {},
   "source": [
    "Kita dapat menghitungnya menggunakan library \"stastmodels\""
   ]
  },
  {
   "cell_type": "code",
   "execution_count": 41,
   "id": "0140ffb3",
   "metadata": {},
   "outputs": [
    {
     "data": {
      "text/plain": [
       "(0.6747774762140357, 0.773940472503913)"
      ]
     },
     "execution_count": 41,
     "metadata": {},
     "output_type": "execute_result"
    }
   ],
   "source": [
    "import statsmodels.api as sm\n",
    "sm.stats.proportion_confint(n * p_fm, n)"
   ]
  },
  {
   "cell_type": "markdown",
   "id": "377267e5",
   "metadata": {},
   "source": [
    "## Calculation of CI of mean"
   ]
  },
  {
   "cell_type": "markdown",
   "id": "f71aa657",
   "metadata": {},
   "source": [
    "Dataset tersebut memiliki kolom 'chol' yang berisi tingkat kolesterol"
   ]
  },
  {
   "cell_type": "markdown",
   "id": "d3969757",
   "metadata": {},
   "source": [
    "Beriku kode untu mean, standard deviation, dan population size dari populasi pria dan wanit"
   ]
  },
  {
   "cell_type": "code",
   "execution_count": 42,
   "id": "83b404e1",
   "metadata": {},
   "outputs": [
    {
     "data": {
      "text/html": [
       "<div>\n",
       "<style scoped>\n",
       "    .dataframe tbody tr th:only-of-type {\n",
       "        vertical-align: middle;\n",
       "    }\n",
       "\n",
       "    .dataframe tbody tr th {\n",
       "        vertical-align: top;\n",
       "    }\n",
       "\n",
       "    .dataframe thead tr th {\n",
       "        text-align: left;\n",
       "    }\n",
       "\n",
       "    .dataframe thead tr:last-of-type th {\n",
       "        text-align: right;\n",
       "    }\n",
       "</style>\n",
       "<table border=\"1\" class=\"dataframe\">\n",
       "  <thead>\n",
       "    <tr>\n",
       "      <th></th>\n",
       "      <th colspan=\"3\" halign=\"left\">chol</th>\n",
       "    </tr>\n",
       "    <tr>\n",
       "      <th></th>\n",
       "      <th>mean</th>\n",
       "      <th>std</th>\n",
       "      <th>size</th>\n",
       "    </tr>\n",
       "    <tr>\n",
       "      <th>Sex1</th>\n",
       "      <th></th>\n",
       "      <th></th>\n",
       "      <th></th>\n",
       "    </tr>\n",
       "  </thead>\n",
       "  <tbody>\n",
       "    <tr>\n",
       "      <th>Female</th>\n",
       "      <td>261.455128</td>\n",
       "      <td>64.466781</td>\n",
       "      <td>312</td>\n",
       "    </tr>\n",
       "    <tr>\n",
       "      <th>Male</th>\n",
       "      <td>239.237027</td>\n",
       "      <td>43.155535</td>\n",
       "      <td>713</td>\n",
       "    </tr>\n",
       "  </tbody>\n",
       "</table>\n",
       "</div>"
      ],
      "text/plain": [
       "              chol                \n",
       "              mean        std size\n",
       "Sex1                              \n",
       "Female  261.455128  64.466781  312\n",
       "Male    239.237027  43.155535  713"
      ]
     },
     "execution_count": 42,
     "metadata": {},
     "output_type": "execute_result"
    }
   ],
   "source": [
    "df.groupby(\"Sex1\").agg({\"chol\":[np.mean, np.std, np.size]})"
   ]
  },
  {
   "cell_type": "code",
   "execution_count": 43,
   "id": "a2f59cf1",
   "metadata": {},
   "outputs": [
    {
     "data": {
      "text/html": [
       "<div>\n",
       "<style scoped>\n",
       "    .dataframe tbody tr th:only-of-type {\n",
       "        vertical-align: middle;\n",
       "    }\n",
       "\n",
       "    .dataframe tbody tr th {\n",
       "        vertical-align: top;\n",
       "    }\n",
       "\n",
       "    .dataframe thead th {\n",
       "        text-align: right;\n",
       "    }\n",
       "</style>\n",
       "<table border=\"1\" class=\"dataframe\">\n",
       "  <thead>\n",
       "    <tr style=\"text-align: right;\">\n",
       "      <th>Sex1</th>\n",
       "      <th>Female</th>\n",
       "      <th>Male</th>\n",
       "    </tr>\n",
       "  </thead>\n",
       "  <tbody>\n",
       "    <tr>\n",
       "      <th>count</th>\n",
       "      <td>312.000000</td>\n",
       "      <td>713.000000</td>\n",
       "    </tr>\n",
       "    <tr>\n",
       "      <th>mean</th>\n",
       "      <td>261.455128</td>\n",
       "      <td>239.237027</td>\n",
       "    </tr>\n",
       "    <tr>\n",
       "      <th>std</th>\n",
       "      <td>64.466781</td>\n",
       "      <td>43.155535</td>\n",
       "    </tr>\n",
       "    <tr>\n",
       "      <th>min</th>\n",
       "      <td>141.000000</td>\n",
       "      <td>126.000000</td>\n",
       "    </tr>\n",
       "    <tr>\n",
       "      <th>25%</th>\n",
       "      <td>215.000000</td>\n",
       "      <td>208.000000</td>\n",
       "    </tr>\n",
       "    <tr>\n",
       "      <th>50%</th>\n",
       "      <td>254.000000</td>\n",
       "      <td>234.000000</td>\n",
       "    </tr>\n",
       "    <tr>\n",
       "      <th>75%</th>\n",
       "      <td>302.000000</td>\n",
       "      <td>269.000000</td>\n",
       "    </tr>\n",
       "    <tr>\n",
       "      <th>max</th>\n",
       "      <td>564.000000</td>\n",
       "      <td>353.000000</td>\n",
       "    </tr>\n",
       "  </tbody>\n",
       "</table>\n",
       "</div>"
      ],
      "text/plain": [
       "Sex1       Female        Male\n",
       "count  312.000000  713.000000\n",
       "mean   261.455128  239.237027\n",
       "std     64.466781   43.155535\n",
       "min    141.000000  126.000000\n",
       "25%    215.000000  208.000000\n",
       "50%    254.000000  234.000000\n",
       "75%    302.000000  269.000000\n",
       "max    564.000000  353.000000"
      ]
     },
     "execution_count": 43,
     "metadata": {},
     "output_type": "execute_result"
    }
   ],
   "source": [
    "df.groupby(\"Sex1\")[\"chol\"].describe().T"
   ]
  },
  {
   "cell_type": "code",
   "execution_count": 44,
   "id": "dfb6b74d",
   "metadata": {},
   "outputs": [],
   "source": [
    "mean_fe = 261.45 #mean cholestrol of female\n",
    "sd = 64.4        #standard deviation for female population\n",
    "n = 312          #total number of female\n",
    "z = 1.96         #z-score from the z table mentioned before"
   ]
  },
  {
   "cell_type": "markdown",
   "id": "1050f477",
   "metadata": {},
   "source": [
    "**Calculate the standard eror using the formula for the standard error of the mean**"
   ]
  },
  {
   "cell_type": "code",
   "execution_count": 45,
   "id": "2e2df725",
   "metadata": {},
   "outputs": [
    {
     "data": {
      "text/plain": [
       "3.6459320499455985"
      ]
     },
     "execution_count": 45,
     "metadata": {},
     "output_type": "execute_result"
    }
   ],
   "source": [
    "se = sd/np.sqrt(n)\n",
    "se"
   ]
  },
  {
   "cell_type": "markdown",
   "id": "7b644242",
   "metadata": {},
   "source": [
    "**Construct the CI**"
   ]
  },
  {
   "cell_type": "code",
   "execution_count": 46,
   "id": "a2fb75d7",
   "metadata": {},
   "outputs": [
    {
     "data": {
      "text/plain": [
       "(261.40041759076666, 261.4995824092333)"
      ]
     },
     "execution_count": 46,
     "metadata": {},
     "output_type": "execute_result"
    }
   ],
   "source": [
    "lcb = mean_fe - z * se_female #lower limit of the CI\n",
    "ucb = mean_fe  + z * se_female #upper limit of the CI\n",
    "lcb, ucb"
   ]
  },
  {
   "cell_type": "markdown",
   "id": "692b15cd",
   "metadata": {},
   "source": [
    "CI adalah 254.303 dan 268.596"
   ]
  },
  {
   "cell_type": "markdown",
   "id": "fac2bab9",
   "metadata": {},
   "source": [
    "## Other Example of Confidence Intervals"
   ]
  },
  {
   "cell_type": "code",
   "execution_count": 47,
   "id": "cf10d23e",
   "metadata": {},
   "outputs": [],
   "source": [
    "import pandas as pd \n",
    "import seaborn as sns\n",
    "import scipy.stats as stats\n",
    "import numpy as np\n",
    "import random\n",
    "import warnings\n",
    "import matplotlib.pyplot as plt\n",
    "%matplotlib inline\n",
    "\n",
    "\n",
    "sns.set(rc={'figure.figsize':(13, 7.5)})\n",
    "sns.set_context('talk')"
   ]
  },
  {
   "cell_type": "markdown",
   "id": "755e21d0",
   "metadata": {},
   "source": [
    "**Generate Data of People's Mass in Pounds**"
   ]
  },
  {
   "cell_type": "markdown",
   "id": "b2269f8d",
   "metadata": {},
   "source": [
    "Dibawah ini, kita generate dua distribusi normal menggunakan metode numpy random module's normal untuk pria dan wanita. Kita meggabungkan dua aray ini dan assign ke kolom us_people_mass_pounds di df_pp_mass Data Frame"
   ]
  },
  {
   "cell_type": "code",
   "execution_count": 48,
   "id": "a0e1d10e",
   "metadata": {},
   "outputs": [],
   "source": [
    "np.random.seed(42)\n",
    "normal_distribution_us_male_mass_punds = np.random.normal(loc=181, scale=24, size=6000)\n",
    "normal_distribution_us_female_mass_punds = np.random.normal(loc=132, scale=22, size=6500)\n",
    "\n",
    "all_mass_values = np.concatenate((normal_distribution_us_male_mass_punds, normal_distribution_us_female_mass_punds), axis=0)\n",
    "df_ppl_mass = pd.DataFrame(data={'us_people_mass_punds': all_mass_values})"
   ]
  },
  {
   "cell_type": "code",
   "execution_count": 49,
   "id": "e6565311",
   "metadata": {},
   "outputs": [
    {
     "data": {
      "text/html": [
       "<div>\n",
       "<style scoped>\n",
       "    .dataframe tbody tr th:only-of-type {\n",
       "        vertical-align: middle;\n",
       "    }\n",
       "\n",
       "    .dataframe tbody tr th {\n",
       "        vertical-align: top;\n",
       "    }\n",
       "\n",
       "    .dataframe thead th {\n",
       "        text-align: right;\n",
       "    }\n",
       "</style>\n",
       "<table border=\"1\" class=\"dataframe\">\n",
       "  <thead>\n",
       "    <tr style=\"text-align: right;\">\n",
       "      <th></th>\n",
       "      <th>us_people_mass_punds</th>\n",
       "    </tr>\n",
       "  </thead>\n",
       "  <tbody>\n",
       "    <tr>\n",
       "      <th>0</th>\n",
       "      <td>192.921140</td>\n",
       "    </tr>\n",
       "    <tr>\n",
       "      <th>1</th>\n",
       "      <td>177.681657</td>\n",
       "    </tr>\n",
       "    <tr>\n",
       "      <th>2</th>\n",
       "      <td>196.544525</td>\n",
       "    </tr>\n",
       "    <tr>\n",
       "      <th>3</th>\n",
       "      <td>217.552717</td>\n",
       "    </tr>\n",
       "    <tr>\n",
       "      <th>4</th>\n",
       "      <td>175.380319</td>\n",
       "    </tr>\n",
       "  </tbody>\n",
       "</table>\n",
       "</div>"
      ],
      "text/plain": [
       "   us_people_mass_punds\n",
       "0            192.921140\n",
       "1            177.681657\n",
       "2            196.544525\n",
       "3            217.552717\n",
       "4            175.380319"
      ]
     },
     "execution_count": 49,
     "metadata": {},
     "output_type": "execute_result"
    }
   ],
   "source": [
    "df_ppl_mass.head()"
   ]
  },
  {
   "cell_type": "markdown",
   "id": "212fc954",
   "metadata": {},
   "source": [
    "**View Distribution of U.S People's Mass**"
   ]
  },
  {
   "cell_type": "code",
   "execution_count": 50,
   "id": "8d59a211",
   "metadata": {},
   "outputs": [
    {
     "data": {
      "image/png": "[encoded data removed]",
      "text/plain": [
       "<Figure size 360x360 with 1 Axes>"
      ]
     },
     "metadata": {},
     "output_type": "display_data"
    }
   ],
   "source": [
    "sns.displot(df_ppl_mass['us_people_mass_punds'], color=\"darkslategrey\")\n",
    "\n",
    "plt.xlabel(\"mass [pounds]\", labelpad=14)\n",
    "plt.ylabel(\"probability of occurence\", labelpad=14)\n",
    "plt.title(\"Distribution of Mass of People in U.S.\", y=1.015, fontsize=20);"
   ]
  },
  {
   "cell_type": "markdown",
   "id": "5af7cae0",
   "metadata": {},
   "source": [
    "Sulit untuk mengkarakterisasi distribusi ini. Distribusi tersebut memiliki satu puncak, dan bukan distribusi normal karena tidak simetri di sekita nilai pusat"
   ]
  },
  {
   "cell_type": "code",
   "execution_count": 51,
   "id": "0adbf8a3",
   "metadata": {},
   "outputs": [
    {
     "data": {
      "text/plain": [
       "155.42328059423372"
      ]
     },
     "execution_count": 51,
     "metadata": {},
     "output_type": "execute_result"
    }
   ],
   "source": [
    "# Calculation Population Mean\n",
    "pop_mean_mass = df_ppl_mass['us_people_mass_punds'].mean()\n",
    "pop_mean_mass"
   ]
  },
  {
   "cell_type": "code",
   "execution_count": 52,
   "id": "3e55716e",
   "metadata": {},
   "outputs": [
    {
     "data": {
      "text/plain": [
       "33.58519088395858"
      ]
     },
     "execution_count": 52,
     "metadata": {},
     "output_type": "execute_result"
    }
   ],
   "source": [
    "# Calculation Population Mean\n",
    "pop_std_dev_mass = df_ppl_mass['us_people_mass_punds'].std()\n",
    "pop_std_dev_mass"
   ]
  },
  {
   "cell_type": "markdown",
   "id": "57912f1a",
   "metadata": {},
   "source": [
    "Kita akan mengambil 300 sampel masing-maisng dari 25 nilai acak. Untuk setiap sampel, kita akan menghitung rata-rata sampel. dan kta menyimpan semua sampelple means tsbt dalam list sample_means"
   ]
  },
  {
   "cell_type": "code",
   "execution_count": 53,
   "id": "d8948073",
   "metadata": {},
   "outputs": [],
   "source": [
    "sample_means =[]\n",
    "n = 25\n",
    "for sample in range(0,300):\n",
    "    # random sampling done with replacement\n",
    "    sample_values = np.random.choice(a=df_ppl_mass['us_people_mass_punds'], size=n)\n",
    "    sample_mean   = np.mean(sample_values)\n",
    "    sample_means.append(sample_mean)"
   ]
  },
  {
   "cell_type": "code",
   "execution_count": 54,
   "id": "06f2431f",
   "metadata": {},
   "outputs": [
    {
     "data": {
      "text/plain": [
       "Text(19.940000000000005, 0.5, 'frequency of occurence')"
      ]
     },
     "execution_count": 54,
     "metadata": {},
     "output_type": "execute_result"
    },
    {
     "data": {
      "image/png": "[encoded data removed]",
      "text/plain": [
       "<Figure size 360x360 with 1 Axes>"
      ]
     },
     "metadata": {},
     "output_type": "display_data"
    }
   ],
   "source": [
    "# View Distribution of Sample Means (Otherwise Called Sampling Distribution)\n",
    "\n",
    "sns.displot(sample_means)\n",
    "plt.title(\"Distribution of Sample Means ($n=25$) of People's Mass in Pounds\", y=1.015, fontsize=20)\n",
    "plt.xlabel(\"sample means mass [pounds]\", labelpad=14)\n",
    "plt.ylabel(\"frequency of occurence\", labelpad=14)"
   ]
  },
  {
   "cell_type": "markdown",
   "id": "543865fc",
   "metadata": {},
   "source": [
    "Distribusi sample means terlihat normal. "
   ]
  },
  {
   "cell_type": "markdown",
   "id": "decc3e46",
   "metadata": {},
   "source": [
    "**Calculate Sampling Distribution (n=25) Summary Statistics**"
   ]
  },
  {
   "cell_type": "markdown",
   "id": "3091a6d2",
   "metadata": {},
   "source": [
    "Berikut adalah ringkasan perhitungan statistik untuk distribusi pengambilan sampel yang divisualisasikan"
   ]
  },
  {
   "cell_type": "code",
   "execution_count": 55,
   "id": "9c36082d",
   "metadata": {},
   "outputs": [
    {
     "data": {
      "text/plain": [
       "155.3008268518431"
      ]
     },
     "execution_count": 55,
     "metadata": {},
     "output_type": "execute_result"
    }
   ],
   "source": [
    "# Calculate Median of Sample Means\n",
    "median_of_sample_means = np.median(sample_means)\n",
    "median_of_sample_means"
   ]
  },
  {
   "cell_type": "code",
   "execution_count": 65,
   "id": "e487dbfb",
   "metadata": {},
   "outputs": [
    {
     "data": {
      "text/plain": [
       "155.3008268518431"
      ]
     },
     "execution_count": 65,
     "metadata": {},
     "output_type": "execute_result"
    }
   ],
   "source": [
    "mean_of_sample_means = np.median(sample_means)\n",
    "mean_of_sample_means"
   ]
  },
  {
   "cell_type": "code",
   "execution_count": 56,
   "id": "93b69367",
   "metadata": {},
   "outputs": [
    {
     "data": {
      "text/plain": [
       "155.42328059423372"
      ]
     },
     "execution_count": 56,
     "metadata": {},
     "output_type": "execute_result"
    }
   ],
   "source": [
    "pop_mean_mass"
   ]
  },
  {
   "cell_type": "markdown",
   "id": "45df75c2",
   "metadata": {},
   "source": [
    "Nilai mean_of_sample_means ini kira-kira sama dengan nilai population mean_of_sample_meansan yang kita terapkan ke variabel pop-mean-mass"
   ]
  },
  {
   "cell_type": "code",
   "execution_count": 57,
   "id": "a233b793",
   "metadata": {},
   "outputs": [
    {
     "data": {
      "text/plain": [
       "6.734407481483423"
      ]
     },
     "execution_count": 57,
     "metadata": {},
     "output_type": "execute_result"
    }
   ],
   "source": [
    "# Calculate Standard Deviation of Samaple Means\n",
    "std_dev_of_sample_means = np.std(sample_means)\n",
    "std_dev_of_sample_means"
   ]
  },
  {
   "cell_type": "markdown",
   "id": "465ba04a",
   "metadata": {},
   "source": [
    "**Equation for Standard Deviation of Sampling Distribution**"
   ]
  },
  {
   "cell_type": "markdown",
   "id": "1577086a",
   "metadata": {},
   "source": [
    "Standard deviation dari sample means lebih sering disebut standard error(SE)"
   ]
  },
  {
   "cell_type": "code",
   "execution_count": 59,
   "id": "399c9e2b",
   "metadata": {},
   "outputs": [
    {
     "data": {
      "text/plain": [
       "6.717038176791716"
      ]
     },
     "execution_count": 59,
     "metadata": {},
     "output_type": "execute_result"
    }
   ],
   "source": [
    "standard_error = pop_std_dev_mass/np.sqrt(n)\n",
    "standard_error"
   ]
  },
  {
   "cell_type": "code",
   "execution_count": 60,
   "id": "056285d8",
   "metadata": {},
   "outputs": [
    {
     "data": {
      "text/plain": [
       "6.734407481483423"
      ]
     },
     "execution_count": 60,
     "metadata": {},
     "output_type": "execute_result"
    }
   ],
   "source": [
    "std_dev_of_sample_means"
   ]
  },
  {
   "cell_type": "markdown",
   "id": "6eba5d4d",
   "metadata": {},
   "source": [
    "Nilai standard error ini sama dengan nilai yang dihitung diatas untuk std_dev_of_sample_means"
   ]
  },
  {
   "cell_type": "markdown",
   "id": "b3568686",
   "metadata": {},
   "source": [
    "**Critical Z-Score**"
   ]
  },
  {
   "cell_type": "markdown",
   "id": "d3d2b7ac",
   "metadata": {},
   "source": [
    "Kira-kira 95% nilai akan berada dalam 2 standard errors dari mean. Mari kita hitung nilaiai z-score tepat yang mengikat 95% data. kita tahu bahwa ekor pada setiap ujung harus 2,5% atau 0.0025 dari total area under the curve dari sampling distribution"
   ]
  },
  {
   "cell_type": "markdown",
   "id": "a45b3773",
   "metadata": {},
   "source": [
    "Dibawah ini kita menggunakan z-score 1,96 untuk menghitung ekor 0,025"
   ]
  },
  {
   "cell_type": "code",
   "execution_count": 61,
   "id": "58199bbc",
   "metadata": {},
   "outputs": [
    {
     "data": {
      "text/plain": [
       "0.024997895148220484"
      ]
     },
     "execution_count": 61,
     "metadata": {},
     "output_type": "execute_result"
    }
   ],
   "source": [
    "tail = 1 - stats.norm.cdf(1.96)\n",
    "tail"
   ]
  },
  {
   "cell_type": "code",
   "execution_count": 62,
   "id": "7003d247",
   "metadata": {},
   "outputs": [
    {
     "data": {
      "text/plain": [
       "0.950004209703559"
      ]
     },
     "execution_count": 62,
     "metadata": {},
     "output_type": "execute_result"
    }
   ],
   "source": [
    "# the area under the curve between the z-critical scores is approximately 0.95\n",
    "1- ( tail *2)"
   ]
  },
  {
   "cell_type": "markdown",
   "id": "af34e705",
   "metadata": {},
   "source": [
    "Mari kita hitung batas yang tepat untuk area dimana 95% mean sampel berada dari mean populasi"
   ]
  },
  {
   "cell_type": "code",
   "execution_count": 66,
   "id": "be4b165a",
   "metadata": {},
   "outputs": [
    {
     "data": {
      "text/plain": [
       "142.13543202533134"
      ]
     },
     "execution_count": 66,
     "metadata": {},
     "output_type": "execute_result"
    }
   ],
   "source": [
    "lower_95_perc_bound = mean_of_sample_means - 1.96*standard_error\n",
    "lower_95_perc_bound"
   ]
  },
  {
   "cell_type": "code",
   "execution_count": 67,
   "id": "a5da3c92",
   "metadata": {},
   "outputs": [
    {
     "data": {
      "text/plain": [
       "142.13543202533134"
      ]
     },
     "execution_count": 67,
     "metadata": {},
     "output_type": "execute_result"
    }
   ],
   "source": [
    "upper_95_perc_bound = mean_of_sample_means - 1.96*standard_error\n",
    "upper_95_perc_bound"
   ]
  },
  {
   "cell_type": "code",
   "execution_count": 68,
   "id": "1527c344",
   "metadata": {},
   "outputs": [
    {
     "data": {
      "image/png": "[encoded data removed]",
      "text/plain": [
       "<Figure size 936x540 with 1 Axes>"
      ]
     },
     "metadata": {},
     "output_type": "display_data"
    }
   ],
   "source": [
    "kde = stats.gaussian_kde(sample_means)\n",
    "pos = np.linspace(np.min(sample_means), np.max(sample_means), 10000)\n",
    "plt.plot(pos, kde(pos), color='teal')\n",
    "shade = np.linspace(lower_95_perc_bound, upper_95_perc_bound, 300)\n",
    "plt.fill_between(shade, kde(shade), alpha=0.45, color='teal',)\n",
    "plt.text(x=154, y=.01, horizontalalignment='center', fontsize=17, \n",
    "         s=\"95% of sample means fall within\\nthis shaded area of plus or minus\\n1.96 z-scores from the mean\", \n",
    "         bbox=dict(facecolor='whitesmoke', boxstyle=\"round, pad=0.1\"))\n",
    "plt.title(\"Distribution of Sample Means ($n=25$) of People's Mass in Pounds\", y=1.015, fontsize=20)\n",
    "plt.xlabel(\"sample mean mass [pounds]\", labelpad=14)\n",
    "plt.ylabel(\"frequency of occurence\", labelpad=14);"
   ]
  },
  {
   "cell_type": "markdown",
   "id": "9aec376f",
   "metadata": {},
   "source": [
    "# Hypothesis Testing"
   ]
  },
  {
   "cell_type": "markdown",
   "id": "9cee7812",
   "metadata": {},
   "source": [
    "Hipotesis adalah anggapan dasar adalah jawaban sementara terhadaap masalah yang masih bersifat praduga karena masih harus dibuktikan kebenaranya. Misalnya Obat baru yang menurut Anda mungkin berhasil., kemungkinan lokasi spesies baru"
   ]
  },
  {
   "cell_type": "markdown",
   "id": "4ac5da98",
   "metadata": {},
   "source": [
    "**Hypothesis Statement**\n",
    "\n",
    "Hipotesis, biadanya membuat pernyataan. Pernyaatan akan terlihat seperti \"Jika saya ... (melakukan A pada variabel independen) .. kemudian (B akan terjadi pada variabel depnden)\". contoh:\n",
    "1. Jika saya (mengurangi jumlah air yang diberikan untuk herbal) maka (herbal akan bertambah besar).\n",
    "2. Jika saya (memberi pasien konseling selain pengobatan) maka (skala depresi mereka secara keseluruhan akan menurun).\n",
    "\n",
    "Pertanyaan hipotesis yang baik harus:\n",
    "1. Sertakan pernyataan “jika” dan “maka” (menurut University of California).\n",
    "2. Sertakan variabel independen dan dependen.\n",
    "3. Dapat diuji dengan eksperimen, survei, atau teknik ilmiah lainnya.\n",
    "4. Berdasarkan informasi dalam penelitian sebelumnya (baik milik Anda atau orang lain).\n",
    "5. Memiliki kriteria desain (untuk proyek rekayasa atau pemrograman). "
   ]
  },
  {
   "cell_type": "markdown",
   "id": "ddde69c8",
   "metadata": {},
   "source": [
    "**Hypothesis Testing**\n",
    "\n",
    "Hypothesis testing dalam statistik adalah cara kita menguji hasil survei atau eksperimen untuk melihat apakah kita memiliki hasil yang bermakna. yang perlu kita lakukan:"
   ]
  },
  {
   "cell_type": "markdown",
   "id": "cdb08a27",
   "metadata": {},
   "source": [
    "- Cari tahu hipotesis nol Anda,\n",
    "- Nyatakan hipotesis nol Anda,\n",
    "- Pilih jenis tes yang perlu Anda lakukan,\n",
    "- Either support or reject the null hypothesis."
   ]
  },
  {
   "cell_type": "markdown",
   "id": "b100c66f",
   "metadata": {},
   "source": [
    "**Null Hypothesis**\n",
    "\n",
    "Null Hypothesis selalu merupakan fakta yang diterima. Misal DNA is shaped like a double helix."
   ]
  },
  {
   "cell_type": "code",
   "execution_count": 69,
   "id": "c3b9040a",
   "metadata": {},
   "outputs": [],
   "source": [
    "import statsmodels.api as sm\n",
    "import numpy as np\n",
    "import matplotlib.pyplot as plt\n",
    "import pandas as pd"
   ]
  },
  {
   "cell_type": "markdown",
   "id": "473e6c58",
   "metadata": {},
   "source": [
    "## One Population Proportion"
   ]
  },
  {
   "cell_type": "markdown",
   "id": "730cd7a4",
   "metadata": {},
   "source": [
    "Pada tahun sebelumnya, 52% orang tua percaya elektronik dan media sosial adalah penyebab kurang tidur remaaja mereka. apakah saat ini semakin banyak orang tua percaya?\n"
   ]
  },
  {
   "cell_type": "markdown",
   "id": "78a6840c",
   "metadata": {},
   "source": [
    "\n",
    "Population : Orang tua dengan remaja (usia 13-18)\n",
    "\n",
    "Parameter of Interest: p\n"
   ]
  },
  {
   "cell_type": "markdown",
   "id": "c985bf90",
   "metadata": {},
   "source": [
    "\n",
    "Null Hypotesis: p =0.52\n",
    "\n",
    "Alternative Hypothesis: p > 0.52 (note that this is a one-sided-test)\n",
    "\n",
    "Data : 1018 orang disurvei. 56% dari mereka percaya"
   ]
  },
  {
   "cell_type": "markdown",
   "id": "535d956c",
   "metadata": {},
   "source": [
    "**Use of proportions_ztest() from statsmodels**"
   ]
  },
  {
   "cell_type": "markdown",
   "id": "144b0175",
   "metadata": {},
   "source": [
    "Argumen alternative='large' yang menunjukan one-sided test. fungsi ini mengembalikan dua nilai -zstatistic dan p-value yang sesuai"
   ]
  },
  {
   "cell_type": "code",
   "execution_count": 72,
   "id": "99df2dbd",
   "metadata": {},
   "outputs": [],
   "source": [
    "n = 1018\n",
    "pnull = .52\n",
    "phat = .56"
   ]
  },
  {
   "cell_type": "code",
   "execution_count": 73,
   "id": "31818be8",
   "metadata": {},
   "outputs": [
    {
     "data": {
      "text/plain": [
       "(2.571067795759113, 0.005069273865860533)"
      ]
     },
     "execution_count": 73,
     "metadata": {},
     "output_type": "execute_result"
    }
   ],
   "source": [
    "sm.stats.proportions_ztest(phat *n, n, pnull, alternative='larger')"
   ]
  },
  {
   "cell_type": "markdown",
   "id": "5773a651",
   "metadata": {},
   "source": [
    "**Conclusion of the hypothesis test**"
   ]
  },
  {
   "cell_type": "markdown",
   "id": "a5082eee",
   "metadata": {},
   "source": [
    "Karena nilai p-value dari z-test cukup kecil, kita dapat **reject the null hypothesis** bahwa presentase org tua percaya. perkiraan yaitu 52%. Meskipun, kita tidak menerima hipotesis alternatif, secara informal berarti bahwa ada kemungkinan besar proporsi ini lebih dari 52%."
   ]
  },
  {
   "cell_type": "markdown",
   "id": "58e063d4",
   "metadata": {},
   "source": [
    "## Difference in Population Means"
   ]
  },
  {
   "cell_type": "markdown",
   "id": "9b48e7c5",
   "metadata": {},
   "source": [
    "**Research Question**"
   ]
  },
  {
   "cell_type": "markdown",
   "id": "94dbed59",
   "metadata": {},
   "source": [
    "Dengan mempertimbangkan data NHANES, apakah pria memiliki Body Mass Index rata-rata yang lebih tinggi secara signifikan dari pada wanita? "
   ]
  },
  {
   "cell_type": "code",
   "execution_count": 74,
   "id": "f0dfb122",
   "metadata": {},
   "outputs": [
    {
     "data": {
      "text/html": [
       "<div>\n",
       "<style scoped>\n",
       "    .dataframe tbody tr th:only-of-type {\n",
       "        vertical-align: middle;\n",
       "    }\n",
       "\n",
       "    .dataframe tbody tr th {\n",
       "        vertical-align: top;\n",
       "    }\n",
       "\n",
       "    .dataframe thead th {\n",
       "        text-align: right;\n",
       "    }\n",
       "</style>\n",
       "<table border=\"1\" class=\"dataframe\">\n",
       "  <thead>\n",
       "    <tr style=\"text-align: right;\">\n",
       "      <th></th>\n",
       "      <th>SEQN</th>\n",
       "      <th>ALQ101</th>\n",
       "      <th>ALQ110</th>\n",
       "      <th>ALQ130</th>\n",
       "      <th>SMQ020</th>\n",
       "      <th>RIAGENDR</th>\n",
       "      <th>RIDAGEYR</th>\n",
       "      <th>RIDRETH1</th>\n",
       "      <th>DMDCITZN</th>\n",
       "      <th>DMDEDUC2</th>\n",
       "      <th>...</th>\n",
       "      <th>BPXSY2</th>\n",
       "      <th>BPXDI2</th>\n",
       "      <th>BMXWT</th>\n",
       "      <th>BMXHT</th>\n",
       "      <th>BMXBMI</th>\n",
       "      <th>BMXLEG</th>\n",
       "      <th>BMXARML</th>\n",
       "      <th>BMXARMC</th>\n",
       "      <th>BMXWAIST</th>\n",
       "      <th>HIQ210</th>\n",
       "    </tr>\n",
       "  </thead>\n",
       "  <tbody>\n",
       "    <tr>\n",
       "      <th>0</th>\n",
       "      <td>83732</td>\n",
       "      <td>1.0</td>\n",
       "      <td>NaN</td>\n",
       "      <td>1.0</td>\n",
       "      <td>1</td>\n",
       "      <td>1</td>\n",
       "      <td>62</td>\n",
       "      <td>3</td>\n",
       "      <td>1.0</td>\n",
       "      <td>5.0</td>\n",
       "      <td>...</td>\n",
       "      <td>124.0</td>\n",
       "      <td>64.0</td>\n",
       "      <td>94.8</td>\n",
       "      <td>184.5</td>\n",
       "      <td>27.8</td>\n",
       "      <td>43.3</td>\n",
       "      <td>43.6</td>\n",
       "      <td>35.9</td>\n",
       "      <td>101.1</td>\n",
       "      <td>2.0</td>\n",
       "    </tr>\n",
       "    <tr>\n",
       "      <th>1</th>\n",
       "      <td>83733</td>\n",
       "      <td>1.0</td>\n",
       "      <td>NaN</td>\n",
       "      <td>6.0</td>\n",
       "      <td>1</td>\n",
       "      <td>1</td>\n",
       "      <td>53</td>\n",
       "      <td>3</td>\n",
       "      <td>2.0</td>\n",
       "      <td>3.0</td>\n",
       "      <td>...</td>\n",
       "      <td>140.0</td>\n",
       "      <td>88.0</td>\n",
       "      <td>90.4</td>\n",
       "      <td>171.4</td>\n",
       "      <td>30.8</td>\n",
       "      <td>38.0</td>\n",
       "      <td>40.0</td>\n",
       "      <td>33.2</td>\n",
       "      <td>107.9</td>\n",
       "      <td>NaN</td>\n",
       "    </tr>\n",
       "    <tr>\n",
       "      <th>2</th>\n",
       "      <td>83734</td>\n",
       "      <td>1.0</td>\n",
       "      <td>NaN</td>\n",
       "      <td>NaN</td>\n",
       "      <td>1</td>\n",
       "      <td>1</td>\n",
       "      <td>78</td>\n",
       "      <td>3</td>\n",
       "      <td>1.0</td>\n",
       "      <td>3.0</td>\n",
       "      <td>...</td>\n",
       "      <td>132.0</td>\n",
       "      <td>44.0</td>\n",
       "      <td>83.4</td>\n",
       "      <td>170.1</td>\n",
       "      <td>28.8</td>\n",
       "      <td>35.6</td>\n",
       "      <td>37.0</td>\n",
       "      <td>31.0</td>\n",
       "      <td>116.5</td>\n",
       "      <td>2.0</td>\n",
       "    </tr>\n",
       "    <tr>\n",
       "      <th>3</th>\n",
       "      <td>83735</td>\n",
       "      <td>2.0</td>\n",
       "      <td>1.0</td>\n",
       "      <td>1.0</td>\n",
       "      <td>2</td>\n",
       "      <td>2</td>\n",
       "      <td>56</td>\n",
       "      <td>3</td>\n",
       "      <td>1.0</td>\n",
       "      <td>5.0</td>\n",
       "      <td>...</td>\n",
       "      <td>134.0</td>\n",
       "      <td>68.0</td>\n",
       "      <td>109.8</td>\n",
       "      <td>160.9</td>\n",
       "      <td>42.4</td>\n",
       "      <td>38.5</td>\n",
       "      <td>37.7</td>\n",
       "      <td>38.3</td>\n",
       "      <td>110.1</td>\n",
       "      <td>2.0</td>\n",
       "    </tr>\n",
       "    <tr>\n",
       "      <th>4</th>\n",
       "      <td>83736</td>\n",
       "      <td>2.0</td>\n",
       "      <td>1.0</td>\n",
       "      <td>1.0</td>\n",
       "      <td>2</td>\n",
       "      <td>2</td>\n",
       "      <td>42</td>\n",
       "      <td>4</td>\n",
       "      <td>1.0</td>\n",
       "      <td>4.0</td>\n",
       "      <td>...</td>\n",
       "      <td>114.0</td>\n",
       "      <td>54.0</td>\n",
       "      <td>55.2</td>\n",
       "      <td>164.9</td>\n",
       "      <td>20.3</td>\n",
       "      <td>37.4</td>\n",
       "      <td>36.0</td>\n",
       "      <td>27.2</td>\n",
       "      <td>80.4</td>\n",
       "      <td>2.0</td>\n",
       "    </tr>\n",
       "  </tbody>\n",
       "</table>\n",
       "<p>5 rows × 28 columns</p>\n",
       "</div>"
      ],
      "text/plain": [
       "    SEQN  ALQ101  ALQ110  ALQ130  SMQ020  RIAGENDR  RIDAGEYR  RIDRETH1  \\\n",
       "0  83732     1.0     NaN     1.0       1         1        62         3   \n",
       "1  83733     1.0     NaN     6.0       1         1        53         3   \n",
       "2  83734     1.0     NaN     NaN       1         1        78         3   \n",
       "3  83735     2.0     1.0     1.0       2         2        56         3   \n",
       "4  83736     2.0     1.0     1.0       2         2        42         4   \n",
       "\n",
       "   DMDCITZN  DMDEDUC2  ...  BPXSY2  BPXDI2  BMXWT  BMXHT  BMXBMI  BMXLEG  \\\n",
       "0       1.0       5.0  ...   124.0    64.0   94.8  184.5    27.8    43.3   \n",
       "1       2.0       3.0  ...   140.0    88.0   90.4  171.4    30.8    38.0   \n",
       "2       1.0       3.0  ...   132.0    44.0   83.4  170.1    28.8    35.6   \n",
       "3       1.0       5.0  ...   134.0    68.0  109.8  160.9    42.4    38.5   \n",
       "4       1.0       4.0  ...   114.0    54.0   55.2  164.9    20.3    37.4   \n",
       "\n",
       "   BMXARML  BMXARMC  BMXWAIST  HIQ210  \n",
       "0     43.6     35.9     101.1     2.0  \n",
       "1     40.0     33.2     107.9     NaN  \n",
       "2     37.0     31.0     116.5     2.0  \n",
       "3     37.7     38.3     110.1     2.0  \n",
       "4     36.0     27.2      80.4     2.0  \n",
       "\n",
       "[5 rows x 28 columns]"
      ]
     },
     "execution_count": 74,
     "metadata": {},
     "output_type": "execute_result"
    }
   ],
   "source": [
    "url = \"https://raw.githubusercontent.com/kshedden/statswpy/master/NHANES/merged/nhanes_2015_2016.csv\"\n",
    "da = pd.read_csv(url)\n",
    "da.head()"
   ]
  },
  {
   "cell_type": "code",
   "execution_count": 75,
   "id": "e7745178",
   "metadata": {},
   "outputs": [],
   "source": [
    "females = da[da[\"RIAGENDR\"] == 2]\n",
    "male = da[da[\"RIAGENDR\"] == 1]"
   ]
  },
  {
   "cell_type": "code",
   "execution_count": 76,
   "id": "379baad4",
   "metadata": {},
   "outputs": [
    {
     "data": {
      "text/plain": [
       "(2976, 29.93994565217392, 7.753318809545674)"
      ]
     },
     "execution_count": 76,
     "metadata": {},
     "output_type": "execute_result"
    }
   ],
   "source": [
    "n1 = len(females)\n",
    "mu1 = females[\"BMXBMI\"].mean()\n",
    "sd1 = females[\"BMXBMI\"].std()\n",
    "\n",
    "(n1, mu1, sd1)"
   ]
  },
  {
   "cell_type": "code",
   "execution_count": 77,
   "id": "4769072d",
   "metadata": {},
   "outputs": [
    {
     "data": {
      "text/plain": [
       "(2759, 28.778072111846942, 6.2525676168014614)"
      ]
     },
     "execution_count": 77,
     "metadata": {},
     "output_type": "execute_result"
    }
   ],
   "source": [
    "n2 = len(male)\n",
    "mu2 = male[\"BMXBMI\"].mean()\n",
    "sd2 = male[\"BMXBMI\"].std()\n",
    "\n",
    "(n2, mu2, sd2)"
   ]
  },
  {
   "cell_type": "code",
   "execution_count": 78,
   "id": "04220566",
   "metadata": {},
   "outputs": [
    {
     "data": {
      "text/plain": [
       "(6.1755933531383205, 6.591544431126401e-10)"
      ]
     },
     "execution_count": 78,
     "metadata": {},
     "output_type": "execute_result"
    }
   ],
   "source": [
    "sm.stats.ztest(females[\"BMXBMI\"].dropna(), male[\"BMXBMI\"].dropna(),alternative='two-sided')"
   ]
  },
  {
   "cell_type": "markdown",
   "id": "a4a07d65",
   "metadata": {},
   "source": [
    "**Conclusion of the hypothesis test**"
   ]
  },
  {
   "cell_type": "markdown",
   "id": "74e744be",
   "metadata": {},
   "source": [
    "Karena p-value (6.59..) sangat kecil, kita dapat reject the Null hypothesis bahwa rata2 BMI laki-lakiaki sama dengan perempuan. Kita menggunakan alternative=\"two-sided\" dapatlam z-theest karena disni kita memerika ketidaksamaan"
   ]
  },
  {
   "cell_type": "code",
   "execution_count": 79,
   "id": "78e60fa7",
   "metadata": {},
   "outputs": [
    {
     "data": {
      "image/png": "[encoded data removed]",
      "text/plain": [
       "<Figure size 504x288 with 1 Axes>"
      ]
     },
     "metadata": {},
     "output_type": "display_data"
    },
    {
     "data": {
      "image/png": "[encoded data removed]",
      "text/plain": [
       "<Figure size 504x288 with 1 Axes>"
      ]
     },
     "metadata": {},
     "output_type": "display_data"
    }
   ],
   "source": [
    "plt.figure(figsize=(7,4))\n",
    "plt.title(\"Female BMI histogram\",fontsize=16)\n",
    "plt.hist(females[\"BMXBMI\"].dropna(),edgecolor='k',color='pink',bins=25)\n",
    "plt.show()\n",
    "\n",
    "plt.figure(figsize=(7,4))\n",
    "plt.title(\"Male BMI histogram\",fontsize=16)\n",
    "plt.hist(male[\"BMXBMI\"].dropna(),edgecolor='k',color='blue',bins=25)\n",
    "plt.show()"
   ]
  },
  {
   "cell_type": "markdown",
   "id": "0cb74b49",
   "metadata": {},
   "source": [
    "## Hypothesis for One Proportion"
   ]
  },
  {
   "cell_type": "code",
   "execution_count": 80,
   "id": "54a45994",
   "metadata": {},
   "outputs": [
    {
     "data": {
      "text/html": [
       "<div>\n",
       "<style scoped>\n",
       "    .dataframe tbody tr th:only-of-type {\n",
       "        vertical-align: middle;\n",
       "    }\n",
       "\n",
       "    .dataframe tbody tr th {\n",
       "        vertical-align: top;\n",
       "    }\n",
       "\n",
       "    .dataframe thead th {\n",
       "        text-align: right;\n",
       "    }\n",
       "</style>\n",
       "<table border=\"1\" class=\"dataframe\">\n",
       "  <thead>\n",
       "    <tr style=\"text-align: right;\">\n",
       "      <th></th>\n",
       "      <th>age</th>\n",
       "      <th>sex</th>\n",
       "      <th>cp</th>\n",
       "      <th>trestbps</th>\n",
       "      <th>chol</th>\n",
       "      <th>fbs</th>\n",
       "      <th>restecg</th>\n",
       "      <th>thalach</th>\n",
       "      <th>exang</th>\n",
       "      <th>oldpeak</th>\n",
       "      <th>slope</th>\n",
       "      <th>ca</th>\n",
       "      <th>thal</th>\n",
       "      <th>target</th>\n",
       "    </tr>\n",
       "  </thead>\n",
       "  <tbody>\n",
       "    <tr>\n",
       "      <th>0</th>\n",
       "      <td>52</td>\n",
       "      <td>1</td>\n",
       "      <td>0</td>\n",
       "      <td>125</td>\n",
       "      <td>212</td>\n",
       "      <td>0</td>\n",
       "      <td>1</td>\n",
       "      <td>168</td>\n",
       "      <td>0</td>\n",
       "      <td>1.0</td>\n",
       "      <td>2</td>\n",
       "      <td>2</td>\n",
       "      <td>3</td>\n",
       "      <td>0</td>\n",
       "    </tr>\n",
       "    <tr>\n",
       "      <th>1</th>\n",
       "      <td>53</td>\n",
       "      <td>1</td>\n",
       "      <td>0</td>\n",
       "      <td>140</td>\n",
       "      <td>203</td>\n",
       "      <td>1</td>\n",
       "      <td>0</td>\n",
       "      <td>155</td>\n",
       "      <td>1</td>\n",
       "      <td>3.1</td>\n",
       "      <td>0</td>\n",
       "      <td>0</td>\n",
       "      <td>3</td>\n",
       "      <td>0</td>\n",
       "    </tr>\n",
       "    <tr>\n",
       "      <th>2</th>\n",
       "      <td>70</td>\n",
       "      <td>1</td>\n",
       "      <td>0</td>\n",
       "      <td>145</td>\n",
       "      <td>174</td>\n",
       "      <td>0</td>\n",
       "      <td>1</td>\n",
       "      <td>125</td>\n",
       "      <td>1</td>\n",
       "      <td>2.6</td>\n",
       "      <td>0</td>\n",
       "      <td>0</td>\n",
       "      <td>3</td>\n",
       "      <td>0</td>\n",
       "    </tr>\n",
       "    <tr>\n",
       "      <th>3</th>\n",
       "      <td>61</td>\n",
       "      <td>1</td>\n",
       "      <td>0</td>\n",
       "      <td>148</td>\n",
       "      <td>203</td>\n",
       "      <td>0</td>\n",
       "      <td>1</td>\n",
       "      <td>161</td>\n",
       "      <td>0</td>\n",
       "      <td>0.0</td>\n",
       "      <td>2</td>\n",
       "      <td>1</td>\n",
       "      <td>3</td>\n",
       "      <td>0</td>\n",
       "    </tr>\n",
       "    <tr>\n",
       "      <th>4</th>\n",
       "      <td>62</td>\n",
       "      <td>0</td>\n",
       "      <td>0</td>\n",
       "      <td>138</td>\n",
       "      <td>294</td>\n",
       "      <td>1</td>\n",
       "      <td>1</td>\n",
       "      <td>106</td>\n",
       "      <td>0</td>\n",
       "      <td>1.9</td>\n",
       "      <td>1</td>\n",
       "      <td>3</td>\n",
       "      <td>2</td>\n",
       "      <td>0</td>\n",
       "    </tr>\n",
       "  </tbody>\n",
       "</table>\n",
       "</div>"
      ],
      "text/plain": [
       "   age  sex  cp  trestbps  chol  fbs  restecg  thalach  exang  oldpeak  slope  \\\n",
       "0   52    1   0       125   212    0        1      168      0      1.0      2   \n",
       "1   53    1   0       140   203    1        0      155      1      3.1      0   \n",
       "2   70    1   0       145   174    0        1      125      1      2.6      0   \n",
       "3   61    1   0       148   203    0        1      161      0      0.0      2   \n",
       "4   62    0   0       138   294    1        1      106      0      1.9      1   \n",
       "\n",
       "   ca  thal  target  \n",
       "0   2     3       0  \n",
       "1   0     3       0  \n",
       "2   0     3       0  \n",
       "3   1     3       0  \n",
       "4   3     2       0  "
      ]
     },
     "execution_count": 80,
     "metadata": {},
     "output_type": "execute_result"
    }
   ],
   "source": [
    "import pandas as pd \n",
    "import numpy as np\n",
    "import statsmodels.api as sm \n",
    "import scipy.stats.distributions as dist\n",
    "df = pd.read_csv('Data/heart.csv')\n",
    "df.head()"
   ]
  },
  {
   "cell_type": "code",
   "execution_count": null,
   "id": "c74c6800",
   "metadata": {},
   "outputs": [],
   "source": []
  }
 ],
 "metadata": {
  "kernelspec": {
   "display_name": "Python 3 (ipykernel)",
   "language": "python",
   "name": "python3"
  },
  "language_info": {
   "codemirror_mode": {
    "name": "ipython",
    "version": 3
   },
   "file_extension": ".py",
   "mimetype": "text/x-python",
   "name": "python",
   "nbconvert_exporter": "python",
   "pygments_lexer": "ipython3",
   "version": "3.8.7"
  },
  "toc": {
   "base_numbering": 1,
   "nav_menu": {},
   "number_sections": true,
   "sideBar": true,
   "skip_h1_title": false,
   "title_cell": "Table of Contents",
   "title_sidebar": "Contents",
   "toc_cell": true,
   "toc_position": {},
   "toc_section_display": true,
   "toc_window_display": false
  }
 },
 "nbformat": 4,
 "nbformat_minor": 5
}
