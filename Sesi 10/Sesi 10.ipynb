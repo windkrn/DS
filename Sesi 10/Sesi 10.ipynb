{
 "cells": [
  {
   "cell_type": "markdown",
   "id": "03e44e0c",
   "metadata": {
    "toc": true
   },
   "source": [
    "<h1>Table of Contents<span class=\"tocSkip\"></span></h1>\n",
    "<div class=\"toc\"><ul class=\"toc-item\"><li><span><a href=\"#Introduction\" data-toc-modified-id=\"Introduction-1\"><span class=\"toc-item-num\">1&nbsp;&nbsp;</span>Introduction</a></span></li><li><span><a href=\"#Probability-Distributions\" data-toc-modified-id=\"Probability-Distributions-2\"><span class=\"toc-item-num\">2&nbsp;&nbsp;</span>Probability Distributions</a></span></li><li><span><a href=\"#Random-Variable\" data-toc-modified-id=\"Random-Variable-3\"><span class=\"toc-item-num\">3&nbsp;&nbsp;</span>Random Variable</a></span></li><li><span><a href=\"#Unifrom-Distribution\" data-toc-modified-id=\"Unifrom-Distribution-4\"><span class=\"toc-item-num\">4&nbsp;&nbsp;</span>Unifrom Distribution</a></span></li><li><span><a href=\"#Normal-Distribution\" data-toc-modified-id=\"Normal-Distribution-5\"><span class=\"toc-item-num\">5&nbsp;&nbsp;</span>Normal Distribution</a></span></li><li><span><a href=\"#Gamma-distribution\" data-toc-modified-id=\"Gamma-distribution-6\"><span class=\"toc-item-num\">6&nbsp;&nbsp;</span>Gamma distribution</a></span></li><li><span><a href=\"#Exponential-Distribution\" data-toc-modified-id=\"Exponential-Distribution-7\"><span class=\"toc-item-num\">7&nbsp;&nbsp;</span>Exponential Distribution</a></span></li><li><span><a href=\"#Poisson-Distrbution\" data-toc-modified-id=\"Poisson-Distrbution-8\"><span class=\"toc-item-num\">8&nbsp;&nbsp;</span>Poisson Distrbution</a></span></li><li><span><a href=\"#Binomial-Dsitribution\" data-toc-modified-id=\"Binomial-Dsitribution-9\"><span class=\"toc-item-num\">9&nbsp;&nbsp;</span>Binomial Dsitribution</a></span></li><li><span><a href=\"#Bernoulli-distrbution\" data-toc-modified-id=\"Bernoulli-distrbution-10\"><span class=\"toc-item-num\">10&nbsp;&nbsp;</span>Bernoulli distrbution</a></span></li><li><span><a href=\"#Confidence-Intervals\" data-toc-modified-id=\"Confidence-Intervals-11\"><span class=\"toc-item-num\">11&nbsp;&nbsp;</span>Confidence Intervals</a></span><ul class=\"toc-item\"><li><span><a href=\"#CI-for-the-population-Proportion-in-Python\" data-toc-modified-id=\"CI-for-the-population-Proportion-in-Python-11.1\"><span class=\"toc-item-num\">11.1&nbsp;&nbsp;</span>CI for the population Proportion in Python</a></span></li><li><span><a href=\"#Calculation-of-CI-of-mean\" data-toc-modified-id=\"Calculation-of-CI-of-mean-11.2\"><span class=\"toc-item-num\">11.2&nbsp;&nbsp;</span>Calculation of CI of mean</a></span></li><li><span><a href=\"#Other-Example-of-Confidence-Intervals\" data-toc-modified-id=\"Other-Example-of-Confidence-Intervals-11.3\"><span class=\"toc-item-num\">11.3&nbsp;&nbsp;</span>Other Example of Confidence Intervals</a></span></li></ul></li><li><span><a href=\"#Hypothesis-Testing\" data-toc-modified-id=\"Hypothesis-Testing-12\"><span class=\"toc-item-num\">12&nbsp;&nbsp;</span>Hypothesis Testing</a></span><ul class=\"toc-item\"><li><span><a href=\"#One-Population-Proportion\" data-toc-modified-id=\"One-Population-Proportion-12.1\"><span class=\"toc-item-num\">12.1&nbsp;&nbsp;</span>One Population Proportion</a></span></li><li><span><a href=\"#Difference-in-Population-Means\" data-toc-modified-id=\"Difference-in-Population-Means-12.2\"><span class=\"toc-item-num\">12.2&nbsp;&nbsp;</span>Difference in Population Means</a></span></li><li><span><a href=\"#Hypothesis-for-One-Proportion\" data-toc-modified-id=\"Hypothesis-for-One-Proportion-12.3\"><span class=\"toc-item-num\">12.3&nbsp;&nbsp;</span>Hypothesis for One Proportion</a></span></li></ul></li><li><span><a href=\"#Statistical-Hypothesis-Test-Cheat-Sheet\" data-toc-modified-id=\"Statistical-Hypothesis-Test-Cheat-Sheet-13\"><span class=\"toc-item-num\">13&nbsp;&nbsp;</span>Statistical Hypothesis Test Cheat Sheet</a></span><ul class=\"toc-item\"><li><span><a href=\"#Normality-Tests\" data-toc-modified-id=\"Normality-Tests-13.1\"><span class=\"toc-item-num\">13.1&nbsp;&nbsp;</span>Normality Tests</a></span></li><li><span><a href=\"#Correlation-Tests\" data-toc-modified-id=\"Correlation-Tests-13.2\"><span class=\"toc-item-num\">13.2&nbsp;&nbsp;</span>Correlation Tests</a></span></li><li><span><a href=\"#Stationary-Tests\" data-toc-modified-id=\"Stationary-Tests-13.3\"><span class=\"toc-item-num\">13.3&nbsp;&nbsp;</span>Stationary Tests</a></span></li><li><span><a href=\"#Parametric-Statistical-Hypothesis-Tests\" data-toc-modified-id=\"Parametric-Statistical-Hypothesis-Tests-13.4\"><span class=\"toc-item-num\">13.4&nbsp;&nbsp;</span>Parametric Statistical Hypothesis Tests</a></span></li><li><span><a href=\"#Nonparametric-Statistical-Hypothesis-Tests\" data-toc-modified-id=\"Nonparametric-Statistical-Hypothesis-Tests-13.5\"><span class=\"toc-item-num\">13.5&nbsp;&nbsp;</span>Nonparametric Statistical Hypothesis Tests</a></span></li></ul></li></ul></div>"
   ]
  },
  {
   "cell_type": "markdown",
   "id": "b7101806",
   "metadata": {},
   "source": [
    "# Introduction"
   ]
  },
  {
   "cell_type": "markdown",
   "id": "c097656e",
   "metadata": {},
   "source": [
    "**Inferential statistics** mengambil data sebagai sampel dari populasi yang lebih besar untuk membuat kesimpulan. Tujuan utama dari metode ini adalah untuk menarik kesimpulan dari sampel dan menggeneralisasikannya untuk populasi yang lebih besar"
   ]
  },
  {
   "cell_type": "markdown",
   "id": "80874545",
   "metadata": {},
   "source": [
    "# Probability Distributions"
   ]
  },
  {
   "cell_type": "markdown",
   "id": "20fff519",
   "metadata": {},
   "source": [
    "Probability distribution adalah fungsi di bawah teori dan statistik probabilitas - yang memberi kita seberapa besar kemungkinan hasil yang berbeda dalam sebuah eksperimen. "
   ]
  },
  {
   "cell_type": "markdown",
   "id": "802aefd6",
   "metadata": {},
   "source": [
    "# Random Variable"
   ]
  },
  {
   "cell_type": "markdown",
   "id": "4068d46b",
   "metadata": {},
   "source": [
    "Random variabel adalah kemungkinan nilainya merupakan hasil numerik dari fenomena acak. Ada dua jenis variabel acak, diskrit dan kontinu"
   ]
  },
  {
   "cell_type": "code",
   "execution_count": 4,
   "id": "2f0b9c5a",
   "metadata": {},
   "outputs": [],
   "source": [
    "# for inline plots in jupyter\n",
    "%matplotlib inline\n",
    "\n",
    "#import matplotlib\n",
    "import matplotlib.pyplot as plt\n",
    "\n",
    "# for latex equations\n",
    "from IPython.display import Math, Latex\n",
    "\n",
    "# for displaying images\n",
    "from IPython.core.display import Image\n"
   ]
  },
  {
   "cell_type": "code",
   "execution_count": 5,
   "id": "7fc4855a",
   "metadata": {},
   "outputs": [],
   "source": [
    "# import seaborn\n",
    "import seaborn as sns"
   ]
  },
  {
   "cell_type": "code",
   "execution_count": 6,
   "id": "333ea1fc",
   "metadata": {},
   "outputs": [],
   "source": [
    "sns.set(color_codes=True)\n",
    "sns.set(rc={'figure.figsize':(5,5)})"
   ]
  },
  {
   "cell_type": "markdown",
   "id": "1df42c4e",
   "metadata": {},
   "source": [
    "# Unifrom Distribution"
   ]
  },
  {
   "cell_type": "markdown",
   "id": "4794ffaf",
   "metadata": {},
   "source": [
    "kita perlu mengimpor uniform function dari scipy.stats module"
   ]
  },
  {
   "cell_type": "code",
   "execution_count": 7,
   "id": "03410f8d",
   "metadata": {},
   "outputs": [],
   "source": [
    "from scipy.stats import uniform"
   ]
  },
  {
   "cell_type": "markdown",
   "id": "ad29a6c8",
   "metadata": {},
   "source": [
    "Unifrom fucntion menghasilkan uniform continuous variabel antara interval yang ditentukan melalui argumen loc dan scale-nya. Argumen size menjelaskan jumlah variasi acak"
   ]
  },
  {
   "cell_type": "code",
   "execution_count": 8,
   "id": "2e9a7509",
   "metadata": {},
   "outputs": [],
   "source": [
    "n = 10000\n",
    "start = 10\n",
    "width = 20\n",
    "\n",
    "data_uniform = uniform.rvs(size=n, loc=start, scale=width)"
   ]
  },
  {
   "cell_type": "code",
   "execution_count": 9,
   "id": "cdbf69f1",
   "metadata": {},
   "outputs": [
    {
     "data": {
      "text/plain": [
       "array([24.32702152, 20.58636751, 24.91572883, ..., 29.97867236,\n",
       "       22.68254124, 18.22961565])"
      ]
     },
     "execution_count": 9,
     "metadata": {},
     "output_type": "execute_result"
    }
   ],
   "source": [
    "data_uniform"
   ]
  },
  {
   "cell_type": "code",
   "execution_count": 10,
   "id": "25d349ef",
   "metadata": {},
   "outputs": [
    {
     "data": {
      "text/plain": [
       "10000"
      ]
     },
     "execution_count": 10,
     "metadata": {},
     "output_type": "execute_result"
    }
   ],
   "source": [
    "len(data_uniform)"
   ]
  },
  {
   "cell_type": "code",
   "execution_count": 11,
   "id": "41912155",
   "metadata": {},
   "outputs": [
    {
     "data": {
      "text/plain": [
       "29.99860362231616"
      ]
     },
     "execution_count": 11,
     "metadata": {},
     "output_type": "execute_result"
    }
   ],
   "source": [
    "max(data_uniform)"
   ]
  },
  {
   "cell_type": "code",
   "execution_count": 12,
   "id": "b77ead9a",
   "metadata": {},
   "outputs": [
    {
     "data": {
      "text/plain": [
       "10.000258387775517"
      ]
     },
     "execution_count": 12,
     "metadata": {},
     "output_type": "execute_result"
    }
   ],
   "source": [
    "min(data_uniform)"
   ]
  },
  {
   "cell_type": "markdown",
   "id": "0a432d2e",
   "metadata": {},
   "source": [
    "kita menggunakan distplot seaborn karena dapat menggunakan banyak argumen untuk menyesuaikan plot."
   ]
  },
  {
   "cell_type": "code",
   "execution_count": 13,
   "id": "51a727ed",
   "metadata": {},
   "outputs": [
    {
     "data": {
      "text/plain": [
       "<seaborn.axisgrid.FacetGrid at 0x2a145b24dc0>"
      ]
     },
     "execution_count": 13,
     "metadata": {},
     "output_type": "execute_result"
    },
    {
     "data": {
      "image/png": "[encoded data removed]",
      "text/plain": [
       "<Figure size 360x360 with 1 Axes>"
      ]
     },
     "metadata": {},
     "output_type": "display_data"
    }
   ],
   "source": [
    "ax = sns.displot(\n",
    "    data = data_uniform,\n",
    "    bins = 100,\n",
    "    kde = True,\n",
    "    color='skyblue',\n",
    "    # hist_kws={'linewidth':15, 'alpha':1}\n",
    ")\n",
    "ax.set(xlabel='Unifrom Distribution', ylabel='Frequency')"
   ]
  },
  {
   "cell_type": "markdown",
   "id": "b4aa21fd",
   "metadata": {},
   "source": [
    "# Normal Distribution"
   ]
  },
  {
   "cell_type": "markdown",
   "id": "103d1f66",
   "metadata": {},
   "source": [
    "Normal Distribution atau Gaussian distribution, ada di mana-mana dalam Data Science. Distribution normal memiliki kurva kerapatan berbentuk lonceng yang dijelaskan dengan mean dan deviasi standarnya"
   ]
  },
  {
   "cell_type": "markdown",
   "id": "6630dd58",
   "metadata": {},
   "source": [
    "Kita dapat membuat menggunakan scipy.stats module yaitu norm.rvs(). Argumen loc sesuai dengan rata-rata distrbusi, scale sesuai dengan standard deviation dan size sesuai dengan jumlah varias acak"
   ]
  },
  {
   "cell_type": "code",
   "execution_count": 14,
   "id": "c5024694",
   "metadata": {},
   "outputs": [],
   "source": [
    "import numpy as np\n",
    "from scipy.stats import norm\n",
    "data_normal = norm.rvs(size=1000, loc=0, scale=1)"
   ]
  },
  {
   "cell_type": "code",
   "execution_count": 15,
   "id": "d2d553c1",
   "metadata": {},
   "outputs": [
    {
     "data": {
      "text/plain": [
       "array([-3.19207021e-01, -5.18496394e-01, -3.59613270e-01,  4.03816583e-01,\n",
       "        4.16227422e-01,  1.23347062e+00, -2.33256557e+00, -1.68810403e+00,\n",
       "       -1.06774068e-01,  2.05126574e-01,  8.01698735e-01, -6.09438500e-01,\n",
       "       -1.35557338e-01, -1.93399820e+00, -9.33372930e-01, -1.77801943e+00,\n",
       "        7.30380861e-01,  1.49154964e+00,  6.03111930e-01, -4.32706709e-01,\n",
       "        9.82728229e-01,  5.17692938e-01,  1.38042734e-01,  6.25359134e-01,\n",
       "        8.37041450e-01,  1.19435714e+00,  1.39047431e+00, -7.45452891e-01,\n",
       "       -4.19530904e-01,  2.26765320e+00, -1.18392253e+00, -5.06231969e-01,\n",
       "       -7.73858483e-01,  3.80750767e-01,  3.01673847e-01, -9.95907406e-01,\n",
       "       -1.60851031e+00,  2.13230026e+00, -2.46597732e-01, -1.03191966e+00,\n",
       "        4.69986318e-01, -1.03215578e-01,  5.66488082e-01,  6.63233730e-01,\n",
       "       -9.60580308e-02, -2.32064923e-01,  6.51528654e-01, -9.43941434e-02,\n",
       "       -6.22178623e-02, -3.52790527e-01, -1.56087441e+00, -6.38810546e-01,\n",
       "        1.78579118e-01,  1.70901937e-02,  6.70081931e-02, -4.35632080e-01,\n",
       "       -2.54623037e-01, -8.39849813e-01,  8.98458128e-01, -8.71794830e-01,\n",
       "        1.37824667e+00, -7.53363270e-01,  1.36875026e+00,  7.13879180e-01,\n",
       "        9.21640515e-01, -3.08917546e-01, -4.28907613e-01,  2.07967269e+00,\n",
       "       -1.17445137e+00, -2.52753501e-01, -9.07942097e-02,  1.22856245e+00,\n",
       "       -3.63185252e-01,  6.00067851e-01, -3.64377752e-02,  2.58019110e-02,\n",
       "       -8.08100132e-01, -1.18871082e+00,  9.16084369e-01, -8.44337834e-01,\n",
       "        1.75823768e+00,  9.18657271e-01,  9.85708048e-01, -1.24108855e-02,\n",
       "       -1.14575113e+00, -2.96873380e-01,  1.81138412e+00,  1.34846852e+00,\n",
       "        1.15020604e+00,  8.12061393e-02, -2.80134317e+00,  4.14163465e-01,\n",
       "       -1.11312804e+00,  2.90973074e-01, -1.38419546e+00, -7.05258131e-02,\n",
       "       -1.38884505e+00,  3.06804951e-01, -1.22840383e+00,  1.48181893e-01,\n",
       "        5.30873057e-01, -2.58955118e-01,  3.31247946e-01,  1.84552525e+00,\n",
       "        3.32990019e+00,  1.67969360e+00,  1.05413375e+00,  5.80068202e-01,\n",
       "       -1.88951575e-03,  1.98726634e+00,  1.32770559e+00,  4.55138448e-01,\n",
       "        5.86130795e-01,  6.14893487e-02, -9.68636230e-01,  1.28165134e+00,\n",
       "        3.86996603e-01,  7.96139425e-01,  8.74796295e-01, -2.77941337e-01,\n",
       "       -7.88348393e-01,  7.84894495e-01,  1.20731282e-01,  1.18016375e+00,\n",
       "        1.06525420e+00,  5.35781490e-01, -3.03162143e-01,  6.44183169e-01,\n",
       "       -1.91015750e+00,  4.25922845e-02,  1.41260197e-01,  3.23145809e-01,\n",
       "       -6.59976578e-01,  4.10076085e-01, -1.16417269e+00,  2.43541316e+00,\n",
       "        5.00116220e-01,  2.48944442e-02,  7.47859916e-01, -1.24268663e+00,\n",
       "        1.75672353e+00,  8.31271501e-01, -7.88715980e-01,  7.13657837e-01,\n",
       "        6.43009581e-01,  5.63855267e-01, -4.11271897e-01, -2.12490158e+00,\n",
       "       -2.05735629e+00, -8.16278840e-01, -2.08155369e+00,  1.95220162e+00,\n",
       "        2.10097567e+00, -1.17048479e+00, -6.56217516e-02,  2.15533768e-01,\n",
       "       -8.29485801e-01, -1.26167428e+00, -5.13398027e-01, -2.18294827e-01,\n",
       "       -2.15974161e+00, -8.02395942e-01,  1.36838421e+00,  1.43682783e+00,\n",
       "       -1.42863225e+00, -3.86984581e-01,  3.10012653e-01,  1.69988340e+00,\n",
       "       -1.63703082e+00,  2.07574136e-01, -1.15123325e+00, -4.56274856e-01,\n",
       "        5.37012424e-01, -2.68937443e-01, -6.32860004e-02, -2.55555146e-01,\n",
       "       -2.84023780e-01, -1.32766794e+00, -1.18437448e+00, -7.17311843e-01,\n",
       "       -6.22631587e-02,  2.02870174e+00,  1.15548563e+00, -4.47231764e-01,\n",
       "        2.90263883e-01,  1.56460335e+00,  8.91192812e-01, -7.03975270e-01,\n",
       "        2.29227827e-01, -1.92001675e+00, -3.64750541e-02,  3.04749346e-01,\n",
       "        8.77307830e-01,  2.93313073e-02, -9.23563023e-01,  5.83915532e-01,\n",
       "        2.16233947e+00,  8.82879749e-01, -1.04236056e+00,  1.72660602e+00,\n",
       "       -4.21769574e-01, -5.62560538e-01, -1.64458546e+00, -5.67134413e-01,\n",
       "        7.11313715e-01, -3.41045795e-01, -2.47346615e-01,  3.29156394e-01,\n",
       "        4.21364739e-01, -3.29472711e-01,  1.18111986e+00,  1.85629231e-01,\n",
       "        2.01418914e+00, -2.03874314e+00, -3.73800994e-01,  1.88338956e-01,\n",
       "       -1.14487497e+00, -4.71775550e-01,  7.04236955e-01, -1.31223658e-01,\n",
       "       -1.81176943e+00,  2.54264635e-01, -1.23105698e+00, -1.19972876e+00,\n",
       "        8.10218890e-01,  1.22996380e-01, -1.65782126e-01,  7.47765288e-01,\n",
       "       -1.33186972e-01, -3.88332290e-01, -1.91881355e-03, -1.09010282e+00,\n",
       "        6.11289850e-01, -1.64397711e+00, -3.39947838e-01, -1.32617522e-01,\n",
       "       -1.10319313e+00, -1.10533211e+00, -1.74035567e+00,  3.04477472e-01,\n",
       "        2.78940635e-01, -2.38531713e-02, -5.00987675e-01,  1.47939276e+00,\n",
       "        4.95979961e-01, -2.86303349e-01,  4.64913055e-01,  2.58032790e+00,\n",
       "       -1.20254030e+00, -1.30155320e+00,  3.28798686e-01,  8.19701659e-01,\n",
       "        2.09166427e+00,  2.38375352e-01, -1.01468304e+00, -1.29191902e+00,\n",
       "       -1.05539204e+00,  1.02270089e+00,  1.29335433e+00, -1.68042491e+00,\n",
       "        2.20431884e+00, -7.70210013e-01,  1.07653219e+00, -1.22600020e+00,\n",
       "        1.04546952e+00,  6.22146652e-01,  6.28652635e-01,  1.61745818e+00,\n",
       "       -1.12235312e+00, -6.15062061e-01, -1.93974325e+00, -8.45201083e-01,\n",
       "        7.19000942e-02, -2.18678998e-01, -4.84215456e-01, -7.04220206e-01,\n",
       "       -1.34277152e-01, -1.42631589e+00, -5.76823376e-01,  5.40864475e-02,\n",
       "        1.78026573e+00,  1.00153420e+00,  4.67244860e-01, -2.94154691e-01,\n",
       "       -1.55127846e-01,  1.67234850e+00,  1.19472329e+00,  1.63036547e-01,\n",
       "       -2.27940265e-01, -1.65010847e+00, -5.03926744e-02,  4.17364838e-01,\n",
       "       -7.82080729e-01, -8.83720167e-01, -1.44134037e+00, -5.58900695e-01,\n",
       "       -7.90719692e-03,  6.32551849e-01, -1.61494824e+00,  2.31815476e-01,\n",
       "       -4.13402855e-02, -5.93580481e-01, -1.32621201e+00,  8.06804440e-02,\n",
       "        1.20933426e+00, -9.31420713e-01, -1.19661306e+00, -5.89978655e-03,\n",
       "        8.91176125e-02, -6.43198782e-01, -8.61356133e-01,  9.89846712e-01,\n",
       "       -6.93063697e-01, -2.68082700e-01, -4.02622600e-01, -7.74615193e-01,\n",
       "        7.23228849e-01,  5.90858215e-01, -7.88455610e-01, -5.10787044e-01,\n",
       "        1.93663968e+00,  3.15353745e+00,  1.18013940e+00,  1.55576557e-01,\n",
       "       -3.25272958e-01,  1.70797676e+00, -5.99393678e-01, -3.05964389e-01,\n",
       "       -1.65752770e-01,  1.64166772e+00,  7.35229004e-01, -9.69802210e-01,\n",
       "       -9.01630324e-01, -1.40529073e+00,  4.60403293e-01, -3.68105286e-01,\n",
       "       -1.34401565e-01,  1.73645078e+00,  1.60318361e+00, -4.82136419e-01,\n",
       "        6.53409596e-03,  1.11052644e+00, -9.09184929e-01, -3.93852358e-01,\n",
       "       -9.72899269e-01, -2.36755524e-01, -2.01494131e+00,  4.69905224e-01,\n",
       "        9.52012259e-01,  1.95557207e-01, -1.21030270e+00,  1.30194748e+00,\n",
       "       -1.27075956e+00, -7.85013470e-01, -5.85196623e-01,  8.53731362e-01,\n",
       "        1.88496446e+00, -7.27498643e-01, -1.31798507e+00, -6.09932852e-01,\n",
       "        5.60933956e-01, -1.89897698e-02, -6.00088412e-01,  2.51573460e-02,\n",
       "       -9.55186407e-01,  8.24374892e-01,  3.23624022e+00, -1.72242186e+00,\n",
       "        1.69387842e-02,  1.73329636e-01,  1.04799493e+00, -1.86650530e-02,\n",
       "        4.02041715e-01, -4.06042938e-01,  1.01558906e+00, -5.37901384e-01,\n",
       "        3.32387767e-01,  1.27893453e+00, -2.39301898e+00, -3.43147291e-01,\n",
       "        2.56389198e-01,  1.08072742e+00, -1.43379978e-01,  8.70388987e-02,\n",
       "        1.21844590e+00,  1.54960446e+00,  7.47195402e-01, -2.73396469e+00,\n",
       "        8.99686114e-01, -4.33796261e-02, -8.80298673e-01, -7.95015005e-01,\n",
       "       -5.36107085e-01,  4.57953933e-01,  4.18495441e-01, -4.13401329e-02,\n",
       "        9.70165608e-01, -1.55431880e-01, -1.46527868e+00, -6.24023281e-01,\n",
       "       -3.35106492e-01, -7.32813655e-01,  4.24539119e-01,  1.78214551e-02,\n",
       "       -4.74925070e-01, -2.85667695e-01, -4.58597992e-01, -8.03862923e-01,\n",
       "        8.95206962e-01, -4.74190048e-01, -2.96145660e-01, -1.21112727e+00,\n",
       "       -1.06728306e+00, -3.48853963e-01,  2.99805884e-01,  1.04186297e+00,\n",
       "        6.48890071e-01,  3.69124229e-01,  1.64977758e+00, -1.71284897e-01,\n",
       "        1.58943951e+00, -3.51071995e-01, -7.99561155e-01, -2.02060751e-01,\n",
       "        4.21967753e-01,  1.61235666e+00,  6.62589171e-01, -1.05427861e+00,\n",
       "       -6.64068790e-01, -8.73824352e-01, -2.21102847e+00, -3.40775924e-01,\n",
       "       -8.11970846e-01, -8.28736506e-03,  1.49637003e-01, -2.61982946e-01,\n",
       "       -5.92360068e-01,  9.95629086e-01,  1.34782359e+00, -1.02076272e+00,\n",
       "        3.99551883e-01,  1.50375856e-01, -1.16094149e+00,  9.03386656e-01,\n",
       "       -5.55031429e-01, -5.40040532e-01,  1.68271281e+00, -6.19054879e-01,\n",
       "       -5.72944266e-01,  2.13655575e-01, -1.34188443e+00,  2.65577685e-01,\n",
       "       -9.60714505e-02, -5.00217818e-01,  1.54485568e+00, -1.36933523e+00,\n",
       "       -6.88481415e-01,  3.48732365e-01, -7.11507843e-02, -1.03932038e+00,\n",
       "       -1.46313198e-01,  1.47542275e+00,  4.62714513e-02, -9.12145281e-01,\n",
       "       -1.60309128e-01, -6.59688031e-01,  4.33526387e-01, -3.34618276e-01,\n",
       "        1.16490563e+00, -8.60759123e-01,  1.03394547e+00,  8.35845120e-01,\n",
       "       -5.20097800e-01,  1.94911125e-01, -2.33325085e-01, -2.02203426e+00,\n",
       "       -3.79547632e-01, -6.11799439e-01, -7.18872213e-02, -1.47784097e+00,\n",
       "        8.96824828e-01, -2.44586006e-01,  1.53276861e+00,  5.79502405e-01,\n",
       "        1.11963146e+00,  3.63548960e-01, -1.55175942e+00, -1.09643954e+00,\n",
       "       -9.01645483e-01,  3.97509139e-01,  9.42270682e-01,  7.18344441e-01,\n",
       "        8.91892895e-01,  8.70694636e-02, -9.82699175e-01, -8.01790769e-01,\n",
       "        1.16900530e-01, -3.05485301e-02,  1.28267886e+00,  4.23407005e-01,\n",
       "        3.95739003e-01, -5.24826580e-01, -1.68632077e+00, -1.22905798e+00,\n",
       "        1.04011010e+00,  1.45009301e+00, -1.55395718e-01,  2.60259785e-01,\n",
       "       -1.63500331e+00,  5.89668043e-01,  2.31580311e+00,  5.50001932e-01,\n",
       "       -3.31996446e-01, -1.52230377e-02,  8.75364089e-01, -2.36751412e-01,\n",
       "        1.10996948e+00, -3.01370813e-01, -3.15130807e-02,  4.86597597e-01,\n",
       "       -6.31277748e-01, -8.51382407e-01, -3.32759581e-01,  1.14041250e+00,\n",
       "       -8.92266315e-01, -6.62928141e-01, -4.47561129e-01, -9.80280307e-01,\n",
       "       -1.39612875e+00, -3.72961405e-01, -1.25165182e-01, -6.60992511e-02,\n",
       "       -8.46529210e-01, -4.29076256e-02,  1.23319380e-01,  6.66539299e-01,\n",
       "       -6.46306767e-01,  1.08869116e+00, -5.69393504e-01,  4.52924276e-01,\n",
       "        2.26396435e+00,  2.87181346e-01,  5.71525326e-02, -6.96483975e-01,\n",
       "        5.67197244e-01,  8.28151344e-01, -8.57012748e-01, -3.26304197e-01,\n",
       "        9.74971452e-01,  8.47559181e-01, -1.79469680e+00,  3.20096063e-01,\n",
       "       -1.02993739e+00, -7.15265259e-01, -1.41471246e+00,  3.91092617e-01,\n",
       "        8.72076121e-01, -1.69058332e+00,  1.75895159e+00,  1.37934743e+00,\n",
       "       -2.49301548e-01,  2.51432102e-01, -7.82153881e-01, -2.04829106e+00,\n",
       "       -2.58187605e-01, -5.16603287e-01,  1.62424564e-02,  6.09136731e-01,\n",
       "       -1.44284119e+00,  1.27391705e-01, -2.03260926e-01,  8.05450017e-01,\n",
       "        2.06335208e+00,  1.83275365e+00,  5.70603320e-01, -1.01197664e+00,\n",
       "        7.98439954e-01,  2.15043301e+00, -7.01574254e-01,  4.70377409e-01,\n",
       "        5.14290475e-02, -3.68891849e-01, -2.84512346e-01,  8.81221911e-01,\n",
       "        1.09301792e+00, -1.09373066e+00,  1.78334452e+00,  1.00437169e+00,\n",
       "       -1.69733782e+00,  5.18836188e-01, -2.83245275e-02, -1.11404083e+00,\n",
       "        1.68415662e+00,  2.69582840e+00,  1.71109845e+00,  3.83328801e-01,\n",
       "        3.96267712e-01, -2.82546908e-01,  1.00327437e-01, -7.76322343e-01,\n",
       "        6.45571302e-01, -1.08637405e+00, -3.92725349e-02,  9.31391462e-01,\n",
       "       -5.69903986e-01,  3.35538983e+00,  9.72430837e-01, -8.01947904e-01,\n",
       "       -1.19344806e-01, -1.23651020e+00,  9.12498994e-01, -1.75815401e-01,\n",
       "        4.71520286e-01,  1.00146733e+00, -1.46980892e-01,  2.16287053e-01,\n",
       "        9.02492644e-01, -1.88404710e+00,  1.00036930e+00,  5.31384784e-01,\n",
       "        4.48164439e-01,  1.29753333e-01, -2.04868776e+00,  7.53992416e-01,\n",
       "        9.11825902e-01,  1.44897415e+00,  7.64743328e-02, -6.97903384e-01,\n",
       "        9.99417596e-01, -4.29815755e-01,  8.39663572e-01,  1.72951569e+00,\n",
       "        3.08109078e+00,  8.34322289e-01,  8.39490487e-02,  1.35053459e+00,\n",
       "       -2.09832374e-01, -4.64582527e-01,  6.70698159e-01, -5.49430949e-01,\n",
       "        1.71398780e+00, -2.51776060e+00, -3.01418728e-01,  9.83699241e-01,\n",
       "        3.97893427e-01,  3.54633328e-01, -2.86077694e-01,  5.43578119e-01,\n",
       "        9.12929777e-01,  2.07611812e+00, -1.23386011e+00,  2.19061258e-01,\n",
       "        5.17701230e-01, -2.26689389e+00,  1.14805115e-01, -1.56621971e+00,\n",
       "        3.85634398e-01,  3.10059714e-02, -1.54400718e+00,  1.07036403e+00,\n",
       "        5.91966625e-02,  8.61887618e-01, -5.42346025e-01,  1.07849538e-01,\n",
       "       -1.85034486e+00,  2.74905298e-01, -1.29491376e+00, -1.47964988e+00,\n",
       "       -1.13710176e+00, -2.59278223e-01, -6.64869932e-01,  2.18077186e-02,\n",
       "        1.30168217e+00,  1.40862870e+00, -4.02741241e-01,  1.56646556e-01,\n",
       "       -1.66447744e+00, -3.96304587e-01, -1.35297607e+00, -1.07386511e+00,\n",
       "        6.70841896e-01,  7.44340702e-01, -1.16411027e+00, -3.56678515e-01,\n",
       "        5.28955941e-01,  1.62827426e+00,  8.77107020e-01,  1.16438039e+00,\n",
       "        8.21320005e-01, -1.90595618e+00, -3.41927018e-01,  4.58623628e-01,\n",
       "        8.46058066e-02,  1.30696814e+00,  9.54063457e-01,  3.54146913e-02,\n",
       "        4.18813055e-01, -9.28991827e-01,  2.24764844e-01, -3.13796031e-01,\n",
       "        1.06002966e+00,  6.78659283e-01,  4.27657271e-01,  6.96270391e-01,\n",
       "       -1.04979323e+00,  1.06400423e+00,  1.33860407e-02,  1.80410974e+00,\n",
       "       -4.73877484e-01, -6.01794080e-02,  4.80664193e-01,  1.35864749e+00,\n",
       "        4.46331418e-01,  3.77553713e-01, -4.74750280e-01, -2.18723305e-01,\n",
       "        1.11461967e+00, -7.48154347e-01,  6.78649083e-02,  5.89352532e-01,\n",
       "       -8.53660096e-02, -1.21295353e+00,  7.60420646e-01, -5.55211978e-01,\n",
       "        1.69137424e+00,  4.53364122e-01,  1.47392023e-01,  2.28140663e+00,\n",
       "       -1.19270801e+00,  7.40935271e-01, -4.14693043e-01,  9.99755439e-01,\n",
       "       -5.89353489e-02, -1.48902065e+00,  3.31273198e-01,  5.44311425e-01,\n",
       "       -7.37598470e-01, -4.22861332e-01, -4.27584530e-02,  4.33126610e-01,\n",
       "       -2.21295844e-01,  8.33290743e-01, -1.72916746e-01,  1.39910464e+00,\n",
       "        1.27727810e+00, -1.41849153e-01,  1.46459183e+00, -4.26833538e-01,\n",
       "       -1.78790699e-01,  4.99047730e-01,  1.04020811e+00, -3.25914268e-01,\n",
       "       -3.89911620e-01, -1.03006046e+00, -6.36544189e-01,  4.16694332e-01,\n",
       "        8.00444885e-01, -5.61187503e-01,  4.50336981e-01,  2.78797053e-01,\n",
       "        1.11214650e-01, -5.42026768e-02,  1.42064541e+00, -4.88284142e-01,\n",
       "       -1.70868673e+00, -5.86080245e-01, -4.02702515e-01,  1.13838750e+00,\n",
       "        1.58963604e+00, -2.30967160e-02,  1.20397705e+00,  1.74461548e+00,\n",
       "        2.16263939e+00,  1.29949555e+00, -1.68062709e-01,  6.86405938e-02,\n",
       "       -2.34111733e-01,  2.18562527e-01, -1.90285975e-01, -6.75455858e-01,\n",
       "       -1.47371617e+00,  1.29477406e-01,  1.09815793e-01, -1.81456083e+00,\n",
       "        8.83308893e-01, -3.51482330e-01, -3.49143796e-01,  1.02837117e+00,\n",
       "        1.61875700e+00,  4.01333400e-01,  6.73338232e-01,  2.71304900e-01,\n",
       "        2.09740842e-01,  9.05488143e-01, -6.97655157e-01, -4.70320327e-01,\n",
       "       -1.28929633e+00,  5.06562893e-01,  9.09838492e-01, -1.76752339e+00,\n",
       "        7.48348676e-01, -1.51516694e+00,  4.62552426e-01, -4.70464536e-01,\n",
       "       -1.54552218e-01,  8.39415327e-01,  8.47723475e-01,  1.48197142e+00,\n",
       "        6.78583925e-01,  6.01295734e-01,  2.19822830e+00,  2.09099505e-01,\n",
       "        1.32111045e+00, -9.36142691e-02,  4.59485421e-01,  1.41035841e+00,\n",
       "        1.92835354e-01,  1.26886050e+00, -7.07076075e-01, -4.65714416e-01,\n",
       "       -4.94423347e-01,  7.69335697e-01, -1.46435573e+00,  2.52550997e+00,\n",
       "        9.55018679e-01, -1.95212714e+00,  7.63439605e-02,  1.10162066e-01,\n",
       "        4.30990324e-01,  3.52968307e-01, -1.14463977e+00,  6.14747047e-01,\n",
       "       -8.75745280e-01, -1.52218283e-01,  1.17317696e+00,  1.56263341e+00,\n",
       "        1.84167069e+00,  1.35024974e+00,  1.51401848e+00, -4.46775073e-01,\n",
       "        6.12642373e-01, -2.79076314e+00, -1.41638542e+00, -7.26151904e-01,\n",
       "       -1.34392216e+00, -7.98268023e-01, -4.92747388e-01,  1.38214749e+00,\n",
       "       -2.78841413e-01,  3.33040848e-01, -2.90673818e+00, -1.43459647e+00,\n",
       "        7.85727655e-01,  1.87732999e+00, -1.72424594e+00, -1.13796164e+00,\n",
       "        1.32961573e+00, -3.47072929e-01, -3.66060482e-02, -2.18297428e-01,\n",
       "        8.01345877e-01, -8.83852214e-01,  9.19912275e-01,  7.85386246e-01,\n",
       "       -1.23292085e+00,  1.27937538e+00, -6.67519547e-01, -7.60977640e-01,\n",
       "       -8.05329788e-01, -7.31205080e-01,  4.58905217e-01,  1.05258422e+00,\n",
       "        1.05733529e+00,  3.76943690e-01,  1.31740848e+00, -3.75369702e-01,\n",
       "        9.96282341e-01,  1.52848118e+00,  1.96427094e+00, -5.90565230e-01,\n",
       "       -6.40334859e-01, -1.79007623e+00, -8.54424702e-01,  1.34816068e+00,\n",
       "       -1.32571228e+00, -7.38981748e-01,  9.61046555e-01, -1.50124708e+00,\n",
       "        9.31577184e-01,  5.03059543e-02, -4.28148331e-01,  1.23364737e+00,\n",
       "       -1.41346306e+00, -2.37871266e-02, -4.01221671e-01, -1.21139418e+00,\n",
       "        4.04388758e-01, -1.42740621e+00,  2.64250950e-01,  3.28895135e-01,\n",
       "       -1.31353697e-01, -7.73593805e-01,  2.18546647e-01,  8.21649782e-02,\n",
       "       -1.51440649e+00,  1.60256923e-01, -2.47176381e-01,  5.78029181e-01,\n",
       "        1.10053603e-01, -9.45500082e-01, -3.30595313e-01,  2.68341239e-01,\n",
       "        9.51968460e-01, -2.66205829e+00,  8.98187411e-01,  5.89402981e-02,\n",
       "        4.64499851e-01,  1.22709341e-01,  4.83700341e-01,  1.11392887e+00,\n",
       "        1.78928971e-01,  4.68894279e-01,  1.24232026e-01, -2.35918896e-01,\n",
       "        3.18699840e-01,  1.22780553e+00,  3.89765322e-01, -6.19927520e-01,\n",
       "        8.61608855e-01,  4.98624893e-02, -6.38087784e-01, -3.63819043e-01,\n",
       "       -5.79128976e-01, -2.56071929e-01, -1.44504912e+00,  1.19100172e+00,\n",
       "       -2.95119999e+00,  7.28599518e-01, -6.80175473e-01, -1.98885954e-02,\n",
       "       -1.76762614e+00, -4.79859962e-01, -1.12508198e-01,  2.35873284e-01,\n",
       "        2.33586950e-01, -6.22953160e-01,  1.44724168e-01,  9.40775764e-01,\n",
       "       -2.34562642e-01, -1.05406295e+00,  5.77392496e-01, -6.40158686e-01,\n",
       "       -2.35634443e-01,  4.30772316e-01,  1.70458674e+00,  3.16016302e-01,\n",
       "       -6.14961439e-01, -5.59470327e-01, -1.74800877e+00,  1.13482339e+00,\n",
       "        1.26373563e+00, -5.06774042e-01,  6.61352425e-01,  8.01193634e-01,\n",
       "        7.84067670e-01, -1.06949427e+00, -9.36510602e-01,  4.99039228e-01,\n",
       "        6.11773125e-01,  1.64260240e+00, -1.01687241e-01,  1.35135096e+00,\n",
       "        1.47495408e-01,  1.15430557e+00, -2.41083379e+00,  2.69777051e-01,\n",
       "       -5.30964925e-01,  4.66577693e-01, -1.22118874e+00, -3.58926529e-01,\n",
       "       -1.04388825e+00,  1.10305795e+00, -9.58752515e-01,  7.13766313e-01,\n",
       "       -1.41254960e+00,  8.29026746e-02,  2.74847490e-01,  3.96201966e-01,\n",
       "       -4.55902382e-01,  1.47476331e+00, -1.02852930e+00,  4.59684687e-01,\n",
       "        8.24615671e-01,  6.04277520e-01, -1.25120256e-01, -1.12818049e+00,\n",
       "        7.36855647e-01, -9.11533868e-01,  6.83984842e-01, -6.06203695e-01])"
      ]
     },
     "execution_count": 15,
     "metadata": {},
     "output_type": "execute_result"
    }
   ],
   "source": [
    "data_normal"
   ]
  },
  {
   "cell_type": "code",
   "execution_count": 16,
   "id": "0e6458d7",
   "metadata": {},
   "outputs": [
    {
     "data": {
      "text/plain": [
       "0.0399495734909923"
      ]
     },
     "execution_count": 16,
     "metadata": {},
     "output_type": "execute_result"
    }
   ],
   "source": [
    "np.mean(data_normal)"
   ]
  },
  {
   "cell_type": "markdown",
   "id": "7a0a861a",
   "metadata": {},
   "source": [
    "visualisasikan dengan fungsi distplot"
   ]
  },
  {
   "cell_type": "code",
   "execution_count": 17,
   "id": "1510a386",
   "metadata": {},
   "outputs": [
    {
     "data": {
      "text/plain": [
       "<seaborn.axisgrid.FacetGrid at 0x2a149cfc580>"
      ]
     },
     "execution_count": 17,
     "metadata": {},
     "output_type": "execute_result"
    },
    {
     "data": {
      "image/png": "[encoded data removed]",
      "text/plain": [
       "<Figure size 360x360 with 1 Axes>"
      ]
     },
     "metadata": {},
     "output_type": "display_data"
    }
   ],
   "source": [
    "ax = sns.displot(\n",
    "    data = data_normal,\n",
    "    bins = 100,\n",
    "    kde = True,\n",
    "    color='skyblue',\n",
    "    # hist_kws={'linewidth':15, 'alpha':1}\n",
    ")\n",
    "ax.set(xlabel='Normal Distribution', ylabel='Frequency')\n"
   ]
  },
  {
   "cell_type": "markdown",
   "id": "3e116b53",
   "metadata": {},
   "source": [
    "# Gamma distribution"
   ]
  },
  {
   "cell_type": "markdown",
   "id": "9c16a99c",
   "metadata": {},
   "source": [
    "Gamma distribution adalah two parameter family dari continuous probability distributions. Meskipun jarang digunakan dalam bentuk mentah, tetapi distrbusi lain yang populer digunakan seperti exponential, chi squeared, erlang distributions adalah kasus khusus dari gamma"
   ]
  },
  {
   "cell_type": "markdown",
   "id": "3e879889",
   "metadata": {},
   "source": [
    "kita dapat membuat gamma drv menggunakan metode gamma.rvs9() modul scipy.stats yang mengambil \n",
    "- parameter shape a sebagai argumennya. ketika a bil bulat, gamma tereduksi menjadi distribusi Erlang, ketika a=1 menjadi distribusi eksponensial. \n",
    "- Untuk menggeser gunakan argumen loc, \n",
    "- untuk scale gunakan argumen scale, \n",
    "- size menentukan jumlah variasi acak dalam distribusi"
   ]
  },
  {
   "cell_type": "code",
   "execution_count": 18,
   "id": "f75d6a86",
   "metadata": {},
   "outputs": [],
   "source": [
    "from scipy.stats import gamma\n",
    "data_gama = gamma.rvs(a=5, size=10000)"
   ]
  },
  {
   "cell_type": "code",
   "execution_count": 19,
   "id": "7e5eb968",
   "metadata": {},
   "outputs": [
    {
     "data": {
      "text/plain": [
       "array([6.03314486, 4.13294381, 3.89003522, ..., 8.03881895, 3.98352358,\n",
       "       3.87656694])"
      ]
     },
     "execution_count": 19,
     "metadata": {},
     "output_type": "execute_result"
    }
   ],
   "source": [
    "data_gama"
   ]
  },
  {
   "cell_type": "code",
   "execution_count": 20,
   "id": "9bfeb85e",
   "metadata": {},
   "outputs": [
    {
     "data": {
      "text/plain": [
       "5.018704925398692"
      ]
     },
     "execution_count": 20,
     "metadata": {},
     "output_type": "execute_result"
    }
   ],
   "source": [
    "np.mean(data_gama)"
   ]
  },
  {
   "cell_type": "code",
   "execution_count": 21,
   "id": "c5406da3",
   "metadata": {},
   "outputs": [
    {
     "data": {
      "text/plain": [
       "<seaborn.axisgrid.FacetGrid at 0x2a147be1310>"
      ]
     },
     "execution_count": 21,
     "metadata": {},
     "output_type": "execute_result"
    },
    {
     "data": {
      "image/png": "[encoded data removed]",
      "text/plain": [
       "<Figure size 360x360 with 1 Axes>"
      ]
     },
     "metadata": {},
     "output_type": "display_data"
    }
   ],
   "source": [
    "ax = sns.displot(\n",
    "    data = data_gama,\n",
    "    bins = 100,\n",
    "    kde = True,\n",
    "    color='skyblue',\n",
    "    # hist_kws={'linewidth':15, 'alpha':1}\n",
    ")\n",
    "ax.set(xlabel='Gamma Distribution', ylabel='Frequency')\n"
   ]
  },
  {
   "cell_type": "markdown",
   "id": "699b677e",
   "metadata": {},
   "source": [
    "# Exponential Distribution"
   ]
  },
  {
   "cell_type": "markdown",
   "id": "434bd665",
   "metadata": {},
   "source": [
    "Exponential distribution menggambarkan waktu antara peristiwa dalam Poisson point process yaitu proses dimana peristiwa terjadi terus menerus dan independen pada tingkat rata-rata yang konstan"
   ]
  },
  {
   "cell_type": "code",
   "execution_count": 22,
   "id": "a71b6393",
   "metadata": {},
   "outputs": [],
   "source": [
    "from scipy.stats import expon # exponentially distributed random\n",
    "\n",
    "data_expon = expon.rvs(scale=1, loc=0, size=10000)"
   ]
  },
  {
   "cell_type": "code",
   "execution_count": 23,
   "id": "7a434ad3",
   "metadata": {},
   "outputs": [
    {
     "data": {
      "text/plain": [
       "1.0141916922253766"
      ]
     },
     "execution_count": 23,
     "metadata": {},
     "output_type": "execute_result"
    }
   ],
   "source": [
    "np.mean(data_expon)"
   ]
  },
  {
   "cell_type": "code",
   "execution_count": 24,
   "id": "19a401d9",
   "metadata": {},
   "outputs": [
    {
     "data": {
      "text/plain": [
       "<seaborn.axisgrid.FacetGrid at 0x2a14a0097f0>"
      ]
     },
     "execution_count": 24,
     "metadata": {},
     "output_type": "execute_result"
    },
    {
     "data": {
      "image/png": "[encoded data removed]",
      "text/plain": [
       "<Figure size 360x360 with 1 Axes>"
      ]
     },
     "metadata": {},
     "output_type": "display_data"
    }
   ],
   "source": [
    "ax = sns.displot(\n",
    "    data = data_expon,\n",
    "    bins = 100,\n",
    "    kde = True,\n",
    "    color='skyblue',\n",
    "    # hist_kws={'linewidth':15, 'alpha':1}\n",
    ")\n",
    "ax.set(xlabel='Exponential Distribution', ylabel='Frequency')\n"
   ]
  },
  {
   "cell_type": "markdown",
   "id": "e8912cce",
   "metadata": {},
   "source": [
    "# Poisson Distrbution"
   ]
  },
  {
   "cell_type": "markdown",
   "id": "e9bd2c73",
   "metadata": {},
   "source": [
    "Poison random variable biasanya digunakan untuk memodelkan berapa kali suatu peristiwa terjadi dalam interval waktu. misal, jumlah pengguna yang berkunjung di situs web dalam suatu interval dapat dianggap sebagai proses Poisson."
   ]
  },
  {
   "cell_type": "code",
   "execution_count": 25,
   "id": "50dca06a",
   "metadata": {},
   "outputs": [],
   "source": [
    "from scipy.stats import poisson\n",
    "\n",
    "data_poisson = poisson.rvs(mu=3, size=10000)"
   ]
  },
  {
   "cell_type": "code",
   "execution_count": 26,
   "id": "de52307a",
   "metadata": {},
   "outputs": [
    {
     "data": {
      "text/plain": [
       "array([1, 3, 4, ..., 2, 5, 2])"
      ]
     },
     "execution_count": 26,
     "metadata": {},
     "output_type": "execute_result"
    }
   ],
   "source": [
    "data_poisson"
   ]
  },
  {
   "cell_type": "code",
   "execution_count": 27,
   "id": "095e8b13",
   "metadata": {},
   "outputs": [
    {
     "data": {
      "text/plain": [
       "2.9749"
      ]
     },
     "execution_count": 27,
     "metadata": {},
     "output_type": "execute_result"
    }
   ],
   "source": [
    "np.mean(data_poisson)"
   ]
  },
  {
   "cell_type": "code",
   "execution_count": 28,
   "id": "e43a8a5e",
   "metadata": {},
   "outputs": [
    {
     "data": {
      "text/plain": [
       "[1,\n",
       " 3,\n",
       " 4,\n",
       " 2,\n",
       " 3,\n",
       " 5,\n",
       " 4,\n",
       " 1,\n",
       " 4,\n",
       " 5,\n",
       " 0,\n",
       " 4,\n",
       " 4,\n",
       " 3,\n",
       " 4,\n",
       " 3,\n",
       " 1,\n",
       " 1,\n",
       " 3,\n",
       " 1,\n",
       " 5,\n",
       " 1,\n",
       " 1,\n",
       " 4,\n",
       " 4,\n",
       " 3,\n",
       " 6,\n",
       " 3,\n",
       " 4,\n",
       " 1,\n",
       " 7,\n",
       " 3,\n",
       " 4,\n",
       " 4,\n",
       " 4,\n",
       " 3,\n",
       " 3,\n",
       " 2,\n",
       " 2,\n",
       " 6,\n",
       " 2,\n",
       " 4,\n",
       " 0,\n",
       " 5,\n",
       " 6,\n",
       " 4,\n",
       " 3,\n",
       " 4,\n",
       " 2,\n",
       " 2,\n",
       " 3,\n",
       " 2,\n",
       " 5,\n",
       " 4,\n",
       " 9,\n",
       " 3,\n",
       " 3,\n",
       " 3,\n",
       " 2,\n",
       " 1,\n",
       " 2,\n",
       " 8,\n",
       " 1,\n",
       " 1,\n",
       " 4,\n",
       " 4,\n",
       " 2,\n",
       " 3,\n",
       " 2,\n",
       " 2,\n",
       " 3,\n",
       " 0,\n",
       " 2,\n",
       " 3,\n",
       " 2,\n",
       " 1,\n",
       " 5,\n",
       " 4,\n",
       " 2,\n",
       " 1,\n",
       " 3,\n",
       " 1,\n",
       " 5,\n",
       " 3,\n",
       " 4,\n",
       " 3,\n",
       " 2,\n",
       " 6,\n",
       " 3,\n",
       " 1,\n",
       " 3,\n",
       " 1,\n",
       " 1,\n",
       " 2,\n",
       " 2,\n",
       " 4,\n",
       " 2,\n",
       " 3,\n",
       " 1,\n",
       " 1,\n",
       " 0,\n",
       " 1,\n",
       " 3,\n",
       " 4,\n",
       " 3,\n",
       " 3,\n",
       " 3,\n",
       " 3,\n",
       " 5,\n",
       " 2,\n",
       " 1,\n",
       " 1,\n",
       " 3,\n",
       " 3,\n",
       " 3,\n",
       " 4,\n",
       " 4,\n",
       " 3,\n",
       " 2,\n",
       " 2,\n",
       " 4,\n",
       " 1,\n",
       " 5,\n",
       " 3,\n",
       " 4,\n",
       " 6,\n",
       " 3,\n",
       " 2,\n",
       " 3,\n",
       " 3,\n",
       " 1,\n",
       " 6,\n",
       " 4,\n",
       " 2,\n",
       " 3,\n",
       " 1,\n",
       " 5,\n",
       " 4,\n",
       " 3,\n",
       " 4,\n",
       " 5,\n",
       " 1,\n",
       " 1,\n",
       " 5,\n",
       " 2,\n",
       " 2,\n",
       " 5,\n",
       " 2,\n",
       " 1,\n",
       " 8,\n",
       " 3,\n",
       " 2,\n",
       " 3,\n",
       " 3,\n",
       " 5,\n",
       " 1,\n",
       " 2,\n",
       " 4,\n",
       " 2,\n",
       " 3,\n",
       " 3,\n",
       " 6,\n",
       " 5,\n",
       " 2,\n",
       " 3,\n",
       " 4,\n",
       " 3,\n",
       " 2,\n",
       " 3,\n",
       " 6,\n",
       " 0,\n",
       " 6,\n",
       " 3,\n",
       " 1,\n",
       " 5,\n",
       " 2,\n",
       " 1,\n",
       " 2,\n",
       " 2,\n",
       " 2,\n",
       " 5,\n",
       " 3,\n",
       " 2,\n",
       " 3,\n",
       " 7,\n",
       " 3,\n",
       " 6,\n",
       " 4,\n",
       " 3,\n",
       " 3,\n",
       " 2,\n",
       " 2,\n",
       " 3,\n",
       " 4,\n",
       " 1,\n",
       " 1,\n",
       " 3,\n",
       " 2,\n",
       " 4,\n",
       " 0,\n",
       " 3,\n",
       " 3,\n",
       " 2,\n",
       " 5,\n",
       " 4,\n",
       " 1,\n",
       " 2,\n",
       " 6,\n",
       " 2,\n",
       " 1,\n",
       " 7,\n",
       " 1,\n",
       " 3,\n",
       " 4,\n",
       " 0,\n",
       " 4,\n",
       " 3,\n",
       " 0,\n",
       " 1,\n",
       " 3,\n",
       " 2,\n",
       " 1,\n",
       " 3,\n",
       " 5,\n",
       " 1,\n",
       " 5,\n",
       " 4,\n",
       " 1,\n",
       " 6,\n",
       " 3,\n",
       " 1,\n",
       " 1,\n",
       " 7,\n",
       " 5,\n",
       " 1,\n",
       " 4,\n",
       " 2,\n",
       " 2,\n",
       " 2,\n",
       " 3,\n",
       " 5,\n",
       " 3,\n",
       " 5,\n",
       " 4,\n",
       " 2,\n",
       " 1,\n",
       " 3,\n",
       " 3,\n",
       " 1,\n",
       " 3,\n",
       " 5,\n",
       " 4,\n",
       " 3,\n",
       " 1,\n",
       " 1,\n",
       " 3,\n",
       " 2,\n",
       " 2,\n",
       " 5,\n",
       " 4,\n",
       " 1,\n",
       " 5,\n",
       " 4,\n",
       " 8,\n",
       " 1,\n",
       " 1,\n",
       " 3,\n",
       " 3,\n",
       " 3,\n",
       " 5,\n",
       " 5,\n",
       " 2,\n",
       " 1,\n",
       " 4,\n",
       " 0,\n",
       " 0,\n",
       " 2,\n",
       " 3,\n",
       " 3,\n",
       " 5,\n",
       " 2,\n",
       " 2,\n",
       " 3,\n",
       " 2,\n",
       " 5,\n",
       " 2,\n",
       " 3,\n",
       " 3,\n",
       " 2,\n",
       " 5,\n",
       " 3,\n",
       " 0,\n",
       " 2,\n",
       " 3,\n",
       " 1,\n",
       " 5,\n",
       " 3,\n",
       " 5,\n",
       " 6,\n",
       " 3,\n",
       " 4,\n",
       " 1,\n",
       " 2,\n",
       " 3,\n",
       " 0,\n",
       " 5,\n",
       " 2,\n",
       " 2,\n",
       " 7,\n",
       " 5,\n",
       " 1,\n",
       " 0,\n",
       " 1,\n",
       " 7,\n",
       " 5,\n",
       " 5,\n",
       " 4,\n",
       " 8,\n",
       " 1,\n",
       " 2,\n",
       " 2,\n",
       " 3,\n",
       " 0,\n",
       " 3,\n",
       " 2,\n",
       " 4,\n",
       " 1,\n",
       " 3,\n",
       " 1,\n",
       " 2,\n",
       " 5,\n",
       " 7,\n",
       " 4,\n",
       " 6,\n",
       " 5,\n",
       " 4,\n",
       " 6,\n",
       " 2,\n",
       " 2,\n",
       " 1,\n",
       " 4,\n",
       " 6,\n",
       " 7,\n",
       " 0,\n",
       " 9,\n",
       " 4,\n",
       " 3,\n",
       " 2,\n",
       " 3,\n",
       " 0,\n",
       " 0,\n",
       " 4,\n",
       " 4,\n",
       " 5,\n",
       " 3,\n",
       " 7,\n",
       " 4,\n",
       " 4,\n",
       " 5,\n",
       " 2,\n",
       " 1,\n",
       " 1,\n",
       " 5,\n",
       " 2,\n",
       " 4,\n",
       " 2,\n",
       " 2,\n",
       " 4,\n",
       " 3,\n",
       " 3,\n",
       " 1,\n",
       " 2,\n",
       " 2,\n",
       " 0,\n",
       " 6,\n",
       " 4,\n",
       " 2,\n",
       " 3,\n",
       " 2,\n",
       " 4,\n",
       " 5,\n",
       " 1,\n",
       " 1,\n",
       " 1,\n",
       " 4,\n",
       " 2,\n",
       " 2,\n",
       " 1,\n",
       " 2,\n",
       " 2,\n",
       " 3,\n",
       " 1,\n",
       " 2,\n",
       " 3,\n",
       " 4,\n",
       " 4,\n",
       " 3,\n",
       " 0,\n",
       " 4,\n",
       " 2,\n",
       " 1,\n",
       " 2,\n",
       " 4,\n",
       " 1,\n",
       " 2,\n",
       " 3,\n",
       " 5,\n",
       " 3,\n",
       " 2,\n",
       " 2,\n",
       " 4,\n",
       " 2,\n",
       " 2,\n",
       " 7,\n",
       " 3,\n",
       " 1,\n",
       " 4,\n",
       " 4,\n",
       " 3,\n",
       " 4,\n",
       " 3,\n",
       " 3,\n",
       " 5,\n",
       " 1,\n",
       " 2,\n",
       " 0,\n",
       " 1,\n",
       " 1,\n",
       " 4,\n",
       " 5,\n",
       " 2,\n",
       " 2,\n",
       " 8,\n",
       " 3,\n",
       " 4,\n",
       " 4,\n",
       " 5,\n",
       " 1,\n",
       " 3,\n",
       " 4,\n",
       " 5,\n",
       " 3,\n",
       " 1,\n",
       " 3,\n",
       " 3,\n",
       " 2,\n",
       " 1,\n",
       " 4,\n",
       " 1,\n",
       " 3,\n",
       " 8,\n",
       " 2,\n",
       " 8,\n",
       " 3,\n",
       " 8,\n",
       " 2,\n",
       " 1,\n",
       " 5,\n",
       " 2,\n",
       " 2,\n",
       " 4,\n",
       " 1,\n",
       " 3,\n",
       " 1,\n",
       " 4,\n",
       " 4,\n",
       " 1,\n",
       " 4,\n",
       " 2,\n",
       " 6,\n",
       " 1,\n",
       " 4,\n",
       " 4,\n",
       " 5,\n",
       " 2,\n",
       " 5,\n",
       " 0,\n",
       " 1,\n",
       " 2,\n",
       " 1,\n",
       " 3,\n",
       " 4,\n",
       " 1,\n",
       " 3,\n",
       " 2,\n",
       " 4,\n",
       " 6,\n",
       " 3,\n",
       " 1,\n",
       " 3,\n",
       " 1,\n",
       " 3,\n",
       " 1,\n",
       " 1,\n",
       " 2,\n",
       " 5,\n",
       " 0,\n",
       " 0,\n",
       " 0,\n",
       " 4,\n",
       " 1,\n",
       " 1,\n",
       " 2,\n",
       " 4,\n",
       " 2,\n",
       " 7,\n",
       " 3,\n",
       " 2,\n",
       " 3,\n",
       " 3,\n",
       " 2,\n",
       " 3,\n",
       " 5,\n",
       " 3,\n",
       " 3,\n",
       " 3,\n",
       " 4,\n",
       " 2,\n",
       " 4,\n",
       " 3,\n",
       " 2,\n",
       " 3,\n",
       " 4,\n",
       " 1,\n",
       " 0,\n",
       " 2,\n",
       " 7,\n",
       " 3,\n",
       " 4,\n",
       " 4,\n",
       " 4,\n",
       " 6,\n",
       " 2,\n",
       " 2,\n",
       " 4,\n",
       " 4,\n",
       " 3,\n",
       " 5,\n",
       " 1,\n",
       " 4,\n",
       " 2,\n",
       " 2,\n",
       " 2,\n",
       " 1,\n",
       " 6,\n",
       " 5,\n",
       " 5,\n",
       " 4,\n",
       " 2,\n",
       " 1,\n",
       " 6,\n",
       " 3,\n",
       " 8,\n",
       " 2,\n",
       " 1,\n",
       " 2,\n",
       " 3,\n",
       " 2,\n",
       " 2,\n",
       " 1,\n",
       " 3,\n",
       " 1,\n",
       " 2,\n",
       " 3,\n",
       " 3,\n",
       " 0,\n",
       " 5,\n",
       " 2,\n",
       " 3,\n",
       " 0,\n",
       " 3,\n",
       " 3,\n",
       " 3,\n",
       " 1,\n",
       " 2,\n",
       " 2,\n",
       " 5,\n",
       " 2,\n",
       " 3,\n",
       " 4,\n",
       " 1,\n",
       " 3,\n",
       " 2,\n",
       " 6,\n",
       " 1,\n",
       " 5,\n",
       " 1,\n",
       " 2,\n",
       " 0,\n",
       " 0,\n",
       " 1,\n",
       " 3,\n",
       " 2,\n",
       " 3,\n",
       " 3,\n",
       " 2,\n",
       " 4,\n",
       " 0,\n",
       " 2,\n",
       " 2,\n",
       " 1,\n",
       " 3,\n",
       " 5,\n",
       " 3,\n",
       " 3,\n",
       " 3,\n",
       " 3,\n",
       " 4,\n",
       " 3,\n",
       " 3,\n",
       " 3,\n",
       " 3,\n",
       " 3,\n",
       " 3,\n",
       " 0,\n",
       " 1,\n",
       " 2,\n",
       " 1,\n",
       " 3,\n",
       " 3,\n",
       " 7,\n",
       " 2,\n",
       " 4,\n",
       " 5,\n",
       " 3,\n",
       " 2,\n",
       " 2,\n",
       " 4,\n",
       " 1,\n",
       " 2,\n",
       " 4,\n",
       " 6,\n",
       " 4,\n",
       " 3,\n",
       " 2,\n",
       " 5,\n",
       " 2,\n",
       " 0,\n",
       " 3,\n",
       " 3,\n",
       " 3,\n",
       " 2,\n",
       " 1,\n",
       " 3,\n",
       " 4,\n",
       " 6,\n",
       " 1,\n",
       " 4,\n",
       " 5,\n",
       " 1,\n",
       " 2,\n",
       " 4,\n",
       " 1,\n",
       " 4,\n",
       " 4,\n",
       " 4,\n",
       " 6,\n",
       " 4,\n",
       " 4,\n",
       " 3,\n",
       " 4,\n",
       " 4,\n",
       " 2,\n",
       " 3,\n",
       " 3,\n",
       " 1,\n",
       " 2,\n",
       " 3,\n",
       " 6,\n",
       " 3,\n",
       " 3,\n",
       " 4,\n",
       " 2,\n",
       " 5,\n",
       " 4,\n",
       " 1,\n",
       " 2,\n",
       " 1,\n",
       " 1,\n",
       " 2,\n",
       " 2,\n",
       " 6,\n",
       " 1,\n",
       " 3,\n",
       " 5,\n",
       " 1,\n",
       " 3,\n",
       " 3,\n",
       " 4,\n",
       " 1,\n",
       " 2,\n",
       " 2,\n",
       " 3,\n",
       " 4,\n",
       " 2,\n",
       " 2,\n",
       " 2,\n",
       " 6,\n",
       " 6,\n",
       " 4,\n",
       " 4,\n",
       " 3,\n",
       " 3,\n",
       " 2,\n",
       " 2,\n",
       " 5,\n",
       " 7,\n",
       " 6,\n",
       " 1,\n",
       " 1,\n",
       " 3,\n",
       " 4,\n",
       " 0,\n",
       " 2,\n",
       " 2,\n",
       " 3,\n",
       " 0,\n",
       " 2,\n",
       " 1,\n",
       " 1,\n",
       " 3,\n",
       " 4,\n",
       " 1,\n",
       " 1,\n",
       " 3,\n",
       " 5,\n",
       " 5,\n",
       " 5,\n",
       " 2,\n",
       " 2,\n",
       " 4,\n",
       " 4,\n",
       " 2,\n",
       " 2,\n",
       " 2,\n",
       " 3,\n",
       " 6,\n",
       " 2,\n",
       " 2,\n",
       " 6,\n",
       " 5,\n",
       " 3,\n",
       " 2,\n",
       " 4,\n",
       " 2,\n",
       " 3,\n",
       " 5,\n",
       " 3,\n",
       " 4,\n",
       " 4,\n",
       " 3,\n",
       " 3,\n",
       " 2,\n",
       " 3,\n",
       " 4,\n",
       " 2,\n",
       " 4,\n",
       " 0,\n",
       " 3,\n",
       " 3,\n",
       " 3,\n",
       " 4,\n",
       " 2,\n",
       " 5,\n",
       " 5,\n",
       " 0,\n",
       " 1,\n",
       " 2,\n",
       " 4,\n",
       " 3,\n",
       " 1,\n",
       " 6,\n",
       " 3,\n",
       " 6,\n",
       " 0,\n",
       " 8,\n",
       " 2,\n",
       " 2,\n",
       " 3,\n",
       " 3,\n",
       " 3,\n",
       " 5,\n",
       " 5,\n",
       " 2,\n",
       " 1,\n",
       " 2,\n",
       " 4,\n",
       " 4,\n",
       " 4,\n",
       " 7,\n",
       " 1,\n",
       " 5,\n",
       " 3,\n",
       " 5,\n",
       " 3,\n",
       " 0,\n",
       " 1,\n",
       " 7,\n",
       " 2,\n",
       " 5,\n",
       " 3,\n",
       " 4,\n",
       " 3,\n",
       " 3,\n",
       " 3,\n",
       " 1,\n",
       " 2,\n",
       " 4,\n",
       " 5,\n",
       " 6,\n",
       " 2,\n",
       " 3,\n",
       " 4,\n",
       " 5,\n",
       " 3,\n",
       " 3,\n",
       " 2,\n",
       " 2,\n",
       " 6,\n",
       " 6,\n",
       " 2,\n",
       " 2,\n",
       " 6,\n",
       " 7,\n",
       " 3,\n",
       " 5,\n",
       " 3,\n",
       " 2,\n",
       " 1,\n",
       " 5,\n",
       " 0,\n",
       " 2,\n",
       " 3,\n",
       " 2,\n",
       " 3,\n",
       " 7,\n",
       " 1,\n",
       " 2,\n",
       " 4,\n",
       " 2,\n",
       " 3,\n",
       " 2,\n",
       " 5,\n",
       " 6,\n",
       " 3,\n",
       " 5,\n",
       " 4,\n",
       " 2,\n",
       " 2,\n",
       " 2,\n",
       " 3,\n",
       " 3,\n",
       " 4,\n",
       " 3,\n",
       " 4,\n",
       " 1,\n",
       " 3,\n",
       " 4,\n",
       " 3,\n",
       " 1,\n",
       " 1,\n",
       " 4,\n",
       " 6,\n",
       " 4,\n",
       " 2,\n",
       " 5,\n",
       " 4,\n",
       " 1,\n",
       " 3,\n",
       " 6,\n",
       " 3,\n",
       " 0,\n",
       " 4,\n",
       " 4,\n",
       " 0,\n",
       " 4,\n",
       " 1,\n",
       " 2,\n",
       " 5,\n",
       " 3,\n",
       " 3,\n",
       " 3,\n",
       " 4,\n",
       " 3,\n",
       " 3,\n",
       " 4,\n",
       " 2,\n",
       " 3,\n",
       " 4,\n",
       " 1,\n",
       " 3,\n",
       " 2,\n",
       " 3,\n",
       " 3,\n",
       " 4,\n",
       " 4,\n",
       " 6,\n",
       " 3,\n",
       " 4,\n",
       " 5,\n",
       " 1,\n",
       " 2,\n",
       " 2,\n",
       " 3,\n",
       " 1,\n",
       " 0,\n",
       " 3,\n",
       " 3,\n",
       " 2,\n",
       " 2,\n",
       " 4,\n",
       " 2,\n",
       " 2,\n",
       " 2,\n",
       " 3,\n",
       " 2,\n",
       " 4,\n",
       " 4,\n",
       " 0,\n",
       " 2,\n",
       " 6,\n",
       " 4,\n",
       " 4,\n",
       " 6,\n",
       " 3,\n",
       " 1,\n",
       " 3,\n",
       " 5,\n",
       " 6,\n",
       " 3,\n",
       " 1,\n",
       " 0,\n",
       " 3,\n",
       " 1,\n",
       " 2,\n",
       " 2,\n",
       " 2,\n",
       " 9,\n",
       " 7,\n",
       " 1,\n",
       " 1,\n",
       " 2,\n",
       " 3,\n",
       " 3,\n",
       " 4,\n",
       " 1,\n",
       " 6,\n",
       " 3,\n",
       " 2,\n",
       " 4,\n",
       " 2,\n",
       " 3,\n",
       " 2,\n",
       " 7,\n",
       " 3,\n",
       " 1,\n",
       " 3,\n",
       " 1,\n",
       " 2,\n",
       " 2,\n",
       " 2,\n",
       " 2,\n",
       " 2,\n",
       " 0,\n",
       " 1,\n",
       " 1,\n",
       " 1,\n",
       " 1,\n",
       " 2,\n",
       " 2,\n",
       " 1,\n",
       " 5,\n",
       " 3,\n",
       " 4,\n",
       " 1,\n",
       " 3,\n",
       " 3,\n",
       " 4,\n",
       " 0,\n",
       " 3,\n",
       " 1,\n",
       " 0,\n",
       " 3,\n",
       " 3,\n",
       " 3,\n",
       " 4,\n",
       " 2,\n",
       " 1,\n",
       " 7,\n",
       " 2,\n",
       " 2,\n",
       " 0,\n",
       " 5,\n",
       " 1,\n",
       " 0,\n",
       " 2,\n",
       " 2,\n",
       " 2,\n",
       " 2,\n",
       " 2,\n",
       " ...]"
      ]
     },
     "execution_count": 28,
     "metadata": {},
     "output_type": "execute_result"
    }
   ],
   "source": [
    "list(data_poisson)"
   ]
  },
  {
   "cell_type": "code",
   "execution_count": 29,
   "id": "ca2421e2",
   "metadata": {},
   "outputs": [
    {
     "data": {
      "text/plain": [
       "<seaborn.axisgrid.FacetGrid at 0x2a14a141d30>"
      ]
     },
     "execution_count": 29,
     "metadata": {},
     "output_type": "execute_result"
    },
    {
     "data": {
      "image/png": "[encoded data removed]",
      "text/plain": [
       "<Figure size 360x360 with 1 Axes>"
      ]
     },
     "metadata": {},
     "output_type": "display_data"
    }
   ],
   "source": [
    "ax = sns.displot(\n",
    "    data = data_poisson,\n",
    "    bins = 30,\n",
    "    kde = True,\n",
    "    color='skyblue',\n",
    "    # hist_kws={'linewidth':15, 'alpha':1}\n",
    ")\n",
    "ax.set(xlabel='Poisson Distribution', ylabel='Frequency')\n"
   ]
  },
  {
   "cell_type": "markdown",
   "id": "a5c6bf68",
   "metadata": {},
   "source": [
    "# Binomial Dsitribution"
   ]
  },
  {
   "cell_type": "markdown",
   "id": "0c058116",
   "metadata": {},
   "source": [
    "Distribusi dimana hanya dua hasil yang mungkin, seperti sukses atau gagal, dan dimana probabilitas keberhasilan dan kegagalan sama untuk semua percobaan. Hasil tidak harus sama kemungkinanya, dan setiap percobaan tidak bergantung satu sama lain. \n",
    "\n",
    "Parameternya n (jumlah total percobaan) dan p (probabilitas keberhasilan pada setiap percobaan)"
   ]
  },
  {
   "cell_type": "code",
   "execution_count": 30,
   "id": "4f09eb80",
   "metadata": {},
   "outputs": [],
   "source": [
    "from scipy.stats import binom\n",
    "data_binom = binom.rvs(n=10, p=0.8, size=10000)"
   ]
  },
  {
   "cell_type": "code",
   "execution_count": 31,
   "id": "48499614",
   "metadata": {},
   "outputs": [
    {
     "data": {
      "text/plain": [
       "array([8, 8, 8, ..., 9, 7, 6])"
      ]
     },
     "execution_count": 31,
     "metadata": {},
     "output_type": "execute_result"
    }
   ],
   "source": [
    "data_binom"
   ]
  },
  {
   "cell_type": "code",
   "execution_count": 32,
   "id": "c6d5b3be",
   "metadata": {},
   "outputs": [
    {
     "data": {
      "text/plain": [
       "<seaborn.axisgrid.FacetGrid at 0x2a149f518b0>"
      ]
     },
     "execution_count": 32,
     "metadata": {},
     "output_type": "execute_result"
    },
    {
     "data": {
      "image/png": "[encoded data removed]",
      "text/plain": [
       "<Figure size 360x360 with 1 Axes>"
      ]
     },
     "metadata": {},
     "output_type": "display_data"
    }
   ],
   "source": [
    "ax = sns.displot(\n",
    "    data = data_binom,\n",
    "    kde = False,\n",
    "    color='skyblue',\n",
    ")\n",
    "ax.set(xlabel='Binomial Distribution', ylabel='Frequency')\n"
   ]
  },
  {
   "cell_type": "code",
   "execution_count": 33,
   "id": "ccc20b94",
   "metadata": {},
   "outputs": [
    {
     "data": {
      "text/plain": [
       "[8,\n",
       " 8,\n",
       " 8,\n",
       " 10,\n",
       " 7,\n",
       " 8,\n",
       " 9,\n",
       " 8,\n",
       " 9,\n",
       " 10,\n",
       " 8,\n",
       " 10,\n",
       " 7,\n",
       " 10,\n",
       " 9,\n",
       " 8,\n",
       " 8,\n",
       " 7,\n",
       " 7,\n",
       " 7,\n",
       " 9,\n",
       " 8,\n",
       " 7,\n",
       " 6,\n",
       " 7,\n",
       " 8,\n",
       " 9,\n",
       " 10,\n",
       " 6,\n",
       " 8,\n",
       " 8,\n",
       " 7,\n",
       " 8,\n",
       " 9,\n",
       " 8,\n",
       " 7,\n",
       " 9,\n",
       " 9,\n",
       " 6,\n",
       " 7,\n",
       " 9,\n",
       " 8,\n",
       " 6,\n",
       " 8,\n",
       " 8,\n",
       " 9,\n",
       " 8,\n",
       " 9,\n",
       " 6,\n",
       " 8,\n",
       " 8,\n",
       " 7,\n",
       " 8,\n",
       " 10,\n",
       " 9,\n",
       " 9,\n",
       " 9,\n",
       " 7,\n",
       " 9,\n",
       " 10,\n",
       " 8,\n",
       " 8,\n",
       " 9,\n",
       " 8,\n",
       " 9,\n",
       " 7,\n",
       " 8,\n",
       " 9,\n",
       " 8,\n",
       " 9,\n",
       " 7,\n",
       " 10,\n",
       " 9,\n",
       " 9,\n",
       " 8,\n",
       " 9,\n",
       " 8,\n",
       " 8,\n",
       " 7,\n",
       " 7,\n",
       " 7,\n",
       " 7,\n",
       " 9,\n",
       " 10,\n",
       " 6,\n",
       " 6,\n",
       " 9,\n",
       " 8,\n",
       " 6,\n",
       " 9,\n",
       " 10,\n",
       " 9,\n",
       " 7,\n",
       " 6,\n",
       " 9,\n",
       " 10,\n",
       " 7,\n",
       " 8,\n",
       " 9,\n",
       " 9,\n",
       " 7,\n",
       " 8,\n",
       " 7,\n",
       " 8,\n",
       " 8,\n",
       " 8,\n",
       " 9,\n",
       " 9,\n",
       " 7,\n",
       " 7,\n",
       " 9,\n",
       " 9,\n",
       " 9,\n",
       " 6,\n",
       " 5,\n",
       " 7,\n",
       " 9,\n",
       " 9,\n",
       " 6,\n",
       " 9,\n",
       " 10,\n",
       " 7,\n",
       " 6,\n",
       " 9,\n",
       " 9,\n",
       " 9,\n",
       " 8,\n",
       " 8,\n",
       " 7,\n",
       " 9,\n",
       " 4,\n",
       " 8,\n",
       " 9,\n",
       " 8,\n",
       " 6,\n",
       " 6,\n",
       " 7,\n",
       " 6,\n",
       " 5,\n",
       " 9,\n",
       " 8,\n",
       " 7,\n",
       " 9,\n",
       " 8,\n",
       " 7,\n",
       " 8,\n",
       " 7,\n",
       " 9,\n",
       " 8,\n",
       " 8,\n",
       " 9,\n",
       " 6,\n",
       " 7,\n",
       " 7,\n",
       " 7,\n",
       " 6,\n",
       " 9,\n",
       " 8,\n",
       " 8,\n",
       " 7,\n",
       " 8,\n",
       " 9,\n",
       " 8,\n",
       " 7,\n",
       " 8,\n",
       " 8,\n",
       " 8,\n",
       " 8,\n",
       " 7,\n",
       " 5,\n",
       " 10,\n",
       " 9,\n",
       " 9,\n",
       " 7,\n",
       " 9,\n",
       " 10,\n",
       " 9,\n",
       " 10,\n",
       " 5,\n",
       " 8,\n",
       " 9,\n",
       " 10,\n",
       " 9,\n",
       " 7,\n",
       " 6,\n",
       " 7,\n",
       " 9,\n",
       " 7,\n",
       " 7,\n",
       " 9,\n",
       " 9,\n",
       " 9,\n",
       " 5,\n",
       " 8,\n",
       " 9,\n",
       " 6,\n",
       " 8,\n",
       " 8,\n",
       " 7,\n",
       " 9,\n",
       " 8,\n",
       " 8,\n",
       " 8,\n",
       " 10,\n",
       " 7,\n",
       " 5,\n",
       " 6,\n",
       " 9,\n",
       " 7,\n",
       " 10,\n",
       " 8,\n",
       " 9,\n",
       " 10,\n",
       " 7,\n",
       " 9,\n",
       " 9,\n",
       " 10,\n",
       " 7,\n",
       " 8,\n",
       " 9,\n",
       " 7,\n",
       " 8,\n",
       " 10,\n",
       " 9,\n",
       " 8,\n",
       " 10,\n",
       " 8,\n",
       " 6,\n",
       " 7,\n",
       " 8,\n",
       " 9,\n",
       " 8,\n",
       " 9,\n",
       " 9,\n",
       " 7,\n",
       " 9,\n",
       " 7,\n",
       " 8,\n",
       " 9,\n",
       " 8,\n",
       " 7,\n",
       " 7,\n",
       " 9,\n",
       " 9,\n",
       " 8,\n",
       " 8,\n",
       " 7,\n",
       " 8,\n",
       " 9,\n",
       " 8,\n",
       " 9,\n",
       " 8,\n",
       " 9,\n",
       " 8,\n",
       " 9,\n",
       " 6,\n",
       " 7,\n",
       " 9,\n",
       " 9,\n",
       " 8,\n",
       " 8,\n",
       " 7,\n",
       " 9,\n",
       " 9,\n",
       " 7,\n",
       " 7,\n",
       " 7,\n",
       " 9,\n",
       " 7,\n",
       " 7,\n",
       " 10,\n",
       " 6,\n",
       " 8,\n",
       " 8,\n",
       " 8,\n",
       " 7,\n",
       " 7,\n",
       " 9,\n",
       " 6,\n",
       " 7,\n",
       " 8,\n",
       " 9,\n",
       " 8,\n",
       " 8,\n",
       " 7,\n",
       " 8,\n",
       " 8,\n",
       " 9,\n",
       " 8,\n",
       " 10,\n",
       " 8,\n",
       " 10,\n",
       " 8,\n",
       " 9,\n",
       " 7,\n",
       " 8,\n",
       " 8,\n",
       " 7,\n",
       " 9,\n",
       " 9,\n",
       " 8,\n",
       " 8,\n",
       " 8,\n",
       " 8,\n",
       " 8,\n",
       " 8,\n",
       " 5,\n",
       " 8,\n",
       " 8,\n",
       " 10,\n",
       " 8,\n",
       " 8,\n",
       " 8,\n",
       " 8,\n",
       " 7,\n",
       " 8,\n",
       " 10,\n",
       " 7,\n",
       " 9,\n",
       " 9,\n",
       " 8,\n",
       " 5,\n",
       " 8,\n",
       " 9,\n",
       " 5,\n",
       " 10,\n",
       " 9,\n",
       " 9,\n",
       " 9,\n",
       " 6,\n",
       " 8,\n",
       " 8,\n",
       " 9,\n",
       " 8,\n",
       " 10,\n",
       " 8,\n",
       " 7,\n",
       " 8,\n",
       " 8,\n",
       " 8,\n",
       " 6,\n",
       " 8,\n",
       " 7,\n",
       " 8,\n",
       " 6,\n",
       " 10,\n",
       " 10,\n",
       " 8,\n",
       " 5,\n",
       " 9,\n",
       " 6,\n",
       " 8,\n",
       " 7,\n",
       " 8,\n",
       " 8,\n",
       " 8,\n",
       " 8,\n",
       " 8,\n",
       " 8,\n",
       " 8,\n",
       " 6,\n",
       " 8,\n",
       " 8,\n",
       " 7,\n",
       " 8,\n",
       " 9,\n",
       " 7,\n",
       " 5,\n",
       " 7,\n",
       " 9,\n",
       " 9,\n",
       " 10,\n",
       " 5,\n",
       " 7,\n",
       " 8,\n",
       " 8,\n",
       " 8,\n",
       " 9,\n",
       " 9,\n",
       " 7,\n",
       " 8,\n",
       " 6,\n",
       " 8,\n",
       " 9,\n",
       " 10,\n",
       " 7,\n",
       " 6,\n",
       " 5,\n",
       " 9,\n",
       " 8,\n",
       " 7,\n",
       " 7,\n",
       " 8,\n",
       " 9,\n",
       " 8,\n",
       " 8,\n",
       " 10,\n",
       " 10,\n",
       " 6,\n",
       " 7,\n",
       " 8,\n",
       " 9,\n",
       " 9,\n",
       " 7,\n",
       " 7,\n",
       " 7,\n",
       " 10,\n",
       " 8,\n",
       " 7,\n",
       " 8,\n",
       " 9,\n",
       " 7,\n",
       " 10,\n",
       " 8,\n",
       " 8,\n",
       " 9,\n",
       " 10,\n",
       " 10,\n",
       " 8,\n",
       " 8,\n",
       " 8,\n",
       " 8,\n",
       " 5,\n",
       " 10,\n",
       " 7,\n",
       " 9,\n",
       " 8,\n",
       " 7,\n",
       " 6,\n",
       " 9,\n",
       " 9,\n",
       " 8,\n",
       " 8,\n",
       " 8,\n",
       " 9,\n",
       " 6,\n",
       " 9,\n",
       " 6,\n",
       " 9,\n",
       " 6,\n",
       " 5,\n",
       " 10,\n",
       " 7,\n",
       " 10,\n",
       " 9,\n",
       " 6,\n",
       " 8,\n",
       " 9,\n",
       " 7,\n",
       " 10,\n",
       " 9,\n",
       " 7,\n",
       " 9,\n",
       " 10,\n",
       " 10,\n",
       " 6,\n",
       " 9,\n",
       " 10,\n",
       " 7,\n",
       " 8,\n",
       " 9,\n",
       " 7,\n",
       " 7,\n",
       " 9,\n",
       " 8,\n",
       " 7,\n",
       " 9,\n",
       " 6,\n",
       " 9,\n",
       " 10,\n",
       " 7,\n",
       " 9,\n",
       " 6,\n",
       " 9,\n",
       " 9,\n",
       " 8,\n",
       " 10,\n",
       " 7,\n",
       " 9,\n",
       " 9,\n",
       " 10,\n",
       " 8,\n",
       " 8,\n",
       " 8,\n",
       " 7,\n",
       " 9,\n",
       " 6,\n",
       " 4,\n",
       " 8,\n",
       " 8,\n",
       " 8,\n",
       " 9,\n",
       " 8,\n",
       " 7,\n",
       " 8,\n",
       " 10,\n",
       " 9,\n",
       " 8,\n",
       " 7,\n",
       " 8,\n",
       " 9,\n",
       " 8,\n",
       " 9,\n",
       " 6,\n",
       " 9,\n",
       " 9,\n",
       " 9,\n",
       " 5,\n",
       " 8,\n",
       " 7,\n",
       " 7,\n",
       " 8,\n",
       " 9,\n",
       " 6,\n",
       " 7,\n",
       " 10,\n",
       " 9,\n",
       " 9,\n",
       " 9,\n",
       " 6,\n",
       " 10,\n",
       " 10,\n",
       " 9,\n",
       " 9,\n",
       " 8,\n",
       " 5,\n",
       " 8,\n",
       " 7,\n",
       " 9,\n",
       " 8,\n",
       " 9,\n",
       " 9,\n",
       " 6,\n",
       " 6,\n",
       " 9,\n",
       " 7,\n",
       " 7,\n",
       " 10,\n",
       " 9,\n",
       " 6,\n",
       " 9,\n",
       " 6,\n",
       " 8,\n",
       " 10,\n",
       " 6,\n",
       " 8,\n",
       " 6,\n",
       " 9,\n",
       " 9,\n",
       " 7,\n",
       " 10,\n",
       " 7,\n",
       " 9,\n",
       " 8,\n",
       " 10,\n",
       " 8,\n",
       " 8,\n",
       " 10,\n",
       " 8,\n",
       " 9,\n",
       " 9,\n",
       " 10,\n",
       " 8,\n",
       " 6,\n",
       " 7,\n",
       " 7,\n",
       " 9,\n",
       " 7,\n",
       " 8,\n",
       " 9,\n",
       " 8,\n",
       " 8,\n",
       " 7,\n",
       " 9,\n",
       " 10,\n",
       " 8,\n",
       " 8,\n",
       " 9,\n",
       " 8,\n",
       " 9,\n",
       " 10,\n",
       " 9,\n",
       " 7,\n",
       " 6,\n",
       " 9,\n",
       " 10,\n",
       " 10,\n",
       " 6,\n",
       " 9,\n",
       " 9,\n",
       " 9,\n",
       " 9,\n",
       " 8,\n",
       " 9,\n",
       " 9,\n",
       " 9,\n",
       " 8,\n",
       " 9,\n",
       " 7,\n",
       " 8,\n",
       " 7,\n",
       " 10,\n",
       " 10,\n",
       " 7,\n",
       " 8,\n",
       " 8,\n",
       " 7,\n",
       " 8,\n",
       " 9,\n",
       " 6,\n",
       " 6,\n",
       " 6,\n",
       " 6,\n",
       " 6,\n",
       " 7,\n",
       " 8,\n",
       " 9,\n",
       " 6,\n",
       " 8,\n",
       " 10,\n",
       " 6,\n",
       " 9,\n",
       " 8,\n",
       " 8,\n",
       " 9,\n",
       " 8,\n",
       " 10,\n",
       " 8,\n",
       " 7,\n",
       " 7,\n",
       " 9,\n",
       " 8,\n",
       " 8,\n",
       " 7,\n",
       " 8,\n",
       " 7,\n",
       " 7,\n",
       " 8,\n",
       " 7,\n",
       " 9,\n",
       " 8,\n",
       " 7,\n",
       " 8,\n",
       " 5,\n",
       " 9,\n",
       " 9,\n",
       " 8,\n",
       " 9,\n",
       " 7,\n",
       " 7,\n",
       " 8,\n",
       " 9,\n",
       " 7,\n",
       " 7,\n",
       " 9,\n",
       " 8,\n",
       " 7,\n",
       " 5,\n",
       " 9,\n",
       " 9,\n",
       " 7,\n",
       " 6,\n",
       " 7,\n",
       " 9,\n",
       " 10,\n",
       " 8,\n",
       " 8,\n",
       " 8,\n",
       " 7,\n",
       " 9,\n",
       " 8,\n",
       " 8,\n",
       " 8,\n",
       " 8,\n",
       " 8,\n",
       " 8,\n",
       " 8,\n",
       " 9,\n",
       " 10,\n",
       " 6,\n",
       " 10,\n",
       " 8,\n",
       " 9,\n",
       " 6,\n",
       " 7,\n",
       " 8,\n",
       " 9,\n",
       " 8,\n",
       " 7,\n",
       " 8,\n",
       " 8,\n",
       " 7,\n",
       " 7,\n",
       " 8,\n",
       " 7,\n",
       " 7,\n",
       " 7,\n",
       " 6,\n",
       " 5,\n",
       " 8,\n",
       " 10,\n",
       " 9,\n",
       " 8,\n",
       " 7,\n",
       " 9,\n",
       " 8,\n",
       " 9,\n",
       " 8,\n",
       " 9,\n",
       " 8,\n",
       " 5,\n",
       " 8,\n",
       " 9,\n",
       " 10,\n",
       " 9,\n",
       " 9,\n",
       " 8,\n",
       " 9,\n",
       " 8,\n",
       " 8,\n",
       " 7,\n",
       " 9,\n",
       " 8,\n",
       " 7,\n",
       " 10,\n",
       " 9,\n",
       " 6,\n",
       " 9,\n",
       " 5,\n",
       " 6,\n",
       " 9,\n",
       " 7,\n",
       " 8,\n",
       " 9,\n",
       " 8,\n",
       " 8,\n",
       " 10,\n",
       " 8,\n",
       " 5,\n",
       " 8,\n",
       " 8,\n",
       " 7,\n",
       " 8,\n",
       " 8,\n",
       " 6,\n",
       " 8,\n",
       " 10,\n",
       " 7,\n",
       " 9,\n",
       " 8,\n",
       " 8,\n",
       " 10,\n",
       " 8,\n",
       " 7,\n",
       " 7,\n",
       " 8,\n",
       " 8,\n",
       " 9,\n",
       " 10,\n",
       " 10,\n",
       " 6,\n",
       " 9,\n",
       " 10,\n",
       " 6,\n",
       " 10,\n",
       " 10,\n",
       " 9,\n",
       " 8,\n",
       " 6,\n",
       " 6,\n",
       " 9,\n",
       " 7,\n",
       " 7,\n",
       " 9,\n",
       " 8,\n",
       " 6,\n",
       " 9,\n",
       " 10,\n",
       " 9,\n",
       " 9,\n",
       " 6,\n",
       " 9,\n",
       " 8,\n",
       " 8,\n",
       " 8,\n",
       " 9,\n",
       " 8,\n",
       " 8,\n",
       " 4,\n",
       " 8,\n",
       " 9,\n",
       " 7,\n",
       " 8,\n",
       " 8,\n",
       " 8,\n",
       " 10,\n",
       " 9,\n",
       " 8,\n",
       " 6,\n",
       " 9,\n",
       " 9,\n",
       " 7,\n",
       " 8,\n",
       " 8,\n",
       " 5,\n",
       " 7,\n",
       " 7,\n",
       " 10,\n",
       " 8,\n",
       " 10,\n",
       " 10,\n",
       " 9,\n",
       " 8,\n",
       " 10,\n",
       " 8,\n",
       " 6,\n",
       " 10,\n",
       " 7,\n",
       " 10,\n",
       " 8,\n",
       " 6,\n",
       " 8,\n",
       " 9,\n",
       " 7,\n",
       " 8,\n",
       " 9,\n",
       " 8,\n",
       " 8,\n",
       " 9,\n",
       " 7,\n",
       " 10,\n",
       " 8,\n",
       " 6,\n",
       " 8,\n",
       " 8,\n",
       " 9,\n",
       " 6,\n",
       " 9,\n",
       " 9,\n",
       " 9,\n",
       " 8,\n",
       " 9,\n",
       " 9,\n",
       " 9,\n",
       " 9,\n",
       " 9,\n",
       " 10,\n",
       " 8,\n",
       " 8,\n",
       " 8,\n",
       " 8,\n",
       " 8,\n",
       " 9,\n",
       " 9,\n",
       " 10,\n",
       " 3,\n",
       " 9,\n",
       " 9,\n",
       " 8,\n",
       " 8,\n",
       " 8,\n",
       " 9,\n",
       " 10,\n",
       " 9,\n",
       " 7,\n",
       " 10,\n",
       " 8,\n",
       " 7,\n",
       " 8,\n",
       " 5,\n",
       " 8,\n",
       " 9,\n",
       " 9,\n",
       " 8,\n",
       " 8,\n",
       " 9,\n",
       " 8,\n",
       " 8,\n",
       " 8,\n",
       " 8,\n",
       " 6,\n",
       " 8,\n",
       " 8,\n",
       " 10,\n",
       " 7,\n",
       " 9,\n",
       " 8,\n",
       " 8,\n",
       " 8,\n",
       " 9,\n",
       " 10,\n",
       " 9,\n",
       " 8,\n",
       " 8,\n",
       " 8,\n",
       " 10,\n",
       " 10,\n",
       " 8,\n",
       " 8,\n",
       " 7,\n",
       " 10,\n",
       " 6,\n",
       " 8,\n",
       " 8,\n",
       " 8,\n",
       " 6,\n",
       " 6,\n",
       " 8,\n",
       " 9,\n",
       " 9,\n",
       " 8,\n",
       " 10,\n",
       " 6,\n",
       " 6,\n",
       " 8,\n",
       " 9,\n",
       " 10,\n",
       " 8,\n",
       " 8,\n",
       " 10,\n",
       " 7,\n",
       " 7,\n",
       " 7,\n",
       " 7,\n",
       " 6,\n",
       " 7,\n",
       " 8,\n",
       " 9,\n",
       " 8,\n",
       " 6,\n",
       " 8,\n",
       " 9,\n",
       " 7,\n",
       " 7,\n",
       " 8,\n",
       " 8,\n",
       " 8,\n",
       " 9,\n",
       " 8,\n",
       " 6,\n",
       " 8,\n",
       " 8,\n",
       " 9,\n",
       " 10,\n",
       " 8,\n",
       " 10,\n",
       " 8,\n",
       " 8,\n",
       " 8,\n",
       " 6,\n",
       " 8,\n",
       " 9,\n",
       " 7,\n",
       " 8,\n",
       " 9,\n",
       " 8,\n",
       " 9,\n",
       " 9,\n",
       " 8,\n",
       " 8,\n",
       " 8,\n",
       " 10,\n",
       " 7,\n",
       " 9,\n",
       " 8,\n",
       " 7,\n",
       " 9,\n",
       " 5,\n",
       " 7,\n",
       " 7,\n",
       " 10,\n",
       " 8,\n",
       " 8,\n",
       " 9,\n",
       " 10,\n",
       " 10,\n",
       " 7,\n",
       " 8,\n",
       " 9,\n",
       " 7,\n",
       " 7,\n",
       " 10,\n",
       " 6,\n",
       " 7,\n",
       " 8,\n",
       " 7,\n",
       " 8,\n",
       " 9,\n",
       " 7,\n",
       " 9,\n",
       " 9,\n",
       " 7,\n",
       " 7,\n",
       " 10,\n",
       " 9,\n",
       " 9,\n",
       " 7,\n",
       " 7,\n",
       " 7,\n",
       " 7,\n",
       " ...]"
      ]
     },
     "execution_count": 33,
     "metadata": {},
     "output_type": "execute_result"
    }
   ],
   "source": [
    "list(data_binom)"
   ]
  },
  {
   "cell_type": "markdown",
   "id": "98009ab7",
   "metadata": {},
   "source": [
    "# Bernoulli distrbution"
   ]
  },
  {
   "cell_type": "markdown",
   "id": "0b4d18a0",
   "metadata": {},
   "source": [
    "Bernoulli distribution hanya memiliki dua kemungkinan hasil, yaitu 1 (berhasil) dan 0 (gagal) dan dalam sekali percobaan. misalnya lemparan koin"
   ]
  },
  {
   "cell_type": "code",
   "execution_count": 34,
   "id": "900a1c16",
   "metadata": {},
   "outputs": [],
   "source": [
    "from scipy.stats import bernoulli\n",
    "\n",
    "data_bern = bernoulli.rvs(size=10000, p=0.6)"
   ]
  },
  {
   "cell_type": "code",
   "execution_count": 35,
   "id": "6023fa7b",
   "metadata": {},
   "outputs": [
    {
     "data": {
      "text/plain": [
       "<seaborn.axisgrid.FacetGrid at 0x2a14a1fc7c0>"
      ]
     },
     "execution_count": 35,
     "metadata": {},
     "output_type": "execute_result"
    },
    {
     "data": {
      "image/png": "[encoded data removed]",
      "text/plain": [
       "<Figure size 360x360 with 1 Axes>"
      ]
     },
     "metadata": {},
     "output_type": "display_data"
    }
   ],
   "source": [
    "ax = sns.displot(\n",
    "    data = data_bern,\n",
    "    kde = False,\n",
    "    color='skyblue',\n",
    ")\n",
    "ax.set(xlabel='Bernoulli Distribution', ylabel='Frequency')\n"
   ]
  },
  {
   "cell_type": "markdown",
   "id": "9491517c",
   "metadata": {},
   "source": [
    "# Confidence Intervals"
   ]
  },
  {
   "cell_type": "markdown",
   "id": "a9408f56",
   "metadata": {},
   "source": [
    "Intinya : Seberapa yakin sampel kita menentukan populasi. Paling tinggi 80%-90%. "
   ]
  },
  {
   "cell_type": "markdown",
   "id": "4475bda0",
   "metadata": {},
   "source": [
    "## CI for the population Proportion in Python"
   ]
  },
  {
   "cell_type": "code",
   "execution_count": 36,
   "id": "411e2cae",
   "metadata": {},
   "outputs": [
    {
     "data": {
      "text/html": [
       "<div>\n",
       "<style scoped>\n",
       "    .dataframe tbody tr th:only-of-type {\n",
       "        vertical-align: middle;\n",
       "    }\n",
       "\n",
       "    .dataframe tbody tr th {\n",
       "        vertical-align: top;\n",
       "    }\n",
       "\n",
       "    .dataframe thead th {\n",
       "        text-align: right;\n",
       "    }\n",
       "</style>\n",
       "<table border=\"1\" class=\"dataframe\">\n",
       "  <thead>\n",
       "    <tr style=\"text-align: right;\">\n",
       "      <th></th>\n",
       "      <th>age</th>\n",
       "      <th>sex</th>\n",
       "      <th>cp</th>\n",
       "      <th>trestbps</th>\n",
       "      <th>chol</th>\n",
       "      <th>fbs</th>\n",
       "      <th>restecg</th>\n",
       "      <th>thalach</th>\n",
       "      <th>exang</th>\n",
       "      <th>oldpeak</th>\n",
       "      <th>slope</th>\n",
       "      <th>ca</th>\n",
       "      <th>thal</th>\n",
       "      <th>target</th>\n",
       "    </tr>\n",
       "  </thead>\n",
       "  <tbody>\n",
       "    <tr>\n",
       "      <th>0</th>\n",
       "      <td>52</td>\n",
       "      <td>1</td>\n",
       "      <td>0</td>\n",
       "      <td>125</td>\n",
       "      <td>212</td>\n",
       "      <td>0</td>\n",
       "      <td>1</td>\n",
       "      <td>168</td>\n",
       "      <td>0</td>\n",
       "      <td>1.0</td>\n",
       "      <td>2</td>\n",
       "      <td>2</td>\n",
       "      <td>3</td>\n",
       "      <td>0</td>\n",
       "    </tr>\n",
       "    <tr>\n",
       "      <th>1</th>\n",
       "      <td>53</td>\n",
       "      <td>1</td>\n",
       "      <td>0</td>\n",
       "      <td>140</td>\n",
       "      <td>203</td>\n",
       "      <td>1</td>\n",
       "      <td>0</td>\n",
       "      <td>155</td>\n",
       "      <td>1</td>\n",
       "      <td>3.1</td>\n",
       "      <td>0</td>\n",
       "      <td>0</td>\n",
       "      <td>3</td>\n",
       "      <td>0</td>\n",
       "    </tr>\n",
       "    <tr>\n",
       "      <th>2</th>\n",
       "      <td>70</td>\n",
       "      <td>1</td>\n",
       "      <td>0</td>\n",
       "      <td>145</td>\n",
       "      <td>174</td>\n",
       "      <td>0</td>\n",
       "      <td>1</td>\n",
       "      <td>125</td>\n",
       "      <td>1</td>\n",
       "      <td>2.6</td>\n",
       "      <td>0</td>\n",
       "      <td>0</td>\n",
       "      <td>3</td>\n",
       "      <td>0</td>\n",
       "    </tr>\n",
       "    <tr>\n",
       "      <th>3</th>\n",
       "      <td>61</td>\n",
       "      <td>1</td>\n",
       "      <td>0</td>\n",
       "      <td>148</td>\n",
       "      <td>203</td>\n",
       "      <td>0</td>\n",
       "      <td>1</td>\n",
       "      <td>161</td>\n",
       "      <td>0</td>\n",
       "      <td>0.0</td>\n",
       "      <td>2</td>\n",
       "      <td>1</td>\n",
       "      <td>3</td>\n",
       "      <td>0</td>\n",
       "    </tr>\n",
       "    <tr>\n",
       "      <th>4</th>\n",
       "      <td>62</td>\n",
       "      <td>0</td>\n",
       "      <td>0</td>\n",
       "      <td>138</td>\n",
       "      <td>294</td>\n",
       "      <td>1</td>\n",
       "      <td>1</td>\n",
       "      <td>106</td>\n",
       "      <td>0</td>\n",
       "      <td>1.9</td>\n",
       "      <td>1</td>\n",
       "      <td>3</td>\n",
       "      <td>2</td>\n",
       "      <td>0</td>\n",
       "    </tr>\n",
       "    <tr>\n",
       "      <th>...</th>\n",
       "      <td>...</td>\n",
       "      <td>...</td>\n",
       "      <td>...</td>\n",
       "      <td>...</td>\n",
       "      <td>...</td>\n",
       "      <td>...</td>\n",
       "      <td>...</td>\n",
       "      <td>...</td>\n",
       "      <td>...</td>\n",
       "      <td>...</td>\n",
       "      <td>...</td>\n",
       "      <td>...</td>\n",
       "      <td>...</td>\n",
       "      <td>...</td>\n",
       "    </tr>\n",
       "    <tr>\n",
       "      <th>1020</th>\n",
       "      <td>59</td>\n",
       "      <td>1</td>\n",
       "      <td>1</td>\n",
       "      <td>140</td>\n",
       "      <td>221</td>\n",
       "      <td>0</td>\n",
       "      <td>1</td>\n",
       "      <td>164</td>\n",
       "      <td>1</td>\n",
       "      <td>0.0</td>\n",
       "      <td>2</td>\n",
       "      <td>0</td>\n",
       "      <td>2</td>\n",
       "      <td>1</td>\n",
       "    </tr>\n",
       "    <tr>\n",
       "      <th>1021</th>\n",
       "      <td>60</td>\n",
       "      <td>1</td>\n",
       "      <td>0</td>\n",
       "      <td>125</td>\n",
       "      <td>258</td>\n",
       "      <td>0</td>\n",
       "      <td>0</td>\n",
       "      <td>141</td>\n",
       "      <td>1</td>\n",
       "      <td>2.8</td>\n",
       "      <td>1</td>\n",
       "      <td>1</td>\n",
       "      <td>3</td>\n",
       "      <td>0</td>\n",
       "    </tr>\n",
       "    <tr>\n",
       "      <th>1022</th>\n",
       "      <td>47</td>\n",
       "      <td>1</td>\n",
       "      <td>0</td>\n",
       "      <td>110</td>\n",
       "      <td>275</td>\n",
       "      <td>0</td>\n",
       "      <td>0</td>\n",
       "      <td>118</td>\n",
       "      <td>1</td>\n",
       "      <td>1.0</td>\n",
       "      <td>1</td>\n",
       "      <td>1</td>\n",
       "      <td>2</td>\n",
       "      <td>0</td>\n",
       "    </tr>\n",
       "    <tr>\n",
       "      <th>1023</th>\n",
       "      <td>50</td>\n",
       "      <td>0</td>\n",
       "      <td>0</td>\n",
       "      <td>110</td>\n",
       "      <td>254</td>\n",
       "      <td>0</td>\n",
       "      <td>0</td>\n",
       "      <td>159</td>\n",
       "      <td>0</td>\n",
       "      <td>0.0</td>\n",
       "      <td>2</td>\n",
       "      <td>0</td>\n",
       "      <td>2</td>\n",
       "      <td>1</td>\n",
       "    </tr>\n",
       "    <tr>\n",
       "      <th>1024</th>\n",
       "      <td>54</td>\n",
       "      <td>1</td>\n",
       "      <td>0</td>\n",
       "      <td>120</td>\n",
       "      <td>188</td>\n",
       "      <td>0</td>\n",
       "      <td>1</td>\n",
       "      <td>113</td>\n",
       "      <td>0</td>\n",
       "      <td>1.4</td>\n",
       "      <td>1</td>\n",
       "      <td>1</td>\n",
       "      <td>3</td>\n",
       "      <td>0</td>\n",
       "    </tr>\n",
       "  </tbody>\n",
       "</table>\n",
       "<p>1025 rows × 14 columns</p>\n",
       "</div>"
      ],
      "text/plain": [
       "      age  sex  cp  trestbps  chol  fbs  restecg  thalach  exang  oldpeak  \\\n",
       "0      52    1   0       125   212    0        1      168      0      1.0   \n",
       "1      53    1   0       140   203    1        0      155      1      3.1   \n",
       "2      70    1   0       145   174    0        1      125      1      2.6   \n",
       "3      61    1   0       148   203    0        1      161      0      0.0   \n",
       "4      62    0   0       138   294    1        1      106      0      1.9   \n",
       "...   ...  ...  ..       ...   ...  ...      ...      ...    ...      ...   \n",
       "1020   59    1   1       140   221    0        1      164      1      0.0   \n",
       "1021   60    1   0       125   258    0        0      141      1      2.8   \n",
       "1022   47    1   0       110   275    0        0      118      1      1.0   \n",
       "1023   50    0   0       110   254    0        0      159      0      0.0   \n",
       "1024   54    1   0       120   188    0        1      113      0      1.4   \n",
       "\n",
       "      slope  ca  thal  target  \n",
       "0         2   2     3       0  \n",
       "1         0   0     3       0  \n",
       "2         0   0     3       0  \n",
       "3         2   1     3       0  \n",
       "4         1   3     2       0  \n",
       "...     ...  ..   ...     ...  \n",
       "1020      2   0     2       1  \n",
       "1021      1   1     3       0  \n",
       "1022      1   1     2       0  \n",
       "1023      2   0     2       1  \n",
       "1024      1   1     3       0  \n",
       "\n",
       "[1025 rows x 14 columns]"
      ]
     },
     "execution_count": 36,
     "metadata": {},
     "output_type": "execute_result"
    }
   ],
   "source": [
    "import pandas as pd\n",
    "import numpy as np\n",
    "df = pd.read_csv('Data/heart.csv')\n",
    "df"
   ]
  },
  {
   "cell_type": "markdown",
   "id": "90cda619",
   "metadata": {},
   "source": [
    "Kolom terakhir yaitu 'target' menandakan jika seseorang menderita penyakit jantung/tidak"
   ]
  },
  {
   "cell_type": "markdown",
   "id": "0e33c300",
   "metadata": {},
   "source": [
    "**We are going to construct a CI for the female population proportion that has heart disease**"
   ]
  },
  {
   "cell_type": "markdown",
   "id": "84f158b2",
   "metadata": {},
   "source": [
    "Pertama, ganti 1 dan 0 menajdi pria dan wanita di kolom baru \"Sex1\""
   ]
  },
  {
   "cell_type": "code",
   "execution_count": 37,
   "id": "d98145d3",
   "metadata": {},
   "outputs": [],
   "source": [
    "df['Sex1']= df.sex.replace({1:\"Male\", 0:\"Female\"})"
   ]
  },
  {
   "cell_type": "markdown",
   "id": "a1bb65c2",
   "metadata": {},
   "source": [
    "Buat dataframe dengan dua kolom ini dan drop semua nilai null"
   ]
  },
  {
   "cell_type": "code",
   "execution_count": 38,
   "id": "7d8ebea1",
   "metadata": {},
   "outputs": [
    {
     "data": {
      "text/html": [
       "<div>\n",
       "<style scoped>\n",
       "    .dataframe tbody tr th:only-of-type {\n",
       "        vertical-align: middle;\n",
       "    }\n",
       "\n",
       "    .dataframe tbody tr th {\n",
       "        vertical-align: top;\n",
       "    }\n",
       "\n",
       "    .dataframe thead th {\n",
       "        text-align: right;\n",
       "    }\n",
       "</style>\n",
       "<table border=\"1\" class=\"dataframe\">\n",
       "  <thead>\n",
       "    <tr style=\"text-align: right;\">\n",
       "      <th></th>\n",
       "      <th>target</th>\n",
       "      <th>Sex1</th>\n",
       "    </tr>\n",
       "  </thead>\n",
       "  <tbody>\n",
       "    <tr>\n",
       "      <th>0</th>\n",
       "      <td>0</td>\n",
       "      <td>Male</td>\n",
       "    </tr>\n",
       "    <tr>\n",
       "      <th>1</th>\n",
       "      <td>0</td>\n",
       "      <td>Male</td>\n",
       "    </tr>\n",
       "    <tr>\n",
       "      <th>2</th>\n",
       "      <td>0</td>\n",
       "      <td>Male</td>\n",
       "    </tr>\n",
       "    <tr>\n",
       "      <th>3</th>\n",
       "      <td>0</td>\n",
       "      <td>Male</td>\n",
       "    </tr>\n",
       "    <tr>\n",
       "      <th>4</th>\n",
       "      <td>0</td>\n",
       "      <td>Female</td>\n",
       "    </tr>\n",
       "    <tr>\n",
       "      <th>...</th>\n",
       "      <td>...</td>\n",
       "      <td>...</td>\n",
       "    </tr>\n",
       "    <tr>\n",
       "      <th>1020</th>\n",
       "      <td>1</td>\n",
       "      <td>Male</td>\n",
       "    </tr>\n",
       "    <tr>\n",
       "      <th>1021</th>\n",
       "      <td>0</td>\n",
       "      <td>Male</td>\n",
       "    </tr>\n",
       "    <tr>\n",
       "      <th>1022</th>\n",
       "      <td>0</td>\n",
       "      <td>Male</td>\n",
       "    </tr>\n",
       "    <tr>\n",
       "      <th>1023</th>\n",
       "      <td>1</td>\n",
       "      <td>Female</td>\n",
       "    </tr>\n",
       "    <tr>\n",
       "      <th>1024</th>\n",
       "      <td>0</td>\n",
       "      <td>Male</td>\n",
       "    </tr>\n",
       "  </tbody>\n",
       "</table>\n",
       "<p>1025 rows × 2 columns</p>\n",
       "</div>"
      ],
      "text/plain": [
       "      target    Sex1\n",
       "0          0    Male\n",
       "1          0    Male\n",
       "2          0    Male\n",
       "3          0    Male\n",
       "4          0  Female\n",
       "...      ...     ...\n",
       "1020       1    Male\n",
       "1021       0    Male\n",
       "1022       0    Male\n",
       "1023       1  Female\n",
       "1024       0    Male\n",
       "\n",
       "[1025 rows x 2 columns]"
      ]
     },
     "execution_count": 38,
     "metadata": {},
     "output_type": "execute_result"
    }
   ],
   "source": [
    "dx = df[[\"target\",\"Sex1\"]].dropna()\n",
    "dx"
   ]
  },
  {
   "cell_type": "markdown",
   "id": "1f253970",
   "metadata": {},
   "source": [
    "Kita membutuhkan jumlah wanita yang memiliki penyakit jantung. baris dibawah menunjukan jumlah pria dan wanita yangg menderita penyakit jantung dan yang tidak menderita"
   ]
  },
  {
   "cell_type": "code",
   "execution_count": 39,
   "id": "205355b1",
   "metadata": {},
   "outputs": [
    {
     "data": {
      "text/html": [
       "<div>\n",
       "<style scoped>\n",
       "    .dataframe tbody tr th:only-of-type {\n",
       "        vertical-align: middle;\n",
       "    }\n",
       "\n",
       "    .dataframe tbody tr th {\n",
       "        vertical-align: top;\n",
       "    }\n",
       "\n",
       "    .dataframe thead th {\n",
       "        text-align: right;\n",
       "    }\n",
       "</style>\n",
       "<table border=\"1\" class=\"dataframe\">\n",
       "  <thead>\n",
       "    <tr style=\"text-align: right;\">\n",
       "      <th>Sex1</th>\n",
       "      <th>Female</th>\n",
       "      <th>Male</th>\n",
       "    </tr>\n",
       "    <tr>\n",
       "      <th>target</th>\n",
       "      <th></th>\n",
       "      <th></th>\n",
       "    </tr>\n",
       "  </thead>\n",
       "  <tbody>\n",
       "    <tr>\n",
       "      <th>0</th>\n",
       "      <td>86</td>\n",
       "      <td>413</td>\n",
       "    </tr>\n",
       "    <tr>\n",
       "      <th>1</th>\n",
       "      <td>226</td>\n",
       "      <td>300</td>\n",
       "    </tr>\n",
       "  </tbody>\n",
       "</table>\n",
       "</div>"
      ],
      "text/plain": [
       "Sex1    Female  Male\n",
       "target              \n",
       "0           86   413\n",
       "1          226   300"
      ]
     },
     "execution_count": 39,
     "metadata": {},
     "output_type": "execute_result"
    }
   ],
   "source": [
    "pd.crosstab(dx.target, dx.Sex1)"
   ]
  },
  {
   "cell_type": "markdown",
   "id": "1c820684",
   "metadata": {},
   "source": [
    "Wanita penderita penyakit jantung berjumlah 226. Hitung proporsi penduduk wanita yang menderita penyakitt jantungg"
   ]
  },
  {
   "cell_type": "code",
   "execution_count": 40,
   "id": "c2261b32",
   "metadata": {},
   "outputs": [
    {
     "data": {
      "text/plain": [
       "0.7243589743589743"
      ]
     },
     "execution_count": 40,
     "metadata": {},
     "output_type": "execute_result"
    }
   ],
   "source": [
    "p_fm = 226/(86+226)\n",
    "p_fm"
   ]
  },
  {
   "cell_type": "markdown",
   "id": "4affe6f4",
   "metadata": {},
   "source": [
    "Hitung populasi wanita"
   ]
  },
  {
   "cell_type": "code",
   "execution_count": 41,
   "id": "5a363779",
   "metadata": {},
   "outputs": [
    {
     "data": {
      "text/plain": [
       "312"
      ]
     },
     "execution_count": 41,
     "metadata": {},
     "output_type": "execute_result"
    }
   ],
   "source": [
    "n = 86+226\n",
    "n"
   ]
  },
  {
   "cell_type": "markdown",
   "id": "90398dab",
   "metadata": {},
   "source": [
    "Hitung standard error"
   ]
  },
  {
   "cell_type": "code",
   "execution_count": 42,
   "id": "eacc921a",
   "metadata": {},
   "outputs": [
    {
     "data": {
      "text/plain": [
       "0.02529714756803247"
      ]
     },
     "execution_count": 42,
     "metadata": {},
     "output_type": "execute_result"
    }
   ],
   "source": [
    "se_female = np.sqrt(p_fm * (1 - p_fm)/n)\n",
    "se_female"
   ]
  },
  {
   "cell_type": "markdown",
   "id": "9619ddb8",
   "metadata": {},
   "source": [
    "Sekarang, buat CI menggunakan rumus diatas. szcore 1.96 untuk confidence interval 95%"
   ]
  },
  {
   "cell_type": "code",
   "execution_count": 43,
   "id": "2cb7cce9",
   "metadata": {},
   "outputs": [
    {
     "data": {
      "text/plain": [
       "(0.6747765651256307, 0.773941383592318)"
      ]
     },
     "execution_count": 43,
     "metadata": {},
     "output_type": "execute_result"
    }
   ],
   "source": [
    "z_score = 1.96\n",
    "lcb = p_fm - z_score * se_female #lower limit of the CI\n",
    "ucb = p_fm + z_score * se_female #upper limit of the CI\n",
    "lcb, ucb"
   ]
  },
  {
   "cell_type": "markdown",
   "id": "007fc816",
   "metadata": {},
   "source": [
    "Confidence interval adalah 0,67 dan 0.77"
   ]
  },
  {
   "cell_type": "markdown",
   "id": "8b49b108",
   "metadata": {},
   "source": [
    "Kita dapat menghitungnya menggunakan library \"stastmodels\""
   ]
  },
  {
   "cell_type": "code",
   "execution_count": 44,
   "id": "0140ffb3",
   "metadata": {},
   "outputs": [
    {
     "data": {
      "text/plain": [
       "(0.6747774762140357, 0.773940472503913)"
      ]
     },
     "execution_count": 44,
     "metadata": {},
     "output_type": "execute_result"
    }
   ],
   "source": [
    "import statsmodels.api as sm\n",
    "sm.stats.proportion_confint(n * p_fm, n)"
   ]
  },
  {
   "cell_type": "markdown",
   "id": "377267e5",
   "metadata": {},
   "source": [
    "## Calculation of CI of mean"
   ]
  },
  {
   "cell_type": "markdown",
   "id": "f71aa657",
   "metadata": {},
   "source": [
    "Dataset tersebut memiliki kolom 'chol' yang berisi tingkat kolesterol"
   ]
  },
  {
   "cell_type": "markdown",
   "id": "d3969757",
   "metadata": {},
   "source": [
    "Beriku kode untu mean, standard deviation, dan population size dari populasi pria dan wanit"
   ]
  },
  {
   "cell_type": "code",
   "execution_count": 45,
   "id": "83b404e1",
   "metadata": {},
   "outputs": [
    {
     "data": {
      "text/html": [
       "<div>\n",
       "<style scoped>\n",
       "    .dataframe tbody tr th:only-of-type {\n",
       "        vertical-align: middle;\n",
       "    }\n",
       "\n",
       "    .dataframe tbody tr th {\n",
       "        vertical-align: top;\n",
       "    }\n",
       "\n",
       "    .dataframe thead tr th {\n",
       "        text-align: left;\n",
       "    }\n",
       "\n",
       "    .dataframe thead tr:last-of-type th {\n",
       "        text-align: right;\n",
       "    }\n",
       "</style>\n",
       "<table border=\"1\" class=\"dataframe\">\n",
       "  <thead>\n",
       "    <tr>\n",
       "      <th></th>\n",
       "      <th colspan=\"3\" halign=\"left\">chol</th>\n",
       "    </tr>\n",
       "    <tr>\n",
       "      <th></th>\n",
       "      <th>mean</th>\n",
       "      <th>std</th>\n",
       "      <th>size</th>\n",
       "    </tr>\n",
       "    <tr>\n",
       "      <th>Sex1</th>\n",
       "      <th></th>\n",
       "      <th></th>\n",
       "      <th></th>\n",
       "    </tr>\n",
       "  </thead>\n",
       "  <tbody>\n",
       "    <tr>\n",
       "      <th>Female</th>\n",
       "      <td>261.455128</td>\n",
       "      <td>64.466781</td>\n",
       "      <td>312</td>\n",
       "    </tr>\n",
       "    <tr>\n",
       "      <th>Male</th>\n",
       "      <td>239.237027</td>\n",
       "      <td>43.155535</td>\n",
       "      <td>713</td>\n",
       "    </tr>\n",
       "  </tbody>\n",
       "</table>\n",
       "</div>"
      ],
      "text/plain": [
       "              chol                \n",
       "              mean        std size\n",
       "Sex1                              \n",
       "Female  261.455128  64.466781  312\n",
       "Male    239.237027  43.155535  713"
      ]
     },
     "execution_count": 45,
     "metadata": {},
     "output_type": "execute_result"
    }
   ],
   "source": [
    "df.groupby(\"Sex1\").agg({\"chol\":[np.mean, np.std, np.size]})"
   ]
  },
  {
   "cell_type": "code",
   "execution_count": 46,
   "id": "a2f59cf1",
   "metadata": {},
   "outputs": [
    {
     "data": {
      "text/html": [
       "<div>\n",
       "<style scoped>\n",
       "    .dataframe tbody tr th:only-of-type {\n",
       "        vertical-align: middle;\n",
       "    }\n",
       "\n",
       "    .dataframe tbody tr th {\n",
       "        vertical-align: top;\n",
       "    }\n",
       "\n",
       "    .dataframe thead th {\n",
       "        text-align: right;\n",
       "    }\n",
       "</style>\n",
       "<table border=\"1\" class=\"dataframe\">\n",
       "  <thead>\n",
       "    <tr style=\"text-align: right;\">\n",
       "      <th>Sex1</th>\n",
       "      <th>Female</th>\n",
       "      <th>Male</th>\n",
       "    </tr>\n",
       "  </thead>\n",
       "  <tbody>\n",
       "    <tr>\n",
       "      <th>count</th>\n",
       "      <td>312.000000</td>\n",
       "      <td>713.000000</td>\n",
       "    </tr>\n",
       "    <tr>\n",
       "      <th>mean</th>\n",
       "      <td>261.455128</td>\n",
       "      <td>239.237027</td>\n",
       "    </tr>\n",
       "    <tr>\n",
       "      <th>std</th>\n",
       "      <td>64.466781</td>\n",
       "      <td>43.155535</td>\n",
       "    </tr>\n",
       "    <tr>\n",
       "      <th>min</th>\n",
       "      <td>141.000000</td>\n",
       "      <td>126.000000</td>\n",
       "    </tr>\n",
       "    <tr>\n",
       "      <th>25%</th>\n",
       "      <td>215.000000</td>\n",
       "      <td>208.000000</td>\n",
       "    </tr>\n",
       "    <tr>\n",
       "      <th>50%</th>\n",
       "      <td>254.000000</td>\n",
       "      <td>234.000000</td>\n",
       "    </tr>\n",
       "    <tr>\n",
       "      <th>75%</th>\n",
       "      <td>302.000000</td>\n",
       "      <td>269.000000</td>\n",
       "    </tr>\n",
       "    <tr>\n",
       "      <th>max</th>\n",
       "      <td>564.000000</td>\n",
       "      <td>353.000000</td>\n",
       "    </tr>\n",
       "  </tbody>\n",
       "</table>\n",
       "</div>"
      ],
      "text/plain": [
       "Sex1       Female        Male\n",
       "count  312.000000  713.000000\n",
       "mean   261.455128  239.237027\n",
       "std     64.466781   43.155535\n",
       "min    141.000000  126.000000\n",
       "25%    215.000000  208.000000\n",
       "50%    254.000000  234.000000\n",
       "75%    302.000000  269.000000\n",
       "max    564.000000  353.000000"
      ]
     },
     "execution_count": 46,
     "metadata": {},
     "output_type": "execute_result"
    }
   ],
   "source": [
    "df.groupby(\"Sex1\")[\"chol\"].describe().T"
   ]
  },
  {
   "cell_type": "code",
   "execution_count": 47,
   "id": "dfb6b74d",
   "metadata": {},
   "outputs": [],
   "source": [
    "mean_fe = 261.45 #mean cholestrol of female\n",
    "sd = 64.4        #standard deviation for female population\n",
    "n = 312          #total number of female\n",
    "z = 1.96         #z-score from the z table mentioned before"
   ]
  },
  {
   "cell_type": "markdown",
   "id": "1050f477",
   "metadata": {},
   "source": [
    "**Calculate the standard eror using the formula for the standard error of the mean**"
   ]
  },
  {
   "cell_type": "code",
   "execution_count": 48,
   "id": "2e2df725",
   "metadata": {},
   "outputs": [
    {
     "data": {
      "text/plain": [
       "3.6459320499455985"
      ]
     },
     "execution_count": 48,
     "metadata": {},
     "output_type": "execute_result"
    }
   ],
   "source": [
    "se = sd/np.sqrt(n)\n",
    "se"
   ]
  },
  {
   "cell_type": "markdown",
   "id": "7b644242",
   "metadata": {},
   "source": [
    "**Construct the CI**"
   ]
  },
  {
   "cell_type": "code",
   "execution_count": 49,
   "id": "a2fb75d7",
   "metadata": {},
   "outputs": [
    {
     "data": {
      "text/plain": [
       "(261.40041759076666, 261.4995824092333)"
      ]
     },
     "execution_count": 49,
     "metadata": {},
     "output_type": "execute_result"
    }
   ],
   "source": [
    "lcb = mean_fe - z * se_female #lower limit of the CI\n",
    "ucb = mean_fe  + z * se_female #upper limit of the CI\n",
    "lcb, ucb"
   ]
  },
  {
   "cell_type": "markdown",
   "id": "692b15cd",
   "metadata": {},
   "source": [
    "CI adalah 254.303 dan 268.596"
   ]
  },
  {
   "cell_type": "markdown",
   "id": "fac2bab9",
   "metadata": {},
   "source": [
    "## Other Example of Confidence Intervals"
   ]
  },
  {
   "cell_type": "code",
   "execution_count": 50,
   "id": "cf10d23e",
   "metadata": {},
   "outputs": [],
   "source": [
    "import pandas as pd \n",
    "import seaborn as sns\n",
    "import scipy.stats as stats\n",
    "import numpy as np\n",
    "import random\n",
    "import warnings\n",
    "import matplotlib.pyplot as plt\n",
    "%matplotlib inline\n",
    "\n",
    "\n",
    "sns.set(rc={'figure.figsize':(13, 7.5)})\n",
    "sns.set_context('talk')"
   ]
  },
  {
   "cell_type": "markdown",
   "id": "755e21d0",
   "metadata": {},
   "source": [
    "**Generate Data of People's Mass in Pounds**"
   ]
  },
  {
   "cell_type": "markdown",
   "id": "b2269f8d",
   "metadata": {},
   "source": [
    "Dibawah ini, kita generate dua distribusi normal menggunakan metode numpy random module's normal untuk pria dan wanita. Kita meggabungkan dua aray ini dan assign ke kolom us_people_mass_pounds di df_pp_mass Data Frame"
   ]
  },
  {
   "cell_type": "code",
   "execution_count": 51,
   "id": "a0e1d10e",
   "metadata": {},
   "outputs": [],
   "source": [
    "np.random.seed(42)\n",
    "normal_distribution_us_male_mass_punds = np.random.normal(loc=181, scale=24, size=6000)\n",
    "normal_distribution_us_female_mass_punds = np.random.normal(loc=132, scale=22, size=6500)\n",
    "\n",
    "all_mass_values = np.concatenate((normal_distribution_us_male_mass_punds, normal_distribution_us_female_mass_punds), axis=0)\n",
    "df_ppl_mass = pd.DataFrame(data={'us_people_mass_punds': all_mass_values})"
   ]
  },
  {
   "cell_type": "code",
   "execution_count": 52,
   "id": "e6565311",
   "metadata": {},
   "outputs": [
    {
     "data": {
      "text/html": [
       "<div>\n",
       "<style scoped>\n",
       "    .dataframe tbody tr th:only-of-type {\n",
       "        vertical-align: middle;\n",
       "    }\n",
       "\n",
       "    .dataframe tbody tr th {\n",
       "        vertical-align: top;\n",
       "    }\n",
       "\n",
       "    .dataframe thead th {\n",
       "        text-align: right;\n",
       "    }\n",
       "</style>\n",
       "<table border=\"1\" class=\"dataframe\">\n",
       "  <thead>\n",
       "    <tr style=\"text-align: right;\">\n",
       "      <th></th>\n",
       "      <th>us_people_mass_punds</th>\n",
       "    </tr>\n",
       "  </thead>\n",
       "  <tbody>\n",
       "    <tr>\n",
       "      <th>0</th>\n",
       "      <td>192.921140</td>\n",
       "    </tr>\n",
       "    <tr>\n",
       "      <th>1</th>\n",
       "      <td>177.681657</td>\n",
       "    </tr>\n",
       "    <tr>\n",
       "      <th>2</th>\n",
       "      <td>196.544525</td>\n",
       "    </tr>\n",
       "    <tr>\n",
       "      <th>3</th>\n",
       "      <td>217.552717</td>\n",
       "    </tr>\n",
       "    <tr>\n",
       "      <th>4</th>\n",
       "      <td>175.380319</td>\n",
       "    </tr>\n",
       "  </tbody>\n",
       "</table>\n",
       "</div>"
      ],
      "text/plain": [
       "   us_people_mass_punds\n",
       "0            192.921140\n",
       "1            177.681657\n",
       "2            196.544525\n",
       "3            217.552717\n",
       "4            175.380319"
      ]
     },
     "execution_count": 52,
     "metadata": {},
     "output_type": "execute_result"
    }
   ],
   "source": [
    "df_ppl_mass.head()"
   ]
  },
  {
   "cell_type": "markdown",
   "id": "212fc954",
   "metadata": {},
   "source": [
    "**View Distribution of U.S People's Mass**"
   ]
  },
  {
   "cell_type": "code",
   "execution_count": 53,
   "id": "8d59a211",
   "metadata": {},
   "outputs": [
    {
     "data": {
      "image/png": "[encoded data removed]",
      "text/plain": [
       "<Figure size 360x360 with 1 Axes>"
      ]
     },
     "metadata": {},
     "output_type": "display_data"
    }
   ],
   "source": [
    "sns.displot(df_ppl_mass['us_people_mass_punds'], color=\"darkslategrey\")\n",
    "\n",
    "plt.xlabel(\"mass [pounds]\", labelpad=14)\n",
    "plt.ylabel(\"probability of occurence\", labelpad=14)\n",
    "plt.title(\"Distribution of Mass of People in U.S.\", y=1.015, fontsize=20);"
   ]
  },
  {
   "cell_type": "markdown",
   "id": "5af7cae0",
   "metadata": {},
   "source": [
    "Sulit untuk mengkarakterisasi distribusi ini. Distribusi tersebut memiliki satu puncak, dan bukan distribusi normal karena tidak simetri di sekita nilai pusat"
   ]
  },
  {
   "cell_type": "code",
   "execution_count": 54,
   "id": "0adbf8a3",
   "metadata": {},
   "outputs": [
    {
     "data": {
      "text/plain": [
       "155.42328059423372"
      ]
     },
     "execution_count": 54,
     "metadata": {},
     "output_type": "execute_result"
    }
   ],
   "source": [
    "# Calculation Population Mean\n",
    "pop_mean_mass = df_ppl_mass['us_people_mass_punds'].mean()\n",
    "pop_mean_mass"
   ]
  },
  {
   "cell_type": "code",
   "execution_count": 55,
   "id": "3e55716e",
   "metadata": {},
   "outputs": [
    {
     "data": {
      "text/plain": [
       "33.58519088395858"
      ]
     },
     "execution_count": 55,
     "metadata": {},
     "output_type": "execute_result"
    }
   ],
   "source": [
    "# Calculation Population Mean\n",
    "pop_std_dev_mass = df_ppl_mass['us_people_mass_punds'].std()\n",
    "pop_std_dev_mass"
   ]
  },
  {
   "cell_type": "markdown",
   "id": "57912f1a",
   "metadata": {},
   "source": [
    "Kita akan mengambil 300 sampel masing-maisng dari 25 nilai acak. Untuk setiap sampel, kita akan menghitung rata-rata sampel. dan kta menyimpan semua sampelple means tsbt dalam list sample_means"
   ]
  },
  {
   "cell_type": "code",
   "execution_count": 56,
   "id": "d8948073",
   "metadata": {},
   "outputs": [],
   "source": [
    "sample_means =[]\n",
    "n = 25\n",
    "for sample in range(0,300):\n",
    "    # random sampling done with replacement\n",
    "    sample_values = np.random.choice(a=df_ppl_mass['us_people_mass_punds'], size=n)\n",
    "    sample_mean   = np.mean(sample_values)\n",
    "    sample_means.append(sample_mean)"
   ]
  },
  {
   "cell_type": "code",
   "execution_count": 57,
   "id": "06f2431f",
   "metadata": {},
   "outputs": [
    {
     "data": {
      "text/plain": [
       "Text(19.940000000000005, 0.5, 'frequency of occurence')"
      ]
     },
     "execution_count": 57,
     "metadata": {},
     "output_type": "execute_result"
    },
    {
     "data": {
      "image/png": "[encoded data removed]",
      "text/plain": [
       "<Figure size 360x360 with 1 Axes>"
      ]
     },
     "metadata": {},
     "output_type": "display_data"
    }
   ],
   "source": [
    "# View Distribution of Sample Means (Otherwise Called Sampling Distribution)\n",
    "\n",
    "sns.displot(sample_means)\n",
    "plt.title(\"Distribution of Sample Means ($n=25$) of People's Mass in Pounds\", y=1.015, fontsize=20)\n",
    "plt.xlabel(\"sample means mass [pounds]\", labelpad=14)\n",
    "plt.ylabel(\"frequency of occurence\", labelpad=14)"
   ]
  },
  {
   "cell_type": "markdown",
   "id": "50c211c2",
   "metadata": {},
   "source": [
    "Distribusi sample means terlihat normal. "
   ]
  },
  {
   "cell_type": "markdown",
   "id": "46800f57",
   "metadata": {},
   "source": [
    "**Calculate Sampling Distribution (n=25) Summary Statistics**"
   ]
  },
  {
   "cell_type": "markdown",
   "id": "896e3102",
   "metadata": {},
   "source": [
    "Berikut adalah ringkasan perhitungan statistik untuk distribusi pengambilan sampel yang divisualisasikan"
   ]
  },
  {
   "cell_type": "code",
   "execution_count": 58,
   "id": "93594578",
   "metadata": {},
   "outputs": [
    {
     "data": {
      "text/plain": [
       "155.3008268518431"
      ]
     },
     "execution_count": 58,
     "metadata": {},
     "output_type": "execute_result"
    }
   ],
   "source": [
    "# Calculate Median of Sample Means\n",
    "median_of_sample_means = np.median(sample_means)\n",
    "median_of_sample_means"
   ]
  },
  {
   "cell_type": "code",
   "execution_count": 59,
   "id": "49b682a2",
   "metadata": {},
   "outputs": [
    {
     "data": {
      "text/plain": [
       "155.3008268518431"
      ]
     },
     "execution_count": 59,
     "metadata": {},
     "output_type": "execute_result"
    }
   ],
   "source": [
    "mean_of_sample_means = np.median(sample_means)\n",
    "mean_of_sample_means"
   ]
  },
  {
   "cell_type": "code",
   "execution_count": 60,
   "id": "adc1224e",
   "metadata": {},
   "outputs": [
    {
     "data": {
      "text/plain": [
       "155.42328059423372"
      ]
     },
     "execution_count": 60,
     "metadata": {},
     "output_type": "execute_result"
    }
   ],
   "source": [
    "pop_mean_mass"
   ]
  },
  {
   "cell_type": "markdown",
   "id": "f8ea9566",
   "metadata": {},
   "source": [
    "Nilai mean_of_sample_means ini kira-kira sama dengan nilai population mean_of_sample_meansan yang kita terapkan ke variabel pop-mean-mass"
   ]
  },
  {
   "cell_type": "code",
   "execution_count": 61,
   "id": "68b99d2b",
   "metadata": {},
   "outputs": [
    {
     "data": {
      "text/plain": [
       "6.734407481483423"
      ]
     },
     "execution_count": 61,
     "metadata": {},
     "output_type": "execute_result"
    }
   ],
   "source": [
    "# Calculate Standard Deviation of Samaple Means\n",
    "std_dev_of_sample_means = np.std(sample_means)\n",
    "std_dev_of_sample_means"
   ]
  },
  {
   "cell_type": "markdown",
   "id": "ccb28c71",
   "metadata": {},
   "source": [
    "**Equation for Standard Deviation of Sampling Distribution**"
   ]
  },
  {
   "cell_type": "markdown",
   "id": "fdf1046d",
   "metadata": {},
   "source": [
    "Standard deviation dari sample means lebih sering disebut standard error(SE)"
   ]
  },
  {
   "cell_type": "code",
   "execution_count": 62,
   "id": "76acdead",
   "metadata": {},
   "outputs": [
    {
     "data": {
      "text/plain": [
       "6.717038176791716"
      ]
     },
     "execution_count": 62,
     "metadata": {},
     "output_type": "execute_result"
    }
   ],
   "source": [
    "standard_error = pop_std_dev_mass/np.sqrt(n)\n",
    "standard_error"
   ]
  },
  {
   "cell_type": "code",
   "execution_count": 63,
   "id": "83ac4688",
   "metadata": {},
   "outputs": [
    {
     "data": {
      "text/plain": [
       "6.734407481483423"
      ]
     },
     "execution_count": 63,
     "metadata": {},
     "output_type": "execute_result"
    }
   ],
   "source": [
    "std_dev_of_sample_means"
   ]
  },
  {
   "cell_type": "markdown",
   "id": "c8c9a69f",
   "metadata": {},
   "source": [
    "Nilai standard error ini sama dengan nilai yang dihitung diatas untuk std_dev_of_sample_means"
   ]
  },
  {
   "cell_type": "markdown",
   "id": "bf09ae8f",
   "metadata": {},
   "source": [
    "**Critical Z-Score**"
   ]
  },
  {
   "cell_type": "markdown",
   "id": "53c627e5",
   "metadata": {},
   "source": [
    "Kira-kira 95% nilai akan berada dalam 2 standard errors dari mean. Mari kita hitung nilaiai z-score tepat yang mengikat 95% data. kita tahu bahwa ekor pada setiap ujung harus 2,5% atau 0.0025 dari total area under the curve dari sampling distribution"
   ]
  },
  {
   "cell_type": "markdown",
   "id": "781c72fe",
   "metadata": {},
   "source": [
    "Dibawah ini kita menggunakan z-score 1,96 untuk menghitung ekor 0,025"
   ]
  },
  {
   "cell_type": "code",
   "execution_count": 64,
   "id": "71bb2ac3",
   "metadata": {},
   "outputs": [
    {
     "data": {
      "text/plain": [
       "0.024997895148220484"
      ]
     },
     "execution_count": 64,
     "metadata": {},
     "output_type": "execute_result"
    }
   ],
   "source": [
    "tail = 1 - stats.norm.cdf(1.96)\n",
    "tail"
   ]
  },
  {
   "cell_type": "code",
   "execution_count": 65,
   "id": "d807804f",
   "metadata": {},
   "outputs": [
    {
     "data": {
      "text/plain": [
       "0.950004209703559"
      ]
     },
     "execution_count": 65,
     "metadata": {},
     "output_type": "execute_result"
    }
   ],
   "source": [
    "# the area under the curve between the z-critical scores is approximately 0.95\n",
    "1- ( tail *2)"
   ]
  },
  {
   "cell_type": "markdown",
   "id": "86677b23",
   "metadata": {},
   "source": [
    "Mari kita hitung batas yang tepat untuk area dimana 95% mean sampel berada dari mean populasi"
   ]
  },
  {
   "cell_type": "code",
   "execution_count": 66,
   "id": "5fe587b2",
   "metadata": {},
   "outputs": [
    {
     "data": {
      "text/plain": [
       "142.13543202533134"
      ]
     },
     "execution_count": 66,
     "metadata": {},
     "output_type": "execute_result"
    }
   ],
   "source": [
    "lower_95_perc_bound = mean_of_sample_means - 1.96*standard_error\n",
    "lower_95_perc_bound"
   ]
  },
  {
   "cell_type": "code",
   "execution_count": 67,
   "id": "468618c9",
   "metadata": {},
   "outputs": [
    {
     "data": {
      "text/plain": [
       "142.13543202533134"
      ]
     },
     "execution_count": 67,
     "metadata": {},
     "output_type": "execute_result"
    }
   ],
   "source": [
    "upper_95_perc_bound = mean_of_sample_means - 1.96*standard_error\n",
    "upper_95_perc_bound"
   ]
  },
  {
   "cell_type": "code",
   "execution_count": 68,
   "id": "b738f3f2",
   "metadata": {},
   "outputs": [
    {
     "data": {
      "image/png": "[encoded data removed]",
      "text/plain": [
       "<Figure size 936x540 with 1 Axes>"
      ]
     },
     "metadata": {},
     "output_type": "display_data"
    }
   ],
   "source": [
    "kde = stats.gaussian_kde(sample_means)\n",
    "pos = np.linspace(np.min(sample_means), np.max(sample_means), 10000)\n",
    "plt.plot(pos, kde(pos), color='teal')\n",
    "shade = np.linspace(lower_95_perc_bound, upper_95_perc_bound, 300)\n",
    "plt.fill_between(shade, kde(shade), alpha=0.45, color='teal',)\n",
    "plt.text(x=154, y=.01, horizontalalignment='center', fontsize=17, \n",
    "         s=\"95% of sample means fall within\\nthis shaded area of plus or minus\\n1.96 z-scores from the mean\", \n",
    "         bbox=dict(facecolor='whitesmoke', boxstyle=\"round, pad=0.1\"))\n",
    "plt.title(\"Distribution of Sample Means ($n=25$) of People's Mass in Pounds\", y=1.015, fontsize=20)\n",
    "plt.xlabel(\"sample mean mass [pounds]\", labelpad=14)\n",
    "plt.ylabel(\"frequency of occurence\", labelpad=14);"
   ]
  },
  {
   "cell_type": "markdown",
   "id": "519a6626",
   "metadata": {},
   "source": [
    "# Hypothesis Testing"
   ]
  },
  {
   "cell_type": "markdown",
   "id": "349a14ae",
   "metadata": {},
   "source": [
    "Hipotesis adalah anggapan dasar adalah jawaban sementara terhadaap masalah yang masih bersifat praduga karena masih harus dibuktikan kebenaranya. Misalnya Obat baru yang menurut Anda mungkin berhasil., kemungkinan lokasi spesies baru"
   ]
  },
  {
   "cell_type": "markdown",
   "id": "2f59980b",
   "metadata": {},
   "source": [
    "**Hypothesis Statement**\n",
    "\n",
    "Hipotesis, biadanya membuat pernyataan. Pernyaatan akan terlihat seperti \"Jika saya ... (melakukan A pada variabel independen) .. kemudian (B akan terjadi pada variabel depnden)\". contoh:\n",
    "1. Jika saya (mengurangi jumlah air yang diberikan untuk herbal) maka (herbal akan bertambah besar).\n",
    "2. Jika saya (memberi pasien konseling selain pengobatan) maka (skala depresi mereka secara keseluruhan akan menurun).\n",
    "\n",
    "Pertanyaan hipotesis yang baik harus:\n",
    "1. Sertakan pernyataan “jika” dan “maka” (menurut University of California).\n",
    "2. Sertakan variabel independen dan dependen.\n",
    "3. Dapat diuji dengan eksperimen, survei, atau teknik ilmiah lainnya.\n",
    "4. Berdasarkan informasi dalam penelitian sebelumnya (baik milik Anda atau orang lain).\n",
    "5. Memiliki kriteria desain (untuk proyek rekayasa atau pemrograman). "
   ]
  },
  {
   "cell_type": "markdown",
   "id": "fb0f2031",
   "metadata": {},
   "source": [
    "**Hypothesis Testing**\n",
    "\n",
    "Hypothesis testing dalam statistik adalah cara kita menguji hasil survei atau eksperimen untuk melihat apakah kita memiliki hasil yang bermakna. yang perlu kita lakukan:"
   ]
  },
  {
   "cell_type": "markdown",
   "id": "86a0444b",
   "metadata": {},
   "source": [
    "- Cari tahu hipotesis nol Anda,\n",
    "- Nyatakan hipotesis nol Anda,\n",
    "- Pilih jenis tes yang perlu Anda lakukan,\n",
    "- Either support or reject the null hypothesis."
   ]
  },
  {
   "cell_type": "markdown",
   "id": "ae2a89a0",
   "metadata": {},
   "source": [
    "**Null Hypothesis**\n",
    "\n",
    "Null Hypothesis selalu merupakan fakta yang diterima. Misal DNA is shaped like a double helix."
   ]
  },
  {
   "cell_type": "code",
   "execution_count": 69,
   "id": "622f07cc",
   "metadata": {},
   "outputs": [],
   "source": [
    "import statsmodels.api as sm\n",
    "import numpy as np\n",
    "import matplotlib.pyplot as plt\n",
    "import pandas as pd"
   ]
  },
  {
   "cell_type": "markdown",
   "id": "04b2f84e",
   "metadata": {},
   "source": [
    "## One Population Proportion"
   ]
  },
  {
   "cell_type": "markdown",
   "id": "0b224797",
   "metadata": {},
   "source": [
    "Pada tahun sebelumnya, 52% orang tua percaya elektronik dan media sosial adalah penyebab kurang tidur remaaja mereka. apakah saat ini semakin banyak orang tua percaya?\n"
   ]
  },
  {
   "cell_type": "markdown",
   "id": "6ca2801d",
   "metadata": {},
   "source": [
    "\n",
    "Population : Orang tua dengan remaja (usia 13-18)\n",
    "\n",
    "Parameter of Interest: p\n"
   ]
  },
  {
   "cell_type": "markdown",
   "id": "b066758a",
   "metadata": {},
   "source": [
    "\n",
    "Null Hypotesis: p =0.52\n",
    "\n",
    "Alternative Hypothesis: p > 0.52 (note that this is a one-sided-test)\n",
    "\n",
    "Data : 1018 orang disurvei. 56% dari mereka percaya"
   ]
  },
  {
   "cell_type": "markdown",
   "id": "bedbbf2a",
   "metadata": {},
   "source": [
    "**Use of proportions_ztest() from statsmodels**"
   ]
  },
  {
   "cell_type": "markdown",
   "id": "3a71675c",
   "metadata": {},
   "source": [
    "Argumen alternative='large' yang menunjukan one-sided test. fungsi ini mengembalikan dua nilai -zstatistic dan p-value yang sesuai"
   ]
  },
  {
   "cell_type": "code",
   "execution_count": 70,
   "id": "33150450",
   "metadata": {},
   "outputs": [],
   "source": [
    "n = 1018\n",
    "pnull = .52\n",
    "phat = .56"
   ]
  },
  {
   "cell_type": "code",
   "execution_count": 71,
   "id": "6bf8464d",
   "metadata": {},
   "outputs": [
    {
     "data": {
      "text/plain": [
       "(2.571067795759113, 0.005069273865860533)"
      ]
     },
     "execution_count": 71,
     "metadata": {},
     "output_type": "execute_result"
    }
   ],
   "source": [
    "sm.stats.proportions_ztest(phat *n, n, pnull, alternative='larger')"
   ]
  },
  {
   "cell_type": "markdown",
   "id": "eb086c2f",
   "metadata": {},
   "source": [
    "**Conclusion of the hypothesis test**"
   ]
  },
  {
   "cell_type": "markdown",
   "id": "6bfac405",
   "metadata": {},
   "source": [
    "Karena nilai p-value dari z-test cukup kecil, kita dapat **reject the null hypothesis** bahwa presentase org tua percaya. perkiraan yaitu 52%. Meskipun, kita tidak menerima hipotesis alternatif, secara informal berarti bahwa ada kemungkinan besar proporsi ini lebih dari 52%."
   ]
  },
  {
   "cell_type": "markdown",
   "id": "c147bc84",
   "metadata": {},
   "source": [
    "## Difference in Population Means"
   ]
  },
  {
   "cell_type": "markdown",
   "id": "152449d9",
   "metadata": {},
   "source": [
    "**Research Question**"
   ]
  },
  {
   "cell_type": "markdown",
   "id": "5e32e267",
   "metadata": {},
   "source": [
    "Dengan mempertimbangkan data NHANES, apakah pria memiliki Body Mass Index rata-rata yang lebih tinggi secara signifikan dari pada wanita? "
   ]
  },
  {
   "cell_type": "code",
   "execution_count": 72,
   "id": "66a76691",
   "metadata": {},
   "outputs": [
    {
     "data": {
      "text/html": [
       "<div>\n",
       "<style scoped>\n",
       "    .dataframe tbody tr th:only-of-type {\n",
       "        vertical-align: middle;\n",
       "    }\n",
       "\n",
       "    .dataframe tbody tr th {\n",
       "        vertical-align: top;\n",
       "    }\n",
       "\n",
       "    .dataframe thead th {\n",
       "        text-align: right;\n",
       "    }\n",
       "</style>\n",
       "<table border=\"1\" class=\"dataframe\">\n",
       "  <thead>\n",
       "    <tr style=\"text-align: right;\">\n",
       "      <th></th>\n",
       "      <th>SEQN</th>\n",
       "      <th>ALQ101</th>\n",
       "      <th>ALQ110</th>\n",
       "      <th>ALQ130</th>\n",
       "      <th>SMQ020</th>\n",
       "      <th>RIAGENDR</th>\n",
       "      <th>RIDAGEYR</th>\n",
       "      <th>RIDRETH1</th>\n",
       "      <th>DMDCITZN</th>\n",
       "      <th>DMDEDUC2</th>\n",
       "      <th>...</th>\n",
       "      <th>BPXSY2</th>\n",
       "      <th>BPXDI2</th>\n",
       "      <th>BMXWT</th>\n",
       "      <th>BMXHT</th>\n",
       "      <th>BMXBMI</th>\n",
       "      <th>BMXLEG</th>\n",
       "      <th>BMXARML</th>\n",
       "      <th>BMXARMC</th>\n",
       "      <th>BMXWAIST</th>\n",
       "      <th>HIQ210</th>\n",
       "    </tr>\n",
       "  </thead>\n",
       "  <tbody>\n",
       "    <tr>\n",
       "      <th>0</th>\n",
       "      <td>83732</td>\n",
       "      <td>1.0</td>\n",
       "      <td>NaN</td>\n",
       "      <td>1.0</td>\n",
       "      <td>1</td>\n",
       "      <td>1</td>\n",
       "      <td>62</td>\n",
       "      <td>3</td>\n",
       "      <td>1.0</td>\n",
       "      <td>5.0</td>\n",
       "      <td>...</td>\n",
       "      <td>124.0</td>\n",
       "      <td>64.0</td>\n",
       "      <td>94.8</td>\n",
       "      <td>184.5</td>\n",
       "      <td>27.8</td>\n",
       "      <td>43.3</td>\n",
       "      <td>43.6</td>\n",
       "      <td>35.9</td>\n",
       "      <td>101.1</td>\n",
       "      <td>2.0</td>\n",
       "    </tr>\n",
       "    <tr>\n",
       "      <th>1</th>\n",
       "      <td>83733</td>\n",
       "      <td>1.0</td>\n",
       "      <td>NaN</td>\n",
       "      <td>6.0</td>\n",
       "      <td>1</td>\n",
       "      <td>1</td>\n",
       "      <td>53</td>\n",
       "      <td>3</td>\n",
       "      <td>2.0</td>\n",
       "      <td>3.0</td>\n",
       "      <td>...</td>\n",
       "      <td>140.0</td>\n",
       "      <td>88.0</td>\n",
       "      <td>90.4</td>\n",
       "      <td>171.4</td>\n",
       "      <td>30.8</td>\n",
       "      <td>38.0</td>\n",
       "      <td>40.0</td>\n",
       "      <td>33.2</td>\n",
       "      <td>107.9</td>\n",
       "      <td>NaN</td>\n",
       "    </tr>\n",
       "    <tr>\n",
       "      <th>2</th>\n",
       "      <td>83734</td>\n",
       "      <td>1.0</td>\n",
       "      <td>NaN</td>\n",
       "      <td>NaN</td>\n",
       "      <td>1</td>\n",
       "      <td>1</td>\n",
       "      <td>78</td>\n",
       "      <td>3</td>\n",
       "      <td>1.0</td>\n",
       "      <td>3.0</td>\n",
       "      <td>...</td>\n",
       "      <td>132.0</td>\n",
       "      <td>44.0</td>\n",
       "      <td>83.4</td>\n",
       "      <td>170.1</td>\n",
       "      <td>28.8</td>\n",
       "      <td>35.6</td>\n",
       "      <td>37.0</td>\n",
       "      <td>31.0</td>\n",
       "      <td>116.5</td>\n",
       "      <td>2.0</td>\n",
       "    </tr>\n",
       "    <tr>\n",
       "      <th>3</th>\n",
       "      <td>83735</td>\n",
       "      <td>2.0</td>\n",
       "      <td>1.0</td>\n",
       "      <td>1.0</td>\n",
       "      <td>2</td>\n",
       "      <td>2</td>\n",
       "      <td>56</td>\n",
       "      <td>3</td>\n",
       "      <td>1.0</td>\n",
       "      <td>5.0</td>\n",
       "      <td>...</td>\n",
       "      <td>134.0</td>\n",
       "      <td>68.0</td>\n",
       "      <td>109.8</td>\n",
       "      <td>160.9</td>\n",
       "      <td>42.4</td>\n",
       "      <td>38.5</td>\n",
       "      <td>37.7</td>\n",
       "      <td>38.3</td>\n",
       "      <td>110.1</td>\n",
       "      <td>2.0</td>\n",
       "    </tr>\n",
       "    <tr>\n",
       "      <th>4</th>\n",
       "      <td>83736</td>\n",
       "      <td>2.0</td>\n",
       "      <td>1.0</td>\n",
       "      <td>1.0</td>\n",
       "      <td>2</td>\n",
       "      <td>2</td>\n",
       "      <td>42</td>\n",
       "      <td>4</td>\n",
       "      <td>1.0</td>\n",
       "      <td>4.0</td>\n",
       "      <td>...</td>\n",
       "      <td>114.0</td>\n",
       "      <td>54.0</td>\n",
       "      <td>55.2</td>\n",
       "      <td>164.9</td>\n",
       "      <td>20.3</td>\n",
       "      <td>37.4</td>\n",
       "      <td>36.0</td>\n",
       "      <td>27.2</td>\n",
       "      <td>80.4</td>\n",
       "      <td>2.0</td>\n",
       "    </tr>\n",
       "  </tbody>\n",
       "</table>\n",
       "<p>5 rows × 28 columns</p>\n",
       "</div>"
      ],
      "text/plain": [
       "    SEQN  ALQ101  ALQ110  ALQ130  SMQ020  RIAGENDR  RIDAGEYR  RIDRETH1  \\\n",
       "0  83732     1.0     NaN     1.0       1         1        62         3   \n",
       "1  83733     1.0     NaN     6.0       1         1        53         3   \n",
       "2  83734     1.0     NaN     NaN       1         1        78         3   \n",
       "3  83735     2.0     1.0     1.0       2         2        56         3   \n",
       "4  83736     2.0     1.0     1.0       2         2        42         4   \n",
       "\n",
       "   DMDCITZN  DMDEDUC2  ...  BPXSY2  BPXDI2  BMXWT  BMXHT  BMXBMI  BMXLEG  \\\n",
       "0       1.0       5.0  ...   124.0    64.0   94.8  184.5    27.8    43.3   \n",
       "1       2.0       3.0  ...   140.0    88.0   90.4  171.4    30.8    38.0   \n",
       "2       1.0       3.0  ...   132.0    44.0   83.4  170.1    28.8    35.6   \n",
       "3       1.0       5.0  ...   134.0    68.0  109.8  160.9    42.4    38.5   \n",
       "4       1.0       4.0  ...   114.0    54.0   55.2  164.9    20.3    37.4   \n",
       "\n",
       "   BMXARML  BMXARMC  BMXWAIST  HIQ210  \n",
       "0     43.6     35.9     101.1     2.0  \n",
       "1     40.0     33.2     107.9     NaN  \n",
       "2     37.0     31.0     116.5     2.0  \n",
       "3     37.7     38.3     110.1     2.0  \n",
       "4     36.0     27.2      80.4     2.0  \n",
       "\n",
       "[5 rows x 28 columns]"
      ]
     },
     "execution_count": 72,
     "metadata": {},
     "output_type": "execute_result"
    }
   ],
   "source": [
    "url = \"https://raw.githubusercontent.com/kshedden/statswpy/master/NHANES/merged/nhanes_2015_2016.csv\"\n",
    "da = pd.read_csv(url)\n",
    "da.head()"
   ]
  },
  {
   "cell_type": "code",
   "execution_count": 73,
   "id": "26246dd9",
   "metadata": {},
   "outputs": [],
   "source": [
    "females = da[da[\"RIAGENDR\"] == 2]\n",
    "male = da[da[\"RIAGENDR\"] == 1]"
   ]
  },
  {
   "cell_type": "code",
   "execution_count": 74,
   "id": "4c367403",
   "metadata": {},
   "outputs": [
    {
     "data": {
      "text/plain": [
       "(2976, 29.93994565217392, 7.753318809545674)"
      ]
     },
     "execution_count": 74,
     "metadata": {},
     "output_type": "execute_result"
    }
   ],
   "source": [
    "n1 = len(females)\n",
    "mu1 = females[\"BMXBMI\"].mean()\n",
    "sd1 = females[\"BMXBMI\"].std()\n",
    "\n",
    "(n1, mu1, sd1)"
   ]
  },
  {
   "cell_type": "code",
   "execution_count": 75,
   "id": "2d502a1a",
   "metadata": {},
   "outputs": [
    {
     "data": {
      "text/plain": [
       "(2759, 28.778072111846942, 6.2525676168014614)"
      ]
     },
     "execution_count": 75,
     "metadata": {},
     "output_type": "execute_result"
    }
   ],
   "source": [
    "n2 = len(male)\n",
    "mu2 = male[\"BMXBMI\"].mean()\n",
    "sd2 = male[\"BMXBMI\"].std()\n",
    "\n",
    "(n2, mu2, sd2)"
   ]
  },
  {
   "cell_type": "code",
   "execution_count": 76,
   "id": "815c003e",
   "metadata": {},
   "outputs": [
    {
     "data": {
      "text/plain": [
       "(6.1755933531383205, 6.591544431126401e-10)"
      ]
     },
     "execution_count": 76,
     "metadata": {},
     "output_type": "execute_result"
    }
   ],
   "source": [
    "sm.stats.ztest(females[\"BMXBMI\"].dropna(), male[\"BMXBMI\"].dropna(),alternative='two-sided')"
   ]
  },
  {
   "cell_type": "markdown",
   "id": "70adb5cb",
   "metadata": {},
   "source": [
    "**Conclusion of the hypothesis test**"
   ]
  },
  {
   "cell_type": "markdown",
   "id": "e8f93bd1",
   "metadata": {},
   "source": [
    "Karena p-value (6.59..) sangat kecil, kita dapat reject the Null hypothesis bahwa rata2 BMI laki-lakiaki sama dengan perempuan. Kita menggunakan alternative=\"two-sided\" dapatlam z-theest karena disni kita memerika ketidaksamaan"
   ]
  },
  {
   "cell_type": "code",
   "execution_count": 77,
   "id": "1bdd75ab",
   "metadata": {},
   "outputs": [
    {
     "data": {
      "image/png": "[encoded data removed]",
      "text/plain": [
       "<Figure size 504x288 with 1 Axes>"
      ]
     },
     "metadata": {},
     "output_type": "display_data"
    },
    {
     "data": {
      "image/png": "[encoded data removed]",
      "text/plain": [
       "<Figure size 504x288 with 1 Axes>"
      ]
     },
     "metadata": {},
     "output_type": "display_data"
    }
   ],
   "source": [
    "plt.figure(figsize=(7,4))\n",
    "plt.title(\"Female BMI histogram\",fontsize=16)\n",
    "plt.hist(females[\"BMXBMI\"].dropna(),edgecolor='k',color='pink',bins=25)\n",
    "plt.show()\n",
    "\n",
    "plt.figure(figsize=(7,4))\n",
    "plt.title(\"Male BMI histogram\",fontsize=16)\n",
    "plt.hist(male[\"BMXBMI\"].dropna(),edgecolor='k',color='blue',bins=25)\n",
    "plt.show()"
   ]
  },
  {
   "cell_type": "markdown",
   "id": "042d222f",
   "metadata": {},
   "source": [
    "## Hypothesis for One Proportion"
   ]
  },
  {
   "cell_type": "code",
   "execution_count": 81,
   "id": "7bbc5e57",
   "metadata": {},
   "outputs": [
    {
     "data": {
      "text/html": [
       "<div>\n",
       "<style scoped>\n",
       "    .dataframe tbody tr th:only-of-type {\n",
       "        vertical-align: middle;\n",
       "    }\n",
       "\n",
       "    .dataframe tbody tr th {\n",
       "        vertical-align: top;\n",
       "    }\n",
       "\n",
       "    .dataframe thead th {\n",
       "        text-align: right;\n",
       "    }\n",
       "</style>\n",
       "<table border=\"1\" class=\"dataframe\">\n",
       "  <thead>\n",
       "    <tr style=\"text-align: right;\">\n",
       "      <th></th>\n",
       "      <th>age</th>\n",
       "      <th>sex</th>\n",
       "      <th>cp</th>\n",
       "      <th>trestbps</th>\n",
       "      <th>chol</th>\n",
       "      <th>fbs</th>\n",
       "      <th>restecg</th>\n",
       "      <th>thalach</th>\n",
       "      <th>exang</th>\n",
       "      <th>oldpeak</th>\n",
       "      <th>slope</th>\n",
       "      <th>ca</th>\n",
       "      <th>thal</th>\n",
       "      <th>target</th>\n",
       "    </tr>\n",
       "  </thead>\n",
       "  <tbody>\n",
       "    <tr>\n",
       "      <th>0</th>\n",
       "      <td>52</td>\n",
       "      <td>1</td>\n",
       "      <td>0</td>\n",
       "      <td>125</td>\n",
       "      <td>212</td>\n",
       "      <td>0</td>\n",
       "      <td>1</td>\n",
       "      <td>168</td>\n",
       "      <td>0</td>\n",
       "      <td>1.0</td>\n",
       "      <td>2</td>\n",
       "      <td>2</td>\n",
       "      <td>3</td>\n",
       "      <td>0</td>\n",
       "    </tr>\n",
       "    <tr>\n",
       "      <th>1</th>\n",
       "      <td>53</td>\n",
       "      <td>1</td>\n",
       "      <td>0</td>\n",
       "      <td>140</td>\n",
       "      <td>203</td>\n",
       "      <td>1</td>\n",
       "      <td>0</td>\n",
       "      <td>155</td>\n",
       "      <td>1</td>\n",
       "      <td>3.1</td>\n",
       "      <td>0</td>\n",
       "      <td>0</td>\n",
       "      <td>3</td>\n",
       "      <td>0</td>\n",
       "    </tr>\n",
       "    <tr>\n",
       "      <th>2</th>\n",
       "      <td>70</td>\n",
       "      <td>1</td>\n",
       "      <td>0</td>\n",
       "      <td>145</td>\n",
       "      <td>174</td>\n",
       "      <td>0</td>\n",
       "      <td>1</td>\n",
       "      <td>125</td>\n",
       "      <td>1</td>\n",
       "      <td>2.6</td>\n",
       "      <td>0</td>\n",
       "      <td>0</td>\n",
       "      <td>3</td>\n",
       "      <td>0</td>\n",
       "    </tr>\n",
       "    <tr>\n",
       "      <th>3</th>\n",
       "      <td>61</td>\n",
       "      <td>1</td>\n",
       "      <td>0</td>\n",
       "      <td>148</td>\n",
       "      <td>203</td>\n",
       "      <td>0</td>\n",
       "      <td>1</td>\n",
       "      <td>161</td>\n",
       "      <td>0</td>\n",
       "      <td>0.0</td>\n",
       "      <td>2</td>\n",
       "      <td>1</td>\n",
       "      <td>3</td>\n",
       "      <td>0</td>\n",
       "    </tr>\n",
       "    <tr>\n",
       "      <th>4</th>\n",
       "      <td>62</td>\n",
       "      <td>0</td>\n",
       "      <td>0</td>\n",
       "      <td>138</td>\n",
       "      <td>294</td>\n",
       "      <td>1</td>\n",
       "      <td>1</td>\n",
       "      <td>106</td>\n",
       "      <td>0</td>\n",
       "      <td>1.9</td>\n",
       "      <td>1</td>\n",
       "      <td>3</td>\n",
       "      <td>2</td>\n",
       "      <td>0</td>\n",
       "    </tr>\n",
       "  </tbody>\n",
       "</table>\n",
       "</div>"
      ],
      "text/plain": [
       "   age  sex  cp  trestbps  chol  fbs  restecg  thalach  exang  oldpeak  slope  \\\n",
       "0   52    1   0       125   212    0        1      168      0      1.0      2   \n",
       "1   53    1   0       140   203    1        0      155      1      3.1      0   \n",
       "2   70    1   0       145   174    0        1      125      1      2.6      0   \n",
       "3   61    1   0       148   203    0        1      161      0      0.0      2   \n",
       "4   62    0   0       138   294    1        1      106      0      1.9      1   \n",
       "\n",
       "   ca  thal  target  \n",
       "0   2     3       0  \n",
       "1   0     3       0  \n",
       "2   0     3       0  \n",
       "3   1     3       0  \n",
       "4   3     2       0  "
      ]
     },
     "execution_count": 81,
     "metadata": {},
     "output_type": "execute_result"
    }
   ],
   "source": [
    "import pandas as pd \n",
    "import numpy as np\n",
    "import statsmodels.api as sm \n",
    "import scipy.stats.distributions as dist\n",
    "df = pd.read_csv('Data/heart.csv')\n",
    "df.head()"
   ]
  },
  {
   "cell_type": "markdown",
   "id": "6996f0b1",
   "metadata": {},
   "source": [
    "Pernyataan penelitian adalah **\"The Population proportion of lreland having heart disease is 42%. Are more people suffering from heart disease in the US?\"**"
   ]
  },
  {
   "cell_type": "markdown",
   "id": "a3dba246",
   "metadata": {},
   "source": [
    "**Step 1**: define the null hypothesis and alternative hypothesis"
   ]
  },
  {
   "cell_type": "markdown",
   "id": "fbb5d238",
   "metadata": {},
   "source": [
    "Null hypothesis adalah population yang menderita penyakit jantung <42%"
   ]
  },
  {
   "cell_type": "markdown",
   "id": "691a44da",
   "metadata": {},
   "source": [
    "Hipotesis alternatifnya adalah proporsi penduduk Amerika Serikat yang menderita penyakit jantung lebih dari 42%"
   ]
  },
  {
   "cell_type": "markdown",
   "id": "a4e854de",
   "metadata": {},
   "source": [
    "Ho : p0 = 0.42 #null hypothesis\n",
    "\n",
    "Ha : p > 0.42  #alternative hypothesis "
   ]
  },
  {
   "cell_type": "markdown",
   "id": "ce95dd41",
   "metadata": {},
   "source": [
    "Mari kita lihat apakah kita dapat menemukan bukti untuk reject the null hypothesis"
   ]
  },
  {
   "cell_type": "markdown",
   "id": "265bcd23",
   "metadata": {},
   "source": [
    "**Step 2** Assume that the dataset above is a representative sample from the population of the US. So, Calculate the populationlation proportion of the US having heart disease"
   ]
  },
  {
   "cell_type": "code",
   "execution_count": 93,
   "id": "b4ea5cec",
   "metadata": {},
   "outputs": [
    {
     "data": {
      "text/plain": [
       "0.0"
      ]
     },
     "execution_count": 93,
     "metadata": {},
     "output_type": "execute_result"
    }
   ],
   "source": [
    "p_us = len(df[df['target']=='1'])/len(df)\n",
    "p_us"
   ]
  },
  {
   "cell_type": "markdown",
   "id": "7c7a4cd1",
   "metadata": {},
   "source": [
    "Untuk mengamati apakah population proportion yang diamati scr signifikan lebih dari null hipotesis, lakukan hipotesist test"
   ]
  },
  {
   "cell_type": "markdown",
   "id": "b0cfce40",
   "metadata": {},
   "source": [
    "**Step 3** Calculate the Test Statistic"
   ]
  },
  {
   "cell_type": "markdown",
   "id": "9b910bec",
   "metadata": {},
   "source": [
    "p0=0.42(menurut null hypotesis) dan n adalah ukuran sample population. Sekarang error dan test statistics:"
   ]
  },
  {
   "cell_type": "code",
   "execution_count": 86,
   "id": "6296d1e1",
   "metadata": {},
   "outputs": [],
   "source": [
    "se = np.sqrt(0.42 * (1-0.42)/len(df))"
   ]
  },
  {
   "cell_type": "markdown",
   "id": "58a44fe6",
   "metadata": {},
   "source": [
    "Lakukan test statistics menggunakan rumus test statistics diatas"
   ]
  },
  {
   "cell_type": "code",
   "execution_count": 94,
   "id": "1bf15c16",
   "metadata": {},
   "outputs": [
    {
     "data": {
      "text/plain": [
       "-27.244107240105055"
      ]
     },
     "execution_count": 94,
     "metadata": {},
     "output_type": "execute_result"
    }
   ],
   "source": [
    "# Best estimate\n",
    "be = p_us\n",
    "\n",
    "# hypothesized estimate\n",
    "he = 0.42\n",
    "test_stat = (be - he)/se\n",
    "test_stat"
   ]
  },
  {
   "cell_type": "code",
   "execution_count": 97,
   "id": "7a9fa003",
   "metadata": {},
   "outputs": [
    {
     "data": {
      "text/plain": [
       "1.9517162972676465e-163"
      ]
     },
     "execution_count": 97,
     "metadata": {},
     "output_type": "execute_result"
    }
   ],
   "source": [
    "pvalue = 2*dist.norm.cdf(-np.abs(test_stat))\n",
    "pvalue"
   ]
  },
  {
   "cell_type": "markdown",
   "id": "7aeb7657",
   "metadata": {},
   "source": [
    "**Step 5** Infer the conclusion from the p-value"
   ]
  },
  {
   "cell_type": "markdown",
   "id": "d6a1e8de",
   "metadata": {},
   "source": [
    "Pertimbangkan significance level alpha adalah 5% atau 0.05. Tingkat signifikan ada kemungkinan 95% atau lebih besar dari hasilnya tidak acak"
   ]
  },
  {
   "cell_type": "markdown",
   "id": "607f0609",
   "metadata": {},
   "source": [
    "Disni p-value lebih rendah dari significance level yang kita tentukan yaitu 0.05. Jadi kita reject the null hypothesis. Artinya terdapat perbedaan significanceinifikan dalam proporsi penduduk yang menderita penyakit jantung di irlandia dan US"
   ]
  },
  {
   "cell_type": "markdown",
   "id": "e0750657",
   "metadata": {},
   "source": [
    "# Statistical Hypothesis Test Cheat Sheet"
   ]
  },
  {
   "cell_type": "markdown",
   "id": "63d1ddd0",
   "metadata": {},
   "source": [
    "## Normality Tests"
   ]
  },
  {
   "cell_type": "markdown",
   "id": "43423e62",
   "metadata": {},
   "source": [
    "Bagian ini mencantumkan uji statistik yang dapat Anda gunakan untuk memeriksa apakah data Anda memiliki distribusi Gaussian. "
   ]
  },
  {
   "cell_type": "markdown",
   "id": "ca8827f7",
   "metadata": {},
   "source": [
    "Pengamatan pada setiap sampel bersifat independen dan terdistribusi identik (iid).\n",
    "Penafsiran\n",
    "\n",
    "H0: sampel memiliki distribusi Gaussian.\n",
    "\n",
    "H1 : sampel tidak berdistribusi Gaussian. "
   ]
  },
  {
   "cell_type": "markdown",
   "id": "8b8baf28",
   "metadata": {},
   "source": [
    "**Shapiro-Wilk Test**"
   ]
  },
  {
   "cell_type": "code",
   "execution_count": 99,
   "id": "299b28b8",
   "metadata": {},
   "outputs": [
    {
     "name": "stdout",
     "output_type": "stream",
     "text": [
      "stat=0.895, p=0.193\n",
      "Probably Gaussian\n"
     ]
    }
   ],
   "source": [
    "# Example of the Shapiro-Wilk Normality Test\n",
    "\n",
    "from scipy.stats import shapiro\n",
    "data = [0.873, 2.817, 0.121, -0.945, -0.055, -1.436, 0.360, -1.478, -1.637, -1.869]\n",
    "stat, p = shapiro(data)\n",
    "print('stat=%.3f, p=%.3f' % (stat, p))\n",
    "if p > 0.05:\n",
    "    print('Probably Gaussian')\n",
    "else:\n",
    "    print('Probably not Gaussian')"
   ]
  },
  {
   "cell_type": "markdown",
   "id": "7e09c2ce",
   "metadata": {},
   "source": [
    "**D’Agostino’s K^2 Test**"
   ]
  },
  {
   "cell_type": "code",
   "execution_count": 100,
   "id": "ffa23d9e",
   "metadata": {},
   "outputs": [
    {
     "name": "stdout",
     "output_type": "stream",
     "text": [
      "stat=3.392, p=0.183\n",
      "Probably Gaussian\n"
     ]
    },
    {
     "name": "stderr",
     "output_type": "stream",
     "text": [
      "c:\\users\\asus\\appdata\\local\\programs\\python\\python38\\lib\\site-packages\\scipy\\stats\\stats.py:1541: UserWarning: kurtosistest only valid for n>=20 ... continuing anyway, n=10\n",
      "  warnings.warn(\"kurtosistest only valid for n>=20 ... continuing \"\n"
     ]
    }
   ],
   "source": [
    "# Example of the D'Agostino's K^2 Normality Test\n",
    "from scipy.stats import normaltest\n",
    "data = [0.873, 2.817, 0.121, -0.945, -0.055, -1.436, 0.360, -1.478, -1.637, -1.869]\n",
    "stat, p = normaltest(data)\n",
    "print('stat=%.3f, p=%.3f' % (stat, p))\n",
    "if p > 0.05:\n",
    "    print('Probably Gaussian')\n",
    "else:\n",
    "    print('Probably not Gaussian')"
   ]
  },
  {
   "cell_type": "markdown",
   "id": "655868d1",
   "metadata": {},
   "source": [
    "**Anderson-Darling Test**"
   ]
  },
  {
   "cell_type": "code",
   "execution_count": 101,
   "id": "8e1b54c7",
   "metadata": {},
   "outputs": [
    {
     "name": "stdout",
     "output_type": "stream",
     "text": [
      "stat=0.424\n",
      "Probably Gaussian at the 15.0% level\n",
      "Probably Gaussian at the 10.0% level\n",
      "Probably Gaussian at the 5.0% level\n",
      "Probably Gaussian at the 2.5% level\n",
      "Probably Gaussian at the 1.0% level\n"
     ]
    }
   ],
   "source": [
    "# Example of the Anderson-Darling Normality Test\n",
    "from scipy.stats import anderson\n",
    "data = [0.873, 2.817, 0.121, -0.945, -0.055, -1.436, 0.360, -1.478, -1.637, -1.869]\n",
    "result = anderson(data)\n",
    "print('stat=%.3f' % (result.statistic))\n",
    "for i in range(len(result.critical_values)):\n",
    "    sl, cv = result.significance_level[i], result.critical_values[i]\n",
    "    if result.statistic < cv:\n",
    "        print('Probably Gaussian at the %.1f%% level' % (sl))\n",
    "    else:\n",
    "        print('Probably not Gaussian at the %.1f%% level' % (sl))"
   ]
  },
  {
   "cell_type": "markdown",
   "id": "37477c24",
   "metadata": {},
   "source": [
    "## Correlation Tests"
   ]
  },
  {
   "cell_type": "markdown",
   "id": "430ef337",
   "metadata": {},
   "source": [
    "**Pearson’s Correlation Coefficient**"
   ]
  },
  {
   "cell_type": "markdown",
   "id": "ccfb2723",
   "metadata": {},
   "source": [
    "Bagian ini berisi daftar uji statistik yang dapat Anda gunakan untuk memeriksa apakah dua sampel terkait"
   ]
  },
  {
   "cell_type": "markdown",
   "id": "083a89b1",
   "metadata": {},
   "source": [
    "**Koefisien Korelasi Pearson**\n",
    "\n",
    "Menguji apakah dua sampel memiliki hubungan linier."
   ]
  },
  {
   "cell_type": "markdown",
   "id": "f4dfeff7",
   "metadata": {},
   "source": [
    "Asumsi\n",
    "\n",
    "- Pengamatan pada setiap sampel bersifat independen dan terdistribusi identik (iid).\n",
    "- Pengamatan pada setiap sampel berdistribusi normal.\n",
    "- Pengamatan pada setiap sampel memiliki varians yang sama.\n",
    "\n",
    "\n",
    "Penafsiran\n",
    "\n",
    "H0 : kedua sampel saling bebas.\n",
    "\n",
    "H1: ada ketergantungan antar sampel. "
   ]
  },
  {
   "cell_type": "code",
   "execution_count": 103,
   "id": "0ca34773",
   "metadata": {},
   "outputs": [
    {
     "name": "stdout",
     "output_type": "stream",
     "text": [
      "stat=0.688, p=0.028\n",
      "Probably dependent\n"
     ]
    }
   ],
   "source": [
    "# Example of the Pearson's Correlation test\n",
    "from scipy.stats import pearsonr\n",
    "data1 = [0.873, 2.817, 0.121, -0.945, -0.055, -1.436, 0.360, -1.478, -1.637, -1.869]\n",
    "data2 = [0.353, 3.517, 0.125, -7.545, -0.555, -1.536, 3.350, -1.578, -3.537, -1.579]\n",
    "stat, p = pearsonr(data1, data2)\n",
    "print('stat=%.3f, p=%.3f' % (stat, p))\n",
    "if p > 0.05:\n",
    "    print('Probably independent')\n",
    "else:\n",
    "    print('Probably dependent')"
   ]
  },
  {
   "cell_type": "markdown",
   "id": "059b35d2",
   "metadata": {},
   "source": [
    "**Spearman’s Rank Correlation**"
   ]
  },
  {
   "cell_type": "markdown",
   "id": "ef9e4fb9",
   "metadata": {},
   "source": [
    "Menguji apakah dua sampel memiliki hubungan monoton."
   ]
  },
  {
   "cell_type": "markdown",
   "id": "fabaf44e",
   "metadata": {},
   "source": [
    "Asumsi\n",
    "\n",
    "Pengamatan pada setiap sampel bersifat independen dan terdistribusi identik (iid). Pengamatan di setiap sampel dapat diurutkan."
   ]
  },
  {
   "cell_type": "markdown",
   "id": "a661d3cc",
   "metadata": {},
   "source": [
    "H0 : kedua sampel saling bebas. \n",
    "\n",
    "H1: ada ketergantungan antar sampel. "
   ]
  },
  {
   "cell_type": "code",
   "execution_count": 104,
   "id": "5e86b5c5",
   "metadata": {},
   "outputs": [
    {
     "name": "stdout",
     "output_type": "stream",
     "text": [
      "stat=0.855, p=0.002\n",
      "Probably dependent\n"
     ]
    }
   ],
   "source": [
    "# Example of the Spearman's Rank Correlation Test\n",
    "from scipy.stats import spearmanr\n",
    "data1 = [0.873, 2.817, 0.121, -0.945, -0.055, -1.436, 0.360, -1.478, -1.637, -1.869]\n",
    "data2 = [0.353, 3.517, 0.125, -7.545, -0.555, -1.536, 3.350, -1.578, -3.537, -1.579]\n",
    "stat, p = spearmanr(data1, data2)\n",
    "print('stat=%.3f, p=%.3f' % (stat, p))\n",
    "if p > 0.05:\n",
    "    print('Probably independent')\n",
    "else:\n",
    "    print('Probably dependent')"
   ]
  },
  {
   "cell_type": "markdown",
   "id": "14bf6891",
   "metadata": {},
   "source": [
    "**Kendall’s Rank Correlation**"
   ]
  },
  {
   "cell_type": "markdown",
   "id": "72f844af",
   "metadata": {},
   "source": [
    "Menguji apakah dua sampel memiliki hubungan monoton."
   ]
  },
  {
   "cell_type": "markdown",
   "id": "25ae8965",
   "metadata": {},
   "source": [
    "- Pengamatan pada setiap sampel bersifat independen dan terdistribusi identik (iid).\n",
    "- Pengamatan di setiap sampel dapat diurutkan.\n",
    "\n",
    "H0 : kedua sampel saling bebas.\n",
    "\n",
    "H1: ada ketergantungan antar sampel. "
   ]
  },
  {
   "cell_type": "code",
   "execution_count": 105,
   "id": "356a96ad",
   "metadata": {},
   "outputs": [
    {
     "name": "stdout",
     "output_type": "stream",
     "text": [
      "stat=0.733, p=0.002\n",
      "Probably dependent\n"
     ]
    }
   ],
   "source": [
    "# Example of the Kendall's Rank Correlation Test\n",
    "from scipy.stats import kendalltau\n",
    "data1 = [0.873, 2.817, 0.121, -0.945, -0.055, -1.436, 0.360, -1.478, -1.637, -1.869]\n",
    "data2 = [0.353, 3.517, 0.125, -7.545, -0.555, -1.536, 3.350, -1.578, -3.537, -1.579]\n",
    "stat, p = kendalltau(data1, data2)\n",
    "print('stat=%.3f, p=%.3f' % (stat, p))\n",
    "if p > 0.05:\n",
    "    print('Probably independent')\n",
    "else:\n",
    "    print('Probably dependent')"
   ]
  },
  {
   "cell_type": "markdown",
   "id": "7fdcb274",
   "metadata": {},
   "source": [
    "**Chi-Squared Test**"
   ]
  },
  {
   "cell_type": "markdown",
   "id": "c89900f3",
   "metadata": {},
   "source": [
    "Menguji apakah dua variabel kategoris terkait atau independen."
   ]
  },
  {
   "cell_type": "markdown",
   "id": "0c304489",
   "metadata": {},
   "source": [
    "Pengamatan yang digunakan dalam perhitungan tabel kontingensi bersifat independen.\n",
    "25 atau lebih contoh di setiap sel tabel kontingensi.\n",
    "Penafsiran"
   ]
  },
  {
   "cell_type": "markdown",
   "id": "47aab2cc",
   "metadata": {},
   "source": [
    "H0 : kedua sampel saling bebas.\n",
    "\n",
    "H1: ada ketergantungan antar sampel. "
   ]
  },
  {
   "cell_type": "code",
   "execution_count": 107,
   "id": "f9b2b6ec",
   "metadata": {},
   "outputs": [
    {
     "name": "stdout",
     "output_type": "stream",
     "text": [
      "stat=0.272, p=0.873\n",
      "Probably independent\n"
     ]
    }
   ],
   "source": [
    "# Example of the Chi-Squared Test\n",
    "from scipy.stats import chi2_contingency\n",
    "table = [[10, 20, 30],[6,  9,  17]]\n",
    "stat, p, dof, expected = chi2_contingency(table)\n",
    "print('stat=%.3f, p=%.3f' % (stat, p))\n",
    "if p > 0.05:\n",
    "    print('Probably independent')\n",
    "else:\n",
    "    print('Probably dependent')"
   ]
  },
  {
   "cell_type": "markdown",
   "id": "85272302",
   "metadata": {},
   "source": [
    "## Stationary Tests"
   ]
  },
  {
   "cell_type": "markdown",
   "id": "ffc4e6b4",
   "metadata": {},
   "source": [
    "Bagian ini mencantumkan tes statistik yang dapat Anda gunakan untuk memeriksa apakah deret waktu stasioner atau tidak."
   ]
  },
  {
   "cell_type": "markdown",
   "id": "b71eff1f",
   "metadata": {},
   "source": [
    "**Augmented Dickey-Fuller Unit Root Test**"
   ]
  },
  {
   "cell_type": "markdown",
   "id": "2d8446be",
   "metadata": {},
   "source": [
    "Menguji apakah deret waktu memiliki akar unit, mis. memiliki trend atau lebih umum bersifat autoregressive."
   ]
  },
  {
   "cell_type": "markdown",
   "id": "7a7ef3da",
   "metadata": {},
   "source": [
    "Asumsi\n",
    "\n",
    "Pengamatan di dipesan sementara."
   ]
  },
  {
   "cell_type": "markdown",
   "id": "6c9a6012",
   "metadata": {},
   "source": [
    "H0: ada akar unit (seri tidak stasioner).\n",
    "    \n",
    "H1: akar unit tidak ada (seri stasioner). "
   ]
  },
  {
   "cell_type": "code",
   "execution_count": 109,
   "id": "55fb285a",
   "metadata": {},
   "outputs": [
    {
     "name": "stdout",
     "output_type": "stream",
     "text": [
      "stat=0.517, p=0.985\n",
      "Probably not Stationary\n"
     ]
    }
   ],
   "source": [
    "# Example of the Augmented Dickey-Fuller unit root test\n",
    "from statsmodels.tsa.stattools import adfuller\n",
    "data = [0, 1, 2, 3, 4, 5, 6, 7, 8, 9]\n",
    "stat, p, lags, obs, crit, t = adfuller(data)\n",
    "print('stat=%.3f, p=%.3f' % (stat, p))\n",
    "if p > 0.05:\n",
    "    print('Probably not Stationary')\n",
    "else:\n",
    "    print('Probably Stationary')"
   ]
  },
  {
   "cell_type": "markdown",
   "id": "dc5cce7d",
   "metadata": {},
   "source": [
    "**Kwiatkowski-Phillips-Schmidt-Shin**"
   ]
  },
  {
   "cell_type": "markdown",
   "id": "05a093bd",
   "metadata": {},
   "source": [
    "Menguji apakah deret waktu tren stasioner atau tidak.\n",
    "\n",
    "Asumsi: Pengamatan di dipesan sementara.\n",
    "\n",
    "\n",
    "Penafsiran\n",
    "\n",
    "H0: time series tidak trend-stasioner.\n",
    "    \n",
    "H1: deret waktu adalah tren-stasioner. "
   ]
  },
  {
   "cell_type": "code",
   "execution_count": 111,
   "id": "a6b2664b",
   "metadata": {},
   "outputs": [
    {
     "name": "stdout",
     "output_type": "stream",
     "text": [
      "stat=0.594, p=0.023\n",
      "Probably Stationary\n"
     ]
    }
   ],
   "source": [
    "# Example of the Kwiatkowski-Phillips-Schmidt-Shin test\n",
    "from statsmodels.tsa.stattools import kpss\n",
    "data = [0, 1, 2, 3, 4, 5, 6, 7, 8, 9]\n",
    "stat, p, lags, crit = kpss(data)\n",
    "print('stat=%.3f, p=%.3f' % (stat, p))\n",
    "if p > 0.05:\n",
    "    print('Probably not Stationary')\n",
    "else:\n",
    "    print('Probably Stationary')"
   ]
  },
  {
   "cell_type": "markdown",
   "id": "710d83d5",
   "metadata": {},
   "source": [
    "## Parametric Statistical Hypothesis Tests"
   ]
  },
  {
   "cell_type": "markdown",
   "id": "b52234d3",
   "metadata": {},
   "source": [
    "Bagian ini mencantumkan uji statistik yang dapat Anda gunakan untuk membandingkan sampel data.\n"
   ]
  },
  {
   "cell_type": "markdown",
   "id": "b8297516",
   "metadata": {},
   "source": [
    "**Student’s t-test**"
   ]
  },
  {
   "cell_type": "markdown",
   "id": "23282677",
   "metadata": {},
   "source": [
    "Menguji apakah mean dari dua sampel independen berbeda secara signifikan."
   ]
  },
  {
   "cell_type": "markdown",
   "id": "a069a900",
   "metadata": {},
   "source": [
    "Asumsi\n",
    "\n",
    "- Pengamatan pada setiap sampel bersifat independen dan terdistribusi identik (iid).\n",
    "- Pengamatan pada setiap sampel berdistribusi normal.\n",
    "- Pengamatan pada setiap sampel memiliki varians yang sama."
   ]
  },
  {
   "cell_type": "markdown",
   "id": "81937c3f",
   "metadata": {},
   "source": [
    "Penafsiran\n",
    "\n",
    "- H0: rata-rata sampel sama.\n",
    "- H1: rata-rata sampel tidak sama"
   ]
  },
  {
   "cell_type": "code",
   "execution_count": 112,
   "id": "d0b9cb3b",
   "metadata": {},
   "outputs": [
    {
     "name": "stdout",
     "output_type": "stream",
     "text": [
      "stat=-0.326, p=0.748\n",
      "Probably the same distribution\n"
     ]
    }
   ],
   "source": [
    "# Example of the Student's t-test\n",
    "from scipy.stats import ttest_ind\n",
    "data1 = [0.873, 2.817, 0.121, -0.945, -0.055, -1.436, 0.360, -1.478, -1.637, -1.869]\n",
    "data2 = [1.142, -0.432, -0.938, -0.729, -0.846, -0.157, 0.500, 1.183, -1.075, -0.169]\n",
    "stat, p = ttest_ind(data1, data2)\n",
    "print('stat=%.3f, p=%.3f' % (stat, p))\n",
    "if p > 0.05:\n",
    "    print('Probably the same distribution')\n",
    "else:\n",
    "    print('Probably different distributions')"
   ]
  },
  {
   "cell_type": "markdown",
   "id": "f256470a",
   "metadata": {},
   "source": [
    "**Paired Student’s t-test**"
   ]
  },
  {
   "cell_type": "markdown",
   "id": "26c021d1",
   "metadata": {},
   "source": [
    "Menguji apakah mean dari dua sampel berpasangan berbeda secara signifikan.\n",
    "\n",
    "Asumsi\n",
    "\n",
    "- Pengamatan pada setiap sampel bersifat independen dan terdistribusi identik (iid).\n",
    "- Pengamatan pada setiap sampel berdistribusi normal.\n",
    "- Pengamatan pada setiap sampel memiliki varians yang sama.\n",
    "- Pengamatan di setiap sampel dipasangkan."
   ]
  },
  {
   "cell_type": "markdown",
   "id": "1ca4857f",
   "metadata": {},
   "source": [
    "Penafsiran\n",
    "\n",
    "- H0: rata-rata sampel sama.\n",
    "- H1: rata-rata sampel tidak sama."
   ]
  },
  {
   "cell_type": "code",
   "execution_count": 113,
   "id": "709ad055",
   "metadata": {},
   "outputs": [
    {
     "name": "stdout",
     "output_type": "stream",
     "text": [
      "stat=-0.334, p=0.746\n",
      "Probably the same distribution\n"
     ]
    }
   ],
   "source": [
    "# Example of the Paired Student's t-test\n",
    "from scipy.stats import ttest_rel\n",
    "data1 = [0.873, 2.817, 0.121, -0.945, -0.055, -1.436, 0.360, -1.478, -1.637, -1.869]\n",
    "data2 = [1.142, -0.432, -0.938, -0.729, -0.846, -0.157, 0.500, 1.183, -1.075, -0.169]\n",
    "stat, p = ttest_rel(data1, data2)\n",
    "print('stat=%.3f, p=%.3f' % (stat, p))\n",
    "if p > 0.05:\n",
    "    print('Probably the same distribution')\n",
    "else:\n",
    "    print('Probably different distributions')"
   ]
  },
  {
   "cell_type": "markdown",
   "id": "c73ade7d",
   "metadata": {},
   "source": [
    "**Analysis of Variance Test (ANOVA)**"
   ]
  },
  {
   "cell_type": "markdown",
   "id": "a3c8fdba",
   "metadata": {},
   "source": [
    "menguji apakah rata-rata dari dua atau lebih sampel independen berbeda secara signifikan.\n",
    "\n",
    "Asumsi\n",
    "\n",
    "- Pengamatan pada setiap sampel bersifat independen dan terdistribusi identik (iid).\n",
    "- Pengamatan pada setiap sampel berdistribusi normal.\n",
    "- Pengamatan pada setiap sampel memiliki varians yang sama.\n",
    "\n",
    "\n",
    "Penafsiran\n",
    "\n",
    "- H0: rata-rata sampel sama.\n",
    "- H1: satu atau lebih rata-rata sampel tidak sama. "
   ]
  },
  {
   "cell_type": "code",
   "execution_count": 114,
   "id": "38f37676",
   "metadata": {},
   "outputs": [
    {
     "name": "stdout",
     "output_type": "stream",
     "text": [
      "stat=0.096, p=0.908\n",
      "Probably the same distribution\n"
     ]
    }
   ],
   "source": [
    "# Example of the Analysis of Variance Test\n",
    "from scipy.stats import f_oneway\n",
    "data1 = [0.873, 2.817, 0.121, -0.945, -0.055, -1.436, 0.360, -1.478, -1.637, -1.869]\n",
    "data2 = [1.142, -0.432, -0.938, -0.729, -0.846, -0.157, 0.500, 1.183, -1.075, -0.169]\n",
    "data3 = [-0.208, 0.696, 0.928, -1.148, -0.213, 0.229, 0.137, 0.269, -0.870, -1.204]\n",
    "stat, p = f_oneway(data1, data2, data3)\n",
    "print('stat=%.3f, p=%.3f' % (stat, p))\n",
    "if p > 0.05:\n",
    "    print('Probably the same distribution')\n",
    "else:\n",
    "    print('Probably different distributions')"
   ]
  },
  {
   "cell_type": "markdown",
   "id": "b66e71cb",
   "metadata": {},
   "source": [
    "## Nonparametric Statistical Hypothesis Tests"
   ]
  },
  {
   "cell_type": "markdown",
   "id": "2620913f",
   "metadata": {},
   "source": [
    "**Mann-Whitney U Test**"
   ]
  },
  {
   "cell_type": "markdown",
   "id": "9715ecf2",
   "metadata": {},
   "source": [
    "Menguji apakah distribusi dua sampel independen sama atau tidak.\n",
    "\n",
    "Asumsi\n",
    "\n",
    "- Pengamatan pada setiap sampel bersifat independen dan terdistribusi identik (iid).\n",
    "- Pengamatan di setiap sampel dapat diberi peringkat.\n",
    "\n",
    "Penafsiran\n",
    "\n",
    "- H0 : distribusi kedua sampel sama.\n",
    "- H1: distribusi kedua sampel tidak sama.\n"
   ]
  },
  {
   "cell_type": "code",
   "execution_count": 115,
   "id": "a8fcf80e",
   "metadata": {},
   "outputs": [
    {
     "name": "stdout",
     "output_type": "stream",
     "text": [
      "stat=40.000, p=0.473\n",
      "Probably the same distribution\n"
     ]
    }
   ],
   "source": [
    "# Example of the Mann-Whitney U Test\n",
    "from scipy.stats import mannwhitneyu\n",
    "data1 = [0.873, 2.817, 0.121, -0.945, -0.055, -1.436, 0.360, -1.478, -1.637, -1.869]\n",
    "data2 = [1.142, -0.432, -0.938, -0.729, -0.846, -0.157, 0.500, 1.183, -1.075, -0.169]\n",
    "stat, p = mannwhitneyu(data1, data2)\n",
    "print('stat=%.3f, p=%.3f' % (stat, p))\n",
    "if p > 0.05:\n",
    "    print('Probably the same distribution')\n",
    "else:\n",
    "    print('Probably different distributions')"
   ]
  },
  {
   "cell_type": "markdown",
   "id": "5c1cb65d",
   "metadata": {},
   "source": [
    "**Wilcoxon Signed-Rank Test**"
   ]
  },
  {
   "cell_type": "markdown",
   "id": "3bcc8d2f",
   "metadata": {},
   "source": [
    "Menguji apakah distribusi dua sampel berpasangan sama atau tidak.\n",
    "\n",
    "Asumsi\n",
    "\n",
    "- Pengamatan pada setiap sampel bersifat independen dan terdistribusi identik (iid).\n",
    "- Pengamatan di setiap sampel dapat diberi peringkat.\n",
    "- Pengamatan di setiap sampel dipasangkan.\n",
    "\n",
    "Penafsiran\n",
    "\n",
    "- H0 : distribusi kedua sampel sama.\n",
    "- H1: distribusi kedua sampel tidak sama. "
   ]
  },
  {
   "cell_type": "code",
   "execution_count": 117,
   "id": "36a26329",
   "metadata": {},
   "outputs": [
    {
     "name": "stdout",
     "output_type": "stream",
     "text": [
      "stat=21.000, p=0.557\n",
      "Probably the same distribution\n"
     ]
    }
   ],
   "source": [
    "# Example of the Wilcoxon Signed-Rank Test\n",
    "from scipy.stats import wilcoxon\n",
    "data1 = [0.873, 2.817, 0.121, -0.945, -0.055, -1.436, 0.360, -1.478, -1.637, -1.869]\n",
    "data2 = [1.142, -0.432, -0.938, -0.729, -0.846, -0.157, 0.500, 1.183, -1.075, -0.169]\n",
    "stat, p = wilcoxon(data1, data2)\n",
    "print('stat=%.3f, p=%.3f' % (stat, p))\n",
    "if p > 0.05:\n",
    "    print('Probably the same distribution')\n",
    "else:\n",
    "    print('Probably different distributions')"
   ]
  },
  {
   "cell_type": "markdown",
   "id": "a16f8de3",
   "metadata": {},
   "source": [
    "**Kruskal-Wallis H Test**"
   ]
  },
  {
   "cell_type": "markdown",
   "id": "ce2538a6",
   "metadata": {},
   "source": [
    "Menguji apakah distribusi dua atau lebih sampel independen sama atau tidak.\n",
    "\n",
    "Asumsi\n",
    "\n",
    "- Pengamatan pada setiap sampel bersifat independen dan terdistribusi identik (iid).\n",
    "- Pengamatan di setiap sampel dapat diberi peringkat.\n",
    "\n",
    "Penafsiran\n",
    "\n",
    "- H0: distribusi semua sampel sama.\n",
    "- H1: distribusi satu atau lebih sampel tidak sama."
   ]
  },
  {
   "cell_type": "code",
   "execution_count": 118,
   "id": "61b57098",
   "metadata": {},
   "outputs": [
    {
     "name": "stdout",
     "output_type": "stream",
     "text": [
      "stat=0.571, p=0.450\n",
      "Probably the same distribution\n"
     ]
    }
   ],
   "source": [
    "# Example of the Kruskal-Wallis H Test\n",
    "from scipy.stats import kruskal\n",
    "data1 = [0.873, 2.817, 0.121, -0.945, -0.055, -1.436, 0.360, -1.478, -1.637, -1.869]\n",
    "data2 = [1.142, -0.432, -0.938, -0.729, -0.846, -0.157, 0.500, 1.183, -1.075, -0.169]\n",
    "stat, p = kruskal(data1, data2)\n",
    "print('stat=%.3f, p=%.3f' % (stat, p))\n",
    "if p > 0.05:\n",
    "    print('Probably the same distribution')\n",
    "else:\n",
    "    print('Probably different distributions')"
   ]
  },
  {
   "cell_type": "markdown",
   "id": "0e0bee8d",
   "metadata": {},
   "source": [
    "**Friedman Test**"
   ]
  },
  {
   "cell_type": "markdown",
   "id": "9a0ece21",
   "metadata": {},
   "source": [
    "Menguji apakah distribusi dua atau lebih sampel berpasangan sama atau tidak.\n",
    "\n",
    "Asumsi\n",
    "\n",
    "- Pengamatan pada setiap sampel bersifat independen dan terdistribusi identik (iid).\n",
    "- Pengamatan di setiap sampel dapat diberi peringkat.\n",
    "- Pengamatan di setiap sampel dipasangkan.\n",
    "\n",
    "Penafsiran\n",
    "\n",
    "- H0: distribusi semua sampel sama.\n",
    "- H1: distribusi satu atau lebih sampel tidak sama."
   ]
  },
  {
   "cell_type": "code",
   "execution_count": 119,
   "id": "8ee0cf54",
   "metadata": {},
   "outputs": [
    {
     "name": "stdout",
     "output_type": "stream",
     "text": [
      "stat=0.800, p=0.670\n",
      "Probably the same distribution\n"
     ]
    }
   ],
   "source": [
    "# Example of the Friedman Test\n",
    "from scipy.stats import friedmanchisquare\n",
    "data1 = [0.873, 2.817, 0.121, -0.945, -0.055, -1.436, 0.360, -1.478, -1.637, -1.869]\n",
    "data2 = [1.142, -0.432, -0.938, -0.729, -0.846, -0.157, 0.500, 1.183, -1.075, -0.169]\n",
    "data3 = [-0.208, 0.696, 0.928, -1.148, -0.213, 0.229, 0.137, 0.269, -0.870, -1.204]\n",
    "stat, p = friedmanchisquare(data1, data2, data3)\n",
    "print('stat=%.3f, p=%.3f' % (stat, p))\n",
    "if p > 0.05:\n",
    "    print('Probably the same distribution')\n",
    "else:\n",
    "    print('Probably different distributions')"
   ]
  },
  {
   "cell_type": "code",
   "execution_count": null,
   "id": "24ba4af9",
   "metadata": {},
   "outputs": [],
   "source": []
  }
 ],
 "metadata": {
  "kernelspec": {
   "display_name": "Python 3 (ipykernel)",
   "language": "python",
   "name": "python3"
  },
  "language_info": {
   "codemirror_mode": {
    "name": "ipython",
    "version": 3
   },
   "file_extension": ".py",
   "mimetype": "text/x-python",
   "name": "python",
   "nbconvert_exporter": "python",
   "pygments_lexer": "ipython3",
   "version": "3.8.7"
  },
  "toc": {
   "base_numbering": 1,
   "nav_menu": {},
   "number_sections": true,
   "sideBar": true,
   "skip_h1_title": false,
   "title_cell": "Table of Contents",
   "title_sidebar": "Contents",
   "toc_cell": true,
   "toc_position": {},
   "toc_section_display": true,
   "toc_window_display": false
  }
 },
 "nbformat": 4,
 "nbformat_minor": 5
}
