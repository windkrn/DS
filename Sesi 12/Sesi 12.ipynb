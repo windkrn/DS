{
 "cells": [
  {
   "cell_type": "markdown",
   "id": "0d57d760",
   "metadata": {
    "toc": true
   },
   "source": [
    "<h1>Table of Contents<span class=\"tocSkip\"></span></h1>\n",
    "<div class=\"toc\"><ul class=\"toc-item\"><li><span><a href=\"#Logistic-Regression-in-Python\" data-toc-modified-id=\"Logistic-Regression-in-Python-1\"><span class=\"toc-item-num\">1&nbsp;&nbsp;</span>Logistic Regression in Python</a></span><ul class=\"toc-item\"><li><span><a href=\"#Logistic-Regression-in-Python-With-scikit-learn:-Example-1\" data-toc-modified-id=\"Logistic-Regression-in-Python-With-scikit-learn:-Example-1-1.1\"><span class=\"toc-item-num\">1.1&nbsp;&nbsp;</span>Logistic Regression in Python With scikit-learn: Example 1</a></span></li><li><span><a href=\"#Linear-Regression-in-Python:-Handwriting-Recognition\" data-toc-modified-id=\"Linear-Regression-in-Python:-Handwriting-Recognition-1.2\"><span class=\"toc-item-num\">1.2&nbsp;&nbsp;</span>Linear Regression in Python: Handwriting Recognition</a></span></li></ul></li><li><span><a href=\"#K-Nearest-Neighbor-(KNN)\" data-toc-modified-id=\"K-Nearest-Neighbor-(KNN)-2\"><span class=\"toc-item-num\">2&nbsp;&nbsp;</span>K-Nearest Neighbor (KNN)</a></span><ul class=\"toc-item\"><li><span><a href=\"#KKN-in-Python-With-scikit-learn:-Example-1\" data-toc-modified-id=\"KKN-in-Python-With-scikit-learn:-Example-1-2.1\"><span class=\"toc-item-num\">2.1&nbsp;&nbsp;</span>KKN in Python With scikit-learn: Example 1</a></span></li><li><span><a href=\"#KNN-in-Python-With-scikit-learn:-KNN-with-Multiple-Labels\" data-toc-modified-id=\"KNN-in-Python-With-scikit-learn:-KNN-with-Multiple-Labels-2.2\"><span class=\"toc-item-num\">2.2&nbsp;&nbsp;</span>KNN in Python With scikit-learn: KNN with Multiple Labels</a></span></li></ul></li></ul></div>"
   ]
  },
  {
   "cell_type": "markdown",
   "id": "3b709cc0",
   "metadata": {},
   "source": [
    "# Logistic Regression in Python"
   ]
  },
  {
   "cell_type": "markdown",
   "id": "7a4a3c8c",
   "metadata": {},
   "source": [
    "## Logistic Regression in Python With scikit-learn: Example 1"
   ]
  },
  {
   "cell_type": "markdown",
   "id": "a7ffebd3",
   "metadata": {},
   "source": [
    "Contoh pertama terkait dengan single-variate binary clasification problem. Ada beberapa langkah umum yang harus kita ambil saat menyiapkan model klasifikasi:"
   ]
  },
  {
   "cell_type": "markdown",
   "id": "320a440e",
   "metadata": {},
   "source": [
    "**Step 1 :** Import Packages, function, and classes"
   ]
  },
  {
   "cell_type": "code",
   "execution_count": 81,
   "id": "3f40e19f",
   "metadata": {},
   "outputs": [],
   "source": [
    "import matplotlib.pyplot as plt\n",
    "import numpy as np\n",
    "\n",
    "from sklearn.linear_model import LogisticRegression\n",
    "from sklearn.metrics import classification_report, confusion_matrix"
   ]
  },
  {
   "cell_type": "markdown",
   "id": "1d3791d4",
   "metadata": {},
   "source": [
    "**Step 2:** Get Data in pratice, you'll usually have some data to work with. For the purpose of the example, let's just create arrays for the input(x) dan output(y) values:"
   ]
  },
  {
   "cell_type": "markdown",
   "id": "8651d7c7",
   "metadata": {},
   "source": [
    "input dan ouput harus berupa array NumPy (instance kelas numpy.ndarray) atau objek serupa numpy.arange() u/ membuat array nilai yang berurutan dan berjarak sama dalam rentang tertentu."
   ]
  },
  {
   "cell_type": "code",
   "execution_count": 2,
   "id": "0ad5eeb5",
   "metadata": {},
   "outputs": [],
   "source": [
    "x = np.arange(10).reshape(-1,1)     # array x harus 2 dimensi, dnegan reshape dan argumen -1 u/ mendapatkan baris sebanyak yang diperlukan dan 1 u/ mendapatkan satu kolom.\n",
    "y = np.array([0,0,0,0,1,1,1,1,1,1])"
   ]
  },
  {
   "cell_type": "code",
   "execution_count": 3,
   "id": "d294a4dd",
   "metadata": {},
   "outputs": [
    {
     "name": "stdout",
     "output_type": "stream",
     "text": [
      "[[0]\n",
      " [1]\n",
      " [2]\n",
      " [3]\n",
      " [4]\n",
      " [5]\n",
      " [6]\n",
      " [7]\n",
      " [8]\n",
      " [9]] [0 0 0 0 1 1 1 1 1 1]\n"
     ]
    }
   ],
   "source": [
    "print(x,y)"
   ]
  },
  {
   "cell_type": "markdown",
   "id": "107f2cdf",
   "metadata": {},
   "source": [
    "x memiliki dua dimensi\n",
    "\n",
    "- satu kolom    : u/masukan\n",
    "- sepuluh baris : masing-maisng sesuai dengan satu pengamatan\n",
    "\n",
    "y adalah satu dimensi dengan 10 item. Berisi nol dan satu karena ini adalah klasifikasi biner."
   ]
  },
  {
   "cell_type": "markdown",
   "id": "a8ece92f",
   "metadata": {},
   "source": [
    "**Step 3:** Create a Model and Train it"
   ]
  },
  {
   "cell_type": "markdown",
   "id": "71115dcf",
   "metadata": {},
   "source": [
    "Membuat dan menentukan model klasifikasi. kita akan membuatnya dengan instance kelas LogisticRegression:"
   ]
  },
  {
   "cell_type": "code",
   "execution_count": 4,
   "id": "12292135",
   "metadata": {},
   "outputs": [],
   "source": [
    "model = LogisticRegression(solver='liblinear', random_state=0)"
   ]
  },
  {
   "cell_type": "markdown",
   "id": "30854731",
   "metadata": {},
   "source": [
    "Pernyataan di atas membuat LogisticRegression dan mengikat refrensinya ke variabel model. LogisticRegression memiliki beberapa parameter opsional yang menentukan perilaku dan pendekatan model"
   ]
  },
  {
   "cell_type": "markdown",
   "id": "6dac9711",
   "metadata": {},
   "source": [
    "- penalty adalah string ('l2' secara default) yang memutuskan apakah ada regularisasi dan pendekatan mana yang digunakan. Pilihan lainnya adalah 'l1', 'elasticnet', dan 'none'.\n",
    "\n",
    "- dual adalah Boolean (False secara default) yang memutuskan apakah akan menggunakan formulasi primal (bila False) atau ganda (bila True).\n",
    "\n",
    "- tol adalah angka floating-point (0,0001 secara default) yang mendefinisikan toleransi untuk menghentikan prosedur.\n",
    "\n",
    "- C adalah angka floating-point positif (1.0 secara default) yang mendefinisikan kekuatan relatif dari regularisasi. Nilai yang lebih kecil menunjukkan regularisasi yang lebih kuat.\n",
    "\n",
    "- fit_intercept adalah Boolean (Benar secara default) yang memutuskan apakah akan menghitung intersep (bila Benar) atau menganggapnya sama dengan nol (bila Salah).\n",
    "\n",
    "- intersep_scaling adalah angka floating-point (1.0 secara default) yang mendefinisikan skala intersep .\n",
    "\n",
    "- class_weight adalah kamus, 'balanced', atau None (default) yang mendefinisikan bobot yang terkait dengan setiap kelas. Bila Tidak Ada, semua kelas memiliki bobot satu.\n",
    "\n",
    "- random_state adalah bilangan bulat, turunan dari numpy.RandomState, atau None (default) yang menentukan generator nomor pseudo-acak yang akan digunakan.\n",
    "\n",
    "- solver adalah string ('liblinear' secara default) yang memutuskan solver apa yang akan digunakan untuk menyesuaikan model. Pilihan lainnya adalah 'newton-cg', 'lbfgs', 'sag', dan 'saga'.\n",
    "\n",
    "- max_iter adalah bilangan bulat (100 secara default) yang menentukan jumlah maksimum iterasi oleh solver selama pemasangan model.\n",
    "\n",
    "- multi_class adalah string ('ovr' secara default) yang memutuskan pendekatan yang digunakan untuk menangani beberapa kelas. Pilihan lainnya adalah 'multinomial' dan 'auto'.\n",
    "\n",
    "- verbose adalah bilangan bulat non-negatif (0 secara default) yang mendefinisikan verbositas untuk pemecah 'liblinear' dan 'lbfgs'.\n",
    "\n",
    "- warm_start adalah Boolean (False secara default) yang memutuskan apakah akan menggunakan kembali solusi yang diperoleh sebelumnya.\n",
    "\n",
    "- n_jobs adalah bilangan bulat atau None (default) yang menentukan jumlah proses paralel yang akan digunakan. None biasanya berarti menggunakan satu inti, sedangkan -1 berarti menggunakan semua inti yang tersedia.\n",
    "\n",
    "- l1_ratio adalah angka floating-point antara nol dan satu atau None (default). Ini mendefinisikan kepentingan relatif dari bagian L1 dalam regularisasi jaring elastis."
   ]
  },
  {
   "cell_type": "markdown",
   "id": "f820ccc3",
   "metadata": {},
   "source": [
    "Anda harus hati-hati mencocokkan solver dan metode regularisasi karena beberapa alasan:\n",
    "\n",
    "- 'liblinear' solver tidak berfungsi tanpa regularisasi.\n",
    "- 'newton-cg', 'sag', 'saga', dan 'lbfgs' tidak mendukung regularisasi L1.\n",
    "- 'saga' adalah satu-satunya pemecah yang mendukung regularisasi jaring elastis."
   ]
  },
  {
   "cell_type": "markdown",
   "id": "67842c8b",
   "metadata": {},
   "source": [
    "Setelah model dibuat, kita perlu menyesuaikan(melataih) model tersebut. Model fitting adalah proses menentukan koefisien 𝑏₀, 𝑏₁, …, 𝑏ᵣ yang sesuai dengan best value of the cost function. Kita akan melatih model dengan .fit():"
   ]
  },
  {
   "cell_type": "code",
   "execution_count": 5,
   "id": "73ed345c",
   "metadata": {},
   "outputs": [
    {
     "data": {
      "text/plain": [
       "LogisticRegression(random_state=0, solver='liblinear')"
      ]
     },
     "execution_count": 5,
     "metadata": {},
     "output_type": "execute_result"
    }
   ],
   "source": [
    "model.fit(x, y)"
   ]
  },
  {
   "cell_type": "markdown",
   "id": "4416f783",
   "metadata": {},
   "source": [
    "Pernyataan diatas sama dengan dibawah ini"
   ]
  },
  {
   "cell_type": "code",
   "execution_count": 6,
   "id": "b5bb2ca9",
   "metadata": {},
   "outputs": [],
   "source": [
    "model = LogisticRegression(solver='liblinear', random_state=0).fit(x, y)"
   ]
  },
  {
   "cell_type": "markdown",
   "id": "53a51909",
   "metadata": {},
   "source": [
    "Pada titik ini, kita telah membuat model klasifikasi"
   ]
  },
  {
   "cell_type": "markdown",
   "id": "9cdca300",
   "metadata": {},
   "source": [
    "Kita bisa dengan cepat mendapatkan atribut model kita. Misalnya, atribut .classes_ mewakili array nilai berbeda yang diambil y:"
   ]
  },
  {
   "cell_type": "code",
   "execution_count": 7,
   "id": "0da0a688",
   "metadata": {},
   "outputs": [
    {
     "data": {
      "text/plain": [
       "array([0, 1])"
      ]
     },
     "execution_count": 7,
     "metadata": {},
     "output_type": "execute_result"
    }
   ],
   "source": [
    "model.classes_"
   ]
  },
  {
   "cell_type": "markdown",
   "id": "0a9a472f",
   "metadata": {},
   "source": [
    "Ini adalah contoh klasifikasi biner, dan y bisa menjadi 0 atau 1"
   ]
  },
  {
   "cell_type": "markdown",
   "id": "eedd8697",
   "metadata": {},
   "source": [
    "Kita juga bisa mendapatkan nilai slope 𝑏₁ and the intercept 𝑏₀ of the linear function 𝑓 seperti:"
   ]
  },
  {
   "cell_type": "code",
   "execution_count": 8,
   "id": "6d703e46",
   "metadata": {},
   "outputs": [
    {
     "name": "stdout",
     "output_type": "stream",
     "text": [
      "[-1.04608067] [[0.51491375]]\n"
     ]
    }
   ],
   "source": [
    "print(model.intercept_, model.coef_)"
   ]
  },
  {
   "cell_type": "markdown",
   "id": "00af0835",
   "metadata": {},
   "source": [
    "𝑏₀ : array satu dimensi \n",
    "\n",
    "𝑏₁ : array dua dimensi\n",
    "   "
   ]
  },
  {
   "cell_type": "markdown",
   "id": "4d89dce8",
   "metadata": {},
   "source": [
    "**Step 4:** Evaluate the Model"
   ]
  },
  {
   "cell_type": "markdown",
   "id": "b9b9a35b",
   "metadata": {},
   "source": [
    "Setelah model ditentukan, kita dapat memeriksa performanya dengan .predict_proba() yang mengembalikan matriks probabilitas bahwa keluaran yang diprediksi sama dengan nol atau satu:"
   ]
  },
  {
   "cell_type": "code",
   "execution_count": 9,
   "id": "09c4c63d",
   "metadata": {},
   "outputs": [
    {
     "data": {
      "text/plain": [
       "array([[0.74002157, 0.25997843],\n",
       "       [0.62975524, 0.37024476],\n",
       "       [0.5040632 , 0.4959368 ],\n",
       "       [0.37785549, 0.62214451],\n",
       "       [0.26628093, 0.73371907],\n",
       "       [0.17821501, 0.82178499],\n",
       "       [0.11472079, 0.88527921],\n",
       "       [0.07186982, 0.92813018],\n",
       "       [0.04422513, 0.95577487],\n",
       "       [0.02690569, 0.97309431]])"
      ]
     },
     "execution_count": 9,
     "metadata": {},
     "output_type": "execute_result"
    }
   ],
   "source": [
    "model.predict_proba(x)"
   ]
  },
  {
   "cell_type": "markdown",
   "id": "4965b043",
   "metadata": {},
   "source": [
    "Dalam matriks diatas, setiap baris sesuai dengan satu observasi. \n",
    "- Kolom pertama : probabilitas keluaran yang diprediksi menjadi nol, yaitu 1 -p(x)\n",
    "- Kolom kedua   : probabilitas yang outputnya satu, atau p(x)"
   ]
  },
  {
   "cell_type": "code",
   "execution_count": 10,
   "id": "1687ba19",
   "metadata": {},
   "outputs": [
    {
     "data": {
      "text/plain": [
       "array([0, 0, 0, 1, 1, 1, 1, 1, 1, 1])"
      ]
     },
     "execution_count": 10,
     "metadata": {},
     "output_type": "execute_result"
    }
   ],
   "source": [
    "# mendapatkan prediksi aktual, berdasarkan matriks probabilitas dan nilai p(x)\n",
    "model.predict(x)"
   ]
  },
  {
   "cell_type": "markdown",
   "id": "fed05d96",
   "metadata": {},
   "source": [
    "Jika kita memiliki sembilan dari sepuluh observasi yang diklasifikasikan dengan benar, akurasi model kita sama dengangan 9/10 = 0.9 "
   ]
  },
  {
   "cell_type": "code",
   "execution_count": 11,
   "id": "4d3ce229",
   "metadata": {},
   "outputs": [
    {
     "data": {
      "text/plain": [
       "0.9"
      ]
     },
     "execution_count": 11,
     "metadata": {},
     "output_type": "execute_result"
    }
   ],
   "source": [
    "# mengambil i dan o sebagai argumen dan mengembalikan rasio jumlah prediksi yang benar dengan jumlah observasi\n",
    "model.score(x,y)"
   ]
  },
  {
   "cell_type": "markdown",
   "id": "b9f5e3aa",
   "metadata": {},
   "source": [
    "Kita bisa mendapatkan lebih banyak informasi tentang keakuratan model dengan confusion matrix. Untuk membuat confusion matrix, kita bisa menggunakan confusion_matrix() dan memberikan actual dan predicted outputs sebagai argumen:"
   ]
  },
  {
   "cell_type": "code",
   "execution_count": 12,
   "id": "fe229eec",
   "metadata": {},
   "outputs": [
    {
     "data": {
      "text/plain": [
       "array([[3, 1],\n",
       "       [0, 6]], dtype=int64)"
      ]
     },
     "execution_count": 12,
     "metadata": {},
     "output_type": "execute_result"
    }
   ],
   "source": [
    "confusion_matrix(y, model.predict(x))"
   ]
  },
  {
   "cell_type": "markdown",
   "id": "0e02c72c",
   "metadata": {},
   "source": [
    "Matriks yang diperoleh menunjukkan hal berikut:\n",
    "\n",
    "- Tiga prediksi negatif yang benar: Tiga pengamatan pertama adalah nol yang diprediksi dengan benar.\n",
    "\n",
    "- Tidak ada prediksi negatif palsu: Ini adalah prediksi yang salah sebagai nol.\n",
    "\n",
    "- Satu prediksi positif palsu: Pengamatan keempat adalah nol yang salah diprediksi sebagai satu.\n",
    "\n",
    "- Enam prediksi positif yang benar: Enam pengamatan terakhir adalah yang diprediksi dengan benar."
   ]
  },
  {
   "cell_type": "markdown",
   "id": "2d3c5aa6",
   "metadata": {},
   "source": [
    "Memvisualisasikan confusion matrix dengan .imshow() dari matplotlib, yang menerima confusion matrix sebagai argumen:"
   ]
  },
  {
   "cell_type": "code",
   "execution_count": 13,
   "id": "e2931b27",
   "metadata": {},
   "outputs": [
    {
     "data": {
      "image/png": "[encoded data removed]",
      "text/plain": [
       "<Figure size 576x576 with 1 Axes>"
      ]
     },
     "metadata": {
      "needs_background": "light"
     },
     "output_type": "display_data"
    }
   ],
   "source": [
    "cm = confusion_matrix(y, model.predict(x))\n",
    "\n",
    "fig, ax = plt.subplots(figsize=(8,8))\n",
    "\n",
    "ax.imshow(cm)\n",
    "ax.grid(False)\n",
    "ax.xaxis.set(ticks=(0,1), ticklabels=('Predicted 0s', 'Predicted 1s'))\n",
    "ax.yaxis.set(ticks=(0,1), ticklabels=('Actual 0s', 'Actual 1s'))\n",
    "ax.set_ylim(1.5, -0.5)\n",
    "\n",
    "for i in range(2):\n",
    "    for j in range(2):\n",
    "        ax.text(j, i, cm[i, j], ha='center', va='center', color='red')\n",
    "\n",
    "plt.show()"
   ]
  },
  {
   "cell_type": "markdown",
   "id": "6eb94c2d",
   "metadata": {},
   "source": [
    "Pada gambar ini, warna berbeda mwakili angka berbeda dan warna serupa mewakili angka serupa. Heatmaps adalah cara yang bagus u/ mempresentasikan matriks."
   ]
  },
  {
   "cell_type": "code",
   "execution_count": 14,
   "id": "60c777e3",
   "metadata": {},
   "outputs": [
    {
     "name": "stdout",
     "output_type": "stream",
     "text": [
      "              precision    recall  f1-score   support\n",
      "\n",
      "           0       1.00      0.75      0.86         4\n",
      "           1       0.86      1.00      0.92         6\n",
      "\n",
      "    accuracy                           0.90        10\n",
      "   macro avg       0.93      0.88      0.89        10\n",
      "weighted avg       0.91      0.90      0.90        10\n",
      "\n"
     ]
    }
   ],
   "source": [
    "# Mendapatkan laporan yang lebih komprehensif ttg klasifikasi dengan classification_report():\n",
    "print(classification_report(y, model.predict(x)))"
   ]
  },
  {
   "cell_type": "markdown",
   "id": "3a761a7e",
   "metadata": {},
   "source": [
    "**Imporove the model**"
   ]
  },
  {
   "cell_type": "markdown",
   "id": "a68c8a31",
   "metadata": {},
   "source": [
    "KIta dapat meningkatkan model dengan mengatur parameter yang berbeda. Misalnya, mari bekerja dengan regularization strength C sama dengan 10,0 dari nilai default 1,0:"
   ]
  },
  {
   "cell_type": "code",
   "execution_count": 15,
   "id": "aa9f5e61",
   "metadata": {},
   "outputs": [
    {
     "data": {
      "text/plain": [
       "LogisticRegression(C=10.0, random_state=0, solver='liblinear')"
      ]
     },
     "execution_count": 15,
     "metadata": {},
     "output_type": "execute_result"
    }
   ],
   "source": [
    "model = LogisticRegression(solver='liblinear', C=10.0, random_state=0)\n",
    "model.fit(x, y)"
   ]
  },
  {
   "cell_type": "code",
   "execution_count": 16,
   "id": "4803a972",
   "metadata": {},
   "outputs": [
    {
     "name": "stdout",
     "output_type": "stream",
     "text": [
      "[-3.51335372] [[1.12066084]]\n"
     ]
    }
   ],
   "source": [
    "print(model.intercept_, model.coef_)"
   ]
  },
  {
   "cell_type": "code",
   "execution_count": 17,
   "id": "36841912",
   "metadata": {},
   "outputs": [
    {
     "name": "stdout",
     "output_type": "stream",
     "text": [
      "[[0.97106534 0.02893466]\n",
      " [0.9162684  0.0837316 ]\n",
      " [0.7810904  0.2189096 ]\n",
      " [0.53777071 0.46222929]\n",
      " [0.27502212 0.72497788]\n",
      " [0.11007743 0.88992257]\n",
      " [0.03876835 0.96123165]\n",
      " [0.01298011 0.98701989]\n",
      " [0.0042697  0.9957303 ]\n",
      " [0.00139621 0.99860379]]\n"
     ]
    }
   ],
   "source": [
    "print(model.predict_proba(x))"
   ]
  },
  {
   "cell_type": "code",
   "execution_count": 18,
   "id": "073d5cf5",
   "metadata": {},
   "outputs": [
    {
     "name": "stdout",
     "output_type": "stream",
     "text": [
      "[0 0 0 0 1 1 1 1 1 1]\n"
     ]
    }
   ],
   "source": [
    "print(model.predict(x))"
   ]
  },
  {
   "cell_type": "markdown",
   "id": "0e0863a9",
   "metadata": {},
   "source": [
    "coefficient 𝑏₁ and the intercept 𝑏₀ lebih besar, karena nilai C yang lebih besar berarti regularisasi yang lebih lemah, atau penalti yang lebih lemah terkait dnegan nilai  𝑏₀ dan 𝑏₁ yang tinggi."
   ]
  },
  {
   "cell_type": "markdown",
   "id": "014ecee9",
   "metadata": {},
   "source": [
    "nilai 𝑏₀ dan 𝑏₁ yang berbeda menyiratkan perubahan logit f(x), nilai probabilitas p(x) yang berbeda, bentuk garis regresi yang berbeda dan kemungkinan perubahan dalam hasil prediksi dan kinerja klasifikasi lainnya. "
   ]
  },
  {
   "cell_type": "markdown",
   "id": "833bab26",
   "metadata": {},
   "source": [
    "nilai batas x yang mana p(x) =0,5 dan f(x)=0 sekarang berada diatas 3."
   ]
  },
  {
   "cell_type": "code",
   "execution_count": 19,
   "id": "0371d25f",
   "metadata": {},
   "outputs": [
    {
     "data": {
      "text/plain": [
       "1.0"
      ]
     },
     "execution_count": 19,
     "metadata": {},
     "output_type": "execute_result"
    }
   ],
   "source": [
    "model.score(x,y)"
   ]
  },
  {
   "cell_type": "code",
   "execution_count": 20,
   "id": "0dd18ebf",
   "metadata": {},
   "outputs": [
    {
     "data": {
      "text/plain": [
       "array([[4, 0],\n",
       "       [0, 6]], dtype=int64)"
      ]
     },
     "execution_count": 20,
     "metadata": {},
     "output_type": "execute_result"
    }
   ],
   "source": [
    "confusion_matrix(y, model.predict(x))"
   ]
  },
  {
   "cell_type": "code",
   "execution_count": 21,
   "id": "9e42aa9b",
   "metadata": {},
   "outputs": [
    {
     "name": "stdout",
     "output_type": "stream",
     "text": [
      "              precision    recall  f1-score   support\n",
      "\n",
      "           0       1.00      1.00      1.00         4\n",
      "           1       1.00      1.00      1.00         6\n",
      "\n",
      "    accuracy                           1.00        10\n",
      "   macro avg       1.00      1.00      1.00        10\n",
      "weighted avg       1.00      1.00      1.00        10\n",
      "\n"
     ]
    }
   ],
   "source": [
    "print(classification_report(y, model.predict(x)))"
   ]
  },
  {
   "cell_type": "markdown",
   "id": "36c43647",
   "metadata": {},
   "source": [
    "Dari hasil ini, tidak ada tanda x merah, jadi tidak ada prediksi yang salah"
   ]
  },
  {
   "cell_type": "markdown",
   "id": "f88e0960",
   "metadata": {},
   "source": [
    "## Linear Regression in Python: Handwriting Recognition"
   ]
  },
  {
   "cell_type": "markdown",
   "id": "79e5a73c",
   "metadata": {},
   "source": [
    "Contoh sblmnya mengilusterasikan implementasi logistic regression dengan python, serta beberapa detail terkait metode ini. **Contoh berikutnya** akan menunjukan cara menggunakan logistic regression u/ memecahkan real-world classification problem. Pendekatannya sangat mirip dengan yg kita lihat, tetapi kumpulan data yang lebih besar dan beberapa masalah tambahan."
   ]
  },
  {
   "cell_type": "markdown",
   "id": "24f5e5fb",
   "metadata": {},
   "source": [
    "Contoh ini adalah tentang image recognition. Lebih tepatnya recognition atas handwritten digits. KIta akan menggunakan kumpulan data dgn 1797 observasi, yang masing-masing berupa gambar dari satu digit tulisan tangan. Setiap gambar memiliki 64 px, lebar 8 px, dan tinggi 8 px."
   ]
  },
  {
   "cell_type": "markdown",
   "id": "0cdfab0a",
   "metadata": {},
   "source": [
    "input(x) adalah vektor dengan 64 dimensi/nilai. Setiap vektor input menggambarkan satu gambar. Masing-masing dari 64 nilai mewakili satu piksel gambar. Nilai input anatara bilangan bulat 0-16, bergantung pada shade of gray u/ piksel yang sesuai.\n",
    "\n",
    "Ouput(y) u/ observasi adalah bilangan bulat 0-9, konsisten dengan digit pada gambar. Ada total sepuluh kelas, masing-masing sesuai dengan satu gambar"
   ]
  },
  {
   "cell_type": "markdown",
   "id": "76953f6e",
   "metadata": {},
   "source": [
    "**Step 1:** Import packages"
   ]
  },
  {
   "cell_type": "code",
   "execution_count": 22,
   "id": "616aaecc",
   "metadata": {},
   "outputs": [],
   "source": [
    "import matplotlib.pyplot as plt\n",
    "import numpy as np\n",
    "from sklearn.datasets import load_digits\n",
    "from sklearn.linear_model import LogisticRegression\n",
    "from sklearn.metrics import classification_report, confusion_matrix\n",
    "from sklearn.model_selection import train_test_split\n",
    "from sklearn.preprocessing import StandardScaler"
   ]
  },
  {
   "cell_type": "markdown",
   "id": "650d84ed",
   "metadata": {},
   "source": [
    "**Step 2:** Get Data"
   ]
  },
  {
   "cell_type": "markdown",
   "id": "445d620a",
   "metadata": {},
   "source": [
    "Kita bisa mengambil datset lgsg dari scikit-learn dengan load_digits(). Ini mengembalikan tuple input dan output:"
   ]
  },
  {
   "cell_type": "code",
   "execution_count": 23,
   "id": "1dd3abe1",
   "metadata": {},
   "outputs": [],
   "source": [
    "x, y = load_digits(return_X_y =True)"
   ]
  },
  {
   "cell_type": "code",
   "execution_count": 24,
   "id": "49961133",
   "metadata": {},
   "outputs": [
    {
     "name": "stdout",
     "output_type": "stream",
     "text": [
      "[[ 0.  0.  5. ...  0.  0.  0.]\n",
      " [ 0.  0.  0. ... 10.  0.  0.]\n",
      " [ 0.  0.  0. ... 16.  9.  0.]\n",
      " ...\n",
      " [ 0.  0.  1. ...  6.  0.  0.]\n",
      " [ 0.  0.  2. ... 12.  0.  0.]\n",
      " [ 0.  0. 10. ... 12.  1.  0.]]\n"
     ]
    }
   ],
   "source": [
    "print(x) # x adalah multi-dimensional array dengan 1797 baris dan 64 kolom. berisi bil bulat 0-16"
   ]
  },
  {
   "cell_type": "code",
   "execution_count": 25,
   "id": "e6baee80",
   "metadata": {},
   "outputs": [
    {
     "name": "stdout",
     "output_type": "stream",
     "text": [
      "[0 1 2 ... 8 9 8]\n"
     ]
    }
   ],
   "source": [
    "print(y)  # y adlaah one-dimensional array dgn 1797 bil bulat 0-9"
   ]
  },
  {
   "cell_type": "markdown",
   "id": "5612d6da",
   "metadata": {},
   "source": [
    "**Step 2b:** Split data"
   ]
  },
  {
   "cell_type": "markdown",
   "id": "66b075b7",
   "metadata": {},
   "source": [
    "Membagi data menjadi dua sub kumpulan, yaitu **training set** dan **test set**. Pembagian ini biasanya dilakukan secara acak. KIta menggunakan training set u/ melatih model kita. setelah model dilatih, kita evaluasi kinerjanya dengan test set. Penting u/ tidak menggunakan test set dalam proses set dalam proses training model. Pendekatan ini memungkinkan evaluasi model yang tidak bias"
   ]
  },
  {
   "cell_type": "markdown",
   "id": "602ddac0",
   "metadata": {},
   "source": [
    "Salah satu cara membagi set data menjadi **training set** dan **test set** adalah dengan train_test_split():"
   ]
  },
  {
   "cell_type": "code",
   "execution_count": 26,
   "id": "e71d83fd",
   "metadata": {},
   "outputs": [],
   "source": [
    "x_train, x_test, y_train, y_test = train_test_split(x, y, test_size=0.2, random_state=0)"
   ]
  },
  {
   "cell_type": "markdown",
   "id": "a4bf89b6",
   "metadata": {},
   "source": [
    "- train_test_split menerima x dan y\n",
    "- test_size    : menentukan ukurat test set\n",
    "- random_state : menentukan status pseudo-random number generator\n",
    "\n",
    "fungsi ini mengembalikan list dengan empat array:\n",
    "1. x_train : the part of x used to fit the model \n",
    "2. x_test  : the part of x used to evaluate the model \n",
    "3. y_train : the part of y that corresponds to x_train \n",
    "4. y_test  : the part of y that corresponds to x_test Once "
   ]
  },
  {
   "cell_type": "markdown",
   "id": "314446bc",
   "metadata": {},
   "source": [
    "Setelah data kita terbagi, kita bisa menghiraukan x_test dan y_test sampai kita membuat model."
   ]
  },
  {
   "cell_type": "markdown",
   "id": "5329705c",
   "metadata": {},
   "source": [
    "**Step 2c:** Scale Data"
   ]
  },
  {
   "cell_type": "markdown",
   "id": "942482bc",
   "metadata": {},
   "source": [
    "**Standardization** adalah proses mengubah data sedemikian rupa sehingga mean tiap kolom menjadi sama dengan nol, dan standard deviation tiap kolom adalah satu. Dengan cara ini, kita akan mendapatkan skala yang sama u/ semua kolom. Langkah u/ mendstandarkan data:\n",
    "- Calculate : Mean dan standard deviation untuk setiap kolom\n",
    "- Subtract  : Mean yang sesuai dari setiap elemen.\n",
    "- Divide    : selisih yang diperoleh dengan standard deviation yang sesuai "
   ]
  },
  {
   "cell_type": "markdown",
   "id": "49d1a1fb",
   "metadata": {},
   "source": [
    "**Standardization** dapat meningkatkan kinerja algoritme. membantu jika compare dan interpret weights"
   ]
  },
  {
   "cell_type": "code",
   "execution_count": 27,
   "id": "15ce5df0",
   "metadata": {},
   "outputs": [
    {
     "data": {
      "text/plain": [
       "array([[ 0.        , -0.33790435, -1.09141592, ...,  1.58325794,\n",
       "         3.53125595,  3.30213343],\n",
       "       [ 0.        ,  2.90642897,  1.41696421, ...,  1.58325794,\n",
       "         0.00595786, -0.18695903],\n",
       "       [ 0.        ,  0.74354009,  0.99890086, ..., -1.14493411,\n",
       "        -0.49765616, -0.18695903],\n",
       "       ...,\n",
       "       [ 0.        , -0.33790435, -0.04625753, ..., -1.14493411,\n",
       "        -0.49765616, -0.18695903],\n",
       "       [ 0.        , -0.33790435, -0.25528921, ..., -1.14493411,\n",
       "        -0.49765616, -0.18695903],\n",
       "       [ 0.        , -0.33790435,  0.16277415, ...,  0.73069792,\n",
       "        -0.49765616, -0.18695903]])"
      ]
     },
     "execution_count": 27,
     "metadata": {},
     "output_type": "execute_result"
    }
   ],
   "source": [
    "# Standardize input dgn membuat instance StandardScaler dan memanggil fit .fit_transfrom() diatasnya:\n",
    "scaler  = StandardScaler()\n",
    "x_train = scaler.fit_transform(x_train)\n",
    "x_train"
   ]
  },
  {
   "cell_type": "markdown",
   "id": "6c34c204",
   "metadata": {},
   "source": [
    ".fit_transfrom() menyesuaikan instance StandarScaler ke array yang diteruskan sebagai argumen, mengubah array ini, dan mengembalikan array standar yang baru. Sekarang, x_train adalah input standardized."
   ]
  },
  {
   "cell_type": "markdown",
   "id": "0a0e2324",
   "metadata": {},
   "source": [
    "**Step 3:** Create a model and train it"
   ]
  },
  {
   "cell_type": "markdown",
   "id": "e3b3bca1",
   "metadata": {},
   "source": [
    "Langkah ini sgt mirip dgn contoh sebelumnya. Perbedaanya adalah kita menggunakan subset x_train dan y_train agar sesuai dengan model."
   ]
  },
  {
   "cell_type": "code",
   "execution_count": 28,
   "id": "d5390755",
   "metadata": {},
   "outputs": [
    {
     "data": {
      "text/plain": [
       "LogisticRegression(C=0.05, multi_class='ovr', random_state=0,\n",
       "                   solver='liblinear')"
      ]
     },
     "execution_count": 28,
     "metadata": {},
     "output_type": "execute_result"
    }
   ],
   "source": [
    "# membuat instance LogistikRegression dan memanggil .fit() diatasnya:\n",
    "\n",
    "model = LogisticRegression(solver='liblinear', C=0.05, multi_class='ovr', random_state=0)\n",
    "model.fit(x_train, y_train)\n"
   ]
  },
  {
   "cell_type": "markdown",
   "id": "d586e6ce",
   "metadata": {},
   "source": [
    "**Step 4:** Evaluate the Model"
   ]
  },
  {
   "cell_type": "markdown",
   "id": "a9046c96",
   "metadata": {},
   "source": [
    "Perbedaan evaluasi dengan contoh sebelumnya adalah sebagian besar akan menggunakan x_test dan y_test, yang merupakan subkumpulan yang tidak diterapkan untuk training."
   ]
  },
  {
   "cell_type": "markdown",
   "id": "d2960434",
   "metadata": {},
   "source": [
    "Jika kita telah menstandarkan x_train, maka model yg diperoleh bergantung pada scaled data, jadi x_test harus diskalakan juga dengan instance StandarScaler yang sama"
   ]
  },
  {
   "cell_type": "code",
   "execution_count": 29,
   "id": "5ed3d17e",
   "metadata": {},
   "outputs": [],
   "source": [
    "x_test = scaler.transform(x_test) # mendapatkan x_test dgn skala yang tepat."
   ]
  },
  {
   "cell_type": "code",
   "execution_count": 30,
   "id": "befe2efc",
   "metadata": {},
   "outputs": [
    {
     "data": {
      "text/plain": [
       "array([[ 0.        , -0.33790435,  1.20793253, ...,  1.07172193,\n",
       "         3.53125595,  4.46516425],\n",
       "       [ 0.        ,  0.74354009,  2.04405924, ..., -0.97442211,\n",
       "        -0.49765616, -0.18695903],\n",
       "       [ 0.        ,  1.82498453,  1.62599589, ...,  1.58325794,\n",
       "         3.53125595,  1.5575872 ],\n",
       "       ...,\n",
       "       [ 0.        ,  0.74354009,  0.78986918, ..., -0.4628861 ,\n",
       "        -0.49765616, -0.18695903],\n",
       "       [ 0.        , -0.33790435, -1.09141592, ...,  1.41274594,\n",
       "         0.00595786, -0.18695903],\n",
       "       [ 0.        , -0.33790435, -1.09141592, ...,  0.90120993,\n",
       "        -0.49765616, -0.18695903]])"
      ]
     },
     "execution_count": 30,
     "metadata": {},
     "output_type": "execute_result"
    }
   ],
   "source": [
    "x_test"
   ]
  },
  {
   "cell_type": "code",
   "execution_count": 31,
   "id": "9295de7b",
   "metadata": {},
   "outputs": [],
   "source": [
    "# mendapatkan predicted outputs dgn .predict():\n",
    "y_pred = model.predict(x_test)"
   ]
  },
  {
   "cell_type": "markdown",
   "id": "b51fe4dc",
   "metadata": {},
   "source": [
    "variabel y_pred sekarang terikat ke array predicted outputs"
   ]
  },
  {
   "cell_type": "code",
   "execution_count": 32,
   "id": "38890c4e",
   "metadata": {},
   "outputs": [
    {
     "data": {
      "text/plain": [
       "0.964509394572025"
      ]
     },
     "execution_count": 32,
     "metadata": {},
     "output_type": "execute_result"
    }
   ],
   "source": [
    "model.score(x_train, y_train)"
   ]
  },
  {
   "cell_type": "code",
   "execution_count": 33,
   "id": "df3d92af",
   "metadata": {},
   "outputs": [
    {
     "data": {
      "text/plain": [
       "0.9416666666666667"
      ]
     },
     "execution_count": 33,
     "metadata": {},
     "output_type": "execute_result"
    }
   ],
   "source": [
    "model.score(x_test, y_test)"
   ]
  },
  {
   "cell_type": "markdown",
   "id": "b8c12803",
   "metadata": {},
   "source": [
    "Sebaiknya membandingkan keduanya, karena situasi dimana akurasi set pelatihan jauh lebih tinggi mungkin mengindikasikan overfitiing. Akurasi set pengujian lebih relevan untuk mengevaluasi performa pada data yang tidak terlihat tidak bias."
   ]
  },
  {
   "cell_type": "code",
   "execution_count": 34,
   "id": "f1d4b7cb",
   "metadata": {},
   "outputs": [
    {
     "data": {
      "text/plain": [
       "array([[27,  0,  0,  0,  0,  0,  0,  0,  0,  0],\n",
       "       [ 0, 32,  0,  0,  0,  0,  1,  0,  1,  1],\n",
       "       [ 1,  1, 33,  1,  0,  0,  0,  0,  0,  0],\n",
       "       [ 0,  0,  1, 28,  0,  0,  0,  0,  0,  0],\n",
       "       [ 0,  0,  0,  0, 29,  0,  0,  1,  0,  0],\n",
       "       [ 0,  0,  0,  0,  0, 39,  0,  0,  0,  1],\n",
       "       [ 0,  1,  0,  0,  0,  0, 43,  0,  0,  0],\n",
       "       [ 0,  0,  0,  0,  0,  0,  0, 39,  0,  0],\n",
       "       [ 0,  2,  1,  2,  0,  0,  0,  1, 33,  0],\n",
       "       [ 0,  0,  0,  1,  0,  1,  0,  2,  1, 36]], dtype=int64)"
      ]
     },
     "execution_count": 34,
     "metadata": {},
     "output_type": "execute_result"
    }
   ],
   "source": [
    "# Mendapatkan confusion matrix\n",
    "confusion_matrix(y_test, y_pred) # memiliki 100 angka"
   ]
  },
  {
   "cell_type": "code",
   "execution_count": 35,
   "id": "62e52eee",
   "metadata": {},
   "outputs": [
    {
     "data": {
      "image/png": "[encoded data removed]",
      "text/plain": [
       "<Figure size 576x576 with 1 Axes>"
      ]
     },
     "metadata": {
      "needs_background": "light"
     },
     "output_type": "display_data"
    }
   ],
   "source": [
    "# memvisualisasikan\n",
    "\n",
    "cm = confusion_matrix(y_test, y_pred)\n",
    "\n",
    "fig, ax = plt.subplots(figsize=(8,8))\n",
    "\n",
    "ax.imshow(cm)\n",
    "ax.grid(False)\n",
    "ax.set_xlabel('Predicted ouputs', color='black')\n",
    "ax.set_ylabel('Actual ouputs', color='black')\n",
    "ax.xaxis.set(ticks=range(10))\n",
    "ax.yaxis.set(ticks=range(10))\n",
    "ax.set_ylim(9.5, -0.5)\n",
    "\n",
    "for i in range(10):\n",
    "    for j in range(10):\n",
    "        ax.text(j, i, cm[i, j], ha='center', va='center', color='white')\n",
    "plt.show()"
   ]
  },
  {
   "cell_type": "markdown",
   "id": "a16c73d3",
   "metadata": {},
   "source": [
    "Angka pada diagonal utama a(27, 32, ... 36) menunjukan jumlah prediksi yang beanr dari test set. Misalnya, ada 27 gambar dengan nol, 32 gambar satu, dan seterusnya. "
   ]
  },
  {
   "cell_type": "code",
   "execution_count": 36,
   "id": "c9294475",
   "metadata": {},
   "outputs": [
    {
     "name": "stdout",
     "output_type": "stream",
     "text": [
      "              precision    recall  f1-score   support\n",
      "\n",
      "           0       0.96      1.00      0.98        27\n",
      "           1       0.89      0.91      0.90        35\n",
      "           2       0.94      0.92      0.93        36\n",
      "           3       0.88      0.97      0.92        29\n",
      "           4       1.00      0.97      0.98        30\n",
      "           5       0.97      0.97      0.97        40\n",
      "           6       0.98      0.98      0.98        44\n",
      "           7       0.91      1.00      0.95        39\n",
      "           8       0.94      0.85      0.89        39\n",
      "           9       0.95      0.88      0.91        41\n",
      "\n",
      "    accuracy                           0.94       360\n",
      "   macro avg       0.94      0.94      0.94       360\n",
      "weighted avg       0.94      0.94      0.94       360\n",
      "\n"
     ]
    }
   ],
   "source": [
    "# Mendapatkan laporan klasifikasi sebagai string atau dictionary \n",
    "\n",
    "print(classification_report(y_test, y_pred))"
   ]
  },
  {
   "cell_type": "markdown",
   "id": "518ccf6a",
   "metadata": {},
   "source": [
    "# K-Nearest Neighbor (KNN)"
   ]
  },
  {
   "cell_type": "markdown",
   "id": "481bb9e4",
   "metadata": {},
   "source": [
    "## KKN in Python With scikit-learn: Example 1"
   ]
  },
  {
   "cell_type": "markdown",
   "id": "29b0cd55",
   "metadata": {},
   "source": [
    "**Defining dataset**"
   ]
  },
  {
   "cell_type": "code",
   "execution_count": 37,
   "id": "73ab3a4e",
   "metadata": {},
   "outputs": [],
   "source": [
    "# Assigning features and label variables\n",
    "\n",
    "# First Feature\n",
    "weather=['Sunny','Sunny','Overcast','Rainy','Rainy','Rainy','Overcast','Sunny','Sunny',\n",
    "'Rainy','Sunny','Overcast','Overcast','Rainy']\n",
    "\n",
    "# Second Feature\n",
    "temp=['Hot','Hot','Hot','Mild','Cool','Cool','Cool','Mild','Cool','Mild','Mild','Mild','Hot','Mild']\n",
    "\n",
    "# Label or target varible\n",
    "play=['No','No','Yes','Yes','Yes','No','Yes','No','Yes','Yes','Yes','Yes','Yes','No']"
   ]
  },
  {
   "cell_type": "markdown",
   "id": "5f89bca8",
   "metadata": {},
   "source": [
    "**Encoding data columns**"
   ]
  },
  {
   "cell_type": "markdown",
   "id": "93868000",
   "metadata": {},
   "source": [
    "Untuk encode data ini, kita dapat memetakan setiap nilai menjadi sebuah angka. Misalnya Overcast:0, Rainy:1, dan Sunny:2 . Proses ini dikenal sebagai label encoding"
   ]
  },
  {
   "cell_type": "code",
   "execution_count": 38,
   "id": "0c96ebb3",
   "metadata": {},
   "outputs": [
    {
     "name": "stdout",
     "output_type": "stream",
     "text": [
      "[2 2 0 1 1 1 0 2 2 1 2 0 0 1]\n"
     ]
    }
   ],
   "source": [
    "# Import LabelEncoder\n",
    "from sklearn import preprocessing\n",
    "\n",
    "#creating labelEncoder\n",
    "le = preprocessing.LabelEncoder()\n",
    "\n",
    "# Converting string labels into numbers.\n",
    "weather_encoded=le.fit_transform(weather)\n",
    "print(weather_encoded)"
   ]
  },
  {
   "cell_type": "markdown",
   "id": "c079c3be",
   "metadata": {},
   "source": [
    "Disini, kita mengimpor modul prepocessing dan membuat objek label encode. Dengan mengimporggunakan objek LabelEncoder ini, kitata dapat menyesuaikan dan mengubah kolom \"weather\" menjadi kolom numerik"
   ]
  },
  {
   "cell_type": "markdown",
   "id": "df00e2ef",
   "metadata": {},
   "source": [
    "Demikian pula, kita dapat menyandikan temperatue dan label ke dalam kolom numerik"
   ]
  },
  {
   "cell_type": "code",
   "execution_count": 39,
   "id": "7ce381b5",
   "metadata": {},
   "outputs": [
    {
     "name": "stdout",
     "output_type": "stream",
     "text": [
      "[1 1 1 2 0 0 0 2 0 2 2 2 1 2]\n"
     ]
    }
   ],
   "source": [
    "# converting string labels into numbers\n",
    "temp_encoded=le.fit_transform(temp)\n",
    "\n",
    "label=le.fit_transform(play)\n",
    "print(temp_encoded)"
   ]
  },
  {
   "cell_type": "markdown",
   "id": "b3f04de4",
   "metadata": {},
   "source": [
    "**Combining Features**"
   ]
  },
  {
   "cell_type": "markdown",
   "id": "e564a3f6",
   "metadata": {},
   "source": [
    "Disini, kita akan menggabungkan beberapa kolom atau fitur menjadi satu set data menggunakan fungsi \"zip\""
   ]
  },
  {
   "cell_type": "code",
   "execution_count": 40,
   "id": "e71d04ff",
   "metadata": {},
   "outputs": [
    {
     "name": "stdout",
     "output_type": "stream",
     "text": [
      "[(2, 1), (2, 1), (0, 1), (1, 2), (1, 0), (1, 0), (0, 0), (2, 2), (2, 0), (1, 2), (2, 2), (0, 2), (0, 1), (1, 2)]\n"
     ]
    }
   ],
   "source": [
    "#combinig weather and temp into single listof tuples\n",
    "features=list(zip(weather_encoded,temp_encoded))\n",
    "\n",
    "print(features)"
   ]
  },
  {
   "cell_type": "markdown",
   "id": "06727437",
   "metadata": {},
   "source": [
    "**Generting Model**"
   ]
  },
  {
   "cell_type": "markdown",
   "id": "1afa6a03",
   "metadata": {},
   "source": [
    "Membangun classifier model KNN.\n",
    "\n",
    "Pertama, import modul KNN dan buat classifier object KNN dengan meneruskan argumen jumlah tetangga dalam fungsi KNN()\n",
    "\n",
    "Kemudian, latih model kita dengan train set menggunakan fit() dan lakukan prediksi pada test set dengan predict()"
   ]
  },
  {
   "cell_type": "code",
   "execution_count": 41,
   "id": "ac14bd35",
   "metadata": {},
   "outputs": [
    {
     "name": "stdout",
     "output_type": "stream",
     "text": [
      "[1]\n"
     ]
    }
   ],
   "source": [
    "from sklearn.neighbors import KNeighborsClassifier\n",
    "\n",
    "model = KNeighborsClassifier(n_neighbors=3)\n",
    "\n",
    "# Train the model using the training sets\n",
    "model.fit(features,label)\n",
    "\n",
    "#Predict Output\n",
    "predicted= model.predict([[0,2]]) # 0:Overcast, 2:Mild\n",
    "print(predicted)"
   ]
  },
  {
   "cell_type": "markdown",
   "id": "ed2147f5",
   "metadata": {},
   "source": [
    "Pada contoh, diatas kita memeberikan input [0,2] dimana 0 : mendung/overcast dan 2 : sedang/mild . Model memprediksi [1] yang artinya play"
   ]
  },
  {
   "cell_type": "markdown",
   "id": "d036ee69",
   "metadata": {},
   "source": [
    "## KNN in Python With scikit-learn: KNN with Multiple Labels"
   ]
  },
  {
   "cell_type": "markdown",
   "id": "34ab7223",
   "metadata": {},
   "source": [
    "Dalam model, kita dapat menggunakan wine dataset, yang merupakan masalah mjtli-class classification problem yg sangat terkenal. Data ini merupakan hasil analisis kimiawi wines yang ditanam di wilayah yang sama di italia mengunakan tiga kultivar berbeda. Analisis mennetukan jumlah 13 unsur yang ditemukan di masing-masing dari tiga jenis anggur"
   ]
  },
  {
   "cell_type": "markdown",
   "id": "cedc0a7e",
   "metadata": {},
   "source": [
    "Dataset terdiiri dari 13 fitur (('alcohol', 'malic_acid', 'ash', 'alcalinity_of_ash', 'magnesium', 'total_phenols', 'flavanoids', 'nonflavanoid_phenols', 'proanthocyanins', 'color_intensity', 'hue', 'od280/od315_of_diluted_wines', 'proline') dan target (jenis kultivar)"
   ]
  },
  {
   "cell_type": "markdown",
   "id": "eee55504",
   "metadata": {},
   "source": [
    "**Loading Data**"
   ]
  },
  {
   "cell_type": "code",
   "execution_count": 65,
   "id": "dd296497",
   "metadata": {},
   "outputs": [],
   "source": [
    "#Import scikit-learn dataset library\n",
    "from sklearn import datasets\n",
    "\n",
    "#Load dataset\n",
    "wine = datasets.load_wine()"
   ]
  },
  {
   "cell_type": "markdown",
   "id": "9ece1088",
   "metadata": {},
   "source": [
    "**Exploring data**"
   ]
  },
  {
   "cell_type": "markdown",
   "id": "9cd17f40",
   "metadata": {},
   "source": [
    "Kita ingin tahu lebih banyak tentangnya. kita dapat memeriksa fitur dan nama target"
   ]
  },
  {
   "cell_type": "code",
   "execution_count": 66,
   "id": "d7f74670",
   "metadata": {},
   "outputs": [
    {
     "name": "stdout",
     "output_type": "stream",
     "text": [
      "['alcohol', 'malic_acid', 'ash', 'alcalinity_of_ash', 'magnesium', 'total_phenols', 'flavanoids', 'nonflavanoid_phenols', 'proanthocyanins', 'color_intensity', 'hue', 'od280/od315_of_diluted_wines', 'proline']\n"
     ]
    }
   ],
   "source": [
    "# print the names of the features\n",
    "print(wine.feature_names)"
   ]
  },
  {
   "cell_type": "code",
   "execution_count": 67,
   "id": "8547a0fb",
   "metadata": {},
   "outputs": [
    {
     "name": "stdout",
     "output_type": "stream",
     "text": [
      "['class_0' 'class_1' 'class_2']\n"
     ]
    }
   ],
   "source": [
    "# print the label species(class_0, class_1, class_2)\n",
    "print(wine.target_names)"
   ]
  },
  {
   "cell_type": "markdown",
   "id": "6479f520",
   "metadata": {},
   "source": [
    "Memeriksa 5 record teratas dari set feature"
   ]
  },
  {
   "cell_type": "code",
   "execution_count": 68,
   "id": "bcbb7c4d",
   "metadata": {},
   "outputs": [
    {
     "name": "stdout",
     "output_type": "stream",
     "text": [
      "[[1.423e+01 1.710e+00 2.430e+00 1.560e+01 1.270e+02 2.800e+00 3.060e+00\n",
      "  2.800e-01 2.290e+00 5.640e+00 1.040e+00 3.920e+00 1.065e+03]\n",
      " [1.320e+01 1.780e+00 2.140e+00 1.120e+01 1.000e+02 2.650e+00 2.760e+00\n",
      "  2.600e-01 1.280e+00 4.380e+00 1.050e+00 3.400e+00 1.050e+03]\n",
      " [1.316e+01 2.360e+00 2.670e+00 1.860e+01 1.010e+02 2.800e+00 3.240e+00\n",
      "  3.000e-01 2.810e+00 5.680e+00 1.030e+00 3.170e+00 1.185e+03]\n",
      " [1.437e+01 1.950e+00 2.500e+00 1.680e+01 1.130e+02 3.850e+00 3.490e+00\n",
      "  2.400e-01 2.180e+00 7.800e+00 8.600e-01 3.450e+00 1.480e+03]\n",
      " [1.324e+01 2.590e+00 2.870e+00 2.100e+01 1.180e+02 2.800e+00 2.690e+00\n",
      "  3.900e-01 1.820e+00 4.320e+00 1.040e+00 2.930e+00 7.350e+02]]\n"
     ]
    }
   ],
   "source": [
    "print(wine.data[0:5])"
   ]
  },
  {
   "cell_type": "code",
   "execution_count": 69,
   "id": "1c9568e8",
   "metadata": {},
   "outputs": [
    {
     "name": "stdout",
     "output_type": "stream",
     "text": [
      "[0 0 0 0 0 0 0 0 0 0 0 0 0 0 0 0 0 0 0 0 0 0 0 0 0 0 0 0 0 0 0 0 0 0 0 0 0\n",
      " 0 0 0 0 0 0 0 0 0 0 0 0 0 0 0 0 0 0 0 0 0 0 1 1 1 1 1 1 1 1 1 1 1 1 1 1 1\n",
      " 1 1 1 1 1 1 1 1 1 1 1 1 1 1 1 1 1 1 1 1 1 1 1 1 1 1 1 1 1 1 1 1 1 1 1 1 1\n",
      " 1 1 1 1 1 1 1 1 1 1 1 1 1 1 1 1 1 1 1 2 2 2 2 2 2 2 2 2 2 2 2 2 2 2 2 2 2\n",
      " 2 2 2 2 2 2 2 2 2 2 2 2 2 2 2 2 2 2 2 2 2 2 2 2 2 2 2 2 2 2]\n"
     ]
    }
   ],
   "source": [
    "print(wine.target)"
   ]
  },
  {
   "cell_type": "markdown",
   "id": "35d6b406",
   "metadata": {},
   "source": [
    "Memeriksa record set target"
   ]
  },
  {
   "cell_type": "code",
   "execution_count": 70,
   "id": "c2fc0fbe",
   "metadata": {},
   "outputs": [
    {
     "name": "stdout",
     "output_type": "stream",
     "text": [
      "[0 0 0 0 0 0 0 0 0 0 0 0 0 0 0 0 0 0 0 0 0 0 0 0 0 0 0 0 0 0 0 0 0 0 0 0 0\n",
      " 0 0 0 0 0 0 0 0 0 0 0 0 0 0 0 0 0 0 0 0 0 0 1 1 1 1 1 1 1 1 1 1 1 1 1 1 1\n",
      " 1 1 1 1 1 1 1 1 1 1 1 1 1 1 1 1 1 1 1 1 1 1 1 1 1 1 1 1 1 1 1 1 1 1 1 1 1\n",
      " 1 1 1 1 1 1 1 1 1 1 1 1 1 1 1 1 1 1 1 2 2 2 2 2 2 2 2 2 2 2 2 2 2 2 2 2 2\n",
      " 2 2 2 2 2 2 2 2 2 2 2 2 2 2 2 2 2 2 2 2 2 2 2 2 2 2 2 2 2 2]\n"
     ]
    }
   ],
   "source": [
    "print(wine.target)"
   ]
  },
  {
   "cell_type": "code",
   "execution_count": 71,
   "id": "aeccc3bc",
   "metadata": {},
   "outputs": [
    {
     "name": "stdout",
     "output_type": "stream",
     "text": [
      "(178, 13)\n"
     ]
    }
   ],
   "source": [
    "# memeriksa bentuk kumpulan data\n",
    "print(wine.data.shape)"
   ]
  },
  {
   "cell_type": "code",
   "execution_count": 72,
   "id": "d1fa453c",
   "metadata": {},
   "outputs": [
    {
     "name": "stdout",
     "output_type": "stream",
     "text": [
      "(178,)\n"
     ]
    }
   ],
   "source": [
    "print(wine.target.shape)"
   ]
  },
  {
   "cell_type": "markdown",
   "id": "88bcebdd",
   "metadata": {},
   "source": [
    "**Splitting Data**"
   ]
  },
  {
   "cell_type": "markdown",
   "id": "28d9fb0f",
   "metadata": {},
   "source": [
    "Untuk memahami performa model, membagi set data menjadi training set dan a test adalah strategi yang baik."
   ]
  },
  {
   "cell_type": "markdown",
   "id": "c44b91d1",
   "metadata": {},
   "source": [
    "Mari kita pisahkan dataset dengan menggunakan function train_test_split(). Kita harus meneruskan 3 parameter yaitu features, target, dan test_set size. Selain itu, menggunakan random_state"
   ]
  },
  {
   "cell_type": "code",
   "execution_count": 73,
   "id": "b8e20f7e",
   "metadata": {},
   "outputs": [],
   "source": [
    "# Import train_test_split function\n",
    "from sklearn.model_selection import train_test_split\n",
    "\n",
    "# Split dataset into training set and test set\n",
    "X_train, X_test, y_train, y_test = train_test_split(wine.data, wine.target, test_size=0.3) # 70% training and 30% test"
   ]
  },
  {
   "cell_type": "markdown",
   "id": "3aeebb17",
   "metadata": {},
   "source": [
    "**Generating Model for K=5**"
   ]
  },
  {
   "cell_type": "code",
   "execution_count": 74,
   "id": "ccefffb9",
   "metadata": {},
   "outputs": [],
   "source": [
    "# Import knearest neighbors Classifier model\n",
    "from sklearn.neighbors import KNeighborsClassifier\n",
    "\n",
    "# Create KNN Classifier\n",
    "knn = KNeighborsClassifier(n_neighbors=5)\n",
    "\n",
    "# Train the model using the training sets\n",
    "knn.fit(X_train, y_train)\n",
    "\n",
    "# Predict the response for test dataset\n",
    "y_pred = knn.predict(X_test)"
   ]
  },
  {
   "cell_type": "markdown",
   "id": "bd7cc292",
   "metadata": {},
   "source": [
    "**Model Evaluation for K=5**"
   ]
  },
  {
   "cell_type": "markdown",
   "id": "4495b40d",
   "metadata": {},
   "source": [
    "Akurasi dapat dihitung dengan membandingkan actual test set values dan predicted values"
   ]
  },
  {
   "cell_type": "code",
   "execution_count": 75,
   "id": "d1682a7a",
   "metadata": {},
   "outputs": [
    {
     "name": "stdout",
     "output_type": "stream",
     "text": [
      "Accuracy: 0.6666666666666666\n"
     ]
    }
   ],
   "source": [
    "#Import scikit-learn metrics module for accuracy calculation\n",
    "from sklearn import metrics\n",
    "\n",
    "# Model Accuracy, how often is the classifier correct?\n",
    "print(\"Accuracy:\",metrics.accuracy_score(y_test, y_pred))"
   ]
  },
  {
   "cell_type": "markdown",
   "id": "44603270",
   "metadata": {},
   "source": [
    "Klasifikasi sebesar **66.66%**. Untuk evaluasi lebih lanjut, kita dapat membuat model u/ jumlah k tetangga yang berbeda."
   ]
  },
  {
   "cell_type": "markdown",
   "id": "5142b2dc",
   "metadata": {},
   "source": [
    "**Re-generating Model for K=7**"
   ]
  },
  {
   "cell_type": "markdown",
   "id": "c31ee534",
   "metadata": {},
   "source": [
    "Mari buat model pengklasifikasi KKN untuk k=7"
   ]
  },
  {
   "cell_type": "code",
   "execution_count": 76,
   "id": "adb65ce9",
   "metadata": {},
   "outputs": [],
   "source": [
    "#Import knearest neighbors Classifier model\n",
    "from sklearn.neighbors import KNeighborsClassifier\n",
    "\n",
    "#Create KNN Classifier\n",
    "knn = KNeighborsClassifier(n_neighbors=7)\n",
    "\n",
    "#Train the model using the training sets\n",
    "knn.fit(X_train, y_train)\n",
    "\n",
    "#Predict the response for test dataset\n",
    "y_pred = knn.predict(X_test)"
   ]
  },
  {
   "cell_type": "markdown",
   "id": "ce6c0bd2",
   "metadata": {},
   "source": [
    "Mari estimasi lagi, seberapa akurat pengklasifikasi atau model dapat memprediksi jenis kultivar untuk k = 7"
   ]
  },
  {
   "cell_type": "code",
   "execution_count": 77,
   "id": "14b3d8d4",
   "metadata": {},
   "outputs": [
    {
     "name": "stdout",
     "output_type": "stream",
     "text": [
      "Accuracy: 0.6851851851851852\n"
     ]
    }
   ],
   "source": [
    "#Import scikit-learn metrics module for accuracy calculation\n",
    "from sklearn import metrics\n",
    "\n",
    "# Model Accuracy, how often is the classifier correct?\n",
    "print(\"Accuracy:\",metrics.accuracy_score(y_test, y_pred))"
   ]
  },
  {
   "cell_type": "markdown",
   "id": "4bf06687",
   "metadata": {},
   "source": [
    "Tingkat klasifikasi **64%**. "
   ]
  },
  {
   "cell_type": "markdown",
   "id": "00175b6a",
   "metadata": {},
   "source": [
    "Disni, kita telah meningkatkan jumlah tetangga dlm model dan akurasi menurun. Tetapi ini tidak perlu untuk setiap kasus dimana peningkatan banyak tetangga meningkatkankan akurasi"
   ]
  },
  {
   "cell_type": "markdown",
   "id": "ff36d999",
   "metadata": {},
   "source": [
    "Sekarang, saatnya improve model dan mencari tahu nilai k yang optimal"
   ]
  },
  {
   "cell_type": "code",
   "execution_count": 83,
   "id": "5aef50bf",
   "metadata": {},
   "outputs": [],
   "source": [
    "error = []\n",
    "\n",
    "# Calculating error for K values between 1 and 40\n",
    "for i in range(1, 40):  \n",
    "    knn = KNeighborsClassifier(n_neighbors=i)\n",
    "    knn.fit(X_train, y_train)\n",
    "    pred_i = knn.predict(X_test)\n",
    "    error.append(np.mean(pred_i != y_test))"
   ]
  },
  {
   "cell_type": "code",
   "execution_count": 84,
   "id": "9678eeed",
   "metadata": {},
   "outputs": [
    {
     "data": {
      "text/plain": [
       "Text(0, 0.5, 'Error mean')"
      ]
     },
     "execution_count": 84,
     "metadata": {},
     "output_type": "execute_result"
    },
    {
     "data": {
      "image/png": "[encoded data removed]",
      "text/plain": [
       "<Figure size 864x432 with 1 Axes>"
      ]
     },
     "metadata": {
      "needs_background": "light"
     },
     "output_type": "display_data"
    }
   ],
   "source": [
    "plt.figure(figsize=(12, 6))  \n",
    "plt.plot(range(1, 40), error, color='red', linestyle='dashed', marker='o',  \n",
    "         markerfacecolor='blue', markersize=10)\n",
    "plt.title('Error Rate K')  \n",
    "plt.xlabel('K')  \n",
    "plt.ylabel('Error mean')"
   ]
  },
  {
   "cell_type": "markdown",
   "id": "e0e93d5f",
   "metadata": {},
   "source": [
    "Dari plot tersebut terlihat bahwa error terkecil yang kita dapatkan adalah 0.21 pada k=25"
   ]
  },
  {
   "cell_type": "code",
   "execution_count": 85,
   "id": "08db0b98",
   "metadata": {},
   "outputs": [
    {
     "name": "stdout",
     "output_type": "stream",
     "text": [
      "Accuracy: 0.6666666666666666\n"
     ]
    }
   ],
   "source": [
    "#Import knearest neighbors Classifier model\n",
    "from sklearn.neighbors import KNeighborsClassifier\n",
    "\n",
    "#Create KNN Classifier\n",
    "knn = KNeighborsClassifier(n_neighbors=25)\n",
    "\n",
    "#Train the model using the training sets\n",
    "knn.fit(X_train, y_train)\n",
    "\n",
    "#Predict the response for test dataset\n",
    "y_pred = knn.predict(X_test)\n",
    "\n",
    "#Import scikit-learn metrics module for accuracy calculation\n",
    "from sklearn import metrics\n",
    "\n",
    "# Model Accuracy, how often is the classifier correct?\n",
    "print(\"Accuracy:\",metrics.accuracy_score(y_test, y_pred))"
   ]
  }
 ],
 "metadata": {
  "kernelspec": {
   "display_name": "Python 3 (ipykernel)",
   "language": "python",
   "name": "python3"
  },
  "language_info": {
   "codemirror_mode": {
    "name": "ipython",
    "version": 3
   },
   "file_extension": ".py",
   "mimetype": "text/x-python",
   "name": "python",
   "nbconvert_exporter": "python",
   "pygments_lexer": "ipython3",
   "version": "3.8.7"
  },
  "toc": {
   "base_numbering": 1,
   "nav_menu": {},
   "number_sections": true,
   "sideBar": true,
   "skip_h1_title": false,
   "title_cell": "Table of Contents",
   "title_sidebar": "Contents",
   "toc_cell": true,
   "toc_position": {},
   "toc_section_display": true,
   "toc_window_display": false
  }
 },
 "nbformat": 4,
 "nbformat_minor": 5
}
