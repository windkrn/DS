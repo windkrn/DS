{
 "cells": [
  {
   "cell_type": "markdown",
   "id": "5589b9b8",
   "metadata": {
    "toc": true
   },
   "source": [
    "<h1>Table of Contents<span class=\"tocSkip\"></span></h1>\n",
    "<div class=\"toc\"><ul class=\"toc-item\"><li><span><a href=\"#Statistik-Deskriptif\" data-toc-modified-id=\"Statistik-Deskriptif-1\"><span class=\"toc-item-num\">1&nbsp;&nbsp;</span>Statistik Deskriptif</a></span></li><li><span><a href=\"#Calculating-Descriptive-Statistics\" data-toc-modified-id=\"Calculating-Descriptive-Statistics-2\"><span class=\"toc-item-num\">2&nbsp;&nbsp;</span>Calculating Descriptive Statistics</a></span></li><li><span><a href=\"#Measures-of-Central-Tendency\" data-toc-modified-id=\"Measures-of-Central-Tendency-3\"><span class=\"toc-item-num\">3&nbsp;&nbsp;</span>Measures of Central Tendency</a></span><ul class=\"toc-item\"><li><span><a href=\"#Mean\" data-toc-modified-id=\"Mean-3.1\"><span class=\"toc-item-num\">3.1&nbsp;&nbsp;</span>Mean</a></span></li><li><span><a href=\"#Weighted-Mean\" data-toc-modified-id=\"Weighted-Mean-3.2\"><span class=\"toc-item-num\">3.2&nbsp;&nbsp;</span>Weighted Mean</a></span></li><li><span><a href=\"#Harmonic-Mean\" data-toc-modified-id=\"Harmonic-Mean-3.3\"><span class=\"toc-item-num\">3.3&nbsp;&nbsp;</span>Harmonic Mean</a></span></li><li><span><a href=\"#Geometric-Mean\" data-toc-modified-id=\"Geometric-Mean-3.4\"><span class=\"toc-item-num\">3.4&nbsp;&nbsp;</span>Geometric Mean</a></span></li><li><span><a href=\"#Median\" data-toc-modified-id=\"Median-3.5\"><span class=\"toc-item-num\">3.5&nbsp;&nbsp;</span>Median</a></span></li><li><span><a href=\"#Mode\" data-toc-modified-id=\"Mode-3.6\"><span class=\"toc-item-num\">3.6&nbsp;&nbsp;</span>Mode</a></span></li></ul></li><li><span><a href=\"#Measures-of-Variablity\" data-toc-modified-id=\"Measures-of-Variablity-4\"><span class=\"toc-item-num\">4&nbsp;&nbsp;</span>Measures of Variablity</a></span><ul class=\"toc-item\"><li><span><a href=\"#Variance\" data-toc-modified-id=\"Variance-4.1\"><span class=\"toc-item-num\">4.1&nbsp;&nbsp;</span>Variance</a></span></li><li><span><a href=\"#Standard-Deviation\" data-toc-modified-id=\"Standard-Deviation-4.2\"><span class=\"toc-item-num\">4.2&nbsp;&nbsp;</span>Standard Deviation</a></span></li><li><span><a href=\"#Skewness\" data-toc-modified-id=\"Skewness-4.3\"><span class=\"toc-item-num\">4.3&nbsp;&nbsp;</span>Skewness</a></span></li><li><span><a href=\"#Percentiles\" data-toc-modified-id=\"Percentiles-4.4\"><span class=\"toc-item-num\">4.4&nbsp;&nbsp;</span>Percentiles</a></span></li><li><span><a href=\"#Ranges\" data-toc-modified-id=\"Ranges-4.5\"><span class=\"toc-item-num\">4.5&nbsp;&nbsp;</span>Ranges</a></span></li></ul></li><li><span><a href=\"#Summary-of-Descriptive-Statistics\" data-toc-modified-id=\"Summary-of-Descriptive-Statistics-5\"><span class=\"toc-item-num\">5&nbsp;&nbsp;</span>Summary of Descriptive Statistics</a></span></li><li><span><a href=\"#Measures-of-Correlation-Between-Pairs-of-Data\" data-toc-modified-id=\"Measures-of-Correlation-Between-Pairs-of-Data-6\"><span class=\"toc-item-num\">6&nbsp;&nbsp;</span>Measures of Correlation Between Pairs of Data</a></span><ul class=\"toc-item\"><li><span><a href=\"#Covariance\" data-toc-modified-id=\"Covariance-6.1\"><span class=\"toc-item-num\">6.1&nbsp;&nbsp;</span>Covariance</a></span></li><li><span><a href=\"#Correalation-Coefficient\" data-toc-modified-id=\"Correalation-Coefficient-6.2\"><span class=\"toc-item-num\">6.2&nbsp;&nbsp;</span>Correalation Coefficient</a></span></li></ul></li><li><span><a href=\"#Working-with-2D-data\" data-toc-modified-id=\"Working-with-2D-data-7\"><span class=\"toc-item-num\">7&nbsp;&nbsp;</span>Working with 2D data</a></span><ul class=\"toc-item\"><li><span><a href=\"#Axes\" data-toc-modified-id=\"Axes-7.1\"><span class=\"toc-item-num\">7.1&nbsp;&nbsp;</span>Axes</a></span></li><li><span><a href=\"#DataFrame\" data-toc-modified-id=\"DataFrame-7.2\"><span class=\"toc-item-num\">7.2&nbsp;&nbsp;</span>DataFrame</a></span></li></ul></li><li><span><a href=\"#Visualizing-Data-(Optional)\" data-toc-modified-id=\"Visualizing-Data-(Optional)-8\"><span class=\"toc-item-num\">8&nbsp;&nbsp;</span>Visualizing Data (Optional)</a></span><ul class=\"toc-item\"><li><span><a href=\"#Box-Plots\" data-toc-modified-id=\"Box-Plots-8.1\"><span class=\"toc-item-num\">8.1&nbsp;&nbsp;</span>Box Plots</a></span></li><li><span><a href=\"#Histogram\" data-toc-modified-id=\"Histogram-8.2\"><span class=\"toc-item-num\">8.2&nbsp;&nbsp;</span>Histogram</a></span></li></ul></li><li><span><a href=\"#Pie-Charts\" data-toc-modified-id=\"Pie-Charts-9\"><span class=\"toc-item-num\">9&nbsp;&nbsp;</span>Pie Charts</a></span></li></ul></div>"
   ]
  },
  {
   "cell_type": "markdown",
   "id": "7b2c67e9",
   "metadata": {},
   "source": [
    "# Statistik Deskriptif"
   ]
  },
  {
   "cell_type": "markdown",
   "id": "443813a0",
   "metadata": {},
   "source": [
    "Statistik Deskriptif melibatkan meringkas dan mengatur data sehingga dapat dengan mudah dipahami. Disini, kita biasanya mendekripsikan data dalam sampel. tidak dikembangkan berdasarkan teori probabilitas"
   ]
  },
  {
   "cell_type": "markdown",
   "id": "9f859650",
   "metadata": {},
   "source": [
    "# Calculating Descriptive Statistics"
   ]
  },
  {
   "cell_type": "code",
   "execution_count": 1,
   "id": "eeaa3ec2",
   "metadata": {},
   "outputs": [],
   "source": [
    "import math\n",
    "import statistics\n",
    "import numpy as np\n",
    "import scipy.stats\n",
    "import pandas as pd"
   ]
  },
  {
   "cell_type": "markdown",
   "id": "70858a28",
   "metadata": {},
   "source": [
    "Buat beberapa data untuk dikerjakan. Kita akan mulai dengan list python yang berisi data numerik, yaitu lists x dan x_with_nan"
   ]
  },
  {
   "cell_type": "code",
   "execution_count": 2,
   "id": "d466dce8",
   "metadata": {},
   "outputs": [
    {
     "name": "stdout",
     "output_type": "stream",
     "text": [
      "[8.0, 1, 2.5, 4, 28.0]\n",
      "[8.0, 1, 2.5, nan, 4, 28.0]\n"
     ]
    }
   ],
   "source": [
    "x = [8.0, 1, 2.5, 4, 28.0]\n",
    "x_with_nan = [8.0, 1, 2.5, math.nan, 4, 28.0]\n",
    "print(x)\n",
    "print(x_with_nan)"
   ]
  },
  {
   "cell_type": "markdown",
   "id": "ab97e4ed",
   "metadata": {},
   "source": [
    "Sekarang, buat objek np.ndarray dan pd.Series yang sesuai dengan x dan x_with_nan"
   ]
  },
  {
   "cell_type": "code",
   "execution_count": 3,
   "id": "f7124f48",
   "metadata": {},
   "outputs": [
    {
     "name": "stdout",
     "output_type": "stream",
     "text": [
      "[ 8.   1.   2.5  4.  28. ]\n",
      "0     8.0\n",
      "1     1.0\n",
      "2     2.5\n",
      "3     4.0\n",
      "4    28.0\n",
      "dtype: float64\n",
      "[ 8.   1.   2.5  nan  4.  28. ]\n",
      "0     8.0\n",
      "1     1.0\n",
      "2     2.5\n",
      "3     NaN\n",
      "4     4.0\n",
      "5    28.0\n",
      "dtype: float64\n"
     ]
    }
   ],
   "source": [
    "y, y_with_nan = np.array(x), np.array(x_with_nan)\n",
    "z, z_with_nan = pd.Series(x), pd.Series(x_with_nan)\n",
    "print(y)\n",
    "print(z)\n",
    "print(y_with_nan)\n",
    "print(z_with_nan)"
   ]
  },
  {
   "cell_type": "markdown",
   "id": "00ae0945",
   "metadata": {},
   "source": [
    "Sekaarang, kita mempunyai dua array NumPy( y dan y_with_nan ) dan dua Series Pandas (z dan z_with_nan). Semua ini adalah sequences nilai 1D."
   ]
  },
  {
   "cell_type": "markdown",
   "id": "00705cf2",
   "metadata": {},
   "source": [
    "# Measures of Central Tendency"
   ]
  },
  {
   "cell_type": "markdown",
   "id": "d9df85db",
   "metadata": {},
   "source": [
    "Measure of central tendency menunjukan nilai tengah atau pusat dari kumpulan data. "
   ]
  },
  {
   "cell_type": "markdown",
   "id": "2f423637",
   "metadata": {},
   "source": [
    "## Mean"
   ]
  },
  {
   "cell_type": "markdown",
   "id": "205e6198",
   "metadata": {},
   "source": [
    "Sample mean juga disebut sample arithmetic mean atau average adalah rata-rata aritmatika dari semua item dalam kumpulan data"
   ]
  },
  {
   "cell_type": "markdown",
   "id": "e5c6ce34",
   "metadata": {},
   "source": [
    "kita dapat menghitung mean dengan pure Python menggunakan sum() dan len() tanpa mengimpor pustaka lain"
   ]
  },
  {
   "cell_type": "code",
   "execution_count": 5,
   "id": "655ed2c2",
   "metadata": {},
   "outputs": [
    {
     "data": {
      "text/plain": [
       "8.7"
      ]
     },
     "execution_count": 5,
     "metadata": {},
     "output_type": "execute_result"
    }
   ],
   "source": [
    "mean_ = sum(x)/len(x)\n",
    "mean_"
   ]
  },
  {
   "cell_type": "markdown",
   "id": "0f27697c",
   "metadata": {},
   "source": [
    "Kita juga dapat menerapkan fungsi statistics built-in Python"
   ]
  },
  {
   "cell_type": "code",
   "execution_count": 6,
   "id": "5e4481c5",
   "metadata": {},
   "outputs": [
    {
     "name": "stdout",
     "output_type": "stream",
     "text": [
      "8.7\n"
     ]
    }
   ],
   "source": [
    "mean_ = statistics.mean(x)\n",
    "print(mean_)"
   ]
  },
  {
   "cell_type": "code",
   "execution_count": 7,
   "id": "ddf2fbde",
   "metadata": {},
   "outputs": [
    {
     "name": "stdout",
     "output_type": "stream",
     "text": [
      "nan\n"
     ]
    }
   ],
   "source": [
    "mean_ = statistics.mean(x_with_nan)\n",
    "print(mean_)"
   ]
  },
  {
   "cell_type": "markdown",
   "id": "83d471f3",
   "metadata": {},
   "source": [
    "hal ini konsisten berhavior sum(), karena sum(x_with_nan) juga mengembalikan nan"
   ]
  },
  {
   "cell_type": "markdown",
   "id": "146b5ae3",
   "metadata": {},
   "source": [
    "Jika kita menggunakan NumPy, maka kita bisa mendapatkan mean dengan **np.mean()**"
   ]
  },
  {
   "cell_type": "code",
   "execution_count": 8,
   "id": "f3f4ce52",
   "metadata": {},
   "outputs": [
    {
     "data": {
      "text/plain": [
       "8.7"
      ]
     },
     "execution_count": 8,
     "metadata": {},
     "output_type": "execute_result"
    }
   ],
   "source": [
    "mean_ = np.mean(y)\n",
    "mean_"
   ]
  },
  {
   "cell_type": "markdown",
   "id": "39626e75",
   "metadata": {},
   "source": [
    "Dari contoh diatas, mean() adalah fungsi. tetapi kita juga dapat menggunakan method .mean()"
   ]
  },
  {
   "cell_type": "code",
   "execution_count": 9,
   "id": "920b2d3f",
   "metadata": {},
   "outputs": [
    {
     "data": {
      "text/plain": [
       "8.7"
      ]
     },
     "execution_count": 9,
     "metadata": {},
     "output_type": "execute_result"
    }
   ],
   "source": [
    "mean_ = y.mean()\n",
    "mean_"
   ]
  },
  {
   "cell_type": "markdown",
   "id": "27ed0d8e",
   "metadata": {},
   "source": [
    "fungsi mean() dan method .mean() dari NumPy menegmbalikan hasil yang sama seperti statistic.mean() . dibawah ini adalah kasus ketika ada nilai nan di antara data kita"
   ]
  },
  {
   "cell_type": "code",
   "execution_count": 10,
   "id": "e1c2c926",
   "metadata": {},
   "outputs": [
    {
     "name": "stdout",
     "output_type": "stream",
     "text": [
      "nan\n",
      "nan\n"
     ]
    }
   ],
   "source": [
    "print(np.mean(y_with_nan))\n",
    "print(y_with_nan.mean())"
   ]
  },
  {
   "cell_type": "markdown",
   "id": "9d7edfad",
   "metadata": {},
   "source": [
    "Jika kita mengabaikan nilai nan, dapat menggunakan **np.nanmean()**"
   ]
  },
  {
   "cell_type": "code",
   "execution_count": 11,
   "id": "dd3ff2fe",
   "metadata": {},
   "outputs": [
    {
     "data": {
      "text/plain": [
       "8.7"
      ]
     },
     "execution_count": 11,
     "metadata": {},
     "output_type": "execute_result"
    }
   ],
   "source": [
    "np.nanmean(y_with_nan)"
   ]
  },
  {
   "cell_type": "markdown",
   "id": "9d3156a0",
   "metadata": {},
   "source": [
    "**nanmean()** mengabaikan semua nilai nan. nanmean() mengembalikan nilai yang sama seperti mean() jika kalian menerapkannya ke kumpulan data tanpa nilai nan"
   ]
  },
  {
   "cell_type": "markdown",
   "id": "4ed2b1f9",
   "metadata": {},
   "source": [
    "pd.Series Objects juga punya method .mean()"
   ]
  },
  {
   "cell_type": "code",
   "execution_count": 12,
   "id": "d8f587f3",
   "metadata": {},
   "outputs": [
    {
     "data": {
      "text/plain": [
       "8.7"
      ]
     },
     "execution_count": 12,
     "metadata": {},
     "output_type": "execute_result"
    }
   ],
   "source": [
    "mean_ = z.mean()\n",
    "mean_"
   ]
  },
  {
   "cell_type": "markdown",
   "id": "8f4507ea",
   "metadata": {},
   "source": [
    ".mean() dari pandas mengabaikan nilai nan secara default"
   ]
  },
  {
   "cell_type": "code",
   "execution_count": 13,
   "id": "18f40f6c",
   "metadata": {},
   "outputs": [
    {
     "data": {
      "text/plain": [
       "8.7"
      ]
     },
     "execution_count": 13,
     "metadata": {},
     "output_type": "execute_result"
    }
   ],
   "source": [
    "z_with_nan.mean()"
   ]
  },
  {
   "cell_type": "markdown",
   "id": "73683c7a",
   "metadata": {},
   "source": [
    "## Weighted Mean"
   ]
  },
  {
   "cell_type": "markdown",
   "id": "5ee461c5",
   "metadata": {},
   "source": [
    "Disebut juga weight arithmetic mean atau wighted avreage adalah generalisasi dari rata-rata aritmatika yang memungkinkan kita untuk menentukan kontribusi relatif dari setiap titik data ke hasil. Weighted mean sangat berguna saat kita membutuhkan rata-rata kumpulan data yang berisi item yang muncul dengan frekuensi relatif tertentu."
   ]
  },
  {
   "cell_type": "markdown",
   "id": "0876b2cc",
   "metadata": {},
   "source": [
    "Misalnya, kita memiliki himpunan dimana 20% dari semua item sama dengan 2, 50% item sama dengan 4, dan 30% sisanya sama dengan 8. kita dapat menghitung dengan rata rata dari set seperti ini:"
   ]
  },
  {
   "cell_type": "code",
   "execution_count": 8,
   "id": "6013a52f",
   "metadata": {},
   "outputs": [
    {
     "data": {
      "text/plain": [
       "4.8"
      ]
     },
     "execution_count": 8,
     "metadata": {},
     "output_type": "execute_result"
    }
   ],
   "source": [
    "0.2*2+0.5*4+0.3*8"
   ]
  },
  {
   "cell_type": "markdown",
   "id": "8f3b6a1e",
   "metadata": {},
   "source": [
    "Kita dapat mengimplementasikan weighted mean dalam python pure dengan menggabungkan sum() dengan range() dan zip()"
   ]
  },
  {
   "cell_type": "code",
   "execution_count": 9,
   "id": "2aedf728",
   "metadata": {},
   "outputs": [
    {
     "name": "stdout",
     "output_type": "stream",
     "text": [
      "6.95\n",
      "6.95\n"
     ]
    }
   ],
   "source": [
    "x = [8.0, 1,   2.5, 4,    28.0]\n",
    "w = [0.1, 0.2, 0.3, 0.25, 0.15]\n",
    "\n",
    "wmean = sum(w[i]* x[i] for i in range (len(x)))/ sum(w)\n",
    "print(wmean)\n",
    "\n",
    "wmean = sum(x_ * w_ for (x_, w_) in zip (x,w))/ sum(w)\n",
    "print(wmean)"
   ]
  },
  {
   "cell_type": "markdown",
   "id": "b0770e01",
   "metadata": {},
   "source": [
    "Namun, jika kita memiliki kumpulan data yang besar, NumPy kemungkinan akan memberikan solusi yang lebih baik. Kita dapat menggunakan np.avearge() untuk mendapatkan weight mean dari array NumPy atau series Pandas:"
   ]
  },
  {
   "cell_type": "code",
   "execution_count": 10,
   "id": "10952f30",
   "metadata": {},
   "outputs": [
    {
     "name": "stdout",
     "output_type": "stream",
     "text": [
      "6.95\n",
      "6.95\n"
     ]
    }
   ],
   "source": [
    "y, z, w = np.array(x), pd.Series(x), np.array(w)\n",
    "\n",
    "wmean = np.average(y, weights=w)\n",
    "print(wmean)\n",
    "\n",
    "wmean = np.average(z, weights=w)\n",
    "print(wmean)"
   ]
  },
  {
   "cell_type": "markdown",
   "id": "dc35406a",
   "metadata": {},
   "source": [
    "Kita dapat menggunakan metode diatas pada list dan tuples."
   ]
  },
  {
   "cell_type": "markdown",
   "id": "ffe2e5d9",
   "metadata": {},
   "source": [
    "Solusi lain adalah dengan menggunakan element-wise produc w*y dengan np.sum() atau .sum()"
   ]
  },
  {
   "cell_type": "code",
   "execution_count": 11,
   "id": "8dbc6778",
   "metadata": {},
   "outputs": [
    {
     "data": {
      "text/plain": [
       "6.95"
      ]
     },
     "execution_count": 11,
     "metadata": {},
     "output_type": "execute_result"
    }
   ],
   "source": [
    "(w * y).sum() / w.sum()"
   ]
  },
  {
   "cell_type": "markdown",
   "id": "181a4b81",
   "metadata": {},
   "source": [
    "## Harmonic Mean"
   ]
  },
  {
   "cell_type": "markdown",
   "id": "e7b02551",
   "metadata": {},
   "source": [
    "Harmonic mean adalah the reciprocal of the average of the reciprocals"
   ]
  },
  {
   "cell_type": "markdown",
   "id": "9119b55c",
   "metadata": {},
   "source": [
    "Contoh : 2, 4, 6, dan 100.\n",
    "- Arithmetic mean adalah 2+4+6+100/4 = 28\n",
    "- Harmonic mean adalah 4/(1/2 + 1/4 + 1/6 + 1/100) = 4.32 "
   ]
  },
  {
   "cell_type": "code",
   "execution_count": 12,
   "id": "9d83b016",
   "metadata": {},
   "outputs": [
    {
     "data": {
      "text/plain": [
       "2.7613412228796843"
      ]
     },
     "execution_count": 12,
     "metadata": {},
     "output_type": "execute_result"
    }
   ],
   "source": [
    "hmean = len(x) / sum(1/item for item in x)\n",
    "hmean"
   ]
  },
  {
   "cell_type": "code",
   "execution_count": 13,
   "id": "53e4a004",
   "metadata": {},
   "outputs": [
    {
     "data": {
      "text/plain": [
       "2.7613412228796843"
      ]
     },
     "execution_count": 13,
     "metadata": {},
     "output_type": "execute_result"
    }
   ],
   "source": [
    "hmean = statistics.harmonic_mean(x)\n",
    "hmean"
   ]
  },
  {
   "cell_type": "code",
   "execution_count": 14,
   "id": "59559a35",
   "metadata": {},
   "outputs": [
    {
     "data": {
      "text/plain": [
       "2.7613412228796843"
      ]
     },
     "execution_count": 14,
     "metadata": {},
     "output_type": "execute_result"
    }
   ],
   "source": [
    "scipy.stats.hmean(y)"
   ]
  },
  {
   "cell_type": "code",
   "execution_count": 15,
   "id": "a4fdb5f6",
   "metadata": {},
   "outputs": [
    {
     "data": {
      "text/plain": [
       "2.7613412228796843"
      ]
     },
     "execution_count": 15,
     "metadata": {},
     "output_type": "execute_result"
    }
   ],
   "source": [
    "scipy.stats.hmean(z)"
   ]
  },
  {
   "cell_type": "markdown",
   "id": "352d1026",
   "metadata": {},
   "source": [
    "## Geometric Mean"
   ]
  },
  {
   "cell_type": "markdown",
   "id": "a1452a3e",
   "metadata": {},
   "source": [
    "Example : what is the geometric mean od 2 and 18?\n",
    "- Pertamakali kita kalikan: 2 x 18 = 36\n",
    "- lalu ambil square root: akar dari 36 = 6"
   ]
  },
  {
   "cell_type": "markdown",
   "id": "dc6ae41c",
   "metadata": {},
   "source": [
    "Example : you want to buy a new camera\n",
    "1.  one camera has a zoom of 200 and gets an 8 in reviews.\n",
    "2. the other has a zoom of 250 and getsts a 6 in reviews"
   ]
  },
  {
   "cell_type": "markdown",
   "id": "db2937f4",
   "metadata": {},
   "source": [
    "Jawab : \n",
    "1. aritmethic mean : (200+8)/2 = 104 dan (250+6)/2=128.and\n",
    "2. Geometric mean:\n",
    "   - akar (200 x 8) = 40\n",
    "   - akar (250 x 6) = 38.7"
   ]
  },
  {
   "cell_type": "markdown",
   "id": "f96b5235",
   "metadata": {},
   "source": [
    "Implementasi geomertic mean dalam python pure"
   ]
  },
  {
   "cell_type": "code",
   "execution_count": 16,
   "id": "6ef936d3",
   "metadata": {},
   "outputs": [
    {
     "data": {
      "text/plain": [
       "4.677885674856041"
      ]
     },
     "execution_count": 16,
     "metadata": {},
     "output_type": "execute_result"
    }
   ],
   "source": [
    "gmean = 1\n",
    "for item in x:\n",
    "    gmean *=item\n",
    "gmean **= 1/len(x)\n",
    "gmean"
   ]
  },
  {
   "cell_type": "markdown",
   "id": "b5e8381c",
   "metadata": {},
   "source": [
    "Kita juga bisa mendapatkan geometric mean dengan scipy.stats.gmean()"
   ]
  },
  {
   "cell_type": "code",
   "execution_count": 17,
   "id": "2499c9b3",
   "metadata": {},
   "outputs": [
    {
     "data": {
      "text/plain": [
       "4.67788567485604"
      ]
     },
     "execution_count": 17,
     "metadata": {},
     "output_type": "execute_result"
    }
   ],
   "source": [
    "scipy.stats.gmean(y)"
   ]
  },
  {
   "cell_type": "code",
   "execution_count": 18,
   "id": "bfbbfa21",
   "metadata": {},
   "outputs": [
    {
     "data": {
      "text/plain": [
       "4.67788567485604"
      ]
     },
     "execution_count": 18,
     "metadata": {},
     "output_type": "execute_result"
    }
   ],
   "source": [
    "scipy.stats.gmean(z)"
   ]
  },
  {
   "cell_type": "markdown",
   "id": "982449b6",
   "metadata": {},
   "source": [
    "## Median"
   ]
  },
  {
   "cell_type": "markdown",
   "id": "6efaa156",
   "metadata": {},
   "source": [
    "Sample median adalah elemen tengah dari kumpulan data yang diurutkan. Dataset dapat diurutkan dalam urutan naik atau turun."
   ]
  },
  {
   "cell_type": "markdown",
   "id": "8fa85571",
   "metadata": {},
   "source": [
    "- Jika jumlah elemen n dari dataset ganjil, maka median adalah nilai pada posisi tengah: 0,5 (n+1)\n",
    "- Jika n genap, median adalaah arithmetic medan dari dua nilai di tengah, yaitu item pada posisi 0.5n dan 0.5n+1"
   ]
  },
  {
   "cell_type": "code",
   "execution_count": 22,
   "id": "a6e8ff53",
   "metadata": {},
   "outputs": [
    {
     "data": {
      "text/plain": [
       "[8.0, 1, 2.5, 4, 28.0]"
      ]
     },
     "execution_count": 22,
     "metadata": {},
     "output_type": "execute_result"
    }
   ],
   "source": [
    "x"
   ]
  },
  {
   "cell_type": "code",
   "execution_count": 23,
   "id": "f9516993",
   "metadata": {},
   "outputs": [
    {
     "data": {
      "text/plain": [
       "4"
      ]
     },
     "execution_count": 23,
     "metadata": {},
     "output_type": "execute_result"
    }
   ],
   "source": [
    "n = len(x)\n",
    "if n % 2:\n",
    "    median_ = sorted(x)[round(0.5 * (n-1))]\n",
    "else:\n",
    "    x_ord, index = sorted(x), round(0.5 * n)\n",
    "    median_= 0.5 * (x_ord[index-1] + x_ord[index])\n",
    "\n",
    "median_"
   ]
  },
  {
   "cell_type": "markdown",
   "id": "84ce0757",
   "metadata": {},
   "source": [
    "x yang diurutkan adalah [1, 2.5, 4, 8.0, 28.0], jadi elemen di tengah adalah 4"
   ]
  },
  {
   "cell_type": "code",
   "execution_count": 27,
   "id": "94adba47",
   "metadata": {},
   "outputs": [
    {
     "data": {
      "text/plain": [
       "2.5"
      ]
     },
     "execution_count": 27,
     "metadata": {},
     "output_type": "execute_result"
    }
   ],
   "source": [
    "statistics.median_low(x[:-1])"
   ]
  },
  {
   "cell_type": "code",
   "execution_count": 28,
   "id": "d314462a",
   "metadata": {},
   "outputs": [
    {
     "data": {
      "text/plain": [
       "4"
      ]
     },
     "execution_count": 28,
     "metadata": {},
     "output_type": "execute_result"
    }
   ],
   "source": [
    "statistics.median_high(x[:-1])"
   ]
  },
  {
   "cell_type": "markdown",
   "id": "8a966393",
   "metadata": {},
   "source": [
    "median, median_low, median_hight tidak mengembalikan nan ketika ada nilai nan diantara titik data"
   ]
  },
  {
   "cell_type": "code",
   "execution_count": 28,
   "id": "2ae6705b",
   "metadata": {},
   "outputs": [
    {
     "name": "stdout",
     "output_type": "stream",
     "text": [
      "[8.0, 1, 2.5, nan, 4, 28.0]\n",
      "6.0\n",
      "4\n",
      "8.0\n"
     ]
    }
   ],
   "source": [
    "print(x_with_nan)\n",
    "print(statistics.median(x_with_nan))\n",
    "print(statistics.median_low(x_with_nan))\n",
    "print(statistics.median_high(x_with_nan))"
   ]
  },
  {
   "cell_type": "markdown",
   "id": "8e9c24dd",
   "metadata": {},
   "source": [
    "Kita juga bisa mendapatkan median dengan np.median():"
   ]
  },
  {
   "cell_type": "code",
   "execution_count": 29,
   "id": "a3bf7b73",
   "metadata": {},
   "outputs": [
    {
     "name": "stdout",
     "output_type": "stream",
     "text": [
      "4.0\n"
     ]
    }
   ],
   "source": [
    "median_ = np.median(y)\n",
    "print(median_)"
   ]
  },
  {
   "cell_type": "code",
   "execution_count": 30,
   "id": "64096489",
   "metadata": {},
   "outputs": [
    {
     "name": "stdout",
     "output_type": "stream",
     "text": [
      "3.25\n"
     ]
    }
   ],
   "source": [
    "median_ = np.median(y[:-1])\n",
    "print(median_)"
   ]
  },
  {
   "cell_type": "markdown",
   "id": "c9b3709b",
   "metadata": {},
   "source": [
    "## Mode"
   ]
  },
  {
   "cell_type": "markdown",
   "id": "0a95604b",
   "metadata": {},
   "source": [
    "Sample mode adalah nilai dalam kumpulan data yang paling sering muncul."
   ]
  },
  {
   "cell_type": "markdown",
   "id": "b7444a5b",
   "metadata": {},
   "source": [
    "Misalnya, pada set berisi poin 2,3,2,8 dan 12. angka 2 adalah mode karena terjadi dua kali, tidak seperti item lain yang hanya muncul sekali"
   ]
  },
  {
   "cell_type": "markdown",
   "id": "d55a2f70",
   "metadata": {},
   "source": [
    "mode dengan Python pure"
   ]
  },
  {
   "cell_type": "code",
   "execution_count": 31,
   "id": "874eab15",
   "metadata": {},
   "outputs": [
    {
     "data": {
      "text/plain": [
       "2"
      ]
     },
     "execution_count": 31,
     "metadata": {},
     "output_type": "execute_result"
    }
   ],
   "source": [
    "u = [2,  3,  2,  8,  12]\n",
    "v = [12, 15, 12, 15, 21, 15, 12]\n",
    "\n",
    "mode_ = max((u.count(item), item) for item in set(u))[1]\n",
    "mode_"
   ]
  },
  {
   "cell_type": "markdown",
   "id": "231e3831",
   "metadata": {},
   "source": [
    "kita bisa mendapatkan mode dengan statistics.mode()"
   ]
  },
  {
   "cell_type": "code",
   "execution_count": 32,
   "id": "e598b536",
   "metadata": {},
   "outputs": [
    {
     "data": {
      "text/plain": [
       "2"
      ]
     },
     "execution_count": 32,
     "metadata": {},
     "output_type": "execute_result"
    }
   ],
   "source": [
    "mode_ = statistics.mode(u)\n",
    "mode_"
   ]
  },
  {
   "cell_type": "markdown",
   "id": "c0e1c661",
   "metadata": {},
   "source": [
    "kita juga dapat mendapatkan mode dengan scipy.stats.mode()"
   ]
  },
  {
   "cell_type": "code",
   "execution_count": 33,
   "id": "befe61ce",
   "metadata": {},
   "outputs": [
    {
     "data": {
      "text/plain": [
       "ModeResult(mode=array([2]), count=array([2]))"
      ]
     },
     "execution_count": 33,
     "metadata": {},
     "output_type": "execute_result"
    }
   ],
   "source": [
    "u, v = np.array(u), np.array(v)\n",
    "\n",
    "mode_ = scipy.stats.mode(u)\n",
    "mode_"
   ]
  },
  {
   "cell_type": "code",
   "execution_count": 34,
   "id": "616bcb12",
   "metadata": {},
   "outputs": [
    {
     "data": {
      "text/plain": [
       "ModeResult(mode=array([12]), count=array([3]))"
      ]
     },
     "execution_count": 34,
     "metadata": {},
     "output_type": "execute_result"
    }
   ],
   "source": [
    "mode_ = scipy.stats.mode(v)\n",
    "mode_"
   ]
  },
  {
   "cell_type": "markdown",
   "id": "0a97b49f",
   "metadata": {},
   "source": [
    "kita bisa mendapatkan mode dan jumlah kemunculan sebagai array NumPy dengan dot notation:"
   ]
  },
  {
   "cell_type": "code",
   "execution_count": 35,
   "id": "88d51450",
   "metadata": {},
   "outputs": [
    {
     "name": "stdout",
     "output_type": "stream",
     "text": [
      "[12]\n",
      "[3]\n"
     ]
    }
   ],
   "source": [
    "print(mode_.mode)\n",
    "print(mode_.count)"
   ]
  },
  {
   "cell_type": "markdown",
   "id": "353ecfb9",
   "metadata": {},
   "source": [
    "Objek pandas series memiliki metode .mode() yang menangani nilai multimodal dengan baik dan mengabaikan nilai nan secara default:"
   ]
  },
  {
   "cell_type": "code",
   "execution_count": 36,
   "id": "07b580cb",
   "metadata": {},
   "outputs": [
    {
     "name": "stdout",
     "output_type": "stream",
     "text": [
      "0    2\n",
      "dtype: int32\n",
      "0    12\n",
      "1    15\n",
      "dtype: int32\n",
      "0    2.0\n",
      "dtype: float64\n"
     ]
    }
   ],
   "source": [
    "u, v, w = pd.Series(u), pd.Series(v), pd.Series([2, 2, math.nan])\n",
    "\n",
    "print(u.mode())\n",
    "print(v.mode())\n",
    "print(w.mode())"
   ]
  },
  {
   "cell_type": "markdown",
   "id": "3402b33d",
   "metadata": {},
   "source": [
    ".mode() mengembalikan pd.Series baru yang menampung semua nilai modal. Jika ingin .mode() memperhitungkan nilai nan, cukup teruskan argumen opsional dropna=False"
   ]
  },
  {
   "cell_type": "markdown",
   "id": "3a570b97",
   "metadata": {},
   "source": [
    "# Measures of Variablity"
   ]
  },
  {
   "cell_type": "markdown",
   "id": "94e013c6",
   "metadata": {},
   "source": [
    "Measures of Variablity untuk mengukur penyebaran titik data."
   ]
  },
  {
   "cell_type": "markdown",
   "id": "cac73a88",
   "metadata": {},
   "source": [
    "## Variance"
   ]
  },
  {
   "cell_type": "markdown",
   "id": "9ba975bb",
   "metadata": {},
   "source": [
    "Sample variance mengukur penyebaran data. menunjukan secara numerik seberapa jauh titik data dari mean"
   ]
  },
  {
   "cell_type": "code",
   "execution_count": 37,
   "id": "d606b8ba",
   "metadata": {},
   "outputs": [
    {
     "data": {
      "text/plain": [
       "123.19999999999999"
      ]
     },
     "execution_count": 37,
     "metadata": {},
     "output_type": "execute_result"
    }
   ],
   "source": [
    "n = len(x)\n",
    "\n",
    "mean_ = sum(x)/n\n",
    "\n",
    "var_ = sum((item-mean_)**2 for item in x)/ (n - 1)\n",
    "var_"
   ]
  },
  {
   "cell_type": "markdown",
   "id": "26b9d93b",
   "metadata": {},
   "source": [
    "fungsi statistic.variance()"
   ]
  },
  {
   "cell_type": "code",
   "execution_count": 38,
   "id": "dfae896c",
   "metadata": {},
   "outputs": [
    {
     "data": {
      "text/plain": [
       "123.19999999999999"
      ]
     },
     "execution_count": 38,
     "metadata": {},
     "output_type": "execute_result"
    }
   ],
   "source": [
    "var_"
   ]
  },
  {
   "cell_type": "code",
   "execution_count": 39,
   "id": "c56b4ed1",
   "metadata": {},
   "outputs": [
    {
     "data": {
      "text/plain": [
       "123.2"
      ]
     },
     "execution_count": 39,
     "metadata": {},
     "output_type": "execute_result"
    }
   ],
   "source": [
    "var_ = statistics.variance(x)\n",
    "var_"
   ]
  },
  {
   "cell_type": "markdown",
   "id": "adb34261",
   "metadata": {},
   "source": [
    "kita juga dapat menghitung sample variance dengan NumPy. kita menggunakan fungsi np.var() atau method.var():"
   ]
  },
  {
   "cell_type": "code",
   "execution_count": 40,
   "id": "5dfb3c05",
   "metadata": {},
   "outputs": [
    {
     "data": {
      "text/plain": [
       "123.19999999999999"
      ]
     },
     "execution_count": 40,
     "metadata": {},
     "output_type": "execute_result"
    }
   ],
   "source": [
    "var_ = np.var(y, ddof=1) #parameter ddof=1. degrees of freedom ke-1. memungkinkan kalkulasi yang tepat dari s2, dengan (n-1) di penyebutnya, bukan n\n",
    "var_"
   ]
  },
  {
   "cell_type": "code",
   "execution_count": 41,
   "id": "0a44c3c4",
   "metadata": {},
   "outputs": [
    {
     "data": {
      "text/plain": [
       "123.19999999999999"
      ]
     },
     "execution_count": 41,
     "metadata": {},
     "output_type": "execute_result"
    }
   ],
   "source": [
    "var_ = np.var(y, ddof=1)\n",
    "var_"
   ]
  },
  {
   "cell_type": "markdown",
   "id": "4036b8ac",
   "metadata": {},
   "source": [
    "Objek pd.Series memiliki metode .var() yang mengabaikan nilai nan secara default"
   ]
  },
  {
   "cell_type": "code",
   "execution_count": 42,
   "id": "5e9616a9",
   "metadata": {},
   "outputs": [
    {
     "data": {
      "text/plain": [
       "123.19999999999999"
      ]
     },
     "execution_count": 42,
     "metadata": {},
     "output_type": "execute_result"
    }
   ],
   "source": [
    "z.var(ddof=1)"
   ]
  },
  {
   "cell_type": "markdown",
   "id": "2ca82c51",
   "metadata": {},
   "source": [
    "## Standard Deviation"
   ]
  },
  {
   "cell_type": "markdown",
   "id": "f1214fe3",
   "metadata": {},
   "source": [
    "Sample deviation adalah cara lain mengukur penyerbaran data. "
   ]
  },
  {
   "cell_type": "markdown",
   "id": "801cca7a",
   "metadata": {},
   "source": [
    "kita dapat menghitung deviasi stamdar dengan Python pure:"
   ]
  },
  {
   "cell_type": "code",
   "execution_count": 43,
   "id": "3b0aa354",
   "metadata": {},
   "outputs": [
    {
     "data": {
      "text/plain": [
       "11.099549540409285"
      ]
     },
     "execution_count": 43,
     "metadata": {},
     "output_type": "execute_result"
    }
   ],
   "source": [
    "std_ = var_**0.5\n",
    "std_"
   ]
  },
  {
   "cell_type": "markdown",
   "id": "f0363a63",
   "metadata": {},
   "source": [
    "Kita juga dapat menggunakan statistics.stdev():"
   ]
  },
  {
   "cell_type": "code",
   "execution_count": 44,
   "id": "0158100e",
   "metadata": {},
   "outputs": [
    {
     "data": {
      "text/plain": [
       "11.099549540409287"
      ]
     },
     "execution_count": 44,
     "metadata": {},
     "output_type": "execute_result"
    }
   ],
   "source": [
    "std_ = statistics.stdev(x)\n",
    "std_"
   ]
  },
  {
   "cell_type": "markdown",
   "id": "603e9778",
   "metadata": {},
   "source": [
    "Kita bisa mendapatkan standard deviation dengan NumPy dengan cara hampir sama. kita menggunakan fungsi std() dan method .std(). Jika ada nilai nan dalam kumpulan data, maka akan mengembalikan nan. Untuk mengabaikan nilai nan, kita harus menggunakan np.nanstd()"
   ]
  },
  {
   "cell_type": "code",
   "execution_count": 41,
   "id": "e1e7d961",
   "metadata": {},
   "outputs": [
    {
     "data": {
      "text/plain": [
       "11.099549540409285"
      ]
     },
     "execution_count": 41,
     "metadata": {},
     "output_type": "execute_result"
    }
   ],
   "source": [
    "np.std(y, ddof=1)"
   ]
  },
  {
   "cell_type": "code",
   "execution_count": 42,
   "id": "e985a912",
   "metadata": {},
   "outputs": [
    {
     "data": {
      "text/plain": [
       "11.099549540409285"
      ]
     },
     "execution_count": 42,
     "metadata": {},
     "output_type": "execute_result"
    }
   ],
   "source": [
    "y.std(ddof=1)"
   ]
  },
  {
   "cell_type": "markdown",
   "id": "f33467e7",
   "metadata": {},
   "source": [
    "Objek pd.Series memiliki method .std() yang mengabaikan nan secara default:"
   ]
  },
  {
   "cell_type": "code",
   "execution_count": 47,
   "id": "d587dba9",
   "metadata": {},
   "outputs": [
    {
     "data": {
      "text/plain": [
       "11.099549540409285"
      ]
     },
     "execution_count": 47,
     "metadata": {},
     "output_type": "execute_result"
    }
   ],
   "source": [
    "z.std(ddof=1)"
   ]
  },
  {
   "cell_type": "markdown",
   "id": "da7f5083",
   "metadata": {},
   "source": [
    "jika ingin memperlakukan nilai nan secara berbeda, maka terapkan parameter skipna"
   ]
  },
  {
   "cell_type": "markdown",
   "id": "e9c37147",
   "metadata": {},
   "source": [
    "## Skewness"
   ]
  },
  {
   "cell_type": "markdown",
   "id": "5a944ef9",
   "metadata": {},
   "source": [
    "Sample skewness mengukur asimetri sampel data. setelah menghitung ukuran kumpulan data n, sample mean mean_, dan standar deviation std_, kita bisa membuat skewness dengan Python pure"
   ]
  },
  {
   "cell_type": "code",
   "execution_count": 43,
   "id": "852ecf7a",
   "metadata": {},
   "outputs": [],
   "source": [
    "x = [8.0, 1, 2.5, 4, 28.0]\n",
    "\n",
    "n = len(x)\n",
    "\n",
    "mean_ = sum(x)/n\n",
    "var   = sum((item - mean_)**2 for item in x) / (n-1)\n",
    "std_  = var_ ** 0.5\n",
    "\n",
    "skew_  = (sum((item - mean_)**3 for item in x) *n / ((n-1)*(n-2)* std_ **3))"
   ]
  },
  {
   "cell_type": "code",
   "execution_count": 44,
   "id": "f0c35f8d",
   "metadata": {},
   "outputs": [
    {
     "data": {
      "text/plain": [
       "1.9470432273905929"
      ]
     },
     "execution_count": 44,
     "metadata": {},
     "output_type": "execute_result"
    }
   ],
   "source": [
    "skew_ #menunjukan angka positif, jadi x mempunyai right-side tail"
   ]
  },
  {
   "cell_type": "markdown",
   "id": "c6fe2c2c",
   "metadata": {},
   "source": [
    "kita juga dapat menghitung sample skewness dengan scipy.stats.skew():"
   ]
  },
  {
   "cell_type": "code",
   "execution_count": 45,
   "id": "90892c68",
   "metadata": {},
   "outputs": [
    {
     "data": {
      "text/plain": [
       "1.9470432273905924"
      ]
     },
     "execution_count": 45,
     "metadata": {},
     "output_type": "execute_result"
    }
   ],
   "source": [
    "y, y_with_nan = pd.Series(x), pd.Series(x_with_nan)\n",
    "\n",
    "y.skew()"
   ]
  },
  {
   "cell_type": "code",
   "execution_count": 48,
   "id": "02b537f9",
   "metadata": {},
   "outputs": [
    {
     "data": {
      "text/plain": [
       "nan"
      ]
     },
     "execution_count": 48,
     "metadata": {},
     "output_type": "execute_result"
    }
   ],
   "source": [
    "scipy.stats.skew(y_with_nan, bias=False) #  bias di set false untuk mengaktifkan koreksi bias statistik"
   ]
  },
  {
   "cell_type": "markdown",
   "id": "3c7f077e",
   "metadata": {},
   "source": [
    "Objek pandas series memiliki metode .skew() yg juga mengembalikan skewness kumpulan data"
   ]
  },
  {
   "cell_type": "code",
   "execution_count": 49,
   "id": "37dfbbf2",
   "metadata": {},
   "outputs": [
    {
     "data": {
      "text/plain": [
       "1.9470432273905924"
      ]
     },
     "execution_count": 49,
     "metadata": {},
     "output_type": "execute_result"
    }
   ],
   "source": [
    "z, z_with_nan = pd.Series(x), pd.Series(x_with_nan)\n",
    "\n",
    "z.skew()"
   ]
  },
  {
   "cell_type": "code",
   "execution_count": 50,
   "id": "e5bb2c6d",
   "metadata": {},
   "outputs": [
    {
     "data": {
      "text/plain": [
       "1.9470432273905924"
      ]
     },
     "execution_count": 50,
     "metadata": {},
     "output_type": "execute_result"
    }
   ],
   "source": [
    "z_with_nan.skew()"
   ]
  },
  {
   "cell_type": "markdown",
   "id": "aac73fbc",
   "metadata": {},
   "source": [
    "## Percentiles"
   ]
  },
  {
   "cell_type": "markdown",
   "id": "61916ce6",
   "metadata": {},
   "source": [
    "Sampel p percentile adalah elemen dalam kumpulan data sehingga p% elemen dalam kumpulan data kurang dari atau sama dengan nilai tersebut."
   ]
  },
  {
   "cell_type": "code",
   "execution_count": 57,
   "id": "09e7d23a",
   "metadata": {},
   "outputs": [],
   "source": [
    "x = [-5.0, -1.1, 0.1, 2.0, 8.0, 12.8, 21.0, 25.8, 41.0]"
   ]
  },
  {
   "cell_type": "markdown",
   "id": "07f62e7a",
   "metadata": {},
   "source": [
    "Setiap bagian memiliki jumlah item yang kurang lebih sama. Jika kita ingin membagi data kita menjadi beberapa interval, maka kita dapat menggunakan statistics.quantiles():"
   ]
  },
  {
   "cell_type": "code",
   "execution_count": 58,
   "id": "3e6f8d1a",
   "metadata": {},
   "outputs": [
    {
     "data": {
      "text/plain": [
       "[8.0]"
      ]
     },
     "execution_count": 58,
     "metadata": {},
     "output_type": "execute_result"
    }
   ],
   "source": [
    "statistics.quantiles(x, n=2) # median dari x"
   ]
  },
  {
   "cell_type": "code",
   "execution_count": 59,
   "id": "09afb8bb",
   "metadata": {},
   "outputs": [
    {
     "data": {
      "text/plain": [
       "[0.1, 8.0, 21.0]"
      ]
     },
     "execution_count": 59,
     "metadata": {},
     "output_type": "execute_result"
    }
   ],
   "source": [
    "statistics.quantiles(x, n=4, method='inclusive') # parameter n menentukan jumlah persentil probabilitas sama yang dihasilkan. \n",
    "# method menentukan cara menghitungnya"
   ]
  },
  {
   "cell_type": "markdown",
   "id": "061e7f09",
   "metadata": {},
   "source": [
    "Kita juga dapat menggunakan np.percentile() untuk menentukan persentil sampel apapun dalam kumpulan data. Misal kita ingin mencari persentile ke-5 dan ke-95"
   ]
  },
  {
   "cell_type": "code",
   "execution_count": 60,
   "id": "743907ab",
   "metadata": {},
   "outputs": [
    {
     "data": {
      "text/plain": [
       "-3.44"
      ]
     },
     "execution_count": 60,
     "metadata": {},
     "output_type": "execute_result"
    }
   ],
   "source": [
    "y = np.array(x)\n",
    "np.percentile(y, 5)"
   ]
  },
  {
   "cell_type": "code",
   "execution_count": 61,
   "id": "2e666d52",
   "metadata": {},
   "outputs": [
    {
     "data": {
      "text/plain": [
       "34.919999999999995"
      ]
     },
     "execution_count": 61,
     "metadata": {},
     "output_type": "execute_result"
    }
   ],
   "source": [
    "np.percentile(y, 95)"
   ]
  },
  {
   "cell_type": "markdown",
   "id": "571f3cbe",
   "metadata": {},
   "source": [
    "Percentile membutuhkan beberapa argumen. kita harus menyediakan datset sebagai argumen pertama dan nilai persentil sebagai yang kedua.\n",
    "\n",
    "dataset dapat berupa Array, Numpy, list, tuple, atau struktur data serupa. Persentil bisa berupa angka 0-100 atau berupa urutan angka."
   ]
  },
  {
   "cell_type": "code",
   "execution_count": 62,
   "id": "5b7d2c09",
   "metadata": {},
   "outputs": [
    {
     "data": {
      "text/plain": [
       "array([ 0.1,  8. , 21. ])"
      ]
     },
     "execution_count": 62,
     "metadata": {},
     "output_type": "execute_result"
    }
   ],
   "source": [
    "np.percentile(y, [25, 50, 75])"
   ]
  },
  {
   "cell_type": "code",
   "execution_count": 63,
   "id": "47d8a03f",
   "metadata": {},
   "outputs": [
    {
     "data": {
      "text/plain": [
       "8.0"
      ]
     },
     "execution_count": 63,
     "metadata": {},
     "output_type": "execute_result"
    }
   ],
   "source": [
    "np.median(y)"
   ]
  },
  {
   "cell_type": "markdown",
   "id": "aeaa706b",
   "metadata": {},
   "source": [
    "jika kita ingin mengabaikan nilai nan, gunakan np.nanpercentile()"
   ]
  },
  {
   "cell_type": "code",
   "execution_count": 64,
   "id": "e194f0d1",
   "metadata": {},
   "outputs": [
    {
     "data": {
      "text/plain": [
       "array([-5. , -1.1,  nan,  0.1,  2. ,  8. , 12.8, 21. , 25.8, 41. ])"
      ]
     },
     "execution_count": 64,
     "metadata": {},
     "output_type": "execute_result"
    }
   ],
   "source": [
    "y_with_nan = np.insert(y, 2, np.nan)\n",
    "y_with_nan"
   ]
  },
  {
   "cell_type": "code",
   "execution_count": 65,
   "id": "51a04f63",
   "metadata": {},
   "outputs": [
    {
     "data": {
      "text/plain": [
       "array([ 0.1,  8. , 21. ])"
      ]
     },
     "execution_count": 65,
     "metadata": {},
     "output_type": "execute_result"
    }
   ],
   "source": [
    "np.nanpercentile(y_with_nan, [25, 50, 75])"
   ]
  },
  {
   "cell_type": "markdown",
   "id": "76c84c28",
   "metadata": {},
   "source": [
    "NumPy juga menawarkan fungsionalitas yg sangat mirip di quantile() dan nanquantile(). Jika kita ingin menggunakannya, kitaa harus memberikan nilai-nilailai kuantitatif sebagai angka antara 0-1, bukan persentile"
   ]
  },
  {
   "cell_type": "code",
   "execution_count": 66,
   "id": "e0e55a34",
   "metadata": {},
   "outputs": [
    {
     "data": {
      "text/plain": [
       "-3.44"
      ]
     },
     "execution_count": 66,
     "metadata": {},
     "output_type": "execute_result"
    }
   ],
   "source": [
    "np.quantile(y, 0.05)"
   ]
  },
  {
   "cell_type": "code",
   "execution_count": 67,
   "id": "b39c1db7",
   "metadata": {},
   "outputs": [
    {
     "data": {
      "text/plain": [
       "34.919999999999995"
      ]
     },
     "execution_count": 67,
     "metadata": {},
     "output_type": "execute_result"
    }
   ],
   "source": [
    "np.quantile(y, 0.95)"
   ]
  },
  {
   "cell_type": "code",
   "execution_count": 68,
   "id": "b5101854",
   "metadata": {},
   "outputs": [
    {
     "data": {
      "text/plain": [
       "array([ 0.1,  8. , 21. ])"
      ]
     },
     "execution_count": 68,
     "metadata": {},
     "output_type": "execute_result"
    }
   ],
   "source": [
    "np.quantile(y, [0.25, 0.5, 0.75])"
   ]
  },
  {
   "cell_type": "code",
   "execution_count": 69,
   "id": "7e5c42ca",
   "metadata": {},
   "outputs": [
    {
     "data": {
      "text/plain": [
       "array([ 0.1,  8. , 21. ])"
      ]
     },
     "execution_count": 69,
     "metadata": {},
     "output_type": "execute_result"
    }
   ],
   "source": [
    "np.nanquantile(y, [0.25, 0.5, 0.75])"
   ]
  },
  {
   "cell_type": "markdown",
   "id": "8a7373c7",
   "metadata": {},
   "source": [
    "pd.Series objek memiliki method .quantile()"
   ]
  },
  {
   "cell_type": "code",
   "execution_count": 70,
   "id": "f48da0a7",
   "metadata": {},
   "outputs": [
    {
     "data": {
      "text/plain": [
       "-3.44"
      ]
     },
     "execution_count": 70,
     "metadata": {},
     "output_type": "execute_result"
    }
   ],
   "source": [
    "z, z_with_nan = pd.Series(y), pd.Series(y_with_nan)\n",
    "z.quantile(0.05)"
   ]
  },
  {
   "cell_type": "code",
   "execution_count": 71,
   "id": "7e2d2748",
   "metadata": {},
   "outputs": [
    {
     "data": {
      "text/plain": [
       "34.919999999999995"
      ]
     },
     "execution_count": 71,
     "metadata": {},
     "output_type": "execute_result"
    }
   ],
   "source": [
    "z.quantile(0.95)"
   ]
  },
  {
   "cell_type": "code",
   "execution_count": 72,
   "id": "e5d16a37",
   "metadata": {},
   "outputs": [
    {
     "data": {
      "text/plain": [
       "0.25     0.1\n",
       "0.50     8.0\n",
       "0.75    21.0\n",
       "dtype: float64"
      ]
     },
     "execution_count": 72,
     "metadata": {},
     "output_type": "execute_result"
    }
   ],
   "source": [
    "z.quantile([0.25, 0.5, 0.75])"
   ]
  },
  {
   "cell_type": "code",
   "execution_count": 73,
   "id": "a46fc51f",
   "metadata": {},
   "outputs": [
    {
     "data": {
      "text/plain": [
       "0.25     0.1\n",
       "0.50     8.0\n",
       "0.75    21.0\n",
       "dtype: float64"
      ]
     },
     "execution_count": 73,
     "metadata": {},
     "output_type": "execute_result"
    }
   ],
   "source": [
    "z_with_nan.quantile([0.25, 0.5, 0.75])"
   ]
  },
  {
   "cell_type": "markdown",
   "id": "1679026d",
   "metadata": {},
   "source": [
    "## Ranges"
   ]
  },
  {
   "cell_type": "markdown",
   "id": "1f6fcd56",
   "metadata": {},
   "source": [
    "Range data adalah perbedaan antara elemen maksimum dan minimum dalam kumpulan data dengan fungsi np.ptp():"
   ]
  },
  {
   "cell_type": "code",
   "execution_count": 74,
   "id": "83d1a564",
   "metadata": {},
   "outputs": [
    {
     "data": {
      "text/plain": [
       "46.0"
      ]
     },
     "execution_count": 74,
     "metadata": {},
     "output_type": "execute_result"
    }
   ],
   "source": [
    "np.ptp(y)"
   ]
  },
  {
   "cell_type": "code",
   "execution_count": 75,
   "id": "75ed33c1",
   "metadata": {},
   "outputs": [
    {
     "data": {
      "text/plain": [
       "46.0"
      ]
     },
     "execution_count": 75,
     "metadata": {},
     "output_type": "execute_result"
    }
   ],
   "source": [
    "np.ptp(z)"
   ]
  },
  {
   "cell_type": "code",
   "execution_count": 76,
   "id": "e36b7622",
   "metadata": {},
   "outputs": [
    {
     "data": {
      "text/plain": [
       "nan"
      ]
     },
     "execution_count": 76,
     "metadata": {},
     "output_type": "execute_result"
    }
   ],
   "source": [
    "np.ptp(y_with_nan)"
   ]
  },
  {
   "cell_type": "code",
   "execution_count": 77,
   "id": "68ae191e",
   "metadata": {},
   "outputs": [
    {
     "data": {
      "text/plain": [
       "nan"
      ]
     },
     "execution_count": 77,
     "metadata": {},
     "output_type": "execute_result"
    }
   ],
   "source": [
    "np.ptp(z_with_nan)"
   ]
  },
  {
   "cell_type": "markdown",
   "id": "8a9a0b34",
   "metadata": {},
   "source": [
    "Fungsi ini mengembalikan nan jika ada nilai nan dalam array NumPy. Jika objek pandas series, maka itu akan mengembalikan angka. Berikut beberapa contoh bagaimana kita akan menggunakannya:"
   ]
  },
  {
   "cell_type": "code",
   "execution_count": 78,
   "id": "c299275f",
   "metadata": {},
   "outputs": [
    {
     "data": {
      "text/plain": [
       "46.0"
      ]
     },
     "execution_count": 78,
     "metadata": {},
     "output_type": "execute_result"
    }
   ],
   "source": [
    "np.amax(y) - np.amin(y)"
   ]
  },
  {
   "cell_type": "code",
   "execution_count": 79,
   "id": "604083db",
   "metadata": {},
   "outputs": [
    {
     "data": {
      "text/plain": [
       "46.0"
      ]
     },
     "execution_count": 79,
     "metadata": {},
     "output_type": "execute_result"
    }
   ],
   "source": [
    "np.nanmax(y_with_nan) - np.nanmin(y_with_nan)"
   ]
  },
  {
   "cell_type": "code",
   "execution_count": 80,
   "id": "c6c0ec5a",
   "metadata": {},
   "outputs": [
    {
     "data": {
      "text/plain": [
       "46.0"
      ]
     },
     "execution_count": 80,
     "metadata": {},
     "output_type": "execute_result"
    }
   ],
   "source": [
    "y.max() - y.min()"
   ]
  },
  {
   "cell_type": "code",
   "execution_count": 81,
   "id": "920c80dd",
   "metadata": {},
   "outputs": [
    {
     "data": {
      "text/plain": [
       "46.0"
      ]
     },
     "execution_count": 81,
     "metadata": {},
     "output_type": "execute_result"
    }
   ],
   "source": [
    "z.max() - z.min()"
   ]
  },
  {
   "cell_type": "code",
   "execution_count": 82,
   "id": "95629ba0",
   "metadata": {},
   "outputs": [
    {
     "data": {
      "text/plain": [
       "46.0"
      ]
     },
     "execution_count": 82,
     "metadata": {},
     "output_type": "execute_result"
    }
   ],
   "source": [
    "z_with_nan.max() - z_with_nan.min()"
   ]
  },
  {
   "cell_type": "markdown",
   "id": "ade9f935",
   "metadata": {},
   "source": [
    "**Interguartile range** adalah perbedaan antara kuartil pertama dan ketiga. Setelah kita menghitung kuartil, kita dapat menghitunggambil selisihnya"
   ]
  },
  {
   "cell_type": "code",
   "execution_count": 83,
   "id": "2af0393e",
   "metadata": {},
   "outputs": [
    {
     "data": {
      "text/plain": [
       "20.9"
      ]
     },
     "execution_count": 83,
     "metadata": {},
     "output_type": "execute_result"
    }
   ],
   "source": [
    "quartiles = np.quantile(y, [0.25, 0.75])\n",
    "quartiles[1] - quartiles[0]"
   ]
  },
  {
   "cell_type": "code",
   "execution_count": 84,
   "id": "88b813ea",
   "metadata": {},
   "outputs": [
    {
     "data": {
      "text/plain": [
       "20.9"
      ]
     },
     "execution_count": 84,
     "metadata": {},
     "output_type": "execute_result"
    }
   ],
   "source": [
    "quartiles = z.quantile([0.25, 0.75])\n",
    "quartiles[0.75] - quartiles[0.25]"
   ]
  },
  {
   "cell_type": "markdown",
   "id": "703ff712",
   "metadata": {},
   "source": [
    "# Summary of Descriptive Statistics"
   ]
  },
  {
   "cell_type": "markdown",
   "id": "b25ca676",
   "metadata": {},
   "source": [
    "scipy.stats.describe() u/ mendapatkan decrptive statistics dengan cepat dengan satu panggilan fungsi dan method."
   ]
  },
  {
   "cell_type": "code",
   "execution_count": 85,
   "id": "1edd44b5",
   "metadata": {},
   "outputs": [
    {
     "data": {
      "text/plain": [
       "DescribeResult(nobs=9, minmax=(-5.0, 41.0), mean=11.622222222222222, variance=228.75194444444446, skewness=0.9249043136685094, kurtosis=0.14770623629658886)"
      ]
     },
     "execution_count": 85,
     "metadata": {},
     "output_type": "execute_result"
    }
   ],
   "source": [
    "result = scipy.stats.describe(y, ddof=1, bias=False)\n",
    "result"
   ]
  },
  {
   "cell_type": "markdown",
   "id": "2bb31d28",
   "metadata": {},
   "source": [
    "- Kita harus memberikan dataset sebagai argumen pertama. argumen bisa berupa array NumPy, list, tuple, atau struktur data serupa.\n",
    "- kita dapat menghilangkan ddof=1. karena adalah default dan hanya penting saat kita menghitung varians.\n",
    "- meneruskan bias= false u/ mengoreksi skewness dan kurtosis u. statitcal bias"
   ]
  },
  {
   "cell_type": "markdown",
   "id": "01666b7b",
   "metadata": {},
   "source": [
    "describe() mengembalikan objek yang berupa descriptive in your dataset\n",
    "1. nbos : the number of obeservations or elemnts in your dataset\n",
    "2. minmax : the tuple with the minimum and maximum values of your dataset\n",
    "3. mean : the mean your dataset\n",
    "4. variance : variance of your dataset\n",
    "5. skewness : skewness of your dataset\n",
    "6. kurtosis : kurtosis of your dataset"
   ]
  },
  {
   "cell_type": "markdown",
   "id": "e571fa6c",
   "metadata": {},
   "source": [
    "kita dapat mengakses nilai tertentu dengan dot.notation:"
   ]
  },
  {
   "cell_type": "code",
   "execution_count": 86,
   "id": "3ffe28b7",
   "metadata": {},
   "outputs": [
    {
     "data": {
      "text/plain": [
       "9"
      ]
     },
     "execution_count": 86,
     "metadata": {},
     "output_type": "execute_result"
    }
   ],
   "source": [
    "result.nobs"
   ]
  },
  {
   "cell_type": "code",
   "execution_count": 87,
   "id": "84c03ea2",
   "metadata": {},
   "outputs": [
    {
     "data": {
      "text/plain": [
       "-5.0"
      ]
     },
     "execution_count": 87,
     "metadata": {},
     "output_type": "execute_result"
    }
   ],
   "source": [
    "result.minmax[0] #min"
   ]
  },
  {
   "cell_type": "code",
   "execution_count": 88,
   "id": "1842948a",
   "metadata": {},
   "outputs": [
    {
     "data": {
      "text/plain": [
       "41.0"
      ]
     },
     "execution_count": 88,
     "metadata": {},
     "output_type": "execute_result"
    }
   ],
   "source": [
    "result.minmax[1] #max"
   ]
  },
  {
   "cell_type": "code",
   "execution_count": 89,
   "id": "a208271a",
   "metadata": {},
   "outputs": [
    {
     "data": {
      "text/plain": [
       "11.622222222222222"
      ]
     },
     "execution_count": 89,
     "metadata": {},
     "output_type": "execute_result"
    }
   ],
   "source": [
    "result.mean"
   ]
  },
  {
   "cell_type": "code",
   "execution_count": 90,
   "id": "7f4970db",
   "metadata": {},
   "outputs": [
    {
     "data": {
      "text/plain": [
       "228.75194444444446"
      ]
     },
     "execution_count": 90,
     "metadata": {},
     "output_type": "execute_result"
    }
   ],
   "source": [
    "result.variance"
   ]
  },
  {
   "cell_type": "code",
   "execution_count": 91,
   "id": "e7ba1299",
   "metadata": {},
   "outputs": [
    {
     "data": {
      "text/plain": [
       "0.9249043136685094"
      ]
     },
     "execution_count": 91,
     "metadata": {},
     "output_type": "execute_result"
    }
   ],
   "source": [
    "result.skewness"
   ]
  },
  {
   "cell_type": "code",
   "execution_count": 92,
   "id": "434f9b01",
   "metadata": {},
   "outputs": [
    {
     "data": {
      "text/plain": [
       "0.14770623629658886"
      ]
     },
     "execution_count": 92,
     "metadata": {},
     "output_type": "execute_result"
    }
   ],
   "source": [
    "result.kurtosis"
   ]
  },
  {
   "cell_type": "markdown",
   "id": "3871c782",
   "metadata": {},
   "source": [
    "Pandas memiliki fungsi serupa. Objek series memiliki metode desrcibe()"
   ]
  },
  {
   "cell_type": "code",
   "execution_count": 93,
   "id": "739ab08a",
   "metadata": {},
   "outputs": [
    {
     "data": {
      "text/plain": [
       "count     9.000000\n",
       "mean     11.622222\n",
       "std      15.124548\n",
       "min      -5.000000\n",
       "25%       0.100000\n",
       "50%       8.000000\n",
       "75%      21.000000\n",
       "max      41.000000\n",
       "dtype: float64"
      ]
     },
     "execution_count": 93,
     "metadata": {},
     "output_type": "execute_result"
    }
   ],
   "source": [
    "result = z.describe()\n",
    "result"
   ]
  },
  {
   "cell_type": "markdown",
   "id": "4b3718c4",
   "metadata": {},
   "source": [
    "Jika kita ingin objek series yang dihasilkan berisi persentil lain, kita harus menentukan nilai percentiles parameter opsional. kita dapat mengakses setiap item result dengan labelnya"
   ]
  },
  {
   "cell_type": "code",
   "execution_count": 94,
   "id": "83a712b8",
   "metadata": {},
   "outputs": [
    {
     "data": {
      "text/plain": [
       "11.622222222222222"
      ]
     },
     "execution_count": 94,
     "metadata": {},
     "output_type": "execute_result"
    }
   ],
   "source": [
    "result['mean']"
   ]
  },
  {
   "cell_type": "code",
   "execution_count": 95,
   "id": "36a4c06b",
   "metadata": {},
   "outputs": [
    {
     "data": {
      "text/plain": [
       "15.12454774346805"
      ]
     },
     "execution_count": 95,
     "metadata": {},
     "output_type": "execute_result"
    }
   ],
   "source": [
    "result['std']"
   ]
  },
  {
   "cell_type": "code",
   "execution_count": 96,
   "id": "3843e747",
   "metadata": {},
   "outputs": [
    {
     "data": {
      "text/plain": [
       "-5.0"
      ]
     },
     "execution_count": 96,
     "metadata": {},
     "output_type": "execute_result"
    }
   ],
   "source": [
    "result['min']"
   ]
  },
  {
   "cell_type": "code",
   "execution_count": 97,
   "id": "18456959",
   "metadata": {},
   "outputs": [
    {
     "data": {
      "text/plain": [
       "41.0"
      ]
     },
     "execution_count": 97,
     "metadata": {},
     "output_type": "execute_result"
    }
   ],
   "source": [
    "result['max']"
   ]
  },
  {
   "cell_type": "code",
   "execution_count": 98,
   "id": "1a225f28",
   "metadata": {},
   "outputs": [
    {
     "data": {
      "text/plain": [
       "0.1"
      ]
     },
     "execution_count": 98,
     "metadata": {},
     "output_type": "execute_result"
    }
   ],
   "source": [
    "result['25%']"
   ]
  },
  {
   "cell_type": "code",
   "execution_count": 99,
   "id": "fad97721",
   "metadata": {},
   "outputs": [
    {
     "data": {
      "text/plain": [
       "8.0"
      ]
     },
     "execution_count": 99,
     "metadata": {},
     "output_type": "execute_result"
    }
   ],
   "source": [
    "result['50%']"
   ]
  },
  {
   "cell_type": "code",
   "execution_count": 100,
   "id": "6a543e4c",
   "metadata": {},
   "outputs": [
    {
     "data": {
      "text/plain": [
       "21.0"
      ]
     },
     "execution_count": 100,
     "metadata": {},
     "output_type": "execute_result"
    }
   ],
   "source": [
    "result['75%']"
   ]
  },
  {
   "cell_type": "markdown",
   "id": "06120cb4",
   "metadata": {},
   "source": [
    "# Measures of Correlation Between Pairs of Data"
   ]
  },
  {
   "cell_type": "markdown",
   "id": "5e72025e",
   "metadata": {},
   "source": [
    "Kita memeriksa hubungan/relation antara elemen yang sesuai dari dua variabel dalam kumpulan data. Dua Statistik yang mengukur korelasi antar dataset adalah **covariance** dan **correlation**."
   ]
  },
  {
   "cell_type": "code",
   "execution_count": 101,
   "id": "4e100766",
   "metadata": {},
   "outputs": [],
   "source": [
    "x = list(range(-10, 11))\n",
    "y = [0, 2, 2, 2, 2, 3, 3, 6, 7, 4, 7, 6, 6, 9, 4, 5, 5, 10, 11, 12, 14]\n",
    "\n",
    "x_, y_ = np.array(x), np.array(y)\n",
    "x_, y_ = pd.Series(x_), pd.Series(y_)"
   ]
  },
  {
   "cell_type": "markdown",
   "id": "b3df2df3",
   "metadata": {},
   "source": [
    "## Covariance"
   ]
  },
  {
   "cell_type": "markdown",
   "id": "8823f1e2",
   "metadata": {},
   "source": [
    "**Sample covariance** adalah ukuran yang mengukur kekuatan dan arah hubungan antara sepasang variabel:"
   ]
  },
  {
   "cell_type": "markdown",
   "id": "88e2f3ed",
   "metadata": {},
   "source": [
    "Cara menghitung kovarian dengan python pure"
   ]
  },
  {
   "cell_type": "code",
   "execution_count": 102,
   "id": "ca8a5662",
   "metadata": {},
   "outputs": [
    {
     "data": {
      "text/plain": [
       "19.95"
      ]
     },
     "execution_count": 102,
     "metadata": {},
     "output_type": "execute_result"
    }
   ],
   "source": [
    "n = len (x)\n",
    "mean_x, mean_y = sum(x)/ n, sum(y)/n\n",
    "cov_xy = (sum((x[k] - mean_x)* (y[k]-mean_y) for k in range(n))/(n-1))\n",
    "cov_xy"
   ]
  },
  {
   "cell_type": "markdown",
   "id": "1154b677",
   "metadata": {},
   "source": [
    "Pertama, kita mencari nilai mean dari x dan y. kemudian, kita menerapkan rumus matematika untuk covariance"
   ]
  },
  {
   "cell_type": "markdown",
   "id": "05e6d1b6",
   "metadata": {},
   "source": [
    "NumPy memiliki fungsi cov() yg mengembalikan **covariance matrix**"
   ]
  },
  {
   "cell_type": "code",
   "execution_count": 103,
   "id": "b6a01e59",
   "metadata": {},
   "outputs": [
    {
     "data": {
      "text/plain": [
       "array([[38.5       , 19.95      ],\n",
       "       [19.95      , 13.91428571]])"
      ]
     },
     "execution_count": 103,
     "metadata": {},
     "output_type": "execute_result"
    }
   ],
   "source": [
    "cov_matrix = np.cov(x_, y_)\n",
    "cov_matrix"
   ]
  },
  {
   "cell_type": "markdown",
   "id": "40d5014a",
   "metadata": {},
   "source": [
    "- 38.5 adalah covariance dari x dan x, atau variance dari x\n",
    "- 13.91428571 adalah covariance y dan y, atau variance y. "
   ]
  },
  {
   "cell_type": "code",
   "execution_count": 104,
   "id": "1ae2ef31",
   "metadata": {},
   "outputs": [
    {
     "data": {
      "text/plain": [
       "38.5"
      ]
     },
     "execution_count": 104,
     "metadata": {},
     "output_type": "execute_result"
    }
   ],
   "source": [
    "x_.var(ddof=1)"
   ]
  },
  {
   "cell_type": "code",
   "execution_count": 105,
   "id": "703d4945",
   "metadata": {},
   "outputs": [
    {
     "data": {
      "text/plain": [
       "13.914285714285711"
      ]
     },
     "execution_count": 105,
     "metadata": {},
     "output_type": "execute_result"
    }
   ],
   "source": [
    "y_.var(ddof=1)"
   ]
  },
  {
   "cell_type": "markdown",
   "id": "273d6209",
   "metadata": {},
   "source": [
    "seperti yang kita lihat, varians dari x dan y sama dengan cov_matrix[0, 0] dan cov_matrix[1, 1]"
   ]
  },
  {
   "cell_type": "code",
   "execution_count": 106,
   "id": "5973d34a",
   "metadata": {},
   "outputs": [
    {
     "data": {
      "text/plain": [
       "19.95"
      ]
     },
     "execution_count": 106,
     "metadata": {},
     "output_type": "execute_result"
    }
   ],
   "source": [
    "cov_xy = cov_matrix[0, 1]\n",
    "cov_xy"
   ]
  },
  {
   "cell_type": "code",
   "execution_count": 107,
   "id": "b48eaf84",
   "metadata": {},
   "outputs": [
    {
     "data": {
      "text/plain": [
       "19.95"
      ]
     },
     "execution_count": 107,
     "metadata": {},
     "output_type": "execute_result"
    }
   ],
   "source": [
    "cov_xy = cov_matrix[1, 0]\n",
    "cov_xy"
   ]
  },
  {
   "cell_type": "markdown",
   "id": "aecd5aec",
   "metadata": {},
   "source": [
    "Series Pandas memiliki metode .cov() u/ menghitung kovarian"
   ]
  },
  {
   "cell_type": "code",
   "execution_count": 108,
   "id": "665f4930",
   "metadata": {},
   "outputs": [
    {
     "data": {
      "text/plain": [
       "19.95"
      ]
     },
     "execution_count": 108,
     "metadata": {},
     "output_type": "execute_result"
    }
   ],
   "source": [
    "cov_xy = x_.cov(y_)\n",
    "cov_xy"
   ]
  },
  {
   "cell_type": "code",
   "execution_count": 109,
   "id": "7d2aef4b",
   "metadata": {},
   "outputs": [
    {
     "data": {
      "text/plain": [
       "19.95"
      ]
     },
     "execution_count": 109,
     "metadata": {},
     "output_type": "execute_result"
    }
   ],
   "source": [
    "cov_xy =y_.cov(x_)\n",
    "cov_xy"
   ]
  },
  {
   "cell_type": "markdown",
   "id": "30114bd2",
   "metadata": {},
   "source": [
    "## Correalation Coefficient"
   ]
  },
  {
   "cell_type": "markdown",
   "id": "d24883be",
   "metadata": {},
   "source": [
    "Correlation Coefficient atau Pearson product-moment correlation coefficient dilambangkan dengan simbol r. Coeddicient adalah ukuran lain dari korelasi antar data. kita dapat menganggap sebagai standardized covariance"
   ]
  },
  {
   "cell_type": "code",
   "execution_count": 112,
   "id": "4415f064",
   "metadata": {},
   "outputs": [
    {
     "data": {
      "text/plain": [
       "0.861950005631606"
      ]
     },
     "execution_count": 112,
     "metadata": {},
     "output_type": "execute_result"
    }
   ],
   "source": [
    "var_x = sum((item-mean_x)**2 for item in x)/ (n-1)\n",
    "var_y = sum((item-mean_y)**2 for item in y)/ (n-1)\n",
    "std_x, std_y = var_x ** 0.5, var_y**0.5\n",
    "r = cov_xy / (std_x * std_y)\n",
    "r # mewakili correlation coefficient"
   ]
  },
  {
   "cell_type": "markdown",
   "id": "6bdf5865",
   "metadata": {},
   "source": [
    "scipy.stats memiliki **pearsonr()** untuk menghitung correlation coefficient dan the p-value. pearson() mengembalikan tuple dengan dua angka. yang pertama adalah r dan yang kedua adalah p-value"
   ]
  },
  {
   "cell_type": "code",
   "execution_count": 113,
   "id": "e92c8463",
   "metadata": {},
   "outputs": [
    {
     "data": {
      "text/plain": [
       "0.8619500056316061"
      ]
     },
     "execution_count": 113,
     "metadata": {},
     "output_type": "execute_result"
    }
   ],
   "source": [
    "r, p = scipy.stats.pearsonr(x_, y_)\n",
    "r"
   ]
  },
  {
   "cell_type": "code",
   "execution_count": 114,
   "id": "f8336c3e",
   "metadata": {},
   "outputs": [
    {
     "data": {
      "text/plain": [
       "5.122760847201135e-07"
      ]
     },
     "execution_count": 114,
     "metadata": {},
     "output_type": "execute_result"
    }
   ],
   "source": [
    "p"
   ]
  },
  {
   "cell_type": "markdown",
   "id": "ed080ab0",
   "metadata": {},
   "source": [
    "Kita akan menerapkan **np.corrcoef()** dengan x_ dan y_ sebagai argumen dan mendapatkan correlation coefficient matrix"
   ]
  },
  {
   "cell_type": "code",
   "execution_count": 115,
   "id": "c982d9ef",
   "metadata": {},
   "outputs": [
    {
     "data": {
      "text/plain": [
       "array([[1.        , 0.86195001],\n",
       "       [0.86195001, 1.        ]])"
      ]
     },
     "execution_count": 115,
     "metadata": {},
     "output_type": "execute_result"
    }
   ],
   "source": [
    "corr_matrix = np.corrcoef(x_, y_)\n",
    "corr_matrix"
   ]
  },
  {
   "cell_type": "code",
   "execution_count": 116,
   "id": "b62feced",
   "metadata": {},
   "outputs": [
    {
     "data": {
      "text/plain": [
       "0.8619500056316061"
      ]
     },
     "execution_count": 116,
     "metadata": {},
     "output_type": "execute_result"
    }
   ],
   "source": [
    "r = corr_matrix[0, 1]\n",
    "r"
   ]
  },
  {
   "cell_type": "code",
   "execution_count": 117,
   "id": "35d3ea68",
   "metadata": {},
   "outputs": [
    {
     "data": {
      "text/plain": [
       "0.861950005631606"
      ]
     },
     "execution_count": 117,
     "metadata": {},
     "output_type": "execute_result"
    }
   ],
   "source": [
    "r = corr_matrix[1, 0]\n",
    "r"
   ]
  },
  {
   "cell_type": "markdown",
   "id": "336a1e57",
   "metadata": {},
   "source": [
    "kita juga bisa menggunakan **scipy.stats.linregress()**"
   ]
  },
  {
   "cell_type": "code",
   "execution_count": 118,
   "id": "78347180",
   "metadata": {},
   "outputs": [
    {
     "data": {
      "text/plain": [
       "LinregressResult(slope=0.5181818181818181, intercept=5.714285714285714, rvalue=0.861950005631606, pvalue=5.122760847201165e-07, stderr=0.06992387660074979, intercept_stderr=0.4234100995002589)"
      ]
     },
     "execution_count": 118,
     "metadata": {},
     "output_type": "execute_result"
    }
   ],
   "source": [
    "scipy.stats.linregress(x_, y_)"
   ]
  },
  {
   "cell_type": "markdown",
   "id": "8765acbf",
   "metadata": {},
   "source": [
    "- linregress() mengambil x_ dan y_ melakukan regresi linier dan mengembalikan hasilnya.\n",
    "- slope dan intercept menentukan persamaan regression line, \n",
    "- rvalue adalah correlation coefficient."
   ]
  },
  {
   "cell_type": "markdown",
   "id": "5be1074f",
   "metadata": {},
   "source": [
    "untuk mengakses nilai tertentu dari hasil linregress(), termasuk correlation coefficient, gunakan dot notation"
   ]
  },
  {
   "cell_type": "code",
   "execution_count": 119,
   "id": "2bf087fd",
   "metadata": {},
   "outputs": [
    {
     "data": {
      "text/plain": [
       "0.861950005631606"
      ]
     },
     "execution_count": 119,
     "metadata": {},
     "output_type": "execute_result"
    }
   ],
   "source": [
    "result = scipy.stats.linregress(x_, y_)\n",
    "r = result.rvalue\n",
    "r"
   ]
  },
  {
   "cell_type": "markdown",
   "id": "e2927724",
   "metadata": {},
   "source": [
    "Sereis Pandas memiliki method **.corr()** u/ menghitung correlation coefficient"
   ]
  },
  {
   "cell_type": "code",
   "execution_count": 120,
   "id": "a02161ef",
   "metadata": {},
   "outputs": [
    {
     "data": {
      "text/plain": [
       "0.8619500056316061"
      ]
     },
     "execution_count": 120,
     "metadata": {},
     "output_type": "execute_result"
    }
   ],
   "source": [
    "r = x_.corr(y_)\n",
    "r"
   ]
  },
  {
   "cell_type": "code",
   "execution_count": 121,
   "id": "4f0b7245",
   "metadata": {},
   "outputs": [
    {
     "data": {
      "text/plain": [
       "0.861950005631606"
      ]
     },
     "execution_count": 121,
     "metadata": {},
     "output_type": "execute_result"
    }
   ],
   "source": [
    "r = y_.corr(x_)\n",
    "r"
   ]
  },
  {
   "cell_type": "markdown",
   "id": "7b018ab3",
   "metadata": {},
   "source": [
    "# Working with 2D data"
   ]
  },
  {
   "cell_type": "markdown",
   "id": "4aa25be6",
   "metadata": {},
   "source": [
    "## Axes"
   ]
  },
  {
   "cell_type": "code",
   "execution_count": 123,
   "id": "f8579b2c",
   "metadata": {},
   "outputs": [
    {
     "data": {
      "text/plain": [
       "array([[ 1,  1,  1],\n",
       "       [ 2,  3,  1],\n",
       "       [ 4,  9,  2],\n",
       "       [ 8, 27,  4],\n",
       "       [16,  1,  1]])"
      ]
     },
     "execution_count": 123,
     "metadata": {},
     "output_type": "execute_result"
    }
   ],
   "source": [
    "a = np.array([[1, 1, 1],\n",
    "              [2, 3, 1],\n",
    "              [4, 9, 2],\n",
    "              [8, 27, 4],\n",
    "              [16, 1, 1]])\n",
    "a"
   ]
  },
  {
   "cell_type": "markdown",
   "id": "52dea035",
   "metadata": {},
   "source": [
    "Sekarang kita menerapkan fungsi dan metode statistik Python ke dalamnya seperti yang kita lakukan pada data 1D"
   ]
  },
  {
   "cell_type": "code",
   "execution_count": 124,
   "id": "11d6f3d0",
   "metadata": {},
   "outputs": [
    {
     "data": {
      "text/plain": [
       "5.4"
      ]
     },
     "execution_count": 124,
     "metadata": {},
     "output_type": "execute_result"
    }
   ],
   "source": [
    "np.mean(a)"
   ]
  },
  {
   "cell_type": "code",
   "execution_count": 125,
   "id": "b421dac2",
   "metadata": {},
   "outputs": [
    {
     "data": {
      "text/plain": [
       "5.4"
      ]
     },
     "execution_count": 125,
     "metadata": {},
     "output_type": "execute_result"
    }
   ],
   "source": [
    "a.mean()"
   ]
  },
  {
   "cell_type": "code",
   "execution_count": 126,
   "id": "fb4df127",
   "metadata": {},
   "outputs": [
    {
     "data": {
      "text/plain": [
       "2.0"
      ]
     },
     "execution_count": 126,
     "metadata": {},
     "output_type": "execute_result"
    }
   ],
   "source": [
    "np.median(a)"
   ]
  },
  {
   "cell_type": "code",
   "execution_count": 127,
   "id": "db39b48a",
   "metadata": {},
   "outputs": [
    {
     "data": {
      "text/plain": [
       "53.40000000000001"
      ]
     },
     "execution_count": 127,
     "metadata": {},
     "output_type": "execute_result"
    }
   ],
   "source": [
    "a.var(ddof=1)"
   ]
  },
  {
   "cell_type": "markdown",
   "id": "f52da3ea",
   "metadata": {},
   "source": [
    "**axis** adalah fungsi dan metode yang kita gunakan sejauh ini memiliki satu parameter opsional.\n",
    "- axis = None . says to calculate the statistics across all the data in the array. the excamples above work like this. This behavior is often the default in NumPy\n",
    "- axis = 0. says to calculate the statistics across all rows, that is, for each column of the array. This behavior is often the default for SciPy statistical Functions.\n",
    "- axis = 1. says to calculate the statistics across all columns, that is, for each row of the array"
   ]
  },
  {
   "cell_type": "code",
   "execution_count": 128,
   "id": "beb25a63",
   "metadata": {},
   "outputs": [
    {
     "data": {
      "text/plain": [
       "array([6.2, 8.2, 1.8])"
      ]
     },
     "execution_count": 128,
     "metadata": {},
     "output_type": "execute_result"
    }
   ],
   "source": [
    "np.mean(a, axis=0)"
   ]
  },
  {
   "cell_type": "code",
   "execution_count": 129,
   "id": "4df1319a",
   "metadata": {},
   "outputs": [
    {
     "data": {
      "text/plain": [
       "array([6.2, 8.2, 1.8])"
      ]
     },
     "execution_count": 129,
     "metadata": {},
     "output_type": "execute_result"
    }
   ],
   "source": [
    "a.mean(axis=0)"
   ]
  },
  {
   "cell_type": "markdown",
   "id": "444dc1a7",
   "metadata": {},
   "source": [
    "Dalam contoh diatas, mean kolom pertama 6.2, kolom kedua 8.2, kolom ketiga 1.8"
   ]
  },
  {
   "cell_type": "markdown",
   "id": "474663ab",
   "metadata": {},
   "source": [
    "jika kita memberikan axis=1 pada mean(), kita akan menghasilkan hasil untuk setiap baris:"
   ]
  },
  {
   "cell_type": "code",
   "execution_count": 130,
   "id": "7d44b061",
   "metadata": {},
   "outputs": [
    {
     "data": {
      "text/plain": [
       "array([ 1.,  2.,  5., 13.,  6.])"
      ]
     },
     "execution_count": 130,
     "metadata": {},
     "output_type": "execute_result"
    }
   ],
   "source": [
    "np.mean(a, axis=1)"
   ]
  },
  {
   "cell_type": "code",
   "execution_count": 131,
   "id": "cdd743cb",
   "metadata": {},
   "outputs": [
    {
     "data": {
      "text/plain": [
       "array([ 1.,  2.,  5., 13.,  6.])"
      ]
     },
     "execution_count": 131,
     "metadata": {},
     "output_type": "execute_result"
    }
   ],
   "source": [
    "a.mean(axis=1)"
   ]
  },
  {
   "cell_type": "markdown",
   "id": "30cc8278",
   "metadata": {},
   "source": [
    "axis parameter bekerja dengan cara yang sama dengan fungsi dan metode NumPy"
   ]
  },
  {
   "cell_type": "code",
   "execution_count": 132,
   "id": "2c0f4619",
   "metadata": {},
   "outputs": [
    {
     "data": {
      "text/plain": [
       "array([4., 3., 1.])"
      ]
     },
     "execution_count": 132,
     "metadata": {},
     "output_type": "execute_result"
    }
   ],
   "source": [
    "np.median(a, axis=0)"
   ]
  },
  {
   "cell_type": "code",
   "execution_count": 133,
   "id": "4c826da3",
   "metadata": {},
   "outputs": [
    {
     "data": {
      "text/plain": [
       "array([1., 2., 4., 8., 1.])"
      ]
     },
     "execution_count": 133,
     "metadata": {},
     "output_type": "execute_result"
    }
   ],
   "source": [
    "np.median(a, axis=1)"
   ]
  },
  {
   "cell_type": "code",
   "execution_count": 134,
   "id": "e6dd1b17",
   "metadata": {},
   "outputs": [
    {
     "data": {
      "text/plain": [
       "array([ 37.2, 121.2,   1.7])"
      ]
     },
     "execution_count": 134,
     "metadata": {},
     "output_type": "execute_result"
    }
   ],
   "source": [
    "a.var(axis=0, ddof=1)"
   ]
  },
  {
   "cell_type": "code",
   "execution_count": 135,
   "id": "5cf0f1f2",
   "metadata": {},
   "outputs": [
    {
     "data": {
      "text/plain": [
       "array([  0.,   1.,  13., 151.,  75.])"
      ]
     },
     "execution_count": 135,
     "metadata": {},
     "output_type": "execute_result"
    }
   ],
   "source": [
    "a.var(axis=1, ddof=1)"
   ]
  },
  {
   "cell_type": "markdown",
   "id": "15a731a2",
   "metadata": {},
   "source": [
    "- axis = 0 kolom\n",
    "- axis = 1 baris"
   ]
  },
  {
   "cell_type": "markdown",
   "id": "ae462d6d",
   "metadata": {},
   "source": [
    "Sangat mirip saat kita bekerja dengan fungsi statistik SciPy. tetapi, dalam kasus ini, nilai default untuk axis adalah 0"
   ]
  },
  {
   "cell_type": "code",
   "execution_count": 136,
   "id": "b936710c",
   "metadata": {},
   "outputs": [
    {
     "data": {
      "text/plain": [
       "array([4.        , 3.73719282, 1.51571657])"
      ]
     },
     "execution_count": 136,
     "metadata": {},
     "output_type": "execute_result"
    }
   ],
   "source": [
    "scipy.stats.gmean(a) # default: axis=0"
   ]
  },
  {
   "cell_type": "code",
   "execution_count": 137,
   "id": "edfb4b55",
   "metadata": {},
   "outputs": [
    {
     "data": {
      "text/plain": [
       "array([4.        , 3.73719282, 1.51571657])"
      ]
     },
     "execution_count": 137,
     "metadata": {},
     "output_type": "execute_result"
    }
   ],
   "source": [
    "scipy.stats.gmean(a, axis=0)"
   ]
  },
  {
   "cell_type": "code",
   "execution_count": 138,
   "id": "03b45e10",
   "metadata": {},
   "outputs": [
    {
     "data": {
      "text/plain": [
       "array([1.        , 1.81712059, 4.16016765, 9.52440631, 2.5198421 ])"
      ]
     },
     "execution_count": 138,
     "metadata": {},
     "output_type": "execute_result"
    }
   ],
   "source": [
    "scipy.stats.gmean(a, axis=1)"
   ]
  },
  {
   "cell_type": "markdown",
   "id": "81056c71",
   "metadata": {},
   "source": [
    "Jika ingin statistik untuk seluruh dataset dengan axis=None"
   ]
  },
  {
   "cell_type": "code",
   "execution_count": 139,
   "id": "314a662f",
   "metadata": {},
   "outputs": [
    {
     "data": {
      "text/plain": [
       "2.829705017016332"
      ]
     },
     "execution_count": 139,
     "metadata": {},
     "output_type": "execute_result"
    }
   ],
   "source": [
    "scipy.stats.gmean(a, axis=None)"
   ]
  },
  {
   "cell_type": "markdown",
   "id": "285daef6",
   "metadata": {},
   "source": [
    "Mendapatkan statistics summary dengan satu panggilan fungsi untuk daata 2D dengan scipy.stats.describe()"
   ]
  },
  {
   "cell_type": "code",
   "execution_count": 140,
   "id": "4346b840",
   "metadata": {},
   "outputs": [
    {
     "data": {
      "text/plain": [
       "DescribeResult(nobs=15, minmax=(1, 27), mean=5.4, variance=53.40000000000001, skewness=2.264965290423389, kurtosis=5.212690982795767)"
      ]
     },
     "execution_count": 140,
     "metadata": {},
     "output_type": "execute_result"
    }
   ],
   "source": [
    "scipy.stats.describe(a, axis=None, ddof=1, bias=False) #summary disemua data"
   ]
  },
  {
   "cell_type": "code",
   "execution_count": 141,
   "id": "a9ba3693",
   "metadata": {},
   "outputs": [
    {
     "data": {
      "text/plain": [
       "DescribeResult(nobs=5, minmax=(array([1, 1, 1]), array([16, 27,  4])), mean=array([6.2, 8.2, 1.8]), variance=array([ 37.2, 121.2,   1.7]), skewness=array([1.32531471, 1.79809454, 1.71439233]), kurtosis=array([1.30376344, 3.14969121, 2.66435986]))"
      ]
     },
     "execution_count": 141,
     "metadata": {},
     "output_type": "execute_result"
    }
   ],
   "source": [
    "scipy.stats.describe(a, ddof=1, bias=False) # Default: axis =0. summary untuk setiap kolom"
   ]
  },
  {
   "cell_type": "code",
   "execution_count": 142,
   "id": "8135e34c",
   "metadata": {},
   "outputs": [
    {
     "data": {
      "text/plain": [
       "DescribeResult(nobs=3, minmax=(array([1, 1, 2, 4, 1]), array([ 1,  3,  9, 27, 16])), mean=array([ 1.,  2.,  5., 13.,  6.]), variance=array([  0.,   1.,  13., 151.,  75.]), skewness=array([0.        , 0.        , 1.15206964, 1.52787436, 1.73205081]), kurtosis=array([-3. , -1.5, -1.5, -1.5, -1.5]))"
      ]
     },
     "execution_count": 142,
     "metadata": {},
     "output_type": "execute_result"
    }
   ],
   "source": [
    "scipy.stats.describe(a, axis=1, ddof=1, bias=False) # mengembalikan summary semua baris"
   ]
  },
  {
   "cell_type": "markdown",
   "id": "590500b3",
   "metadata": {},
   "source": [
    "Kita bisa mendapatkan nilai tertentu dari ringkasan dengan dot notation"
   ]
  },
  {
   "cell_type": "code",
   "execution_count": 135,
   "id": "6eb3651e",
   "metadata": {},
   "outputs": [
    {
     "data": {
      "text/plain": [
       "array([ 1.,  2.,  5., 13.,  6.])"
      ]
     },
     "execution_count": 135,
     "metadata": {},
     "output_type": "execute_result"
    }
   ],
   "source": [
    "result = scipy.stats.describe(a, axis=1, ddof=1, bias=False)\n",
    "result.mean"
   ]
  },
  {
   "cell_type": "markdown",
   "id": "142b5904",
   "metadata": {},
   "source": [
    "## DataFrame"
   ]
  },
  {
   "cell_type": "code",
   "execution_count": 144,
   "id": "b0fcd853",
   "metadata": {},
   "outputs": [
    {
     "data": {
      "text/html": [
       "<div>\n",
       "<style scoped>\n",
       "    .dataframe tbody tr th:only-of-type {\n",
       "        vertical-align: middle;\n",
       "    }\n",
       "\n",
       "    .dataframe tbody tr th {\n",
       "        vertical-align: top;\n",
       "    }\n",
       "\n",
       "    .dataframe thead th {\n",
       "        text-align: right;\n",
       "    }\n",
       "</style>\n",
       "<table border=\"1\" class=\"dataframe\">\n",
       "  <thead>\n",
       "    <tr style=\"text-align: right;\">\n",
       "      <th></th>\n",
       "      <th>A</th>\n",
       "      <th>B</th>\n",
       "      <th>C</th>\n",
       "    </tr>\n",
       "  </thead>\n",
       "  <tbody>\n",
       "    <tr>\n",
       "      <th>first</th>\n",
       "      <td>1</td>\n",
       "      <td>1</td>\n",
       "      <td>1</td>\n",
       "    </tr>\n",
       "    <tr>\n",
       "      <th>second</th>\n",
       "      <td>2</td>\n",
       "      <td>3</td>\n",
       "      <td>1</td>\n",
       "    </tr>\n",
       "    <tr>\n",
       "      <th>thrid</th>\n",
       "      <td>4</td>\n",
       "      <td>9</td>\n",
       "      <td>2</td>\n",
       "    </tr>\n",
       "    <tr>\n",
       "      <th>foruth</th>\n",
       "      <td>8</td>\n",
       "      <td>27</td>\n",
       "      <td>4</td>\n",
       "    </tr>\n",
       "    <tr>\n",
       "      <th>fifth</th>\n",
       "      <td>16</td>\n",
       "      <td>1</td>\n",
       "      <td>1</td>\n",
       "    </tr>\n",
       "  </tbody>\n",
       "</table>\n",
       "</div>"
      ],
      "text/plain": [
       "         A   B  C\n",
       "first    1   1  1\n",
       "second   2   3  1\n",
       "thrid    4   9  2\n",
       "foruth   8  27  4\n",
       "fifth   16   1  1"
      ]
     },
     "execution_count": 144,
     "metadata": {},
     "output_type": "execute_result"
    }
   ],
   "source": [
    "row_names = ['first','second','thrid','foruth','fifth']\n",
    "col_names = ['A','B','C']\n",
    "df = pd.DataFrame(a, index=row_names, columns=col_names)\n",
    "df"
   ]
  },
  {
   "cell_type": "markdown",
   "id": "b3c4c87a",
   "metadata": {},
   "source": [
    "Jika ingin memanggil metode statictics python tanpa argumen, maka DataFrame akan mengembalikan hasil untuk setiap kolom"
   ]
  },
  {
   "cell_type": "code",
   "execution_count": 145,
   "id": "b5c04e52",
   "metadata": {},
   "outputs": [
    {
     "data": {
      "text/plain": [
       "A    6.2\n",
       "B    8.2\n",
       "C    1.8\n",
       "dtype: float64"
      ]
     },
     "execution_count": 145,
     "metadata": {},
     "output_type": "execute_result"
    }
   ],
   "source": [
    "df.mean()"
   ]
  },
  {
   "cell_type": "code",
   "execution_count": 146,
   "id": "c0c4706b",
   "metadata": {},
   "outputs": [
    {
     "data": {
      "text/plain": [
       "A     37.2\n",
       "B    121.2\n",
       "C      1.7\n",
       "dtype: float64"
      ]
     },
     "execution_count": 146,
     "metadata": {},
     "output_type": "execute_result"
    }
   ],
   "source": [
    "df.var()"
   ]
  },
  {
   "cell_type": "markdown",
   "id": "e3cbc258",
   "metadata": {},
   "source": [
    "Jika kita ingin hasil untuk setiap baris, maka tentukan parameter axis=1"
   ]
  },
  {
   "cell_type": "code",
   "execution_count": 147,
   "id": "5e63a19c",
   "metadata": {},
   "outputs": [
    {
     "data": {
      "text/plain": [
       "first      1.0\n",
       "second     2.0\n",
       "thrid      5.0\n",
       "foruth    13.0\n",
       "fifth      6.0\n",
       "dtype: float64"
      ]
     },
     "execution_count": 147,
     "metadata": {},
     "output_type": "execute_result"
    }
   ],
   "source": [
    "df.mean(axis=1)"
   ]
  },
  {
   "cell_type": "code",
   "execution_count": 148,
   "id": "094050c9",
   "metadata": {},
   "outputs": [
    {
     "data": {
      "text/plain": [
       "first       0.0\n",
       "second      1.0\n",
       "thrid      13.0\n",
       "foruth    151.0\n",
       "fifth      75.0\n",
       "dtype: float64"
      ]
     },
     "execution_count": 148,
     "metadata": {},
     "output_type": "execute_result"
    }
   ],
   "source": [
    "df.var(axis=1)"
   ]
  },
  {
   "cell_type": "markdown",
   "id": "97373d60",
   "metadata": {},
   "source": [
    "Kita dapat mengisolasi setiap kolom DataFrame"
   ]
  },
  {
   "cell_type": "code",
   "execution_count": 149,
   "id": "2853fd9d",
   "metadata": {},
   "outputs": [
    {
     "data": {
      "text/plain": [
       "first      1\n",
       "second     2\n",
       "thrid      4\n",
       "foruth     8\n",
       "fifth     16\n",
       "Name: A, dtype: int32"
      ]
     },
     "execution_count": 149,
     "metadata": {},
     "output_type": "execute_result"
    }
   ],
   "source": [
    "df['A']"
   ]
  },
  {
   "cell_type": "markdown",
   "id": "6872ad2b",
   "metadata": {},
   "source": [
    "sekarang, kita memiliki kolom 'A' dalam bentuk objek Series dan kita dapat menerapkan method yang sesuai"
   ]
  },
  {
   "cell_type": "code",
   "execution_count": 150,
   "id": "129ff76c",
   "metadata": {},
   "outputs": [
    {
     "data": {
      "text/plain": [
       "6.2"
      ]
     },
     "execution_count": 150,
     "metadata": {},
     "output_type": "execute_result"
    }
   ],
   "source": [
    "df['A'].mean()"
   ]
  },
  {
   "cell_type": "code",
   "execution_count": 151,
   "id": "c2a2f7c3",
   "metadata": {},
   "outputs": [
    {
     "data": {
      "text/plain": [
       "37.20000000000001"
      ]
     },
     "execution_count": 151,
     "metadata": {},
     "output_type": "execute_result"
    }
   ],
   "source": [
    "df['A'].var()"
   ]
  },
  {
   "cell_type": "markdown",
   "id": "78b1497a",
   "metadata": {},
   "source": [
    "Memungkinkan menggunakan dataframe sebagai array numpy dan menggunakanerapkan fungsi. dengan .values atau .to_numpy()"
   ]
  },
  {
   "cell_type": "code",
   "execution_count": 152,
   "id": "b1731cb5",
   "metadata": {},
   "outputs": [
    {
     "data": {
      "text/plain": [
       "array([[ 1,  1,  1],\n",
       "       [ 2,  3,  1],\n",
       "       [ 4,  9,  2],\n",
       "       [ 8, 27,  4],\n",
       "       [16,  1,  1]])"
      ]
     },
     "execution_count": 152,
     "metadata": {},
     "output_type": "execute_result"
    }
   ],
   "source": [
    "df.values"
   ]
  },
  {
   "cell_type": "code",
   "execution_count": 153,
   "id": "5a994062",
   "metadata": {},
   "outputs": [
    {
     "data": {
      "text/plain": [
       "array([[ 1,  1,  1],\n",
       "       [ 2,  3,  1],\n",
       "       [ 4,  9,  2],\n",
       "       [ 8, 27,  4],\n",
       "       [16,  1,  1]])"
      ]
     },
     "execution_count": 153,
     "metadata": {},
     "output_type": "execute_result"
    }
   ],
   "source": [
    "df.to_numpy()"
   ]
  },
  {
   "cell_type": "markdown",
   "id": "2b0af36d",
   "metadata": {},
   "source": [
    "df.values dan df.to_numpy() memberikan kita array NumPy dengan semua item dari DataFrame tanpa label baris dan kolom"
   ]
  },
  {
   "cell_type": "markdown",
   "id": "ae0c7219",
   "metadata": {},
   "source": [
    "Objek dataframe memiliki metode .describe() yang mengembalikan DataFrame lain dengan statistics summary untuk semua kolom"
   ]
  },
  {
   "cell_type": "code",
   "execution_count": 154,
   "id": "6555fa81",
   "metadata": {},
   "outputs": [
    {
     "data": {
      "text/html": [
       "<div>\n",
       "<style scoped>\n",
       "    .dataframe tbody tr th:only-of-type {\n",
       "        vertical-align: middle;\n",
       "    }\n",
       "\n",
       "    .dataframe tbody tr th {\n",
       "        vertical-align: top;\n",
       "    }\n",
       "\n",
       "    .dataframe thead th {\n",
       "        text-align: right;\n",
       "    }\n",
       "</style>\n",
       "<table border=\"1\" class=\"dataframe\">\n",
       "  <thead>\n",
       "    <tr style=\"text-align: right;\">\n",
       "      <th></th>\n",
       "      <th>A</th>\n",
       "      <th>B</th>\n",
       "      <th>C</th>\n",
       "    </tr>\n",
       "  </thead>\n",
       "  <tbody>\n",
       "    <tr>\n",
       "      <th>count</th>\n",
       "      <td>5.00000</td>\n",
       "      <td>5.000000</td>\n",
       "      <td>5.00000</td>\n",
       "    </tr>\n",
       "    <tr>\n",
       "      <th>mean</th>\n",
       "      <td>6.20000</td>\n",
       "      <td>8.200000</td>\n",
       "      <td>1.80000</td>\n",
       "    </tr>\n",
       "    <tr>\n",
       "      <th>std</th>\n",
       "      <td>6.09918</td>\n",
       "      <td>11.009087</td>\n",
       "      <td>1.30384</td>\n",
       "    </tr>\n",
       "    <tr>\n",
       "      <th>min</th>\n",
       "      <td>1.00000</td>\n",
       "      <td>1.000000</td>\n",
       "      <td>1.00000</td>\n",
       "    </tr>\n",
       "    <tr>\n",
       "      <th>25%</th>\n",
       "      <td>2.00000</td>\n",
       "      <td>1.000000</td>\n",
       "      <td>1.00000</td>\n",
       "    </tr>\n",
       "    <tr>\n",
       "      <th>50%</th>\n",
       "      <td>4.00000</td>\n",
       "      <td>3.000000</td>\n",
       "      <td>1.00000</td>\n",
       "    </tr>\n",
       "    <tr>\n",
       "      <th>75%</th>\n",
       "      <td>8.00000</td>\n",
       "      <td>9.000000</td>\n",
       "      <td>2.00000</td>\n",
       "    </tr>\n",
       "    <tr>\n",
       "      <th>max</th>\n",
       "      <td>16.00000</td>\n",
       "      <td>27.000000</td>\n",
       "      <td>4.00000</td>\n",
       "    </tr>\n",
       "  </tbody>\n",
       "</table>\n",
       "</div>"
      ],
      "text/plain": [
       "              A          B        C\n",
       "count   5.00000   5.000000  5.00000\n",
       "mean    6.20000   8.200000  1.80000\n",
       "std     6.09918  11.009087  1.30384\n",
       "min     1.00000   1.000000  1.00000\n",
       "25%     2.00000   1.000000  1.00000\n",
       "50%     4.00000   3.000000  1.00000\n",
       "75%     8.00000   9.000000  2.00000\n",
       "max    16.00000  27.000000  4.00000"
      ]
     },
     "execution_count": 154,
     "metadata": {},
     "output_type": "execute_result"
    }
   ],
   "source": [
    "df.describe()"
   ]
  },
  {
   "cell_type": "markdown",
   "id": "deb0e544",
   "metadata": {},
   "source": [
    "Jika ingin objek df yang dihasilkan berisi persentil lain, kita harus menentukan nilai parameter opsional percentiles"
   ]
  },
  {
   "cell_type": "markdown",
   "id": "04870eb8",
   "metadata": {},
   "source": [
    "kita dapat mengakses setiap item summary seperti ini"
   ]
  },
  {
   "cell_type": "code",
   "execution_count": 155,
   "id": "a3212e0e",
   "metadata": {},
   "outputs": [
    {
     "data": {
      "text/plain": [
       "6.2"
      ]
     },
     "execution_count": 155,
     "metadata": {},
     "output_type": "execute_result"
    }
   ],
   "source": [
    "df.describe().at['mean','A']"
   ]
  },
  {
   "cell_type": "code",
   "execution_count": 156,
   "id": "c17f98de",
   "metadata": {},
   "outputs": [
    {
     "data": {
      "text/plain": [
       "3.0"
      ]
     },
     "execution_count": 156,
     "metadata": {},
     "output_type": "execute_result"
    }
   ],
   "source": [
    "    df.describe().at['50%','B']"
   ]
  },
  {
   "cell_type": "markdown",
   "id": "7062b2bf",
   "metadata": {},
   "source": [
    "# Visualizing Data (Optional)"
   ]
  },
  {
   "cell_type": "code",
   "execution_count": 151,
   "id": "4345fc98",
   "metadata": {},
   "outputs": [],
   "source": [
    "import matplotlib.pyplot as plt\n",
    "plt.style.use('ggplot')"
   ]
  },
  {
   "cell_type": "markdown",
   "id": "3cb23a9b",
   "metadata": {},
   "source": [
    "you'll use pseudo-random numbers to get data to work with. You dont need knowledge on random numbers to be able to understand this section. You just need some arbitrary numbers, and pseudo-random generators are a convenient tool to get them. the module np.random generates arrays of pseudo-random numbers:\n",
    "1. normally distributes number are generated with np.random.randn()\n",
    "2. uniformaly distributed integers are generated with np.random.randint()"
   ]
  },
  {
   "cell_type": "markdown",
   "id": "60f2ffe9",
   "metadata": {},
   "source": [
    "## Box Plots"
   ]
  },
  {
   "cell_type": "markdown",
   "id": "96f7f9cc",
   "metadata": {},
   "source": [
    "box plot adalah pilihan yang bagus untuk memvisualisasikan statistik deskriptif dr dataset"
   ]
  },
  {
   "cell_type": "code",
   "execution_count": 167,
   "id": "a851bd31",
   "metadata": {},
   "outputs": [],
   "source": [
    "np.random.seed(seed=0)\n",
    "x=np.random.randn(1000)\n",
    "y=np.random.randn(100)\n",
    "z=np.random.randn(10)"
   ]
  },
  {
   "cell_type": "markdown",
   "id": "118c280a",
   "metadata": {},
   "source": [
    "statement seed() sehingga Anda bisa mendapatkan hasil yang sama setiap kali Anda menjalankan kode. Anda tidak perlu mengatur seed, tetapi jika Anda tidak menentukan nilai ini, maka Anda akan mendapatkan hasil yang berbeda setiap kali "
   ]
  },
  {
   "cell_type": "code",
   "execution_count": 168,
   "id": "f71386f9",
   "metadata": {},
   "outputs": [
    {
     "data": {
      "image/png": "[encoded data removed]",
      "text/plain": [
       "<Figure size 432x288 with 1 Axes>"
      ]
     },
     "metadata": {
      "needs_background": "light"
     },
     "output_type": "display_data"
    }
   ],
   "source": [
    "fig, ax = plt.subplots()\n",
    "\n",
    "ax.boxplot((x, y, z), vert=False,  # sets the plot orientation to horizontal when False. default vertical\n",
    "           showmeans=True, #shows the mean of your data when True\n",
    "           meanline=True, # represents the mean as a line when True.\n",
    "           labels=('x', 'y', 'z'), \n",
    "           patch_artist=True, # determines how to draw the graph\n",
    "           medianprops={'linewidth': 2, 'color': 'purple'}, # denotes the properties of the line representing the median\n",
    "           meanprops={'linewidth': 2, 'color': 'red'}) # indicates the properties of the line or dot representing the mean\n",
    "\n",
    "plt.show()"
   ]
  },
  {
   "cell_type": "markdown",
   "id": "50630fa5",
   "metadata": {},
   "source": [
    "you can see three box plots.\n",
    "1. The mean : red dashed line\n",
    "2. the median : purple line\n",
    "3. The first quartile : left edge of the blue rectangle\n",
    "4. the thrid quartile : right edge of the blue rectangle\n",
    "5. the interquartile range : length of the blue rectangle\n",
    "6. the range : containes everything from left to right\n",
    "7. the outliers : are the dots to the left and right"
   ]
  },
  {
   "cell_type": "markdown",
   "id": "e5cef039",
   "metadata": {},
   "source": [
    "## Histogram"
   ]
  },
  {
   "cell_type": "code",
   "execution_count": 169,
   "id": "7ebf4edf",
   "metadata": {},
   "outputs": [],
   "source": [
    "import matplotlib.pyplot as plt"
   ]
  },
  {
   "cell_type": "code",
   "execution_count": 170,
   "id": "0693603d",
   "metadata": {},
   "outputs": [
    {
     "data": {
      "text/plain": [
       "array([  9,  20,  70, 146, 217, 239, 160,  86,  38,  15], dtype=int64)"
      ]
     },
     "execution_count": 170,
     "metadata": {},
     "output_type": "execute_result"
    }
   ],
   "source": [
    "hist, bin_edges = np.histogram(x, bins=10)\n",
    "hist"
   ]
  },
  {
   "cell_type": "code",
   "execution_count": 171,
   "id": "3156b1c2",
   "metadata": {},
   "outputs": [
    {
     "data": {
      "text/plain": [
       "array([-3.04614305, -2.46559324, -1.88504342, -1.3044936 , -0.72394379,\n",
       "       -0.14339397,  0.43715585,  1.01770566,  1.59825548,  2.1788053 ,\n",
       "        2.75935511])"
      ]
     },
     "execution_count": 171,
     "metadata": {},
     "output_type": "execute_result"
    }
   ],
   "source": [
    "bin_edges"
   ]
  },
  {
   "cell_type": "code",
   "execution_count": 172,
   "id": "b1952a47",
   "metadata": {},
   "outputs": [
    {
     "data": {
      "image/png": "[encoded data removed]",
      "text/plain": [
       "<Figure size 432x288 with 1 Axes>"
      ]
     },
     "metadata": {
      "needs_background": "light"
     },
     "output_type": "display_data"
    }
   ],
   "source": [
    "fig, ax= plt.subplots()\n",
    "ax.hist(x, bin_edges, cumulative=False)\n",
    "ax.set_xlabel('x')\n",
    "ax.set_ylabel('Frequency')\n",
    "plt.show()"
   ]
  },
  {
   "cell_type": "code",
   "execution_count": 173,
   "id": "e5db2e90",
   "metadata": {},
   "outputs": [
    {
     "data": {
      "image/png": "[encoded data removed]",
      "text/plain": [
       "<Figure size 432x288 with 1 Axes>"
      ]
     },
     "metadata": {
      "needs_background": "light"
     },
     "output_type": "display_data"
    }
   ],
   "source": [
    "fig, ax= plt.subplots()\n",
    "ax.hist(x, bin_edges, cumulative=True)\n",
    "ax.set_xlabel('x')\n",
    "ax.set_ylabel('Frequency')\n",
    "plt.show()"
   ]
  },
  {
   "cell_type": "markdown",
   "id": "b5876126",
   "metadata": {},
   "source": [
    "# Pie Charts"
   ]
  },
  {
   "cell_type": "code",
   "execution_count": 174,
   "id": "bf3318eb",
   "metadata": {},
   "outputs": [],
   "source": [
    "x, y, z = 128, 256, 1024"
   ]
  },
  {
   "cell_type": "code",
   "execution_count": 175,
   "id": "ac3560ab",
   "metadata": {},
   "outputs": [
    {
     "data": {
      "image/png": "[encoded data removed]",
      "text/plain": [
       "<Figure size 432x288 with 1 Axes>"
      ]
     },
     "metadata": {},
     "output_type": "display_data"
    }
   ],
   "source": [
    "fig, ax = plt.subplots()\n",
    "ax.pie((x, y, z), labels=('x','y','z'), autopct='%1.1f%%')\n",
    "plt.show()"
   ]
  },
  {
   "cell_type": "code",
   "execution_count": null,
   "id": "258f0cf9",
   "metadata": {},
   "outputs": [],
   "source": []
  }
 ],
 "metadata": {
  "kernelspec": {
   "display_name": "Python 3 (ipykernel)",
   "language": "python",
   "name": "python3"
  },
  "language_info": {
   "codemirror_mode": {
    "name": "ipython",
    "version": 3
   },
   "file_extension": ".py",
   "mimetype": "text/x-python",
   "name": "python",
   "nbconvert_exporter": "python",
   "pygments_lexer": "ipython3",
   "version": "3.8.7"
  },
  "toc": {
   "base_numbering": 1,
   "nav_menu": {},
   "number_sections": true,
   "sideBar": true,
   "skip_h1_title": false,
   "title_cell": "Table of Contents",
   "title_sidebar": "Contents",
   "toc_cell": true,
   "toc_position": {},
   "toc_section_display": true,
   "toc_window_display": false
  }
 },
 "nbformat": 4,
 "nbformat_minor": 5
}
