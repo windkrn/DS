{
 "cells": [
  {
   "cell_type": "code",
   "execution_count": 2,
   "id": "c59c57b1",
   "metadata": {},
   "outputs": [
    {
     "name": "stdout",
     "output_type": "stream",
     "text": [
      "Perhitungan  2 dimensi\n",
      "1. segiempat\n",
      "2. segitiga\n",
      "3. persegi\n",
      "4. lingkaran\n",
      "masukan pilihan anda : 1\n",
      "nilai panjang :2\n",
      "nilai lebar :2\n",
      "keliling_segiempat   :  8\n",
      "luas segi empat      :  4\n",
      "Apa anda ingin mengulang ? (Y/T) : e\n",
      "Program selesai\n"
     ]
    }
   ],
   "source": [
    "import bentuk2d\n",
    "\n",
    "print(\"Perhitungan  2 dimensi\")\n",
    "print(\"1. segiempat\")\n",
    "print(\"2. segitiga\")\n",
    "print(\"3. persegi\")\n",
    "print(\"4. lingkaran\")\n",
    "\n",
    "ulang = \"Y\"\n",
    "\n",
    "while ulang==\"Y\" or ulang ==\"y\":\n",
    "    pil = int(input(\"masukan pilihan anda : \"))\n",
    "\n",
    "    if pil == 1 :\n",
    "        p = input(\"nilai panjang :\")\n",
    "        l = input(\"nilai lebar :\")\n",
    "        bentuk2d.segiempat(p,l)\n",
    "\n",
    "    elif pil == 2:\n",
    "        a   = input(\"nilai alas    :\")\n",
    "        t = input(\"nilai tinggi  :\")\n",
    "        bentuk2d.segitiga(a,t)\n",
    "\n",
    "    elif pil ==3 :\n",
    "        s = input(\"nilai sisi :\")\n",
    "        bentuk2d.persegi(s)\n",
    "\n",
    "    elif pil == 4 :\n",
    "        r = input(\"nilai jari-jari :\")\n",
    "        bentuk2d.lingkaran(r)\n",
    "        \n",
    "    else:\n",
    "        print(\"belum ada\")\n",
    "\n",
    "    ulang= input(\"Apa anda ingin mengulang ? (Y/T) : \")\n",
    "\n",
    "else :\n",
    "    print(\"Program selesai\")\n",
    "\n"
   ]
  },
  {
   "cell_type": "code",
   "execution_count": null,
   "id": "e6358d7f",
   "metadata": {},
   "outputs": [],
   "source": []
  }
 ],
 "metadata": {
  "kernelspec": {
   "display_name": "Python 3 (ipykernel)",
   "language": "python",
   "name": "python3"
  },
  "language_info": {
   "codemirror_mode": {
    "name": "ipython",
    "version": 3
   },
   "file_extension": ".py",
   "mimetype": "text/x-python",
   "name": "python",
   "nbconvert_exporter": "python",
   "pygments_lexer": "ipython3",
   "version": "3.8.7"
  }
 },
 "nbformat": 4,
 "nbformat_minor": 5
}
