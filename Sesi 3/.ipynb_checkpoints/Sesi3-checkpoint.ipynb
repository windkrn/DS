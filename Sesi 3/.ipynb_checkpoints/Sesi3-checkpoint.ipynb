{
 "cells": [
  {
   "cell_type": "markdown",
   "id": "9190b385",
   "metadata": {
    "toc": true
   },
   "source": [
    "<h1>Sesi 3<span class=\"tocSkip\"></span></h1>\n",
    "<div class=\"toc\"><ul class=\"toc-item\"><li><span><a href=\"#Python-Function\" data-toc-modified-id=\"Python-Function-1\"><span class=\"toc-item-num\">1&nbsp;&nbsp;</span>Python Function</a></span></li><li><span><a href=\"#Defining-function\" data-toc-modified-id=\"Defining-function-2\"><span class=\"toc-item-num\">2&nbsp;&nbsp;</span>Defining function</a></span></li><li><span><a href=\"#Calling-a-Function\" data-toc-modified-id=\"Calling-a-Function-3\"><span class=\"toc-item-num\">3&nbsp;&nbsp;</span>Calling a Function</a></span></li><li><span><a href=\"#Pass-by-reference-vs-value\" data-toc-modified-id=\"Pass-by-reference-vs-value-4\"><span class=\"toc-item-num\">4&nbsp;&nbsp;</span>Pass by reference vs value</a></span></li><li><span><a href=\"#Function-Arguments\" data-toc-modified-id=\"Function-Arguments-5\"><span class=\"toc-item-num\">5&nbsp;&nbsp;</span>Function Arguments</a></span></li><li><span><a href=\"#1.-Required-arguments\" data-toc-modified-id=\"1.-Required-arguments-6\"><span class=\"toc-item-num\">6&nbsp;&nbsp;</span>1. Required arguments</a></span></li><li><span><a href=\"#2.-Keyword-Arguments\" data-toc-modified-id=\"2.-Keyword-Arguments-7\"><span class=\"toc-item-num\">7&nbsp;&nbsp;</span>2. Keyword Arguments</a></span></li><li><span><a href=\"#3.-Default-arguments\" data-toc-modified-id=\"3.-Default-arguments-8\"><span class=\"toc-item-num\">8&nbsp;&nbsp;</span>3. Default arguments</a></span></li><li><span><a href=\"#4.-Variable-length-arguments\" data-toc-modified-id=\"4.-Variable-length-arguments-9\"><span class=\"toc-item-num\">9&nbsp;&nbsp;</span>4. Variable-length arguments</a></span></li><li><span><a href=\"#The-Anonymous-Functions\" data-toc-modified-id=\"The-Anonymous-Functions-10\"><span class=\"toc-item-num\">10&nbsp;&nbsp;</span>The Anonymous Functions</a></span></li><li><span><a href=\"#The-return-Statement\" data-toc-modified-id=\"The-return-Statement-11\"><span class=\"toc-item-num\">11&nbsp;&nbsp;</span>The return Statement</a></span></li><li><span><a href=\"#Scope-of-Variables\" data-toc-modified-id=\"Scope-of-Variables-12\"><span class=\"toc-item-num\">12&nbsp;&nbsp;</span>Scope of Variables</a></span></li><li><span><a href=\"#Global-vs.-Local-variables\" data-toc-modified-id=\"Global-vs.-Local-variables-13\"><span class=\"toc-item-num\">13&nbsp;&nbsp;</span>Global vs. Local variables</a></span></li><li><span><a href=\"#Python-Modul-:-Overview\" data-toc-modified-id=\"Python-Modul-:-Overview-14\"><span class=\"toc-item-num\">14&nbsp;&nbsp;</span>Python Modul : Overview</a></span></li><li><span><a href=\"#The-Module-Search-Path\" data-toc-modified-id=\"The-Module-Search-Path-15\"><span class=\"toc-item-num\">15&nbsp;&nbsp;</span>The Module Search Path</a></span></li><li><span><a href=\"#The-Import-statement\" data-toc-modified-id=\"The-Import-statement-16\"><span class=\"toc-item-num\">16&nbsp;&nbsp;</span>The Import statement</a></span></li><li><span><a href=\"#The-fir()-function\" data-toc-modified-id=\"The-fir()-function-17\"><span class=\"toc-item-num\">17&nbsp;&nbsp;</span>The fir() function</a></span></li><li><span><a href=\"#Executing-a-Module-as-a-Script\" data-toc-modified-id=\"Executing-a-Module-as-a-Script-18\"><span class=\"toc-item-num\">18&nbsp;&nbsp;</span>Executing a Module as a Script</a></span></li><li><span><a href=\"#Reloading-a-Module\" data-toc-modified-id=\"Reloading-a-Module-19\"><span class=\"toc-item-num\">19&nbsp;&nbsp;</span>Reloading a Module</a></span></li><li><span><a href=\"#Python-Packages\" data-toc-modified-id=\"Python-Packages-20\"><span class=\"toc-item-num\">20&nbsp;&nbsp;</span>Python Packages</a></span></li><li><span><a href=\"#PIP\" data-toc-modified-id=\"PIP-21\"><span class=\"toc-item-num\">21&nbsp;&nbsp;</span>PIP</a></span></li></ul></div>"
   ]
  },
  {
   "cell_type": "markdown",
   "id": "f603aee8",
   "metadata": {},
   "source": [
    "# Python Function"
   ]
  },
  {
   "cell_type": "markdown",
   "id": "482edebd",
   "metadata": {},
   "source": [
    "Function adalah blok kode yang terorganisir dan dapat gunakan kembali, yang digunakan untuk melakukan satu tindakan terkait. Kita dapat membuat function sendiri yang disebut user-defiend function"
   ]
  },
  {
   "cell_type": "markdown",
   "id": "35eba866",
   "metadata": {},
   "source": [
    "# Defining function"
   ]
  },
  {
   "cell_type": "code",
   "execution_count": 5,
   "id": "27fceb22",
   "metadata": {},
   "outputs": [],
   "source": [
    "def function_name(parameters):\n",
    "    \"docstring\"\n",
    "    statement(s)"
   ]
  },
  {
   "cell_type": "markdown",
   "id": "4dcb5e7b",
   "metadata": {},
   "source": [
    "Function blocks dimulai dengan keyword def diikuti dengan nama fungsi dan tanda kurung(). \n",
    "\n",
    "Parameter atau argumen masukan apapun harus ditempatkan didalam kurung.\n",
    "\n",
    "Statement awal dari suatu fungsi dapat berupa optional statement - dokumentasi dari fungsi atau docstring.\n",
    "\n",
    "Blok kode dalam setiap function dimulai dengan titk dua (:) dan diebri identasi."
   ]
  },
  {
   "cell_type": "code",
   "execution_count": 1,
   "id": "d580abe3",
   "metadata": {},
   "outputs": [
    {
     "name": "stdout",
     "output_type": "stream",
     "text": [
      "8\n"
     ]
    }
   ],
   "source": [
    "def my_function(p, l):\n",
    "    \"Function untuk mengitung luas\"\n",
    "    print(p * l)\n",
    "\n",
    "my_function(2,4)"
   ]
  },
  {
   "cell_type": "markdown",
   "id": "06aa0670",
   "metadata": {},
   "source": [
    "# Calling a Function"
   ]
  },
  {
   "cell_type": "markdown",
   "id": "43f64cdf",
   "metadata": {},
   "source": [
    "Contoh pemanggilan fungsi printme():"
   ]
  },
  {
   "cell_type": "code",
   "execution_count": 2,
   "id": "d6962673",
   "metadata": {},
   "outputs": [
    {
     "name": "stdout",
     "output_type": "stream",
     "text": [
      "I'm first call to user defined function!\n",
      "Again second call to the same function\n",
      "Namaku Herwinda Kurniadewi\n"
     ]
    }
   ],
   "source": [
    "# Function definition is here\n",
    "def printme( str ):\n",
    "   \"This prints a passed string into this function\"\n",
    "   print(str)\n",
    "   return;\n",
    "\n",
    "# Now you can call printme function\n",
    "printme(\"I'm first call to user defined function!\")\n",
    "printme(\"Again second call to the same function\")\n",
    "printme(\"Namaku Herwinda Kurniadewi\")"
   ]
  },
  {
   "cell_type": "markdown",
   "id": "224429d2",
   "metadata": {},
   "source": [
    "# Pass by reference vs value"
   ]
  },
  {
   "cell_type": "markdown",
   "id": "4d6e7409",
   "metadata": {},
   "source": [
    "Semua parameter (arguments) dalam python di passed by refrence. Artinya jika kalian mengubah apa yang dirujuk oleh parameter dalam suaru fungsi, perubahan tersebut juga kembali ke fungsi pemanggil."
   ]
  },
  {
   "cell_type": "code",
   "execution_count": 6,
   "id": "71ab20f3",
   "metadata": {},
   "outputs": [
    {
     "name": "stdout",
     "output_type": "stream",
     "text": [
      "Values inside the function :  [10, 20, 30, [1, 2, 3, 4]]\n",
      "Values outside the function:  [10, 20, 30, [1, 2, 3, 4]]\n"
     ]
    }
   ],
   "source": [
    "# Function definition is here\n",
    "def changeme( mylist ):\n",
    "   \"This changes a passed list into this function\"\n",
    "   mylist.append([1,2,3,4]); # This would assig new reference in mylist\n",
    "   print(\"Values inside the function : \", mylist)\n",
    "   return\n",
    "\n",
    "# Now you can call changeme function\n",
    "mylist = [10,20,30];\n",
    "changeme( mylist );\n",
    "print(\"Values outside the function: \", mylist)"
   ]
  },
  {
   "cell_type": "markdown",
   "id": "7042374e",
   "metadata": {},
   "source": [
    "Ada satu contoh lagi dimana argumen diteruskan oleh refrence dan refrence kemudian dioverwrrite dalam fungsi yang dipanggil"
   ]
  },
  {
   "cell_type": "code",
   "execution_count": 7,
   "id": "65ee1219",
   "metadata": {},
   "outputs": [
    {
     "name": "stdout",
     "output_type": "stream",
     "text": [
      "Values inside the function :  [1, 2, 3, 4]\n",
      "Values outside the function:  [10, 20, 30]\n"
     ]
    }
   ],
   "source": [
    "# Function definition is here\n",
    "def changeme( mylist ):\n",
    "   \"This changes a passed list into this function\"\n",
    "   mylist=[1,2,3,4]; # This would assig new reference in mylist\n",
    "   print(\"Values inside the function : \", mylist)\n",
    "   return\n",
    "\n",
    "# Now you can call changeme function\n",
    "mylist = [10,20,30];\n",
    "changeme( mylist );\n",
    "print(\"Values outside the function: \", mylist)"
   ]
  },
  {
   "cell_type": "markdown",
   "id": "8411cf65",
   "metadata": {},
   "source": [
    "# Function Arguments"
   ]
  },
  {
   "cell_type": "markdown",
   "id": "4524f34c",
   "metadata": {},
   "source": [
    "Kalian bisa memanggil suatu fungsi dengan menggunakan tipe argumen beirkut:\n",
    "1. required arguments\n",
    "2. keyword arguments\n",
    "3. default arguments\n",
    "4. variabel-length arguments"
   ]
  },
  {
   "cell_type": "markdown",
   "id": "4510b058",
   "metadata": {},
   "source": [
    "# 1. Required arguments"
   ]
  },
  {
   "cell_type": "markdown",
   "id": "b47f1c90",
   "metadata": {},
   "source": [
    "Required arguments adalah argumen yang diteruskan kesutau fungsi dalam urutan posisi yang beanr. Disini, jumlah argumen dalam pemanggilan fungsi harus sama percis dengan function definition. "
   ]
  },
  {
   "cell_type": "markdown",
   "id": "0b5832b2",
   "metadata": {},
   "source": [
    "Untuk memanggil fungsi printme(), kalian pasti perlu memberikan stau argumen, jika tidak maka akan terjadi eror"
   ]
  },
  {
   "cell_type": "code",
   "execution_count": 6,
   "id": "a13df551",
   "metadata": {},
   "outputs": [
    {
     "ename": "TypeError",
     "evalue": "printme() missing 1 required positional argument: 'str'",
     "output_type": "error",
     "traceback": [
      "\u001b[1;31m---------------------------------------------------------------------------\u001b[0m",
      "\u001b[1;31mTypeError\u001b[0m                                 Traceback (most recent call last)",
      "\u001b[1;32m~\\AppData\\Local\\Temp/ipykernel_9864/3595660939.py\u001b[0m in \u001b[0;36m<module>\u001b[1;34m\u001b[0m\n\u001b[0;32m      6\u001b[0m \u001b[1;33m\u001b[0m\u001b[0m\n\u001b[0;32m      7\u001b[0m \u001b[1;31m# Now you can call printme function\u001b[0m\u001b[1;33m\u001b[0m\u001b[1;33m\u001b[0m\u001b[1;33m\u001b[0m\u001b[0m\n\u001b[1;32m----> 8\u001b[1;33m \u001b[0mprintme\u001b[0m\u001b[1;33m(\u001b[0m\u001b[1;33m)\u001b[0m\u001b[1;33m\u001b[0m\u001b[1;33m\u001b[0m\u001b[0m\n\u001b[0m",
      "\u001b[1;31mTypeError\u001b[0m: printme() missing 1 required positional argument: 'str'"
     ]
    }
   ],
   "source": [
    "# Function definition is here\n",
    "def printme(str):\n",
    "   \"This prints a passed string into this function\"\n",
    "   print(str)\n",
    "   return;\n",
    "\n",
    "# Now you can call printme function\n",
    "printme()"
   ]
  },
  {
   "cell_type": "markdown",
   "id": "febac89d",
   "metadata": {},
   "source": [
    "# 2. Keyword Arguments"
   ]
  },
  {
   "cell_type": "markdown",
   "id": "c8b6a089",
   "metadata": {},
   "source": [
    "Keyword arguments berkaitan dengan pemanggilan fungsi. Saat menggunakan keyword arguments dalam memanggil fungsi, pemanggil mengidentifikasi argumen dengan nama parameter."
   ]
  },
  {
   "cell_type": "markdown",
   "id": "2481e0af",
   "metadata": {},
   "source": [
    "interpretes Python dapat menggunakan kata kunci yang disediakan untuk mencocokan nilai dengan parameter"
   ]
  },
  {
   "cell_type": "code",
   "execution_count": 9,
   "id": "d258a10c",
   "metadata": {},
   "outputs": [
    {
     "name": "stdout",
     "output_type": "stream",
     "text": [
      "Hacktiv8\n"
     ]
    }
   ],
   "source": [
    "# Function definition is here\n",
    "def printme( str ):\n",
    "   \"This prints a passed string into this function\"\n",
    "   print(str)\n",
    "   return;\n",
    "\n",
    "# Now you can call printme function\n",
    "printme(str = \"Hacktiv8\")"
   ]
  },
  {
   "cell_type": "markdown",
   "id": "ba6c2487",
   "metadata": {},
   "source": [
    "Perhatikan bahwa urutan parameter tidak menjadi masalah :"
   ]
  },
  {
   "cell_type": "code",
   "execution_count": 10,
   "id": "2c7329e3",
   "metadata": {},
   "outputs": [
    {
     "name": "stdout",
     "output_type": "stream",
     "text": [
      "Name :  a\n",
      "Age  :  4\n"
     ]
    }
   ],
   "source": [
    "# Function definition is here\n",
    "def printinfo( name, age ):\n",
    "   \"This prints a passed info into this function\"\n",
    "   print(\"Name : \", name)\n",
    "   print(\"Age  : \", age)\n",
    "   return;\n",
    "\n",
    "# Now you can call printinfo function\n",
    "printinfo( age=4, name=\"a\" )"
   ]
  },
  {
   "cell_type": "markdown",
   "id": "0f2fe21d",
   "metadata": {},
   "source": [
    "# 3. Default arguments"
   ]
  },
  {
   "cell_type": "markdown",
   "id": "20c6d3eb",
   "metadata": {},
   "source": [
    "Default argument adalah argumen yang mengassusmsikan nilai default jika nilai tidak disediakan dalam pemanggilan fungsi tersebut"
   ]
  },
  {
   "cell_type": "code",
   "execution_count": 11,
   "id": "d4fcaffe",
   "metadata": {},
   "outputs": [
    {
     "name": "stdout",
     "output_type": "stream",
     "text": [
      "Name :  hacktiv8\n",
      "Age  :  50\n",
      "Name :  hacktiv\n",
      "Age  :  26\n"
     ]
    }
   ],
   "source": [
    "# Function definition is here\n",
    "def printinfo( name, age = 26 ):\n",
    "   \"This prints a passed info into this function\"\n",
    "   print(\"Name : \", name)\n",
    "   print(\"Age  : \", age)\n",
    "   return;\n",
    "\n",
    "# Now you can call printinfo function\n",
    "printinfo( age=50, name=\"hacktiv8\" )\n",
    "printinfo( name=\"hacktiv\" )"
   ]
  },
  {
   "cell_type": "markdown",
   "id": "81adfdc9",
   "metadata": {},
   "source": [
    "# 4. Variable-length arguments"
   ]
  },
  {
   "cell_type": "markdown",
   "id": "017a5e25",
   "metadata": {},
   "source": [
    "Memungkinkan memproses suatu fungsi untuk menerima lebih banyak argumen dari pada yang kalian tentukan saat mendifinisikan fungsi. Argumen ini disebut variable length arguments dan tidak diberi nama ketika definisi fungsi."
   ]
  },
  {
   "cell_type": "markdown",
   "id": "f1b4944d",
   "metadata": {},
   "source": [
    "def functionname([formal_args,]*vars_args_tuple):\n",
    "\n",
    "    \"function_docstring\"\n",
    "    \n",
    "    function_suite\n",
    "    \n",
    "    return[expression]"
   ]
  },
  {
   "cell_type": "markdown",
   "id": "a4425f5e",
   "metadata": {},
   "source": [
    "Tanda bintang ditempatkan sebelum nama variabel yang menyimpan nilai dari semua nonkeyword variable arguments"
   ]
  },
  {
   "cell_type": "code",
   "execution_count": 12,
   "id": "65a2d2a5",
   "metadata": {},
   "outputs": [
    {
     "name": "stdout",
     "output_type": "stream",
     "text": [
      "Output is: \n",
      "10\n",
      "Output is: \n",
      "70\n",
      "60\n",
      "50\n",
      "a\n"
     ]
    }
   ],
   "source": [
    "# Function definition is here\n",
    "def printinfo( arg1, *vartuple ):\n",
    "   \"This prints a variable passed arguments\"\n",
    "   print(\"Output is: \")\n",
    "   print(arg1)\n",
    "   for var in vartuple:\n",
    "      print(var)\n",
    "   return;\n",
    "\n",
    "# Now you can call printinfo function\n",
    "printinfo( 10 )\n",
    "printinfo( 70, 60, 50, \"a\" )"
   ]
  },
  {
   "cell_type": "markdown",
   "id": "03f324ac",
   "metadata": {},
   "source": [
    "# The Anonymous Functions"
   ]
  },
  {
   "cell_type": "markdown",
   "id": "3b7935ef",
   "metadata": {},
   "source": [
    "Function ini disebut anonymous karena tidak dideklarasikan dengan cara standar menggunakan keyword def. kalian dapat menggunakan keyword lambda."
   ]
  },
  {
   "cell_type": "markdown",
   "id": "e50cc0e1",
   "metadata": {},
   "source": [
    "1. Lambda dapat mengambil berapapun argumen tetpai hanya mengembalikan satu nilai dalam bentuk expression. lambda tidak boleh berisi commands atau multiple expressions.\n",
    "2. Anonymous function tidak bisa dipanggil langsung melalui print karena lambda memerlukan expression\n",
    "3. Lambda function memiliki namespace local sendiri dan tidak dapat mengakses variabel selain yang ada di daftar parameternya dan yang ada di namespace global"
   ]
  },
  {
   "cell_type": "code",
   "execution_count": 13,
   "id": "81574cb1",
   "metadata": {},
   "outputs": [
    {
     "name": "stdout",
     "output_type": "stream",
     "text": [
      "Value of total :  30\n",
      "Value of total :  40\n",
      "Value of total :  30\n",
      "Value of total :  40\n"
     ]
    }
   ],
   "source": [
    "# Function definition is here\n",
    "sum = lambda arg1, arg2: arg1 + arg2;\n",
    "\n",
    "def sum(arg1, arg2):\n",
    "    return arg1 + arg2\n",
    "      \n",
    "# Now you can call sum as a function\n",
    "print(\"Value of total : \", sum( 10, 20 ))\n",
    "print(\"Value of total : \", sum( 20, 20 ))\n",
    "\n",
    "\n",
    "# Function definition is here\n",
    "sum = lambda arg1, arg2: arg1 + arg2;\n",
    "      \n",
    "# Now you can call sum as a function\n",
    "print(\"Value of total : \", sum( 10, 20 ))\n",
    "print(\"Value of total : \", sum( 20, 20 ))"
   ]
  },
  {
   "cell_type": "markdown",
   "id": "3c7b4e99",
   "metadata": {},
   "source": [
    "# The return Statement"
   ]
  },
  {
   "cell_type": "markdown",
   "id": "0b78fd2f",
   "metadata": {},
   "source": [
    "Statement return menyebabkan kita keluar dari satu fungsi, dan secara opsional meneruskan ekspresi ke pamnggil. "
   ]
  },
  {
   "cell_type": "code",
   "execution_count": 15,
   "id": "eb17b64b",
   "metadata": {},
   "outputs": [
    {
     "name": "stdout",
     "output_type": "stream",
     "text": [
      "Inside the function  :  30\n",
      "Outside the function :  40\n"
     ]
    }
   ],
   "source": [
    "# Function definition is here\n",
    "def sum(arg1, arg2):\n",
    "    # Add both the parameters and return them.\"\n",
    "    total = arg1 + arg2\n",
    "    total2 = total + arg1\n",
    "    print(\"Inside the function  : \", total)\n",
    "    return total2\n",
    "\n",
    "# Now you can call sum function\n",
    "total = sum(10, 20)\n",
    "print(\"Outside the function : \", total)"
   ]
  },
  {
   "cell_type": "markdown",
   "id": "31e78ecd",
   "metadata": {},
   "source": [
    "# Scope of Variables"
   ]
  },
  {
   "cell_type": "markdown",
   "id": "d8fb8799",
   "metadata": {},
   "source": [
    "Semua variabel dalam program mungkin tidak dapat diakses disemua lokasi dalamam program tersebut. Tergantung diaman mendeklrasikan variabel."
   ]
  },
  {
   "cell_type": "markdown",
   "id": "006cf9bc",
   "metadata": {},
   "source": [
    "# Global vs. Local variables"
   ]
  },
  {
   "cell_type": "code",
   "execution_count": 18,
   "id": "0deb426b",
   "metadata": {},
   "outputs": [
    {
     "name": "stdout",
     "output_type": "stream",
     "text": [
      "Inside the function local total   :  30\n",
      "Outside the function global total :  0\n"
     ]
    }
   ],
   "source": [
    "total = 0 # This is global variable. \n",
    "# Function definition i \n",
    "def sum( arg1, arg2 ): \n",
    " # Add both the parameters and return them.\" \n",
    " total = arg1 + arg2; # Here total is local variable. \n",
    " print (\"Inside the function local total   : \", total) \n",
    "# Now you can call sum function \n",
    "sum( 10, 20 ) \n",
    "print (\"Outside the function global total : \", total ) \n"
   ]
  },
  {
   "cell_type": "code",
   "execution_count": 19,
   "id": "ad755168",
   "metadata": {},
   "outputs": [
    {
     "name": "stdout",
     "output_type": "stream",
     "text": [
      "50\n",
      "40\n"
     ]
    }
   ],
   "source": [
    "jumlahKucing = 20\n",
    "\n",
    "def jumlahHewan():\n",
    "    jumlahAnjing = 30\n",
    "    return jumlahKucing + jumlahAnjing\n",
    "\n",
    "def jumlahKelinci():\n",
    "    return jumlahKucing + jumlahKucing\n",
    "\n",
    "print(jumlahHewan())\n",
    "print(jumlahKelinci())"
   ]
  },
  {
   "cell_type": "markdown",
   "id": "31f05197",
   "metadata": {},
   "source": [
    "# Python Modul : Overview"
   ]
  },
  {
   "cell_type": "code",
   "execution_count": 2,
   "id": "13d1d7df",
   "metadata": {},
   "outputs": [],
   "source": [
    "import mod"
   ]
  },
  {
   "cell_type": "code",
   "execution_count": 3,
   "id": "5f7c8e65",
   "metadata": {},
   "outputs": [
    {
     "name": "stdout",
     "output_type": "stream",
     "text": [
      "Hacktiv8-PTP Python For Data Science\n",
      "[100, 200, 300]\n",
      "arg = ['quux', 'corge', 'grault']\n",
      "None\n",
      "<mod.Foo object at 0x0000015E9F61CCA0>\n"
     ]
    }
   ],
   "source": [
    "print(mod.s)\n",
    "print(mod.a)\n",
    "print(mod.foo(['quux', 'corge', 'grault']))\n",
    "x = mod.Foo()\n",
    "print(x)"
   ]
  },
  {
   "cell_type": "markdown",
   "id": "37f15afb",
   "metadata": {},
   "source": [
    "# The Module Search Path"
   ]
  },
  {
   "cell_type": "code",
   "execution_count": 4,
   "id": "4b1b2934",
   "metadata": {},
   "outputs": [
    {
     "data": {
      "text/plain": [
       "['C:\\\\Users\\\\Asus\\\\H8_002\\\\Sesi 3',\n",
       " 'c:\\\\users\\\\asus\\\\appdata\\\\local\\\\programs\\\\python\\\\python38\\\\python38.zip',\n",
       " 'c:\\\\users\\\\asus\\\\appdata\\\\local\\\\programs\\\\python\\\\python38\\\\DLLs',\n",
       " 'c:\\\\users\\\\asus\\\\appdata\\\\local\\\\programs\\\\python\\\\python38\\\\lib',\n",
       " 'c:\\\\users\\\\asus\\\\appdata\\\\local\\\\programs\\\\python\\\\python38',\n",
       " '',\n",
       " 'c:\\\\users\\\\asus\\\\appdata\\\\local\\\\programs\\\\python\\\\python38\\\\lib\\\\site-packages',\n",
       " 'c:\\\\users\\\\asus\\\\appdata\\\\local\\\\programs\\\\python\\\\python38\\\\lib\\\\site-packages\\\\win32',\n",
       " 'c:\\\\users\\\\asus\\\\appdata\\\\local\\\\programs\\\\python\\\\python38\\\\lib\\\\site-packages\\\\win32\\\\lib',\n",
       " 'c:\\\\users\\\\asus\\\\appdata\\\\local\\\\programs\\\\python\\\\python38\\\\lib\\\\site-packages\\\\Pythonwin',\n",
       " 'c:\\\\users\\\\asus\\\\appdata\\\\local\\\\programs\\\\python\\\\python38\\\\lib\\\\site-packages\\\\IPython\\\\extensions',\n",
       " 'C:\\\\Users\\\\Asus\\\\.ipython']"
      ]
     },
     "execution_count": 4,
     "metadata": {},
     "output_type": "execute_result"
    }
   ],
   "source": [
    "import sys\n",
    "sys.path"
   ]
  },
  {
   "cell_type": "markdown",
   "id": "b5930a4a",
   "metadata": {},
   "source": [
    "# The Import statement"
   ]
  },
  {
   "cell_type": "markdown",
   "id": "012ea6d6",
   "metadata": {},
   "source": [
    "Isi modul tersedia untuk pemanggil dengan import statement. Import staement memiliki banyak bentuk bentuk  berbeda"
   ]
  },
  {
   "cell_type": "code",
   "execution_count": 13,
   "id": "5a06aa24",
   "metadata": {},
   "outputs": [],
   "source": [
    "import mod"
   ]
  },
  {
   "cell_type": "code",
   "execution_count": 14,
   "id": "cee29404",
   "metadata": {},
   "outputs": [
    {
     "data": {
      "text/plain": [
       "<module 'mod' from 'C:\\\\Users\\\\Asus\\\\H8_002\\\\Sesi 3\\\\mod.py'>"
      ]
     },
     "execution_count": 14,
     "metadata": {},
     "output_type": "execute_result"
    }
   ],
   "source": [
    "mod"
   ]
  },
  {
   "cell_type": "markdown",
   "id": "9e43f846",
   "metadata": {},
   "source": [
    "Untuk diakses dalam konteks lokal, nama objek yang ditentukan dalam modul harus diawali dengan mod:"
   ]
  },
  {
   "cell_type": "code",
   "execution_count": 16,
   "id": "00ee8126",
   "metadata": {},
   "outputs": [
    {
     "data": {
      "text/plain": [
       "'Hacktiv8-PTP Python For Data Science'"
      ]
     },
     "execution_count": 16,
     "metadata": {},
     "output_type": "execute_result"
    }
   ],
   "source": [
    "mod.s"
   ]
  },
  {
   "cell_type": "markdown",
   "id": "a9797e79",
   "metadata": {},
   "source": [
    "mod.foo('quux')"
   ]
  },
  {
   "cell_type": "markdown",
   "id": "7fea9837",
   "metadata": {},
   "source": [
    "Beberapa modul yang dipisahkan koma dapat dipanggil dalam single import statement:"
   ]
  },
  {
   "cell_type": "code",
   "execution_count": 18,
   "id": "5b869833",
   "metadata": {},
   "outputs": [],
   "source": [
    "from mod import s, foo"
   ]
  },
  {
   "cell_type": "code",
   "execution_count": 19,
   "id": "f81c39ed",
   "metadata": {},
   "outputs": [
    {
     "data": {
      "text/plain": [
       "'Hacktiv8-PTP Python For Data Science'"
      ]
     },
     "execution_count": 19,
     "metadata": {},
     "output_type": "execute_result"
    }
   ],
   "source": [
    "s"
   ]
  },
  {
   "cell_type": "code",
   "execution_count": 20,
   "id": "ae8df5b1",
   "metadata": {},
   "outputs": [
    {
     "data": {
      "text/plain": [
       "<function mod.foo(arg)>"
      ]
     },
     "execution_count": 20,
     "metadata": {},
     "output_type": "execute_result"
    }
   ],
   "source": [
    "foo"
   ]
  },
  {
   "cell_type": "markdown",
   "id": "d4ced400",
   "metadata": {},
   "source": [
    "Karena bentuk import ini menempatkan nama objek langsung ke tabel simbol pemanggil, objekk apapun yang sudah ada dengan nama sama akan ditmpa:"
   ]
  },
  {
   "cell_type": "code",
   "execution_count": 21,
   "id": "210dfc14",
   "metadata": {},
   "outputs": [
    {
     "data": {
      "text/plain": [
       "['foo', 'bar', 'baz']"
      ]
     },
     "execution_count": 21,
     "metadata": {},
     "output_type": "execute_result"
    }
   ],
   "source": [
    "a = ['foo','bar','baz']\n",
    "a"
   ]
  },
  {
   "cell_type": "code",
   "execution_count": 23,
   "id": "e376a887",
   "metadata": {},
   "outputs": [
    {
     "data": {
      "text/plain": [
       "[100, 200, 300]"
      ]
     },
     "execution_count": 23,
     "metadata": {},
     "output_type": "execute_result"
    }
   ],
   "source": [
    "from mod import a\n",
    "a"
   ]
  },
  {
   "cell_type": "markdown",
   "id": "e587403c",
   "metadata": {},
   "source": [
    "Bahkan memungkinkan untuk mengimpor semuanya secara langsung dari modul dalam satu command"
   ]
  },
  {
   "cell_type": "code",
   "execution_count": 24,
   "id": "1578f2c5",
   "metadata": {},
   "outputs": [],
   "source": [
    "from mod import *"
   ]
  },
  {
   "cell_type": "code",
   "execution_count": 25,
   "id": "35cd0ee5",
   "metadata": {},
   "outputs": [
    {
     "data": {
      "text/plain": [
       "'Hacktiv8-PTP Python For Data Science'"
      ]
     },
     "execution_count": 25,
     "metadata": {},
     "output_type": "execute_result"
    }
   ],
   "source": [
    "s"
   ]
  },
  {
   "cell_type": "code",
   "execution_count": 26,
   "id": "8e11f75f",
   "metadata": {},
   "outputs": [
    {
     "data": {
      "text/plain": [
       "<function mod.foo(arg)>"
      ]
     },
     "execution_count": 26,
     "metadata": {},
     "output_type": "execute_result"
    }
   ],
   "source": [
    "foo"
   ]
  },
  {
   "cell_type": "code",
   "execution_count": 27,
   "id": "ea7a6032",
   "metadata": {},
   "outputs": [
    {
     "data": {
      "text/plain": [
       "mod.Foo"
      ]
     },
     "execution_count": 27,
     "metadata": {},
     "output_type": "execute_result"
    }
   ],
   "source": [
    "Foo"
   ]
  },
  {
   "cell_type": "markdown",
   "id": "6d6bb957",
   "metadata": {},
   "source": [
    "Memungkinkan untuk menempatkan nama secara langsung ke tabel sombol lokal tetapi menghindari konflik dengan nama yang sudah ada sebelumnya"
   ]
  },
  {
   "cell_type": "code",
   "execution_count": 28,
   "id": "ec6bd4d2",
   "metadata": {},
   "outputs": [],
   "source": [
    "s= 'foo'\n",
    "a = ['foo','bar','baz']"
   ]
  },
  {
   "cell_type": "code",
   "execution_count": 34,
   "id": "be109027",
   "metadata": {},
   "outputs": [],
   "source": [
    "from mod import s as string, a as alist"
   ]
  },
  {
   "cell_type": "code",
   "execution_count": 30,
   "id": "88dcd994",
   "metadata": {},
   "outputs": [
    {
     "data": {
      "text/plain": [
       "'foo'"
      ]
     },
     "execution_count": 30,
     "metadata": {},
     "output_type": "execute_result"
    }
   ],
   "source": [
    "s"
   ]
  },
  {
   "cell_type": "code",
   "execution_count": 31,
   "id": "e6e7b359",
   "metadata": {},
   "outputs": [
    {
     "data": {
      "text/plain": [
       "['foo', 'bar', 'baz']"
      ]
     },
     "execution_count": 31,
     "metadata": {},
     "output_type": "execute_result"
    }
   ],
   "source": [
    "a"
   ]
  },
  {
   "cell_type": "code",
   "execution_count": 32,
   "id": "af4cf3c4",
   "metadata": {},
   "outputs": [
    {
     "data": {
      "text/plain": [
       "'Hacktiv8-PTP Python For Data Science'"
      ]
     },
     "execution_count": 32,
     "metadata": {},
     "output_type": "execute_result"
    }
   ],
   "source": [
    "string"
   ]
  },
  {
   "cell_type": "code",
   "execution_count": 35,
   "id": "ce7d6bfa",
   "metadata": {},
   "outputs": [
    {
     "data": {
      "text/plain": [
       "[100, 200, 300]"
      ]
     },
     "execution_count": 35,
     "metadata": {},
     "output_type": "execute_result"
    }
   ],
   "source": [
    "alist"
   ]
  },
  {
   "cell_type": "markdown",
   "id": "ce8e26e7",
   "metadata": {},
   "source": [
    "Kalian juga dapat mengimpor seluruh modul dengan nama alternatif"
   ]
  },
  {
   "cell_type": "code",
   "execution_count": 37,
   "id": "84483348",
   "metadata": {},
   "outputs": [],
   "source": [
    "import mod as my_mdl"
   ]
  },
  {
   "cell_type": "code",
   "execution_count": 38,
   "id": "277cb8f7",
   "metadata": {},
   "outputs": [
    {
     "name": "stdout",
     "output_type": "stream",
     "text": [
      "arg = qux\n"
     ]
    }
   ],
   "source": [
    "my_mdl.a\n",
    "my_mdl.foo('qux')"
   ]
  },
  {
   "cell_type": "markdown",
   "id": "dd4f4e8b",
   "metadata": {},
   "source": [
    "# The fir() function"
   ]
  },
  {
   "cell_type": "markdown",
   "id": "9b74a03f",
   "metadata": {},
   "source": [
    "Fungsi built-in dir() mengembalikan daftar nama yang ditentukan dalam namspace. Tanpa argumen, dir() akan menghasilkan daftar nama yang diurutkan menurut abjad dalam tabel simbol lokal saat ini"
   ]
  },
  {
   "cell_type": "code",
   "execution_count": 39,
   "id": "a237cf76",
   "metadata": {},
   "outputs": [
    {
     "data": {
      "text/plain": [
       "['Foo',\n",
       " 'In',\n",
       " 'Out',\n",
       " '_',\n",
       " '_1',\n",
       " '_14',\n",
       " '_16',\n",
       " '_19',\n",
       " '_20',\n",
       " '_21',\n",
       " '_23',\n",
       " '_25',\n",
       " '_26',\n",
       " '_27',\n",
       " '_30',\n",
       " '_31',\n",
       " '_32',\n",
       " '_35',\n",
       " '_36',\n",
       " '_4',\n",
       " '__',\n",
       " '___',\n",
       " '__builtin__',\n",
       " '__builtins__',\n",
       " '__doc__',\n",
       " '__loader__',\n",
       " '__name__',\n",
       " '__package__',\n",
       " '__spec__',\n",
       " '_dh',\n",
       " '_i',\n",
       " '_i1',\n",
       " '_i10',\n",
       " '_i11',\n",
       " '_i12',\n",
       " '_i13',\n",
       " '_i14',\n",
       " '_i15',\n",
       " '_i16',\n",
       " '_i17',\n",
       " '_i18',\n",
       " '_i19',\n",
       " '_i2',\n",
       " '_i20',\n",
       " '_i21',\n",
       " '_i22',\n",
       " '_i23',\n",
       " '_i24',\n",
       " '_i25',\n",
       " '_i26',\n",
       " '_i27',\n",
       " '_i28',\n",
       " '_i29',\n",
       " '_i3',\n",
       " '_i30',\n",
       " '_i31',\n",
       " '_i32',\n",
       " '_i33',\n",
       " '_i34',\n",
       " '_i35',\n",
       " '_i36',\n",
       " '_i37',\n",
       " '_i38',\n",
       " '_i39',\n",
       " '_i4',\n",
       " '_i5',\n",
       " '_i6',\n",
       " '_i7',\n",
       " '_i8',\n",
       " '_i9',\n",
       " '_ih',\n",
       " '_ii',\n",
       " '_iii',\n",
       " '_oh',\n",
       " 'a',\n",
       " 'alist',\n",
       " 'changeme',\n",
       " 'exit',\n",
       " 'foo',\n",
       " 'function_name',\n",
       " 'get_ipython',\n",
       " 'json',\n",
       " 'list',\n",
       " 'mod',\n",
       " 'my_mdl',\n",
       " 'mylist',\n",
       " 'printinfo',\n",
       " 'printme',\n",
       " 'quit',\n",
       " 's',\n",
       " 'string',\n",
       " 'sys',\n",
       " 'x']"
      ]
     },
     "execution_count": 39,
     "metadata": {},
     "output_type": "execute_result"
    }
   ],
   "source": [
    "dir()"
   ]
  },
  {
   "cell_type": "code",
   "execution_count": 41,
   "id": "2ddf409e",
   "metadata": {},
   "outputs": [
    {
     "data": {
      "text/plain": [
       "['Foo',\n",
       " 'In',\n",
       " 'Out',\n",
       " '_',\n",
       " '_1',\n",
       " '_14',\n",
       " '_16',\n",
       " '_19',\n",
       " '_20',\n",
       " '_21',\n",
       " '_23',\n",
       " '_25',\n",
       " '_26',\n",
       " '_27',\n",
       " '_30',\n",
       " '_31',\n",
       " '_32',\n",
       " '_35',\n",
       " '_36',\n",
       " '_39',\n",
       " '_4',\n",
       " '__',\n",
       " '___',\n",
       " '__builtin__',\n",
       " '__builtins__',\n",
       " '__doc__',\n",
       " '__loader__',\n",
       " '__name__',\n",
       " '__package__',\n",
       " '__spec__',\n",
       " '_dh',\n",
       " '_i',\n",
       " '_i1',\n",
       " '_i10',\n",
       " '_i11',\n",
       " '_i12',\n",
       " '_i13',\n",
       " '_i14',\n",
       " '_i15',\n",
       " '_i16',\n",
       " '_i17',\n",
       " '_i18',\n",
       " '_i19',\n",
       " '_i2',\n",
       " '_i20',\n",
       " '_i21',\n",
       " '_i22',\n",
       " '_i23',\n",
       " '_i24',\n",
       " '_i25',\n",
       " '_i26',\n",
       " '_i27',\n",
       " '_i28',\n",
       " '_i29',\n",
       " '_i3',\n",
       " '_i30',\n",
       " '_i31',\n",
       " '_i32',\n",
       " '_i33',\n",
       " '_i34',\n",
       " '_i35',\n",
       " '_i36',\n",
       " '_i37',\n",
       " '_i38',\n",
       " '_i39',\n",
       " '_i4',\n",
       " '_i40',\n",
       " '_i41',\n",
       " '_i5',\n",
       " '_i6',\n",
       " '_i7',\n",
       " '_i8',\n",
       " '_i9',\n",
       " '_ih',\n",
       " '_ii',\n",
       " '_iii',\n",
       " '_oh',\n",
       " 'a',\n",
       " 'alist',\n",
       " 'changeme',\n",
       " 'exit',\n",
       " 'foo',\n",
       " 'function_name',\n",
       " 'get_ipython',\n",
       " 'json',\n",
       " 'list',\n",
       " 'mod',\n",
       " 'my_mdl',\n",
       " 'mylist',\n",
       " 'printinfo',\n",
       " 'printme',\n",
       " 'quit',\n",
       " 'qux',\n",
       " 's',\n",
       " 'string',\n",
       " 'sys',\n",
       " 'x']"
      ]
     },
     "execution_count": 41,
     "metadata": {},
     "output_type": "execute_result"
    }
   ],
   "source": [
    "qux = [1, 2, 3, 4, 5]\n",
    "dir()"
   ]
  },
  {
   "cell_type": "code",
   "execution_count": 42,
   "id": "fa483329",
   "metadata": {},
   "outputs": [],
   "source": [
    "class Bar():\n",
    "    pass"
   ]
  },
  {
   "cell_type": "code",
   "execution_count": 43,
   "id": "20d5194c",
   "metadata": {},
   "outputs": [
    {
     "name": "stdout",
     "output_type": "stream",
     "text": [
      "['Bar', 'Foo', 'In', 'Out', '_', '_1', '_14', '_16', '_19', '_20', '_21', '_23', '_25', '_26', '_27', '_30', '_31', '_32', '_35', '_36', '_39', '_4', '_41', '__', '___', '__builtin__', '__builtins__', '__doc__', '__loader__', '__name__', '__package__', '__spec__', '_dh', '_i', '_i1', '_i10', '_i11', '_i12', '_i13', '_i14', '_i15', '_i16', '_i17', '_i18', '_i19', '_i2', '_i20', '_i21', '_i22', '_i23', '_i24', '_i25', '_i26', '_i27', '_i28', '_i29', '_i3', '_i30', '_i31', '_i32', '_i33', '_i34', '_i35', '_i36', '_i37', '_i38', '_i39', '_i4', '_i40', '_i41', '_i42', '_i43', '_i5', '_i6', '_i7', '_i8', '_i9', '_ih', '_ii', '_iii', '_oh', 'a', 'alist', 'changeme', 'exit', 'foo', 'function_name', 'get_ipython', 'json', 'list', 'mod', 'my_mdl', 'mylist', 'printinfo', 'printme', 'quit', 'qux', 's', 'string', 'sys', 'x']\n"
     ]
    }
   ],
   "source": [
    "x = Bar()\n",
    "print(dir())"
   ]
  },
  {
   "cell_type": "markdown",
   "id": "3a6d664c",
   "metadata": {},
   "source": [
    "Akan sangat berguna untuk mengidentifikasi apa yang sebenarnya telah ditambahkan ke namespace dengan import statement:"
   ]
  },
  {
   "cell_type": "code",
   "execution_count": 44,
   "id": "bae79a1c",
   "metadata": {},
   "outputs": [
    {
     "data": {
      "text/plain": [
       "['Bar',\n",
       " 'Foo',\n",
       " 'In',\n",
       " 'Out',\n",
       " '_',\n",
       " '_1',\n",
       " '_14',\n",
       " '_16',\n",
       " '_19',\n",
       " '_20',\n",
       " '_21',\n",
       " '_23',\n",
       " '_25',\n",
       " '_26',\n",
       " '_27',\n",
       " '_30',\n",
       " '_31',\n",
       " '_32',\n",
       " '_35',\n",
       " '_36',\n",
       " '_39',\n",
       " '_4',\n",
       " '_41',\n",
       " '__',\n",
       " '___',\n",
       " '__builtin__',\n",
       " '__builtins__',\n",
       " '__doc__',\n",
       " '__loader__',\n",
       " '__name__',\n",
       " '__package__',\n",
       " '__spec__',\n",
       " '_dh',\n",
       " '_i',\n",
       " '_i1',\n",
       " '_i10',\n",
       " '_i11',\n",
       " '_i12',\n",
       " '_i13',\n",
       " '_i14',\n",
       " '_i15',\n",
       " '_i16',\n",
       " '_i17',\n",
       " '_i18',\n",
       " '_i19',\n",
       " '_i2',\n",
       " '_i20',\n",
       " '_i21',\n",
       " '_i22',\n",
       " '_i23',\n",
       " '_i24',\n",
       " '_i25',\n",
       " '_i26',\n",
       " '_i27',\n",
       " '_i28',\n",
       " '_i29',\n",
       " '_i3',\n",
       " '_i30',\n",
       " '_i31',\n",
       " '_i32',\n",
       " '_i33',\n",
       " '_i34',\n",
       " '_i35',\n",
       " '_i36',\n",
       " '_i37',\n",
       " '_i38',\n",
       " '_i39',\n",
       " '_i4',\n",
       " '_i40',\n",
       " '_i41',\n",
       " '_i42',\n",
       " '_i43',\n",
       " '_i44',\n",
       " '_i5',\n",
       " '_i6',\n",
       " '_i7',\n",
       " '_i8',\n",
       " '_i9',\n",
       " '_ih',\n",
       " '_ii',\n",
       " '_iii',\n",
       " '_oh',\n",
       " 'a',\n",
       " 'alist',\n",
       " 'changeme',\n",
       " 'exit',\n",
       " 'foo',\n",
       " 'function_name',\n",
       " 'get_ipython',\n",
       " 'json',\n",
       " 'list',\n",
       " 'mod',\n",
       " 'my_mdl',\n",
       " 'mylist',\n",
       " 'printinfo',\n",
       " 'printme',\n",
       " 'quit',\n",
       " 'qux',\n",
       " 's',\n",
       " 'string',\n",
       " 'sys',\n",
       " 'x']"
      ]
     },
     "execution_count": 44,
     "metadata": {},
     "output_type": "execute_result"
    }
   ],
   "source": [
    "dir()"
   ]
  },
  {
   "cell_type": "code",
   "execution_count": 46,
   "id": "8fc4b7ef",
   "metadata": {},
   "outputs": [
    {
     "data": {
      "text/plain": [
       "['Bar',\n",
       " 'Foo',\n",
       " 'In',\n",
       " 'Out',\n",
       " '_',\n",
       " '_1',\n",
       " '_14',\n",
       " '_16',\n",
       " '_19',\n",
       " '_20',\n",
       " '_21',\n",
       " '_23',\n",
       " '_25',\n",
       " '_26',\n",
       " '_27',\n",
       " '_30',\n",
       " '_31',\n",
       " '_32',\n",
       " '_35',\n",
       " '_36',\n",
       " '_39',\n",
       " '_4',\n",
       " '_41',\n",
       " '_44',\n",
       " '__',\n",
       " '___',\n",
       " '__builtin__',\n",
       " '__builtins__',\n",
       " '__doc__',\n",
       " '__loader__',\n",
       " '__name__',\n",
       " '__package__',\n",
       " '__spec__',\n",
       " '_dh',\n",
       " '_i',\n",
       " '_i1',\n",
       " '_i10',\n",
       " '_i11',\n",
       " '_i12',\n",
       " '_i13',\n",
       " '_i14',\n",
       " '_i15',\n",
       " '_i16',\n",
       " '_i17',\n",
       " '_i18',\n",
       " '_i19',\n",
       " '_i2',\n",
       " '_i20',\n",
       " '_i21',\n",
       " '_i22',\n",
       " '_i23',\n",
       " '_i24',\n",
       " '_i25',\n",
       " '_i26',\n",
       " '_i27',\n",
       " '_i28',\n",
       " '_i29',\n",
       " '_i3',\n",
       " '_i30',\n",
       " '_i31',\n",
       " '_i32',\n",
       " '_i33',\n",
       " '_i34',\n",
       " '_i35',\n",
       " '_i36',\n",
       " '_i37',\n",
       " '_i38',\n",
       " '_i39',\n",
       " '_i4',\n",
       " '_i40',\n",
       " '_i41',\n",
       " '_i42',\n",
       " '_i43',\n",
       " '_i44',\n",
       " '_i45',\n",
       " '_i46',\n",
       " '_i5',\n",
       " '_i6',\n",
       " '_i7',\n",
       " '_i8',\n",
       " '_i9',\n",
       " '_ih',\n",
       " '_ii',\n",
       " '_iii',\n",
       " '_oh',\n",
       " 'a',\n",
       " 'alist',\n",
       " 'changeme',\n",
       " 'exit',\n",
       " 'foo',\n",
       " 'function_name',\n",
       " 'get_ipython',\n",
       " 'json',\n",
       " 'list',\n",
       " 'mod',\n",
       " 'my_mdl',\n",
       " 'mylist',\n",
       " 'printinfo',\n",
       " 'printme',\n",
       " 'quit',\n",
       " 'qux',\n",
       " 's',\n",
       " 'string',\n",
       " 'sys',\n",
       " 'x']"
      ]
     },
     "execution_count": 46,
     "metadata": {},
     "output_type": "execute_result"
    }
   ],
   "source": [
    "import mod\n",
    "dir()"
   ]
  },
  {
   "cell_type": "code",
   "execution_count": 47,
   "id": "099bfd17",
   "metadata": {},
   "outputs": [
    {
     "data": {
      "text/plain": [
       "['Bar',\n",
       " 'Foo',\n",
       " 'In',\n",
       " 'Out',\n",
       " '_',\n",
       " '_1',\n",
       " '_14',\n",
       " '_16',\n",
       " '_19',\n",
       " '_20',\n",
       " '_21',\n",
       " '_23',\n",
       " '_25',\n",
       " '_26',\n",
       " '_27',\n",
       " '_30',\n",
       " '_31',\n",
       " '_32',\n",
       " '_35',\n",
       " '_36',\n",
       " '_39',\n",
       " '_4',\n",
       " '_41',\n",
       " '_44',\n",
       " '_46',\n",
       " '__',\n",
       " '___',\n",
       " '__builtin__',\n",
       " '__builtins__',\n",
       " '__doc__',\n",
       " '__loader__',\n",
       " '__name__',\n",
       " '__package__',\n",
       " '__spec__',\n",
       " '_dh',\n",
       " '_i',\n",
       " '_i1',\n",
       " '_i10',\n",
       " '_i11',\n",
       " '_i12',\n",
       " '_i13',\n",
       " '_i14',\n",
       " '_i15',\n",
       " '_i16',\n",
       " '_i17',\n",
       " '_i18',\n",
       " '_i19',\n",
       " '_i2',\n",
       " '_i20',\n",
       " '_i21',\n",
       " '_i22',\n",
       " '_i23',\n",
       " '_i24',\n",
       " '_i25',\n",
       " '_i26',\n",
       " '_i27',\n",
       " '_i28',\n",
       " '_i29',\n",
       " '_i3',\n",
       " '_i30',\n",
       " '_i31',\n",
       " '_i32',\n",
       " '_i33',\n",
       " '_i34',\n",
       " '_i35',\n",
       " '_i36',\n",
       " '_i37',\n",
       " '_i38',\n",
       " '_i39',\n",
       " '_i4',\n",
       " '_i40',\n",
       " '_i41',\n",
       " '_i42',\n",
       " '_i43',\n",
       " '_i44',\n",
       " '_i45',\n",
       " '_i46',\n",
       " '_i47',\n",
       " '_i5',\n",
       " '_i6',\n",
       " '_i7',\n",
       " '_i8',\n",
       " '_i9',\n",
       " '_ih',\n",
       " '_ii',\n",
       " '_iii',\n",
       " '_oh',\n",
       " 'a',\n",
       " 'alist',\n",
       " 'changeme',\n",
       " 'exit',\n",
       " 'foo',\n",
       " 'function_name',\n",
       " 'get_ipython',\n",
       " 'json',\n",
       " 'list',\n",
       " 'mod',\n",
       " 'my_mdl',\n",
       " 'mylist',\n",
       " 'printinfo',\n",
       " 'printme',\n",
       " 'quit',\n",
       " 'qux',\n",
       " 's',\n",
       " 'string',\n",
       " 'sys',\n",
       " 'x']"
      ]
     },
     "execution_count": 47,
     "metadata": {},
     "output_type": "execute_result"
    }
   ],
   "source": [
    "from mod import a, Foo\n",
    "dir()"
   ]
  },
  {
   "cell_type": "code",
   "execution_count": 48,
   "id": "07ef75cb",
   "metadata": {},
   "outputs": [
    {
     "data": {
      "text/plain": [
       "[100, 200, 300]"
      ]
     },
     "execution_count": 48,
     "metadata": {},
     "output_type": "execute_result"
    }
   ],
   "source": [
    "a"
   ]
  },
  {
   "cell_type": "code",
   "execution_count": 49,
   "id": "1dcf84e5",
   "metadata": {},
   "outputs": [
    {
     "data": {
      "text/plain": [
       "<mod.Foo at 0x15e9fd58880>"
      ]
     },
     "execution_count": 49,
     "metadata": {},
     "output_type": "execute_result"
    }
   ],
   "source": [
    "x =Foo()\n",
    "x"
   ]
  },
  {
   "cell_type": "code",
   "execution_count": 52,
   "id": "81d9d850",
   "metadata": {},
   "outputs": [
    {
     "data": {
      "text/plain": [
       "['Bar',\n",
       " 'Foo',\n",
       " 'In',\n",
       " 'Out',\n",
       " '_',\n",
       " '_1',\n",
       " '_14',\n",
       " '_16',\n",
       " '_19',\n",
       " '_20',\n",
       " '_21',\n",
       " '_23',\n",
       " '_25',\n",
       " '_26',\n",
       " '_27',\n",
       " '_30',\n",
       " '_31',\n",
       " '_32',\n",
       " '_35',\n",
       " '_36',\n",
       " '_39',\n",
       " '_4',\n",
       " '_41',\n",
       " '_44',\n",
       " '_46',\n",
       " '_47',\n",
       " '_48',\n",
       " '_49',\n",
       " '_50',\n",
       " '__',\n",
       " '___',\n",
       " '__builtin__',\n",
       " '__builtins__',\n",
       " '__doc__',\n",
       " '__loader__',\n",
       " '__name__',\n",
       " '__package__',\n",
       " '__spec__',\n",
       " '_dh',\n",
       " '_i',\n",
       " '_i1',\n",
       " '_i10',\n",
       " '_i11',\n",
       " '_i12',\n",
       " '_i13',\n",
       " '_i14',\n",
       " '_i15',\n",
       " '_i16',\n",
       " '_i17',\n",
       " '_i18',\n",
       " '_i19',\n",
       " '_i2',\n",
       " '_i20',\n",
       " '_i21',\n",
       " '_i22',\n",
       " '_i23',\n",
       " '_i24',\n",
       " '_i25',\n",
       " '_i26',\n",
       " '_i27',\n",
       " '_i28',\n",
       " '_i29',\n",
       " '_i3',\n",
       " '_i30',\n",
       " '_i31',\n",
       " '_i32',\n",
       " '_i33',\n",
       " '_i34',\n",
       " '_i35',\n",
       " '_i36',\n",
       " '_i37',\n",
       " '_i38',\n",
       " '_i39',\n",
       " '_i4',\n",
       " '_i40',\n",
       " '_i41',\n",
       " '_i42',\n",
       " '_i43',\n",
       " '_i44',\n",
       " '_i45',\n",
       " '_i46',\n",
       " '_i47',\n",
       " '_i48',\n",
       " '_i49',\n",
       " '_i5',\n",
       " '_i50',\n",
       " '_i51',\n",
       " '_i52',\n",
       " '_i6',\n",
       " '_i7',\n",
       " '_i8',\n",
       " '_i9',\n",
       " '_ih',\n",
       " '_ii',\n",
       " '_iii',\n",
       " '_oh',\n",
       " 'a',\n",
       " 'alist',\n",
       " 'changeme',\n",
       " 'exit',\n",
       " 'foo',\n",
       " 'function_name',\n",
       " 'get_ipython',\n",
       " 'json',\n",
       " 'list',\n",
       " 'mod',\n",
       " 'my_mdl',\n",
       " 'mylist',\n",
       " 'printinfo',\n",
       " 'printme',\n",
       " 'quit',\n",
       " 'qux',\n",
       " 's',\n",
       " 'string',\n",
       " 'sys',\n",
       " 'x']"
      ]
     },
     "execution_count": 52,
     "metadata": {},
     "output_type": "execute_result"
    }
   ],
   "source": [
    "from mod import s as string\n",
    "dir()"
   ]
  },
  {
   "cell_type": "code",
   "execution_count": 53,
   "id": "9f6cd514",
   "metadata": {},
   "outputs": [
    {
     "data": {
      "text/plain": [
       "'Hacktiv8-PTP Python For Data Science'"
      ]
     },
     "execution_count": 53,
     "metadata": {},
     "output_type": "execute_result"
    }
   ],
   "source": [
    "string"
   ]
  },
  {
   "cell_type": "markdown",
   "id": "2cd65082",
   "metadata": {},
   "source": [
    "Ketika diberi argumen yaitu modul, dir() mencantumkan nama yang ditentukan dalam modul"
   ]
  },
  {
   "cell_type": "code",
   "execution_count": 1,
   "id": "c7ef3623",
   "metadata": {},
   "outputs": [],
   "source": [
    "import mod"
   ]
  },
  {
   "cell_type": "code",
   "execution_count": 2,
   "id": "e661d2b3",
   "metadata": {},
   "outputs": [
    {
     "data": {
      "text/plain": [
       "['Foo',\n",
       " '__builtins__',\n",
       " '__cached__',\n",
       " '__doc__',\n",
       " '__file__',\n",
       " '__loader__',\n",
       " '__name__',\n",
       " '__package__',\n",
       " '__spec__',\n",
       " 'a',\n",
       " 'foo',\n",
       " 's']"
      ]
     },
     "execution_count": 2,
     "metadata": {},
     "output_type": "execute_result"
    }
   ],
   "source": [
    "dir(mod)"
   ]
  },
  {
   "cell_type": "code",
   "execution_count": 3,
   "id": "1ec39656",
   "metadata": {},
   "outputs": [
    {
     "data": {
      "text/plain": [
       "['In',\n",
       " 'Out',\n",
       " '_',\n",
       " '_2',\n",
       " '__',\n",
       " '___',\n",
       " '__builtin__',\n",
       " '__builtins__',\n",
       " '__doc__',\n",
       " '__loader__',\n",
       " '__name__',\n",
       " '__package__',\n",
       " '__spec__',\n",
       " '_dh',\n",
       " '_i',\n",
       " '_i1',\n",
       " '_i2',\n",
       " '_i3',\n",
       " '_ih',\n",
       " '_ii',\n",
       " '_iii',\n",
       " '_oh',\n",
       " 'exit',\n",
       " 'get_ipython',\n",
       " 'json',\n",
       " 'mod',\n",
       " 'quit']"
      ]
     },
     "execution_count": 3,
     "metadata": {},
     "output_type": "execute_result"
    }
   ],
   "source": [
    "dir()"
   ]
  },
  {
   "cell_type": "code",
   "execution_count": 4,
   "id": "a31a2b60",
   "metadata": {},
   "outputs": [
    {
     "data": {
      "text/plain": [
       "['Foo',\n",
       " 'In',\n",
       " 'Out',\n",
       " '_',\n",
       " '_2',\n",
       " '_3',\n",
       " '__',\n",
       " '___',\n",
       " '__builtin__',\n",
       " '__builtins__',\n",
       " '__doc__',\n",
       " '__loader__',\n",
       " '__name__',\n",
       " '__package__',\n",
       " '__spec__',\n",
       " '_dh',\n",
       " '_i',\n",
       " '_i1',\n",
       " '_i2',\n",
       " '_i3',\n",
       " '_i4',\n",
       " '_ih',\n",
       " '_ii',\n",
       " '_iii',\n",
       " '_oh',\n",
       " 'a',\n",
       " 'exit',\n",
       " 'foo',\n",
       " 'get_ipython',\n",
       " 'json',\n",
       " 'mod',\n",
       " 'quit',\n",
       " 's']"
      ]
     },
     "execution_count": 4,
     "metadata": {},
     "output_type": "execute_result"
    }
   ],
   "source": [
    "from mod import *\n",
    "dir()"
   ]
  },
  {
   "cell_type": "markdown",
   "id": "6ac0897f",
   "metadata": {},
   "source": [
    "# Executing a Module as a Script"
   ]
  },
  {
   "cell_type": "markdown",
   "id": "ca62d49e",
   "metadata": {},
   "source": [
    "File.py apapun yang berisi modul pada dasarnya juga merupakan skrip python dan dapat dijalankan"
   ]
  },
  {
   "cell_type": "code",
   "execution_count": 6,
   "id": "5042d5a6",
   "metadata": {},
   "outputs": [],
   "source": [
    "import mod"
   ]
  },
  {
   "cell_type": "code",
   "execution_count": 7,
   "id": "d7e3e11b",
   "metadata": {},
   "outputs": [
    {
     "name": "stdout",
     "output_type": "stream",
     "text": [
      "arg = grault\n"
     ]
    }
   ],
   "source": [
    "mod.foo('grault')"
   ]
  },
  {
   "cell_type": "code",
   "execution_count": 8,
   "id": "9c3576ce",
   "metadata": {},
   "outputs": [],
   "source": [
    "from fact import fact"
   ]
  },
  {
   "cell_type": "code",
   "execution_count": 9,
   "id": "9d4ab73a",
   "metadata": {},
   "outputs": [
    {
     "data": {
      "text/plain": [
       "720"
      ]
     },
     "execution_count": 9,
     "metadata": {},
     "output_type": "execute_result"
    }
   ],
   "source": [
    "fact(6)"
   ]
  },
  {
   "cell_type": "markdown",
   "id": "b383dc17",
   "metadata": {},
   "source": [
    "# Reloading a Module"
   ]
  },
  {
   "cell_type": "markdown",
   "id": "61bd00ac",
   "metadata": {},
   "source": [
    "untuk alasan efisiensi,modul hanya dapat dimuat sekali per sesi interprete"
   ]
  },
  {
   "cell_type": "code",
   "execution_count": 10,
   "id": "b30a3d3b",
   "metadata": {},
   "outputs": [],
   "source": [
    "import mod"
   ]
  },
  {
   "cell_type": "code",
   "execution_count": 11,
   "id": "6f24d401",
   "metadata": {},
   "outputs": [
    {
     "data": {
      "text/plain": [
       "[100, 200, 300]"
      ]
     },
     "execution_count": 11,
     "metadata": {},
     "output_type": "execute_result"
    }
   ],
   "source": [
    "mod.a"
   ]
  },
  {
   "cell_type": "markdown",
   "id": "f055f599",
   "metadata": {},
   "source": [
    "Jika kalian membuat perubahan pada modul dan pelru memuatnya kembali kalian pelru memulai ulang interpreter atau menggunakan fungsi yang disebut reload() dari modul importlib"
   ]
  },
  {
   "cell_type": "code",
   "execution_count": 12,
   "id": "1d04f4bc",
   "metadata": {},
   "outputs": [],
   "source": [
    "import mod"
   ]
  },
  {
   "cell_type": "code",
   "execution_count": 13,
   "id": "0f5bd901",
   "metadata": {},
   "outputs": [],
   "source": [
    "import importlib"
   ]
  },
  {
   "cell_type": "code",
   "execution_count": 14,
   "id": "22f5d9a9",
   "metadata": {},
   "outputs": [
    {
     "data": {
      "text/plain": [
       "<module 'mod' from 'C:\\\\Users\\\\Asus\\\\H8_002\\\\Sesi 3\\\\mod.py'>"
      ]
     },
     "execution_count": 14,
     "metadata": {},
     "output_type": "execute_result"
    }
   ],
   "source": [
    "importlib.reload(mod)"
   ]
  },
  {
   "cell_type": "markdown",
   "id": "ce7d71d0",
   "metadata": {},
   "source": [
    "# Python Packages"
   ]
  },
  {
   "cell_type": "markdown",
   "id": "bfbfcedb",
   "metadata": {},
   "source": [
    "Packages memungkinkan penatan hirarki nama modul menggunakan notasi titik.Modul Membantu menghindaari tabrakan anatara nama vairabel global, packages membantu menghindari tabrakan antara nama modul"
   ]
  },
  {
   "cell_type": "markdown",
   "id": "6eccb358",
   "metadata": {},
   "source": [
    "Direktori pkg yang berisi modul mod1.py dan mod2.py"
   ]
  },
  {
   "cell_type": "markdown",
   "id": "121db7bb",
   "metadata": {},
   "source": [
    "Dengan stuktur ini, jika direktori pkg berada di lokasi dimaan ia dapat ditemukan, kita dapat meurujuk ke dua modul dengan notasi titik dan impor dengan sintaks yang sudah kalian pelajari."
   ]
  },
  {
   "cell_type": "code",
   "execution_count": 15,
   "id": "677709eb",
   "metadata": {},
   "outputs": [],
   "source": [
    "import pkg.mod1, pkg.mod2"
   ]
  },
  {
   "cell_type": "code",
   "execution_count": 16,
   "id": "37daceb8",
   "metadata": {},
   "outputs": [
    {
     "name": "stdout",
     "output_type": "stream",
     "text": [
      "[mod1] foo()\n"
     ]
    }
   ],
   "source": [
    "pkg.mod1.foo()"
   ]
  },
  {
   "cell_type": "code",
   "execution_count": 18,
   "id": "9ed61948",
   "metadata": {},
   "outputs": [
    {
     "data": {
      "text/plain": [
       "<pkg.mod2.Bar at 0x19ded0c0370>"
      ]
     },
     "execution_count": 18,
     "metadata": {},
     "output_type": "execute_result"
    }
   ],
   "source": [
    "x = pkg.mod2.Bar()\n",
    "x"
   ]
  },
  {
   "cell_type": "markdown",
   "id": "6a01d170",
   "metadata": {},
   "source": [
    "from modul_name import name(s)"
   ]
  },
  {
   "cell_type": "code",
   "execution_count": 19,
   "id": "b4d1ca6a",
   "metadata": {},
   "outputs": [
    {
     "data": {
      "text/plain": [
       "<function pkg.mod1.foo()>"
      ]
     },
     "execution_count": 19,
     "metadata": {},
     "output_type": "execute_result"
    }
   ],
   "source": [
    "from pkg.mod1 import foo\n",
    "foo"
   ]
  },
  {
   "cell_type": "markdown",
   "id": "e0c15e8e",
   "metadata": {},
   "source": [
    "from modul_name import name as alt_name"
   ]
  },
  {
   "cell_type": "code",
   "execution_count": 20,
   "id": "ef07c09b",
   "metadata": {},
   "outputs": [
    {
     "data": {
      "text/plain": [
       "<pkg.mod2.Bar at 0x19ded0394c0>"
      ]
     },
     "execution_count": 20,
     "metadata": {},
     "output_type": "execute_result"
    }
   ],
   "source": [
    "from pkg.mod2 import Bar as Qux\n",
    "x = Qux()\n",
    "x"
   ]
  },
  {
   "cell_type": "code",
   "execution_count": 21,
   "id": "cd4e875d",
   "metadata": {},
   "outputs": [
    {
     "name": "stdout",
     "output_type": "stream",
     "text": [
      "[mod1] foo()\n"
     ]
    }
   ],
   "source": [
    "from pkg import mod1\n",
    "mod1.foo()"
   ]
  },
  {
   "cell_type": "code",
   "execution_count": 22,
   "id": "147179d5",
   "metadata": {},
   "outputs": [
    {
     "name": "stdout",
     "output_type": "stream",
     "text": [
      "[mod2] bar()\n"
     ]
    }
   ],
   "source": [
    "from pkg import mod2 as quux\n",
    "quux.bar()"
   ]
  },
  {
   "cell_type": "markdown",
   "id": "197932bc",
   "metadata": {},
   "source": [
    "Secara teknis, kalian juga dapat mengimpor package:"
   ]
  },
  {
   "cell_type": "code",
   "execution_count": 23,
   "id": "e77c542c",
   "metadata": {},
   "outputs": [
    {
     "data": {
      "text/plain": [
       "<module 'pkg' (namespace)>"
      ]
     },
     "execution_count": 23,
     "metadata": {},
     "output_type": "execute_result"
    }
   ],
   "source": [
    "import pkg\n",
    "pkg"
   ]
  },
  {
   "cell_type": "code",
   "execution_count": 24,
   "id": "159ddc27",
   "metadata": {},
   "outputs": [
    {
     "data": {
      "text/plain": [
       "<module 'pkg.mod1' from 'C:\\\\Users\\\\Asus\\\\H8_002\\\\Sesi 3\\\\pkg\\\\mod1.py'>"
      ]
     },
     "execution_count": 24,
     "metadata": {},
     "output_type": "execute_result"
    }
   ],
   "source": [
    "pkg.mod1"
   ]
  },
  {
   "cell_type": "code",
   "execution_count": 26,
   "id": "58320727",
   "metadata": {},
   "outputs": [
    {
     "name": "stdout",
     "output_type": "stream",
     "text": [
      "[mod1] foo()\n"
     ]
    }
   ],
   "source": [
    "pkg.mod1.foo()"
   ]
  },
  {
   "cell_type": "code",
   "execution_count": 25,
   "id": "cfa37b98",
   "metadata": {},
   "outputs": [
    {
     "data": {
      "text/plain": [
       "<pkg.mod2.Bar at 0x19ded0f0c10>"
      ]
     },
     "execution_count": 25,
     "metadata": {},
     "output_type": "execute_result"
    }
   ],
   "source": [
    "pkg.mod2.Bar()"
   ]
  },
  {
   "cell_type": "markdown",
   "id": "60ff97de",
   "metadata": {},
   "source": [
    "# PIP"
   ]
  },
  {
   "cell_type": "markdown",
   "id": "22fc5f29",
   "metadata": {},
   "source": [
    "PIP adalah package manager untuk Python. pip adalah alat yang memungkinkan kalian menginstal dan mengelola library dan dependensi tambahan yang tidak didistribusikan sebagai bagian dari library standar"
   ]
  },
  {
   "cell_type": "code",
   "execution_count": 28,
   "id": "534f67f8",
   "metadata": {},
   "outputs": [
    {
     "name": "stdout",
     "output_type": "stream",
     "text": [
      "pip 21.2.4 from c:\\users\\asus\\appdata\\local\\programs\\python\\python38\\lib\\site-packages\\pip (python 3.8)\n",
      "\n",
      "Note: you may need to restart the kernel to use updated packages.\n"
     ]
    }
   ],
   "source": [
    "pip --version"
   ]
  },
  {
   "cell_type": "code",
   "execution_count": null,
   "id": "3b87df20",
   "metadata": {},
   "outputs": [],
   "source": []
  }
 ],
 "metadata": {
  "kernelspec": {
   "display_name": "Python 3 (ipykernel)",
   "language": "python",
   "name": "python3"
  },
  "language_info": {
   "codemirror_mode": {
    "name": "ipython",
    "version": 3
   },
   "file_extension": ".py",
   "mimetype": "text/x-python",
   "name": "python",
   "nbconvert_exporter": "python",
   "pygments_lexer": "ipython3",
   "version": "3.8.7"
  },
  "toc": {
   "base_numbering": 1,
   "nav_menu": {},
   "number_sections": true,
   "sideBar": true,
   "skip_h1_title": false,
   "title_cell": "Sesi 3",
   "title_sidebar": "Contents",
   "toc_cell": true,
   "toc_position": {},
   "toc_section_display": true,
   "toc_window_display": true
  }
 },
 "nbformat": 4,
 "nbformat_minor": 5
}
