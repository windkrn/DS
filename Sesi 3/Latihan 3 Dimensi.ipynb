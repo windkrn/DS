{
 "cells": [
  {
   "cell_type": "code",
   "execution_count": 2,
   "id": "cfb8c4f4",
   "metadata": {},
   "outputs": [
    {
     "name": "stdout",
     "output_type": "stream",
     "text": [
      "Perhitungan  3 dimensi\n",
      "1. balok\n",
      "2. kubus\n",
      "3. tabung\n",
      "masukan pilihan anda : 1\n",
      "nilai panjang :1\n",
      "nilai lebar   :1\n",
      "nilai tinggi  : 2\n",
      "volume_blk  :  2\n",
      "luas_blk     :  12\n",
      "Apa anda ingin mengulang ? (Y/T) : 2\n",
      "Program selesai\n"
     ]
    }
   ],
   "source": [
    "import bentuk3d\n",
    "\n",
    "print(\"Perhitungan  3 dimensi\")\n",
    "print(\"1. balok\")\n",
    "print(\"2. kubus\")\n",
    "print(\"3. tabung\")\n",
    "\n",
    "ulang = \"Y\"\n",
    "\n",
    "while ulang==\"Y\" or ulang ==\"y\":\n",
    "    pil = int(input(\"masukan pilihan anda : \"))\n",
    "\n",
    "    if pil == 1 :\n",
    "        p = int(input(\"nilai panjang :\"))\n",
    "        l = int(input(\"nilai lebar   :\"))\n",
    "        t = int(input(\"nilai tinggi  : \"))\n",
    "        bentuk3d.balok(p,l,t)\n",
    "\n",
    "    elif pil == 2:\n",
    "        s   = int(input(\"nilai alas    :\"))\n",
    "        bentuk3d.kubus(s)\n",
    "\n",
    "    elif pil == 3 :\n",
    "        r = int(input(\"nilai jari-jari :\"))\n",
    "        ti =int(input(\"nilai tinggi    :\"))\n",
    "        bentuk3d.tabung(r,ti)\n",
    "        \n",
    "    else:\n",
    "        print(\"belum ada\")\n",
    "\n",
    "    ulang= input(\"Apa anda ingin mengulang ? (Y/T) : \")\n",
    "\n",
    "else :\n",
    "    print(\"Program selesai\")\n"
   ]
  },
  {
   "cell_type": "code",
   "execution_count": null,
   "id": "2dba1010",
   "metadata": {},
   "outputs": [],
   "source": []
  }
 ],
 "metadata": {
  "kernelspec": {
   "display_name": "Python 3 (ipykernel)",
   "language": "python",
   "name": "python3"
  },
  "language_info": {
   "codemirror_mode": {
    "name": "ipython",
    "version": 3
   },
   "file_extension": ".py",
   "mimetype": "text/x-python",
   "name": "python",
   "nbconvert_exporter": "python",
   "pygments_lexer": "ipython3",
   "version": "3.8.7"
  }
 },
 "nbformat": 4,
 "nbformat_minor": 5
}
