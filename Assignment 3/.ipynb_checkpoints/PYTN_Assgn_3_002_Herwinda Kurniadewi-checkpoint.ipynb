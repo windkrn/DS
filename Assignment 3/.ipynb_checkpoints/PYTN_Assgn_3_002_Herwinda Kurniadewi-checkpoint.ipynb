{
 "cells": [
  {
   "cell_type": "markdown",
   "id": "c2075d80",
   "metadata": {},
   "source": [
    "# Bank Marketing Data Set "
   ]
  },
  {
   "cell_type": "markdown",
   "id": "0d671eff",
   "metadata": {},
   "source": [
    "## Project Overview"
   ]
  },
  {
   "cell_type": "markdown",
   "id": "a4b59ed4",
   "metadata": {},
   "source": [
    "Data tersebut terkait dengan kampanye pemasaran langsung dari lembaga perbankan Portugis. Kampanye pemasaran didasarkan pada panggilan telepon. Seringkali, lebih dari satu kontak ke klien yang sama diperlukan, untuk mengakses apakah produk (deposito berjangka bank) akan ('ya') atau tidak ('tidak') berlangganan."
   ]
  },
  {
   "cell_type": "markdown",
   "id": "b20763fb",
   "metadata": {},
   "source": [
    "**Ada empat kumpulan data:**\n",
    "1. bank-additional-full.csv dengan semua contoh (41188) dan 20 input, diurutkan berdasarkan tanggal (dari Mei 2008 hingga November 2010), sangat dekat dengan data yang dianalisis dalam [Moro et al., 2014]\n",
    "2. bank-additional.csv dengan 10% dari contoh (4119), dipilih secara acak dari 1), dan 20 input.\n",
    "3. bank-full.csv dengan semua contoh dan 17 input, diurutkan berdasarkan tanggal (versi lama dari kumpulan data ini dengan input yang lebih sedikit).\n",
    "4. bank.csv dengan 10% contoh dan 17 input, dipilih secara acak dari 3 (versi lama dari kumpulan data ini dengan input lebih sedikit)."
   ]
  },
  {
   "cell_type": "markdown",
   "id": "31271d04",
   "metadata": {},
   "source": [
    "Kumpulan data terkecil disediakan untuk menguji algoritme pembelajaran mesin yang lebih menuntut komputasi (mis., SVM).\n",
    "\n",
    "Tujuan klasifikasi adalah untuk memprediksi apakah klien akan berlangganan (ya/tidak) deposito berjangka (variabel y). "
   ]
  },
  {
   "cell_type": "markdown",
   "id": "4b0c9f3c",
   "metadata": {},
   "source": [
    "**Attribute Information:**\n",
    "\n",
    "Input variables:\n",
    "**bank client data:**\n",
    "1. age (numeric)\n",
    "2. job : jenis pekerjaan (kategoris: 'admin.','kerah biru','pengusaha','pembantu rumah tangga','manajemen','pensiunan','wiraswasta','jasa','mahasiswa' ,'teknisi','menganggur','tidak diketahui')\n",
    "3. marital : status perkawinan (kategori: 'cerai', 'menikah', 'lajang', 'tidak diketahui'; catatan: 'cerai' berarti cerai atau janda)\n",
    "4. education (kategoris: 'dasar.4 tahun', 'dasar.6 tahun', 'dasar.9 tahun', 'sekolah menengah', 'buta huruf', 'kursus profesional', 'gelar universitas', 'tidak diketahui')\n",
    "5. default: apakah kredit default? (kategoris: 'tidak', 'ya', 'tidak diketahui')\n",
    "6. housing: memiliki pinjaman perumahan? (kategoris: 'tidak', 'ya', 'tidak diketahui')\n",
    "7. loan: memiliki pinjaman pribadi? (kategoris: 'tidak', 'ya', 'tidak diketahui')\n",
    "\n",
    "**related with the last contact of the current campaign:**\n",
    "\n",
    "8. contact: jenis komunikasi kontak (kategori: 'seluler', 'telepon')\n",
    "9. month: kontak terakhir bulan dalam setahun (kategoris: 'jan', 'feb', 'mar', ..., 'nov', 'dec')\n",
    "10. day_of_week: hari kontak terakhir dalam seminggu (kategoris: 'sen','sel','wed','kamis','fri')\n",
    "11. duration: durasi kontak terakhir, dalam detik (numerik). Catatan penting: atribut ini sangat mempengaruhi target keluaran (misalnya, jika durasi=0 maka y='tidak'). Namun, durasinya tidak diketahui sebelum panggilan dilakukan. Juga, setelah akhir panggilan y jelas diketahui. Dengan demikian, input ini hanya boleh dimasukkan untuk tujuan benchmark dan harus dibuang jika tujuannya adalah untuk memiliki model prediksi yang realistis.\n",
    "\n",
    "**other attributes:**\n",
    "\n",
    "12. campaign: jumlah kontak yang dilakukan selama kampanye ini dan untuk klien ini (numerik, termasuk kontak terakhir)\n",
    "13. pdays: jumlah hari yang berlalu setelah klien terakhir dihubungi dari kampanye sebelumnya (numerik; 999 berarti klien tidak dihubungi sebelumnya)\n",
    "14. previous: jumlah kontak yang dilakukan sebelum kampanye ini dan untuk klien ini (numerik)\n",
    "15. poutcome: hasil dari kampanye pemasaran sebelumnya (categorical: 'failure','nonexistent','success')\n",
    "\n",
    "**social and economic context attributes**\n",
    "\n",
    "16. emp.var.rate: tingkat variasi pekerjaan - indikator triwulanan (numerik)\n",
    "17. cons.price.idx: indeks harga konsumen - indikator bulanan (numerik)\n",
    "18. cons.conf.idx:  indeks kepercayaan konsumen - indikator bulanan (numerik)\n",
    "19. euribor3m: tarif euribor 3 bulan - indikator harian (numerik)\n",
    "20. nr.employed:  jumlah karyawan - indikator triwulanan (numerik) \n",
    "\n",
    "**Output variable (desired target):**\n",
    "\n",
    "21. y - has the client subscribed a term deposit? (binary: 'yes','no')"
   ]
  },
  {
   "cell_type": "markdown",
   "id": "8db0de2f",
   "metadata": {},
   "source": [
    "## Import Library"
   ]
  },
  {
   "cell_type": "code",
   "execution_count": 7,
   "id": "09c56181",
   "metadata": {},
   "outputs": [],
   "source": [
    "import pandas as pd \n",
    "import numpy as np\n",
    "import matplotlib.pyplot as plt\n",
    "import seaborn as sns\n",
    "\n",
    "from sklearn.linear_model import LogisticRegression\n",
    "from sklearn.tree import DecisionTreeClassifier\n",
    "from sklearn.ensemble import RandomForestClassifier\n",
    "from sklearn.metrics import accuracy_score, classification_report,confusion_matrix"
   ]
  },
  {
   "cell_type": "markdown",
   "id": "0d1db4d2",
   "metadata": {},
   "source": [
    "## Load Data"
   ]
  },
  {
   "cell_type": "code",
   "execution_count": 8,
   "id": "71e69c62",
   "metadata": {},
   "outputs": [],
   "source": [
    "df= pd.read_csv('Data/bank-full-1.csv',sep=';',engine='python', na_values=\"unknown\")"
   ]
  },
  {
   "cell_type": "markdown",
   "id": "9d89bda6",
   "metadata": {},
   "source": [
    "Menampilan lima data teratas"
   ]
  },
  {
   "cell_type": "code",
   "execution_count": 9,
   "id": "05767680",
   "metadata": {},
   "outputs": [
    {
     "data": {
      "text/html": [
       "<div>\n",
       "<style scoped>\n",
       "    .dataframe tbody tr th:only-of-type {\n",
       "        vertical-align: middle;\n",
       "    }\n",
       "\n",
       "    .dataframe tbody tr th {\n",
       "        vertical-align: top;\n",
       "    }\n",
       "\n",
       "    .dataframe thead th {\n",
       "        text-align: right;\n",
       "    }\n",
       "</style>\n",
       "<table border=\"1\" class=\"dataframe\">\n",
       "  <thead>\n",
       "    <tr style=\"text-align: right;\">\n",
       "      <th></th>\n",
       "      <th>age</th>\n",
       "      <th>job</th>\n",
       "      <th>marital</th>\n",
       "      <th>education</th>\n",
       "      <th>default</th>\n",
       "      <th>balance</th>\n",
       "      <th>housing</th>\n",
       "      <th>loan</th>\n",
       "      <th>contact</th>\n",
       "      <th>day</th>\n",
       "      <th>month</th>\n",
       "      <th>duration</th>\n",
       "      <th>campaign</th>\n",
       "      <th>pdays</th>\n",
       "      <th>previous</th>\n",
       "      <th>poutcome</th>\n",
       "      <th>y</th>\n",
       "    </tr>\n",
       "  </thead>\n",
       "  <tbody>\n",
       "    <tr>\n",
       "      <th>0</th>\n",
       "      <td>58</td>\n",
       "      <td>management</td>\n",
       "      <td>married</td>\n",
       "      <td>tertiary</td>\n",
       "      <td>no</td>\n",
       "      <td>2143</td>\n",
       "      <td>yes</td>\n",
       "      <td>no</td>\n",
       "      <td>NaN</td>\n",
       "      <td>5</td>\n",
       "      <td>may</td>\n",
       "      <td>261</td>\n",
       "      <td>1</td>\n",
       "      <td>-1</td>\n",
       "      <td>0</td>\n",
       "      <td>NaN</td>\n",
       "      <td>no</td>\n",
       "    </tr>\n",
       "    <tr>\n",
       "      <th>1</th>\n",
       "      <td>44</td>\n",
       "      <td>technician</td>\n",
       "      <td>single</td>\n",
       "      <td>secondary</td>\n",
       "      <td>no</td>\n",
       "      <td>29</td>\n",
       "      <td>yes</td>\n",
       "      <td>no</td>\n",
       "      <td>NaN</td>\n",
       "      <td>5</td>\n",
       "      <td>may</td>\n",
       "      <td>151</td>\n",
       "      <td>1</td>\n",
       "      <td>-1</td>\n",
       "      <td>0</td>\n",
       "      <td>NaN</td>\n",
       "      <td>no</td>\n",
       "    </tr>\n",
       "    <tr>\n",
       "      <th>2</th>\n",
       "      <td>33</td>\n",
       "      <td>entrepreneur</td>\n",
       "      <td>married</td>\n",
       "      <td>secondary</td>\n",
       "      <td>no</td>\n",
       "      <td>2</td>\n",
       "      <td>yes</td>\n",
       "      <td>yes</td>\n",
       "      <td>NaN</td>\n",
       "      <td>5</td>\n",
       "      <td>may</td>\n",
       "      <td>76</td>\n",
       "      <td>1</td>\n",
       "      <td>-1</td>\n",
       "      <td>0</td>\n",
       "      <td>NaN</td>\n",
       "      <td>no</td>\n",
       "    </tr>\n",
       "    <tr>\n",
       "      <th>3</th>\n",
       "      <td>47</td>\n",
       "      <td>blue-collar</td>\n",
       "      <td>married</td>\n",
       "      <td>NaN</td>\n",
       "      <td>no</td>\n",
       "      <td>1506</td>\n",
       "      <td>yes</td>\n",
       "      <td>no</td>\n",
       "      <td>NaN</td>\n",
       "      <td>5</td>\n",
       "      <td>may</td>\n",
       "      <td>92</td>\n",
       "      <td>1</td>\n",
       "      <td>-1</td>\n",
       "      <td>0</td>\n",
       "      <td>NaN</td>\n",
       "      <td>no</td>\n",
       "    </tr>\n",
       "    <tr>\n",
       "      <th>4</th>\n",
       "      <td>33</td>\n",
       "      <td>NaN</td>\n",
       "      <td>single</td>\n",
       "      <td>NaN</td>\n",
       "      <td>no</td>\n",
       "      <td>1</td>\n",
       "      <td>no</td>\n",
       "      <td>no</td>\n",
       "      <td>NaN</td>\n",
       "      <td>5</td>\n",
       "      <td>may</td>\n",
       "      <td>198</td>\n",
       "      <td>1</td>\n",
       "      <td>-1</td>\n",
       "      <td>0</td>\n",
       "      <td>NaN</td>\n",
       "      <td>no</td>\n",
       "    </tr>\n",
       "  </tbody>\n",
       "</table>\n",
       "</div>"
      ],
      "text/plain": [
       "   age           job  marital  education default  balance housing loan  \\\n",
       "0   58    management  married   tertiary      no     2143     yes   no   \n",
       "1   44    technician   single  secondary      no       29     yes   no   \n",
       "2   33  entrepreneur  married  secondary      no        2     yes  yes   \n",
       "3   47   blue-collar  married        NaN      no     1506     yes   no   \n",
       "4   33           NaN   single        NaN      no        1      no   no   \n",
       "\n",
       "  contact  day month  duration  campaign  pdays  previous poutcome   y  \n",
       "0     NaN    5   may       261         1     -1         0      NaN  no  \n",
       "1     NaN    5   may       151         1     -1         0      NaN  no  \n",
       "2     NaN    5   may        76         1     -1         0      NaN  no  \n",
       "3     NaN    5   may        92         1     -1         0      NaN  no  \n",
       "4     NaN    5   may       198         1     -1         0      NaN  no  "
      ]
     },
     "execution_count": 9,
     "metadata": {},
     "output_type": "execute_result"
    }
   ],
   "source": [
    "df.head()"
   ]
  },
  {
   "cell_type": "markdown",
   "id": "f0097e75",
   "metadata": {},
   "source": [
    "Menampilakn lima data terbawah"
   ]
  },
  {
   "cell_type": "code",
   "execution_count": 10,
   "id": "28b65ea6",
   "metadata": {},
   "outputs": [
    {
     "data": {
      "text/html": [
       "<div>\n",
       "<style scoped>\n",
       "    .dataframe tbody tr th:only-of-type {\n",
       "        vertical-align: middle;\n",
       "    }\n",
       "\n",
       "    .dataframe tbody tr th {\n",
       "        vertical-align: top;\n",
       "    }\n",
       "\n",
       "    .dataframe thead th {\n",
       "        text-align: right;\n",
       "    }\n",
       "</style>\n",
       "<table border=\"1\" class=\"dataframe\">\n",
       "  <thead>\n",
       "    <tr style=\"text-align: right;\">\n",
       "      <th></th>\n",
       "      <th>age</th>\n",
       "      <th>job</th>\n",
       "      <th>marital</th>\n",
       "      <th>education</th>\n",
       "      <th>default</th>\n",
       "      <th>balance</th>\n",
       "      <th>housing</th>\n",
       "      <th>loan</th>\n",
       "      <th>contact</th>\n",
       "      <th>day</th>\n",
       "      <th>month</th>\n",
       "      <th>duration</th>\n",
       "      <th>campaign</th>\n",
       "      <th>pdays</th>\n",
       "      <th>previous</th>\n",
       "      <th>poutcome</th>\n",
       "      <th>y</th>\n",
       "    </tr>\n",
       "  </thead>\n",
       "  <tbody>\n",
       "    <tr>\n",
       "      <th>45206</th>\n",
       "      <td>51</td>\n",
       "      <td>technician</td>\n",
       "      <td>married</td>\n",
       "      <td>tertiary</td>\n",
       "      <td>no</td>\n",
       "      <td>825</td>\n",
       "      <td>no</td>\n",
       "      <td>no</td>\n",
       "      <td>cellular</td>\n",
       "      <td>17</td>\n",
       "      <td>nov</td>\n",
       "      <td>977</td>\n",
       "      <td>3</td>\n",
       "      <td>-1</td>\n",
       "      <td>0</td>\n",
       "      <td>NaN</td>\n",
       "      <td>yes</td>\n",
       "    </tr>\n",
       "    <tr>\n",
       "      <th>45207</th>\n",
       "      <td>71</td>\n",
       "      <td>retired</td>\n",
       "      <td>divorced</td>\n",
       "      <td>primary</td>\n",
       "      <td>no</td>\n",
       "      <td>1729</td>\n",
       "      <td>no</td>\n",
       "      <td>no</td>\n",
       "      <td>cellular</td>\n",
       "      <td>17</td>\n",
       "      <td>nov</td>\n",
       "      <td>456</td>\n",
       "      <td>2</td>\n",
       "      <td>-1</td>\n",
       "      <td>0</td>\n",
       "      <td>NaN</td>\n",
       "      <td>yes</td>\n",
       "    </tr>\n",
       "    <tr>\n",
       "      <th>45208</th>\n",
       "      <td>72</td>\n",
       "      <td>retired</td>\n",
       "      <td>married</td>\n",
       "      <td>secondary</td>\n",
       "      <td>no</td>\n",
       "      <td>5715</td>\n",
       "      <td>no</td>\n",
       "      <td>no</td>\n",
       "      <td>cellular</td>\n",
       "      <td>17</td>\n",
       "      <td>nov</td>\n",
       "      <td>1127</td>\n",
       "      <td>5</td>\n",
       "      <td>184</td>\n",
       "      <td>3</td>\n",
       "      <td>success</td>\n",
       "      <td>yes</td>\n",
       "    </tr>\n",
       "    <tr>\n",
       "      <th>45209</th>\n",
       "      <td>57</td>\n",
       "      <td>blue-collar</td>\n",
       "      <td>married</td>\n",
       "      <td>secondary</td>\n",
       "      <td>no</td>\n",
       "      <td>668</td>\n",
       "      <td>no</td>\n",
       "      <td>no</td>\n",
       "      <td>telephone</td>\n",
       "      <td>17</td>\n",
       "      <td>nov</td>\n",
       "      <td>508</td>\n",
       "      <td>4</td>\n",
       "      <td>-1</td>\n",
       "      <td>0</td>\n",
       "      <td>NaN</td>\n",
       "      <td>no</td>\n",
       "    </tr>\n",
       "    <tr>\n",
       "      <th>45210</th>\n",
       "      <td>37</td>\n",
       "      <td>entrepreneur</td>\n",
       "      <td>married</td>\n",
       "      <td>secondary</td>\n",
       "      <td>no</td>\n",
       "      <td>2971</td>\n",
       "      <td>no</td>\n",
       "      <td>no</td>\n",
       "      <td>cellular</td>\n",
       "      <td>17</td>\n",
       "      <td>nov</td>\n",
       "      <td>361</td>\n",
       "      <td>2</td>\n",
       "      <td>188</td>\n",
       "      <td>11</td>\n",
       "      <td>other</td>\n",
       "      <td>no</td>\n",
       "    </tr>\n",
       "  </tbody>\n",
       "</table>\n",
       "</div>"
      ],
      "text/plain": [
       "       age           job   marital  education default  balance housing loan  \\\n",
       "45206   51    technician   married   tertiary      no      825      no   no   \n",
       "45207   71       retired  divorced    primary      no     1729      no   no   \n",
       "45208   72       retired   married  secondary      no     5715      no   no   \n",
       "45209   57   blue-collar   married  secondary      no      668      no   no   \n",
       "45210   37  entrepreneur   married  secondary      no     2971      no   no   \n",
       "\n",
       "         contact  day month  duration  campaign  pdays  previous poutcome    y  \n",
       "45206   cellular   17   nov       977         3     -1         0      NaN  yes  \n",
       "45207   cellular   17   nov       456         2     -1         0      NaN  yes  \n",
       "45208   cellular   17   nov      1127         5    184         3  success  yes  \n",
       "45209  telephone   17   nov       508         4     -1         0      NaN   no  \n",
       "45210   cellular   17   nov       361         2    188        11    other   no  "
      ]
     },
     "execution_count": 10,
     "metadata": {},
     "output_type": "execute_result"
    }
   ],
   "source": [
    "df.tail()"
   ]
  },
  {
   "cell_type": "markdown",
   "id": "e4f0f8f6",
   "metadata": {},
   "source": [
    "Melihat dimensi dataframe"
   ]
  },
  {
   "cell_type": "code",
   "execution_count": 11,
   "id": "2c4f5d73",
   "metadata": {},
   "outputs": [
    {
     "data": {
      "text/plain": [
       "(45211, 17)"
      ]
     },
     "execution_count": 11,
     "metadata": {},
     "output_type": "execute_result"
    }
   ],
   "source": [
    "df.shape"
   ]
  },
  {
   "cell_type": "markdown",
   "id": "acf9e20f",
   "metadata": {},
   "source": [
    "Menghapus nan pada data"
   ]
  },
  {
   "cell_type": "code",
   "execution_count": 12,
   "id": "abdfc3e0",
   "metadata": {},
   "outputs": [],
   "source": [
    "df.dropna(inplace=True)"
   ]
  },
  {
   "cell_type": "code",
   "execution_count": 13,
   "id": "c706ec87",
   "metadata": {},
   "outputs": [
    {
     "data": {
      "text/plain": [
       "(7842, 17)"
      ]
     },
     "execution_count": 13,
     "metadata": {},
     "output_type": "execute_result"
    }
   ],
   "source": [
    "df.shape #recheck"
   ]
  },
  {
   "cell_type": "markdown",
   "id": "12f83ec2",
   "metadata": {},
   "source": [
    "Mengecek apakah ada duplikat data?"
   ]
  },
  {
   "cell_type": "code",
   "execution_count": 14,
   "id": "73b0a7a3",
   "metadata": {},
   "outputs": [
    {
     "data": {
      "text/plain": [
       "False"
      ]
     },
     "execution_count": 14,
     "metadata": {},
     "output_type": "execute_result"
    }
   ],
   "source": [
    "df.duplicated().any()"
   ]
  },
  {
   "cell_type": "code",
   "execution_count": 15,
   "id": "89ba12a8",
   "metadata": {},
   "outputs": [],
   "source": [
    "df.dropna(inplace=True)"
   ]
  },
  {
   "cell_type": "markdown",
   "id": "78f18156",
   "metadata": {},
   "source": [
    "Mendapatkan informasi dasar tentang kerangka data"
   ]
  },
  {
   "cell_type": "code",
   "execution_count": 16,
   "id": "bdb4e416",
   "metadata": {},
   "outputs": [
    {
     "name": "stdout",
     "output_type": "stream",
     "text": [
      "<class 'pandas.core.frame.DataFrame'>\n",
      "Int64Index: 7842 entries, 24060 to 45210\n",
      "Data columns (total 17 columns):\n",
      " #   Column     Non-Null Count  Dtype \n",
      "---  ------     --------------  ----- \n",
      " 0   age        7842 non-null   int64 \n",
      " 1   job        7842 non-null   object\n",
      " 2   marital    7842 non-null   object\n",
      " 3   education  7842 non-null   object\n",
      " 4   default    7842 non-null   object\n",
      " 5   balance    7842 non-null   int64 \n",
      " 6   housing    7842 non-null   object\n",
      " 7   loan       7842 non-null   object\n",
      " 8   contact    7842 non-null   object\n",
      " 9   day        7842 non-null   int64 \n",
      " 10  month      7842 non-null   object\n",
      " 11  duration   7842 non-null   int64 \n",
      " 12  campaign   7842 non-null   int64 \n",
      " 13  pdays      7842 non-null   int64 \n",
      " 14  previous   7842 non-null   int64 \n",
      " 15  poutcome   7842 non-null   object\n",
      " 16  y          7842 non-null   object\n",
      "dtypes: int64(7), object(10)\n",
      "memory usage: 1.1+ MB\n"
     ]
    }
   ],
   "source": [
    "df.info()"
   ]
  },
  {
   "cell_type": "markdown",
   "id": "acc52d24",
   "metadata": {},
   "source": [
    "Mengkonversi tipe data categorical"
   ]
  },
  {
   "cell_type": "code",
   "execution_count": 17,
   "id": "1a7849b5",
   "metadata": {},
   "outputs": [],
   "source": [
    "categorical = [\"job\",\"marital\",\"education\", \"default\", \"housing\", \"loan\", \"contact\", \"month\",\"poutcome\",\"y\"]\n",
    "\n",
    "for col in categorical: \n",
    "    df[col] = df[col].astype(\"category\")"
   ]
  },
  {
   "cell_type": "markdown",
   "id": "41ae867b",
   "metadata": {},
   "source": [
    "Mendapatkan list header kolom"
   ]
  },
  {
   "cell_type": "code",
   "execution_count": 18,
   "id": "494740ba",
   "metadata": {},
   "outputs": [
    {
     "data": {
      "text/plain": [
       "Index(['age', 'job', 'marital', 'education', 'default', 'balance', 'housing',\n",
       "       'loan', 'contact', 'day', 'month', 'duration', 'campaign', 'pdays',\n",
       "       'previous', 'poutcome', 'y'],\n",
       "      dtype='object')"
      ]
     },
     "execution_count": 18,
     "metadata": {},
     "output_type": "execute_result"
    }
   ],
   "source": [
    "df.columns"
   ]
  },
  {
   "cell_type": "markdown",
   "id": "1365cd5a",
   "metadata": {},
   "source": [
    "Mendapatkan nilai unik dari setiap kolom"
   ]
  },
  {
   "cell_type": "code",
   "execution_count": 19,
   "id": "34f1b559",
   "metadata": {},
   "outputs": [
    {
     "name": "stdout",
     "output_type": "stream",
     "text": [
      "age : \n",
      "{18, 19, 20, 21, 22, 23, 24, 25, 26, 27, 28, 29, 30, 31, 32, 33, 34, 35, 36, 37, 38, 39, 40, 41, 42, 43, 44, 45, 46, 47, 48, 49, 50, 51, 52, 53, 54, 55, 56, 57, 58, 59, 60, 61, 62, 63, 64, 65, 66, 67, 68, 69, 70, 71, 72, 73, 74, 75, 76, 77, 78, 79, 80, 81, 82, 83, 84, 86, 88, 89}\n",
      "......\n",
      " \n",
      " \n",
      "job : \n",
      "{'technician', 'blue-collar', 'admin.', 'retired', 'self-employed', 'student', 'management', 'unemployed', 'entrepreneur', 'housemaid', 'services'}\n",
      "......\n",
      " \n",
      " \n",
      "marital : \n",
      "{'divorced', 'married', 'single'}\n",
      "......\n",
      " \n",
      " \n",
      "education : \n",
      "{'secondary', 'tertiary', 'primary'}\n",
      "......\n",
      " \n",
      " \n",
      "default : \n",
      "{'no', 'yes'}\n",
      "......\n",
      " \n",
      " \n",
      "balance : \n",
      "{0, 1, 2, 3, 4, 5, 6, 7, 8, 9, 10, 11, 12, 13, 14, 15, 16, 17, 18, 19, 20, 21, 22, 23, 24, 25, 26, 8218, 28, 29, 30, 31, 27, 33, 34, 35, 36, 37, 38, 39, 40, 41, 42, 43, 44, 45, 46, 16430, 47, 8238, 50, 51, 52, 53, 54, 55, 56, 57, 58, 59, 60, 61, 62, 63, 64, 65, 66, 67, 68, 69, 8262, 71, 72, 73, 8266, 74, 75, 77, 78, 79, 80, 81, 82, 83, 76, 85, 86, 87, 84, 89, 90, 91, 92, 93, 94, 95, 96, 97, 98, 99, 100, 101, 102, 103, 104, 105, 106, 8295, 108, 109, 107, 111, 112, 113, 114, 115, 116, 117, 118, 119, 120, 121, 122, 123, 124, 125, 126, 127, 128, 129, 130, 131, 132, 133, 134, 135, 136, 137, 138, 139, 140, 141, 142, 143, 144, 145, 146, 147, 148, 149, 150, 151, 152, 153, 154, 155, 156, 157, 158, 159, 160, 162, 163, 164, 165, 166, 167, 168, 169, 170, 171, 172, 173, 174, 175, 176, 177, 178, 179, 32948, 180, 182, 183, 184, 181, 186, 187, 188, 189, 190, 191, 8381, 193, 194, 195, 196, 197, 198, 199, 200, 201, 202, 203, 204, 205, 206, 207, 208, 209, 210, 211, 212, 213, 214, 215, 216, 217, 218, 219, 220, 221, 222, 223, 224, 225, 226, 227, 228, 229, 230, 231, 232, 233, 234, 235, 236, 237, 238, 239, 240, 241, 242, 243, 8436, 245, 246, 247, 248, 249, 250, 251, 252, 253, 254, 255, 256, 257, 8444, 258, 260, 261, 262, 263, 264, 265, 266, 259, 268, 267, 270, 271, 272, 273, 274, 275, 8195, 277, 278, 279, 280, 281, 282, 283, 284, 285, 286, 287, 288, 289, 290, 291, 292, 293, 294, 295, 296, 297, 298, 299, 300, 301, 302, 303, 304, 305, 306, 307, 308, 309, 310, 311, 312, 313, 314, 315, 316, 317, 318, 319, 320, 321, 322, 323, 324, 325, 326, 327, 328, 329, 330, 331, 332, 333, 334, 335, 336, 337, 338, 339, 340, 341, 342, 343, 344, 345, 346, 347, 348, 349, 350, 351, 352, 8545, 354, 355, 356, 357, 358, 359, 360, 70, 8554, 363, 362, 364, 366, 367, 368, 369, 370, 371, 372, 373, 374, 375, 376, 377, 378, 8564, 380, 381, 382, 383, 384, 385, 386, 387, 388, 389, 390, 391, 392, 393, 395, 396, 397, 398, 399, 400, 401, 402, 403, 404, 405, 406, 407, 408, 409, 410, 411, 412, 413, 414, 415, 416, 417, 8603, 419, 420, 421, 422, 423, 424, 425, 426, 427, 428, 429, 430, 431, 432, 433, 434, 435, 436, 8629, 438, 437, 440, 441, 442, 443, 444, 445, 446, 447, 8637, 449, 450, 451, 448, 453, 454, 455, 456, 457, 458, 459, 460, 8648, 462, 463, 464, 461, 466, 467, 468, 469, 470, 471, 472, 473, 474, 475, 476, 477, 478, 479, 480, 481, 8669, 483, 484, 485, 486, 487, 488, 489, 490, 491, 492, 493, 494, 495, 496, 497, 498, 499, 500, 501, 502, 503, 504, 505, 506, 507, 508, 509, 510, 511, 512, 513, 514, 515, 516, 517, 518, 519, 520, 521, 522, 523, 524, 525, 526, 527, 528, 529, 530, 531, 532, 533, 534, 535, 536, 537, 538, 539, 540, 541, 542, 543, 544, 545, 546, 547, 548, 549, 550, 551, 552, 553, 554, 555, 556, 557, 558, 559, 560, 561, 562, 563, 565, 566, 567, 568, 569, 571, 572, 16957, 574, 573, 576, 577, 578, 579, 580, 581, 582, 583, 584, 585, 586, 587, 588, 589, 590, 591, 8781, 592, 594, 593, 596, 597, 598, 600, 601, 602, 603, 604, 605, 606, 607, 16992, 608, 609, 611, 612, 613, 614, 616, 617, 618, 619, 620, 621, 622, 623, 624, 625, 626, 627, 629, 630, 631, 632, 633, 634, 635, 636, 8826, 638, 639, 640, 641, 642, 643, 644, 637, 17023, 647, 648, 649, 650, 651, 653, 655, 656, 657, 658, 659, 660, 661, 663, 664, 665, 666, 667, 668, 670, 671, 672, 673, 674, 8866, 676, 677, 678, 679, 680, 8873, 682, 681, 8876, 685, 683, 687, 688, 689, 690, 686, 692, 691, 694, 695, 696, 697, 698, 699, 700, 701, 702, 703, 704, 8892, 706, 705, 708, 709, 710, 8902, 712, 8903, 714, 707, 716, 711, 718, 719, 720, 722, 723, 724, 725, 726, 728, 730, 732, 733, 734, 735, 736, 737, 738, 739, 740, 741, 744, 745, 746, 747, 748, 750, 751, 752, 753, 16432, 755, 756, 757, 758, 759, 760, 8950, 762, 763, 764, 765, 766, 767, 768, 769, 771, 772, 773, 774, 775, 776, 777, 778, 779, 780, 781, 782, 783, 784, 785, 787, 788, 789, 8982, 791, 792, 790, 794, 793, 796, 797, 798, 799, 800, 801, 802, 803, 804, 805, 806, 807, 808, 809, 810, 812, 814, 816, 817, 818, 8304, 821, 822, 823, 824, 825, 826, 827, 828, 829, 830, 832, 833, 834, 836, 839, 841, 842, 843, 844, 845, 846, 848, 849, 851, 852, 853, 854, 9047, 856, 857, 858, 859, 855, 860, 862, 863, 864, 865, 866, 867, 869, 870, 872, 873, 874, 875, 876, 877, 879, 880, 881, 882, 883, 884, 9077, 24598, 887, 889, 891, 892, 893, 894, 895, 896, 897, 898, 899, 900, 901, 902, 903, 904, 905, 906, 909, 911, 912, 913, 914, 915, 916, 917, 918, 919, 920, 922, 923, 924, 925, 926, 927, 928, 930, 931, 932, 933, 185, 935, 937, 938, 939, 940, 941, 942, 943, 944, 9131, 946, 948, 949, 950, 951, 952, 953, 955, 956, 957, 958, 961, 8332, 963, 964, 965, 966, 967, 968, 192, 9160, 971, 972, 8334, 974, 975, 976, 977, 978, 979, 980, 981, 982, 983, 984, 985, 991, 992, 993, 994, 995, 8339, 997, 999, 1000, 1002, 1004, 1005, 1006, 1010, 1011, 1012, 1013, 1014, 1015, 1016, 1017, 1019, 1021, 1022, 1023, 1025, 1026, 1027, 1028, 1029, 1033, 1034, 1035, 1036, 1039, 1040, 1041, 1042, 1043, 1044, 1045, 1047, 1048, 1049, 1050, 1052, 1053, 1055, 1057, 1058, 1059, 1060, 1062, 1063, 1064, 1065, 1066, 1068, 9261, 1070, 17455, 1071, 1072, 1074, 1075, 1076, 9269, 1078, 1077, 1080, 1081, 1082, 1084, 9277, 1086, 1085, 1088, 1089, 1090, 1092, 1093, 1094, 1095, 1096, 1097, 1098, 1099, 1100, 1101, 1102, 1103, 1104, 1105, 1106, 9299, 1108, 1109, 1110, 1113, 1114, 1115, 1116, 1119, 1120, 1123, 9317, 1127, 1128, 1129, 1130, 1131, 8366, 1133, 1134, 1135, 1136, 1137, 1138, 1139, 9329, 1141, 1143, 1144, 1145, 1146, 9339, 1147, 1150, 1153, 1155, 1156, 9347, 1158, 1159, 1160, 1161, 1162, 1163, 1164, 1165, 1166, 1167, 1171, 1174, 1175, 1176, 9367, 1178, 1179, 1180, 1181, 9374, 1183, 16517, 1185, 1186, 1187, 1182, 1188, 1190, 1191, 1192, 1189, 1194, 1195, 1198, 1199, 1200, 1201, 1203, 1204, 1205, 1206, 1207, 1210, 48, 1211, 1212, 1214, 1216, 1217, 1219, 1220, 1221, 1222, 1224, 1225, 1227, 1228, 244, 1230, 1231, 1232, 1229, 1234, 1235, 49, 1238, 1239, 1240, 1241, 1242, 1243, 1245, 1246, 1249, 1250, 1251, 1252, 1254, 1255, 9447, 1257, 1258, 1259, 1261, 1265, 1268, 1269, 1270, 1271, 1272, 1273, 1274, 1276, 1277, 1279, 1282, 1285, 1286, 1288, 1289, 1291, 1292, 1293, 1295, 1296, 1298, 1299, 1301, 1306, 1309, 1310, 1311, 1313, 1314, 1315, 1316, 1317, 1318, 1319, 1320, 1322, 1323, 1324, 1327, 1328, 1329, 1330, 1331, 1333, 1335, 1336, 1337, 1339, 1341, 1342, 1343, 1345, 1347, 9541, 1350, 1351, 1352, 1354, 1355, 1356, 1357, 1363, 1364, 1366, 1367, 1368, 1370, 1371, 1372, 1373, 1374, 1375, 1376, 1377, 1378, 1379, 1380, 1381, 1382, 1384, 1386, 1387, 1388, 276, 1390, 1391, 1392, 1393, 1394, 1395, 1396, 1397, 1389, 1400, 1402, 1403, 1405, 1406, 1407, 1408, 1409, 1410, 1411, 1412, 1413, 1414, 1415, 1416, 1417, 1419, 1422, 1423, 1425, 9618, 1429, 1430, 1431, 1433, 1435, 9629, 1438, 1440, 1441, 9634, 1443, 1444, 1442, 1445, 1447, 1448, 1449, 1450, 1451, 1452, 1453, 1454, 1455, 1457, 1458, 1460, 1461, 34230, 1464, 1465, 1467, 1468, 1471, 1473, 1474, 1475, 1477, 1480, 1481, 1482, 1484, 1486, 1490, 1491, 1492, 1494, 1495, 1496, 1497, 1499, 1501, 1502, 1503, 1504, 1506, 1507, 1508, 1509, 1510, 1513, 1514, 1515, 1518, 1521, 1522, 9714, 1526, 1527, 1528, 1530, 1531, 1532, 1533, 1534, 1535, 1536, 1539, 17924, 1541, 1543, 1544, 1545, 1546, 1547, 1549, 1550, 1551, 1553, 1554, 1557, 1558, 1559, 1560, 1561, 17946, 1563, 1562, 1564, 9756, 1568, 1569, 1570, 1571, 1573, 1574, 1575, 1576, 1577, 1579, 1580, 17964, 1582, 1583, 1587, 1589, 1590, 1592, 1593, 1594, 1595, 1596, 1597, 1598, 1599, 1600, 1601, 1602, 1608, 1609, 1611, 1612, 1613, 1614, 1615, 1616, 1619, 8205, 1623, 1624, 1625, 1626, 1628, 1630, 1631, 1633, 1636, 1639, 1640, 1644, 1646, 1649, 1653, 1655, 1657, 1659, 1661, 1663, 1664, 1667, 1669, 1670, 1672, 1673, 1674, 1675, 1676, 26254, 1679, 1680, 1681, 1682, 1685, 1686, 1687, 1690, 1691, 1693, 1694, 1696, 1697, 1699, 1701, 1707, 1708, 1710, 1711, 1716, 1717, 1718, 1720, 1721, 1723, 9916, 1724, 1725, 1727, 1730, 26306, 1731, 1733, 1734, 1737, 1738, 1740, 1742, 1743, 1746, 1749, 1750, 1752, 1757, 1761, 1762, 1765, 1767, 1768, 1769, 1770, 1773, 1776, 1777, 1778, 353, 1779, 1780, 1782, 1781, 1784, 1785, 1787, 1788, 1790, 1791, 1794, 1796, 1797, 1801, 1802, 1803, 1804, 1807, 1808, 1809, 1810, 1811, 1812, 10005, 1815, 361, 1818, 1819, 1820, 1822, 1824, 1825, 1830, 1831, 365, 1840, 1841, 1842, 1843, 1844, 1847, 10041, 1852, 10045, 1854, 1855, 1853, 1857, 1859, 10054, 1865, 1866, 1868, 1870, 1871, 1872, 10065, 1873, 8514, 1878, 1880, 10072, 1883, 1887, 1891, 1894, 10086, 1901, 1903, 1905, 1906, 1907, 379, 1912, 1914, 1918, 1919, 1923, 1924, 1925, 1926, 1927, 1928, 1931, 1934, 1937, 1938, 1939, 1940, 1942, 1943, 1944, 1945, 1946, 1947, 1948, 1949, 1951, 1954, 1956, 1957, 1958, 10152, 1961, 1962, 1966, 1967, 1970, 1973, 1974, 1976, 1978, 1981, 1984, 1987, 1988, 1989, 1990, 1992, 1993, 10185, 1996, 26575, 2002, 2004, 2007, 2010, 2011, 2013, 2015, 2016, 2017, 2019, 2020, 2021, 2026, 2027, 2030, 2032, 2033, 2037, 2038, 2039, 2040, 2041, 2044, 2046, 2047, 2048, 10250, 2059, 10252, 2061, 2060, 2063, 2064, 2066, 2067, 2074, 2076, 2077, 2079, 2080, 2081, 2083, 2084, 2085, 2087, 2088, 2089, 8556, 2093, 10287, 2096, 2102, 2108, 2109, 2110, 2120, 2121, 2123, 2124, 2125, 8563, 2126, 2129, 2133, 2135, 2137, 2138, 2139, 2140, 2142, 2143, 2144, 2145, 2146, 2147, 2149, 2151, 2152, 2153, 10346, 2155, 2156, 2157, 2160, 2161, 2163, 2166, 2169, 2170, 2171, 2173, 18558, 2178, 2179, 10373, 10374, 2182, 2184, 2185, 2187, 2189, 2190, 2194, 2198, 2204, 439, 2212, 2213, 10406, 2216, 88, 2220, 2223, 2226, 2227, 2232, 2235, 2236, 2237, 2239, 2240, 2246, 2249, 2251, 2253, 2254, 2257, 2258, 2261, 2265, 2266, 2269, 2273, 2278, 2279, 2281, 2283, 2289, 2290, 2291, 2293, 2294, 2298, 2299, 2301, 2302, 2303, 2305, 2308, 2310, 2311, 2313, 2317, 2319, 2320, 2321, 2325, 2326, 2331, 2336, 2340, 465, 2344, 2345, 2346, 2348, 10541, 2351, 2353, 2354, 2357, 2360, 2363, 2365, 2366, 10558, 2367, 2371, 2374, 2376, 2378, 2381, 2383, 2390, 10583, 2391, 2397, 2398, 2399, 2403, 10596, 2405, 2408, 2409, 2411, 2412, 2415, 2419, 2420, 2421, 2422, 2423, 2424, 482, 2427, 2428, 2429, 2430, 8626, 2441, 2442, 8627, 2451, 2454, 2455, 2456, 2461, 2465, 2466, 2467, 2468, 2470, 2476, 2478, 2481, 2486, 2487, 2488, 2489, 2490, 2495, 2497, 2501, 2502, 2506, 2509, 2516, 2518, 2519, 2530, 2533, 2538, 2540, 2543, 2544, 18931, 2548, 2549, 2550, 2552, 2554, 2557, 2558, 2562, 2564, 2567, 2568, 2574, 2575, 2576, 10768, 2578, 2579, 2580, 2581, 2583, 10776, 2587, 2589, 2590, 2591, 2592, 2595, 2597, 2599, 2600, 2603, 2607, 2611, 2616, 2618, 2619, 2622, 2625, 2626, 2635, 2636, 2643, 2644, 2646, 2651, 2656, 2658, 2660, 2661, 2665, 2666, 2667, 10861, 2671, 2678, 2679, 2688, 10884, 2693, 2695, 10888, 2696, 2697, 2711, 10905, 2714, 2717, 2719, 2720, 2722, 2725, 2729, 2730, 10925, 2737, 2745, 2747, 2749, 2755, 2762, 2763, 2764, 2767, 2768, 2769, 2776, 2779, 2781, 2784, 2785, 2786, 2787, 2789, 2790, 2795, 2801, 2802, 2805, 2806, 2809, 2812, 2815, 11008, 2818, 2820, 2823, 2832, 2836, 2843, 2848, 2850, 2851, 2854, 2855, 2858, 2877, 2881, 2885, 2892, 2894, 2895, 2896, 2897, 2904, 2907, 2910, 2913, 2915, 2917, 2918, 2923, 2926, 2929, 2939, 2944, 2952, 2957, 2958, 19343, 2960, 2959, 2971, 16873, 2974, 2976, 2977, 2979, 2980, 2981, 2983, 11177, 2987, 2991, 2994, 3000, 3008, 3018, 3020, 3025, 3026, 11219, 3028, 3029, 11222, 3027, 3036, 3037, 3043, 3044, 3046, 3047, 3049, 3050, 3052, 3054, 3058, 3059, 3060, 3064, 3068, 3071, 3082, 3086, 3090, 3096, 3100, 3102, 3104, 3107, 3109, 3111, 11303, 3114, 3117, 3119, 27696, 3123, 3126, 3132, 3136, 3138, 3141, 3142, 3145, 3149, 3154, 3157, 11350, 3160, 3165, 3169, 3170, 11371, 3181, 3185, 3186, 3187, 3188, 3192, 11387, 3198, 11391, 3201, 3202, 3207, 3211, 3221, 3230, 3232, 3234, 3236, 3237, 3242, 3244, 3269, 3271, 3275, 3276, 3279, 3283, 3284, 3287, 3289, 3290, 3293, 3301, 3310, 3311, 3313, 11512, 3322, 3324, 3331, 3335, 3337, 3338, 3340, 3342, 3343, 3344, 3345, 3350, 3352, 3354, 3355, 3366, 3370, 3371, 3382, 3384, 3395, 3398, 3399, 3401, 3402, 3403, 3404, 3407, 3409, 3411, 3415, 3417, 3419, 3420, 3426, 3429, 3431, 3434, 52587, 3440, 684, 3444, 19833, 3450, 3455, 3459, 3461, 3462, 3463, 3466, 3469, 3472, 3487, 3494, 3498, 3499, 3505, 3508, 3511, 3512, 3514, 3518, 3519, 3528, 3529, 3531, 3533, 3540, 3546, 3552, 3560, 3561, 3570, 3574, 11766, 3576, 3591, 3608, 3623, 3625, 3629, 3634, 3646, 3648, 3649, 3652, 3653, 3654, 3658, 3663, 3669, 11862, 3672, 3676, 3679, 3684, 3689, 3695, 3696, 11891, 3703, 3705, 3713, 3715, 3718, 3729, 3730, 3732, 3733, 3735, 3738, 3745, 3751, 3754, 3764, 3770, 3771, 3773, 11971, 3780, 3782, 3792, 3794, 3795, 3797, 3810, 3815, 3816, 3834, 3837, 3839, 3840, 3842, 3843, 3844, 12039, 3850, 3854, 3856, 3857, 3863, 3867, 3868, 12061, 3875, 12067, 3895, 3904, 3913, 3917, 3923, 3927, 3935, 12130, 3940, 3943, 3948, 3950, 3951, 3953, 3954, 3957, 12159, 3967, 3975, 3981, 3990, 3994, 4007, 4012, 4014, 4015, 4017, 4023, 4025, 4030, 4041, 4047, 4053, 4056, 4060, 4063, 4068, 12264, 4082, 4089, 4101, 4105, 4112, 4119, 4121, 4124, 4126, 820, 4129, 4136, 4148, 4152, 12356, 4168, 4170, 4174, 4178, 4189, 4198, 12392, 20585, 12401, 4216, 12409, 4243, 4254, 4256, 4259, 4262, 4265, 4278, 4279, 4293, 4300, 4301, 4312, 4319, 4320, 4321, 4324, 12519, 4328, 4335, 20727, 4344, 4348, 4367, 4374, 12569, 4388, 4392, 4401, 4402, 4415, 12607, 4428, 4430, 4436, 4441, 4447, 4457, 4459, 4465, 4471, 4493, 12686, 4497, 29080, 4515, 4519, 4533, 4539, 4543, 20928, 4545, 4561, 4572, 4580, 4581, 4582, 4590, 4591, 4596, 4605, 4606, 4608, 37378, 4613, 4629, 4645, 4646, 4654, 4657, 4659, 12855, 4664, 12857, 4683, 4692, 4693, 4708, 4721, 4728, 4733, 12926, 4741, 4745, 12939, 4758, 4760, 4761, 4763, 12956, 29340, 4782, 4787, 4788, 4789, 4790, 12980, 4793, 4803, 4809, 13014, 4826, 4831, 4833, 962, 4847, 13044, 4853, 4855, 4859, 4861, 13054, 4867, 4869, 4873, 4879, 970, 4888, 973, 4900, 4902, 4903, 4904, 4906, 4912, 13107, 4922, 4923, 4924, 4943, 4945, 4951, 4954, 4958, 4961, 4963, 13156, 4968, 4976, 4987, 4990, 13186, 4996, 5000, 5007, 5009, 5021, 5024, 5037, 5041, 5045, 5057, 5058, 5060, 5073, 5076, 5083, 5087, 5092, 13297, 5108, 5112, 5114, 5115, 5122, 5131, 5133, 21522, 5142, 5145, 5151, 5164, 5169, 5196, 5207, 5220, 5222, 5248, 5250, 5252, 5253, 5260, 5267, 5270, 5287, 5291, 5293, 5296, 5303, 5304, 5306, 5310, 5313, 5320, 5340, 5350, 13546, 5359, 5361, 29941, 5367, 5397, 5399, 5418, 5423, 5427, 5431, 5432, 5436, 5437, 5452, 5461, 5462, 5473, 5474, 5475, 13669, 5486, 13683, 5511, 5514, 13711, 5533, 5539, 5550, 5553, 5558, 5560, 5561, 5564, 5607, 5618, 13818, 5631, 5643, 13849, 5670, 13874, 5689, 5691, 5694, 5698, 5699, 5701, 5704, 5715, 5731, 5733, 5741, 5745, 5754, 5763, 5766, 5774, 22171, 5788, 5802, 5816, 5836, 5838, 5862, 5873, 5878, 5887, 5902, 5903, 5907, 5916, 1177, 5935, 5945, 5956, 5957, 5958, 5969, 5993, 6000, 6004, 6005, 6012, 14204, 6016, 6027, 6030, 6036, 6042, 6046, 6053, 6060, 14282, 6101, 6112, 6138, 6150, 6158, 22546, 6181, 6182, 6203, 6217, 6236, 6237, 6248, 6251, 6269, 6271, 6281, 6285, -1884, -1882, 6322, 6332, 6352, 6384, 6402, 6411, 6429, 6432, 6447, 6468, 22856, 22867, 6491, 6495, 6507, 6513, 6525, 6526, 6542, 6551, 6567, -1621, 6573, 6574, 6596, 6613, 6649, 6651, 6659, 23047, 6687, 23076, 6695, 6699, 6707, 6718, 6728, 6767, 6771, 6784, 6791, -1400, 6807, 6809, 6815, 6835, 15030, 6843, 6844, 6850, 6857, -1329, 6879, 6889, 6900, 15120, 6945, 6958, 15161, -1212, 6981, 6982, 6993, 6994, 7005, 7010, 7019, 7049, 7050, 31630, 7063, 7066, 15265, -1112, 7102, 7103, -1083, 7111, 7114, 15341, 7154, 7180, -982, -980, 7222, -969, 7225, -954, -947, 7249, -938, 7255, 7263, 15459, 23663, 15474, -910, 15485, -898, 7313, 7317, -874, -872, -864, 7331, -848, -813, -803, 7419, -762, -755, 7443, 7444, -735, 7459, 7469, -717, 81204, 7485, 23878, -692, 7503, 7506, -684, -679, -676, -667, -665, -663, 7529, 7541, -650, -648, 7546, 7554, -637, -636, -634, -626, 7567, -616, -607, -606, -605, -594, -582, -581, -579, -575, 7620, -571, -566, -559, -557, -556, -550, 15834, -547, -538, -535, -529, -528, -523, -522, -516, -513, -508, -503, -500, -498, -497, -493, -489, -488, -487, 7707, 7708, -483, 7711, -480, -478, -476, -475, -471, -470, -464, -463, -461, -460, -458, 7735, -456, -457, -454, -449, -446, -444, -437, -435, -429, 7766, -422, -421, -417, -416, -412, 7780, -411, -408, -407, -405, -404, -403, -402, -401, -398, -396, -394, -393, 7802, -388, -386, -382, -380, -378, -376, -375, -371, -370, -367, -366, -361, -360, -357, -354, -353, -350, -349, -346, -341, -337, -336, -333, -331, -330, -329, -327, -321, -319, -317, 7876, -315, -314, -312, -311, -310, -309, -308, -307, -306, -305, -303, -302, -297, -295, -292, -290, -289, -288, -287, -285, -283, -281, -280, -278, -274, -272, -271, -269, -268, -267, -261, -259, -258, 16125, -256, -255, -254, -257, -252, -251, -248, -247, -246, 7944, 7945, -242, -241, -237, -236, 7957, -234, -230, -229, 7962, -228, -224, 7968, -222, -221, -220, -219, 7974, -217, -216, -215, -214, -212, -211, -209, -208, 7985, -206, -205, -204, -203, -202, -201, -200, -199, -198, -196, 8000, -191, -185, -184, -182, -181, -179, 8014, -178, -177, -175, -172, -170, -169, 8023, -167, -163, 8029, -158, -154, -153, 8038, -150, -149, -148, 8044, -146, -145, 8047, -143, -141, -135, -134, -133, -131, -130, -129, -124, -121, -120, -119, -116, -115, -114, -113, -110, -109, -108, -106, -104, -103, 8089, -101, -100, -98, -97, -95, -94, -93, -92, -91, -90, -89, -88, -85, -80, 8112, -78, -79, -76, -75, -74, -73, -72, -70, -67, -63, 8131, -61, -60, -59, 8135, -56, -55, -57, -53, -54, -50, -49, -46, -45, -43, -42, -41, -40, -38, -37, -36, -35, -34, -33, -32, -30, -29, -28, -26, 8167, -25, -23, -21, -19, -18, -17, -16, -15, -14, -13, 8180, -2, -10, -8, -7, -5, -4, -3, -1}\n",
      "......\n",
      " \n",
      " \n",
      "housing : \n",
      "{'no', 'yes'}\n",
      "......\n",
      " \n",
      " \n",
      "loan : \n",
      "{'no', 'yes'}\n",
      "......\n",
      " \n",
      " \n",
      "contact : \n",
      "{'cellular', 'telephone'}\n",
      "......\n",
      " \n",
      " \n",
      "day : \n",
      "{1, 2, 3, 4, 5, 6, 7, 8, 9, 10, 11, 12, 13, 14, 15, 16, 17, 18, 19, 20, 21, 22, 23, 24, 25, 26, 27, 28, 29, 30, 31}\n",
      "......\n",
      " \n",
      " \n",
      "month : \n",
      "{'jan', 'feb', 'jun', 'oct', 'may', 'mar', 'aug', 'dec', 'sep', 'apr', 'nov', 'jul'}\n",
      "......\n",
      " \n",
      " \n",
      "duration : \n",
      "{2053, 6, 7, 8, 9, 10, 11, 12, 13, 14, 15, 16, 17, 18, 19, 20, 21, 22, 23, 24, 25, 26, 27, 28, 29, 5, 31, 32, 33, 34, 35, 36, 37, 38, 39, 40, 41, 42, 43, 44, 45, 46, 47, 48, 49, 50, 51, 52, 53, 54, 55, 56, 57, 58, 59, 60, 61, 62, 63, 64, 65, 66, 67, 68, 69, 70, 71, 72, 73, 74, 75, 76, 77, 78, 79, 80, 81, 82, 83, 84, 85, 86, 87, 88, 89, 90, 91, 92, 93, 94, 95, 96, 97, 98, 99, 100, 101, 102, 103, 104, 105, 106, 107, 108, 109, 110, 111, 112, 113, 114, 115, 116, 117, 118, 119, 120, 121, 122, 123, 124, 125, 126, 127, 128, 129, 130, 131, 132, 133, 134, 135, 136, 137, 138, 139, 140, 141, 142, 143, 144, 145, 146, 147, 148, 149, 150, 151, 152, 153, 154, 155, 156, 157, 158, 159, 160, 161, 162, 163, 164, 165, 166, 167, 168, 169, 170, 171, 172, 173, 174, 175, 176, 177, 178, 179, 180, 181, 182, 183, 184, 185, 186, 187, 188, 189, 190, 191, 192, 193, 194, 195, 196, 197, 198, 199, 200, 201, 202, 203, 204, 205, 206, 207, 208, 209, 210, 211, 212, 213, 214, 215, 216, 217, 218, 219, 220, 221, 222, 223, 224, 225, 226, 227, 228, 229, 230, 231, 232, 233, 234, 235, 236, 237, 238, 239, 240, 241, 242, 243, 244, 245, 246, 247, 248, 249, 250, 251, 252, 253, 254, 255, 256, 257, 258, 259, 260, 261, 262, 263, 264, 265, 266, 267, 268, 269, 270, 271, 272, 273, 274, 275, 276, 277, 278, 279, 280, 281, 282, 283, 284, 285, 286, 287, 288, 289, 290, 291, 292, 293, 294, 295, 296, 297, 298, 299, 300, 301, 302, 303, 304, 305, 306, 307, 308, 309, 310, 311, 312, 313, 314, 315, 316, 317, 318, 319, 320, 321, 322, 323, 324, 325, 326, 327, 328, 329, 330, 331, 332, 333, 334, 335, 336, 337, 338, 339, 340, 341, 342, 343, 344, 345, 346, 347, 348, 349, 350, 351, 352, 353, 354, 355, 356, 357, 358, 359, 360, 361, 362, 363, 364, 365, 366, 367, 368, 369, 370, 371, 372, 373, 374, 375, 376, 377, 378, 379, 380, 381, 382, 383, 384, 385, 386, 387, 388, 389, 390, 391, 392, 393, 394, 395, 396, 397, 398, 399, 400, 401, 402, 403, 404, 405, 406, 407, 408, 409, 410, 411, 412, 413, 414, 415, 416, 417, 418, 419, 420, 421, 422, 423, 424, 425, 426, 427, 428, 429, 430, 431, 432, 433, 434, 435, 436, 437, 438, 439, 440, 441, 442, 443, 444, 445, 446, 447, 448, 449, 450, 451, 452, 453, 454, 455, 456, 457, 458, 459, 460, 461, 462, 463, 464, 465, 466, 467, 469, 470, 471, 2129, 473, 472, 475, 476, 474, 478, 479, 477, 480, 482, 483, 484, 485, 486, 487, 488, 489, 490, 491, 492, 493, 494, 495, 496, 497, 498, 499, 500, 501, 502, 503, 504, 505, 506, 507, 508, 509, 510, 511, 512, 513, 515, 516, 517, 518, 519, 520, 521, 522, 523, 524, 525, 526, 527, 528, 529, 530, 531, 532, 533, 534, 535, 536, 537, 538, 539, 540, 541, 542, 543, 544, 545, 546, 547, 549, 550, 551, 552, 553, 554, 556, 557, 559, 561, 562, 563, 564, 565, 566, 567, 568, 569, 570, 572, 573, 574, 576, 577, 578, 579, 580, 581, 582, 583, 585, 586, 588, 589, 590, 591, 592, 593, 594, 595, 596, 597, 598, 599, 600, 601, 602, 603, 604, 605, 606, 607, 608, 609, 610, 611, 612, 613, 614, 615, 616, 617, 618, 619, 620, 621, 622, 623, 625, 627, 628, 629, 630, 631, 632, 633, 634, 635, 636, 637, 638, 639, 640, 642, 644, 645, 648, 649, 651, 652, 653, 654, 655, 657, 658, 659, 660, 661, 662, 663, 664, 665, 666, 667, 668, 669, 670, 671, 673, 674, 675, 676, 678, 679, 680, 2062, 682, 681, 685, 686, 687, 690, 691, 692, 693, 694, 696, 697, 698, 699, 700, 701, 702, 704, 705, 706, 707, 708, 711, 712, 714, 715, 716, 718, 720, 722, 725, 727, 728, 729, 730, 731, 732, 733, 737, 738, 739, 742, 744, 745, 746, 747, 2184, 750, 751, 754, 755, 30, 757, 758, 759, 761, 762, 765, 766, 767, 768, 771, 772, 773, 774, 775, 776, 778, 779, 781, 783, 784, 786, 787, 788, 790, 792, 795, 796, 798, 800, 801, 804, 805, 806, 807, 808, 809, 810, 811, 813, 814, 815, 816, 817, 818, 821, 822, 824, 825, 827, 828, 829, 830, 832, 836, 837, 838, 839, 840, 841, 843, 844, 845, 846, 847, 848, 849, 852, 854, 855, 859, 861, 862, 863, 865, 867, 868, 873, 874, 875, 877, 878, 880, 881, 882, 883, 884, 885, 888, 894, 895, 896, 898, 902, 903, 905, 906, 907, 908, 910, 911, 918, 921, 924, 2219, 925, 929, 930, 934, 940, 944, 945, 949, 951, 952, 954, 957, 959, 961, 963, 968, 970, 973, 978, 981, 984, 986, 992, 993, 994, 997, 1002, 1005, 1007, 1008, 1010, 1013, 1015, 1017, 1019, 1024, 1026, 1028, 1030, 1032, 1038, 1042, 1046, 1047, 1055, 1057, 1058, 1062, 1063, 1064, 1065, 1074, 1075, 1076, 1078, 1081, 1084, 1091, 1095, 1104, 1108, 1109, 1114, 1118, 1121, 1126, 1127, 1130, 1133, 1135, 1138, 1139, 1141, 1145, 1148, 1152, 1156, 1160, 1161, 1164, 1166, 1173, 1174, 1175, 1176, 1178, 1182, 1184, 1185, 1187, 1190, 1193, 1195, 1199, 1203, 1205, 1207, 1210, 1223, 1232, 1233, 1237, 1248, 1254, 1258, 1259, 1265, 1277, 1307, 1313, 1326, 1337, 1341, 1347, 1353, 1357, 1359, 1361, 1364, 1365, 1366, 1370, 1388, 1405, 1410, 1416, 1422, 1426, 1434, 1435, 1452, 1462, 1472, 1512, 1514, 1516, 1529, 1548, 1551, 1554, 1573, 1579, 1594, 1598, 1616, 1628, 1658, 1691, 1702, 1710, 1723, 1745, 1804, 1806, 1823, 1835, 481, 1916, 1925, 1962}\n",
      "......\n",
      " \n",
      " \n",
      "campaign : \n",
      "{1, 2, 3, 4, 5, 6, 7, 8, 9, 10, 11, 12, 13, 14, 15, 16}\n",
      "......\n",
      " \n",
      " \n",
      "pdays : \n",
      "{1, 2, 3, 4, 5, 6, 7, 8, 9, 10, 12, 13, 14, 15, 17, 18, 19, 20, 21, 22, 24, 25, 26, 27, 28, 29, 30, 31, 32, 33, 34, 35, 36, 37, 38, 39, 40, 41, 42, 43, 44, 45, 46, 47, 48, 49, 50, 51, 52, 53, 54, 55, 56, 57, 58, 59, 60, 61, 62, 63, 64, 65, 66, 67, 68, 69, 70, 71, 72, 73, 74, 75, 76, 77, 78, 79, 80, 81, 82, 83, 84, 85, 86, 87, 88, 89, 90, 91, 92, 93, 94, 95, 96, 97, 98, 99, 100, 101, 102, 103, 104, 105, 106, 107, 108, 109, 110, 111, 112, 113, 114, 115, 116, 117, 118, 119, 120, 121, 122, 123, 124, 125, 126, 127, 128, 129, 130, 131, 132, 133, 134, 135, 136, 137, 138, 139, 140, 141, 142, 143, 144, 145, 146, 147, 148, 149, 150, 151, 152, 153, 154, 155, 156, 157, 158, 159, 160, 161, 162, 163, 164, 165, 166, 167, 168, 169, 170, 171, 172, 173, 174, 175, 176, 177, 178, 179, 180, 181, 182, 183, 184, 185, 186, 187, 188, 189, 190, 191, 192, 193, 194, 195, 196, 197, 198, 199, 200, 201, 202, 203, 204, 205, 206, 207, 208, 209, 210, 211, 212, 213, 214, 215, 216, 217, 218, 219, 220, 221, 222, 223, 224, 225, 226, 227, 228, 229, 230, 231, 232, 233, 234, 235, 236, 237, 238, 239, 240, 241, 242, 243, 244, 245, 246, 247, 248, 249, 250, 251, 252, 253, 254, 255, 256, 257, 258, 259, 260, 261, 262, 263, 264, 265, 266, 267, 268, 269, 270, 271, 272, 273, 274, 275, 276, 277, 278, 279, 280, 281, 282, 283, 284, 285, 286, 287, 288, 289, 290, 291, 292, 293, 294, 295, 296, 297, 298, 299, 300, 301, 302, 303, 304, 305, 306, 307, 308, 309, 310, 311, 312, 313, 314, 315, 316, 317, 318, 319, 320, 321, 322, 323, 324, 325, 326, 327, 328, 329, 330, 331, 332, 333, 334, 335, 336, 337, 338, 339, 340, 341, 342, 343, 344, 345, 346, 347, 348, 349, 350, 351, 352, 353, 354, 355, 356, 357, 358, 359, 360, 361, 362, 363, 364, 365, 366, 367, 368, 369, 370, 371, 372, 373, 374, 375, 376, 377, 378, 379, 380, 381, 382, 383, 384, 385, 386, 387, 388, 389, 390, 391, 392, 393, 394, 395, 396, 397, 398, 399, 401, 403, 405, 407, 409, 410, 412, 413, 414, 415, 419, 420, 421, 422, 424, 425, 426, 427, 428, 430, 431, 432, 433, 434, 435, 436, 437, 439, 440, 442, 444, 445, 446, 449, 450, 452, 454, 455, 456, 457, 458, 459, 460, 461, 462, 463, 464, 465, 466, 467, 469, 470, 472, 474, 475, 476, 477, 478, 479, 480, 481, 484, 485, 486, 489, 490, 491, 492, 493, 495, 500, 503, 504, 508, 511, 515, 518, 520, 521, 529, 530, 532, 535, 536, 541, 543, 544, 547, 550, 551, 553, 555, 558, 561, 562, 578, 579, 585, 586, 587, 589, 595, 603, 616, 626, 633, 648, 655, 667, 674, 690, 717, 728, 749, 756, 760, 761, 769, 774, 776, 779, 784, 792, 804, 805, 826, 828, 831, 842, 854, 871}\n",
      "......\n",
      " \n",
      " \n",
      "previous : \n",
      "{1, 2, 3, 4, 5, 6, 7, 8, 9, 10, 11, 12, 13, 14, 15, 16, 17, 18, 275, 20, 19, 22, 23, 24, 25, 26, 27, 21, 29, 30, 28, 32, 35, 37, 38, 40, 51, 55, 58}\n",
      "......\n",
      " \n",
      " \n",
      "poutcome : \n",
      "{'success', 'other', 'failure'}\n",
      "......\n",
      " \n",
      " \n",
      "y : \n",
      "{'no', 'yes'}\n",
      "......\n",
      " \n",
      " \n"
     ]
    }
   ],
   "source": [
    "for col in df.columns:\n",
    "    print(col,': ')\n",
    "    print(set(df[col].unique()))\n",
    "    print(\"......\")\n",
    "    print(\" \")\n",
    "    print(\" \")"
   ]
  },
  {
   "cell_type": "markdown",
   "id": "d0617df0",
   "metadata": {},
   "source": [
    "## Outlier"
   ]
  },
  {
   "cell_type": "markdown",
   "id": "ffadab5f",
   "metadata": {},
   "source": [
    "Mengetahui statistika data"
   ]
  },
  {
   "cell_type": "code",
   "execution_count": 20,
   "id": "6ca07323",
   "metadata": {},
   "outputs": [
    {
     "data": {
      "text/html": [
       "<div>\n",
       "<style scoped>\n",
       "    .dataframe tbody tr th:only-of-type {\n",
       "        vertical-align: middle;\n",
       "    }\n",
       "\n",
       "    .dataframe tbody tr th {\n",
       "        vertical-align: top;\n",
       "    }\n",
       "\n",
       "    .dataframe thead th {\n",
       "        text-align: right;\n",
       "    }\n",
       "</style>\n",
       "<table border=\"1\" class=\"dataframe\">\n",
       "  <thead>\n",
       "    <tr style=\"text-align: right;\">\n",
       "      <th></th>\n",
       "      <th>age</th>\n",
       "      <th>balance</th>\n",
       "      <th>day</th>\n",
       "      <th>duration</th>\n",
       "      <th>campaign</th>\n",
       "      <th>pdays</th>\n",
       "      <th>previous</th>\n",
       "    </tr>\n",
       "  </thead>\n",
       "  <tbody>\n",
       "    <tr>\n",
       "      <th>count</th>\n",
       "      <td>7842.000000</td>\n",
       "      <td>7842.000000</td>\n",
       "      <td>7842.000000</td>\n",
       "      <td>7842.000000</td>\n",
       "      <td>7842.000000</td>\n",
       "      <td>7842.000000</td>\n",
       "      <td>7842.000000</td>\n",
       "    </tr>\n",
       "    <tr>\n",
       "      <th>mean</th>\n",
       "      <td>40.783856</td>\n",
       "      <td>1552.343280</td>\n",
       "      <td>14.260010</td>\n",
       "      <td>261.290615</td>\n",
       "      <td>2.064269</td>\n",
       "      <td>223.252869</td>\n",
       "      <td>3.184264</td>\n",
       "    </tr>\n",
       "    <tr>\n",
       "      <th>std</th>\n",
       "      <td>11.282964</td>\n",
       "      <td>3084.580003</td>\n",
       "      <td>7.885328</td>\n",
       "      <td>236.203272</td>\n",
       "      <td>1.566109</td>\n",
       "      <td>111.830127</td>\n",
       "      <td>4.614190</td>\n",
       "    </tr>\n",
       "    <tr>\n",
       "      <th>min</th>\n",
       "      <td>18.000000</td>\n",
       "      <td>-1884.000000</td>\n",
       "      <td>1.000000</td>\n",
       "      <td>5.000000</td>\n",
       "      <td>1.000000</td>\n",
       "      <td>1.000000</td>\n",
       "      <td>1.000000</td>\n",
       "    </tr>\n",
       "    <tr>\n",
       "      <th>25%</th>\n",
       "      <td>32.000000</td>\n",
       "      <td>162.000000</td>\n",
       "      <td>7.000000</td>\n",
       "      <td>113.000000</td>\n",
       "      <td>1.000000</td>\n",
       "      <td>133.000000</td>\n",
       "      <td>1.000000</td>\n",
       "    </tr>\n",
       "    <tr>\n",
       "      <th>50%</th>\n",
       "      <td>38.000000</td>\n",
       "      <td>595.000000</td>\n",
       "      <td>14.000000</td>\n",
       "      <td>194.000000</td>\n",
       "      <td>2.000000</td>\n",
       "      <td>195.000000</td>\n",
       "      <td>2.000000</td>\n",
       "    </tr>\n",
       "    <tr>\n",
       "      <th>75%</th>\n",
       "      <td>47.000000</td>\n",
       "      <td>1733.750000</td>\n",
       "      <td>20.000000</td>\n",
       "      <td>324.000000</td>\n",
       "      <td>2.000000</td>\n",
       "      <td>326.000000</td>\n",
       "      <td>4.000000</td>\n",
       "    </tr>\n",
       "    <tr>\n",
       "      <th>max</th>\n",
       "      <td>89.000000</td>\n",
       "      <td>81204.000000</td>\n",
       "      <td>31.000000</td>\n",
       "      <td>2219.000000</td>\n",
       "      <td>16.000000</td>\n",
       "      <td>871.000000</td>\n",
       "      <td>275.000000</td>\n",
       "    </tr>\n",
       "  </tbody>\n",
       "</table>\n",
       "</div>"
      ],
      "text/plain": [
       "               age       balance          day     duration     campaign  \\\n",
       "count  7842.000000   7842.000000  7842.000000  7842.000000  7842.000000   \n",
       "mean     40.783856   1552.343280    14.260010   261.290615     2.064269   \n",
       "std      11.282964   3084.580003     7.885328   236.203272     1.566109   \n",
       "min      18.000000  -1884.000000     1.000000     5.000000     1.000000   \n",
       "25%      32.000000    162.000000     7.000000   113.000000     1.000000   \n",
       "50%      38.000000    595.000000    14.000000   194.000000     2.000000   \n",
       "75%      47.000000   1733.750000    20.000000   324.000000     2.000000   \n",
       "max      89.000000  81204.000000    31.000000  2219.000000    16.000000   \n",
       "\n",
       "             pdays     previous  \n",
       "count  7842.000000  7842.000000  \n",
       "mean    223.252869     3.184264  \n",
       "std     111.830127     4.614190  \n",
       "min       1.000000     1.000000  \n",
       "25%     133.000000     1.000000  \n",
       "50%     195.000000     2.000000  \n",
       "75%     326.000000     4.000000  \n",
       "max     871.000000   275.000000  "
      ]
     },
     "execution_count": 20,
     "metadata": {},
     "output_type": "execute_result"
    }
   ],
   "source": [
    "df.describe()"
   ]
  },
  {
   "cell_type": "markdown",
   "id": "9a71a205",
   "metadata": {},
   "source": [
    "Mengecek apakah ada outlier?"
   ]
  },
  {
   "cell_type": "code",
   "execution_count": 21,
   "id": "28b2ce9b",
   "metadata": {},
   "outputs": [
    {
     "data": {
      "text/plain": [
       "Text(0.5, 1.0, '')"
      ]
     },
     "execution_count": 21,
     "metadata": {},
     "output_type": "execute_result"
    },
    {
     "data": {
      "image/png": "[encoded data removed]",
      "text/plain": [
       "<Figure size 1080x720 with 7 Axes>"
      ]
     },
     "metadata": {
      "needs_background": "light"
     },
     "output_type": "display_data"
    }
   ],
   "source": [
    "plt.figure(figsize=(15,10))\n",
    "\n",
    "plt.subplot(3, 3, 1)\n",
    "fig = df.boxplot(column='age')\n",
    "fig.set_title('')\n",
    "\n",
    "plt.subplot(3,3, 2)\n",
    "fig = df.boxplot(column='balance')\n",
    "fig.set_title('')\n",
    "\n",
    "plt.subplot(3, 3, 3)\n",
    "fig = df.boxplot(column='day')\n",
    "fig.set_title('')\n",
    "\n",
    "plt.subplot(3, 3, 4)\n",
    "fig = df.boxplot(column='duration')\n",
    "fig.set_title('')\n",
    "\n",
    "plt.subplot(3, 3, 5)\n",
    "fig = df.boxplot(column='pdays')\n",
    "fig.set_title('')\n",
    "\n",
    "plt.subplot(3, 3, 6)\n",
    "fig = df.boxplot(column='previous')\n",
    "fig.set_title('')\n",
    "\n",
    "plt.subplot(3, 3, 7)\n",
    "fig = df.boxplot(column='campaign')\n",
    "fig.set_title('')"
   ]
  },
  {
   "cell_type": "markdown",
   "id": "5404bd27",
   "metadata": {},
   "source": [
    "Terlihat bahwa age, balance, duration, pdays, previous dan campaign memiliki outliers."
   ]
  },
  {
   "cell_type": "markdown",
   "id": "7d2171d9",
   "metadata": {},
   "source": [
    "Menghapus outliers"
   ]
  },
  {
   "cell_type": "code",
   "execution_count": 22,
   "id": "e8fdf0b1",
   "metadata": {},
   "outputs": [],
   "source": [
    "def remove_outlier(data):\n",
    "    data = data.sort_values()\n",
    "    Q1=data.quantile(0.25)\n",
    "    Q3=data.quantile(0.75)\n",
    "    \n",
    "    iqr = Q3 - Q1\n",
    "    \n",
    "    IQR = Q3 - Q1\n",
    "    upper = data > (Q3+1.5*IQR)\n",
    "     # Below Lower bound\n",
    "    lower = data < (Q1-1.5*IQR)\n",
    "    return data.index[upper]"
   ]
  },
  {
   "cell_type": "code",
   "execution_count": 23,
   "id": "746f1300",
   "metadata": {},
   "outputs": [],
   "source": [
    "df.drop(remove_outlier(df['age']), inplace=True)\n",
    "df.drop(remove_outlier(df['balance']), inplace=True)\n",
    "df.drop(remove_outlier(df['duration']), inplace=True)\n",
    "df.drop(remove_outlier(df['pdays']), inplace=True)\n",
    "df.drop(remove_outlier(df['previous']), inplace=True)\n",
    "df.drop(remove_outlier(df['campaign']), inplace=True)"
   ]
  },
  {
   "cell_type": "code",
   "execution_count": 24,
   "id": "0c7e0d74",
   "metadata": {},
   "outputs": [
    {
     "name": "stdout",
     "output_type": "stream",
     "text": [
      "Object `outlier` not found.\n"
     ]
    }
   ],
   "source": [
    "Mengecek kembali apakah ada outlier?"
   ]
  },
  {
   "cell_type": "code",
   "execution_count": null,
   "id": "2a908b8b",
   "metadata": {},
   "outputs": [],
   "source": [
    "Mengecek kembali apakah ada outlier"
   ]
  },
  {
   "cell_type": "markdown",
   "id": "6d11cd31",
   "metadata": {},
   "source": [
    "Mengecek kembali apakah ada outlier"
   ]
  },
  {
   "cell_type": "code",
   "execution_count": 25,
   "id": "cbd745ff",
   "metadata": {},
   "outputs": [
    {
     "data": {
      "text/plain": [
       "Text(0.5, 1.0, '')"
      ]
     },
     "execution_count": 25,
     "metadata": {},
     "output_type": "execute_result"
    },
    {
     "data": {
      "image/png": "[encoded data removed]",
      "text/plain": [
       "<Figure size 1080x720 with 7 Axes>"
      ]
     },
     "metadata": {
      "needs_background": "light"
     },
     "output_type": "display_data"
    }
   ],
   "source": [
    "plt.figure(figsize=(15,10))\n",
    "\n",
    "plt.subplot(3, 3, 1)\n",
    "fig = df.boxplot(column='age')\n",
    "fig.set_title('')\n",
    "\n",
    "plt.subplot(3,3, 2)\n",
    "fig = df.boxplot(column='balance')\n",
    "fig.set_title('')\n",
    "\n",
    "plt.subplot(3, 3, 3)\n",
    "fig = df.boxplot(column='day')\n",
    "fig.set_title('')\n",
    "\n",
    "plt.subplot(3, 3, 4)\n",
    "fig = df.boxplot(column='duration')\n",
    "fig.set_title('')\n",
    "\n",
    "plt.subplot(3, 3, 5)\n",
    "fig = df.boxplot(column='pdays')\n",
    "fig.set_title('')\n",
    "\n",
    "plt.subplot(3, 3, 6)\n",
    "fig = df.boxplot(column='previous')\n",
    "fig.set_title('')\n",
    "\n",
    "plt.subplot(3, 3, 7)\n",
    "fig = df.boxplot(column='campaign')\n",
    "fig.set_title('')"
   ]
  },
  {
   "cell_type": "markdown",
   "id": "89797655",
   "metadata": {},
   "source": [
    "## Visualisasi"
   ]
  },
  {
   "cell_type": "code",
   "execution_count": 26,
   "id": "c6fbda6a",
   "metadata": {},
   "outputs": [
    {
     "data": {
      "text/html": [
       "<div>\n",
       "<style scoped>\n",
       "    .dataframe tbody tr th:only-of-type {\n",
       "        vertical-align: middle;\n",
       "    }\n",
       "\n",
       "    .dataframe tbody tr th {\n",
       "        vertical-align: top;\n",
       "    }\n",
       "\n",
       "    .dataframe thead th {\n",
       "        text-align: right;\n",
       "    }\n",
       "</style>\n",
       "<table border=\"1\" class=\"dataframe\">\n",
       "  <thead>\n",
       "    <tr style=\"text-align: right;\">\n",
       "      <th></th>\n",
       "      <th>age</th>\n",
       "      <th>job</th>\n",
       "      <th>marital</th>\n",
       "      <th>education</th>\n",
       "      <th>default</th>\n",
       "      <th>balance</th>\n",
       "      <th>housing</th>\n",
       "      <th>loan</th>\n",
       "      <th>contact</th>\n",
       "      <th>day</th>\n",
       "      <th>month</th>\n",
       "      <th>duration</th>\n",
       "      <th>campaign</th>\n",
       "      <th>pdays</th>\n",
       "      <th>previous</th>\n",
       "      <th>poutcome</th>\n",
       "      <th>y</th>\n",
       "    </tr>\n",
       "  </thead>\n",
       "  <tbody>\n",
       "    <tr>\n",
       "      <th>24060</th>\n",
       "      <td>33</td>\n",
       "      <td>admin.</td>\n",
       "      <td>married</td>\n",
       "      <td>tertiary</td>\n",
       "      <td>no</td>\n",
       "      <td>882</td>\n",
       "      <td>no</td>\n",
       "      <td>no</td>\n",
       "      <td>telephone</td>\n",
       "      <td>21</td>\n",
       "      <td>oct</td>\n",
       "      <td>39</td>\n",
       "      <td>1</td>\n",
       "      <td>151</td>\n",
       "      <td>3</td>\n",
       "      <td>failure</td>\n",
       "      <td>no</td>\n",
       "    </tr>\n",
       "    <tr>\n",
       "      <th>24062</th>\n",
       "      <td>42</td>\n",
       "      <td>admin.</td>\n",
       "      <td>single</td>\n",
       "      <td>secondary</td>\n",
       "      <td>no</td>\n",
       "      <td>-247</td>\n",
       "      <td>yes</td>\n",
       "      <td>yes</td>\n",
       "      <td>telephone</td>\n",
       "      <td>21</td>\n",
       "      <td>oct</td>\n",
       "      <td>519</td>\n",
       "      <td>1</td>\n",
       "      <td>166</td>\n",
       "      <td>1</td>\n",
       "      <td>other</td>\n",
       "      <td>yes</td>\n",
       "    </tr>\n",
       "    <tr>\n",
       "      <th>24064</th>\n",
       "      <td>33</td>\n",
       "      <td>services</td>\n",
       "      <td>married</td>\n",
       "      <td>secondary</td>\n",
       "      <td>no</td>\n",
       "      <td>3444</td>\n",
       "      <td>yes</td>\n",
       "      <td>no</td>\n",
       "      <td>telephone</td>\n",
       "      <td>21</td>\n",
       "      <td>oct</td>\n",
       "      <td>144</td>\n",
       "      <td>1</td>\n",
       "      <td>91</td>\n",
       "      <td>4</td>\n",
       "      <td>failure</td>\n",
       "      <td>yes</td>\n",
       "    </tr>\n",
       "    <tr>\n",
       "      <th>24072</th>\n",
       "      <td>36</td>\n",
       "      <td>management</td>\n",
       "      <td>married</td>\n",
       "      <td>tertiary</td>\n",
       "      <td>no</td>\n",
       "      <td>2415</td>\n",
       "      <td>yes</td>\n",
       "      <td>no</td>\n",
       "      <td>telephone</td>\n",
       "      <td>22</td>\n",
       "      <td>oct</td>\n",
       "      <td>73</td>\n",
       "      <td>1</td>\n",
       "      <td>86</td>\n",
       "      <td>4</td>\n",
       "      <td>other</td>\n",
       "      <td>no</td>\n",
       "    </tr>\n",
       "    <tr>\n",
       "      <th>24077</th>\n",
       "      <td>36</td>\n",
       "      <td>management</td>\n",
       "      <td>married</td>\n",
       "      <td>tertiary</td>\n",
       "      <td>no</td>\n",
       "      <td>0</td>\n",
       "      <td>yes</td>\n",
       "      <td>no</td>\n",
       "      <td>telephone</td>\n",
       "      <td>23</td>\n",
       "      <td>oct</td>\n",
       "      <td>140</td>\n",
       "      <td>1</td>\n",
       "      <td>143</td>\n",
       "      <td>3</td>\n",
       "      <td>failure</td>\n",
       "      <td>yes</td>\n",
       "    </tr>\n",
       "  </tbody>\n",
       "</table>\n",
       "</div>"
      ],
      "text/plain": [
       "       age         job  marital  education default  balance housing loan  \\\n",
       "24060   33      admin.  married   tertiary      no      882      no   no   \n",
       "24062   42      admin.   single  secondary      no     -247     yes  yes   \n",
       "24064   33    services  married  secondary      no     3444     yes   no   \n",
       "24072   36  management  married   tertiary      no     2415     yes   no   \n",
       "24077   36  management  married   tertiary      no        0     yes   no   \n",
       "\n",
       "         contact  day month  duration  campaign  pdays  previous poutcome    y  \n",
       "24060  telephone   21   oct        39         1    151         3  failure   no  \n",
       "24062  telephone   21   oct       519         1    166         1    other  yes  \n",
       "24064  telephone   21   oct       144         1     91         4  failure  yes  \n",
       "24072  telephone   22   oct        73         1     86         4    other   no  \n",
       "24077  telephone   23   oct       140         1    143         3  failure  yes  "
      ]
     },
     "execution_count": 26,
     "metadata": {},
     "output_type": "execute_result"
    }
   ],
   "source": [
    "df.head()"
   ]
  },
  {
   "cell_type": "code",
   "execution_count": 27,
   "id": "be266fd3",
   "metadata": {},
   "outputs": [
    {
     "data": {
      "image/png": "[encoded data removed]",
      "text/plain": [
       "<Figure size 720x432 with 1 Axes>"
      ]
     },
     "metadata": {
      "needs_background": "light"
     },
     "output_type": "display_data"
    }
   ],
   "source": [
    "plt.figure(figsize=(10, 6))\n",
    " \n",
    "plt.title('Perbandingan client subscribed dan tidak subcribed trem desposit')\n",
    "sns.countplot(x ='y', data = df, palette='PuRd_r')\n",
    "\n",
    "plt.show()"
   ]
  },
  {
   "cell_type": "markdown",
   "id": "18b8fe12",
   "metadata": {},
   "source": [
    "Terlihat bahwa customer yang tidak subscribe lebih tinggi dari customer subscribe term desposit."
   ]
  },
  {
   "cell_type": "code",
   "execution_count": 28,
   "id": "a5df74ad",
   "metadata": {},
   "outputs": [
    {
     "data": {
      "image/png": "[encoded data removed]",
      "text/plain": [
       "<Figure size 1080x432 with 1 Axes>"
      ]
     },
     "metadata": {
      "needs_background": "light"
     },
     "output_type": "display_data"
    }
   ],
   "source": [
    "plt.figure(figsize=(15, 6))\n",
    "plt.title('Perbandingan client subscribed dan tidak subcribed trem desposit berdasarkan job')\n",
    "ax = sns.countplot(x = df['job'], hue=df[\"y\"], palette='PuRd_r')\n",
    "plt.show()"
   ]
  },
  {
   "cell_type": "code",
   "execution_count": 29,
   "id": "91494a10",
   "metadata": {},
   "outputs": [
    {
     "data": {
      "image/png": "[encoded data removed]",
      "text/plain": [
       "<Figure size 1080x432 with 1 Axes>"
      ]
     },
     "metadata": {
      "needs_background": "light"
     },
     "output_type": "display_data"
    }
   ],
   "source": [
    "plt.figure(figsize=(15, 6))\n",
    "plt.title('Perbandingan client subscribed dan tidak subcribed trem desposit berdasarkan education')\n",
    "ax = sns.countplot(x = df['education'], hue=df[\"y\"], palette='PuRd_r')\n",
    "plt.show()"
   ]
  },
  {
   "cell_type": "code",
   "execution_count": 30,
   "id": "eff2e5f1",
   "metadata": {},
   "outputs": [
    {
     "data": {
      "image/png": "[encoded data removed]",
      "text/plain": [
       "<Figure size 1080x432 with 1 Axes>"
      ]
     },
     "metadata": {
      "needs_background": "light"
     },
     "output_type": "display_data"
    }
   ],
   "source": [
    "plt.figure(figsize=(15, 6))\n",
    "plt.title('Perbandingan client subscribed dan tidak subcribed trem desposit berdasarkan marital')\n",
    "ax = sns.countplot(x = df['marital'], hue=df[\"y\"], palette='PuRd_r')\n",
    "plt.show()"
   ]
  },
  {
   "cell_type": "code",
   "execution_count": 31,
   "id": "bf4d85bd",
   "metadata": {},
   "outputs": [
    {
     "data": {
      "image/png": "[encoded data removed]",
      "text/plain": [
       "<Figure size 1080x432 with 1 Axes>"
      ]
     },
     "metadata": {
      "needs_background": "light"
     },
     "output_type": "display_data"
    }
   ],
   "source": [
    "plt.figure(figsize=(15, 6))\n",
    "plt.title('Perbandingan client subscribed dan tidak subcribed trem desposit berdasarkan poutcome')\n",
    "ax = sns.countplot(x = df['poutcome'], hue=df[\"y\"], palette='PuRd_r')\n",
    "plt.show()"
   ]
  },
  {
   "cell_type": "markdown",
   "id": "17cf1a59",
   "metadata": {},
   "source": [
    "## Preprocessing data for classification model"
   ]
  },
  {
   "cell_type": "markdown",
   "id": "d9aa4372",
   "metadata": {},
   "source": [
    "## Encoding"
   ]
  },
  {
   "cell_type": "markdown",
   "id": "cf2290aa",
   "metadata": {},
   "source": [
    "Tipe data kategorikal yang sering digunakan dibagi menjadi 2 yaitu Ordinal dan Nominal. \n",
    "\n",
    "- Untuk menangani Nominal Data, bisa menggunakan One Hot Enconding. One Hot Encoding bisa dilakukan dengan 2 cara yaitu melalui Library Scikit-Learn atau dengan method Get Dummies dari pandas.\n",
    "- Ordinal Data bisa ditreatment menggunakan method Replace dari Pandas atau menggunakan Sklearn Label Encoder."
   ]
  },
  {
   "cell_type": "code",
   "execution_count": 32,
   "id": "d0c7db4c",
   "metadata": {},
   "outputs": [
    {
     "name": "stdout",
     "output_type": "stream",
     "text": [
      "<class 'pandas.core.frame.DataFrame'>\n",
      "Int64Index: 5375 entries, 24060 to 45201\n",
      "Data columns (total 17 columns):\n",
      " #   Column     Non-Null Count  Dtype   \n",
      "---  ------     --------------  -----   \n",
      " 0   age        5375 non-null   int64   \n",
      " 1   job        5375 non-null   category\n",
      " 2   marital    5375 non-null   category\n",
      " 3   education  5375 non-null   category\n",
      " 4   default    5375 non-null   category\n",
      " 5   balance    5375 non-null   int64   \n",
      " 6   housing    5375 non-null   category\n",
      " 7   loan       5375 non-null   category\n",
      " 8   contact    5375 non-null   category\n",
      " 9   day        5375 non-null   int64   \n",
      " 10  month      5375 non-null   category\n",
      " 11  duration   5375 non-null   int64   \n",
      " 12  campaign   5375 non-null   int64   \n",
      " 13  pdays      5375 non-null   int64   \n",
      " 14  previous   5375 non-null   int64   \n",
      " 15  poutcome   5375 non-null   category\n",
      " 16  y          5375 non-null   category\n",
      "dtypes: category(10), int64(7)\n",
      "memory usage: 519.2 KB\n"
     ]
    }
   ],
   "source": [
    "df.info()"
   ]
  },
  {
   "cell_type": "code",
   "execution_count": 33,
   "id": "56a266e2",
   "metadata": {},
   "outputs": [],
   "source": [
    "numc = list(df.select_dtypes(include=['int64']).columns.values)\n",
    "catc = list(df.select_dtypes(include=['category']).columns.values)"
   ]
  },
  {
   "cell_type": "code",
   "execution_count": 34,
   "id": "78e21155",
   "metadata": {},
   "outputs": [
    {
     "data": {
      "text/plain": [
       "['age', 'balance', 'day', 'duration', 'campaign', 'pdays', 'previous']"
      ]
     },
     "execution_count": 34,
     "metadata": {},
     "output_type": "execute_result"
    }
   ],
   "source": [
    "numc"
   ]
  },
  {
   "cell_type": "code",
   "execution_count": 35,
   "id": "e9f31778",
   "metadata": {},
   "outputs": [
    {
     "data": {
      "text/plain": [
       "['job',\n",
       " 'marital',\n",
       " 'education',\n",
       " 'default',\n",
       " 'housing',\n",
       " 'loan',\n",
       " 'contact',\n",
       " 'month',\n",
       " 'poutcome',\n",
       " 'y']"
      ]
     },
     "execution_count": 35,
     "metadata": {},
     "output_type": "execute_result"
    }
   ],
   "source": [
    "catc"
   ]
  },
  {
   "cell_type": "markdown",
   "id": "fe1b997e",
   "metadata": {},
   "source": [
    "Data nominal : tipe data yang paling sederhana dimana nilai yang diberikan kepada item (record) hanya berupa label atau sekadar penamaan saja, tidak dapat diurut dan tidak dapat diukur. \n",
    "\n",
    "Data ordinal : Jika data kategori dapat diurutkan dari yang paling rendah sampai yang paling tinggi,"
   ]
  },
  {
   "cell_type": "code",
   "execution_count": 36,
   "id": "1db9580d",
   "metadata": {},
   "outputs": [],
   "source": [
    "nom = ['job','marital','default','contact', 'poutcome' ]\n",
    "ord = ['education','housing','loan','month','y']"
   ]
  },
  {
   "cell_type": "markdown",
   "id": "2d982fb1",
   "metadata": {},
   "source": [
    "Menerapkan **One-Hot Encoding** yaitu teknik yang merubah setiap nilai di dalam kolom menjadi kolom baru dan mengisinya dengan nilai biner yaitu 0 dan 1. Menggunakan dummies values di Pandas dengan menggunakan fungsi get_dummies() "
   ]
  },
  {
   "cell_type": "code",
   "execution_count": 37,
   "id": "270d1f77",
   "metadata": {},
   "outputs": [],
   "source": [
    "df = pd.get_dummies(data=df,columns=['job','marital','default','contact', 'poutcome'])"
   ]
  },
  {
   "cell_type": "markdown",
   "id": "8be30385",
   "metadata": {},
   "source": [
    "Menerapkan **Label encoding** mengubah setiap nilai dalam kolom menjadi angka yang berurutan. Dalam Python kita bisa gunakan Python Pandas untuk melakukan label encoding menggunakan library sci-kit LabelEncoder dan lakukan proses fit_transform() dengan kolom yang ingin dirubah"
   ]
  },
  {
   "cell_type": "code",
   "execution_count": 38,
   "id": "326d1765",
   "metadata": {},
   "outputs": [],
   "source": [
    "from sklearn.preprocessing import LabelEncoder\n",
    "encoder = LabelEncoder()\n",
    "\n",
    "for ord_col in ord:\n",
    "    df[ord_col] = encoder.fit_transform(df[ord_col])"
   ]
  },
  {
   "cell_type": "code",
   "execution_count": 39,
   "id": "35071d87",
   "metadata": {},
   "outputs": [
    {
     "data": {
      "text/html": [
       "<div>\n",
       "<style scoped>\n",
       "    .dataframe tbody tr th:only-of-type {\n",
       "        vertical-align: middle;\n",
       "    }\n",
       "\n",
       "    .dataframe tbody tr th {\n",
       "        vertical-align: top;\n",
       "    }\n",
       "\n",
       "    .dataframe thead th {\n",
       "        text-align: right;\n",
       "    }\n",
       "</style>\n",
       "<table border=\"1\" class=\"dataframe\">\n",
       "  <thead>\n",
       "    <tr style=\"text-align: right;\">\n",
       "      <th></th>\n",
       "      <th>age</th>\n",
       "      <th>education</th>\n",
       "      <th>balance</th>\n",
       "      <th>housing</th>\n",
       "      <th>loan</th>\n",
       "      <th>day</th>\n",
       "      <th>month</th>\n",
       "      <th>duration</th>\n",
       "      <th>campaign</th>\n",
       "      <th>pdays</th>\n",
       "      <th>...</th>\n",
       "      <th>marital_divorced</th>\n",
       "      <th>marital_married</th>\n",
       "      <th>marital_single</th>\n",
       "      <th>default_no</th>\n",
       "      <th>default_yes</th>\n",
       "      <th>contact_cellular</th>\n",
       "      <th>contact_telephone</th>\n",
       "      <th>poutcome_failure</th>\n",
       "      <th>poutcome_other</th>\n",
       "      <th>poutcome_success</th>\n",
       "    </tr>\n",
       "  </thead>\n",
       "  <tbody>\n",
       "    <tr>\n",
       "      <th>24060</th>\n",
       "      <td>33</td>\n",
       "      <td>2</td>\n",
       "      <td>882</td>\n",
       "      <td>0</td>\n",
       "      <td>0</td>\n",
       "      <td>21</td>\n",
       "      <td>10</td>\n",
       "      <td>39</td>\n",
       "      <td>1</td>\n",
       "      <td>151</td>\n",
       "      <td>...</td>\n",
       "      <td>0</td>\n",
       "      <td>1</td>\n",
       "      <td>0</td>\n",
       "      <td>1</td>\n",
       "      <td>0</td>\n",
       "      <td>0</td>\n",
       "      <td>1</td>\n",
       "      <td>1</td>\n",
       "      <td>0</td>\n",
       "      <td>0</td>\n",
       "    </tr>\n",
       "    <tr>\n",
       "      <th>24062</th>\n",
       "      <td>42</td>\n",
       "      <td>1</td>\n",
       "      <td>-247</td>\n",
       "      <td>1</td>\n",
       "      <td>1</td>\n",
       "      <td>21</td>\n",
       "      <td>10</td>\n",
       "      <td>519</td>\n",
       "      <td>1</td>\n",
       "      <td>166</td>\n",
       "      <td>...</td>\n",
       "      <td>0</td>\n",
       "      <td>0</td>\n",
       "      <td>1</td>\n",
       "      <td>1</td>\n",
       "      <td>0</td>\n",
       "      <td>0</td>\n",
       "      <td>1</td>\n",
       "      <td>0</td>\n",
       "      <td>1</td>\n",
       "      <td>0</td>\n",
       "    </tr>\n",
       "    <tr>\n",
       "      <th>24064</th>\n",
       "      <td>33</td>\n",
       "      <td>1</td>\n",
       "      <td>3444</td>\n",
       "      <td>1</td>\n",
       "      <td>0</td>\n",
       "      <td>21</td>\n",
       "      <td>10</td>\n",
       "      <td>144</td>\n",
       "      <td>1</td>\n",
       "      <td>91</td>\n",
       "      <td>...</td>\n",
       "      <td>0</td>\n",
       "      <td>1</td>\n",
       "      <td>0</td>\n",
       "      <td>1</td>\n",
       "      <td>0</td>\n",
       "      <td>0</td>\n",
       "      <td>1</td>\n",
       "      <td>1</td>\n",
       "      <td>0</td>\n",
       "      <td>0</td>\n",
       "    </tr>\n",
       "    <tr>\n",
       "      <th>24072</th>\n",
       "      <td>36</td>\n",
       "      <td>2</td>\n",
       "      <td>2415</td>\n",
       "      <td>1</td>\n",
       "      <td>0</td>\n",
       "      <td>22</td>\n",
       "      <td>10</td>\n",
       "      <td>73</td>\n",
       "      <td>1</td>\n",
       "      <td>86</td>\n",
       "      <td>...</td>\n",
       "      <td>0</td>\n",
       "      <td>1</td>\n",
       "      <td>0</td>\n",
       "      <td>1</td>\n",
       "      <td>0</td>\n",
       "      <td>0</td>\n",
       "      <td>1</td>\n",
       "      <td>0</td>\n",
       "      <td>1</td>\n",
       "      <td>0</td>\n",
       "    </tr>\n",
       "    <tr>\n",
       "      <th>24077</th>\n",
       "      <td>36</td>\n",
       "      <td>2</td>\n",
       "      <td>0</td>\n",
       "      <td>1</td>\n",
       "      <td>0</td>\n",
       "      <td>23</td>\n",
       "      <td>10</td>\n",
       "      <td>140</td>\n",
       "      <td>1</td>\n",
       "      <td>143</td>\n",
       "      <td>...</td>\n",
       "      <td>0</td>\n",
       "      <td>1</td>\n",
       "      <td>0</td>\n",
       "      <td>1</td>\n",
       "      <td>0</td>\n",
       "      <td>0</td>\n",
       "      <td>1</td>\n",
       "      <td>1</td>\n",
       "      <td>0</td>\n",
       "      <td>0</td>\n",
       "    </tr>\n",
       "    <tr>\n",
       "      <th>...</th>\n",
       "      <td>...</td>\n",
       "      <td>...</td>\n",
       "      <td>...</td>\n",
       "      <td>...</td>\n",
       "      <td>...</td>\n",
       "      <td>...</td>\n",
       "      <td>...</td>\n",
       "      <td>...</td>\n",
       "      <td>...</td>\n",
       "      <td>...</td>\n",
       "      <td>...</td>\n",
       "      <td>...</td>\n",
       "      <td>...</td>\n",
       "      <td>...</td>\n",
       "      <td>...</td>\n",
       "      <td>...</td>\n",
       "      <td>...</td>\n",
       "      <td>...</td>\n",
       "      <td>...</td>\n",
       "      <td>...</td>\n",
       "      <td>...</td>\n",
       "    </tr>\n",
       "    <tr>\n",
       "      <th>45190</th>\n",
       "      <td>32</td>\n",
       "      <td>1</td>\n",
       "      <td>136</td>\n",
       "      <td>0</td>\n",
       "      <td>0</td>\n",
       "      <td>16</td>\n",
       "      <td>9</td>\n",
       "      <td>206</td>\n",
       "      <td>1</td>\n",
       "      <td>188</td>\n",
       "      <td>...</td>\n",
       "      <td>0</td>\n",
       "      <td>1</td>\n",
       "      <td>0</td>\n",
       "      <td>1</td>\n",
       "      <td>0</td>\n",
       "      <td>1</td>\n",
       "      <td>0</td>\n",
       "      <td>0</td>\n",
       "      <td>0</td>\n",
       "      <td>1</td>\n",
       "    </tr>\n",
       "    <tr>\n",
       "      <th>45193</th>\n",
       "      <td>28</td>\n",
       "      <td>2</td>\n",
       "      <td>159</td>\n",
       "      <td>0</td>\n",
       "      <td>0</td>\n",
       "      <td>16</td>\n",
       "      <td>9</td>\n",
       "      <td>449</td>\n",
       "      <td>2</td>\n",
       "      <td>33</td>\n",
       "      <td>...</td>\n",
       "      <td>0</td>\n",
       "      <td>0</td>\n",
       "      <td>1</td>\n",
       "      <td>1</td>\n",
       "      <td>0</td>\n",
       "      <td>1</td>\n",
       "      <td>0</td>\n",
       "      <td>0</td>\n",
       "      <td>0</td>\n",
       "      <td>1</td>\n",
       "    </tr>\n",
       "    <tr>\n",
       "      <th>45194</th>\n",
       "      <td>59</td>\n",
       "      <td>2</td>\n",
       "      <td>138</td>\n",
       "      <td>1</td>\n",
       "      <td>1</td>\n",
       "      <td>16</td>\n",
       "      <td>9</td>\n",
       "      <td>162</td>\n",
       "      <td>2</td>\n",
       "      <td>187</td>\n",
       "      <td>...</td>\n",
       "      <td>0</td>\n",
       "      <td>1</td>\n",
       "      <td>0</td>\n",
       "      <td>1</td>\n",
       "      <td>0</td>\n",
       "      <td>1</td>\n",
       "      <td>0</td>\n",
       "      <td>1</td>\n",
       "      <td>0</td>\n",
       "      <td>0</td>\n",
       "    </tr>\n",
       "    <tr>\n",
       "      <th>45195</th>\n",
       "      <td>68</td>\n",
       "      <td>1</td>\n",
       "      <td>1146</td>\n",
       "      <td>0</td>\n",
       "      <td>0</td>\n",
       "      <td>16</td>\n",
       "      <td>9</td>\n",
       "      <td>212</td>\n",
       "      <td>1</td>\n",
       "      <td>187</td>\n",
       "      <td>...</td>\n",
       "      <td>0</td>\n",
       "      <td>1</td>\n",
       "      <td>0</td>\n",
       "      <td>1</td>\n",
       "      <td>0</td>\n",
       "      <td>1</td>\n",
       "      <td>0</td>\n",
       "      <td>0</td>\n",
       "      <td>0</td>\n",
       "      <td>1</td>\n",
       "    </tr>\n",
       "    <tr>\n",
       "      <th>45201</th>\n",
       "      <td>53</td>\n",
       "      <td>2</td>\n",
       "      <td>583</td>\n",
       "      <td>0</td>\n",
       "      <td>0</td>\n",
       "      <td>17</td>\n",
       "      <td>9</td>\n",
       "      <td>226</td>\n",
       "      <td>1</td>\n",
       "      <td>184</td>\n",
       "      <td>...</td>\n",
       "      <td>0</td>\n",
       "      <td>1</td>\n",
       "      <td>0</td>\n",
       "      <td>1</td>\n",
       "      <td>0</td>\n",
       "      <td>1</td>\n",
       "      <td>0</td>\n",
       "      <td>0</td>\n",
       "      <td>0</td>\n",
       "      <td>1</td>\n",
       "    </tr>\n",
       "  </tbody>\n",
       "</table>\n",
       "<p>5375 rows × 33 columns</p>\n",
       "</div>"
      ],
      "text/plain": [
       "       age  education  balance  housing  loan  day  month  duration  campaign  \\\n",
       "24060   33          2      882        0     0   21     10        39         1   \n",
       "24062   42          1     -247        1     1   21     10       519         1   \n",
       "24064   33          1     3444        1     0   21     10       144         1   \n",
       "24072   36          2     2415        1     0   22     10        73         1   \n",
       "24077   36          2        0        1     0   23     10       140         1   \n",
       "...    ...        ...      ...      ...   ...  ...    ...       ...       ...   \n",
       "45190   32          1      136        0     0   16      9       206         1   \n",
       "45193   28          2      159        0     0   16      9       449         2   \n",
       "45194   59          2      138        1     1   16      9       162         2   \n",
       "45195   68          1     1146        0     0   16      9       212         1   \n",
       "45201   53          2      583        0     0   17      9       226         1   \n",
       "\n",
       "       pdays  ...  marital_divorced  marital_married  marital_single  \\\n",
       "24060    151  ...                 0                1               0   \n",
       "24062    166  ...                 0                0               1   \n",
       "24064     91  ...                 0                1               0   \n",
       "24072     86  ...                 0                1               0   \n",
       "24077    143  ...                 0                1               0   \n",
       "...      ...  ...               ...              ...             ...   \n",
       "45190    188  ...                 0                1               0   \n",
       "45193     33  ...                 0                0               1   \n",
       "45194    187  ...                 0                1               0   \n",
       "45195    187  ...                 0                1               0   \n",
       "45201    184  ...                 0                1               0   \n",
       "\n",
       "       default_no  default_yes  contact_cellular  contact_telephone  \\\n",
       "24060           1            0                 0                  1   \n",
       "24062           1            0                 0                  1   \n",
       "24064           1            0                 0                  1   \n",
       "24072           1            0                 0                  1   \n",
       "24077           1            0                 0                  1   \n",
       "...           ...          ...               ...                ...   \n",
       "45190           1            0                 1                  0   \n",
       "45193           1            0                 1                  0   \n",
       "45194           1            0                 1                  0   \n",
       "45195           1            0                 1                  0   \n",
       "45201           1            0                 1                  0   \n",
       "\n",
       "       poutcome_failure  poutcome_other  poutcome_success  \n",
       "24060                 1               0                 0  \n",
       "24062                 0               1                 0  \n",
       "24064                 1               0                 0  \n",
       "24072                 0               1                 0  \n",
       "24077                 1               0                 0  \n",
       "...                 ...             ...               ...  \n",
       "45190                 0               0                 1  \n",
       "45193                 0               0                 1  \n",
       "45194                 1               0                 0  \n",
       "45195                 0               0                 1  \n",
       "45201                 0               0                 1  \n",
       "\n",
       "[5375 rows x 33 columns]"
      ]
     },
     "execution_count": 39,
     "metadata": {},
     "output_type": "execute_result"
    }
   ],
   "source": [
    "df"
   ]
  },
  {
   "cell_type": "code",
   "execution_count": 40,
   "id": "e1e26f21",
   "metadata": {},
   "outputs": [
    {
     "data": {
      "text/plain": [
       "Index(['age', 'education', 'balance', 'housing', 'loan', 'day', 'month',\n",
       "       'duration', 'campaign', 'pdays', 'previous', 'y', 'job_admin.',\n",
       "       'job_blue-collar', 'job_entrepreneur', 'job_housemaid',\n",
       "       'job_management', 'job_retired', 'job_self-employed', 'job_services',\n",
       "       'job_student', 'job_technician', 'job_unemployed', 'marital_divorced',\n",
       "       'marital_married', 'marital_single', 'default_no', 'default_yes',\n",
       "       'contact_cellular', 'contact_telephone', 'poutcome_failure',\n",
       "       'poutcome_other', 'poutcome_success'],\n",
       "      dtype='object')"
      ]
     },
     "execution_count": 40,
     "metadata": {},
     "output_type": "execute_result"
    }
   ],
   "source": [
    "df.columns"
   ]
  },
  {
   "cell_type": "markdown",
   "id": "2ff85031",
   "metadata": {},
   "source": [
    "## Feature dan target"
   ]
  },
  {
   "cell_type": "markdown",
   "id": "99bc3451",
   "metadata": {},
   "source": [
    "Seperating Features and Target"
   ]
  },
  {
   "cell_type": "code",
   "execution_count": 41,
   "id": "d31a7da1",
   "metadata": {},
   "outputs": [
    {
     "data": {
      "text/html": [
       "<div>\n",
       "<style scoped>\n",
       "    .dataframe tbody tr th:only-of-type {\n",
       "        vertical-align: middle;\n",
       "    }\n",
       "\n",
       "    .dataframe tbody tr th {\n",
       "        vertical-align: top;\n",
       "    }\n",
       "\n",
       "    .dataframe thead th {\n",
       "        text-align: right;\n",
       "    }\n",
       "</style>\n",
       "<table border=\"1\" class=\"dataframe\">\n",
       "  <thead>\n",
       "    <tr style=\"text-align: right;\">\n",
       "      <th></th>\n",
       "      <th>age</th>\n",
       "      <th>education</th>\n",
       "      <th>balance</th>\n",
       "      <th>housing</th>\n",
       "      <th>loan</th>\n",
       "      <th>day</th>\n",
       "      <th>month</th>\n",
       "      <th>duration</th>\n",
       "      <th>campaign</th>\n",
       "      <th>pdays</th>\n",
       "      <th>...</th>\n",
       "      <th>marital_divorced</th>\n",
       "      <th>marital_married</th>\n",
       "      <th>marital_single</th>\n",
       "      <th>default_no</th>\n",
       "      <th>default_yes</th>\n",
       "      <th>contact_cellular</th>\n",
       "      <th>contact_telephone</th>\n",
       "      <th>poutcome_failure</th>\n",
       "      <th>poutcome_other</th>\n",
       "      <th>poutcome_success</th>\n",
       "    </tr>\n",
       "  </thead>\n",
       "  <tbody>\n",
       "    <tr>\n",
       "      <th>24060</th>\n",
       "      <td>33</td>\n",
       "      <td>2</td>\n",
       "      <td>882</td>\n",
       "      <td>0</td>\n",
       "      <td>0</td>\n",
       "      <td>21</td>\n",
       "      <td>10</td>\n",
       "      <td>39</td>\n",
       "      <td>1</td>\n",
       "      <td>151</td>\n",
       "      <td>...</td>\n",
       "      <td>0</td>\n",
       "      <td>1</td>\n",
       "      <td>0</td>\n",
       "      <td>1</td>\n",
       "      <td>0</td>\n",
       "      <td>0</td>\n",
       "      <td>1</td>\n",
       "      <td>1</td>\n",
       "      <td>0</td>\n",
       "      <td>0</td>\n",
       "    </tr>\n",
       "    <tr>\n",
       "      <th>24062</th>\n",
       "      <td>42</td>\n",
       "      <td>1</td>\n",
       "      <td>-247</td>\n",
       "      <td>1</td>\n",
       "      <td>1</td>\n",
       "      <td>21</td>\n",
       "      <td>10</td>\n",
       "      <td>519</td>\n",
       "      <td>1</td>\n",
       "      <td>166</td>\n",
       "      <td>...</td>\n",
       "      <td>0</td>\n",
       "      <td>0</td>\n",
       "      <td>1</td>\n",
       "      <td>1</td>\n",
       "      <td>0</td>\n",
       "      <td>0</td>\n",
       "      <td>1</td>\n",
       "      <td>0</td>\n",
       "      <td>1</td>\n",
       "      <td>0</td>\n",
       "    </tr>\n",
       "    <tr>\n",
       "      <th>24064</th>\n",
       "      <td>33</td>\n",
       "      <td>1</td>\n",
       "      <td>3444</td>\n",
       "      <td>1</td>\n",
       "      <td>0</td>\n",
       "      <td>21</td>\n",
       "      <td>10</td>\n",
       "      <td>144</td>\n",
       "      <td>1</td>\n",
       "      <td>91</td>\n",
       "      <td>...</td>\n",
       "      <td>0</td>\n",
       "      <td>1</td>\n",
       "      <td>0</td>\n",
       "      <td>1</td>\n",
       "      <td>0</td>\n",
       "      <td>0</td>\n",
       "      <td>1</td>\n",
       "      <td>1</td>\n",
       "      <td>0</td>\n",
       "      <td>0</td>\n",
       "    </tr>\n",
       "    <tr>\n",
       "      <th>24072</th>\n",
       "      <td>36</td>\n",
       "      <td>2</td>\n",
       "      <td>2415</td>\n",
       "      <td>1</td>\n",
       "      <td>0</td>\n",
       "      <td>22</td>\n",
       "      <td>10</td>\n",
       "      <td>73</td>\n",
       "      <td>1</td>\n",
       "      <td>86</td>\n",
       "      <td>...</td>\n",
       "      <td>0</td>\n",
       "      <td>1</td>\n",
       "      <td>0</td>\n",
       "      <td>1</td>\n",
       "      <td>0</td>\n",
       "      <td>0</td>\n",
       "      <td>1</td>\n",
       "      <td>0</td>\n",
       "      <td>1</td>\n",
       "      <td>0</td>\n",
       "    </tr>\n",
       "    <tr>\n",
       "      <th>24077</th>\n",
       "      <td>36</td>\n",
       "      <td>2</td>\n",
       "      <td>0</td>\n",
       "      <td>1</td>\n",
       "      <td>0</td>\n",
       "      <td>23</td>\n",
       "      <td>10</td>\n",
       "      <td>140</td>\n",
       "      <td>1</td>\n",
       "      <td>143</td>\n",
       "      <td>...</td>\n",
       "      <td>0</td>\n",
       "      <td>1</td>\n",
       "      <td>0</td>\n",
       "      <td>1</td>\n",
       "      <td>0</td>\n",
       "      <td>0</td>\n",
       "      <td>1</td>\n",
       "      <td>1</td>\n",
       "      <td>0</td>\n",
       "      <td>0</td>\n",
       "    </tr>\n",
       "    <tr>\n",
       "      <th>...</th>\n",
       "      <td>...</td>\n",
       "      <td>...</td>\n",
       "      <td>...</td>\n",
       "      <td>...</td>\n",
       "      <td>...</td>\n",
       "      <td>...</td>\n",
       "      <td>...</td>\n",
       "      <td>...</td>\n",
       "      <td>...</td>\n",
       "      <td>...</td>\n",
       "      <td>...</td>\n",
       "      <td>...</td>\n",
       "      <td>...</td>\n",
       "      <td>...</td>\n",
       "      <td>...</td>\n",
       "      <td>...</td>\n",
       "      <td>...</td>\n",
       "      <td>...</td>\n",
       "      <td>...</td>\n",
       "      <td>...</td>\n",
       "      <td>...</td>\n",
       "    </tr>\n",
       "    <tr>\n",
       "      <th>45190</th>\n",
       "      <td>32</td>\n",
       "      <td>1</td>\n",
       "      <td>136</td>\n",
       "      <td>0</td>\n",
       "      <td>0</td>\n",
       "      <td>16</td>\n",
       "      <td>9</td>\n",
       "      <td>206</td>\n",
       "      <td>1</td>\n",
       "      <td>188</td>\n",
       "      <td>...</td>\n",
       "      <td>0</td>\n",
       "      <td>1</td>\n",
       "      <td>0</td>\n",
       "      <td>1</td>\n",
       "      <td>0</td>\n",
       "      <td>1</td>\n",
       "      <td>0</td>\n",
       "      <td>0</td>\n",
       "      <td>0</td>\n",
       "      <td>1</td>\n",
       "    </tr>\n",
       "    <tr>\n",
       "      <th>45193</th>\n",
       "      <td>28</td>\n",
       "      <td>2</td>\n",
       "      <td>159</td>\n",
       "      <td>0</td>\n",
       "      <td>0</td>\n",
       "      <td>16</td>\n",
       "      <td>9</td>\n",
       "      <td>449</td>\n",
       "      <td>2</td>\n",
       "      <td>33</td>\n",
       "      <td>...</td>\n",
       "      <td>0</td>\n",
       "      <td>0</td>\n",
       "      <td>1</td>\n",
       "      <td>1</td>\n",
       "      <td>0</td>\n",
       "      <td>1</td>\n",
       "      <td>0</td>\n",
       "      <td>0</td>\n",
       "      <td>0</td>\n",
       "      <td>1</td>\n",
       "    </tr>\n",
       "    <tr>\n",
       "      <th>45194</th>\n",
       "      <td>59</td>\n",
       "      <td>2</td>\n",
       "      <td>138</td>\n",
       "      <td>1</td>\n",
       "      <td>1</td>\n",
       "      <td>16</td>\n",
       "      <td>9</td>\n",
       "      <td>162</td>\n",
       "      <td>2</td>\n",
       "      <td>187</td>\n",
       "      <td>...</td>\n",
       "      <td>0</td>\n",
       "      <td>1</td>\n",
       "      <td>0</td>\n",
       "      <td>1</td>\n",
       "      <td>0</td>\n",
       "      <td>1</td>\n",
       "      <td>0</td>\n",
       "      <td>1</td>\n",
       "      <td>0</td>\n",
       "      <td>0</td>\n",
       "    </tr>\n",
       "    <tr>\n",
       "      <th>45195</th>\n",
       "      <td>68</td>\n",
       "      <td>1</td>\n",
       "      <td>1146</td>\n",
       "      <td>0</td>\n",
       "      <td>0</td>\n",
       "      <td>16</td>\n",
       "      <td>9</td>\n",
       "      <td>212</td>\n",
       "      <td>1</td>\n",
       "      <td>187</td>\n",
       "      <td>...</td>\n",
       "      <td>0</td>\n",
       "      <td>1</td>\n",
       "      <td>0</td>\n",
       "      <td>1</td>\n",
       "      <td>0</td>\n",
       "      <td>1</td>\n",
       "      <td>0</td>\n",
       "      <td>0</td>\n",
       "      <td>0</td>\n",
       "      <td>1</td>\n",
       "    </tr>\n",
       "    <tr>\n",
       "      <th>45201</th>\n",
       "      <td>53</td>\n",
       "      <td>2</td>\n",
       "      <td>583</td>\n",
       "      <td>0</td>\n",
       "      <td>0</td>\n",
       "      <td>17</td>\n",
       "      <td>9</td>\n",
       "      <td>226</td>\n",
       "      <td>1</td>\n",
       "      <td>184</td>\n",
       "      <td>...</td>\n",
       "      <td>0</td>\n",
       "      <td>1</td>\n",
       "      <td>0</td>\n",
       "      <td>1</td>\n",
       "      <td>0</td>\n",
       "      <td>1</td>\n",
       "      <td>0</td>\n",
       "      <td>0</td>\n",
       "      <td>0</td>\n",
       "      <td>1</td>\n",
       "    </tr>\n",
       "  </tbody>\n",
       "</table>\n",
       "<p>5375 rows × 32 columns</p>\n",
       "</div>"
      ],
      "text/plain": [
       "       age  education  balance  housing  loan  day  month  duration  campaign  \\\n",
       "24060   33          2      882        0     0   21     10        39         1   \n",
       "24062   42          1     -247        1     1   21     10       519         1   \n",
       "24064   33          1     3444        1     0   21     10       144         1   \n",
       "24072   36          2     2415        1     0   22     10        73         1   \n",
       "24077   36          2        0        1     0   23     10       140         1   \n",
       "...    ...        ...      ...      ...   ...  ...    ...       ...       ...   \n",
       "45190   32          1      136        0     0   16      9       206         1   \n",
       "45193   28          2      159        0     0   16      9       449         2   \n",
       "45194   59          2      138        1     1   16      9       162         2   \n",
       "45195   68          1     1146        0     0   16      9       212         1   \n",
       "45201   53          2      583        0     0   17      9       226         1   \n",
       "\n",
       "       pdays  ...  marital_divorced  marital_married  marital_single  \\\n",
       "24060    151  ...                 0                1               0   \n",
       "24062    166  ...                 0                0               1   \n",
       "24064     91  ...                 0                1               0   \n",
       "24072     86  ...                 0                1               0   \n",
       "24077    143  ...                 0                1               0   \n",
       "...      ...  ...               ...              ...             ...   \n",
       "45190    188  ...                 0                1               0   \n",
       "45193     33  ...                 0                0               1   \n",
       "45194    187  ...                 0                1               0   \n",
       "45195    187  ...                 0                1               0   \n",
       "45201    184  ...                 0                1               0   \n",
       "\n",
       "       default_no  default_yes  contact_cellular  contact_telephone  \\\n",
       "24060           1            0                 0                  1   \n",
       "24062           1            0                 0                  1   \n",
       "24064           1            0                 0                  1   \n",
       "24072           1            0                 0                  1   \n",
       "24077           1            0                 0                  1   \n",
       "...           ...          ...               ...                ...   \n",
       "45190           1            0                 1                  0   \n",
       "45193           1            0                 1                  0   \n",
       "45194           1            0                 1                  0   \n",
       "45195           1            0                 1                  0   \n",
       "45201           1            0                 1                  0   \n",
       "\n",
       "       poutcome_failure  poutcome_other  poutcome_success  \n",
       "24060                 1               0                 0  \n",
       "24062                 0               1                 0  \n",
       "24064                 1               0                 0  \n",
       "24072                 0               1                 0  \n",
       "24077                 1               0                 0  \n",
       "...                 ...             ...               ...  \n",
       "45190                 0               0                 1  \n",
       "45193                 0               0                 1  \n",
       "45194                 1               0                 0  \n",
       "45195                 0               0                 1  \n",
       "45201                 0               0                 1  \n",
       "\n",
       "[5375 rows x 32 columns]"
      ]
     },
     "execution_count": 41,
     "metadata": {},
     "output_type": "execute_result"
    }
   ],
   "source": [
    "# select feataures\n",
    "features = df.drop('y', axis=1)\n",
    "features"
   ]
  },
  {
   "cell_type": "code",
   "execution_count": 42,
   "id": "a8d068fb",
   "metadata": {},
   "outputs": [
    {
     "data": {
      "text/plain": [
       "24060    0\n",
       "24062    1\n",
       "24064    1\n",
       "24072    0\n",
       "24077    1\n",
       "        ..\n",
       "45190    1\n",
       "45193    1\n",
       "45194    0\n",
       "45195    1\n",
       "45201    1\n",
       "Name: y, Length: 5375, dtype: int32"
      ]
     },
     "execution_count": 42,
     "metadata": {},
     "output_type": "execute_result"
    }
   ],
   "source": [
    "# select target\n",
    "target = df['y']\n",
    "target"
   ]
  },
  {
   "cell_type": "markdown",
   "id": "04eb24e3",
   "metadata": {},
   "source": [
    "## Split data"
   ]
  },
  {
   "cell_type": "markdown",
   "id": "0accd6f4",
   "metadata": {},
   "source": [
    "Split dataset into training set and test set"
   ]
  },
  {
   "cell_type": "code",
   "execution_count": 43,
   "id": "e20d27a0",
   "metadata": {},
   "outputs": [
    {
     "name": "stdout",
     "output_type": "stream",
     "text": [
      "Number transactions X_train dataset:  (3762, 32)\n",
      "Number transactions X_test dataset :  (1613, 32)\n",
      " \n",
      "Number transactions y_train dataset:  (3762,)\n",
      "Number transactions y_test dataset :  (1613,)\n"
     ]
    }
   ],
   "source": [
    "from sklearn.model_selection import train_test_split\n",
    "\n",
    "## split data\n",
    "X_train, X_test, y_train, y_test = train_test_split(features, target, test_size = 0.3, random_state= 1)\n",
    "\n",
    "# describes info about train and test set\n",
    "print(\"Number transactions X_train dataset: \", X_train.shape)\n",
    "print(\"Number transactions X_test dataset : \", X_test.shape)\n",
    "print(\" \")\n",
    "print(\"Number transactions y_train dataset: \", y_train.shape)\n",
    "print(\"Number transactions y_test dataset : \", y_test.shape)"
   ]
  },
  {
   "cell_type": "markdown",
   "id": "5e26db6d",
   "metadata": {},
   "source": [
    "## Imbalance data"
   ]
  },
  {
   "cell_type": "markdown",
   "id": "0169296a",
   "metadata": {},
   "source": [
    "Menghandle imbalance data dengan SMOTE (Sintetis Minoritas Sampling Teknik)"
   ]
  },
  {
   "cell_type": "code",
   "execution_count": 44,
   "id": "7cd8c4f8",
   "metadata": {},
   "outputs": [
    {
     "data": {
      "text/plain": [
       "0    4287\n",
       "1    1088\n",
       "Name: y, dtype: int64"
      ]
     },
     "execution_count": 44,
     "metadata": {},
     "output_type": "execute_result"
    }
   ],
   "source": [
    "df['y'].value_counts()"
   ]
  },
  {
   "cell_type": "code",
   "execution_count": 45,
   "id": "c81729dd",
   "metadata": {},
   "outputs": [
    {
     "data": {
      "text/plain": [
       "Counter({1: 781, 0: 2981})"
      ]
     },
     "execution_count": 45,
     "metadata": {},
     "output_type": "execute_result"
    }
   ],
   "source": [
    "from collections import Counter\n",
    "Counter(y_train)"
   ]
  },
  {
   "cell_type": "code",
   "execution_count": 46,
   "id": "0cf3f5e2",
   "metadata": {},
   "outputs": [],
   "source": [
    "from imblearn.over_sampling import SMOTE\n",
    "sm = SMOTE(random_state = 2)\n",
    "X_train_smote, y_train_smote = sm.fit_resample(X_train,y_train)"
   ]
  },
  {
   "cell_type": "code",
   "execution_count": 47,
   "id": "093d98e0",
   "metadata": {},
   "outputs": [
    {
     "data": {
      "text/plain": [
       "Counter({1: 2981, 0: 2981})"
      ]
     },
     "execution_count": 47,
     "metadata": {},
     "output_type": "execute_result"
    }
   ],
   "source": [
    "Counter(y_train_smote)"
   ]
  },
  {
   "cell_type": "markdown",
   "id": "dedc920b",
   "metadata": {},
   "source": [
    "## Scaler"
   ]
  },
  {
   "cell_type": "markdown",
   "id": "6e565f77",
   "metadata": {},
   "source": [
    "Standardizing the data"
   ]
  },
  {
   "cell_type": "code",
   "execution_count": 48,
   "id": "9f93a129",
   "metadata": {},
   "outputs": [],
   "source": [
    "from sklearn.preprocessing import StandardScaler\n",
    "\n",
    "scaler = StandardScaler()\n",
    "X_train = scaler.fit_transform(X_train) # scaling X_train\n",
    "X_train_smote = scaler.fit_transform(X_train_smote) # scaling over_X_train\n",
    "\n",
    "X_test = scaler.transform(X_test)"
   ]
  },
  {
   "cell_type": "markdown",
   "id": "902a0c23",
   "metadata": {},
   "source": [
    "## Logitsic Regression"
   ]
  },
  {
   "cell_type": "markdown",
   "id": "6f8a61b4",
   "metadata": {},
   "source": [
    "### Logistic Regression "
   ]
  },
  {
   "cell_type": "code",
   "execution_count": 49,
   "id": "2da6a21a",
   "metadata": {},
   "outputs": [
    {
     "name": "stdout",
     "output_type": "stream",
     "text": [
      "Accuracy Score: 0.8586484810911346\n",
      "              precision    recall  f1-score   support\n",
      "\n",
      "           0       0.87      0.97      0.92      1306\n",
      "           1       0.76      0.38      0.50       307\n",
      "\n",
      "    accuracy                           0.86      1613\n",
      "   macro avg       0.81      0.67      0.71      1613\n",
      "weighted avg       0.85      0.86      0.84      1613\n",
      "\n"
     ]
    }
   ],
   "source": [
    "LogR = LogisticRegression(solver='lbfgs')\n",
    "LogR.fit(X_train, y_train)\n",
    "\n",
    "pred1 = LogR.predict(X_test)\n",
    "\n",
    "print(\"Accuracy Score:\", accuracy_score(y_test, pred1))\n",
    "print(classification_report(y_test, pred1))"
   ]
  },
  {
   "cell_type": "code",
   "execution_count": 50,
   "id": "ad11bf2d",
   "metadata": {},
   "outputs": [
    {
     "data": {
      "image/png": "[encoded data removed]",
      "text/plain": [
       "<Figure size 432x288 with 2 Axes>"
      ]
     },
     "metadata": {
      "needs_background": "light"
     },
     "output_type": "display_data"
    }
   ],
   "source": [
    "cm = confusion_matrix(y_test, pred1)\n",
    "\n",
    "group_counts = [\"{0:0.0f}\".format(value) for value in\n",
    "                cm.flatten()]\n",
    "group_percentages = [\"{0:.2%}\".format(value) for value in\n",
    "                     cm.flatten()/np.sum(cm)]\n",
    "\n",
    "labels = [f\"{v1}\\n{v2}\" for v1, v2, in\n",
    "          zip(group_counts,group_percentages)]\n",
    "labels = np.asarray(labels).reshape(2,2)\n",
    "\n",
    "ax = sns.heatmap(cm, annot=labels, fmt='', cmap='Blues')\n",
    "ax.set_title('Confusion Matrix \\n');\n",
    "\n",
    "ax.xaxis.set_ticklabels(['Predicted 0s', 'Predicted 1s'])\n",
    "ax.yaxis.set_ticklabels(['Actual 0s', 'Actual 1s'])\n",
    "\n",
    "\n",
    "plt.show()"
   ]
  },
  {
   "cell_type": "markdown",
   "id": "c856875c",
   "metadata": {},
   "source": [
    "### Logistic Regression dengan SMOTE"
   ]
  },
  {
   "cell_type": "code",
   "execution_count": 51,
   "id": "cd2523aa",
   "metadata": {},
   "outputs": [
    {
     "name": "stdout",
     "output_type": "stream",
     "text": [
      "Accuracy Score: 0.861128332300062\n",
      "              precision    recall  f1-score   support\n",
      "\n",
      "           0       0.90      0.94      0.92      1306\n",
      "           1       0.67      0.53      0.59       307\n",
      "\n",
      "    accuracy                           0.86      1613\n",
      "   macro avg       0.78      0.74      0.76      1613\n",
      "weighted avg       0.85      0.86      0.85      1613\n",
      "\n"
     ]
    }
   ],
   "source": [
    "LogR = LogisticRegression(solver='lbfgs')\n",
    "LogR.fit(X_train_smote, y_train_smote)\n",
    "\n",
    "pred11 = LogR.predict(X_test)\n",
    "\n",
    "print(\"Accuracy Score:\", accuracy_score(y_test, pred11))\n",
    "print(classification_report(y_test, pred11))"
   ]
  },
  {
   "cell_type": "code",
   "execution_count": 52,
   "id": "d508a4a0",
   "metadata": {},
   "outputs": [
    {
     "data": {
      "image/png": "[encoded data removed]",
      "text/plain": [
       "<Figure size 432x288 with 2 Axes>"
      ]
     },
     "metadata": {
      "needs_background": "light"
     },
     "output_type": "display_data"
    }
   ],
   "source": [
    "cm = confusion_matrix(y_test, pred11)\n",
    "\n",
    "group_counts = [\"{0:0.0f}\".format(value) for value in\n",
    "                cm.flatten()]\n",
    "group_percentages = [\"{0:.2%}\".format(value) for value in\n",
    "                     cm.flatten()/np.sum(cm)]\n",
    "\n",
    "labels = [f\"{v1}\\n{v2}\" for v1, v2, in\n",
    "          zip(group_counts,group_percentages)]\n",
    "labels = np.asarray(labels).reshape(2,2)\n",
    "\n",
    "ax = sns.heatmap(cm, annot=labels, fmt='', cmap='Blues')\n",
    "ax.set_title('Confusion Matrix \\n');\n",
    "\n",
    "ax.xaxis.set_ticklabels(['Predicted 0s', 'Predicted 1s'])\n",
    "ax.yaxis.set_ticklabels(['Actual 0s', 'Actual 1s'])\n",
    "\n",
    "plt.show()"
   ]
  },
  {
   "cell_type": "markdown",
   "id": "da6bfd82",
   "metadata": {},
   "source": [
    "## Decision Tree"
   ]
  },
  {
   "cell_type": "markdown",
   "id": "967344ed",
   "metadata": {},
   "source": [
    "### Decision Tree"
   ]
  },
  {
   "cell_type": "code",
   "execution_count": 53,
   "id": "5439241f",
   "metadata": {},
   "outputs": [
    {
     "name": "stdout",
     "output_type": "stream",
     "text": [
      "Accuracy Score: 0.8257904525728457\n",
      "              precision    recall  f1-score   support\n",
      "\n",
      "           0       0.88      0.91      0.89      1306\n",
      "           1       0.55      0.49      0.51       307\n",
      "\n",
      "    accuracy                           0.83      1613\n",
      "   macro avg       0.71      0.70      0.70      1613\n",
      "weighted avg       0.82      0.83      0.82      1613\n",
      "\n"
     ]
    }
   ],
   "source": [
    "dtree = DecisionTreeClassifier(criterion='entropy')\n",
    "dtree.fit(X_train, y_train)\n",
    "\n",
    "pred2 = dtree.predict(X_test)\n",
    "\n",
    "print(\"Accuracy Score:\", accuracy_score(y_test, pred2 ))\n",
    "print(classification_report(y_test, pred2 ))"
   ]
  },
  {
   "cell_type": "code",
   "execution_count": 54,
   "id": "7420bcd2",
   "metadata": {},
   "outputs": [
    {
     "data": {
      "image/png": "[encoded data removed]",
      "text/plain": [
       "<Figure size 432x288 with 2 Axes>"
      ]
     },
     "metadata": {
      "needs_background": "light"
     },
     "output_type": "display_data"
    }
   ],
   "source": [
    "cm = confusion_matrix(y_test, pred2)\n",
    "\n",
    "group_counts = [\"{0:0.0f}\".format(value) for value in\n",
    "                cm.flatten()]\n",
    "group_percentages = [\"{0:.2%}\".format(value) for value in\n",
    "                     cm.flatten()/np.sum(cm)]\n",
    "\n",
    "labels = [f\"{v1}\\n{v2}\" for v1, v2, in\n",
    "          zip(group_counts,group_percentages)]\n",
    "labels = np.asarray(labels).reshape(2,2)\n",
    "\n",
    "ax = sns.heatmap(cm, annot=labels, fmt='', cmap='Blues')\n",
    "ax.set_title('Confusion Matrix \\n');\n",
    "\n",
    "ax.xaxis.set_ticklabels(['Predicted 0s', 'Predicted 1s'])\n",
    "ax.yaxis.set_ticklabels(['Actual 0s', 'Actual 1s'])\n",
    "\n",
    "plt.show()"
   ]
  },
  {
   "cell_type": "markdown",
   "id": "df210e6d",
   "metadata": {},
   "source": [
    "### Decision Tree Smote"
   ]
  },
  {
   "cell_type": "code",
   "execution_count": 55,
   "id": "d7c0dbbe",
   "metadata": {},
   "outputs": [
    {
     "name": "stdout",
     "output_type": "stream",
     "text": [
      "Accuracy Score: 0.8251704897706138\n",
      "              precision    recall  f1-score   support\n",
      "\n",
      "           0       0.91      0.87      0.89      1306\n",
      "           1       0.53      0.63      0.58       307\n",
      "\n",
      "    accuracy                           0.83      1613\n",
      "   macro avg       0.72      0.75      0.73      1613\n",
      "weighted avg       0.84      0.83      0.83      1613\n",
      "\n"
     ]
    }
   ],
   "source": [
    "dtree = DecisionTreeClassifier(criterion='entropy')\n",
    "dtree.fit(X_train_smote, y_train_smote)\n",
    "\n",
    "pred22  = dtree.predict(X_test)\n",
    "\n",
    "print(\"Accuracy Score:\", accuracy_score(y_test, pred22 ))\n",
    "print(classification_report(y_test, pred22 ))"
   ]
  },
  {
   "cell_type": "code",
   "execution_count": 56,
   "id": "c02b6bc7",
   "metadata": {},
   "outputs": [
    {
     "data": {
      "image/png": "[encoded data removed]",
      "text/plain": [
       "<Figure size 432x288 with 2 Axes>"
      ]
     },
     "metadata": {
      "needs_background": "light"
     },
     "output_type": "display_data"
    }
   ],
   "source": [
    "cm = confusion_matrix(y_test, pred22)\n",
    "\n",
    "group_counts = [\"{0:0.0f}\".format(value) for value in\n",
    "                cm.flatten()]\n",
    "group_percentages = [\"{0:.2%}\".format(value) for value in\n",
    "                     cm.flatten()/np.sum(cm)]\n",
    "\n",
    "labels = [f\"{v1}\\n{v2}\" for v1, v2, in\n",
    "          zip(group_counts,group_percentages)]\n",
    "labels = np.asarray(labels).reshape(2,2)\n",
    "\n",
    "ax = sns.heatmap(cm, annot=labels, fmt='', cmap='Blues')\n",
    "ax.set_title('Confusion Matrix \\n');\n",
    "\n",
    "ax.xaxis.set_ticklabels(['Predicted 0s', 'Predicted 1s'])\n",
    "ax.yaxis.set_ticklabels(['Actual 0s', 'Actual 1s'])\n",
    "\n",
    "plt.show()"
   ]
  },
  {
   "cell_type": "markdown",
   "id": "8181ae51",
   "metadata": {},
   "source": [
    "## RandomForestClassifier"
   ]
  },
  {
   "cell_type": "markdown",
   "id": "04783d21",
   "metadata": {},
   "source": [
    "### Random Forest"
   ]
  },
  {
   "cell_type": "code",
   "execution_count": 57,
   "id": "0218a51a",
   "metadata": {},
   "outputs": [
    {
     "name": "stdout",
     "output_type": "stream",
     "text": [
      "Accuracy Score: 0.8729076255424675\n",
      "              precision    recall  f1-score   support\n",
      "\n",
      "           0       0.89      0.97      0.92      1306\n",
      "           1       0.77      0.48      0.59       307\n",
      "\n",
      "    accuracy                           0.87      1613\n",
      "   macro avg       0.83      0.72      0.76      1613\n",
      "weighted avg       0.86      0.87      0.86      1613\n",
      "\n"
     ]
    }
   ],
   "source": [
    "random_forest = RandomForestClassifier(n_estimators=100)\n",
    "random_forest.fit(X_train, y_train)\n",
    "\n",
    "pred3  = random_forest.predict(X_test)\n",
    "\n",
    "print(\"Accuracy Score:\", accuracy_score(y_test, pred3  ))\n",
    "print(classification_report(y_test, pred3  ))"
   ]
  },
  {
   "cell_type": "code",
   "execution_count": 58,
   "id": "e1634f24",
   "metadata": {},
   "outputs": [
    {
     "data": {
      "image/png": "[encoded data removed]",
      "text/plain": [
       "<Figure size 432x288 with 2 Axes>"
      ]
     },
     "metadata": {
      "needs_background": "light"
     },
     "output_type": "display_data"
    }
   ],
   "source": [
    "cm = confusion_matrix(y_test, pred3)\n",
    "\n",
    "group_counts = [\"{0:0.0f}\".format(value) for value in\n",
    "                cm.flatten()]\n",
    "group_percentages = [\"{0:.2%}\".format(value) for value in\n",
    "                     cm.flatten()/np.sum(cm)]\n",
    "\n",
    "labels = [f\"{v1}\\n{v2}\" for v1, v2, in\n",
    "          zip(group_counts,group_percentages)]\n",
    "labels = np.asarray(labels).reshape(2,2)\n",
    "\n",
    "ax = sns.heatmap(cm, annot=labels, fmt='', cmap='Blues')\n",
    "ax.set_title('Confusion Matrix \\n');\n",
    "\n",
    "ax.xaxis.set_ticklabels(['Predicted 0s', 'Predicted 1s'])\n",
    "ax.yaxis.set_ticklabels(['Actual 0s', 'Actual 1s'])\n",
    "\n",
    "plt.show()"
   ]
  },
  {
   "cell_type": "markdown",
   "id": "f852730e",
   "metadata": {},
   "source": [
    "### Random Forest Smote"
   ]
  },
  {
   "cell_type": "code",
   "execution_count": 59,
   "id": "600a1bef",
   "metadata": {},
   "outputs": [
    {
     "name": "stdout",
     "output_type": "stream",
     "text": [
      "Accuracy Score: 0.8679479231246126\n",
      "              precision    recall  f1-score   support\n",
      "\n",
      "           0       0.91      0.93      0.92      1306\n",
      "           1       0.67      0.62      0.64       307\n",
      "\n",
      "    accuracy                           0.87      1613\n",
      "   macro avg       0.79      0.77      0.78      1613\n",
      "weighted avg       0.86      0.87      0.87      1613\n",
      "\n"
     ]
    }
   ],
   "source": [
    "random_forest = RandomForestClassifier(n_estimators=100)\n",
    "random_forest.fit(X_train_smote, y_train_smote)\n",
    "\n",
    "pred33   = random_forest.predict(X_test)\n",
    "\n",
    "print(\"Accuracy Score:\", accuracy_score(y_test, pred33))\n",
    "print(classification_report(y_test, pred33))"
   ]
  },
  {
   "cell_type": "code",
   "execution_count": 60,
   "id": "e7018e43",
   "metadata": {},
   "outputs": [
    {
     "data": {
      "image/png": "[encoded data removed]",
      "text/plain": [
       "<Figure size 432x288 with 2 Axes>"
      ]
     },
     "metadata": {
      "needs_background": "light"
     },
     "output_type": "display_data"
    }
   ],
   "source": [
    "cm = confusion_matrix(y_test, pred33)\n",
    "\n",
    "group_counts = [\"{0:0.0f}\".format(value) for value in\n",
    "                cm.flatten()]\n",
    "group_percentages = [\"{0:.2%}\".format(value) for value in\n",
    "                     cm.flatten()/np.sum(cm)]\n",
    "\n",
    "labels = [f\"{v1}\\n{v2}\" for v1, v2, in\n",
    "          zip(group_counts,group_percentages)]\n",
    "labels = np.asarray(labels).reshape(2,2)\n",
    "\n",
    "ax = sns.heatmap(cm, annot=labels, fmt='', cmap='Blues')\n",
    "ax.set_title('Confusion Matrix \\n');\n",
    "\n",
    "ax.xaxis.set_ticklabels(['Predicted 0s', 'Predicted 1s'])\n",
    "ax.yaxis.set_ticklabels(['Actual 0s', 'Actual 1s'])\n",
    "\n",
    "plt.show()"
   ]
  },
  {
   "cell_type": "markdown",
   "id": "c54e2457",
   "metadata": {},
   "source": [
    "## Naive Bayes"
   ]
  },
  {
   "cell_type": "markdown",
   "id": "735b7ab1",
   "metadata": {},
   "source": [
    "### Naive Bayes"
   ]
  },
  {
   "cell_type": "code",
   "execution_count": 61,
   "id": "8e5180da",
   "metadata": {},
   "outputs": [
    {
     "name": "stdout",
     "output_type": "stream",
     "text": [
      "Accuracy Score   : 0.8003719776813392\n",
      "              precision    recall  f1-score   support\n",
      "\n",
      "           0       0.90      0.85      0.87      1306\n",
      "           1       0.48      0.60      0.53       307\n",
      "\n",
      "    accuracy                           0.80      1613\n",
      "   macro avg       0.69      0.72      0.70      1613\n",
      "weighted avg       0.82      0.80      0.81      1613\n",
      "\n"
     ]
    }
   ],
   "source": [
    "from sklearn.naive_bayes import GaussianNB\n",
    "\n",
    "nb_model = GaussianNB()\n",
    "nb_model.fit(X_train, y_train)\n",
    "\n",
    "pred4 = nb_model.predict(X_test)\n",
    "\n",
    "print(\"Accuracy Score   :\", accuracy_score(y_test, pred4 ))\n",
    "print(classification_report(y_test, pred4 ))"
   ]
  },
  {
   "cell_type": "code",
   "execution_count": 62,
   "id": "ba1e573f",
   "metadata": {},
   "outputs": [
    {
     "data": {
      "image/png": "[encoded data removed]",
      "text/plain": [
       "<Figure size 432x288 with 2 Axes>"
      ]
     },
     "metadata": {
      "needs_background": "light"
     },
     "output_type": "display_data"
    }
   ],
   "source": [
    "cm = confusion_matrix(y_test, pred4)\n",
    "\n",
    "group_counts = [\"{0:0.0f}\".format(value) for value in\n",
    "                cm.flatten()]\n",
    "group_percentages = [\"{0:.2%}\".format(value) for value in\n",
    "                     cm.flatten()/np.sum(cm)]\n",
    "\n",
    "labels = [f\"{v1}\\n{v2}\" for v1, v2, in\n",
    "          zip(group_counts,group_percentages)]\n",
    "labels = np.asarray(labels).reshape(2,2)\n",
    "\n",
    "ax = sns.heatmap(cm, annot=labels, fmt='', cmap='Blues')\n",
    "ax.set_title('Confusion Matrix \\n');\n",
    "\n",
    "ax.xaxis.set_ticklabels(['Predicted 0s', 'Predicted 1s'])\n",
    "ax.yaxis.set_ticklabels(['Actual 0s', 'Actual 1s'])\n",
    "\n",
    "plt.show()"
   ]
  },
  {
   "cell_type": "markdown",
   "id": "a0cdb116",
   "metadata": {},
   "source": [
    "### Naive Bayes Smote"
   ]
  },
  {
   "cell_type": "code",
   "execution_count": 63,
   "id": "0aeaafe4",
   "metadata": {},
   "outputs": [
    {
     "name": "stdout",
     "output_type": "stream",
     "text": [
      "Accuracy Score   : 0.7315561066336019\n",
      "              precision    recall  f1-score   support\n",
      "\n",
      "           0       0.89      0.76      0.82      1306\n",
      "           1       0.37      0.59      0.46       307\n",
      "\n",
      "    accuracy                           0.73      1613\n",
      "   macro avg       0.63      0.68      0.64      1613\n",
      "weighted avg       0.79      0.73      0.75      1613\n",
      "\n"
     ]
    }
   ],
   "source": [
    "from sklearn.naive_bayes import GaussianNB\n",
    "\n",
    "nb_model = GaussianNB()\n",
    "nb_model.fit(X_train_smote, y_train_smote)\n",
    "\n",
    "pred44  = nb_model.predict(X_test)\n",
    "\n",
    "print(\"Accuracy Score   :\", accuracy_score(y_test, pred44))\n",
    "print(classification_report(y_test, pred44))"
   ]
  },
  {
   "cell_type": "code",
   "execution_count": 64,
   "id": "a798e048",
   "metadata": {},
   "outputs": [
    {
     "data": {
      "image/png": "[encoded data removed]",
      "text/plain": [
       "<Figure size 432x288 with 2 Axes>"
      ]
     },
     "metadata": {
      "needs_background": "light"
     },
     "output_type": "display_data"
    }
   ],
   "source": [
    "cm = confusion_matrix(y_test, pred44)\n",
    "\n",
    "group_counts = [\"{0:0.0f}\".format(value) for value in\n",
    "                cm.flatten()]\n",
    "group_percentages = [\"{0:.2%}\".format(value) for value in\n",
    "                     cm.flatten()/np.sum(cm)]\n",
    "\n",
    "labels = [f\"{v1}\\n{v2}\" for v1, v2, in\n",
    "          zip(group_counts,group_percentages)]\n",
    "labels = np.asarray(labels).reshape(2,2)\n",
    "\n",
    "ax = sns.heatmap(cm, annot=labels, fmt='', cmap='Blues')\n",
    "ax.set_title('Confusion Matrix \\n');\n",
    "\n",
    "ax.xaxis.set_ticklabels(['Predicted 0s', 'Predicted 1s'])\n",
    "ax.yaxis.set_ticklabels(['Actual 0s', 'Actual 1s'])\n",
    "\n",
    "plt.show()"
   ]
  },
  {
   "cell_type": "markdown",
   "id": "efd2aa1a",
   "metadata": {},
   "source": [
    "## Knearest neighbors Classifier"
   ]
  },
  {
   "cell_type": "markdown",
   "id": "c9154df6",
   "metadata": {},
   "source": [
    "### knearest neighbors Classifier"
   ]
  },
  {
   "cell_type": "code",
   "execution_count": 65,
   "id": "4c4b9291",
   "metadata": {},
   "outputs": [
    {
     "name": "stdout",
     "output_type": "stream",
     "text": [
      "Accuracy Score   : 0.8456292622442654\n",
      "              precision    recall  f1-score   support\n",
      "\n",
      "           0       0.87      0.95      0.91      1306\n",
      "           1       0.65      0.42      0.51       307\n",
      "\n",
      "    accuracy                           0.85      1613\n",
      "   macro avg       0.76      0.68      0.71      1613\n",
      "weighted avg       0.83      0.85      0.83      1613\n",
      "\n"
     ]
    }
   ],
   "source": [
    "from sklearn.neighbors import KNeighborsClassifier\n",
    "\n",
    "knn = KNeighborsClassifier(n_neighbors=5)\n",
    "knn.fit(X_train, y_train)\n",
    "\n",
    "pred5 = knn.predict(X_test)\n",
    "\n",
    "print(\"Accuracy Score   :\", accuracy_score(y_test, pred5))\n",
    "print(classification_report(y_test, pred5))"
   ]
  },
  {
   "cell_type": "code",
   "execution_count": 66,
   "id": "4cebfdce",
   "metadata": {},
   "outputs": [
    {
     "data": {
      "image/png": "[encoded data removed]",
      "text/plain": [
       "<Figure size 432x288 with 2 Axes>"
      ]
     },
     "metadata": {
      "needs_background": "light"
     },
     "output_type": "display_data"
    }
   ],
   "source": [
    "cm = confusion_matrix(y_test, pred5)\n",
    "\n",
    "group_counts = [\"{0:0.0f}\".format(value) for value in\n",
    "                cm.flatten()]\n",
    "group_percentages = [\"{0:.2%}\".format(value) for value in\n",
    "                     cm.flatten()/np.sum(cm)]\n",
    "\n",
    "labels = [f\"{v1}\\n{v2}\" for v1, v2, in\n",
    "          zip(group_counts,group_percentages)]\n",
    "labels = np.asarray(labels).reshape(2,2)\n",
    "\n",
    "ax = sns.heatmap(cm, annot=labels, fmt='', cmap='Blues')\n",
    "ax.set_title('Confusion Matrix \\n');\n",
    "\n",
    "ax.xaxis.set_ticklabels(['Predicted 0s', 'Predicted 1s'])\n",
    "ax.yaxis.set_ticklabels(['Actual 0s', 'Actual 1s'])\n",
    "\n",
    "plt.show()"
   ]
  },
  {
   "cell_type": "markdown",
   "id": "605d51bf",
   "metadata": {},
   "source": [
    "### Knearest Neighbors Classifier Smote"
   ]
  },
  {
   "cell_type": "code",
   "execution_count": 67,
   "id": "aaa3ea36",
   "metadata": {},
   "outputs": [
    {
     "name": "stdout",
     "output_type": "stream",
     "text": [
      "Accuracy Score   : 0.8468691878487291\n",
      "              precision    recall  f1-score   support\n",
      "\n",
      "           0       0.89      0.92      0.91      1306\n",
      "           1       0.61      0.53      0.57       307\n",
      "\n",
      "    accuracy                           0.85      1613\n",
      "   macro avg       0.75      0.73      0.74      1613\n",
      "weighted avg       0.84      0.85      0.84      1613\n",
      "\n"
     ]
    }
   ],
   "source": [
    "from sklearn.neighbors import KNeighborsClassifier\n",
    "\n",
    "knn = KNeighborsClassifier(n_neighbors=5)\n",
    "knn.fit(X_train_smote, y_train_smote)\n",
    "\n",
    "pred55 = knn.predict(X_test)\n",
    "\n",
    "print(\"Accuracy Score   :\", accuracy_score(y_test, pred55))\n",
    "print(classification_report(y_test, pred55))"
   ]
  },
  {
   "cell_type": "code",
   "execution_count": 68,
   "id": "e5fd1d80",
   "metadata": {},
   "outputs": [
    {
     "data": {
      "image/png": "[encoded data removed]",
      "text/plain": [
       "<Figure size 432x288 with 2 Axes>"
      ]
     },
     "metadata": {
      "needs_background": "light"
     },
     "output_type": "display_data"
    }
   ],
   "source": [
    "cm = confusion_matrix(y_test, pred55)\n",
    "\n",
    "group_counts = [\"{0:0.0f}\".format(value) for value in\n",
    "                cm.flatten()]\n",
    "group_percentages = [\"{0:.2%}\".format(value) for value in\n",
    "                     cm.flatten()/np.sum(cm)]\n",
    "\n",
    "labels = [f\"{v1}\\n{v2}\" for v1, v2, in\n",
    "          zip(group_counts,group_percentages)]\n",
    "labels = np.asarray(labels).reshape(2,2)\n",
    "\n",
    "ax = sns.heatmap(cm, annot=labels, fmt='', cmap='Blues')\n",
    "ax.set_title('Confusion Matrix \\n');\n",
    "\n",
    "ax.xaxis.set_ticklabels(['Predicted 0s', 'Predicted 1s'])\n",
    "ax.yaxis.set_ticklabels(['Actual 0s', 'Actual 1s'])\n",
    "\n",
    "plt.show()"
   ]
  },
  {
   "cell_type": "markdown",
   "id": "dea91e73",
   "metadata": {},
   "source": [
    "## Support Vector Machine (SVM)"
   ]
  },
  {
   "cell_type": "markdown",
   "id": "e37b1a78",
   "metadata": {},
   "source": [
    "### Support Vector Machine (SVM)"
   ]
  },
  {
   "cell_type": "code",
   "execution_count": 69,
   "id": "494e173f",
   "metadata": {},
   "outputs": [
    {
     "name": "stdout",
     "output_type": "stream",
     "text": [
      "Accuracy Score   : 0.8586484810911346\n",
      "              precision    recall  f1-score   support\n",
      "\n",
      "           0       0.87      0.96      0.92      1306\n",
      "           1       0.73      0.41      0.52       307\n",
      "\n",
      "    accuracy                           0.86      1613\n",
      "   macro avg       0.80      0.69      0.72      1613\n",
      "weighted avg       0.85      0.86      0.84      1613\n",
      "\n"
     ]
    }
   ],
   "source": [
    "from sklearn import svm\n",
    "svm_model = svm.SVC()\n",
    "svm_model.fit(X_train, y_train)\n",
    "\n",
    "pred6 = svm_model.predict(X_test)\n",
    "\n",
    "print(\"Accuracy Score   :\", accuracy_score(y_test, pred6))\n",
    "print(classification_report(y_test, pred6))"
   ]
  },
  {
   "cell_type": "code",
   "execution_count": 70,
   "id": "ead864d0",
   "metadata": {},
   "outputs": [
    {
     "data": {
      "image/png": "[encoded data removed]",
      "text/plain": [
       "<Figure size 432x288 with 2 Axes>"
      ]
     },
     "metadata": {
      "needs_background": "light"
     },
     "output_type": "display_data"
    }
   ],
   "source": [
    "cm = confusion_matrix(y_test, pred6)\n",
    "\n",
    "group_counts = [\"{0:0.0f}\".format(value) for value in\n",
    "                cm.flatten()]\n",
    "group_percentages = [\"{0:.2%}\".format(value) for value in\n",
    "                     cm.flatten()/np.sum(cm)]\n",
    "\n",
    "labels = [f\"{v1}\\n{v2}\" for v1, v2, in\n",
    "          zip(group_counts,group_percentages)]\n",
    "labels = np.asarray(labels).reshape(2,2)\n",
    "\n",
    "ax = sns.heatmap(cm, annot=labels, fmt='', cmap='Blues')\n",
    "ax.set_title('Confusion Matrix \\n');\n",
    "\n",
    "ax.xaxis.set_ticklabels(['Predicted 0s', 'Predicted 1s'])\n",
    "ax.yaxis.set_ticklabels(['Actual 0s', 'Actual 1s'])\n",
    "\n",
    "## Display the visualization of the Confusion Matrix.\n",
    "plt.show()"
   ]
  },
  {
   "cell_type": "markdown",
   "id": "62db5442",
   "metadata": {},
   "source": [
    "### Support Vector Machine (SVM) Smote"
   ]
  },
  {
   "cell_type": "code",
   "execution_count": 71,
   "id": "02f04ad5",
   "metadata": {},
   "outputs": [
    {
     "name": "stdout",
     "output_type": "stream",
     "text": [
      "Accuracy Score   : 0.8555486670799752\n",
      "              precision    recall  f1-score   support\n",
      "\n",
      "           0       0.89      0.94      0.91      1306\n",
      "           1       0.65      0.51      0.58       307\n",
      "\n",
      "    accuracy                           0.86      1613\n",
      "   macro avg       0.77      0.73      0.74      1613\n",
      "weighted avg       0.85      0.86      0.85      1613\n",
      "\n"
     ]
    }
   ],
   "source": [
    "from sklearn import svm\n",
    "svm_model = svm.SVC()\n",
    "svm_model.fit(X_train_smote, y_train_smote)\n",
    "\n",
    "pred66 = svm_model.predict(X_test)\n",
    "\n",
    "print(\"Accuracy Score   :\", accuracy_score(y_test, pred66))\n",
    "print(classification_report(y_test, pred66))\n"
   ]
  },
  {
   "cell_type": "code",
   "execution_count": 72,
   "id": "f4db9549",
   "metadata": {},
   "outputs": [
    {
     "data": {
      "image/png": "[encoded data removed]",
      "text/plain": [
       "<Figure size 432x288 with 2 Axes>"
      ]
     },
     "metadata": {
      "needs_background": "light"
     },
     "output_type": "display_data"
    }
   ],
   "source": [
    "cmap = confusion_matrix(y_test, pred66)\n",
    "\n",
    "group_counts = [\"{0:0.0f}\".format(value) for value in\n",
    "                cm.flatten()]\n",
    "group_percentages = [\"{0:.2%}\".format(value) for value in\n",
    "                     cm.flatten()/np.sum(cm)]\n",
    "\n",
    "labels = [f\"{v1}\\n{v2}\" for v1, v2, in\n",
    "          zip(group_counts,group_percentages)]\n",
    "labels = np.asarray(labels).reshape(2,2)\n",
    "\n",
    "ax = sns.heatmap(cm, annot=labels, fmt='', cmap='Blues')\n",
    "ax.set_title('Confusion Matrix \\n');\n",
    "\n",
    "ax.xaxis.set_ticklabels(['Predicted 0s', 'Predicted 1s'])\n",
    "ax.yaxis.set_ticklabels(['Actual 0s', 'Actual 1s'])\n",
    "\n",
    "## Display the visualization of the Confusion Matrix.\n",
    "plt.show()"
   ]
  },
  {
   "cell_type": "code",
   "execution_count": 73,
   "id": "4fef8f6c",
   "metadata": {},
   "outputs": [
    {
     "name": "stdout",
     "output_type": "stream",
     "text": [
      "Accuracy Score Model Algoritma\n",
      "Logistic Regression : 0.8586484810911346\n",
      "Decision Tree       : 0.8257904525728457\n",
      "Random Forest       : 0.8729076255424675\n",
      "Niabe Bayes         : 0.8003719776813392\n",
      "KNN                 : 0.8456292622442654\n",
      "SVM                 : 0.8586484810911346\n",
      "\n",
      "Accuracy Score Model Algoritma Setelah smooth\n",
      "Logistic Regression : 0.861128332300062\n",
      "Decision Tree       : 0.8251704897706138\n",
      "Random Forest       : 0.8679479231246126\n",
      "Niabe Bayes         : 0.7315561066336019\n",
      "KNN                 : 0.8468691878487291\n",
      "SVM                 : 0.8555486670799752\n"
     ]
    }
   ],
   "source": [
    "print('Accuracy Score Model Algoritma')\n",
    "print(\"Logistic Regression :\", accuracy_score(y_test, pred1))\n",
    "print(\"Decision Tree       :\", accuracy_score(y_test, pred2))\n",
    "print(\"Random Forest       :\", accuracy_score(y_test, pred3))\n",
    "print(\"Niabe Bayes         :\", accuracy_score(y_test, pred4))\n",
    "print(\"KNN                 :\", accuracy_score(y_test, pred5))\n",
    "print(\"SVM                 :\", accuracy_score(y_test, pred6))\n",
    "\n",
    "\n",
    "\n",
    "print('\\nAccuracy Score Model Algoritma Setelah smooth')\n",
    "print(\"Logistic Regression :\", accuracy_score(y_test, pred11))\n",
    "print(\"Decision Tree       :\", accuracy_score(y_test, pred22))\n",
    "print(\"Random Forest       :\", accuracy_score(y_test, pred33))\n",
    "print(\"Niabe Bayes         :\", accuracy_score(y_test, pred44))\n",
    "print(\"KNN                 :\", accuracy_score(y_test, pred55))\n",
    "print(\"SVM                 :\", accuracy_score(y_test, pred66))"
   ]
  },
  {
   "cell_type": "markdown",
   "id": "cc9e0009",
   "metadata": {},
   "source": [
    "Dari hasil accuracy score diaatas terlihat bahwa Random Forest memiliki nilai paling tinggi diantara yang lain."
   ]
  }
 ],
 "metadata": {
  "kernelspec": {
   "display_name": "Python 3 (ipykernel)",
   "language": "python",
   "name": "python3"
  },
  "language_info": {
   "codemirror_mode": {
    "name": "ipython",
    "version": 3
   },
   "file_extension": ".py",
   "mimetype": "text/x-python",
   "name": "python",
   "nbconvert_exporter": "python",
   "pygments_lexer": "ipython3",
   "version": "3.8.7"
  }
 },
 "nbformat": 4,
 "nbformat_minor": 5
}
