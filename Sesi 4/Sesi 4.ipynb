{
 "cells": [
  {
   "cell_type": "markdown",
   "id": "9f38aa9b",
   "metadata": {
    "toc": true
   },
   "source": [
    "<h1>Sesi 4<span class=\"tocSkip\"></span></h1>\n",
    "<div class=\"toc\"><ul class=\"toc-item\"><li><span><a href=\"#Numpy-Introduction\" data-toc-modified-id=\"Numpy-Introduction-1\"><span class=\"toc-item-num\">1&nbsp;&nbsp;</span>Numpy Introduction</a></span></li><li><span><a href=\"#Creating-Array\" data-toc-modified-id=\"Creating-Array-2\"><span class=\"toc-item-num\">2&nbsp;&nbsp;</span>Creating Array</a></span></li><li><span><a href=\"#Add,-Remove,-and-Sort\" data-toc-modified-id=\"Add,-Remove,-and-Sort-3\"><span class=\"toc-item-num\">3&nbsp;&nbsp;</span>Add, Remove, and Sort</a></span></li><li><span><a href=\"#Shape-and-size\" data-toc-modified-id=\"Shape-and-size-4\"><span class=\"toc-item-num\">4&nbsp;&nbsp;</span>Shape and size</a></span></li><li><span><a href=\"#Reshape\" data-toc-modified-id=\"Reshape-5\"><span class=\"toc-item-num\">5&nbsp;&nbsp;</span>Reshape</a></span></li><li><span><a href=\"#Convert-1D-to-2D\" data-toc-modified-id=\"Convert-1D-to-2D-6\"><span class=\"toc-item-num\">6&nbsp;&nbsp;</span>Convert 1D to 2D</a></span></li><li><span><a href=\"#Indexing-and-Slicing\" data-toc-modified-id=\"Indexing-and-Slicing-7\"><span class=\"toc-item-num\">7&nbsp;&nbsp;</span>Indexing and Slicing</a></span></li><li><span><a href=\"#Creating-Array-from-Existing-Data\" data-toc-modified-id=\"Creating-Array-from-Existing-Data-8\"><span class=\"toc-item-num\">8&nbsp;&nbsp;</span>Creating Array from Existing Data</a></span></li><li><span><a href=\"#Basic-array-operations\" data-toc-modified-id=\"Basic-array-operations-9\"><span class=\"toc-item-num\">9&nbsp;&nbsp;</span>Basic array operations</a></span></li><li><span><a href=\"#Broadcasting\" data-toc-modified-id=\"Broadcasting-10\"><span class=\"toc-item-num\">10&nbsp;&nbsp;</span>Broadcasting</a></span></li><li><span><a href=\"#More-Array-Operations\" data-toc-modified-id=\"More-Array-Operations-11\"><span class=\"toc-item-num\">11&nbsp;&nbsp;</span>More Array Operations</a></span></li><li><span><a href=\"#Matrices\" data-toc-modified-id=\"Matrices-12\"><span class=\"toc-item-num\">12&nbsp;&nbsp;</span>Matrices</a></span></li><li><span><a href=\"#Creating-Matrices\" data-toc-modified-id=\"Creating-Matrices-13\"><span class=\"toc-item-num\">13&nbsp;&nbsp;</span>Creating Matrices</a></span></li><li><span><a href=\"#Matrix-Arithmetic\" data-toc-modified-id=\"Matrix-Arithmetic-14\"><span class=\"toc-item-num\">14&nbsp;&nbsp;</span>Matrix Arithmetic</a></span></li><li><span><a href=\"#Dot-Product\" data-toc-modified-id=\"Dot-Product-15\"><span class=\"toc-item-num\">15&nbsp;&nbsp;</span>Dot Product</a></span></li><li><span><a href=\"#Matrix-Indexing\" data-toc-modified-id=\"Matrix-Indexing-16\"><span class=\"toc-item-num\">16&nbsp;&nbsp;</span>Matrix Indexing</a></span></li><li><span><a href=\"#Matrix-Aggregation\" data-toc-modified-id=\"Matrix-Aggregation-17\"><span class=\"toc-item-num\">17&nbsp;&nbsp;</span>Matrix Aggregation</a></span></li><li><span><a href=\"#Transposing-and-Reshaping\" data-toc-modified-id=\"Transposing-and-Reshaping-18\"><span class=\"toc-item-num\">18&nbsp;&nbsp;</span>Transposing and Reshaping</a></span></li><li><span><a href=\"#N-Dimensional-Array\" data-toc-modified-id=\"N-Dimensional-Array-19\"><span class=\"toc-item-num\">19&nbsp;&nbsp;</span>N-Dimensional Array</a></span></li><li><span><a href=\"#Flatten-N-Dimensional-Array\" data-toc-modified-id=\"Flatten-N-Dimensional-Array-20\"><span class=\"toc-item-num\">20&nbsp;&nbsp;</span>Flatten N-Dimensional Array</a></span></li></ul></div>"
   ]
  },
  {
   "cell_type": "markdown",
   "id": "4af297f6",
   "metadata": {},
   "source": [
    "# Numpy Introduction"
   ]
  },
  {
   "cell_type": "markdown",
   "id": "458bda38",
   "metadata": {},
   "source": [
    "Numpy (Numerical Python) untuk data numerik. Inti eksositem ilmiah python. Pustaka \n",
    "numpy berisi multidimensi (multidimensional array) dan struktur data matriks. Numpy \n",
    "menyediakan ndarray, objek array n-dimensi homogen."
   ]
  },
  {
   "cell_type": "markdown",
   "id": "a8179901",
   "metadata": {},
   "source": [
    "**What is array?**"
   ]
  },
  {
   "cell_type": "markdown",
   "id": "28f9ba73",
   "metadata": {},
   "source": [
    "Array adalah stuktur data central dari peprustakan numpy. Array adalah grid of values dan \n",
    "berisi informasi tentang data mentah, cara menemukan elemen dan mempersentasikan elemen.\n",
    "Array dapat diindeks oleh tuple dri bilangan non negatif, boolean, atau bilangan bulat."
   ]
  },
  {
   "cell_type": "markdown",
   "id": "e882b45d",
   "metadata": {},
   "source": [
    "Pengindeksan Numpy dimulai dari 0. artinya jika kalian mengakses elemen pertama dalam array, kalian mengakses elemen \"0\""
   ]
  },
  {
   "cell_type": "code",
   "execution_count": 8,
   "id": "73d0856f",
   "metadata": {},
   "outputs": [
    {
     "data": {
      "text/plain": [
       "[[0.0, 0.0, 0], [1.0, 1.0, 1.0]]"
      ]
     },
     "execution_count": 8,
     "metadata": {},
     "output_type": "execute_result"
    }
   ],
   "source": [
    "[[0., 0., 0],\n",
    " [1., 1., 1.]]"
   ]
  },
  {
   "cell_type": "markdown",
   "id": "136068da",
   "metadata": {},
   "source": [
    "Array diatas memiliki 2 axes (dimensi). Axis pertama panjangnya 2. axis kedua panjang 3"
   ]
  },
  {
   "cell_type": "markdown",
   "id": "d2b3555f",
   "metadata": {},
   "source": [
    "# Creating Array "
   ]
  },
  {
   "cell_type": "code",
   "execution_count": 15,
   "id": "049dea1a",
   "metadata": {},
   "outputs": [
    {
     "data": {
      "text/plain": [
       "array([1, 2, 3, 4, 5])"
      ]
     },
     "execution_count": 15,
     "metadata": {},
     "output_type": "execute_result"
    }
   ],
   "source": [
    "import numpy as np\n",
    "a = np.array([1,2,3,4,5])\n",
    "a"
   ]
  },
  {
   "cell_type": "markdown",
   "id": "5d551bf6",
   "metadata": {},
   "source": [
    "Numpy menyediakan metode seperti ones(), zeros, dan lain2"
   ]
  },
  {
   "cell_type": "code",
   "execution_count": 18,
   "id": "b67c58db",
   "metadata": {},
   "outputs": [
    {
     "data": {
      "text/plain": [
       "array([0., 0., 0., 0., 0., 0.])"
      ]
     },
     "execution_count": 18,
     "metadata": {},
     "output_type": "execute_result"
    }
   ],
   "source": [
    "# you can easily create an array filled with 0s:\n",
    "\n",
    "np.zeros(6)"
   ]
  },
  {
   "cell_type": "code",
   "execution_count": 19,
   "id": "d398043d",
   "metadata": {},
   "outputs": [
    {
     "data": {
      "text/plain": [
       "array([1., 1., 1., 1., 1., 1.])"
      ]
     },
     "execution_count": 19,
     "metadata": {},
     "output_type": "execute_result"
    }
   ],
   "source": [
    "# On array filled with 1s:\n",
    "\n",
    "np.ones(6)"
   ]
  },
  {
   "cell_type": "code",
   "execution_count": 20,
   "id": "2e3895c8",
   "metadata": {},
   "outputs": [
    {
     "data": {
      "text/plain": [
       "array([1.69759663e-313, 8.48798317e-314])"
      ]
     },
     "execution_count": 20,
     "metadata": {},
     "output_type": "execute_result"
    }
   ],
   "source": [
    "# or even an empty array!\n",
    "# the function empty creates an array whose initial content is random and depends on the state of the memory\n",
    "\n",
    "np.empty(6)\n",
    "np.empty(2)"
   ]
  },
  {
   "cell_type": "code",
   "execution_count": 22,
   "id": "2cf5d631",
   "metadata": {},
   "outputs": [
    {
     "name": "stdout",
     "output_type": "stream",
     "text": [
      "[0 1 2 3 4 5]\n",
      "[0 2 4 6 8]\n",
      "[10  8  6  4]\n",
      "[2 5 8]\n"
     ]
    }
   ],
   "source": [
    "# you can create an array with a range of elements\n",
    "\n",
    "print(np.arange(6))\n",
    "print(np.arange(0,10,2))\n",
    "print(np.arange(10,2,-2))\n",
    "print(np.arange(2,10,3))\n"
   ]
  },
  {
   "cell_type": "markdown",
   "id": "7ef57ad6",
   "metadata": {},
   "source": [
    "apa yang dilakukan arange([start], stop,[step]) adalah mengatur angka dari awal sampai berhenti. "
   ]
  },
  {
   "cell_type": "markdown",
   "id": "c923727f",
   "metadata": {},
   "source": [
    "# Add, Remove, and Sort"
   ]
  },
  {
   "cell_type": "markdown",
   "id": "d52f6147",
   "metadata": {},
   "source": [
    "Menambhakn elemen ke array dengan **np.arrayppend()**"
   ]
  },
  {
   "cell_type": "code",
   "execution_count": 25,
   "id": "3d7c5907",
   "metadata": {},
   "outputs": [
    {
     "data": {
      "text/plain": [
       "array([1, 2, 3, 4, 5, 6, 7, 8, 1, 2])"
      ]
     },
     "execution_count": 25,
     "metadata": {},
     "output_type": "execute_result"
    }
   ],
   "source": [
    "arr = np.array([1,2,3,4,5,6,7,8])\n",
    "np.append(arr,[1,2])"
   ]
  },
  {
   "cell_type": "markdown",
   "id": "16386cb7",
   "metadata": {},
   "source": [
    "Kalian bisa menghapus elemen dengan **np.delete()**"
   ]
  },
  {
   "cell_type": "code",
   "execution_count": 27,
   "id": "f694ec5e",
   "metadata": {},
   "outputs": [
    {
     "data": {
      "text/plain": [
       "array([1, 3, 4, 5, 6, 7, 8])"
      ]
     },
     "execution_count": 27,
     "metadata": {},
     "output_type": "execute_result"
    }
   ],
   "source": [
    "np.delete(arr,1)"
   ]
  },
  {
   "cell_type": "markdown",
   "id": "00ea45d0",
   "metadata": {},
   "source": [
    "Mengurutkan elemen dengan **np.sort()**"
   ]
  },
  {
   "cell_type": "code",
   "execution_count": 29,
   "id": "daed5780",
   "metadata": {},
   "outputs": [
    {
     "data": {
      "text/plain": [
       "array([ 2,  4, 11, 19, 27])"
      ]
     },
     "execution_count": 29,
     "metadata": {},
     "output_type": "execute_result"
    }
   ],
   "source": [
    "brr= np.array([11,4,2,19,27])\n",
    "np.sort(brr)"
   ]
  },
  {
   "cell_type": "markdown",
   "id": "c453e9e5",
   "metadata": {},
   "source": [
    "# Shape and size"
   ]
  },
  {
   "cell_type": "code",
   "execution_count": 32,
   "id": "fdd64578",
   "metadata": {},
   "outputs": [
    {
     "name": "stdout",
     "output_type": "stream",
     "text": [
      "[[[0 1 2 3]\n",
      "  [4 5 6 7]]\n",
      "\n",
      " [[0 1 2 3]\n",
      "  [4 5 6 7]]\n",
      "\n",
      " [[0 1 2 3]\n",
      "  [4 5 6 7]]]\n"
     ]
    }
   ],
   "source": [
    "ar =  np.array([[[0,1,2,3],\n",
    "                 [4,5,6,7]],\n",
    "\n",
    "                 [[0,1,2,3],\n",
    "                  [4,5,6,7]],\n",
    "\n",
    "                 [[0,1,2,3],\n",
    "                  [4,5,6,7]]])\n",
    "print(ar)"
   ]
  },
  {
   "cell_type": "markdown",
   "id": "0c57dd03",
   "metadata": {},
   "source": [
    "**ar.nidm** akan memberi tahu jumlah axes/dimensi dari array"
   ]
  },
  {
   "cell_type": "code",
   "execution_count": 35,
   "id": "665c69de",
   "metadata": {},
   "outputs": [
    {
     "data": {
      "text/plain": [
       "3"
      ]
     },
     "execution_count": 35,
     "metadata": {},
     "output_type": "execute_result"
    }
   ],
   "source": [
    "ar.ndim"
   ]
  },
  {
   "cell_type": "markdown",
   "id": "741028b7",
   "metadata": {},
   "source": [
    "**ar.size** akan memberi tahu kalian jumlah total elemen array"
   ]
  },
  {
   "cell_type": "code",
   "execution_count": 34,
   "id": "8787247f",
   "metadata": {},
   "outputs": [
    {
     "data": {
      "text/plain": [
       "24"
      ]
     },
     "execution_count": 34,
     "metadata": {},
     "output_type": "execute_result"
    }
   ],
   "source": [
    "ar.size"
   ]
  },
  {
   "cell_type": "markdown",
   "id": "1d983bf0",
   "metadata": {},
   "source": [
    "ar.shape akan menampilkan tuple integer yang menunjukan jumlah elemen yang akan disimpan di sepanjang setiap dimensi array"
   ]
  },
  {
   "cell_type": "code",
   "execution_count": 37,
   "id": "1f0c8a5c",
   "metadata": {},
   "outputs": [
    {
     "data": {
      "text/plain": [
       "(3, 2, 4)"
      ]
     },
     "execution_count": 37,
     "metadata": {},
     "output_type": "execute_result"
    }
   ],
   "source": [
    "ar.shape"
   ]
  },
  {
   "cell_type": "code",
   "execution_count": 38,
   "id": "d7273293",
   "metadata": {},
   "outputs": [],
   "source": [
    "arr_one = np.array([[1,2,3,4,5]])"
   ]
  },
  {
   "cell_type": "code",
   "execution_count": 39,
   "id": "2d4d584c",
   "metadata": {},
   "outputs": [
    {
     "data": {
      "text/plain": [
       "2"
      ]
     },
     "execution_count": 39,
     "metadata": {},
     "output_type": "execute_result"
    }
   ],
   "source": [
    "arr_one.ndim"
   ]
  },
  {
   "cell_type": "code",
   "execution_count": 40,
   "id": "e2f294bd",
   "metadata": {},
   "outputs": [
    {
     "data": {
      "text/plain": [
       "5"
      ]
     },
     "execution_count": 40,
     "metadata": {},
     "output_type": "execute_result"
    }
   ],
   "source": [
    "arr_one.size"
   ]
  },
  {
   "cell_type": "code",
   "execution_count": 41,
   "id": "678dcb6e",
   "metadata": {},
   "outputs": [
    {
     "data": {
      "text/plain": [
       "(1, 5)"
      ]
     },
     "execution_count": 41,
     "metadata": {},
     "output_type": "execute_result"
    }
   ],
   "source": [
    "arr_one.shape"
   ]
  },
  {
   "cell_type": "markdown",
   "id": "375f4305",
   "metadata": {},
   "source": [
    "# Reshape"
   ]
  },
  {
   "cell_type": "markdown",
   "id": "b3a33751",
   "metadata": {},
   "source": [
    "reshape() akan memberikan bentuk baru ke array tanpa mengubah datanya. "
   ]
  },
  {
   "cell_type": "code",
   "execution_count": 45,
   "id": "58e2967c",
   "metadata": {},
   "outputs": [
    {
     "name": "stdout",
     "output_type": "stream",
     "text": [
      "[0 1 2 3 4 5]\n"
     ]
    }
   ],
   "source": [
    "a = np.arange(6)\n",
    "print(a)"
   ]
  },
  {
   "cell_type": "code",
   "execution_count": 46,
   "id": "08172be1",
   "metadata": {},
   "outputs": [
    {
     "name": "stdout",
     "output_type": "stream",
     "text": [
      "contoh reshape 3,2\n",
      "[[0 1]\n",
      " [2 3]\n",
      " [4 5]]\n"
     ]
    }
   ],
   "source": [
    "print(\"contoh reshape 3,2\")\n",
    "b = a.reshape(3,2)\n",
    "print(b)"
   ]
  },
  {
   "cell_type": "code",
   "execution_count": 47,
   "id": "95561c85",
   "metadata": {},
   "outputs": [
    {
     "data": {
      "text/plain": [
       "array([[0],\n",
       "       [1],\n",
       "       [2],\n",
       "       [3],\n",
       "       [4],\n",
       "       [5]])"
      ]
     },
     "execution_count": 47,
     "metadata": {},
     "output_type": "execute_result"
    }
   ],
   "source": [
    "a.reshape(6,1)"
   ]
  },
  {
   "cell_type": "markdown",
   "id": "0a4cae1e",
   "metadata": {},
   "source": [
    "Dengan np.reshape kalian akan dapat menentukan beberapa parameter opsional:\n",
    "\n",
    "**np.reshape(a, newshape, order)**\n",
    "1. a : array yang akan direshaped\n",
    "2. newshape : bentuk baru yang kalian inginkan. kalian dapat menetukan integer atau tuple integer.\n",
    "3. order"
   ]
  },
  {
   "cell_type": "markdown",
   "id": "0d22f66b",
   "metadata": {},
   "source": [
    "# Convert 1D to 2D"
   ]
  },
  {
   "cell_type": "markdown",
   "id": "9dcef978",
   "metadata": {},
   "source": [
    "np.newaxis akan meningkatkan dimensi array kalian sebesar satu dimensi bila diguanakn sekali. Srtinya array 1D akan menajdi 2D"
   ]
  },
  {
   "cell_type": "code",
   "execution_count": 48,
   "id": "8802fbe6",
   "metadata": {},
   "outputs": [
    {
     "data": {
      "text/plain": [
       "(6,)"
      ]
     },
     "execution_count": 48,
     "metadata": {},
     "output_type": "execute_result"
    }
   ],
   "source": [
    "a = np.array([1,2,3,4,5,6])\n",
    "a.shape"
   ]
  },
  {
   "cell_type": "code",
   "execution_count": 50,
   "id": "903f77c7",
   "metadata": {},
   "outputs": [
    {
     "name": "stdout",
     "output_type": "stream",
     "text": [
      "(1, 6)\n",
      "[[1 2 3 4 5 6]]\n"
     ]
    }
   ],
   "source": [
    "# You can use np.newaxis to add a new axis\n",
    "a2 = a[np.newaxis]\n",
    "print(a2.shape)\n",
    "print(a2)"
   ]
  },
  {
   "cell_type": "code",
   "execution_count": 51,
   "id": "59351ebc",
   "metadata": {},
   "outputs": [
    {
     "name": "stdout",
     "output_type": "stream",
     "text": [
      "(1, 6)\n",
      "[[1 2 3 4 5 6]]\n"
     ]
    }
   ],
   "source": [
    "# U can convert 1d to a row vector by inserting an azis along the first dimension\n",
    "row_vector=a[np.newaxis, :]\n",
    "print(row_vector.shape)\n",
    "print(row_vector) "
   ]
  },
  {
   "cell_type": "code",
   "execution_count": 52,
   "id": "638e7370",
   "metadata": {},
   "outputs": [
    {
     "name": "stdout",
     "output_type": "stream",
     "text": [
      "(6, 1)\n",
      "[[1]\n",
      " [2]\n",
      " [3]\n",
      " [4]\n",
      " [5]\n",
      " [6]]\n"
     ]
    }
   ],
   "source": [
    "# For a column vector, u can insert an axis along the second dimension\n",
    "col_vector = a[:, np.newaxis]\n",
    "print(col_vector.shape)\n",
    "print(col_vector)"
   ]
  },
  {
   "cell_type": "markdown",
   "id": "ca27ef9a",
   "metadata": {},
   "source": [
    "Kalian juga dapat memperluas array dengan mamasukkan axis baru kepada posisi yang ditentukan dengan **np.expand_dims**"
   ]
  },
  {
   "cell_type": "code",
   "execution_count": 54,
   "id": "6850a483",
   "metadata": {},
   "outputs": [
    {
     "name": "stdout",
     "output_type": "stream",
     "text": [
      "(6,)\n"
     ]
    }
   ],
   "source": [
    "a = np.array([1,2,3,4,5,6])\n",
    "print(a.shape)"
   ]
  },
  {
   "cell_type": "code",
   "execution_count": 56,
   "id": "4e541013",
   "metadata": {},
   "outputs": [
    {
     "name": "stdout",
     "output_type": "stream",
     "text": [
      "(6, 1)\n"
     ]
    }
   ],
   "source": [
    "# You can use np.expand_dims to add an axis at index position 1 with:\n",
    "b = np.expand_dims(a, axis=1)\n",
    "print(b.shape)"
   ]
  },
  {
   "cell_type": "code",
   "execution_count": 58,
   "id": "67dbe859",
   "metadata": {},
   "outputs": [
    {
     "name": "stdout",
     "output_type": "stream",
     "text": [
      "(1, 6)\n"
     ]
    }
   ],
   "source": [
    "# You can use np.expand_dims to add an axis at index position 0 with:\n",
    "c = np.expand_dims(a, axis=0)\n",
    "print(c.shape)"
   ]
  },
  {
   "cell_type": "markdown",
   "id": "69b28a3a",
   "metadata": {},
   "source": [
    "# Indexing and Slicing"
   ]
  },
  {
   "cell_type": "code",
   "execution_count": 61,
   "id": "4ae434ab",
   "metadata": {},
   "outputs": [
    {
     "name": "stdout",
     "output_type": "stream",
     "text": [
      "[1 2 3]\n",
      "1\n",
      "2\n",
      "[1 2]\n",
      "[2 3]\n",
      "[2 3]\n"
     ]
    }
   ],
   "source": [
    "data = np.array([1,2,3])\n",
    "\n",
    "print(data)\n",
    "print(data[0])\n",
    "print(data[1])\n",
    "print(data[0:2])\n",
    "print(data[1:])\n",
    "print(data[-2:])"
   ]
  },
  {
   "cell_type": "markdown",
   "id": "133b61da",
   "metadata": {},
   "source": [
    "Dalam melakukan analisis mungkin kita akan mengambil bagian array atau elemen array."
   ]
  },
  {
   "cell_type": "code",
   "execution_count": 62,
   "id": "d214d6cb",
   "metadata": {},
   "outputs": [
    {
     "data": {
      "text/plain": [
       "array([[ 1,  2,  3,  4],\n",
       "       [ 5,  6,  7,  8],\n",
       "       [ 9, 10, 11, 12]])"
      ]
     },
     "execution_count": 62,
     "metadata": {},
     "output_type": "execute_result"
    }
   ],
   "source": [
    "a = np.array([[1,2,3,4],\n",
    "              [5,6,7,8],\n",
    "              [9,10,11,12]\n",
    "              ])\n",
    "a"
   ]
  },
  {
   "cell_type": "code",
   "execution_count": 65,
   "id": "05f1bdeb",
   "metadata": {},
   "outputs": [
    {
     "name": "stdout",
     "output_type": "stream",
     "text": [
      "[ 5  6  7  8  9 10 11 12]\n"
     ]
    }
   ],
   "source": [
    "# You can easly print all of the values in the array that are less than 5\n",
    "\n",
    "print(a[a>=5])"
   ]
  },
  {
   "cell_type": "code",
   "execution_count": 66,
   "id": "4562db5e",
   "metadata": {},
   "outputs": [
    {
     "name": "stdout",
     "output_type": "stream",
     "text": [
      "[ 5  6  7  8  9 10 11 12]\n",
      "[ 6  7  8  9 10 11 12]\n"
     ]
    }
   ],
   "source": [
    "five_up=(a>=5)\n",
    "\n",
    "print(a[five_up])\n",
    "print(a[a>5])"
   ]
  },
  {
   "cell_type": "code",
   "execution_count": 68,
   "id": "0630fc26",
   "metadata": {},
   "outputs": [
    {
     "name": "stdout",
     "output_type": "stream",
     "text": [
      "[ 2  4  6  8 10 12]\n"
     ]
    }
   ],
   "source": [
    "# You can select elements that are divisible by 2\n",
    "\n",
    "divisible_by_2=a[a%2==0]\n",
    "\n",
    "print(divisible_by_2)"
   ]
  },
  {
   "cell_type": "code",
   "execution_count": 70,
   "id": "63ea20b2",
   "metadata": {},
   "outputs": [
    {
     "name": "stdout",
     "output_type": "stream",
     "text": [
      "[ 3  4  5  6  7  8  9 10]\n"
     ]
    }
   ],
   "source": [
    "# you can select elemen that satisfy two conditions using the and | operator\"\n",
    "\n",
    "c = a[(a>2)&(a<11)]\n",
    "print(c)"
   ]
  },
  {
   "cell_type": "markdown",
   "id": "d9a78d13",
   "metadata": {},
   "source": [
    "# Creating Array from Existing Data"
   ]
  },
  {
   "cell_type": "markdown",
   "id": "5cbd6d75",
   "metadata": {},
   "source": [
    "Kita dapat membuat array baaru dari bagian array yang sudah ada."
   ]
  },
  {
   "cell_type": "code",
   "execution_count": 71,
   "id": "9e891880",
   "metadata": {},
   "outputs": [],
   "source": [
    "arr = np.array([1, 2, 3, 4, 5, 6, 7, 8, 9, 10])"
   ]
  },
  {
   "cell_type": "code",
   "execution_count": 73,
   "id": "538560a0",
   "metadata": {},
   "outputs": [
    {
     "data": {
      "text/plain": [
       "array([4, 5, 6, 7, 8])"
      ]
     },
     "execution_count": 73,
     "metadata": {},
     "output_type": "execute_result"
    }
   ],
   "source": [
    "arr1= arr[3:8]\n",
    "arr1"
   ]
  },
  {
   "cell_type": "markdown",
   "id": "e1842961",
   "metadata": {},
   "source": [
    "Kita juga dapat menumpuk dua array yang ada, baik secara vertikal maupun horizontal"
   ]
  },
  {
   "cell_type": "code",
   "execution_count": 74,
   "id": "4c911560",
   "metadata": {},
   "outputs": [],
   "source": [
    "a_1=([[1,1],\n",
    "     [2,2]])\n",
    "a_2=([[3,3],\n",
    "     [4,4]])"
   ]
  },
  {
   "cell_type": "markdown",
   "id": "5331a021",
   "metadata": {},
   "source": [
    "Menumpuk vertikal dengan **vstack**"
   ]
  },
  {
   "cell_type": "code",
   "execution_count": 76,
   "id": "d3e9e797",
   "metadata": {},
   "outputs": [
    {
     "data": {
      "text/plain": [
       "array([[1, 1],\n",
       "       [2, 2],\n",
       "       [3, 3],\n",
       "       [4, 4]])"
      ]
     },
     "execution_count": 76,
     "metadata": {},
     "output_type": "execute_result"
    }
   ],
   "source": [
    "np.vstack((a_1,a_2))"
   ]
  },
  {
   "cell_type": "code",
   "execution_count": 77,
   "id": "97ded810",
   "metadata": {},
   "outputs": [
    {
     "data": {
      "text/plain": [
       "array([[1, 1, 3, 3],\n",
       "       [2, 2, 4, 4]])"
      ]
     },
     "execution_count": 77,
     "metadata": {},
     "output_type": "execute_result"
    }
   ],
   "source": [
    "# or stack them horizontal with hstack\n",
    "\n",
    "np.hstack((a_1,a_2))"
   ]
  },
  {
   "cell_type": "markdown",
   "id": "c2b0875b",
   "metadata": {},
   "source": [
    "Kita juga dapat membagi sebuah array menjadi beberapa array yang lebih kecil menggunakan hsplit. Kita dapat mennetukan jumlah array yang bentuknya sama untuk dikmebalikan atau kolom setelah pembagian dilakukan."
   ]
  },
  {
   "cell_type": "code",
   "execution_count": 79,
   "id": "fa251fe4",
   "metadata": {},
   "outputs": [
    {
     "name": "stdout",
     "output_type": "stream",
     "text": [
      "[[ 1  2  3  4  5  6]\n",
      " [ 7  8  9 10 11 12]]\n"
     ]
    }
   ],
   "source": [
    "array_split=np.array([[1,2,3,4,5,6],\n",
    "                    [7,8,9,10,11,12]])\n",
    "print(array_split)"
   ]
  },
  {
   "cell_type": "code",
   "execution_count": 81,
   "id": "a4f956fe",
   "metadata": {},
   "outputs": [
    {
     "name": "stdout",
     "output_type": "stream",
     "text": [
      "[array([[1, 2],\n",
      "       [7, 8]]), array([[ 3,  4],\n",
      "       [ 9, 10]]), array([[ 5,  6],\n",
      "       [11, 12]])]\n"
     ]
    }
   ],
   "source": [
    "# if you wanted to split this array into three equally shaped arrays\n",
    "print(np.hsplit(array_split,3))"
   ]
  },
  {
   "cell_type": "markdown",
   "id": "a9c8493c",
   "metadata": {},
   "source": [
    "Metode view untuk membuat objek baru yang terlihat sama dengan array asli( shallow copy)"
   ]
  },
  {
   "cell_type": "code",
   "execution_count": 83,
   "id": "26e27087",
   "metadata": {},
   "outputs": [
    {
     "data": {
      "text/plain": [
       "array([[ 1,  2,  3,  4],\n",
       "       [ 5,  6,  7,  8],\n",
       "       [ 9, 10, 11, 12]])"
      ]
     },
     "execution_count": 83,
     "metadata": {},
     "output_type": "execute_result"
    }
   ],
   "source": [
    "v = np.array([[1,2,3,4],[5,6,7,8],[9,10,11,12]])\n",
    "v"
   ]
  },
  {
   "cell_type": "code",
   "execution_count": 86,
   "id": "d0f04b8d",
   "metadata": {},
   "outputs": [
    {
     "data": {
      "text/plain": [
       "array([[ 1,  2,  3,  4],\n",
       "       [ 5,  6,  7,  8],\n",
       "       [ 9, 10, 11, 12]])"
      ]
     },
     "execution_count": 86,
     "metadata": {},
     "output_type": "execute_result"
    }
   ],
   "source": [
    "# You can create a new array object that looks at the same data\n",
    "\n",
    "va=v.view()\n",
    "va"
   ]
  },
  {
   "cell_type": "code",
   "execution_count": 88,
   "id": "b6f8e97b",
   "metadata": {},
   "outputs": [
    {
     "data": {
      "text/plain": [
       "array([[ 1,  2,  3,  4],\n",
       "       [ 5,  6,  7,  8],\n",
       "       [ 9, 10, 11, 12]])"
      ]
     },
     "execution_count": 88,
     "metadata": {},
     "output_type": "execute_result"
    }
   ],
   "source": [
    "# Using the copy method will make a complete copy of the array and its data ( a deep copy )\n",
    "vb=v.copy()\n",
    "vb"
   ]
  },
  {
   "cell_type": "markdown",
   "id": "5a9c8fe0",
   "metadata": {},
   "source": [
    "# Basic array operations"
   ]
  },
  {
   "cell_type": "markdown",
   "id": "54f88996",
   "metadata": {},
   "source": [
    "Menemukan penjumlahan hasil elemen dalam array dengan **sum()**"
   ]
  },
  {
   "cell_type": "code",
   "execution_count": 91,
   "id": "5f8fda59",
   "metadata": {},
   "outputs": [
    {
     "data": {
      "text/plain": [
       "10"
      ]
     },
     "execution_count": 91,
     "metadata": {},
     "output_type": "execute_result"
    }
   ],
   "source": [
    "a = np.array([1,2,3,4])\n",
    "\n",
    "# Add all of the elements in the array\n",
    "a.sum()"
   ]
  },
  {
   "cell_type": "markdown",
   "id": "324bab31",
   "metadata": {},
   "source": [
    "Untuk menambahkan baris atau kolom dalam array 2D, kalian harus menentukan axis."
   ]
  },
  {
   "cell_type": "code",
   "execution_count": 92,
   "id": "f589cac7",
   "metadata": {},
   "outputs": [
    {
     "data": {
      "text/plain": [
       "array([[1, 1],\n",
       "       [2, 2]])"
      ]
     },
     "execution_count": 92,
     "metadata": {},
     "output_type": "execute_result"
    }
   ],
   "source": [
    "b = np.array([[1,1], [2,2]])\n",
    "b"
   ]
  },
  {
   "cell_type": "code",
   "execution_count": 93,
   "id": "199f140e",
   "metadata": {},
   "outputs": [
    {
     "data": {
      "text/plain": [
       "array([3, 3])"
      ]
     },
     "execution_count": 93,
     "metadata": {},
     "output_type": "execute_result"
    }
   ],
   "source": [
    "# You can sum the rows\n",
    "b.sum(axis=0)"
   ]
  },
  {
   "cell_type": "code",
   "execution_count": 94,
   "id": "501a74aa",
   "metadata": {},
   "outputs": [
    {
     "data": {
      "text/plain": [
       "array([2, 4])"
      ]
     },
     "execution_count": 94,
     "metadata": {},
     "output_type": "execute_result"
    }
   ],
   "source": [
    "# You can sum the columns\n",
    "b.sum(axis=1)"
   ]
  },
  {
   "cell_type": "code",
   "execution_count": 96,
   "id": "d4b65be4",
   "metadata": {},
   "outputs": [
    {
     "data": {
      "text/plain": [
       "array([1, 2])"
      ]
     },
     "execution_count": 96,
     "metadata": {},
     "output_type": "execute_result"
    }
   ],
   "source": [
    "data = np.array([1,2])\n",
    "data"
   ]
  },
  {
   "cell_type": "code",
   "execution_count": 97,
   "id": "23cb4686",
   "metadata": {},
   "outputs": [
    {
     "data": {
      "text/plain": [
       "array([1., 1.])"
      ]
     },
     "execution_count": 97,
     "metadata": {},
     "output_type": "execute_result"
    }
   ],
   "source": [
    "ones = np.ones(2)\n",
    "ones"
   ]
  },
  {
   "cell_type": "code",
   "execution_count": 98,
   "id": "bf23ca4d",
   "metadata": {},
   "outputs": [
    {
     "data": {
      "text/plain": [
       "array([2., 3.])"
      ]
     },
     "execution_count": 98,
     "metadata": {},
     "output_type": "execute_result"
    }
   ],
   "source": [
    "data + ones"
   ]
  },
  {
   "cell_type": "code",
   "execution_count": 99,
   "id": "c3414d2b",
   "metadata": {},
   "outputs": [
    {
     "data": {
      "text/plain": [
       "array([1, 4])"
      ]
     },
     "execution_count": 99,
     "metadata": {},
     "output_type": "execute_result"
    }
   ],
   "source": [
    "data * data"
   ]
  },
  {
   "cell_type": "code",
   "execution_count": 100,
   "id": "77fabf1a",
   "metadata": {},
   "outputs": [
    {
     "data": {
      "text/plain": [
       "array([1., 1.])"
      ]
     },
     "execution_count": 100,
     "metadata": {},
     "output_type": "execute_result"
    }
   ],
   "source": [
    "data / data"
   ]
  },
  {
   "cell_type": "markdown",
   "id": "580e257e",
   "metadata": {},
   "source": [
    "# Broadcasting"
   ]
  },
  {
   "cell_type": "markdown",
   "id": "3126c938",
   "metadata": {},
   "source": [
    "ada kalanya ingin melakukan operai antara array dan stau bilangan ( juga disebut operasi antara vektor dan skalar) atau anatara array dengan dua ukuran berbeda."
   ]
  },
  {
   "cell_type": "markdown",
   "id": "ef276d72",
   "metadata": {},
   "source": [
    "Numpy memahami bahwa perkalian harus dilakukan dengan setiap sel. konspe itu disebut broadcasting."
   ]
  },
  {
   "cell_type": "markdown",
   "id": "f2707639",
   "metadata": {},
   "source": [
    "Jadi Broadcasting adalah mekanisme yang memungkinkan \n",
    "numpy melakukan operasi pada array dengan bentuk berbeda"
   ]
  },
  {
   "cell_type": "code",
   "execution_count": 101,
   "id": "f39a2f23",
   "metadata": {},
   "outputs": [
    {
     "data": {
      "text/plain": [
       "array([2, 4])"
      ]
     },
     "execution_count": 101,
     "metadata": {},
     "output_type": "execute_result"
    }
   ],
   "source": [
    "data * 2"
   ]
  },
  {
   "cell_type": "markdown",
   "id": "42cb4acc",
   "metadata": {},
   "source": [
    "# More Array Operations"
   ]
  },
  {
   "cell_type": "markdown",
   "id": "70515d8c",
   "metadata": {},
   "source": [
    "Numpy juga melakukan fungsi agregasi. Selain min, max dan sum. juga bisa menjalaankan \n",
    "- mean untuk mendapatkan rata2, \n",
    "- proud untuk mendapatkan hasil perkalian elemen, \n",
    "- std untuk mendapatkan standart deviation"
   ]
  },
  {
   "cell_type": "code",
   "execution_count": 104,
   "id": "9dd4e979",
   "metadata": {},
   "outputs": [
    {
     "name": "stdout",
     "output_type": "stream",
     "text": [
      "[[0.45053314 0.17296777 0.34376245 0.5510652 ]\n",
      " [0.54627315 0.05093587 0.40067661 0.55645993]\n",
      " [0.12697628 0.82485143 0.26590556 0.56917101]]\n"
     ]
    }
   ],
   "source": [
    "A = np.array([[0.45053314, 0.17296777, 0.34376245, 0.5510652],\n",
    "              [0.54627315, 0.05093587, 0.40067661, 0.55645993],\n",
    "              [0.12697628, 0.82485143, 0.26590556, 0.56917101]])\n",
    "print(A)"
   ]
  },
  {
   "cell_type": "code",
   "execution_count": 105,
   "id": "31629d7b",
   "metadata": {},
   "outputs": [
    {
     "data": {
      "text/plain": [
       "4.8595784"
      ]
     },
     "execution_count": 105,
     "metadata": {},
     "output_type": "execute_result"
    }
   ],
   "source": [
    "A.sum()"
   ]
  },
  {
   "cell_type": "code",
   "execution_count": 106,
   "id": "bf0732ea",
   "metadata": {},
   "outputs": [
    {
     "data": {
      "text/plain": [
       "0.05093587"
      ]
     },
     "execution_count": 106,
     "metadata": {},
     "output_type": "execute_result"
    }
   ],
   "source": [
    "A.min()"
   ]
  },
  {
   "cell_type": "code",
   "execution_count": 107,
   "id": "da4b9449",
   "metadata": {},
   "outputs": [
    {
     "data": {
      "text/plain": [
       "array([0.12697628, 0.05093587, 0.26590556, 0.5510652 ])"
      ]
     },
     "execution_count": 107,
     "metadata": {},
     "output_type": "execute_result"
    }
   ],
   "source": [
    "A.min(axis=0)"
   ]
  },
  {
   "cell_type": "code",
   "execution_count": 108,
   "id": "99f86e6f",
   "metadata": {},
   "outputs": [
    {
     "data": {
      "text/plain": [
       "0.82485143"
      ]
     },
     "execution_count": 108,
     "metadata": {},
     "output_type": "execute_result"
    }
   ],
   "source": [
    "A.max()"
   ]
  },
  {
   "cell_type": "code",
   "execution_count": 109,
   "id": "be6cebbf",
   "metadata": {},
   "outputs": [
    {
     "data": {
      "text/plain": [
       "array([0.5510652 , 0.55645993, 0.82485143])"
      ]
     },
     "execution_count": 109,
     "metadata": {},
     "output_type": "execute_result"
    }
   ],
   "source": [
    "A.max(axis=1)"
   ]
  },
  {
   "cell_type": "code",
   "execution_count": 110,
   "id": "987f4107",
   "metadata": {},
   "outputs": [
    {
     "data": {
      "text/plain": [
       "0.21392120766089617"
      ]
     },
     "execution_count": 110,
     "metadata": {},
     "output_type": "execute_result"
    }
   ],
   "source": [
    "A.std()"
   ]
  },
  {
   "cell_type": "markdown",
   "id": "83e2e8db",
   "metadata": {},
   "source": [
    "# Matrices"
   ]
  },
  {
   "cell_type": "markdown",
   "id": "fdb66350",
   "metadata": {},
   "source": [
    "Kita dapat meneruskan listsof lists python untuk membuat matriks untuk mewakilinya di numpy"
   ]
  },
  {
   "cell_type": "markdown",
   "id": "0b65018e",
   "metadata": {},
   "source": [
    "# Creating Matrices"
   ]
  },
  {
   "cell_type": "markdown",
   "id": "16df50fa",
   "metadata": {},
   "source": [
    "kita juga dapat menggunakan metode yang sama selama kita memberi mereka tuple yangg menggambarkan dimensi matriks"
   ]
  },
  {
   "cell_type": "code",
   "execution_count": 114,
   "id": "c671e621",
   "metadata": {},
   "outputs": [
    {
     "name": "stdout",
     "output_type": "stream",
     "text": [
      "[[1. 1.]\n",
      " [1. 1.]\n",
      " [1. 1.]]\n",
      "[[0. 0.]\n",
      " [0. 0.]\n",
      " [0. 0.]]\n",
      "[[0.77663993 0.5924969 ]\n",
      " [0.74020425 0.57809627]\n",
      " [0.97604798 0.96324549]]\n"
     ]
    }
   ],
   "source": [
    "print(np.ones((3,2)))\n",
    "print(np.zeros((3,2)))\n",
    "print(np.random.random((3,2)))"
   ]
  },
  {
   "cell_type": "markdown",
   "id": "b9ec640c",
   "metadata": {},
   "source": [
    "# Matrix Arithmetic"
   ]
  },
  {
   "cell_type": "markdown",
   "id": "d045ee27",
   "metadata": {},
   "source": [
    "Kita dapat menggunakan operator aritmatika jika kedua matriks berukuran sama. Numpy menaganninya sebagai position-wise operations"
   ]
  },
  {
   "cell_type": "code",
   "execution_count": 115,
   "id": "fe49f542",
   "metadata": {},
   "outputs": [
    {
     "name": "stdout",
     "output_type": "stream",
     "text": [
      "data\n"
     ]
    }
   ],
   "source": [
    "data = np.array([[1,2],[3,4]])\n",
    "print(\"data\")"
   ]
  },
  {
   "cell_type": "code",
   "execution_count": 116,
   "id": "62fb656f",
   "metadata": {},
   "outputs": [
    {
     "name": "stdout",
     "output_type": "stream",
     "text": [
      "[[1. 1.]\n",
      " [1. 1.]]\n"
     ]
    }
   ],
   "source": [
    "ones=np.ones([2,2])\n",
    "print(ones)"
   ]
  },
  {
   "cell_type": "code",
   "execution_count": 117,
   "id": "b2fe7b4e",
   "metadata": {},
   "outputs": [
    {
     "name": "stdout",
     "output_type": "stream",
     "text": [
      "[[2. 3.]\n",
      " [4. 5.]]\n"
     ]
    }
   ],
   "source": [
    "print(data+ones)"
   ]
  },
  {
   "cell_type": "code",
   "execution_count": 118,
   "id": "033ae4c4",
   "metadata": {},
   "outputs": [
    {
     "name": "stdout",
     "output_type": "stream",
     "text": [
      "[[1. 1.]]\n"
     ]
    }
   ],
   "source": [
    "ones_row=np.ones([1,2])\n",
    "print(ones_row)"
   ]
  },
  {
   "cell_type": "code",
   "execution_count": 119,
   "id": "f7492b8d",
   "metadata": {},
   "outputs": [
    {
     "name": "stdout",
     "output_type": "stream",
     "text": [
      "[[2. 3.]\n",
      " [4. 5.]]\n"
     ]
    }
   ],
   "source": [
    "print(data + ones_row)"
   ]
  },
  {
   "cell_type": "markdown",
   "id": "23eff50b",
   "metadata": {},
   "source": [
    "# Dot Product"
   ]
  },
  {
   "cell_type": "markdown",
   "id": "e92a8c6f",
   "metadata": {},
   "source": [
    "Numpy memberikan setiap matriks metode dot() untuk \n",
    "menjalankan operasi dot product dengan matriks lain"
   ]
  },
  {
   "cell_type": "code",
   "execution_count": 120,
   "id": "757befd8",
   "metadata": {},
   "outputs": [
    {
     "name": "stdout",
     "output_type": "stream",
     "text": [
      "[[1 2 3]\n",
      " [4 5 6]]\n",
      "(2, 3)\n"
     ]
    }
   ],
   "source": [
    "a_1 = np.array([[1,2,3],[4,5,6]])\n",
    "print(a_1)\n",
    "print(a_1.shape)"
   ]
  },
  {
   "cell_type": "code",
   "execution_count": 121,
   "id": "015ccc95",
   "metadata": {},
   "outputs": [
    {
     "name": "stdout",
     "output_type": "stream",
     "text": [
      "[[ 7  8]\n",
      " [ 9 10]\n",
      " [11 12]]\n",
      "(3, 2)\n"
     ]
    }
   ],
   "source": [
    "a_2 = np.array([[7,8],[9,10],[11,12]])\n",
    "print(a_2)\n",
    "print(a_2.shape)"
   ]
  },
  {
   "cell_type": "code",
   "execution_count": 122,
   "id": "944de2e2",
   "metadata": {},
   "outputs": [
    {
     "data": {
      "text/plain": [
       "array([[ 58,  64],\n",
       "       [139, 154]])"
      ]
     },
     "execution_count": 122,
     "metadata": {},
     "output_type": "execute_result"
    }
   ],
   "source": [
    "np.dot(a_1,a_2)"
   ]
  },
  {
   "cell_type": "markdown",
   "id": "c91421c0",
   "metadata": {},
   "source": [
    "# Matrix Indexing"
   ]
  },
  {
   "cell_type": "markdown",
   "id": "f1d38da1",
   "metadata": {},
   "source": [
    "Operais indexing dan slicing menjadi lebih berguna saat kita memanipulai matriks"
   ]
  },
  {
   "cell_type": "code",
   "execution_count": 123,
   "id": "d3040689",
   "metadata": {},
   "outputs": [],
   "source": [
    "data = np.array([[1,2],[3,4],[5,6]])"
   ]
  },
  {
   "cell_type": "code",
   "execution_count": 124,
   "id": "0162d378",
   "metadata": {},
   "outputs": [
    {
     "name": "stdout",
     "output_type": "stream",
     "text": [
      "[[1 2]\n",
      " [3 4]\n",
      " [5 6]]\n",
      "[1 2]\n",
      "[3 4]\n",
      "[5 6]\n",
      "2\n",
      "[[3 4]\n",
      " [5 6]]\n",
      "[2 4]\n"
     ]
    }
   ],
   "source": [
    "print(data)\n",
    "print(data[0])\n",
    "print(data[1])\n",
    "print(data[2])\n",
    "print( data[0,1])\n",
    "print(data[1:3])\n",
    "print(data[0:2,1])"
   ]
  },
  {
   "cell_type": "markdown",
   "id": "24a32086",
   "metadata": {},
   "source": [
    "# Matrix Aggregation"
   ]
  },
  {
   "cell_type": "code",
   "execution_count": 125,
   "id": "34bc6248",
   "metadata": {},
   "outputs": [
    {
     "name": "stdout",
     "output_type": "stream",
     "text": [
      "[[1 2]\n",
      " [3 4]\n",
      " [5 6]]\n"
     ]
    }
   ],
   "source": [
    "print(data)"
   ]
  },
  {
   "cell_type": "code",
   "execution_count": 126,
   "id": "c28407f8",
   "metadata": {},
   "outputs": [
    {
     "name": "stdout",
     "output_type": "stream",
     "text": [
      "6\n",
      "1\n",
      "21\n"
     ]
    }
   ],
   "source": [
    "print(data.max())\n",
    "print(data.min())\n",
    "print(data.sum())"
   ]
  },
  {
   "cell_type": "code",
   "execution_count": 127,
   "id": "f033aae3",
   "metadata": {},
   "outputs": [
    {
     "name": "stdout",
     "output_type": "stream",
     "text": [
      "[5 6]\n",
      "[2 4 6]\n"
     ]
    }
   ],
   "source": [
    "print(data.max(axis=0))\n",
    "print(data.max(axis=1))"
   ]
  },
  {
   "cell_type": "markdown",
   "id": "b3f68499",
   "metadata": {},
   "source": [
    "# Transposing and Reshaping"
   ]
  },
  {
   "cell_type": "markdown",
   "id": "22ef7fd7",
   "metadata": {},
   "source": [
    "Kebutuhan untuk rotate. Array numpy memiliki properti yang disebut T untuk mendapatkan transpose dari sebuah matriks"
   ]
  },
  {
   "cell_type": "code",
   "execution_count": 128,
   "id": "3c4bade3",
   "metadata": {},
   "outputs": [
    {
     "name": "stdout",
     "output_type": "stream",
     "text": [
      "[[1 2]\n",
      " [3 4]\n",
      " [5 6]]\n"
     ]
    }
   ],
   "source": [
    "print(data)"
   ]
  },
  {
   "cell_type": "code",
   "execution_count": 129,
   "id": "b6c4032e",
   "metadata": {},
   "outputs": [
    {
     "name": "stdout",
     "output_type": "stream",
     "text": [
      "[[1 3 5]\n",
      " [2 4 6]]\n"
     ]
    }
   ],
   "source": [
    "print(data.T)"
   ]
  },
  {
   "cell_type": "markdown",
   "id": "324973b1",
   "metadata": {},
   "source": [
    "Metode **reshape()** Numpy berguna mengganti dimensi matriks"
   ]
  },
  {
   "cell_type": "code",
   "execution_count": 130,
   "id": "a0852bf6",
   "metadata": {},
   "outputs": [
    {
     "name": "stdout",
     "output_type": "stream",
     "text": [
      "[[1]\n",
      " [2]\n",
      " [3]\n",
      " [4]\n",
      " [5]\n",
      " [6]]\n"
     ]
    }
   ],
   "source": [
    "data_col = np.array([[1,2,3,4,5,6]]).T\n",
    "print(data_col)"
   ]
  },
  {
   "cell_type": "code",
   "execution_count": 131,
   "id": "d13e2cc0",
   "metadata": {},
   "outputs": [
    {
     "name": "stdout",
     "output_type": "stream",
     "text": [
      "[[1 2 3]\n",
      " [4 5 6]]\n"
     ]
    }
   ],
   "source": [
    "print(data_col.reshape(2,3))"
   ]
  },
  {
   "cell_type": "code",
   "execution_count": 132,
   "id": "fa050a0d",
   "metadata": {},
   "outputs": [
    {
     "name": "stdout",
     "output_type": "stream",
     "text": [
      "[[1 2]\n",
      " [3 4]\n",
      " [5 6]]\n"
     ]
    }
   ],
   "source": [
    "print(data_col.reshape(3,2))"
   ]
  },
  {
   "cell_type": "markdown",
   "id": "97ae7346",
   "metadata": {},
   "source": [
    "Menggunakan **np.Transpose** untuk mengembalikan/ mengembalikangubah axes array sesuai dengan nilai yang kalian tentukan"
   ]
  },
  {
   "cell_type": "code",
   "execution_count": 134,
   "id": "6a0c53a3",
   "metadata": {},
   "outputs": [
    {
     "name": "stdout",
     "output_type": "stream",
     "text": [
      "[[0 1 2]\n",
      " [3 4 5]]\n"
     ]
    }
   ],
   "source": [
    "arr = np.arange(6).reshape((2,3))\n",
    "print(arr)"
   ]
  },
  {
   "cell_type": "markdown",
   "id": "31845b32",
   "metadata": {},
   "source": [
    "# N-Dimensional Array"
   ]
  },
  {
   "cell_type": "code",
   "execution_count": 135,
   "id": "b11e3510",
   "metadata": {},
   "outputs": [
    {
     "name": "stdout",
     "output_type": "stream",
     "text": [
      "[[[1 2]\n",
      "  [3 4]]\n",
      "\n",
      " [[5 6]\n",
      "  [7 8]]]\n"
     ]
    }
   ],
   "source": [
    "ndarr = np.array([[[1, 2],[3, 4]],\n",
    "                  [[5, 6],[7, 8]]])\n",
    "print(ndarr)\n"
   ]
  },
  {
   "cell_type": "markdown",
   "id": "787c7fe1",
   "metadata": {},
   "source": [
    "Menambahkan dimensi baru dengan koma ke parameter fungsi NumPy"
   ]
  },
  {
   "cell_type": "code",
   "execution_count": 136,
   "id": "e0283fb7",
   "metadata": {},
   "outputs": [
    {
     "name": "stdout",
     "output_type": "stream",
     "text": [
      "[[[1. 1.]\n",
      "  [1. 1.]\n",
      "  [1. 1.]]\n",
      "\n",
      " [[1. 1.]\n",
      "  [1. 1.]\n",
      "  [1. 1.]]\n",
      "\n",
      " [[1. 1.]\n",
      "  [1. 1.]\n",
      "  [1. 1.]]\n",
      "\n",
      " [[1. 1.]\n",
      "  [1. 1.]\n",
      "  [1. 1.]]]\n"
     ]
    }
   ],
   "source": [
    "print(np.ones((4,3,2)))"
   ]
  },
  {
   "cell_type": "code",
   "execution_count": 137,
   "id": "bdb08f96",
   "metadata": {},
   "outputs": [
    {
     "name": "stdout",
     "output_type": "stream",
     "text": [
      "[[[0. 0.]\n",
      "  [0. 0.]\n",
      "  [0. 0.]]\n",
      "\n",
      " [[0. 0.]\n",
      "  [0. 0.]\n",
      "  [0. 0.]]\n",
      "\n",
      " [[0. 0.]\n",
      "  [0. 0.]\n",
      "  [0. 0.]]\n",
      "\n",
      " [[0. 0.]\n",
      "  [0. 0.]\n",
      "  [0. 0.]]]\n"
     ]
    }
   ],
   "source": [
    "print(np.zeros((4,3,2)))"
   ]
  },
  {
   "cell_type": "code",
   "execution_count": 138,
   "id": "3207e452",
   "metadata": {},
   "outputs": [
    {
     "name": "stdout",
     "output_type": "stream",
     "text": [
      "[[[0.89708008 0.39140448]\n",
      "  [0.48056102 0.65195323]\n",
      "  [0.74922481 0.93743243]]\n",
      "\n",
      " [[0.25929416 0.40343994]\n",
      "  [0.34507807 0.88089292]\n",
      "  [0.27688395 0.82040402]]\n",
      "\n",
      " [[0.07122346 0.70056204]\n",
      "  [0.97257197 0.21743718]\n",
      "  [0.22748531 0.0735217 ]]\n",
      "\n",
      " [[0.22846357 0.49782816]\n",
      "  [0.01226557 0.56622885]\n",
      "  [0.8797948  0.78150639]]]\n"
     ]
    }
   ],
   "source": [
    "print(np.random.random((4,3,2)))"
   ]
  },
  {
   "cell_type": "markdown",
   "id": "09322b95",
   "metadata": {},
   "source": [
    "# Flatten N-Dimensional Array"
   ]
  },
  {
   "cell_type": "markdown",
   "id": "3cd4132b",
   "metadata": {},
   "source": [
    "Dua cara utama untuk meratakan array : **flatten()** dan **ravel()**. Perbedaan utama antara keudanya adalah bahwa array baru yang dibuat menggunakan ravel() sebenarnya merupakan refrensi ke array induk. ini berarti bahwa setiap perubahan pada array baru akan memepengaruhi array induk juga. karena ravel tidak membuat salinan, menghemat memori"
   ]
  },
  {
   "cell_type": "code",
   "execution_count": 139,
   "id": "bb09876e",
   "metadata": {},
   "outputs": [
    {
     "name": "stdout",
     "output_type": "stream",
     "text": [
      "[[ 1  2  3  4]\n",
      " [ 5  6  7  8]\n",
      " [ 9 10 11 12]]\n"
     ]
    }
   ],
   "source": [
    "arrflat = np.array([[1,2,3,4],[5,6,7,8],[9,10,11,12]])\n",
    "print(arrflat)\n"
   ]
  },
  {
   "cell_type": "code",
   "execution_count": 140,
   "id": "ceb0e1df",
   "metadata": {},
   "outputs": [
    {
     "data": {
      "text/plain": [
       "array([ 1,  2,  3,  4,  5,  6,  7,  8,  9, 10, 11, 12])"
      ]
     },
     "execution_count": 140,
     "metadata": {},
     "output_type": "execute_result"
    }
   ],
   "source": [
    "arrflat.flatten()"
   ]
  }
 ],
 "metadata": {
  "kernelspec": {
   "display_name": "Python 3 (ipykernel)",
   "language": "python",
   "name": "python3"
  },
  "language_info": {
   "codemirror_mode": {
    "name": "ipython",
    "version": 3
   },
   "file_extension": ".py",
   "mimetype": "text/x-python",
   "name": "python",
   "nbconvert_exporter": "python",
   "pygments_lexer": "ipython3",
   "version": "3.8.7"
  },
  "toc": {
   "base_numbering": 1,
   "nav_menu": {},
   "number_sections": true,
   "sideBar": true,
   "skip_h1_title": false,
   "title_cell": "Sesi 4",
   "title_sidebar": "Contents",
   "toc_cell": true,
   "toc_position": {
    "height": "calc(100% - 180px)",
    "left": "10px",
    "top": "150px",
    "width": "218.807px"
   },
   "toc_section_display": true,
   "toc_window_display": true
  }
 },
 "nbformat": 4,
 "nbformat_minor": 5
}
